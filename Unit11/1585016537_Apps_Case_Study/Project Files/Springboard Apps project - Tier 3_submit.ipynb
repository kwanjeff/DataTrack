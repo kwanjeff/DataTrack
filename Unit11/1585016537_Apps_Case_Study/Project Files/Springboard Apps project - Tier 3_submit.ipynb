{
 "cells": [
  {
   "cell_type": "markdown",
   "metadata": {
    "colab_type": "text",
    "id": "i2RUFW7TFcuh"
   },
   "source": [
    "# Springboard Apps project - Tier 3 - Complete\n",
    "\n",
    "Welcome to the Apps project! To give you a taste of your future career, we're going to walk through exactly the kind of notebook that you'd write as a data scientist. In the process, we'll be sure to signpost the general framework for our investigation - the Data Science Pipeline - as well as give reasons for why we're doing what we're doing. We're also going to apply some of the skills and knowledge you've built up in the previous unit when reading Professor Spiegelhalter's *The Art of Statistics* (hereinafter *AoS*). \n",
    "\n",
    "So let's get cracking!\n",
    "\n",
    "**Brief**\n",
    "\n",
    "Did Apple Store apps receive better reviews than Google Play apps?\n",
    "\n",
    "## Stages of the project\n",
    "\n",
    "1. Sourcing and loading \n",
    "    * Load the two datasets\n",
    "    * Pick the columns that we are going to work with \n",
    "    * Subsetting the data on this basis \n",
    " \n",
    " \n",
    "2. Cleaning, transforming and visualizing\n",
    "    * Check the data types and fix them\n",
    "    * Add a `platform` column to both the `Apple` and the `Google` dataframes\n",
    "    * Changing the column names to prepare for a join \n",
    "    * Join the two data sets\n",
    "    * Eliminate the `NaN` values\n",
    "    * Filter only those apps that have been reviewed at least once\n",
    "    * Summarize the data visually and analytically (by the column `platform`)  \n",
    "  \n",
    "  \n",
    "3. Modelling \n",
    "    * Hypothesis formulation\n",
    "    * Getting the distribution of the data\n",
    "    * Permutation test \n",
    "\n",
    "\n",
    "4. Evaluating and concluding \n",
    "    * What is our conclusion?\n",
    "    * What is our decision?\n",
    "    * Other models we could have used. \n",
    "    "
   ]
  },
  {
   "cell_type": "markdown",
   "metadata": {
    "colab_type": "text",
    "id": "QLUAXtl1Fcuk"
   },
   "source": [
    "## Importing the libraries\n",
    "\n",
    "In this case we are going to import pandas, numpy, scipy, random and matplotlib.pyplot"
   ]
  },
  {
   "cell_type": "code",
   "execution_count": 1,
   "metadata": {
    "colab": {},
    "colab_type": "code",
    "id": "XeXJOlGiFcum"
   },
   "outputs": [],
   "source": [
    "import pandas as pd\n",
    "import numpy as np\n",
    "import matplotlib.pyplot as plt\n",
    "# scipi is a library for statistical tests and visualizations \n",
    "from scipy import stats\n",
    "# random enables us to generate random numbers\n",
    "import random"
   ]
  },
  {
   "cell_type": "markdown",
   "metadata": {
    "colab_type": "text",
    "id": "zVD7NlPAFcup"
   },
   "source": [
    "## Stage 1 -  Sourcing and loading data"
   ]
  },
  {
   "cell_type": "markdown",
   "metadata": {
    "colab_type": "text",
    "id": "KU8bdbImFcuq"
   },
   "source": [
    "### 1a. Source and load the data\n",
    "Let's download the data from Kaggle. Kaggle is a fantastic resource: a kind of social medium for data scientists, it boasts projects, datasets and news on the freshest libraries and technologies all in one place. The data from the Apple Store can be found [here](https://www.kaggle.com/ramamet4/app-store-apple-data-set-10k-apps) and the data from Google Store can be found [here](https://www.kaggle.com/lava18/google-play-store-apps).\n",
    "Download the datasets and save them in your working directory."
   ]
  },
  {
   "cell_type": "code",
   "execution_count": 2,
   "metadata": {
    "colab": {},
    "colab_type": "code",
    "id": "laM1PB76Fcur"
   },
   "outputs": [
    {
     "data": {
      "text/html": [
       "<div>\n",
       "<style scoped>\n",
       "    .dataframe tbody tr th:only-of-type {\n",
       "        vertical-align: middle;\n",
       "    }\n",
       "\n",
       "    .dataframe tbody tr th {\n",
       "        vertical-align: top;\n",
       "    }\n",
       "\n",
       "    .dataframe thead th {\n",
       "        text-align: right;\n",
       "    }\n",
       "</style>\n",
       "<table border=\"1\" class=\"dataframe\">\n",
       "  <thead>\n",
       "    <tr style=\"text-align: right;\">\n",
       "      <th></th>\n",
       "      <th>App</th>\n",
       "      <th>Category</th>\n",
       "      <th>Rating</th>\n",
       "      <th>Reviews</th>\n",
       "      <th>Size</th>\n",
       "      <th>Installs</th>\n",
       "      <th>Type</th>\n",
       "      <th>Price</th>\n",
       "      <th>Content Rating</th>\n",
       "      <th>Genres</th>\n",
       "      <th>Last Updated</th>\n",
       "      <th>Current Ver</th>\n",
       "      <th>Android Ver</th>\n",
       "    </tr>\n",
       "  </thead>\n",
       "  <tbody>\n",
       "    <tr>\n",
       "      <th>0</th>\n",
       "      <td>Photo Editor &amp; Candy Camera &amp; Grid &amp; ScrapBook</td>\n",
       "      <td>ART_AND_DESIGN</td>\n",
       "      <td>4.1</td>\n",
       "      <td>159</td>\n",
       "      <td>19M</td>\n",
       "      <td>10,000+</td>\n",
       "      <td>Free</td>\n",
       "      <td>0</td>\n",
       "      <td>Everyone</td>\n",
       "      <td>Art &amp; Design</td>\n",
       "      <td>January 7, 2018</td>\n",
       "      <td>1.0.0</td>\n",
       "      <td>4.0.3 and up</td>\n",
       "    </tr>\n",
       "    <tr>\n",
       "      <th>1</th>\n",
       "      <td>Coloring book moana</td>\n",
       "      <td>ART_AND_DESIGN</td>\n",
       "      <td>3.9</td>\n",
       "      <td>967</td>\n",
       "      <td>14M</td>\n",
       "      <td>500,000+</td>\n",
       "      <td>Free</td>\n",
       "      <td>0</td>\n",
       "      <td>Everyone</td>\n",
       "      <td>Art &amp; Design;Pretend Play</td>\n",
       "      <td>January 15, 2018</td>\n",
       "      <td>2.0.0</td>\n",
       "      <td>4.0.3 and up</td>\n",
       "    </tr>\n",
       "    <tr>\n",
       "      <th>2</th>\n",
       "      <td>U Launcher Lite – FREE Live Cool Themes, Hide ...</td>\n",
       "      <td>ART_AND_DESIGN</td>\n",
       "      <td>4.7</td>\n",
       "      <td>87510</td>\n",
       "      <td>8.7M</td>\n",
       "      <td>5,000,000+</td>\n",
       "      <td>Free</td>\n",
       "      <td>0</td>\n",
       "      <td>Everyone</td>\n",
       "      <td>Art &amp; Design</td>\n",
       "      <td>August 1, 2018</td>\n",
       "      <td>1.2.4</td>\n",
       "      <td>4.0.3 and up</td>\n",
       "    </tr>\n",
       "  </tbody>\n",
       "</table>\n",
       "</div>"
      ],
      "text/plain": [
       "                                                 App        Category  Rating  \\\n",
       "0     Photo Editor & Candy Camera & Grid & ScrapBook  ART_AND_DESIGN     4.1   \n",
       "1                                Coloring book moana  ART_AND_DESIGN     3.9   \n",
       "2  U Launcher Lite – FREE Live Cool Themes, Hide ...  ART_AND_DESIGN     4.7   \n",
       "\n",
       "  Reviews  Size    Installs  Type Price Content Rating  \\\n",
       "0     159   19M     10,000+  Free     0       Everyone   \n",
       "1     967   14M    500,000+  Free     0       Everyone   \n",
       "2   87510  8.7M  5,000,000+  Free     0       Everyone   \n",
       "\n",
       "                      Genres      Last Updated Current Ver   Android Ver  \n",
       "0               Art & Design   January 7, 2018       1.0.0  4.0.3 and up  \n",
       "1  Art & Design;Pretend Play  January 15, 2018       2.0.0  4.0.3 and up  \n",
       "2               Art & Design    August 1, 2018       1.2.4  4.0.3 and up  "
      ]
     },
     "execution_count": 2,
     "metadata": {},
     "output_type": "execute_result"
    }
   ],
   "source": [
    "# Now that the files are saved, we want to load them into Python using read_csv and pandas.\n",
    "\n",
    "# Create a variable called google, and store in it the path of the csv file that contains your google dataset. \n",
    "# If your dataset is in the same folder as this notebook, the path will simply be the name of the file. \n",
    "google='googleplaystore.csv'\n",
    "\n",
    "# Read the csv file into a data frame called Google using the read_csv() pandas method.\n",
    "Google=pd.read_csv(r'googleplaystore.csv')\n",
    "\n",
    "# Using the head() pandas method, observe the first three entries.\n",
    "\n",
    "Google.head(3)"
   ]
  },
  {
   "cell_type": "code",
   "execution_count": 3,
   "metadata": {
    "colab": {},
    "colab_type": "code",
    "id": "3AW8EA1wFcuu"
   },
   "outputs": [
    {
     "data": {
      "text/html": [
       "<div>\n",
       "<style scoped>\n",
       "    .dataframe tbody tr th:only-of-type {\n",
       "        vertical-align: middle;\n",
       "    }\n",
       "\n",
       "    .dataframe tbody tr th {\n",
       "        vertical-align: top;\n",
       "    }\n",
       "\n",
       "    .dataframe thead th {\n",
       "        text-align: right;\n",
       "    }\n",
       "</style>\n",
       "<table border=\"1\" class=\"dataframe\">\n",
       "  <thead>\n",
       "    <tr style=\"text-align: right;\">\n",
       "      <th></th>\n",
       "      <th>Unnamed: 0</th>\n",
       "      <th>id</th>\n",
       "      <th>track_name</th>\n",
       "      <th>size_bytes</th>\n",
       "      <th>currency</th>\n",
       "      <th>price</th>\n",
       "      <th>rating_count_tot</th>\n",
       "      <th>rating_count_ver</th>\n",
       "      <th>user_rating</th>\n",
       "      <th>user_rating_ver</th>\n",
       "      <th>ver</th>\n",
       "      <th>cont_rating</th>\n",
       "      <th>prime_genre</th>\n",
       "      <th>sup_devices.num</th>\n",
       "      <th>ipadSc_urls.num</th>\n",
       "      <th>lang.num</th>\n",
       "      <th>vpp_lic</th>\n",
       "    </tr>\n",
       "  </thead>\n",
       "  <tbody>\n",
       "    <tr>\n",
       "      <th>0</th>\n",
       "      <td>1</td>\n",
       "      <td>281656475</td>\n",
       "      <td>PAC-MAN Premium</td>\n",
       "      <td>100788224</td>\n",
       "      <td>USD</td>\n",
       "      <td>3.99</td>\n",
       "      <td>21292</td>\n",
       "      <td>26</td>\n",
       "      <td>4.0</td>\n",
       "      <td>4.5</td>\n",
       "      <td>6.3.5</td>\n",
       "      <td>4+</td>\n",
       "      <td>Games</td>\n",
       "      <td>38</td>\n",
       "      <td>5</td>\n",
       "      <td>10</td>\n",
       "      <td>1</td>\n",
       "    </tr>\n",
       "    <tr>\n",
       "      <th>1</th>\n",
       "      <td>2</td>\n",
       "      <td>281796108</td>\n",
       "      <td>Evernote - stay organized</td>\n",
       "      <td>158578688</td>\n",
       "      <td>USD</td>\n",
       "      <td>0.00</td>\n",
       "      <td>161065</td>\n",
       "      <td>26</td>\n",
       "      <td>4.0</td>\n",
       "      <td>3.5</td>\n",
       "      <td>8.2.2</td>\n",
       "      <td>4+</td>\n",
       "      <td>Productivity</td>\n",
       "      <td>37</td>\n",
       "      <td>5</td>\n",
       "      <td>23</td>\n",
       "      <td>1</td>\n",
       "    </tr>\n",
       "    <tr>\n",
       "      <th>2</th>\n",
       "      <td>3</td>\n",
       "      <td>281940292</td>\n",
       "      <td>WeatherBug - Local Weather, Radar, Maps, Alerts</td>\n",
       "      <td>100524032</td>\n",
       "      <td>USD</td>\n",
       "      <td>0.00</td>\n",
       "      <td>188583</td>\n",
       "      <td>2822</td>\n",
       "      <td>3.5</td>\n",
       "      <td>4.5</td>\n",
       "      <td>5.0.0</td>\n",
       "      <td>4+</td>\n",
       "      <td>Weather</td>\n",
       "      <td>37</td>\n",
       "      <td>5</td>\n",
       "      <td>3</td>\n",
       "      <td>1</td>\n",
       "    </tr>\n",
       "  </tbody>\n",
       "</table>\n",
       "</div>"
      ],
      "text/plain": [
       "   Unnamed: 0         id                                       track_name  \\\n",
       "0           1  281656475                                  PAC-MAN Premium   \n",
       "1           2  281796108                        Evernote - stay organized   \n",
       "2           3  281940292  WeatherBug - Local Weather, Radar, Maps, Alerts   \n",
       "\n",
       "   size_bytes currency  price  rating_count_tot  rating_count_ver  \\\n",
       "0   100788224      USD   3.99             21292                26   \n",
       "1   158578688      USD   0.00            161065                26   \n",
       "2   100524032      USD   0.00            188583              2822   \n",
       "\n",
       "   user_rating  user_rating_ver    ver cont_rating   prime_genre  \\\n",
       "0          4.0              4.5  6.3.5          4+         Games   \n",
       "1          4.0              3.5  8.2.2          4+  Productivity   \n",
       "2          3.5              4.5  5.0.0          4+       Weather   \n",
       "\n",
       "   sup_devices.num  ipadSc_urls.num  lang.num  vpp_lic  \n",
       "0               38                5        10        1  \n",
       "1               37                5        23        1  \n",
       "2               37                5         3        1  "
      ]
     },
     "execution_count": 3,
     "metadata": {},
     "output_type": "execute_result"
    }
   ],
   "source": [
    "# Create a variable called apple, and store in it the path of the csv file that contains your apple dataset. \n",
    "apple='AppleStore.csv'\n",
    "\n",
    "# Read the csv file into a pandas DataFrame object called Apple.\n",
    "Apple=pd.read_csv(r'AppleStore.csv')\n",
    "\n",
    "# Observe the first three entries like you did with your other data. \n",
    "Apple.head(3)"
   ]
  },
  {
   "cell_type": "markdown",
   "metadata": {
    "colab_type": "text",
    "id": "vljOHKNTFcuw"
   },
   "source": [
    "### 1b. Pick the columns we'll work with\n",
    "\n",
    "From the documentation of these datasets, we can infer that the most appropriate columns to answer the brief are:\n",
    "\n",
    "1. Google:\n",
    "    * `Category` # Do we need this?\n",
    "    * `Rating`\n",
    "    * `Reviews`\n",
    "    * `Price` (maybe)\n",
    "2. Apple:    \n",
    "    * `prime_genre` # Do we need this?\n",
    "    * `user_rating` \n",
    "    * `rating_count_tot`\n",
    "    * `price` (maybe)"
   ]
  },
  {
   "cell_type": "markdown",
   "metadata": {
    "colab_type": "text",
    "id": "uf69AeTvFcux"
   },
   "source": [
    "### 1c. Subsetting accordingly\n",
    "\n",
    "Let's select only those columns that we want to work with from both datasets. We'll overwrite the subsets in the original variables."
   ]
  },
  {
   "cell_type": "code",
   "execution_count": 4,
   "metadata": {
    "colab": {},
    "colab_type": "code",
    "id": "LNSDXyjdFcuy"
   },
   "outputs": [
    {
     "data": {
      "text/html": [
       "<div>\n",
       "<style scoped>\n",
       "    .dataframe tbody tr th:only-of-type {\n",
       "        vertical-align: middle;\n",
       "    }\n",
       "\n",
       "    .dataframe tbody tr th {\n",
       "        vertical-align: top;\n",
       "    }\n",
       "\n",
       "    .dataframe thead th {\n",
       "        text-align: right;\n",
       "    }\n",
       "</style>\n",
       "<table border=\"1\" class=\"dataframe\">\n",
       "  <thead>\n",
       "    <tr style=\"text-align: right;\">\n",
       "      <th></th>\n",
       "      <th>Category</th>\n",
       "      <th>Rating</th>\n",
       "      <th>Reviews</th>\n",
       "      <th>Price</th>\n",
       "    </tr>\n",
       "  </thead>\n",
       "  <tbody>\n",
       "    <tr>\n",
       "      <th>0</th>\n",
       "      <td>ART_AND_DESIGN</td>\n",
       "      <td>4.1</td>\n",
       "      <td>159</td>\n",
       "      <td>0</td>\n",
       "    </tr>\n",
       "    <tr>\n",
       "      <th>1</th>\n",
       "      <td>ART_AND_DESIGN</td>\n",
       "      <td>3.9</td>\n",
       "      <td>967</td>\n",
       "      <td>0</td>\n",
       "    </tr>\n",
       "    <tr>\n",
       "      <th>2</th>\n",
       "      <td>ART_AND_DESIGN</td>\n",
       "      <td>4.7</td>\n",
       "      <td>87510</td>\n",
       "      <td>0</td>\n",
       "    </tr>\n",
       "  </tbody>\n",
       "</table>\n",
       "</div>"
      ],
      "text/plain": [
       "         Category  Rating Reviews Price\n",
       "0  ART_AND_DESIGN     4.1     159     0\n",
       "1  ART_AND_DESIGN     3.9     967     0\n",
       "2  ART_AND_DESIGN     4.7   87510     0"
      ]
     },
     "execution_count": 4,
     "metadata": {},
     "output_type": "execute_result"
    }
   ],
   "source": [
    "# Subset our DataFrame object Google by selecting just the variables ['Category', 'Rating', 'Reviews', 'Price']\n",
    "Google_sub=Google[['Category','Rating','Reviews','Price']]\n",
    "\n",
    "# Check the first three entries\n",
    "Google_sub.head(3)"
   ]
  },
  {
   "cell_type": "code",
   "execution_count": 5,
   "metadata": {
    "colab": {},
    "colab_type": "code",
    "id": "AVCtENPtFcu0"
   },
   "outputs": [
    {
     "data": {
      "text/html": [
       "<div>\n",
       "<style scoped>\n",
       "    .dataframe tbody tr th:only-of-type {\n",
       "        vertical-align: middle;\n",
       "    }\n",
       "\n",
       "    .dataframe tbody tr th {\n",
       "        vertical-align: top;\n",
       "    }\n",
       "\n",
       "    .dataframe thead th {\n",
       "        text-align: right;\n",
       "    }\n",
       "</style>\n",
       "<table border=\"1\" class=\"dataframe\">\n",
       "  <thead>\n",
       "    <tr style=\"text-align: right;\">\n",
       "      <th></th>\n",
       "      <th>prime_genre</th>\n",
       "      <th>user_rating</th>\n",
       "      <th>rating_count_tot</th>\n",
       "      <th>price</th>\n",
       "    </tr>\n",
       "  </thead>\n",
       "  <tbody>\n",
       "    <tr>\n",
       "      <th>0</th>\n",
       "      <td>Games</td>\n",
       "      <td>4.0</td>\n",
       "      <td>21292</td>\n",
       "      <td>3.99</td>\n",
       "    </tr>\n",
       "    <tr>\n",
       "      <th>1</th>\n",
       "      <td>Productivity</td>\n",
       "      <td>4.0</td>\n",
       "      <td>161065</td>\n",
       "      <td>0.00</td>\n",
       "    </tr>\n",
       "    <tr>\n",
       "      <th>2</th>\n",
       "      <td>Weather</td>\n",
       "      <td>3.5</td>\n",
       "      <td>188583</td>\n",
       "      <td>0.00</td>\n",
       "    </tr>\n",
       "  </tbody>\n",
       "</table>\n",
       "</div>"
      ],
      "text/plain": [
       "    prime_genre  user_rating  rating_count_tot  price\n",
       "0         Games          4.0             21292   3.99\n",
       "1  Productivity          4.0            161065   0.00\n",
       "2       Weather          3.5            188583   0.00"
      ]
     },
     "execution_count": 5,
     "metadata": {},
     "output_type": "execute_result"
    }
   ],
   "source": [
    "# Do the same with our Apple object, selecting just the variables ['prime_genre', 'user_rating', 'rating_count_tot', 'price']\n",
    "Apple_sub=Apple[['prime_genre', 'user_rating', 'rating_count_tot', 'price']]\n",
    "\n",
    "# Let's check the first three entries\n",
    "Apple_sub.head(3)"
   ]
  },
  {
   "cell_type": "markdown",
   "metadata": {
    "colab_type": "text",
    "id": "wwK2wH-rFcu2"
   },
   "source": [
    "## Stage 2 -  Cleaning, transforming and visualizing"
   ]
  },
  {
   "cell_type": "markdown",
   "metadata": {
    "colab_type": "text",
    "id": "NsoE5x0JFcu3"
   },
   "source": [
    "### 2a. Check the data types for both Apple and Google, and fix them\n",
    "\n",
    "Types are crucial for data science in Python. Let's determine whether the variables we selected in the previous section belong to the types they should do, or whether there are any errors here. "
   ]
  },
  {
   "cell_type": "code",
   "execution_count": 6,
   "metadata": {
    "colab": {},
    "colab_type": "code",
    "id": "ymw10SaWFcu4"
   },
   "outputs": [
    {
     "data": {
      "text/plain": [
       "prime_genre          object\n",
       "user_rating         float64\n",
       "rating_count_tot      int64\n",
       "price               float64\n",
       "dtype: object"
      ]
     },
     "execution_count": 6,
     "metadata": {},
     "output_type": "execute_result"
    }
   ],
   "source": [
    "# Using the dtypes feature of pandas DataFrame objects, check out the data types within our Apple dataframe.\n",
    "# Are they what you expect?\n",
    "Apple_sub.dtypes"
   ]
  },
  {
   "cell_type": "markdown",
   "metadata": {
    "colab_type": "text",
    "id": "VAiM6jIxFcu6"
   },
   "source": [
    "This is looking healthy. But what about our Google data frame?"
   ]
  },
  {
   "cell_type": "code",
   "execution_count": 7,
   "metadata": {
    "colab": {},
    "colab_type": "code",
    "id": "kmP8MhqyFcu7"
   },
   "outputs": [
    {
     "data": {
      "text/plain": [
       "Category     object\n",
       "Rating      float64\n",
       "Reviews      object\n",
       "Price        object\n",
       "dtype: object"
      ]
     },
     "execution_count": 7,
     "metadata": {},
     "output_type": "execute_result"
    }
   ],
   "source": [
    "# Using the same dtypes feature, check out the data types of our Google dataframe. \n",
    "Google_sub.dtypes"
   ]
  },
  {
   "cell_type": "markdown",
   "metadata": {
    "colab_type": "text",
    "id": "O-dxAy0WFcu9"
   },
   "source": [
    "Weird. The data type for the column 'Price' is 'object', not a numeric data type like a float or an integer. Let's investigate the unique values of this column. "
   ]
  },
  {
   "cell_type": "code",
   "execution_count": 8,
   "metadata": {
    "colab": {},
    "colab_type": "code",
    "id": "Hu08K9y7Fcu9"
   },
   "outputs": [
    {
     "data": {
      "text/plain": [
       "array(['0', '$4.99', '$3.99', '$6.99', '$1.49', '$2.99', '$7.99', '$5.99',\n",
       "       '$3.49', '$1.99', '$9.99', '$7.49', '$0.99', '$9.00', '$5.49',\n",
       "       '$10.00', '$24.99', '$11.99', '$79.99', '$16.99', '$14.99',\n",
       "       '$1.00', '$29.99', '$12.99', '$2.49', '$10.99', '$1.50', '$19.99',\n",
       "       '$15.99', '$33.99', '$74.99', '$39.99', '$3.95', '$4.49', '$1.70',\n",
       "       '$8.99', '$2.00', '$3.88', '$25.99', '$399.99', '$17.99',\n",
       "       '$400.00', '$3.02', '$1.76', '$4.84', '$4.77', '$1.61', '$2.50',\n",
       "       '$1.59', '$6.49', '$1.29', '$5.00', '$13.99', '$299.99', '$379.99',\n",
       "       '$37.99', '$18.99', '$389.99', '$19.90', '$8.49', '$1.75',\n",
       "       '$14.00', '$4.85', '$46.99', '$109.99', '$154.99', '$3.08',\n",
       "       '$2.59', '$4.80', '$1.96', '$19.40', '$3.90', '$4.59', '$15.46',\n",
       "       '$3.04', '$4.29', '$2.60', '$3.28', '$4.60', '$28.99', '$2.95',\n",
       "       '$2.90', '$1.97', '$200.00', '$89.99', '$2.56', '$30.99', '$3.61',\n",
       "       '$394.99', '$1.26', 'Everyone', '$1.20', '$1.04'], dtype=object)"
      ]
     },
     "execution_count": 8,
     "metadata": {},
     "output_type": "execute_result"
    }
   ],
   "source": [
    "# Use the unique() pandas method on the Price column to check its unique values. \n",
    "Google_sub['Price'].unique()"
   ]
  },
  {
   "cell_type": "markdown",
   "metadata": {
    "colab_type": "text",
    "id": "w_7nkogFFcu_"
   },
   "source": [
    "Aha! Fascinating. There are actually two issues here. \n",
    "\n",
    "- Firstly, there's a price called `Everyone`. That is a massive mistake! \n",
    "- Secondly, there are dollar symbols everywhere! \n",
    "\n",
    "\n",
    "Let's address the first issue first. Let's check the datapoints that have the price value `Everyone`"
   ]
  },
  {
   "cell_type": "code",
   "execution_count": 9,
   "metadata": {
    "colab": {},
    "colab_type": "code",
    "id": "E75WWmhdFcvA"
   },
   "outputs": [
    {
     "data": {
      "text/html": [
       "<div>\n",
       "<style scoped>\n",
       "    .dataframe tbody tr th:only-of-type {\n",
       "        vertical-align: middle;\n",
       "    }\n",
       "\n",
       "    .dataframe tbody tr th {\n",
       "        vertical-align: top;\n",
       "    }\n",
       "\n",
       "    .dataframe thead th {\n",
       "        text-align: right;\n",
       "    }\n",
       "</style>\n",
       "<table border=\"1\" class=\"dataframe\">\n",
       "  <thead>\n",
       "    <tr style=\"text-align: right;\">\n",
       "      <th></th>\n",
       "      <th>Category</th>\n",
       "      <th>Rating</th>\n",
       "      <th>Reviews</th>\n",
       "      <th>Price</th>\n",
       "    </tr>\n",
       "  </thead>\n",
       "  <tbody>\n",
       "    <tr>\n",
       "      <th>10472</th>\n",
       "      <td>1.9</td>\n",
       "      <td>19.0</td>\n",
       "      <td>3.0M</td>\n",
       "      <td>Everyone</td>\n",
       "    </tr>\n",
       "  </tbody>\n",
       "</table>\n",
       "</div>"
      ],
      "text/plain": [
       "      Category  Rating Reviews     Price\n",
       "10472      1.9    19.0    3.0M  Everyone"
      ]
     },
     "execution_count": 9,
     "metadata": {},
     "output_type": "execute_result"
    }
   ],
   "source": [
    "# Let's check which data points have the value 'Everyone' for the 'Price' column by subsetting our Google dataframe.\n",
    "Google_Price =Google_sub[Google_sub['Price']=='Everyone']\n",
    "# Subset the Google dataframe on the price column. \n",
    "# To be sure: you want to pick out just those rows whose value for the 'Price' column is just 'Everyone'. \n",
    "Google_Price"
   ]
  },
  {
   "cell_type": "markdown",
   "metadata": {
    "colab_type": "text",
    "id": "ezfLshdRFcvC"
   },
   "source": [
    "Thankfully, it's just one row. We've gotta get rid of it. "
   ]
  },
  {
   "cell_type": "code",
   "execution_count": 10,
   "metadata": {
    "colab": {},
    "colab_type": "code",
    "id": "DBmjUQUkFcvD"
   },
   "outputs": [
    {
     "data": {
      "text/plain": [
       "array(['0', '$4.99', '$3.99', '$6.99', '$1.49', '$2.99', '$7.99', '$5.99',\n",
       "       '$3.49', '$1.99', '$9.99', '$7.49', '$0.99', '$9.00', '$5.49',\n",
       "       '$10.00', '$24.99', '$11.99', '$79.99', '$16.99', '$14.99',\n",
       "       '$1.00', '$29.99', '$12.99', '$2.49', '$10.99', '$1.50', '$19.99',\n",
       "       '$15.99', '$33.99', '$74.99', '$39.99', '$3.95', '$4.49', '$1.70',\n",
       "       '$8.99', '$2.00', '$3.88', '$25.99', '$399.99', '$17.99',\n",
       "       '$400.00', '$3.02', '$1.76', '$4.84', '$4.77', '$1.61', '$2.50',\n",
       "       '$1.59', '$6.49', '$1.29', '$5.00', '$13.99', '$299.99', '$379.99',\n",
       "       '$37.99', '$18.99', '$389.99', '$19.90', '$8.49', '$1.75',\n",
       "       '$14.00', '$4.85', '$46.99', '$109.99', '$154.99', '$3.08',\n",
       "       '$2.59', '$4.80', '$1.96', '$19.40', '$3.90', '$4.59', '$15.46',\n",
       "       '$3.04', '$4.29', '$2.60', '$3.28', '$4.60', '$28.99', '$2.95',\n",
       "       '$2.90', '$1.97', '$200.00', '$89.99', '$2.56', '$30.99', '$3.61',\n",
       "       '$394.99', '$1.26', '$1.20', '$1.04'], dtype=object)"
      ]
     },
     "execution_count": 10,
     "metadata": {},
     "output_type": "execute_result"
    }
   ],
   "source": [
    "# Let's eliminate that row. \n",
    "\n",
    "# Subset our Google dataframe to pick out just those rows whose value for the 'Price' column is NOT 'Everyone'. \n",
    "# Reassign that subset to the Google variable. \n",
    "# You can do this in two lines or one. Your choice! \n",
    "Google_Price2 =Google_sub[Google_sub['Price']!='Everyone']\n",
    "\n",
    "# Check again the unique values of Google\n",
    "Google_Price2['Price'].unique()"
   ]
  },
  {
   "cell_type": "markdown",
   "metadata": {
    "colab_type": "text",
    "id": "T43TB4qFFcvF"
   },
   "source": [
    "Our second problem remains: I'm seeing dollar symbols when I close my eyes! (And not in a good way). \n",
    "\n",
    "This is a problem because Python actually considers these values strings. So we can't do mathematical and statistical operations on them until we've made them into numbers. "
   ]
  },
  {
   "cell_type": "code",
   "execution_count": 11,
   "metadata": {
    "colab": {},
    "colab_type": "code",
    "id": "W87gVS9BFcvG"
   },
   "outputs": [
    {
     "name": "stderr",
     "output_type": "stream",
     "text": [
      "<ipython-input-11-2a6b4c2f4d43>:3: SettingWithCopyWarning: \n",
      "A value is trying to be set on a copy of a slice from a DataFrame.\n",
      "Try using .loc[row_indexer,col_indexer] = value instead\n",
      "\n",
      "See the caveats in the documentation: https://pandas.pydata.org/pandas-docs/stable/user_guide/indexing.html#returning-a-view-versus-a-copy\n",
      "  Google_Price2['Price']=Google_Price2['Price'].str.replace('$','',regex=True)\n",
      "<ipython-input-11-2a6b4c2f4d43>:10: SettingWithCopyWarning: \n",
      "A value is trying to be set on a copy of a slice from a DataFrame.\n",
      "Try using .loc[row_indexer,col_indexer] = value instead\n",
      "\n",
      "See the caveats in the documentation: https://pandas.pydata.org/pandas-docs/stable/user_guide/indexing.html#returning-a-view-versus-a-copy\n",
      "  Google_Price2['Price'] = pd.to_numeric(Google_Price2['Price'])\n"
     ]
    }
   ],
   "source": [
    "# Let's create a variable called nosymb.\n",
    "# This variable will take the Price column of Google and apply the str.replace() method. \n",
    "Google_Price2['Price']=Google_Price2['Price'].str.replace('$','',regex=True)\n",
    "\n",
    "#Google_Price2['Price'].uniques\n",
    "# Now we need to do two things:\n",
    "# i. Make the values in the nosymb variable numeric using the to_numeric() pandas method.\n",
    "# ii. Assign this new set of numeric, dollar-sign-less values to Google['Price']. \n",
    "# You can do this in one line if you wish.\n",
    "Google_Price2['Price'] = pd.to_numeric(Google_Price2['Price'])"
   ]
  },
  {
   "cell_type": "markdown",
   "metadata": {
    "colab_type": "text",
    "id": "LxpJQ9yyFcvI"
   },
   "source": [
    "Now let's check the data types for our Google dataframe again, to verify that the 'Price' column really is numeric now."
   ]
  },
  {
   "cell_type": "code",
   "execution_count": 12,
   "metadata": {
    "colab": {},
    "colab_type": "code",
    "id": "Fn5Gt-QbFcvI"
   },
   "outputs": [
    {
     "data": {
      "text/plain": [
       "Category     object\n",
       "Rating      float64\n",
       "Reviews      object\n",
       "Price       float64\n",
       "dtype: object"
      ]
     },
     "execution_count": 12,
     "metadata": {},
     "output_type": "execute_result"
    }
   ],
   "source": [
    "# Use the function dtypes. \n",
    "Google_Price2.dtypes"
   ]
  },
  {
   "cell_type": "code",
   "execution_count": 13,
   "metadata": {},
   "outputs": [
    {
     "data": {
      "text/plain": [
       "array(['159', '967', '87510', ..., '603', '1195', '398307'], dtype=object)"
      ]
     },
     "execution_count": 13,
     "metadata": {},
     "output_type": "execute_result"
    }
   ],
   "source": [
    "\n",
    "#sample looks like all number so will try to use pd.to_numeric directly \n",
    "Google_Price2['Reviews'].unique()"
   ]
  },
  {
   "cell_type": "markdown",
   "metadata": {
    "colab_type": "text",
    "id": "FgfuiVo0FcvK"
   },
   "source": [
    "Notice that the column `Reviews` is still an object column. We actually need this column to be a numeric column, too. "
   ]
  },
  {
   "cell_type": "code",
   "execution_count": 14,
   "metadata": {
    "colab": {},
    "colab_type": "code",
    "id": "MiVEWsWBFcvL"
   },
   "outputs": [
    {
     "name": "stderr",
     "output_type": "stream",
     "text": [
      "<ipython-input-14-aa9b1a388031>:2: SettingWithCopyWarning: \n",
      "A value is trying to be set on a copy of a slice from a DataFrame.\n",
      "Try using .loc[row_indexer,col_indexer] = value instead\n",
      "\n",
      "See the caveats in the documentation: https://pandas.pydata.org/pandas-docs/stable/user_guide/indexing.html#returning-a-view-versus-a-copy\n",
      "  Google_Price2['Reviews'] = pd.to_numeric(Google_Price2['Reviews'])\n"
     ]
    }
   ],
   "source": [
    "# Convert the 'Reviews' column to a numeric data type. \n",
    "Google_Price2['Reviews'] = pd.to_numeric(Google_Price2['Reviews'])"
   ]
  },
  {
   "cell_type": "code",
   "execution_count": 15,
   "metadata": {
    "colab": {},
    "colab_type": "code",
    "id": "wWJdXXTTFcvN"
   },
   "outputs": [
    {
     "data": {
      "text/plain": [
       "Category     object\n",
       "Rating      float64\n",
       "Reviews       int64\n",
       "Price       float64\n",
       "dtype: object"
      ]
     },
     "execution_count": 15,
     "metadata": {},
     "output_type": "execute_result"
    }
   ],
   "source": [
    "# Let's check the data types of Google again\n",
    "Google_Price2.dtypes"
   ]
  },
  {
   "cell_type": "code",
   "execution_count": 16,
   "metadata": {},
   "outputs": [],
   "source": [
    "#Renaming Google_Price2 (4 columns) back to Google variable\n",
    "Google = Google_Price2\n",
    "#Rename Apple_sub (4 columns) back to apple\n",
    "Apple = Apple_sub"
   ]
  },
  {
   "cell_type": "markdown",
   "metadata": {
    "colab_type": "text",
    "id": "OiLm2GEKFcvP"
   },
   "source": [
    "### 2b. Add a `platform` column to both the `Apple` and the `Google` dataframes\n",
    "Let's add a new column to both dataframe objects called `platform`: all of its values in the Google dataframe will be just 'google', and all of its values for the Apple dataframe will be just 'apple'. \n",
    "\n",
    "The reason we're making this column is so that we can ultimately join our Apple and Google data together, and actually test out some hypotheses to solve the problem in our brief. "
   ]
  },
  {
   "cell_type": "code",
   "execution_count": 17,
   "metadata": {
    "colab": {},
    "colab_type": "code",
    "id": "mF-sOcx2FcvQ"
   },
   "outputs": [
    {
     "name": "stderr",
     "output_type": "stream",
     "text": [
      "<ipython-input-17-e3a7886504ff>:3: SettingWithCopyWarning: \n",
      "A value is trying to be set on a copy of a slice from a DataFrame.\n",
      "Try using .loc[row_indexer,col_indexer] = value instead\n",
      "\n",
      "See the caveats in the documentation: https://pandas.pydata.org/pandas-docs/stable/user_guide/indexing.html#returning-a-view-versus-a-copy\n",
      "  Google['platform']='google'\n"
     ]
    }
   ],
   "source": [
    "# Create a column called 'platform' in both the Apple and Google dataframes. \n",
    "# Add the value 'apple' and the value 'google' as appropriate. \n",
    "Google['platform']='google'\n",
    "Apple['platform'] = 'apple'"
   ]
  },
  {
   "cell_type": "code",
   "execution_count": null,
   "metadata": {},
   "outputs": [],
   "source": []
  },
  {
   "cell_type": "markdown",
   "metadata": {
    "colab_type": "text",
    "id": "EJcry17IFcvS"
   },
   "source": [
    "### 2c. Changing the column names to prepare for our join of the two datasets \n",
    "Since the easiest way to join two datasets is if they have both:\n",
    "- the same number of columns\n",
    "- the same column names\n",
    "we need to rename the columns of `Apple` so that they're the same as the ones of `Google`, or vice versa.\n",
    "\n",
    "In this case, we're going to change the `Apple` columns names to the names of the `Google` columns. \n",
    "\n",
    "This is an important step to unify the two datasets!"
   ]
  },
  {
   "cell_type": "code",
   "execution_count": 18,
   "metadata": {
    "colab": {},
    "colab_type": "code",
    "id": "bdt9XH2KFcvT"
   },
   "outputs": [],
   "source": [
    "# Create a variable called old_names where you'll store the column names of the Apple dataframe. \n",
    "# Use the feature .columns.\n",
    "old_names = list(Apple.columns)\n",
    "\n",
    "# Create a variable called new_names where you'll store the column names of the Google dataframe. \n",
    "new_names = list(Google.columns)\n",
    "\n",
    "# Use the rename() DataFrame method to change the columns names. \n",
    "Apple.rename(columns= {i:j for i,j in zip(old_names, new_names)},inplace= True)"
   ]
  },
  {
   "cell_type": "markdown",
   "metadata": {
    "colab_type": "text",
    "id": "qewPiLrRFcvX"
   },
   "source": [
    "### 2d. Join the two datasets \n",
    "Let's combine the two datasets into a single data frame called `df`."
   ]
  },
  {
   "cell_type": "code",
   "execution_count": 19,
   "metadata": {
    "colab": {},
    "colab_type": "code",
    "id": "jq6fGfvyFcvY"
   },
   "outputs": [
    {
     "data": {
      "text/html": [
       "<div>\n",
       "<style scoped>\n",
       "    .dataframe tbody tr th:only-of-type {\n",
       "        vertical-align: middle;\n",
       "    }\n",
       "\n",
       "    .dataframe tbody tr th {\n",
       "        vertical-align: top;\n",
       "    }\n",
       "\n",
       "    .dataframe thead th {\n",
       "        text-align: right;\n",
       "    }\n",
       "</style>\n",
       "<table border=\"1\" class=\"dataframe\">\n",
       "  <thead>\n",
       "    <tr style=\"text-align: right;\">\n",
       "      <th></th>\n",
       "      <th>Category</th>\n",
       "      <th>Rating</th>\n",
       "      <th>Reviews</th>\n",
       "      <th>Price</th>\n",
       "      <th>platform</th>\n",
       "    </tr>\n",
       "  </thead>\n",
       "  <tbody>\n",
       "    <tr>\n",
       "      <th>6369</th>\n",
       "      <td>Games</td>\n",
       "      <td>5.0</td>\n",
       "      <td>7</td>\n",
       "      <td>0.00</td>\n",
       "      <td>apple</td>\n",
       "    </tr>\n",
       "    <tr>\n",
       "      <th>2434</th>\n",
       "      <td>Education</td>\n",
       "      <td>4.5</td>\n",
       "      <td>4903</td>\n",
       "      <td>0.00</td>\n",
       "      <td>apple</td>\n",
       "    </tr>\n",
       "    <tr>\n",
       "      <th>7184</th>\n",
       "      <td>NEWS_AND_MAGAZINES</td>\n",
       "      <td>NaN</td>\n",
       "      <td>0</td>\n",
       "      <td>0.00</td>\n",
       "      <td>google</td>\n",
       "    </tr>\n",
       "    <tr>\n",
       "      <th>2315</th>\n",
       "      <td>MEDICAL</td>\n",
       "      <td>4.2</td>\n",
       "      <td>22</td>\n",
       "      <td>0.00</td>\n",
       "      <td>google</td>\n",
       "    </tr>\n",
       "    <tr>\n",
       "      <th>4917</th>\n",
       "      <td>Games</td>\n",
       "      <td>4.5</td>\n",
       "      <td>67</td>\n",
       "      <td>6.99</td>\n",
       "      <td>apple</td>\n",
       "    </tr>\n",
       "    <tr>\n",
       "      <th>2410</th>\n",
       "      <td>MEDICAL</td>\n",
       "      <td>4.4</td>\n",
       "      <td>112</td>\n",
       "      <td>0.00</td>\n",
       "      <td>google</td>\n",
       "    </tr>\n",
       "    <tr>\n",
       "      <th>959</th>\n",
       "      <td>Navigation</td>\n",
       "      <td>3.0</td>\n",
       "      <td>5</td>\n",
       "      <td>0.00</td>\n",
       "      <td>apple</td>\n",
       "    </tr>\n",
       "    <tr>\n",
       "      <th>7914</th>\n",
       "      <td>FINANCE</td>\n",
       "      <td>2.0</td>\n",
       "      <td>314</td>\n",
       "      <td>0.00</td>\n",
       "      <td>google</td>\n",
       "    </tr>\n",
       "    <tr>\n",
       "      <th>2342</th>\n",
       "      <td>Games</td>\n",
       "      <td>3.5</td>\n",
       "      <td>69</td>\n",
       "      <td>4.99</td>\n",
       "      <td>apple</td>\n",
       "    </tr>\n",
       "    <tr>\n",
       "      <th>4303</th>\n",
       "      <td>FAMILY</td>\n",
       "      <td>NaN</td>\n",
       "      <td>2</td>\n",
       "      <td>0.00</td>\n",
       "      <td>google</td>\n",
       "    </tr>\n",
       "    <tr>\n",
       "      <th>8989</th>\n",
       "      <td>FAMILY</td>\n",
       "      <td>4.0</td>\n",
       "      <td>25</td>\n",
       "      <td>0.00</td>\n",
       "      <td>google</td>\n",
       "    </tr>\n",
       "    <tr>\n",
       "      <th>8178</th>\n",
       "      <td>TOOLS</td>\n",
       "      <td>4.7</td>\n",
       "      <td>136540</td>\n",
       "      <td>0.00</td>\n",
       "      <td>google</td>\n",
       "    </tr>\n",
       "  </tbody>\n",
       "</table>\n",
       "</div>"
      ],
      "text/plain": [
       "                Category  Rating  Reviews  Price platform\n",
       "6369               Games     5.0        7   0.00    apple\n",
       "2434           Education     4.5     4903   0.00    apple\n",
       "7184  NEWS_AND_MAGAZINES     NaN        0   0.00   google\n",
       "2315             MEDICAL     4.2       22   0.00   google\n",
       "4917               Games     4.5       67   6.99    apple\n",
       "2410             MEDICAL     4.4      112   0.00   google\n",
       "959           Navigation     3.0        5   0.00    apple\n",
       "7914             FINANCE     2.0      314   0.00   google\n",
       "2342               Games     3.5       69   4.99    apple\n",
       "4303              FAMILY     NaN        2   0.00   google\n",
       "8989              FAMILY     4.0       25   0.00   google\n",
       "8178               TOOLS     4.7   136540   0.00   google"
      ]
     },
     "execution_count": 19,
     "metadata": {},
     "output_type": "execute_result"
    }
   ],
   "source": [
    "# Let's use the append() method to append Apple to Google. \n",
    "df= Google.append(Apple)\n",
    "\n",
    "# Using the sample() method with the number 12 passed to it, check 12 random points of your dataset.\n",
    "df.sample(12)"
   ]
  },
  {
   "cell_type": "markdown",
   "metadata": {
    "colab_type": "text",
    "id": "FjqsHugWFcvb"
   },
   "source": [
    "### 2e. Eliminate the NaN values\n",
    "\n",
    "As you can see there are some `NaN` values. We want to eliminate all these `NaN` values from the table."
   ]
  },
  {
   "cell_type": "code",
   "execution_count": 20,
   "metadata": {
    "colab": {},
    "colab_type": "code",
    "id": "Gp2q6GLyFcvb"
   },
   "outputs": [
    {
     "name": "stdout",
     "output_type": "stream",
     "text": [
      "(18037, 5)\n"
     ]
    },
    {
     "data": {
      "text/plain": [
       "(16563, 5)"
      ]
     },
     "execution_count": 20,
     "metadata": {},
     "output_type": "execute_result"
    }
   ],
   "source": [
    "# Lets check first the dimesions of df before droping `NaN` values. Use the .shape feature. \n",
    "print(df.shape)\n",
    "\n",
    "# Use the dropna() method to eliminate all the NaN values, and overwrite the same dataframe with the result. \n",
    "df.dropna(axis=0,how='any',inplace=True)\n",
    "\n",
    "# Check the new dimesions of our dataframe. \n",
    "df.shape"
   ]
  },
  {
   "cell_type": "markdown",
   "metadata": {
    "colab_type": "text",
    "id": "qtfeQKtAFcvd"
   },
   "source": [
    "### 2f. Filter the data so that we only see whose apps that have been reviewed at least once\n",
    "\n",
    "Apps that haven't been reviewed yet can't help us solve our brief. \n",
    "\n",
    "So let's check to see if any apps have no reviews at all. "
   ]
  },
  {
   "cell_type": "code",
   "execution_count": 21,
   "metadata": {
    "colab": {},
    "colab_type": "code",
    "id": "Ge9OKXLNFcvd"
   },
   "outputs": [
    {
     "data": {
      "text/plain": [
       "Category    929\n",
       "Rating      929\n",
       "Reviews     929\n",
       "Price       929\n",
       "platform    929\n",
       "dtype: int64"
      ]
     },
     "execution_count": 21,
     "metadata": {},
     "output_type": "execute_result"
    }
   ],
   "source": [
    "# Subset your df to pick out just those rows whose value for 'Reviews' is equal to 0. \n",
    "# Do a count() on the result. \n",
    "df[df['Reviews']==0].count()"
   ]
  },
  {
   "cell_type": "markdown",
   "metadata": {
    "colab_type": "text",
    "id": "05f7H0kAFcvg"
   },
   "source": [
    "929 apps do not have reviews, we need to eliminate these points!"
   ]
  },
  {
   "cell_type": "code",
   "execution_count": 22,
   "metadata": {
    "colab": {},
    "colab_type": "code",
    "id": "pD8vmPjkFcvg"
   },
   "outputs": [
    {
     "data": {
      "text/plain": [
       "(15634, 5)"
      ]
     },
     "execution_count": 22,
     "metadata": {},
     "output_type": "execute_result"
    }
   ],
   "source": [
    "# Eliminate the points that have 0 reviews.\n",
    "df = df[df['Reviews']!=0]\n",
    "df.shape"
   ]
  },
  {
   "cell_type": "markdown",
   "metadata": {
    "colab_type": "text",
    "id": "ApnKES_bFcvi"
   },
   "source": [
    "### 2g. Summarize the data visually and analytically (by the column `platform`)"
   ]
  },
  {
   "cell_type": "markdown",
   "metadata": {
    "colab_type": "text",
    "id": "2smt9UocFcvj"
   },
   "source": [
    "What we need to solve our brief is a summary of the `Rating` column, but separated by the different platforms."
   ]
  },
  {
   "cell_type": "code",
   "execution_count": 23,
   "metadata": {
    "colab": {},
    "colab_type": "code",
    "id": "Vqckt347Fcvj"
   },
   "outputs": [
    {
     "data": {
      "text/plain": [
       "platform\n",
       "apple     4.049697\n",
       "google    4.191757\n",
       "Name: Rating, dtype: float64"
      ]
     },
     "execution_count": 23,
     "metadata": {},
     "output_type": "execute_result"
    }
   ],
   "source": [
    "# To summarize analytically, let's use the groupby() method on our df.\n",
    "df['Rating'].groupby(df['platform']).mean()"
   ]
  },
  {
   "cell_type": "markdown",
   "metadata": {
    "colab_type": "text",
    "id": "8f9TqMtKFcvl"
   },
   "source": [
    "Interesting! Our means of 4.049697 and 4.191757 don't **seem** all that different! Perhaps we've solved our brief already: there's no significant difference between Google Play app reviews and Apple Store app reviews. We have an ***observed difference*** here: which is simply (4.191757 - 4.049697) = 0.14206. This is just the actual difference that we observed between the mean rating for apps from Google Play, and the mean rating for apps from the Apple Store. Let's look at how we're going to use this observed difference to solve our problem using a statistical test. \n",
    "\n",
    "**Outline of our method:**\n",
    "1. We'll assume that platform (i.e, whether the app was Google or Apple) really doesn’t impact on ratings. \n",
    "\n",
    "\n",
    "2. Given this assumption, we should actually be able to get a difference in mean rating for Apple apps and mean rating for Google apps that's pretty similar to the one we actually got (0.14206) just by: \n",
    "a. shuffling the ratings column, \n",
    "b. keeping the platform column the same,\n",
    "c. calculating the difference between the mean rating for Apple and the mean rating for Google. \n",
    "\n",
    "\n",
    "3. We can make the shuffle more useful by doing it many times, each time calculating the mean rating for Apple apps and the mean rating for Google apps, and the difference between these means. \n",
    "\n",
    "\n",
    "4. We can then take the mean of all these differences, and this will be called our permutation difference. This permutation difference will be great indicator of what the difference would be if our initial assumption were true and platform really doesn’t impact on ratings. \n",
    "\n",
    "\n",
    "5. Now we do a comparison. If the observed difference looks just like the permutation difference, then we stick with the claim that actually, platform doesn’t impact on ratings. If instead, however, the permutation difference differs significantly from the observed difference, we'll conclude: something's going on; the platform does in fact impact on ratings. \n",
    "\n",
    "\n",
    "6. As for what the definition of *significantly* is, we'll get to that. But there’s a brief summary of what we're going to do. Exciting!\n",
    "\n",
    "If you want to look more deeply at the statistics behind this project, check out [this resource](https://www.springboard.com/archeio/download/4ea4d453b0b84014bcef287c50f47f00/)."
   ]
  },
  {
   "cell_type": "markdown",
   "metadata": {
    "colab_type": "text",
    "id": "d6EhTxArFcvm"
   },
   "source": [
    "Let's also get a **visual summary** of the `Rating` column, separated by the different platforms. \n",
    "\n",
    "A good tool to use here is the boxplot!"
   ]
  },
  {
   "cell_type": "code",
   "execution_count": 24,
   "metadata": {
    "colab": {},
    "colab_type": "code",
    "id": "hFKjrlWgFcvm"
   },
   "outputs": [
    {
     "data": {
      "text/plain": [
       "<AxesSubplot:title={'center':'Rating'}, xlabel='[platform]'>"
      ]
     },
     "execution_count": 24,
     "metadata": {},
     "output_type": "execute_result"
    },
    {
     "data": {
      "image/png": "[encoded data removed]",
      "text/plain": [
       "<Figure size 432x288 with 1 Axes>"
      ]
     },
     "metadata": {
      "needs_background": "light"
     },
     "output_type": "display_data"
    }
   ],
   "source": [
    "# Call the boxplot() method on our df.\n",
    "\n",
    "#one graph for vertical graph for apple and google\n",
    "df.boxplot(by=['platform'],column = ['Rating'])\n"
   ]
  },
  {
   "cell_type": "markdown",
   "metadata": {
    "colab_type": "text",
    "id": "FqTlAjnmFcvo"
   },
   "source": [
    "Here we see the same information as in the analytical summary, but with a boxplot. Can you see how the boxplot is working here? If you need to revise your boxplots, check out this this [link](https://www.kaggle.com/ramamet4/app-store-apple-data-set-10k-apps). "
   ]
  },
  {
   "cell_type": "markdown",
   "metadata": {
    "colab_type": "text",
    "id": "O8L-s1fgFcvp"
   },
   "source": [
    "## Stage 3 - Modelling"
   ]
  },
  {
   "cell_type": "markdown",
   "metadata": {
    "colab_type": "text",
    "id": "5fbRq2MZFcvq"
   },
   "source": [
    "### 3a. Hypothesis formulation\n",
    "\n",
    "Our **Null hypothesis** is just:\n",
    "\n",
    "**H<sub>null</sub>**: the observed difference in the mean rating of Apple Store and Google Play apps is due to chance (and thus not due to the platform).\n",
    "\n",
    "The more interesting hypothesis is called the **Alternate hypothesis**:\n",
    "\n",
    "**H<sub>alternative</sub>**: the observed difference in the average ratings of apple and google users is not due to chance (and is actually due to platform)\n",
    "\n",
    "We're also going to pick a **significance level** of 0.05. "
   ]
  },
  {
   "cell_type": "markdown",
   "metadata": {
    "colab_type": "text",
    "id": "TjBqkabaFcvq"
   },
   "source": [
    "### 3b. Getting the distribution of the data\n",
    "Now that the hypotheses and significance level are defined, we can select a statistical test to determine which hypothesis to accept. \n",
    "\n",
    "There are many different statistical tests, all with different assumptions. You'll generate an excellent judgement about when to use which statistical tests over the Data Science Career Track course. But in general, one of the most important things to determine is the **distribution of the data**.   "
   ]
  },
  {
   "cell_type": "code",
   "execution_count": 25,
   "metadata": {
    "colab": {},
    "colab_type": "code",
    "id": "bFwVhkeWFcvr"
   },
   "outputs": [],
   "source": [
    "# Create a subset of the column 'Rating' by the different platforms.\n",
    "# Call the subsets 'apple' and 'google' \n",
    "apple= df.loc[df['platform']=='apple','Rating']\n",
    "google = df.loc[df['platform']=='google','Rating']\n"
   ]
  },
  {
   "cell_type": "code",
   "execution_count": 26,
   "metadata": {
    "colab": {},
    "colab_type": "code",
    "id": "oPPFpwPvFcvu"
   },
   "outputs": [
    {
     "name": "stdout",
     "output_type": "stream",
     "text": [
      "NormaltestResult(statistic=1778.9974234584017, pvalue=0.0)\n"
     ]
    }
   ],
   "source": [
    "# Using the stats.normaltest() method, get an indication of whether the apple data are normally distributed\n",
    "# Save the result in a variable called apple_normal, and print it out\n",
    "apple_normal = stats.normaltest(apple)\n",
    "print(apple_normal)\n"
   ]
  },
  {
   "cell_type": "code",
   "execution_count": 27,
   "metadata": {
    "colab": {},
    "colab_type": "code",
    "id": "rCdh8a8KFcvw"
   },
   "outputs": [
    {
     "name": "stdout",
     "output_type": "stream",
     "text": [
      "NormaltestResult(statistic=3678.6157187516856, pvalue=0.0)\n"
     ]
    }
   ],
   "source": [
    "# Do the same with the google data. \n",
    "google_normal = stats.normaltest(google)\n",
    "print(google_normal)"
   ]
  },
  {
   "cell_type": "markdown",
   "metadata": {
    "colab_type": "text",
    "id": "9gDqu21yFcv0"
   },
   "source": [
    "Since the null hypothesis of the normaltest() is that the data are normally distributed, the lower the p-value in the result of this test, the more likely the data are to be non-normal. \n",
    "\n",
    "Since the p-values is 0 for both tests, regardless of what we pick for the significance level, our conclusion is that the data are not normally distributed. \n",
    "\n",
    "We can actually also check out the distribution of the data visually with a histogram. A normal distribution has the following visual characteristics:\n",
    "    - symmetric\n",
    "    - unimodal (one hump)\n",
    "As well as a roughly identical mean, median and mode. "
   ]
  },
  {
   "cell_type": "code",
   "execution_count": 28,
   "metadata": {
    "colab": {},
    "colab_type": "code",
    "id": "P9tT9RjNFcv1"
   },
   "outputs": [
    {
     "data": {
      "image/png": "[encoded data removed]",
      "text/plain": [
       "<Figure size 432x288 with 1 Axes>"
      ]
     },
     "metadata": {
      "needs_background": "light"
     },
     "output_type": "display_data"
    }
   ],
   "source": [
    "# Create a histogram of the apple reviews distribution\n",
    "_ = plt.hist(apple)\n",
    "_ = plt.xlabel('Apple Rating')\n",
    "_ = plt.ylabel('Count')\n",
    "plt.show()"
   ]
  },
  {
   "cell_type": "code",
   "execution_count": 29,
   "metadata": {
    "colab": {},
    "colab_type": "code",
    "id": "8dE1uC5iFcv2"
   },
   "outputs": [
    {
     "data": {
      "image/png": "[encoded data removed]",
      "text/plain": [
       "<Figure size 432x288 with 1 Axes>"
      ]
     },
     "metadata": {
      "needs_background": "light"
     },
     "output_type": "display_data"
    }
   ],
   "source": [
    "# Create a histogram of the google data\n",
    "_ = plt.hist(google)\n",
    "_ = plt.xlabel('Google Rating')\n",
    "_ = plt.ylabel('Count')\n",
    "plt.show()"
   ]
  },
  {
   "cell_type": "code",
   "execution_count": null,
   "metadata": {},
   "outputs": [],
   "source": []
  },
  {
   "cell_type": "markdown",
   "metadata": {
    "colab_type": "text",
    "id": "QhZV89FzFcv5"
   },
   "source": [
    "### 3c. Permutation test\n",
    "Since the data aren't normally distributed, we're using a *non-parametric* test here. This is simply a label for statistical tests used when the data aren't normally distributed. These tests are extraordinarily powerful due to how few assumptions we need to make.  \n",
    "\n",
    "Check out more about permutations [here.](http://rasbt.github.io/mlxtend/user_guide/evaluate/permutation_test/)"
   ]
  },
  {
   "cell_type": "code",
   "execution_count": 30,
   "metadata": {
    "colab": {},
    "colab_type": "code",
    "id": "bxNhQgpqFcv6"
   },
   "outputs": [
    {
     "data": {
      "text/html": [
       "<div>\n",
       "<style scoped>\n",
       "    .dataframe tbody tr th:only-of-type {\n",
       "        vertical-align: middle;\n",
       "    }\n",
       "\n",
       "    .dataframe tbody tr th {\n",
       "        vertical-align: top;\n",
       "    }\n",
       "\n",
       "    .dataframe thead th {\n",
       "        text-align: right;\n",
       "    }\n",
       "</style>\n",
       "<table border=\"1\" class=\"dataframe\">\n",
       "  <thead>\n",
       "    <tr style=\"text-align: right;\">\n",
       "      <th></th>\n",
       "      <th>count</th>\n",
       "      <th>mean</th>\n",
       "      <th>std</th>\n",
       "      <th>min</th>\n",
       "      <th>25%</th>\n",
       "      <th>50%</th>\n",
       "      <th>75%</th>\n",
       "      <th>max</th>\n",
       "    </tr>\n",
       "    <tr>\n",
       "      <th>platform</th>\n",
       "      <th></th>\n",
       "      <th></th>\n",
       "      <th></th>\n",
       "      <th></th>\n",
       "      <th></th>\n",
       "      <th></th>\n",
       "      <th></th>\n",
       "      <th></th>\n",
       "    </tr>\n",
       "  </thead>\n",
       "  <tbody>\n",
       "    <tr>\n",
       "      <th>apple</th>\n",
       "      <td>6268.0</td>\n",
       "      <td>4.130313</td>\n",
       "      <td>0.611519</td>\n",
       "      <td>1.0</td>\n",
       "      <td>4.0</td>\n",
       "      <td>4.3</td>\n",
       "      <td>4.5</td>\n",
       "      <td>5.0</td>\n",
       "    </tr>\n",
       "    <tr>\n",
       "      <th>google</th>\n",
       "      <td>9366.0</td>\n",
       "      <td>4.137807</td>\n",
       "      <td>0.613925</td>\n",
       "      <td>1.0</td>\n",
       "      <td>4.0</td>\n",
       "      <td>4.3</td>\n",
       "      <td>4.5</td>\n",
       "      <td>5.0</td>\n",
       "    </tr>\n",
       "  </tbody>\n",
       "</table>\n",
       "</div>"
      ],
      "text/plain": [
       "           count      mean       std  min  25%  50%  75%  max\n",
       "platform                                                     \n",
       "apple     6268.0  4.130313  0.611519  1.0  4.0  4.3  4.5  5.0\n",
       "google    9366.0  4.137807  0.613925  1.0  4.0  4.3  4.5  5.0"
      ]
     },
     "execution_count": 30,
     "metadata": {},
     "output_type": "execute_result"
    }
   ],
   "source": [
    "# Create a column called `Permutation1`, and assign to it the result of permuting (shuffling) the Rating column\n",
    "# This assignment will use our numpy object's random.permutation() method\n",
    "df['Permutation1'] = np.random.permutation(df['Rating'])\n",
    "\n",
    "# Call the describe() method on our permutation grouped by 'platform'. \n",
    "df['Permutation1'].groupby(df['platform']).describe()"
   ]
  },
  {
   "cell_type": "code",
   "execution_count": 31,
   "metadata": {
    "colab": {},
    "colab_type": "code",
    "id": "AaGNfPGTFcv7"
   },
   "outputs": [
    {
     "data": {
      "text/html": [
       "<div>\n",
       "<style scoped>\n",
       "    .dataframe tbody tr th:only-of-type {\n",
       "        vertical-align: middle;\n",
       "    }\n",
       "\n",
       "    .dataframe tbody tr th {\n",
       "        vertical-align: top;\n",
       "    }\n",
       "\n",
       "    .dataframe thead th {\n",
       "        text-align: right;\n",
       "    }\n",
       "</style>\n",
       "<table border=\"1\" class=\"dataframe\">\n",
       "  <thead>\n",
       "    <tr style=\"text-align: right;\">\n",
       "      <th></th>\n",
       "      <th>count</th>\n",
       "      <th>mean</th>\n",
       "      <th>std</th>\n",
       "      <th>min</th>\n",
       "      <th>25%</th>\n",
       "      <th>50%</th>\n",
       "      <th>75%</th>\n",
       "      <th>max</th>\n",
       "    </tr>\n",
       "    <tr>\n",
       "      <th>platform</th>\n",
       "      <th></th>\n",
       "      <th></th>\n",
       "      <th></th>\n",
       "      <th></th>\n",
       "      <th></th>\n",
       "      <th></th>\n",
       "      <th></th>\n",
       "      <th></th>\n",
       "    </tr>\n",
       "  </thead>\n",
       "  <tbody>\n",
       "    <tr>\n",
       "      <th>apple</th>\n",
       "      <td>6268.0</td>\n",
       "      <td>4.049697</td>\n",
       "      <td>0.726943</td>\n",
       "      <td>1.0</td>\n",
       "      <td>4.0</td>\n",
       "      <td>4.5</td>\n",
       "      <td>4.5</td>\n",
       "      <td>5.0</td>\n",
       "    </tr>\n",
       "    <tr>\n",
       "      <th>google</th>\n",
       "      <td>9366.0</td>\n",
       "      <td>4.191757</td>\n",
       "      <td>0.515219</td>\n",
       "      <td>1.0</td>\n",
       "      <td>4.0</td>\n",
       "      <td>4.3</td>\n",
       "      <td>4.5</td>\n",
       "      <td>5.0</td>\n",
       "    </tr>\n",
       "  </tbody>\n",
       "</table>\n",
       "</div>"
      ],
      "text/plain": [
       "           count      mean       std  min  25%  50%  75%  max\n",
       "platform                                                     \n",
       "apple     6268.0  4.049697  0.726943  1.0  4.0  4.5  4.5  5.0\n",
       "google    9366.0  4.191757  0.515219  1.0  4.0  4.3  4.5  5.0"
      ]
     },
     "execution_count": 31,
     "metadata": {},
     "output_type": "execute_result"
    }
   ],
   "source": [
    "# Lets compare with the previous analytical summary:\n",
    "a_rating= df['Rating'].groupby(df['platform']).describe()\n",
    "a_rating"
   ]
  },
  {
   "cell_type": "code",
   "execution_count": 32,
   "metadata": {},
   "outputs": [
    {
     "data": {
      "text/plain": [
       "0.14206054745123442"
      ]
     },
     "execution_count": 32,
     "metadata": {},
     "output_type": "execute_result"
    }
   ],
   "source": [
    "a_rating.loc['google','mean']-a_rating.loc['apple','mean']"
   ]
  },
  {
   "cell_type": "code",
   "execution_count": 33,
   "metadata": {
    "colab": {},
    "colab_type": "code",
    "id": "aJPNpX0JFcv-"
   },
   "outputs": [],
   "source": [
    "# The difference in the means for Permutation1 (0.001103) now looks hugely different to our observed difference of 0.14206. \n",
    "# It's sure starting to look like our observed difference is significant, and that the Null is false; platform does impact on ratings\n",
    "# But to be sure, let's create 10,000 permutations, calculate the mean ratings for Google and Apple apps and the difference between these for each one, and then take the average of all of these differences.\n",
    "# Let's create a vector with the differences - that will be the distibution of the Null.\n",
    "\n",
    "# First, make a list called difference.(create empty list)\n",
    "difference = []\n",
    "\n",
    "# Now make a for loop that does the following 10,000 times:\n",
    "# 1. makes a permutation of the 'Rating' as you did above\n",
    "# 2. calculates the difference in the mean rating for apple and the mean rating for google. \n",
    "for i in range(10000):\n",
    "    df['Permutation1'] = np.random.permutation(df['Rating'])\n",
    "    a_rating = df['Permutation1'].groupby(df['platform']).describe()\n",
    "    a_rating = pd.DataFrame(a_rating)\n",
    "    difference.append((a_rating.loc['apple','mean']-a_rating.loc['google','mean']))"
   ]
  },
  {
   "cell_type": "code",
   "execution_count": 34,
   "metadata": {},
   "outputs": [
    {
     "data": {
      "text/plain": [
       "[0.00025535000729437485,\n",
       " -0.015430290636989419,\n",
       " -0.004538224383137113,\n",
       " 0.002918446890888049,\n",
       " -0.01535039773047675,\n",
       " -0.006295868326290588,\n",
       " -0.0012359842474873872,\n",
       " -0.0019017584683940214,\n",
       " 0.014236608646124083,\n",
       " 0.0068065683409237465,\n",
       " -1.0959681046252001e-05,\n",
       " 0.0053152340861419844,\n",
       " 0.0031847565792517685,\n",
       " -0.0018484965307274948,\n",
       " -0.015110719010944074,\n",
       " 0.00917672456729779,\n",
       " -0.0024610088139329633,\n",
       " 0.0016934223244389202,\n",
       " -0.0029403662529778885,\n",
       " 0.004303257270366068,\n",
       " -0.016122695826727096,\n",
       " 0.008537581315243514,\n",
       " 0.008164747751535195,\n",
       " -0.0034463546608636264,\n",
       " 0.004755983740569292,\n",
       " -0.0019283894372259525,\n",
       " 0.0036108520806221733,\n",
       " -0.006082820575620929,\n",
       " 0.017059491342704902,\n",
       " -0.006455654139285727,\n",
       " -0.0030468901283153826,\n",
       " -0.022354342534284477,\n",
       " 0.0035043282052908964,\n",
       " -0.010823133028384113,\n",
       " -0.0010761984344789255,\n",
       " 0.006939723185099389,\n",
       " -0.0030735210971526428,\n",
       " 0.0031581256103940802,\n",
       " -0.0005435790577665855,\n",
       " 0.010295225258415641,\n",
       " -0.006349130263975766,\n",
       " -0.012181312439018654,\n",
       " 0.009576189099826493,\n",
       " -0.0037126643492264577,\n",
       " 0.0056081747433003315,\n",
       " -0.000756626808456673,\n",
       " 0.0018532081374642573,\n",
       " -0.0018751274995540967,\n",
       " -0.006562178014654307,\n",
       " 0.011946345326244945,\n",
       " -0.0051241056975266375,\n",
       " -0.0019816513748942555,\n",
       " -0.0027539494711259493,\n",
       " -0.007627416768071882,\n",
       " -0.01324655119243534,\n",
       " 0.00970934394401013,\n",
       " -0.006082820575612047,\n",
       " -0.005763248949575583,\n",
       " -0.0033664617543687214,\n",
       " -0.002514270751614589,\n",
       " -0.0025675326892748984,\n",
       " -0.011036180779061766,\n",
       " -0.021076056030157275,\n",
       " 0.009363141349141735,\n",
       " -0.006535547045811718,\n",
       " 0.01042838010259306,\n",
       " 0.014636073178657227,\n",
       " 0.006646782527898409,\n",
       " 0.006486996714900606,\n",
       " -0.005976296700271888,\n",
       " -0.006109451544449307,\n",
       " 0.0005216596956891806,\n",
       " -0.009411691680091039,\n",
       " -0.0018484965307266066,\n",
       " -0.010556823340025723,\n",
       " 0.001001017134695914,\n",
       " -0.0002240074317203522,\n",
       " -0.00946495361774602,\n",
       " -0.022221187690113275,\n",
       " 0.012106131139246301,\n",
       " -0.006615439952339486,\n",
       " 0.01564804999441538,\n",
       " 0.014662704147469618,\n",
       " -0.01574986226298769,\n",
       " 0.023850388395831423,\n",
       " -0.00011748355638196983,\n",
       " 0.001214064885428634,\n",
       " 0.001666791355606989,\n",
       " 0.012505595671786551,\n",
       " -0.013299813130103644,\n",
       " -0.00019737646289641475,\n",
       " 0.003584221111794683,\n",
       " 0.015408371274881816,\n",
       " 0.00022871903847132558,\n",
       " -0.003845819193405653,\n",
       " 0.0008412313217176504,\n",
       " 0.011972976295063553,\n",
       " -0.0019283894372312815,\n",
       " -0.00496431988449153,\n",
       " -0.006562178014664077,\n",
       " 0.0008412313216865641,\n",
       " 0.0004950287268306042,\n",
       " -0.009970942025641527,\n",
       " -0.00560346313656801,\n",
       " -0.00999757299449211,\n",
       " -0.0010229364967875298,\n",
       " -0.010183989776317404,\n",
       " -0.0032333069101753154,\n",
       " -0.0046713792273189725,\n",
       " 0.0207079340732097,\n",
       " -0.013699277662646558,\n",
       " 0.010987630448155983,\n",
       " 0.006992985122781015,\n",
       " 0.0010809100412298989,\n",
       " -0.011515538218106691,\n",
       " 0.012984953110835029,\n",
       " 0.01263875051596397,\n",
       " 0.026114020746876854,\n",
       " -0.015749862263006342,\n",
       " -0.025363642012727006,\n",
       " 0.004249995332679113,\n",
       " 0.0036108520806266142,\n",
       " -0.014631361571911583,\n",
       " -0.0027805804399587686,\n",
       " 0.00129395779190844,\n",
       " -0.02475112972950999,\n",
       " -0.0005169480889390954,\n",
       " 0.006939723185092284,\n",
       " 0.005128817304249189,\n",
       " 0.008271271626891341,\n",
       " 0.024196590990706923,\n",
       " 0.007259294811115424,\n",
       " -0.009970942025636198,\n",
       " 0.0015336365114171358,\n",
       " 0.005901115400509305,\n",
       " -0.0006501029331236197,\n",
       " 0.009256617473818451,\n",
       " -0.0002240074317203522,\n",
       " -0.005150736666346134,\n",
       " 0.016526871965981904,\n",
       " 0.015488264181390932,\n",
       " -0.004777903102675118,\n",
       " 0.0025456133271895,\n",
       " -0.02578973751411695,\n",
       " 0.003557590142961864,\n",
       " 0.01362409636287154,\n",
       " -0.0095714774931146,\n",
       " 0.021853065733158594,\n",
       " -0.002194699125569244,\n",
       " 0.007392449655306166,\n",
       " -0.004165390819435899,\n",
       " -0.004032235975223841,\n",
       " -0.01071660915301198,\n",
       " 0.006300579933041561,\n",
       " -0.024431558103498396,\n",
       " -0.003792557255758666,\n",
       " 0.0028651849532126406,\n",
       " -0.005283891510538652,\n",
       " 0.00680656834092197,\n",
       " -0.013859063475639921,\n",
       " 0.012212655014591789,\n",
       " 0.0049956624600877575,\n",
       " -0.004298545663616871,\n",
       " -0.008319821957812223,\n",
       " -0.00025063840058603404,\n",
       " 0.0006814455087029714,\n",
       " -0.0068551186718277535,\n",
       " -0.006269237357469315,\n",
       " -0.005736617980746317,\n",
       " -0.010423668495852745,\n",
       " -0.0012093532786421335,\n",
       " -0.0027805804399818612,\n",
       " -0.0045115934142891945,\n",
       " -0.007946988394127885,\n",
       " -0.0266152975480205,\n",
       " 0.00028198097614939854,\n",
       " -0.013086765379433984,\n",
       " -0.003952343068748476,\n",
       " -0.0050175818221704915,\n",
       " 0.003930423706650643,\n",
       " 0.007046247060440436,\n",
       " -0.0017419726553686843,\n",
       " 0.004649459865214922,\n",
       " -0.012926979566416641,\n",
       " 0.004063578550822733,\n",
       " 0.0055016508679734955,\n",
       " -0.0006767339019395635,\n",
       " -0.004458331476640431,\n",
       " -0.016335743577380768,\n",
       " 0.021240553449910493,\n",
       " 0.010002284601204003,\n",
       " -0.00578987991842439,\n",
       " -0.0025409017204536255,\n",
       " -0.0011028294033224029,\n",
       " 0.0005749216333406082,\n",
       " -0.007334476110889554,\n",
       " 0.006140794120020665,\n",
       " -0.0013957700605180534,\n",
       " 0.0006015526021805329,\n",
       " -0.022514128347308038,\n",
       " -0.008213298082468512,\n",
       " 0.0014537436049115726,\n",
       " 0.007578866437161658,\n",
       " -0.0021148062190681216,\n",
       " -0.0007033648707714946,\n",
       " -0.013060134410589619,\n",
       " 0.002332565576497636,\n",
       " -0.012500884065022255,\n",
       " 0.01753884878174361,\n",
       " 0.015062168680022303,\n",
       " -0.014018849288672364,\n",
       " 0.003078232703898287,\n",
       " -0.0012626152163255355,\n",
       " -0.013140027317096958,\n",
       " -0.006801856734175438,\n",
       " -0.002407746876286865,\n",
       " 0.007126139966944223,\n",
       " -0.0033131998166862076,\n",
       " 0.013171369892670093,\n",
       " 9.556419429657126e-05,\n",
       " 0.006566889621395511,\n",
       " 0.004223364363841853,\n",
       " 0.008457688408734398,\n",
       " 0.01122730916765402,\n",
       " -0.011249228529752742,\n",
       " -0.0014224010293490963,\n",
       " -0.011861740812978638,\n",
       " -0.004564855351963715,\n",
       " -0.00011748355638196983,\n",
       " -0.011781847906465082,\n",
       " -0.02049017471579795,\n",
       " -0.007654047736916247,\n",
       " 0.0027053991402015143,\n",
       " -0.007574154830422231,\n",
       " 0.0017466842621125522,\n",
       " 0.0025722442960232073,\n",
       " -0.00429854566361243,\n",
       " -0.005177367635195829,\n",
       " -0.028772406023708008,\n",
       " 0.008457688408747721,\n",
       " -0.00041042421357939673,\n",
       " 0.00627394896419009,\n",
       " 0.01921659981840218,\n",
       " -0.0030468901283340344,\n",
       " 0.028084712440730186,\n",
       " 0.012425702765274771,\n",
       " 0.017672003625937016,\n",
       " 0.0009211242282036736,\n",
       " -0.005257260541700504,\n",
       " -0.00576324894958713,\n",
       " 0.00989576072587095,\n",
       " 0.012984953110845687,\n",
       " 0.007206032873451562,\n",
       " 0.0037173759559605557,\n",
       " -0.0005968409954153486,\n",
       " -0.017720553956843688,\n",
       " -0.01183510984415026,\n",
       " -0.0009164126214393775,\n",
       " 0.004915769553574201,\n",
       " -0.009837787181446345,\n",
       " -0.015989540982527473,\n",
       " -0.0010761984344824782,\n",
       " 0.022252530265675752,\n",
       " -0.012154681470182283,\n",
       " 0.014795858991668354,\n",
       " 0.012665381484795901,\n",
       " -0.002594163658133475,\n",
       " 0.0033445423922762174,\n",
       " 0.005128817304258959,\n",
       " -0.005283891510538652,\n",
       " -0.0024876397827746644,\n",
       " -0.01833306624009534,\n",
       " 0.008271271626909105,\n",
       " 0.007232663842303921,\n",
       " -0.006748594796503582,\n",
       " -0.015377028699306905,\n",
       " 0.020814457948538312,\n",
       " 0.006034270244680506,\n",
       " 0.02249220898521287,\n",
       " 0.01578120483858303,\n",
       " 0.0020928868569791703,\n",
       " -0.014205266070532296,\n",
       " -0.01335307506776573,\n",
       " -0.005816510887250104,\n",
       " 0.0034244352987906623,\n",
       " -0.008426345833167481,\n",
       " -0.010716609153044843,\n",
       " -0.004351807601272739,\n",
       " 0.0031847565792615384,\n",
       " -0.00909212005407145,\n",
       " -0.007973619362959816,\n",
       " 0.020228576634169215,\n",
       " 0.007339187717644968,\n",
       " -0.0026207946269485305,\n",
       " -0.011595431124621136,\n",
       " -0.013512860880795508,\n",
       " 0.004649459865219363,\n",
       " 0.00800496193853828,\n",
       " -0.00858613164618749,\n",
       " 0.021373708294117222,\n",
       " 0.032292405516789024,\n",
       " -0.0037392953180663824,\n",
       " 0.024782472305097336,\n",
       " 0.00238582751417038,\n",
       " 0.006620151559056708,\n",
       " -0.0019816513749031373,\n",
       " 0.0015602674802686067,\n",
       " -0.009065489085222644,\n",
       " 0.01205286920157711,\n",
       " -0.00682848770301181,\n",
       " 0.01636708615296989,\n",
       " -0.00813340517597716,\n",
       " 0.003877161769002768,\n",
       " -0.0018218655618902346,\n",
       " 0.016473610028310937,\n",
       " 0.004702721802899212,\n",
       " -0.007893726456463135,\n",
       " 0.002785292046729282,\n",
       " 0.006513627683719214,\n",
       " 0.018364408815664035,\n",
       " -0.011941633719493083,\n",
       " -0.011062811747908796,\n",
       " 0.0071261399669433345,\n",
       " 0.016686657779000136,\n",
       " -0.007387738048565851,\n",
       " 0.008750629065940707,\n",
       " -0.0032333069101664336,\n",
       " 0.0013738506984051213,\n",
       " 0.017299170062244684,\n",
       " 0.015967621620427863,\n",
       " -0.002727318502302012,\n",
       " 0.0040103166131375545,\n",
       " 0.012132762108075568,\n",
       " -0.0089057032722204,\n",
       " -0.002594163658119264,\n",
       " 0.001560267480255284,\n",
       " 0.012452333734115584,\n",
       " 0.0006015526021716511,\n",
       " 0.016047514526948525,\n",
       " 0.018364408815660482,\n",
       " 0.01058816591560685,\n",
       " -0.001555555873525627,\n",
       " 0.003983685644329604,\n",
       " -0.007307845142058511,\n",
       " -0.005869772824900643,\n",
       " 0.011626773700212034,\n",
       " -0.001022936496803517,\n",
       " 0.002252672670001843,\n",
       " -0.0036594024115377266,\n",
       " -0.008426345833163928,\n",
       " 0.004116840488502582,\n",
       " -0.01718793458014467,\n",
       " -0.005470308292379933,\n",
       " -1.0959681045363823e-05,\n",
       " -0.011435645311602904,\n",
       " 0.006700044465576482,\n",
       " 0.0061940560577058434,\n",
       " 0.01290506020433213,\n",
       " -0.0035528785361966797,\n",
       " 0.0022526726700089483,\n",
       " 0.0007879693840351365,\n",
       " 0.009016938754299986,\n",
       " -0.007254583204398202,\n",
       " -0.007414369017412881,\n",
       " -0.007813833549934479,\n",
       " -0.021848354126396963,\n",
       " 0.006220687026520899,\n",
       " -0.002780580439970315,\n",
       " 0.005075555366603091,\n",
       " -0.011542169186947504,\n",
       " -0.01359275378730107,\n",
       " 0.00611416315119051,\n",
       " -0.007840464518779733,\n",
       " -0.006721963827676092,\n",
       " -0.005496939261218081,\n",
       " 0.00843105743989625,\n",
       " 0.0028385539843869267,\n",
       " -0.0036594024115528256,\n",
       " 0.0009477551970364928,\n",
       " -0.006242606388626726,\n",
       " -0.002461008813947174,\n",
       " -0.006935011578357297,\n",
       " 0.005368496023777425,\n",
       " -0.0023012230009102908,\n",
       " 0.005554912805624923,\n",
       " 0.0009743861658915165,\n",
       " -0.010050834932144426,\n",
       " 0.004276626301525255,\n",
       " 0.0005749216333326146,\n",
       " 0.006753306403252779,\n",
       " -0.008452976802010959,\n",
       " -0.014125373164026733,\n",
       " 0.01775189653246123,\n",
       " -0.009678001368422784,\n",
       " -0.00405886694408597,\n",
       " 0.0018798391062935238,\n",
       " -0.003366461754366945,\n",
       " 0.0010010171347083485,\n",
       " -0.0067752257653515,\n",
       " 0.0033179114234300755,\n",
       " -0.002034913312560782,\n",
       " -0.000410424213575844,\n",
       " -0.006375761232817467,\n",
       " 0.004995662460086869,\n",
       " 0.004782614709403887,\n",
       " 0.013943667988901787,\n",
       " -0.0009430435903121648,\n",
       " -0.011568800155764336,\n",
       " 0.0053152340861224445,\n",
       " 0.0006015526021601048,\n",
       " 0.0056614366809633054,\n",
       " 0.000654814539874593,\n",
       " -0.013246551192447775,\n",
       " -0.005576832167741408,\n",
       " 0.008937045847791758,\n",
       " -0.011355752405100894,\n",
       " 0.0037440069248013685,\n",
       " 0.00038850485147712277,\n",
       " -0.0056300941054079345,\n",
       " -0.010476930433513942,\n",
       " -0.003925712099911216,\n",
       " 0.011067523354647335,\n",
       " -0.019025471429809038,\n",
       " -0.0121546814701734,\n",
       " -0.0205168056845908,\n",
       " 0.006220687026520899,\n",
       " -0.006695332858826397,\n",
       " -0.00480453407147774,\n",
       " -0.009997572994491222,\n",
       " 0.017272539093377226,\n",
       " -0.015456921605817797,\n",
       " -0.01628248163971069,\n",
       " 0.006380472839535578,\n",
       " -0.012634038909197898,\n",
       " 0.015594788056743525,\n",
       " -0.01606943388903037,\n",
       " 0.01604751452695119,\n",
       " 0.013064846017345033,\n",
       " -0.008346452926637049,\n",
       " -0.010476930433543252,\n",
       " -0.010290513651666444,\n",
       " 0.016127407433450536,\n",
       " 0.012638750515971964,\n",
       " 0.0003086119449857705,\n",
       " 0.0033711733610992667,\n",
       " -0.0021148062190627925,\n",
       " 0.001826577168631438,\n",
       " -0.004804534071503497,\n",
       " -0.004644748258462172,\n",
       " 0.004489674052215342,\n",
       " 0.005501650867969943,\n",
       " 0.01181319048204088,\n",
       " -0.00493768891565427,\n",
       " -0.003259937879000141,\n",
       " -0.0024077468762664367,\n",
       " 0.0008146003528430867,\n",
       " 0.00829790259571972,\n",
       " 0.0167665506855057,\n",
       " 0.015621419025577232,\n",
       " 0.015142061586533195,\n",
       " -0.012953610535231697,\n",
       " 0.015887728713924965,\n",
       " -0.004112128881782695,\n",
       " -0.004804534071514155,\n",
       " -0.012767193753375317,\n",
       " -0.006349130263985536,\n",
       " -0.009464953617763783,\n",
       " -0.008612762615008762,\n",
       " -0.005683356043062027,\n",
       " -0.0026474255957857906,\n",
       " -0.004351807601266522,\n",
       " -0.01042366849584031,\n",
       " -0.008586131646184825,\n",
       " 0.008004961938549826,\n",
       " -0.009358429742424512,\n",
       " 0.0027053991402121724,\n",
       " -0.016149326795550145,\n",
       " -0.0016354487800400719,\n",
       " -0.006002927669102043,\n",
       " -0.002434377845103697,\n",
       " -0.017614030081506193,\n",
       " 0.005368496023780089,\n",
       " -0.003686033380401632,\n",
       " -0.00019737646289197386,\n",
       " 0.009496296193342246,\n",
       " -0.010263882682819414,\n",
       " 6.89332254690811e-05,\n",
       " -0.010689978184190707,\n",
       " 0.005821222493990419,\n",
       " -0.008479607770814468,\n",
       " 0.0033978043299391913,\n",
       " -0.00421865275710509,\n",
       " -0.009198643929391181,\n",
       " 0.01346431054985242,\n",
       " 0.019110075943061133,\n",
       " 0.003024970766229096,\n",
       " 0.022678625767036387,\n",
       " -0.019478197900030914,\n",
       " 0.0047293527717267025,\n",
       " -0.005709987011911721,\n",
       " 0.00012219516314626588,\n",
       " -0.024857653604853702,\n",
       " -0.00624260638862939,\n",
       " -0.007574154830414237,\n",
       " -0.0004903171200894008,\n",
       " 0.006620151559064702,\n",
       " 0.0021727797634758517,\n",
       " 0.0028119230155398967,\n",
       " 0.0019064700751352248,\n",
       " -0.015430290636970767,\n",
       " -0.0073078451420558466,\n",
       " -0.0029137352841512865,\n",
       " -0.0003039003382347971,\n",
       " 0.004596197927545731,\n",
       " 0.0024390894518555584,\n",
       " 1.5671287786567234e-05,\n",
       " 0.004249995332682666,\n",
       " 0.00488913858472273,\n",
       " 0.0007879693840493474,\n",
       " -0.0011294603721658802,\n",
       " -0.007813833549954907,\n",
       " 0.007978330969706349,\n",
       " -0.00019737646290352018,\n",
       " -0.026269094953151217,\n",
       " 0.019935635976957577,\n",
       " 0.00688646124742931,\n",
       " -0.0015022939358617649,\n",
       " 0.002359196545343778,\n",
       " 0.004915769553595517,\n",
       " -0.006189344450944212,\n",
       " 0.007818545156695222,\n",
       " -0.009225274898227553,\n",
       " 0.0031581256104153965,\n",
       " -0.01633574357739942,\n",
       " -0.0036860333803829803,\n",
       " 0.002811923015547002,\n",
       " 0.00017545710081634525,\n",
       " -0.002753949471119732,\n",
       " 0.001693422324462901,\n",
       " -0.005736617980741876,\n",
       " 0.006140794120028659,\n",
       " 0.007738652250147027,\n",
       " 0.005315234086131326,\n",
       " 0.0001754571008136807,\n",
       " 0.004170102426195754,\n",
       " 0.00414347145734606,\n",
       " -0.016495529390425645,\n",
       " 0.012505595671789216,\n",
       " 0.004170102426189537,\n",
       " -0.011009549810237829,\n",
       " -0.007414369017393341,\n",
       " 0.018737242379357255,\n",
       " -0.006082820575604941,\n",
       " 0.006273948964217624,\n",
       " 0.0030782327039142743,\n",
       " -0.005203998604029536,\n",
       " -0.010237251713995477,\n",
       " -0.015270504823972075,\n",
       " 0.020175314696485813,\n",
       " 0.0023059346076568232,\n",
       " -0.00954484652425247,\n",
       " -0.0037126643492406686,\n",
       " 0.0036374830494292354,\n",
       " 0.00030861194498399414,\n",
       " 0.009256617473824669,\n",
       " 0.012585488578282344,\n",
       " 0.015940990651603038,\n",
       " -0.008506238739673044,\n",
       " -0.017294458455483053,\n",
       " -0.006136082513288343,\n",
       " 0.00217277976348651,\n",
       " 0.007925069032025611,\n",
       " 0.00459619792755106,\n",
       " 0.010481642040265804,\n",
       " -0.0040056050064283255,\n",
       " 0.009229986504974086,\n",
       " 0.004649459865207817,\n",
       " -0.0030202591594843398,\n",
       " -0.011036180779060878,\n",
       " 0.014103453801908472,\n",
       " -0.003686033380391862,\n",
       " 0.0021727797635087143,\n",
       " -0.0007566268084548966,\n",
       " 0.007978330969707237,\n",
       " -0.0057366179807445405,\n",
       " -0.006482285108127428,\n",
       " -0.013805801538011586,\n",
       " 0.0029450778597261973,\n",
       " 0.007206032873469326,\n",
       " -0.0047779031026609076,\n",
       " -0.0093317987735837,\n",
       " -0.010956287872555315,\n",
       " 0.01168003563787412,\n",
       " 0.002305934607655935,\n",
       " -0.0041920217882696065,\n",
       " 0.017432324906401675,\n",
       " 0.019349754662580487,\n",
       " -0.007574154830424007,\n",
       " 0.004835876647066861,\n",
       " 0.001347219729587401,\n",
       " -0.0028338423776261834,\n",
       " 0.004116840488502582,\n",
       " 9.556419431611118e-05,\n",
       " -0.0007832577772841631,\n",
       " -0.019238519180492908,\n",
       " -0.020623329559956716,\n",
       " 0.003930423706659525,\n",
       " -0.013379706036602101,\n",
       " -0.020490174715793508,\n",
       " -0.0050708437598583345,\n",
       " 0.006247317995377699,\n",
       " -0.0005968409954233422,\n",
       " -0.0005968409954402176,\n",
       " 0.004170102426160227,\n",
       " 0.015940990651603038,\n",
       " -0.004458331476618227,\n",
       " 0.014076822833097857,\n",
       " -0.006935011578359962,\n",
       " 0.017379062968727155,\n",
       " 0.01924323078723056,\n",
       " -0.0070415354536939034,\n",
       " 0.014689335116324642,\n",
       " 0.003024970766248636,\n",
       " 0.01245233373411292,\n",
       " -0.004245283725936133,\n",
       " -0.004165390819443893,\n",
       " -0.024138617446277877,\n",
       " 0.00022871903848553643,\n",
       " -0.0013425081228239932,\n",
       " -0.012101419532491775,\n",
       " -0.0037126643492264577,\n",
       " -0.002247961063253534,\n",
       " -0.006002927669094049,\n",
       " 0.0013472197295643085,\n",
       " -0.011542169186942175,\n",
       " 0.010108808476571696,\n",
       " -0.01287371762873768,\n",
       " 0.00619405605769785,\n",
       " -0.0011560913409844886,\n",
       " -0.0005702100266180565,\n",
       " 0.0021994107323157763,\n",
       " 0.00496903149126382,\n",
       " -0.01242099115852735,\n",
       " -0.006242606388624949,\n",
       " 0.009229986504977639,\n",
       " -0.0008631506837790681,\n",
       " -0.009358429742399643,\n",
       " 0.0024390894518564465,\n",
       " -0.00443170050778896,\n",
       " 0.01711275328036166,\n",
       " 0.001080910041221017,\n",
       " 0.006913092216254135,\n",
       " 0.01045501107141611,\n",
       " -0.011409014342778079,\n",
       " -0.006429023170470671,\n",
       " 0.015914359682762225,\n",
       " -0.013459598943115658,\n",
       " 0.0008944932593824007,\n",
       " -0.003526247567375407,\n",
       " 0.012345809858764767,\n",
       " -0.0036327714427191182,\n",
       " -0.014604730603055671,\n",
       " -0.02424514132163047,\n",
       " 0.009389772317988765,\n",
       " -0.0030468901283287053,\n",
       " 0.02203948251500165,\n",
       " -0.007148059329043832,\n",
       " -0.011728585968806549,\n",
       " -0.008053512269457386,\n",
       " -0.004484962445456375,\n",
       " 0.004969031491243392,\n",
       " 0.0013472197296042765,\n",
       " 0.009869129757046124,\n",
       " -0.006215975419805453,\n",
       " -0.0006767339019315699,\n",
       " 0.007712021281336412,\n",
       " 0.015461633212551007,\n",
       " 0.017538848781747163,\n",
       " -0.010769871090717587,\n",
       " -0.015430290636972543,\n",
       " -0.004298545663624864,\n",
       " -0.0023012230009138435,\n",
       " 0.01775189653243192,\n",
       " -0.0007832577772717286,\n",
       " 0.012425702765273883,\n",
       " -0.0019550204060632126,\n",
       " 0.011253940136500162,\n",
       " -0.018226542364758735,\n",
       " -0.01681510101644257,\n",
       " -0.0007566268084540084,\n",
       " -0.001102829403302863,\n",
       " 0.03016192800992723,\n",
       " 0.011413725949509512,\n",
       " 0.0039037927378213766,\n",
       " 0.004329888239190893,\n",
       " -0.0004370551824202096,\n",
       " -0.017960232676375476,\n",
       " 0.014263239614942691,\n",
       " -0.012048157594825248,\n",
       " 0.004196733395012586,\n",
       " -0.017773815894529754,\n",
       " -0.005763248949591571,\n",
       " 0.024995520055786535,\n",
       " -0.022407604471956333,\n",
       " -0.0018751274995612022,\n",
       " 0.002119517825799555,\n",
       " 0.007738652250159461,\n",
       " 0.0015070055425949747,\n",
       " 0.003158125610428719,\n",
       " -0.00698827351603537,\n",
       " 0.00845768840873351,\n",
       " -0.010636716246523292,\n",
       " 0.003264649485740456,\n",
       " 0.01607414549578312,\n",
       " -0.0014490319981828037,\n",
       " -0.012527515033865733,\n",
       " 0.0023325655765047415,\n",
       " -0.0039257120999183215,\n",
       " 1.5671287787455412e-05,\n",
       " -0.015163980948623923,\n",
       " -0.003765926286895649,\n",
       " -0.0009963055279600397,\n",
       " -0.007387738048574732,\n",
       " 0.0016135294179493442,\n",
       " 0.003530959174115722,\n",
       " 0.0004417667891782884,\n",
       " -0.010689978184209359,\n",
       " -0.004804534071481292,\n",
       " 0.00017545710079858168,\n",
       " -0.011409014342766532,\n",
       " 0.01104089238582251,\n",
       " 0.022412316078711747,\n",
       " -0.012607407940378401,\n",
       " 0.018737242379361696,\n",
       " 0.0036641140182851473,\n",
       " -0.0005702100266020693,\n",
       " 0.000601552602181421,\n",
       " -0.001422401029342879,\n",
       " -0.011915002750630066,\n",
       " -0.015989540982537243,\n",
       " 0.0022793036388266685,\n",
       " 0.0015336365114215766,\n",
       " -0.0017419726553864479,\n",
       " -0.017400982330824988,\n",
       " -0.003845819193406541,\n",
       " 0.01136046401182611,\n",
       " 0.009869129757024808,\n",
       " -0.0117019549999684,\n",
       " 0.00805822387618882,\n",
       " -0.0015555558735265151,\n",
       " -0.01705477973595837,\n",
       " -0.004831165040322105,\n",
       " -0.014338420914699057,\n",
       " 0.012958322141990664,\n",
       " -0.013379706036630523,\n",
       " -0.004937688915667593,\n",
       " -0.010210620745159105,\n",
       " -0.004298545663617759,\n",
       " 0.0023591965453455543,\n",
       " 0.009549558131012326,\n",
       " -0.005763248949576472,\n",
       " 0.004383150176856532,\n",
       " -0.01862600689728744,\n",
       " -0.003659402411539503,\n",
       " -0.012873717628741232,\n",
       " 0.0011341719789061955,\n",
       " -0.007813833549924709,\n",
       " 0.0128784292355002,\n",
       " 0.015621419025577232,\n",
       " 0.004196733395004593,\n",
       " 0.020521517291354208,\n",
       " 0.011839821450882582,\n",
       " -0.01132912143627074,\n",
       " 0.014902382866992525,\n",
       " -0.000836519714951578,\n",
       " 0.012851798266646064,\n",
       " 0.010135439445384975,\n",
       " 0.0067533064032403445,\n",
       " -0.0007566268084460148,\n",
       " 0.00803159290736577,\n",
       " -0.003978974037567973,\n",
       " -0.002354484938600798,\n",
       " -0.0032333069101619927,\n",
       " -0.006402392201627194,\n",
       " -0.020037448245568967,\n",
       " 0.0014004816672485987,\n",
       " 0.012319178889933724,\n",
       " -0.0083464529266557,\n",
       " 0.0018265771686305499,\n",
       " 0.004889138584754704,\n",
       " 0.0036108520806186206,\n",
       " -0.010157358807479255,\n",
       " 0.004862507615908562,\n",
       " -0.006828487703014474,\n",
       " 0.0036108520806337197,\n",
       " 0.007445711592985127,\n",
       " -0.020570067622283084,\n",
       " 0.0016667913555954428,\n",
       " 0.009682712975176422,\n",
       " 0.012585488578285897,\n",
       " -0.023659260007250715,\n",
       " 0.0021727797634909507,\n",
       " 0.004862507615883693,\n",
       " 0.00978923685051214,\n",
       " 0.02033510050948717,\n",
       " -0.0010761984344895836,\n",
       " 0.008484319377562777,\n",
       " -0.008905703272214183,\n",
       " 0.003397804329936527,\n",
       " 0.0018265771686349908,\n",
       " 0.011200678198824754,\n",
       " -0.007174690297880204,\n",
       " -0.0069350115783475275,\n",
       " -0.004857796009178017,\n",
       " -0.006828487703008257,\n",
       " 0.015594788056720432,\n",
       " -0.012873717628736792,\n",
       " 0.006859830278594714,\n",
       " -0.015217242886291338,\n",
       " 0.00014882613197464423,\n",
       " -0.016575422296913445,\n",
       " -0.0024077468762744303,\n",
       " 0.007685390312514251,\n",
       " 0.004942400522407908,\n",
       " -0.012713931815730106,\n",
       " -0.015510183543478107,\n",
       " 0.0045163050210730304,\n",
       " -0.010343775589345405,\n",
       " -0.0032333069101762035,\n",
       " -0.0034463546608680673,\n",
       " -0.003366461754362504,\n",
       " -0.0039789740375866245,\n",
       " 0.013730620238241897,\n",
       " 0.013304524736860834,\n",
       " 0.005767960556316787,\n",
       " -0.011568800155783876,\n",
       " -0.005576832167723644,\n",
       " 0.002332565576516288,\n",
       " -0.003126783034836933,\n",
       " -0.009997572994461912,\n",
       " 0.010747951728632188,\n",
       " -0.019478197900014926,\n",
       " 0.01221265501460067,\n",
       " -0.013992218319840433,\n",
       " -0.004484962445450158,\n",
       " 0.0006281835709947003,\n",
       " -0.006375761232799704,\n",
       " -0.004538224383122014,\n",
       " 0.011307202074164913,\n",
       " -0.011355752405109776,\n",
       " -0.00256753268928378,\n",
       " 0.0032912804545794927,\n",
       " 0.0033978043299391913,\n",
       " -0.010423668495849192,\n",
       " -0.010556823340027499,\n",
       " 0.0029450778597119864,\n",
       " 0.01136046401182167,\n",
       " 0.019189968849544492,\n",
       " -0.01388569444450205,\n",
       " -0.008852441334524563,\n",
       " 0.0016934223244513547,\n",
       " -0.009145381991726431,\n",
       " 0.005901115400495094,\n",
       " 0.010108808476561038,\n",
       " 0.008564212284088768,\n",
       " 0.007898438063211444,\n",
       " 0.003983685644329604,\n",
       " 0.0007613384151827773,\n",
       " -0.014418313821211726,\n",
       " -0.007547523861579641,\n",
       " -0.005230629572877454,\n",
       " -0.00038379324474835386,\n",
       " 0.003371173361096602,\n",
       " 0.01495564480467948,\n",
       " -0.006215975419785913,\n",
       " 0.035168550151043476,\n",
       " 0.005048924397773824,\n",
       " -0.010876394966063962,\n",
       " -0.0008897816526314273,\n",
       " -0.009331798773590805,\n",
       " 0.0011341719788706683,\n",
       " 0.015275216430699956,\n",
       " 0.016526871965980128,\n",
       " 0.0157812048386079,\n",
       " 0.0035842211117866896,\n",
       " 0.008644105190582785,\n",
       " -0.01401884928865993,\n",
       " 0.01900355206772808,\n",
       " -0.006269237357455104,\n",
       " 0.001933101043977814,\n",
       " -0.0012626152163166537,\n",
       " -0.013539491849625662,\n",
       " 0.0024124584830182982,\n",
       " 0.008484319377557448,\n",
       " 0.011546880793698477,\n",
       " 0.009842498788185772,\n",
       " -0.007733940643423587,\n",
       " -0.009651370399595294,\n",
       " 0.010668058822100868,\n",
       " -0.005709987011901063,\n",
       " 0.0066734134967605385,\n",
       " -0.017906970738700956,\n",
       " -0.0027006875334345537,\n",
       " 0.0035575901429298895,\n",
       " 0.014316501552607441,\n",
       " -0.003925712099894341,\n",
       " 0.002039624919309979,\n",
       " 0.008883783910084375,\n",
       " 0.004436412114546151,\n",
       " 0.003264649485764437,\n",
       " 0.011759928544401888,\n",
       " 0.006220687026519123,\n",
       " -0.01068997818423334,\n",
       " -0.015217242886264692,\n",
       " 0.009123462629620605,\n",
       " 0.0008678622905460287,\n",
       " -0.019930924370227032,\n",
       " -0.009225274898232882,\n",
       " 0.0005216596956687525,\n",
       " 0.01998889791463565,\n",
       " -0.028772406023720443,\n",
       " 0.00345106626760483,\n",
       " 0.00875062906593449,\n",
       " -0.02014397212093222,\n",
       " -0.00493768891566404,\n",
       " 0.005261972148442595,\n",
       " -0.004990950853343001,\n",
       " -0.01678847004760886,\n",
       " 0.013118107955008007,\n",
       " 0.008510950346409807,\n",
       " 0.0008944932593566435,\n",
       " -0.009145381991729984,\n",
       " -0.0038191882245675046,\n",
       " -0.004271914694773393,\n",
       " 0.010588165915588199,\n",
       " -0.007440999986246588,\n",
       " 0.00017545710080479893,\n",
       " 0.005741329587492849,\n",
       " 0.014556180272147223,\n",
       " 0.00960282006869928,\n",
       " -0.0030468901283216,\n",
       " -0.015536814512305597,\n",
       " 0.0037706378936528395,\n",
       " 0.009123462629636592,\n",
       " 0.01341104861218767,\n",
       " 0.002305934607695015,\n",
       " 0.008484319377561,\n",
       " -0.0070681664225409335,\n",
       " 0.007552235468317292,\n",
       " -0.0018218655618928992,\n",
       " -0.00962473943078912,\n",
       " -0.010956287872565973,\n",
       " -0.011542169186928852,\n",
       " 0.02403680517769846,\n",
       " -0.010583454308855877,\n",
       " -0.008186667113635693,\n",
       " 0.00030861194497511235,\n",
       " -0.003872450162228702,\n",
       " -0.00491105794683655,\n",
       " 0.0037706378936386287,\n",
       " 0.01157351176251531,\n",
       " -0.014258528008204152,\n",
       " 0.0029717088285652338,\n",
       " -0.005949665731430187,\n",
       " 0.0020396249193108673,\n",
       " 0.003797268862466119,\n",
       " 0.003664114018299358,\n",
       " 0.007978330969698355,\n",
       " -0.005896403793764549,\n",
       " -0.00797361936295271,\n",
       " 0.007605497405996253,\n",
       " -0.004564855351991248,\n",
       " 0.013011584079658078,\n",
       " -0.015377028699301576,\n",
       " -0.011542169186965268,\n",
       " -0.00906548908521998,\n",
       " -0.014125373164026733,\n",
       " 0.0088305219724365,\n",
       " 0.002785292046705301,\n",
       " -0.011036180779068872,\n",
       " -0.0072545832043875436,\n",
       " -0.006721963827675204,\n",
       " 0.00411684048850347,\n",
       " 0.011227309167667343,\n",
       " -0.009491584586595714,\n",
       " 0.0018532081374358356,\n",
       " 0.011413725949514841,\n",
       " -0.0010229364968052934,\n",
       " -0.012713931815725665,\n",
       " 0.011733297575545976,\n",
       " -0.004751272133822759,\n",
       " 0.03788490897232233,\n",
       " -0.0061893444509451,\n",
       " 0.005155448273105101,\n",
       " -0.0018484965307008494,\n",
       " -0.002461008813941845,\n",
       " -0.005576832167726309,\n",
       " -0.003952343068753805,\n",
       " -0.00714805932905449,\n",
       " 0.018524194628667168,\n",
       " ...]"
      ]
     },
     "execution_count": 34,
     "metadata": {},
     "output_type": "execute_result"
    }
   ],
   "source": [
    "difference"
   ]
  },
  {
   "cell_type": "code",
   "execution_count": 35,
   "metadata": {
    "colab": {},
    "colab_type": "code",
    "id": "VlzpYTkYFcv_"
   },
   "outputs": [
    {
     "data": {
      "image/png": "[encoded data removed]",
      "text/plain": [
       "<Figure size 432x288 with 1 Axes>"
      ]
     },
     "metadata": {
      "needs_background": "light"
     },
     "output_type": "display_data"
    }
   ],
   "source": [
    "# Make a variable called 'histo', and assign to it the result of plotting a histogram of the difference list. \n",
    "histo =plt.hist(difference)"
   ]
  },
  {
   "cell_type": "code",
   "execution_count": 36,
   "metadata": {
    "colab": {},
    "colab_type": "code",
    "id": "KhqgDFd3FcwB"
   },
   "outputs": [
    {
     "name": "stdout",
     "output_type": "stream",
     "text": [
      "0.14206054745123442\n"
     ]
    }
   ],
   "source": [
    "# Now make a variable called obs_difference, and assign it the result of the mean of our 'apple' variable and the mean of our 'google variable'\n",
    "obs_difference = apple.mean()- google.mean()\n",
    "\n",
    "# Make this difference absolute with the built-in abs() function. \n",
    "obs_difference =abs(obs_difference)\n",
    "\n",
    "# Print out this value; it should be 0.1420605474512291. \n",
    "print(obs_difference)"
   ]
  },
  {
   "cell_type": "markdown",
   "metadata": {
    "colab_type": "text",
    "id": "QUNuuSgDFcwE"
   },
   "source": [
    "## Stage 4 -  Evaluating and concluding\n",
    "### 4a. What is our conclusion?"
   ]
  },
  {
   "cell_type": "code",
   "execution_count": 37,
   "metadata": {
    "colab": {},
    "colab_type": "code",
    "id": "XMQHnqx1FcwF"
   },
   "outputs": [
    {
     "data": {
      "text/plain": [
       "\"\\nWhat do we know? \\n\\nRecall: The p-value of our observed data is just the proportion of the data given the null that's at least as extreme as that observed data.\\n\\nAs a result, we're going to count how many of the differences in our difference list are at least as extreme as our observed difference.\\n\\nIf less than or equal to 5% of them are, then we will reject the Null. \\n\""
      ]
     },
     "execution_count": 37,
     "metadata": {},
     "output_type": "execute_result"
    }
   ],
   "source": [
    "'''\n",
    "What do we know? \n",
    "\n",
    "Recall: The p-value of our observed data is just the proportion of the data given the null that's at least as extreme as that observed data.\n",
    "\n",
    "As a result, we're going to count how many of the differences in our difference list are at least as extreme as our observed difference.\n",
    "\n",
    "If less than or equal to 5% of them are, then we will reject the Null. \n",
    "'''\n",
    "# The conclusion is that there is different between two platfroms about rating, because the vaule of 0.14206 locates extremmely right\n",
    "# on above histogram and the p-value approximately equals to 0."
   ]
  },
  {
   "cell_type": "markdown",
   "metadata": {
    "colab_type": "text",
    "id": "4RTofY9wFcwI"
   },
   "source": [
    "### 4b. What is our decision?\n",
    "So actually, zero differences are at least as extreme as our observed difference!\n",
    "\n",
    "So the p-value of our observed data is 0. \n",
    "\n",
    "It doesn't matter which significance level we pick; our observed data is statistically significant, and we reject the Null.\n",
    "\n",
    "We conclude that platform does impact on ratings. Specifically, we should advise our client to integrate **only Google Play** into their operating system interface. "
   ]
  },
  {
   "cell_type": "markdown",
   "metadata": {
    "colab_type": "text",
    "id": "Cu_eh7fTFcwJ"
   },
   "source": [
    "### 4c. Other statistical tests, and next steps\n",
    "The test we used here is the Permutation test. This was appropriate because our data were not normally distributed! \n",
    "\n",
    "As we've seen in Professor Spiegelhalter's book, there are actually many different statistical tests, all with different assumptions. How many of these different statistical tests can you remember? How much do you remember about what the appropriate conditions are under which to use them? \n",
    "\n",
    "Make a note of your answers to these questions, and discuss them with your mentor at your next call. \n"
   ]
  }
 ],
 "metadata": {
  "colab": {
   "collapsed_sections": [
    "5fbRq2MZFcvq",
    "4RTofY9wFcwI",
    "Cu_eh7fTFcwJ"
   ],
   "name": "Springboard Apps project - Tier 3 - Complete.ipynb",
   "provenance": []
  },
  "kernelspec": {
   "display_name": "Python 3",
   "language": "python",
   "name": "python3"
  },
  "language_info": {
   "codemirror_mode": {
    "name": "ipython",
    "version": 3
   },
   "file_extension": ".py",
   "mimetype": "text/x-python",
   "name": "python",
   "nbconvert_exporter": "python",
   "pygments_lexer": "ipython3",
   "version": "3.8.5"
  }
 },
 "nbformat": 4,
 "nbformat_minor": 1
}
