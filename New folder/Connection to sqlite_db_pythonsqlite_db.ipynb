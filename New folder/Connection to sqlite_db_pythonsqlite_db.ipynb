{
 "cells": [
  {
   "cell_type": "code",
   "execution_count": 1,
   "metadata": {},
   "outputs": [],
   "source": [
    "import sqlite3\n",
    "from sqlite3 import Error\n",
    " \n",
    "def create_connection(db_file):\n",
    "    \"\"\" create a database connection to the SQLite database\n",
    "        specified by the db_file\n",
    "    :param db_file: database file\n",
    "    :return: Connection object or None\n",
    "    \"\"\"\n",
    "    conn = None\n",
    "    try:\n",
    "        conn = sqlite3.connect(db_file)\n",
    "        print(sqlite3.version)\n",
    "    except Error as e:\n",
    "        print(e)\n",
    " \n",
    "    return conn\n",
    " \n",
    "def select_all_tasks(conn):\n",
    "    \"\"\"\n",
    "    Query all rows in the tasks table\n",
    "    :param conn: the Connection object\n",
    "    :return:\n",
    "    \"\"\"\n",
    "    cur = conn.cursor()\n",
    "    \n",
    "    query1 = \"\"\"\n",
    "        SELECT *\n",
    "        FROM FACILITIES\n",
    "        \"\"\"\n",
    "    cur.execute(query1)\n",
    " \n",
    "    rows = cur.fetchall()\n",
    " \n",
    "    for row in rows:\n",
    "        print(row)"
   ]
  },
  {
   "cell_type": "code",
   "execution_count": 2,
   "metadata": {},
   "outputs": [
    {
     "name": "stdout",
     "output_type": "stream",
     "text": [
      "2.6.0\n",
      "2. Query all tasks\n",
      "(0, 'Tennis Court 1', 5, 25, 10000, 200)\n",
      "(1, 'Tennis Court 2', 5, 25, 8000, 200)\n",
      "(2, 'Badminton Court', 0, 15.5, 4000, 50)\n",
      "(3, 'Table Tennis', 0, 5, 320, 10)\n",
      "(4, 'Massage Room 1', 9.9, 80, 4000, 3000)\n",
      "(5, 'Massage Room 2', 9.9, 80, 4000, 3000)\n",
      "(6, 'Squash Court', 3.5, 17.5, 5000, 80)\n",
      "(7, 'Snooker Table', 0, 5, 450, 15)\n",
      "(8, 'Pool Table', 0, 5, 400, 15)\n"
     ]
    }
   ],
   "source": [
    "database = \"..\\sqlite\\db\\sqlite_db_pythonsqlite.db\"\n",
    " \n",
    "# create a database connection\n",
    "conn = create_connection(database)\n",
    "with conn: \n",
    "    print(\"2. Query all tasks\")\n",
    "    select_all_tasks(conn)"
   ]
  },
  {
   "cell_type": "markdown",
   "metadata": {},
   "source": [
    "/* Q10: Produce a list of facilities with a total revenue less than 1000.\n",
    "The output of facility name and total revenue, sorted by revenue. Remember\n",
    "that there's a different cost for guests and members! */"
   ]
  },
  {
   "cell_type": "code",
   "execution_count": 3,
   "metadata": {},
   "outputs": [
    {
     "name": "stdout",
     "output_type": "stream",
     "text": [
      "2.6.0\n",
      "10. Query all tasks\n",
      "('Pool Table', 270)\n",
      "('Snooker Table', 240)\n",
      "('Table Tennis', 180)\n"
     ]
    }
   ],
   "source": [
    "def Question10(conn):\n",
    "    \"\"\"\n",
    "    Query all rows in the tasks table\n",
    "    :param conn: the Connection object\n",
    "    :return:\n",
    "    \"\"\"\n",
    "    cur = conn.cursor()\n",
    "    \n",
    "    query10 = \"\"\"\n",
    "    select Facility, sum(cost) \n",
    "    from(SELECT m.firstname, m.surname , f.name as Facility, CASE WHEN m.memid = 0 \n",
    "        THEN f.guestcost * b.slots ELSE f.membercost * b.slots END AS cost\n",
    "        FROM Members m\n",
    "        LEFT JOIN Bookings b ON m.memid = b.memid\n",
    "        INNER JOIN Facilities f ON f.facid = b.facid\n",
    "        where 1=1) as bob\n",
    "    GROUP BY Facility\n",
    "    HAVING sum( cost ) <1000\n",
    "\n",
    "    \"\"\"\n",
    "    cur.execute(query10)\n",
    " \n",
    "    rows = cur.fetchall()\n",
    " \n",
    "    for row in rows:\n",
    "        print(row)\n",
    "        \n",
    "database = \"..\\sqlite\\db\\sqlite_db_pythonsqlite.db\"\n",
    " \n",
    "# create a database connection\n",
    "conn = create_connection(database)\n",
    "with conn: \n",
    "    print(\"10. Query all tasks\")\n",
    "    Question10(conn)"
   ]
  },
  {
   "cell_type": "markdown",
   "metadata": {},
   "source": [
    "/* Q11: Produce a report of members and who recommended them in alphabetic surname,firstname order */"
   ]
  },
  {
   "cell_type": "code",
   "execution_count": 5,
   "metadata": {},
   "outputs": [
    {
     "name": "stdout",
     "output_type": "stream",
     "text": [
      "2.6.0\n",
      "11. Query all tasks\n",
      "('Bader', 'Florence', 'Stibbons Ponder')\n",
      "('Baker', 'Anne', 'Stibbons Ponder')\n",
      "('Baker', 'Timothy', 'Farrell Jemima')\n",
      "('Boothe', 'Tim', 'Rownam Tim')\n",
      "('Butters', 'Gerald', 'Smith Darren')\n",
      "('Coplin', 'Joan', 'Baker Timothy')\n",
      "('Crumpet', 'Erica', 'Smith Tracy')\n",
      "('Dare', 'Nancy', 'Joplette Janice')\n",
      "('Genting', 'Matthew', 'Butters Gerald')\n",
      "('Hunt', 'John', 'Purview Millicent')\n",
      "('Jones', 'David', 'Joplette Janice')\n",
      "('Jones', 'Douglas', 'Jones David')\n",
      "('Joplette', 'Janice', 'Smith Darren')\n",
      "('Mackenzie', 'Anna', 'Smith Darren')\n",
      "('Owen', 'Charles', 'Smith Darren')\n",
      "('Pinker', 'David', 'Farrell Jemima')\n",
      "('Purview', 'Millicent', 'Smith Tracy')\n",
      "('Rumney', 'Henrietta', 'Genting Matthew')\n",
      "('Sarwin', 'Ramnaresh', 'Bader Florence')\n",
      "('Smith', 'Jack', 'Smith Darren')\n",
      "('Stibbons', 'Ponder', 'Tracy Burton')\n",
      "('Worthington-Smyth', 'Henry', 'Smith Tracy')\n"
     ]
    }
   ],
   "source": [
    "def Question11(conn):\n",
    "    \"\"\"\n",
    "    Query all rows in the tasks table\n",
    "    :param conn: the Connection object\n",
    "    :return:\n",
    "    \"\"\"\n",
    "    cur = conn.cursor()\n",
    "    \n",
    "    query11 = \"\"\"\n",
    "    select tim.surname, tim.firstname, (m.surname ||' '|| m.firstname) AS Referral\n",
    "    from (select surname, firstname, recommendedby from Members where recommendedby > 0) as tim\n",
    "    join Members m on m.memid = tim.recommendedby\n",
    "    where m.memid in (select recommendedby from Members where recommendedby > 0)\n",
    "    order by tim.surname, tim.firstname\n",
    "\n",
    "    \"\"\"\n",
    "    cur.execute(query11)\n",
    " \n",
    "    rows = cur.fetchall()\n",
    " \n",
    "    for row in rows:\n",
    "        print(row)\n",
    "        \n",
    "database = \"..\\sqlite\\db\\sqlite_db_pythonsqlite.db\"\n",
    " \n",
    "# create a database connection\n",
    "conn = create_connection(database)\n",
    "with conn: \n",
    "    print(\"11. Query all tasks\")\n",
    "    Question11(conn)"
   ]
  },
  {
   "cell_type": "markdown",
   "metadata": {},
   "source": [
    "/* Q12: Find the facilities with their usage by member, but not guests */"
   ]
  },
  {
   "cell_type": "code",
   "execution_count": 6,
   "metadata": {},
   "outputs": [
    {
     "name": "stdout",
     "output_type": "stream",
     "text": [
      "2.6.0\n",
      "12. Query all tasks\n",
      "('Badminton Court', 344)\n",
      "('Massage Room 1', 421)\n",
      "('Massage Room 2', 27)\n",
      "('Pool Table', 783)\n",
      "('Snooker Table', 421)\n",
      "('Squash Court', 195)\n",
      "('Table Tennis', 385)\n",
      "('Tennis Court 1', 308)\n",
      "('Tennis Court 2', 276)\n"
     ]
    }
   ],
   "source": [
    "def Question12(conn):\n",
    "    \"\"\"\n",
    "    Query all rows in the tasks table\n",
    "    :param conn: the Connection object\n",
    "    :return:\n",
    "    \"\"\"\n",
    "    cur = conn.cursor()\n",
    "    \n",
    "    query12 = \"\"\"\n",
    "    SELECT f.name, count(f.name )\n",
    "    FROM Members m\n",
    "    JOIN Bookings b ON m.memid = b.memid\n",
    "    JOIN Facilities f ON f.facid = b.facid\n",
    "    WHERE b.memid !=0\n",
    "    GROUP BY f.name\n",
    "    LIMIT 0 , 30\n",
    "\n",
    "    \"\"\"\n",
    "    cur.execute(query12)\n",
    " \n",
    "    rows = cur.fetchall()\n",
    " \n",
    "    for row in rows:\n",
    "        print(row)\n",
    "        \n",
    "database = \"..\\sqlite\\db\\sqlite_db_pythonsqlite.db\"\n",
    " \n",
    "# create a database connection\n",
    "conn = create_connection(database)\n",
    "with conn: \n",
    "    print(\"12. Query all tasks\")\n",
    "    Question12(conn)"
   ]
  },
  {
   "cell_type": "markdown",
   "metadata": {},
   "source": [
    "/* Q13: Find the facilities usage by month, but not guests */"
   ]
  },
  {
   "cell_type": "code",
   "execution_count": 7,
   "metadata": {},
   "outputs": [
    {
     "name": "stdout",
     "output_type": "stream",
     "text": [
      "2.6.0\n",
      "13. Query all tasks\n",
      "('Tennis Court 1', '07', 65)\n",
      "('Tennis Court 1', '08', 111)\n",
      "('Tennis Court 1', '09', 132)\n",
      "('Tennis Court 2', '07', 41)\n",
      "('Tennis Court 2', '08', 109)\n",
      "('Tennis Court 2', '09', 126)\n",
      "('Badminton Court', '07', 51)\n",
      "('Badminton Court', '08', 132)\n",
      "('Badminton Court', '09', 161)\n",
      "('Table Tennis', '07', 48)\n",
      "('Table Tennis', '08', 143)\n",
      "('Table Tennis', '09', 194)\n",
      "('Massage Room 1', '07', 77)\n",
      "('Massage Room 1', '08', 153)\n",
      "('Massage Room 1', '09', 191)\n",
      "('Massage Room 2', '07', 4)\n",
      "('Massage Room 2', '08', 9)\n",
      "('Massage Room 2', '09', 14)\n",
      "('Squash Court', '07', 23)\n",
      "('Squash Court', '08', 85)\n",
      "('Squash Court', '09', 87)\n",
      "('Snooker Table', '07', 68)\n",
      "('Snooker Table', '08', 154)\n",
      "('Snooker Table', '09', 199)\n",
      "('Pool Table', '07', 103)\n",
      "('Pool Table', '08', 272)\n",
      "('Pool Table', '09', 408)\n"
     ]
    }
   ],
   "source": [
    "def Question13(conn):\n",
    "    \"\"\"\n",
    "    Query all rows in the tasks table\n",
    "    :param conn: the Connection object\n",
    "    :return:\n",
    "    \"\"\"\n",
    "    cur = conn.cursor()\n",
    "    \n",
    "    query13 = \"\"\"\n",
    "    select f.name, strftime('%m',b.starttime) , count(f.name) \n",
    "    from Bookings b JOIN Facilities f ON f.facid = b.facid\n",
    "    where b.memid != 0\n",
    "    group by b.facid, strftime('%m',b.starttime)\n",
    "    \n",
    "    \"\"\"\n",
    "    cur.execute(query13)\n",
    " \n",
    "    rows = cur.fetchall()\n",
    " \n",
    "    for row in rows:\n",
    "        print(row)\n",
    "        \n",
    "database = \"..\\sqlite\\db\\sqlite_db_pythonsqlite.db\"\n",
    " \n",
    "# create a database connection\n",
    "conn = create_connection(database)\n",
    "with conn: \n",
    "    print(\"13. Query all tasks\")\n",
    "    Question13(conn)"
   ]
  },
  {
   "cell_type": "code",
   "execution_count": null,
   "metadata": {},
   "outputs": [],
   "source": []
  }
 ],
 "metadata": {
  "kernelspec": {
   "display_name": "Python 3",
   "language": "python",
   "name": "python3"
  },
  "language_info": {
   "codemirror_mode": {
    "name": "ipython",
    "version": 3
   },
   "file_extension": ".py",
   "mimetype": "text/x-python",
   "name": "python",
   "nbconvert_exporter": "python",
   "pygments_lexer": "ipython3",
   "version": "3.8.3"
  }
 },
 "nbformat": 4,
 "nbformat_minor": 4
}
