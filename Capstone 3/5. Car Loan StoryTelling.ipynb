{
 "cells": [
  {
   "cell_type": "markdown",
   "id": "850c3559",
   "metadata": {},
   "source": [
    "# Storytelling - Predict where price values will go\n",
    "\n",
    "\n",
    "copy start problem statement, where you got data\n",
    "\n",
    "data wrangling eda preprocess modeling\n",
    "\n",
    "issue with data cleaning\n",
    "\n",
    "charts\n",
    "\n",
    "add hypothesis test\n",
    "\n",
    "details from model exercise\n",
    "\n",
    "\n",
    "\n"
   ]
  },
  {
   "cell_type": "markdown",
   "id": "a30fc6ed",
   "metadata": {},
   "source": [
    "https://www.kaggle.com/austinreese/craigslist-carstrucks-data\n",
    "\n",
    "Being a person that drives and need a vehicle soon.  What kind a of vehicle should I buy.  Sedan, SUV,  Truck or a mini-van"
   ]
  },
  {
   "cell_type": "markdown",
   "id": "ed0a358b",
   "metadata": {},
   "source": [
    "# Cleaning Data"
   ]
  },
  {
   "cell_type": "code",
   "execution_count": null,
   "id": "7e4105df",
   "metadata": {},
   "outputs": [],
   "source": []
  },
  {
   "cell_type": "code",
   "execution_count": null,
   "id": "0f62e6f9",
   "metadata": {},
   "outputs": [],
   "source": []
  },
  {
   "cell_type": "markdown",
   "id": "fb51c3e8",
   "metadata": {},
   "source": [
    "# EDA"
   ]
  },
  {
   "cell_type": "code",
   "execution_count": null,
   "id": "77d47a67",
   "metadata": {},
   "outputs": [],
   "source": []
  },
  {
   "cell_type": "code",
   "execution_count": null,
   "id": "4802275e",
   "metadata": {},
   "outputs": [],
   "source": []
  },
  {
   "cell_type": "markdown",
   "id": "f2eb0077",
   "metadata": {},
   "source": [
    "# Preprocess:"
   ]
  },
  {
   "cell_type": "code",
   "execution_count": null,
   "id": "2a59d887",
   "metadata": {},
   "outputs": [],
   "source": []
  },
  {
   "cell_type": "markdown",
   "id": "5ec7d129",
   "metadata": {},
   "source": [
    "# Modeling"
   ]
  },
  {
   "cell_type": "code",
   "execution_count": null,
   "id": "2948a848",
   "metadata": {},
   "outputs": [],
   "source": []
  },
  {
   "cell_type": "code",
   "execution_count": null,
   "id": "bd6ba326",
   "metadata": {},
   "outputs": [],
   "source": []
  },
  {
   "cell_type": "code",
   "execution_count": null,
   "id": "af3f12b5",
   "metadata": {},
   "outputs": [],
   "source": []
  },
  {
   "cell_type": "code",
   "execution_count": null,
   "id": "c3ff6565",
   "metadata": {},
   "outputs": [],
   "source": []
  }
 ],
 "metadata": {
  "kernelspec": {
   "display_name": "Python 3",
   "language": "python",
   "name": "python3"
  },
  "language_info": {
   "codemirror_mode": {
    "name": "ipython",
    "version": 3
   },
   "file_extension": ".py",
   "mimetype": "text/x-python",
   "name": "python",
   "nbconvert_exporter": "python",
   "pygments_lexer": "ipython3",
   "version": "3.8.10"
  }
 },
 "nbformat": 4,
 "nbformat_minor": 5
}
