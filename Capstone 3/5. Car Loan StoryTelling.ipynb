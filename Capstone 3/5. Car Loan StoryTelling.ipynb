{
 "cells": [
  {
   "cell_type": "markdown",
   "id": "3902f74d",
   "metadata": {},
   "source": [
    "# Storytelling - Predict where price values will go\n",
    "\n",
    "\n",
    "copy start problem statement, where you got data\n",
    "\n",
    "data wrangling eda preprocess modeling\n",
    "\n",
    "issue with data cleaning\n",
    "\n",
    "charts\n",
    "\n",
    "add hypothesis test\n",
    "\n",
    "details from model exercise\n",
    "\n",
    "\n",
    "\n"
   ]
  },
  {
   "cell_type": "markdown",
   "id": "0d7d65ea",
   "metadata": {},
   "source": [
    "https://www.kaggle.com/austinreese/craigslist-carstrucks-data\n",
    "\n",
    "Wiki of history of chip shortage\n",
    "https://en.wikipedia.org/wiki/Chip_shortage#2020%E2%80%9321_global_chip_shortage\n",
    "\n",
    "Being a person that drives and need a vehicle soon.  I want to use this opportunity to learn about used car priced.  What kind a of vehicle should I buy.  Sedan, SUV,  Truck or a mini-van.  As a country of car users I want to understand and predict where the cost of vehicle are going.  There is a current shortage of chips since Feb 2020.  I am hoping to use data to see if car prices increase followed that trend.\n",
    "\n",
    "I need to find what is the most sold vehicle and quality of vehicle sold.\n"
   ]
  },
  {
   "cell_type": "markdown",
   "id": "2211fb45",
   "metadata": {},
   "source": [
    "# Data Wrangling"
   ]
  },
  {
   "cell_type": "markdown",
   "id": "1ed6238c",
   "metadata": {},
   "source": [
    "During data wrangling I saw there there total of 25 columns of data.  I dropped the follow columns 'county','id','url','image_url','region_url','size','description' and 'VIN' because the data is inmeasuable or too many nulls.  For instance the column county was the most useless column because all rows of data were null.  Next to get rid of size as more than 75% of data was missing.  After getting rid of data I had only 17 columns left.\n",
    "\n",
    "Next step was to get rid of all NA rows of data. Another thing I had to do was to adjust the posting date to a more usable date.  I chose to strip out the part that I didnt want by creating a new column copy the first 10 char from the \"posting_date\" to \"posting_date2\"\n",
    "\n",
    "The columns that had NA were filled in with .fillna in columns 'fuel','transmission','manufacturer', and 'type'.\n",
    "\n",
    "While I was doing eda I noticed some strange average number for vehicle 'type'.  I had to go back and drop an additonal 18 rows of data becuase the price was too high and cause the mean of price to be way off.  In section 4.10-4.13\n",
    "\n",
    "\n"
   ]
  },
  {
   "cell_type": "markdown",
   "id": "82962ca9",
   "metadata": {},
   "source": [
    "# EDA"
   ]
  },
  {
   "cell_type": "markdown",
   "id": "fb660a37",
   "metadata": {},
   "source": [
    "After the data wrangling I imported the cleanse data and see I have 129865 rows of data and 18 columns.  \n",
    "\n",
    "<img src=\"ColumnAvailable.JPG\">\n",
    "\n",
    "The cars being sold on craigslist are from all 51 states.  The count DC as a state because DC is stateless and captital of USA.\n",
    "\n",
    "<img src=\"UniqueState.JPG\">\n",
    "\n",
    "There is vehicle from 105 different years.  The oldest vehilce is from 1920\n",
    "\n",
    "<img src=\"YearsOfVehicle.JPG\">\n",
    "\n",
    "The most popular paint color car sold is white at 32294\n",
    "<img src=\"PaintColor.JPG\">\n",
    "\n",
    "\n",
    "Here is a graph that shows that average trending prices of all vehicles\n",
    "<img src=\"AVGAllVehicles.JPG\">"
   ]
  },
  {
   "cell_type": "markdown",
   "id": "4d36cc0d",
   "metadata": {},
   "source": [
    "# Preprocess:"
   ]
  },
  {
   "cell_type": "markdown",
   "id": "fae5a6a6",
   "metadata": {},
   "source": [
    "\n",
    "In this task we had to convert all columns from charcters to numbers. One of the steps i used was convert these features into a more managable number. I took the log10 of features 'price' and 'odometer'."
   ]
  },
  {
   "cell_type": "markdown",
   "id": "2d9cd5e7",
   "metadata": {},
   "source": [
    "# Modeling"
   ]
  },
  {
   "cell_type": "code",
   "execution_count": null,
   "id": "bf69c5f0",
   "metadata": {},
   "outputs": [],
   "source": []
  },
  {
   "cell_type": "code",
   "execution_count": null,
   "id": "939dc42c",
   "metadata": {},
   "outputs": [],
   "source": []
  },
  {
   "cell_type": "code",
   "execution_count": null,
   "id": "d6a86ce3",
   "metadata": {},
   "outputs": [],
   "source": []
  },
  {
   "cell_type": "code",
   "execution_count": null,
   "id": "547252c0",
   "metadata": {},
   "outputs": [],
   "source": []
  }
 ],
 "metadata": {
  "kernelspec": {
   "display_name": "Python 3",
   "language": "python",
   "name": "python3"
  },
  "language_info": {
   "codemirror_mode": {
    "name": "ipython",
    "version": 3
   },
   "file_extension": ".py",
   "mimetype": "text/x-python",
   "name": "python",
   "nbconvert_exporter": "python",
   "pygments_lexer": "ipython3",
   "version": "3.8.10"
  }
 },
 "nbformat": 4,
 "nbformat_minor": 5
}
