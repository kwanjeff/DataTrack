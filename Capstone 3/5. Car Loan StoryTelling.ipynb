{
 "cells": [
  {
   "cell_type": "markdown",
   "id": "99fa1ded",
   "metadata": {},
   "source": [
    "# Storytelling - Predict where price values will go\n",
    "\n",
    "\n",
    "copy start problem statement, where you got data\n",
    "\n",
    "data wrangling eda preprocess modeling\n",
    "\n",
    "issue with data cleaning\n",
    "\n",
    "charts\n",
    "\n",
    "add hypothesis test\n",
    "\n",
    "details from model exercise\n",
    "\n",
    "\n",
    "\n"
   ]
  },
  {
   "cell_type": "markdown",
   "id": "37e3aa6f",
   "metadata": {},
   "source": [
    "https://www.kaggle.com/austinreese/craigslist-carstrucks-data\n",
    "\n",
    "Wiki of history of chip shortage\n",
    "https://en.wikipedia.org/wiki/Chip_shortage#2020%E2%80%9321_global_chip_shortage\n",
    "\n",
    "Being a person that drives and need a vehicle soon.  I want to use this opportunity to learn about used car priced.  What kind a of vehicle should I buy.  Sedan, SUV,  Truck or a mini-van.  As a country of car users I want to understand and predict where the cost of vehicle are going.  There is a current shortage of chips since Feb 2020.  I am hoping to use data to see if car prices increase followed that trend.\n",
    "\n",
    "I need to find what is the most sold vehicle and quality of vehicle sold.\n"
   ]
  },
  {
   "cell_type": "markdown",
   "id": "c65d80f0",
   "metadata": {},
   "source": [
    "# Data Wrangling"
   ]
  },
  {
   "cell_type": "markdown",
   "id": "709a624a",
   "metadata": {},
   "source": [
    "During data wrangling I saw there there total of 25 columns of data.  I dropped the follow columns 'county','id','url','image_url','region_url','size','description' and 'VIN' because the data is inmeasuable or too many nulls.  For instance the column county was the most useless column because all rows of data were null.  Next to get rid of size as more than 75% of data was missing.  After getting rid of data I had only 17 columns left.\n",
    "\n",
    "Next step was to get rid of all NA rows of data.  After I did that I had 129883 rows of data left.  Another thing I had to do was to adjust the posting date to a more usable date.  I chose to strip out the part that I didnt want by creating a new column copy the first 10 char from the \"posting_date\" to \"posting_date2\"\n",
    "\n",
    "The columns that had NA were filled in with .fillna in columns 'fuel','transmission','manufacturer', and 'type'.\n",
    "\n",
    "\n"
   ]
  },
  {
   "cell_type": "code",
   "execution_count": null,
   "id": "21adffad",
   "metadata": {},
   "outputs": [],
   "source": []
  },
  {
   "cell_type": "markdown",
   "id": "dfbffb08",
   "metadata": {},
   "source": [
    "# EDA"
   ]
  },
  {
   "cell_type": "markdown",
   "id": "cef6a5e9",
   "metadata": {},
   "source": [
    "After the data wrangling I imported the cleanse data and see I have 129883 rows of data and 19 columns.  \n",
    "\n",
    "<img src=\"ColumnAvailable.JPG\">\n",
    "\n",
    "Here are a few intersting thingds I found from data.  The average price per vehicle per type \n",
    "\n",
    "<img src=\"AVGPricePerVehicleType.JPG\">\n",
    "\n",
    "The \n",
    "\n",
    "<img src=\"UniqueState.JPG\">\n",
    "\n",
    "<img src=\"YearsOfVehicle.JPG\">\n",
    "\n",
    "The most popular paint color car sold is white at 32300\n",
    "<img src=\"PaintColor.JPG\">\n",
    "\n",
    "\n",
    "Here is a graph that shows that average trending prices of all vehicles"
   ]
  },
  {
   "cell_type": "code",
   "execution_count": null,
   "id": "9f927e55",
   "metadata": {},
   "outputs": [],
   "source": []
  },
  {
   "cell_type": "markdown",
   "id": "747ead86",
   "metadata": {},
   "source": [
    "# Preprocess:"
   ]
  },
  {
   "cell_type": "code",
   "execution_count": null,
   "id": "d446fa0e",
   "metadata": {},
   "outputs": [],
   "source": []
  },
  {
   "cell_type": "markdown",
   "id": "1c79a591",
   "metadata": {},
   "source": [
    "# Modeling"
   ]
  },
  {
   "cell_type": "code",
   "execution_count": null,
   "id": "3c546270",
   "metadata": {},
   "outputs": [],
   "source": []
  },
  {
   "cell_type": "code",
   "execution_count": null,
   "id": "7994cfbc",
   "metadata": {},
   "outputs": [],
   "source": []
  },
  {
   "cell_type": "code",
   "execution_count": null,
   "id": "6b42c57b",
   "metadata": {},
   "outputs": [],
   "source": []
  },
  {
   "cell_type": "code",
   "execution_count": null,
   "id": "f4b10e2c",
   "metadata": {},
   "outputs": [],
   "source": []
  }
 ],
 "metadata": {
  "kernelspec": {
   "display_name": "Python 3",
   "language": "python",
   "name": "python3"
  },
  "language_info": {
   "codemirror_mode": {
    "name": "ipython",
    "version": 3
   },
   "file_extension": ".py",
   "mimetype": "text/x-python",
   "name": "python",
   "nbconvert_exporter": "python",
   "pygments_lexer": "ipython3",
   "version": "3.8.10"
  }
 },
 "nbformat": 4,
 "nbformat_minor": 5
}
