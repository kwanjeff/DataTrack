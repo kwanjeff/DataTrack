{
 "cells": [
  {
   "cell_type": "markdown",
   "id": "11690f62",
   "metadata": {},
   "source": [
    "data visualization\n",
    "\n",
    "statistical graphing"
   ]
  },
  {
   "cell_type": "code",
   "execution_count": null,
   "id": "e761b8b1",
   "metadata": {},
   "outputs": [],
   "source": [
    "#Task 1.0  import libraries \n",
    "import pandas as pd\n",
    "import matplotlib.pyplot as plt\n",
    "import numpy as np\n",
    "import seaborn as sns\n",
    "from sklearn.model_selection import train_test_split\n",
    "from  sklearn import preprocessing"
   ]
  },
  {
   "cell_type": "code",
   "execution_count": null,
   "id": "f3584b04",
   "metadata": {},
   "outputs": [],
   "source": [
    "#Task 1\n",
    "#import pandas\n",
    "import pandas as pd\n",
    "import matplotlib.pyplot as plt\n",
    "from matplotlib import rcParams\n",
    "import seaborn as sns\n",
    "import numpy as np\n",
    "import os\n",
    "import sklearn\n",
    "from sklearn.model_selection import train_test_split\n",
    "\n",
    "\n"
   ]
  },
  {
   "cell_type": "code",
   "execution_count": null,
   "id": "004d3839",
   "metadata": {},
   "outputs": [],
   "source": [
    "##import inforamtion from cleaned data from previous \n",
    "#Task 1.1  import csv file\n",
    "\n",
    "UsedVehicle=pd.read_csv(r'.\\Data\\UsedCarData\\clean_vehicles.csv')"
   ]
  },
  {
   "cell_type": "code",
   "execution_count": null,
   "id": "670bbca2",
   "metadata": {},
   "outputs": [],
   "source": []
  },
  {
   "cell_type": "code",
   "execution_count": null,
   "id": "f802f30f",
   "metadata": {},
   "outputs": [],
   "source": [
    "#Task 1\n",
    "UsedVehicle.info"
   ]
  }
 ],
 "metadata": {
  "kernelspec": {
   "display_name": "Python 3",
   "language": "python",
   "name": "python3"
  },
  "language_info": {
   "codemirror_mode": {
    "name": "ipython",
    "version": 3
   },
   "file_extension": ".py",
   "mimetype": "text/x-python",
   "name": "python",
   "nbconvert_exporter": "python",
   "pygments_lexer": "ipython3",
   "version": "3.8.10"
  }
 },
 "nbformat": 4,
 "nbformat_minor": 5
}
