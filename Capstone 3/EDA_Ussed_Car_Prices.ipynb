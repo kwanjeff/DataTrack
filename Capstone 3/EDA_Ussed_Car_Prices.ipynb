{
 "cells": [
  {
   "cell_type": "markdown",
   "id": "47be0c69",
   "metadata": {},
   "source": [
    "data visualization\n",
    "\n",
    "statistical graphing"
   ]
  },
  {
   "cell_type": "code",
   "execution_count": 51,
   "id": "72465956",
   "metadata": {},
   "outputs": [],
   "source": [
    "#Task 1.0  import libraries \n",
    "#import pandas\n",
    "import pandas as pd\n",
    "import matplotlib.pyplot as plt\n",
    "from matplotlib import rcParams\n",
    "import seaborn as sns\n",
    "import numpy as np\n",
    "import os\n",
    "import sklearn\n",
    "from sklearn.model_selection import train_test_split\n",
    "\n",
    "import warnings\n",
    "warnings.filterwarnings(\"ignore\")"
   ]
  },
  {
   "cell_type": "code",
   "execution_count": 2,
   "id": "a5f88e7a",
   "metadata": {},
   "outputs": [],
   "source": [
    "##import inforamtion from cleaned data from previous \n",
    "#Task 1.1  import csv file\n",
    "\n",
    "UsedVehicle=pd.read_csv(r'.\\Data\\UsedCarData\\clean_vehicles.csv', header=0 )"
   ]
  },
  {
   "cell_type": "code",
   "execution_count": 3,
   "id": "ccb1c353",
   "metadata": {},
   "outputs": [
    {
     "data": {
      "text/html": [
       "<div>\n",
       "<style scoped>\n",
       "    .dataframe tbody tr th:only-of-type {\n",
       "        vertical-align: middle;\n",
       "    }\n",
       "\n",
       "    .dataframe tbody tr th {\n",
       "        vertical-align: top;\n",
       "    }\n",
       "\n",
       "    .dataframe thead th {\n",
       "        text-align: right;\n",
       "    }\n",
       "</style>\n",
       "<table border=\"1\" class=\"dataframe\">\n",
       "  <thead>\n",
       "    <tr style=\"text-align: right;\">\n",
       "      <th></th>\n",
       "      <th>id</th>\n",
       "      <th>url</th>\n",
       "      <th>region</th>\n",
       "      <th>region_url</th>\n",
       "      <th>price</th>\n",
       "      <th>year</th>\n",
       "      <th>manufacturer</th>\n",
       "      <th>model</th>\n",
       "      <th>condition</th>\n",
       "      <th>cylinders</th>\n",
       "      <th>...</th>\n",
       "      <th>drive</th>\n",
       "      <th>size</th>\n",
       "      <th>type</th>\n",
       "      <th>paint_color</th>\n",
       "      <th>image_url</th>\n",
       "      <th>description</th>\n",
       "      <th>state</th>\n",
       "      <th>lat</th>\n",
       "      <th>long</th>\n",
       "      <th>posting_date</th>\n",
       "    </tr>\n",
       "  </thead>\n",
       "  <tbody>\n",
       "    <tr>\n",
       "      <th>0</th>\n",
       "      <td>7316814884</td>\n",
       "      <td>https://auburn.craigslist.org/ctd/d/auburn-uni...</td>\n",
       "      <td>auburn</td>\n",
       "      <td>https://auburn.craigslist.org</td>\n",
       "      <td>33590</td>\n",
       "      <td>2014.0</td>\n",
       "      <td>gmc</td>\n",
       "      <td>sierra 1500 crew cab slt</td>\n",
       "      <td>good</td>\n",
       "      <td>8 cylinders</td>\n",
       "      <td>...</td>\n",
       "      <td>unknown</td>\n",
       "      <td>unknown</td>\n",
       "      <td>pickup</td>\n",
       "      <td>white</td>\n",
       "      <td>https://images.craigslist.org/00R0R_lwWjXSEWNa...</td>\n",
       "      <td>Carvana is the safer way to buy a car During t...</td>\n",
       "      <td>al</td>\n",
       "      <td>32.59</td>\n",
       "      <td>-85.48</td>\n",
       "      <td>2021-05-04 12:31:18-05:00</td>\n",
       "    </tr>\n",
       "    <tr>\n",
       "      <th>1</th>\n",
       "      <td>7316814758</td>\n",
       "      <td>https://auburn.craigslist.org/ctd/d/auburn-uni...</td>\n",
       "      <td>auburn</td>\n",
       "      <td>https://auburn.craigslist.org</td>\n",
       "      <td>22590</td>\n",
       "      <td>2010.0</td>\n",
       "      <td>chevrolet</td>\n",
       "      <td>silverado 1500</td>\n",
       "      <td>good</td>\n",
       "      <td>8 cylinders</td>\n",
       "      <td>...</td>\n",
       "      <td>unknown</td>\n",
       "      <td>unknown</td>\n",
       "      <td>pickup</td>\n",
       "      <td>blue</td>\n",
       "      <td>https://images.craigslist.org/00R0R_lwWjXSEWNa...</td>\n",
       "      <td>Carvana is the safer way to buy a car During t...</td>\n",
       "      <td>al</td>\n",
       "      <td>32.59</td>\n",
       "      <td>-85.48</td>\n",
       "      <td>2021-05-04 12:31:08-05:00</td>\n",
       "    </tr>\n",
       "    <tr>\n",
       "      <th>2</th>\n",
       "      <td>7316814989</td>\n",
       "      <td>https://auburn.craigslist.org/ctd/d/auburn-uni...</td>\n",
       "      <td>auburn</td>\n",
       "      <td>https://auburn.craigslist.org</td>\n",
       "      <td>39590</td>\n",
       "      <td>2020.0</td>\n",
       "      <td>chevrolet</td>\n",
       "      <td>silverado 1500 crew</td>\n",
       "      <td>good</td>\n",
       "      <td>8 cylinders</td>\n",
       "      <td>...</td>\n",
       "      <td>unknown</td>\n",
       "      <td>unknown</td>\n",
       "      <td>pickup</td>\n",
       "      <td>red</td>\n",
       "      <td>https://images.craigslist.org/01212_jjirIWa0y0...</td>\n",
       "      <td>Carvana is the safer way to buy a car During t...</td>\n",
       "      <td>al</td>\n",
       "      <td>32.59</td>\n",
       "      <td>-85.48</td>\n",
       "      <td>2021-05-04 12:31:25-05:00</td>\n",
       "    </tr>\n",
       "    <tr>\n",
       "      <th>3</th>\n",
       "      <td>7316743432</td>\n",
       "      <td>https://auburn.craigslist.org/ctd/d/auburn-uni...</td>\n",
       "      <td>auburn</td>\n",
       "      <td>https://auburn.craigslist.org</td>\n",
       "      <td>30990</td>\n",
       "      <td>2017.0</td>\n",
       "      <td>toyota</td>\n",
       "      <td>tundra double cab sr</td>\n",
       "      <td>good</td>\n",
       "      <td>8 cylinders</td>\n",
       "      <td>...</td>\n",
       "      <td>unknown</td>\n",
       "      <td>unknown</td>\n",
       "      <td>pickup</td>\n",
       "      <td>red</td>\n",
       "      <td>https://images.craigslist.org/00x0x_1y9kIOzGCF...</td>\n",
       "      <td>Carvana is the safer way to buy a car During t...</td>\n",
       "      <td>al</td>\n",
       "      <td>32.59</td>\n",
       "      <td>-85.48</td>\n",
       "      <td>2021-05-04 10:41:31-05:00</td>\n",
       "    </tr>\n",
       "    <tr>\n",
       "      <th>4</th>\n",
       "      <td>7316356412</td>\n",
       "      <td>https://auburn.craigslist.org/cto/d/auburn-uni...</td>\n",
       "      <td>auburn</td>\n",
       "      <td>https://auburn.craigslist.org</td>\n",
       "      <td>15000</td>\n",
       "      <td>2013.0</td>\n",
       "      <td>ford</td>\n",
       "      <td>f-150 xlt</td>\n",
       "      <td>excellent</td>\n",
       "      <td>6 cylinders</td>\n",
       "      <td>...</td>\n",
       "      <td>rwd</td>\n",
       "      <td>full-size</td>\n",
       "      <td>truck</td>\n",
       "      <td>black</td>\n",
       "      <td>https://images.craigslist.org/00404_l4loxHvdQe...</td>\n",
       "      <td>2013 F-150 XLT V6 4 Door. Good condition. Leve...</td>\n",
       "      <td>al</td>\n",
       "      <td>32.592</td>\n",
       "      <td>-85.5189</td>\n",
       "      <td>2021-05-03 14:02:03-05:00</td>\n",
       "    </tr>\n",
       "    <tr>\n",
       "      <th>5</th>\n",
       "      <td>7316343444</td>\n",
       "      <td>https://auburn.craigslist.org/ctd/d/auburn-uni...</td>\n",
       "      <td>auburn</td>\n",
       "      <td>https://auburn.craigslist.org</td>\n",
       "      <td>27990</td>\n",
       "      <td>2012.0</td>\n",
       "      <td>gmc</td>\n",
       "      <td>sierra 2500 hd extended cab</td>\n",
       "      <td>good</td>\n",
       "      <td>8 cylinders</td>\n",
       "      <td>...</td>\n",
       "      <td>4wd</td>\n",
       "      <td>unknown</td>\n",
       "      <td>pickup</td>\n",
       "      <td>black</td>\n",
       "      <td>https://images.craigslist.org/00V0V_ftJbKrOgdi...</td>\n",
       "      <td>Carvana is the safer way to buy a car During t...</td>\n",
       "      <td>al</td>\n",
       "      <td>32.59</td>\n",
       "      <td>-85.48</td>\n",
       "      <td>2021-05-03 13:41:25-05:00</td>\n",
       "    </tr>\n",
       "    <tr>\n",
       "      <th>6</th>\n",
       "      <td>7316304717</td>\n",
       "      <td>https://auburn.craigslist.org/ctd/d/auburn-uni...</td>\n",
       "      <td>auburn</td>\n",
       "      <td>https://auburn.craigslist.org</td>\n",
       "      <td>34590</td>\n",
       "      <td>2016.0</td>\n",
       "      <td>chevrolet</td>\n",
       "      <td>silverado 1500 double</td>\n",
       "      <td>good</td>\n",
       "      <td>6 cylinders</td>\n",
       "      <td>...</td>\n",
       "      <td>4wd</td>\n",
       "      <td>unknown</td>\n",
       "      <td>pickup</td>\n",
       "      <td>silver</td>\n",
       "      <td>https://images.craigslist.org/00E0E_iKN07Sh7ou...</td>\n",
       "      <td>Carvana is the safer way to buy a car During t...</td>\n",
       "      <td>al</td>\n",
       "      <td>32.59</td>\n",
       "      <td>-85.48</td>\n",
       "      <td>2021-05-03 12:41:33-05:00</td>\n",
       "    </tr>\n",
       "    <tr>\n",
       "      <th>7</th>\n",
       "      <td>7316285779</td>\n",
       "      <td>https://auburn.craigslist.org/cto/d/auburn-201...</td>\n",
       "      <td>auburn</td>\n",
       "      <td>https://auburn.craigslist.org</td>\n",
       "      <td>35000</td>\n",
       "      <td>2019.0</td>\n",
       "      <td>toyota</td>\n",
       "      <td>tacoma</td>\n",
       "      <td>excellent</td>\n",
       "      <td>6 cylinders</td>\n",
       "      <td>...</td>\n",
       "      <td>4wd</td>\n",
       "      <td>unknown</td>\n",
       "      <td>truck</td>\n",
       "      <td>grey</td>\n",
       "      <td>https://images.craigslist.org/00101_dXoZTH7iVm...</td>\n",
       "      <td>Selling my 2019 Toyota Tacoma TRD Off Road Dou...</td>\n",
       "      <td>al</td>\n",
       "      <td>32.6013</td>\n",
       "      <td>-85.443974</td>\n",
       "      <td>2021-05-03 12:12:59-05:00</td>\n",
       "    </tr>\n",
       "    <tr>\n",
       "      <th>8</th>\n",
       "      <td>7316257769</td>\n",
       "      <td>https://auburn.craigslist.org/ctd/d/auburn-uni...</td>\n",
       "      <td>auburn</td>\n",
       "      <td>https://auburn.craigslist.org</td>\n",
       "      <td>29990</td>\n",
       "      <td>2016.0</td>\n",
       "      <td>chevrolet</td>\n",
       "      <td>colorado extended cab</td>\n",
       "      <td>good</td>\n",
       "      <td>6 cylinders</td>\n",
       "      <td>...</td>\n",
       "      <td>4wd</td>\n",
       "      <td>unknown</td>\n",
       "      <td>pickup</td>\n",
       "      <td>red</td>\n",
       "      <td>https://images.craigslist.org/00N0N_1xMPvfxRAI...</td>\n",
       "      <td>Carvana is the safer way to buy a car During t...</td>\n",
       "      <td>al</td>\n",
       "      <td>32.59</td>\n",
       "      <td>-85.48</td>\n",
       "      <td>2021-05-03 11:31:14-05:00</td>\n",
       "    </tr>\n",
       "    <tr>\n",
       "      <th>9</th>\n",
       "      <td>7316133914</td>\n",
       "      <td>https://auburn.craigslist.org/ctd/d/auburn-uni...</td>\n",
       "      <td>auburn</td>\n",
       "      <td>https://auburn.craigslist.org</td>\n",
       "      <td>38590</td>\n",
       "      <td>2011.0</td>\n",
       "      <td>chevrolet</td>\n",
       "      <td>corvette grand sport</td>\n",
       "      <td>good</td>\n",
       "      <td>8 cylinders</td>\n",
       "      <td>...</td>\n",
       "      <td>rwd</td>\n",
       "      <td>unknown</td>\n",
       "      <td>other</td>\n",
       "      <td>red</td>\n",
       "      <td>https://images.craigslist.org/00U0U_kKYnS1LWh8...</td>\n",
       "      <td>Carvana is the safer way to buy a car During t...</td>\n",
       "      <td>al</td>\n",
       "      <td>32.59</td>\n",
       "      <td>-85.48</td>\n",
       "      <td>2021-05-03 07:50:35-05:00</td>\n",
       "    </tr>\n",
       "  </tbody>\n",
       "</table>\n",
       "<p>10 rows × 25 columns</p>\n",
       "</div>"
      ],
      "text/plain": [
       "           id                                                url  region  \\\n",
       "0  7316814884  https://auburn.craigslist.org/ctd/d/auburn-uni...  auburn   \n",
       "1  7316814758  https://auburn.craigslist.org/ctd/d/auburn-uni...  auburn   \n",
       "2  7316814989  https://auburn.craigslist.org/ctd/d/auburn-uni...  auburn   \n",
       "3  7316743432  https://auburn.craigslist.org/ctd/d/auburn-uni...  auburn   \n",
       "4  7316356412  https://auburn.craigslist.org/cto/d/auburn-uni...  auburn   \n",
       "5  7316343444  https://auburn.craigslist.org/ctd/d/auburn-uni...  auburn   \n",
       "6  7316304717  https://auburn.craigslist.org/ctd/d/auburn-uni...  auburn   \n",
       "7  7316285779  https://auburn.craigslist.org/cto/d/auburn-201...  auburn   \n",
       "8  7316257769  https://auburn.craigslist.org/ctd/d/auburn-uni...  auburn   \n",
       "9  7316133914  https://auburn.craigslist.org/ctd/d/auburn-uni...  auburn   \n",
       "\n",
       "                      region_url  price    year manufacturer  \\\n",
       "0  https://auburn.craigslist.org  33590  2014.0          gmc   \n",
       "1  https://auburn.craigslist.org  22590  2010.0    chevrolet   \n",
       "2  https://auburn.craigslist.org  39590  2020.0    chevrolet   \n",
       "3  https://auburn.craigslist.org  30990  2017.0       toyota   \n",
       "4  https://auburn.craigslist.org  15000  2013.0         ford   \n",
       "5  https://auburn.craigslist.org  27990  2012.0          gmc   \n",
       "6  https://auburn.craigslist.org  34590  2016.0    chevrolet   \n",
       "7  https://auburn.craigslist.org  35000  2019.0       toyota   \n",
       "8  https://auburn.craigslist.org  29990  2016.0    chevrolet   \n",
       "9  https://auburn.craigslist.org  38590  2011.0    chevrolet   \n",
       "\n",
       "                         model  condition    cylinders  ...    drive  \\\n",
       "0     sierra 1500 crew cab slt       good  8 cylinders  ...  unknown   \n",
       "1               silverado 1500       good  8 cylinders  ...  unknown   \n",
       "2          silverado 1500 crew       good  8 cylinders  ...  unknown   \n",
       "3         tundra double cab sr       good  8 cylinders  ...  unknown   \n",
       "4                    f-150 xlt  excellent  6 cylinders  ...      rwd   \n",
       "5  sierra 2500 hd extended cab       good  8 cylinders  ...      4wd   \n",
       "6        silverado 1500 double       good  6 cylinders  ...      4wd   \n",
       "7                       tacoma  excellent  6 cylinders  ...      4wd   \n",
       "8        colorado extended cab       good  6 cylinders  ...      4wd   \n",
       "9         corvette grand sport       good  8 cylinders  ...      rwd   \n",
       "\n",
       "        size    type paint_color  \\\n",
       "0    unknown  pickup       white   \n",
       "1    unknown  pickup        blue   \n",
       "2    unknown  pickup         red   \n",
       "3    unknown  pickup         red   \n",
       "4  full-size   truck       black   \n",
       "5    unknown  pickup       black   \n",
       "6    unknown  pickup      silver   \n",
       "7    unknown   truck        grey   \n",
       "8    unknown  pickup         red   \n",
       "9    unknown   other         red   \n",
       "\n",
       "                                           image_url  \\\n",
       "0  https://images.craigslist.org/00R0R_lwWjXSEWNa...   \n",
       "1  https://images.craigslist.org/00R0R_lwWjXSEWNa...   \n",
       "2  https://images.craigslist.org/01212_jjirIWa0y0...   \n",
       "3  https://images.craigslist.org/00x0x_1y9kIOzGCF...   \n",
       "4  https://images.craigslist.org/00404_l4loxHvdQe...   \n",
       "5  https://images.craigslist.org/00V0V_ftJbKrOgdi...   \n",
       "6  https://images.craigslist.org/00E0E_iKN07Sh7ou...   \n",
       "7  https://images.craigslist.org/00101_dXoZTH7iVm...   \n",
       "8  https://images.craigslist.org/00N0N_1xMPvfxRAI...   \n",
       "9  https://images.craigslist.org/00U0U_kKYnS1LWh8...   \n",
       "\n",
       "                                         description state      lat  \\\n",
       "0  Carvana is the safer way to buy a car During t...    al    32.59   \n",
       "1  Carvana is the safer way to buy a car During t...    al    32.59   \n",
       "2  Carvana is the safer way to buy a car During t...    al    32.59   \n",
       "3  Carvana is the safer way to buy a car During t...    al    32.59   \n",
       "4  2013 F-150 XLT V6 4 Door. Good condition. Leve...    al   32.592   \n",
       "5  Carvana is the safer way to buy a car During t...    al    32.59   \n",
       "6  Carvana is the safer way to buy a car During t...    al    32.59   \n",
       "7  Selling my 2019 Toyota Tacoma TRD Off Road Dou...    al  32.6013   \n",
       "8  Carvana is the safer way to buy a car During t...    al    32.59   \n",
       "9  Carvana is the safer way to buy a car During t...    al    32.59   \n",
       "\n",
       "         long               posting_date  \n",
       "0      -85.48  2021-05-04 12:31:18-05:00  \n",
       "1      -85.48  2021-05-04 12:31:08-05:00  \n",
       "2      -85.48  2021-05-04 12:31:25-05:00  \n",
       "3      -85.48  2021-05-04 10:41:31-05:00  \n",
       "4    -85.5189  2021-05-03 14:02:03-05:00  \n",
       "5      -85.48  2021-05-03 13:41:25-05:00  \n",
       "6      -85.48  2021-05-03 12:41:33-05:00  \n",
       "7  -85.443974  2021-05-03 12:12:59-05:00  \n",
       "8      -85.48  2021-05-03 11:31:14-05:00  \n",
       "9      -85.48  2021-05-03 07:50:35-05:00  \n",
       "\n",
       "[10 rows x 25 columns]"
      ]
     },
     "execution_count": 3,
     "metadata": {},
     "output_type": "execute_result"
    }
   ],
   "source": [
    "UsedVehicle.head(10)"
   ]
  },
  {
   "cell_type": "code",
   "execution_count": 4,
   "id": "e00141a0",
   "metadata": {},
   "outputs": [
    {
     "name": "stdout",
     "output_type": "stream",
     "text": [
      "<class 'pandas.core.frame.DataFrame'>\n",
      "RangeIndex: 416149 entries, 0 to 416148\n",
      "Data columns (total 25 columns):\n",
      " #   Column        Non-Null Count   Dtype  \n",
      "---  ------        --------------   -----  \n",
      " 0   id            416149 non-null  int64  \n",
      " 1   url           416149 non-null  object \n",
      " 2   region        416149 non-null  object \n",
      " 3   region_url    416149 non-null  object \n",
      " 4   price         416149 non-null  int64  \n",
      " 5   year          416149 non-null  float64\n",
      " 6   manufacturer  416149 non-null  object \n",
      " 7   model         416149 non-null  object \n",
      " 8   condition     416149 non-null  object \n",
      " 9   cylinders     416149 non-null  object \n",
      " 10  fuel          416149 non-null  object \n",
      " 11  odometer      416149 non-null  float64\n",
      " 12  title_status  416149 non-null  object \n",
      " 13  transmission  416149 non-null  object \n",
      " 14  VIN           416149 non-null  object \n",
      " 15  drive         416149 non-null  object \n",
      " 16  size          416149 non-null  object \n",
      " 17  type          416149 non-null  object \n",
      " 18  paint_color   416149 non-null  object \n",
      " 19  image_url     416149 non-null  object \n",
      " 20  description   416149 non-null  object \n",
      " 21  state         416149 non-null  object \n",
      " 22  lat           416149 non-null  object \n",
      " 23  long          416149 non-null  object \n",
      " 24  posting_date  416149 non-null  object \n",
      "dtypes: float64(2), int64(2), object(21)\n",
      "memory usage: 79.4+ MB\n"
     ]
    }
   ],
   "source": [
    "#Task 1.2\n",
    "\n",
    "UsedVehicle.info()"
   ]
  },
  {
   "cell_type": "markdown",
   "id": "9e712271",
   "metadata": {},
   "source": [
    "The 3 column that I think are useless are \n",
    "    id\n",
    "    url\n",
    "    region_url\n",
    "    image_url\n",
    "    \n",
    "    \n",
    "    "
   ]
  },
  {
   "cell_type": "code",
   "execution_count": 5,
   "id": "72c9c6b2",
   "metadata": {},
   "outputs": [],
   "source": [
    "#Task 1.3\n",
    "UsedVehicle.drop(['id','url','region_url','image_url'],axis =1,inplace =True)"
   ]
  },
  {
   "cell_type": "code",
   "execution_count": 6,
   "id": "ccc64e36",
   "metadata": {},
   "outputs": [
    {
     "data": {
      "text/html": [
       "<div>\n",
       "<style scoped>\n",
       "    .dataframe tbody tr th:only-of-type {\n",
       "        vertical-align: middle;\n",
       "    }\n",
       "\n",
       "    .dataframe tbody tr th {\n",
       "        vertical-align: top;\n",
       "    }\n",
       "\n",
       "    .dataframe thead th {\n",
       "        text-align: right;\n",
       "    }\n",
       "</style>\n",
       "<table border=\"1\" class=\"dataframe\">\n",
       "  <thead>\n",
       "    <tr style=\"text-align: right;\">\n",
       "      <th></th>\n",
       "      <th>region</th>\n",
       "      <th>price</th>\n",
       "      <th>year</th>\n",
       "      <th>manufacturer</th>\n",
       "      <th>model</th>\n",
       "      <th>condition</th>\n",
       "      <th>cylinders</th>\n",
       "      <th>fuel</th>\n",
       "      <th>odometer</th>\n",
       "      <th>title_status</th>\n",
       "      <th>...</th>\n",
       "      <th>VIN</th>\n",
       "      <th>drive</th>\n",
       "      <th>size</th>\n",
       "      <th>type</th>\n",
       "      <th>paint_color</th>\n",
       "      <th>description</th>\n",
       "      <th>state</th>\n",
       "      <th>lat</th>\n",
       "      <th>long</th>\n",
       "      <th>posting_date</th>\n",
       "    </tr>\n",
       "  </thead>\n",
       "  <tbody>\n",
       "    <tr>\n",
       "      <th>0</th>\n",
       "      <td>auburn</td>\n",
       "      <td>33590</td>\n",
       "      <td>2014.0</td>\n",
       "      <td>gmc</td>\n",
       "      <td>sierra 1500 crew cab slt</td>\n",
       "      <td>good</td>\n",
       "      <td>8 cylinders</td>\n",
       "      <td>gas</td>\n",
       "      <td>57923.0</td>\n",
       "      <td>clean</td>\n",
       "      <td>...</td>\n",
       "      <td>3GTP1VEC4EG551563</td>\n",
       "      <td>unknown</td>\n",
       "      <td>unknown</td>\n",
       "      <td>pickup</td>\n",
       "      <td>white</td>\n",
       "      <td>Carvana is the safer way to buy a car During t...</td>\n",
       "      <td>al</td>\n",
       "      <td>32.59</td>\n",
       "      <td>-85.48</td>\n",
       "      <td>2021-05-04 12:31:18-05:00</td>\n",
       "    </tr>\n",
       "    <tr>\n",
       "      <th>1</th>\n",
       "      <td>auburn</td>\n",
       "      <td>22590</td>\n",
       "      <td>2010.0</td>\n",
       "      <td>chevrolet</td>\n",
       "      <td>silverado 1500</td>\n",
       "      <td>good</td>\n",
       "      <td>8 cylinders</td>\n",
       "      <td>gas</td>\n",
       "      <td>71229.0</td>\n",
       "      <td>clean</td>\n",
       "      <td>...</td>\n",
       "      <td>1GCSCSE06AZ123805</td>\n",
       "      <td>unknown</td>\n",
       "      <td>unknown</td>\n",
       "      <td>pickup</td>\n",
       "      <td>blue</td>\n",
       "      <td>Carvana is the safer way to buy a car During t...</td>\n",
       "      <td>al</td>\n",
       "      <td>32.59</td>\n",
       "      <td>-85.48</td>\n",
       "      <td>2021-05-04 12:31:08-05:00</td>\n",
       "    </tr>\n",
       "    <tr>\n",
       "      <th>2</th>\n",
       "      <td>auburn</td>\n",
       "      <td>39590</td>\n",
       "      <td>2020.0</td>\n",
       "      <td>chevrolet</td>\n",
       "      <td>silverado 1500 crew</td>\n",
       "      <td>good</td>\n",
       "      <td>8 cylinders</td>\n",
       "      <td>gas</td>\n",
       "      <td>19160.0</td>\n",
       "      <td>clean</td>\n",
       "      <td>...</td>\n",
       "      <td>3GCPWCED5LG130317</td>\n",
       "      <td>unknown</td>\n",
       "      <td>unknown</td>\n",
       "      <td>pickup</td>\n",
       "      <td>red</td>\n",
       "      <td>Carvana is the safer way to buy a car During t...</td>\n",
       "      <td>al</td>\n",
       "      <td>32.59</td>\n",
       "      <td>-85.48</td>\n",
       "      <td>2021-05-04 12:31:25-05:00</td>\n",
       "    </tr>\n",
       "    <tr>\n",
       "      <th>3</th>\n",
       "      <td>auburn</td>\n",
       "      <td>30990</td>\n",
       "      <td>2017.0</td>\n",
       "      <td>toyota</td>\n",
       "      <td>tundra double cab sr</td>\n",
       "      <td>good</td>\n",
       "      <td>8 cylinders</td>\n",
       "      <td>gas</td>\n",
       "      <td>41124.0</td>\n",
       "      <td>clean</td>\n",
       "      <td>...</td>\n",
       "      <td>5TFRM5F17HX120972</td>\n",
       "      <td>unknown</td>\n",
       "      <td>unknown</td>\n",
       "      <td>pickup</td>\n",
       "      <td>red</td>\n",
       "      <td>Carvana is the safer way to buy a car During t...</td>\n",
       "      <td>al</td>\n",
       "      <td>32.59</td>\n",
       "      <td>-85.48</td>\n",
       "      <td>2021-05-04 10:41:31-05:00</td>\n",
       "    </tr>\n",
       "    <tr>\n",
       "      <th>4</th>\n",
       "      <td>auburn</td>\n",
       "      <td>15000</td>\n",
       "      <td>2013.0</td>\n",
       "      <td>ford</td>\n",
       "      <td>f-150 xlt</td>\n",
       "      <td>excellent</td>\n",
       "      <td>6 cylinders</td>\n",
       "      <td>gas</td>\n",
       "      <td>128000.0</td>\n",
       "      <td>clean</td>\n",
       "      <td>...</td>\n",
       "      <td>blank</td>\n",
       "      <td>rwd</td>\n",
       "      <td>full-size</td>\n",
       "      <td>truck</td>\n",
       "      <td>black</td>\n",
       "      <td>2013 F-150 XLT V6 4 Door. Good condition. Leve...</td>\n",
       "      <td>al</td>\n",
       "      <td>32.592</td>\n",
       "      <td>-85.5189</td>\n",
       "      <td>2021-05-03 14:02:03-05:00</td>\n",
       "    </tr>\n",
       "    <tr>\n",
       "      <th>5</th>\n",
       "      <td>auburn</td>\n",
       "      <td>27990</td>\n",
       "      <td>2012.0</td>\n",
       "      <td>gmc</td>\n",
       "      <td>sierra 2500 hd extended cab</td>\n",
       "      <td>good</td>\n",
       "      <td>8 cylinders</td>\n",
       "      <td>gas</td>\n",
       "      <td>68696.0</td>\n",
       "      <td>clean</td>\n",
       "      <td>...</td>\n",
       "      <td>1GT220CG8CZ231238</td>\n",
       "      <td>4wd</td>\n",
       "      <td>unknown</td>\n",
       "      <td>pickup</td>\n",
       "      <td>black</td>\n",
       "      <td>Carvana is the safer way to buy a car During t...</td>\n",
       "      <td>al</td>\n",
       "      <td>32.59</td>\n",
       "      <td>-85.48</td>\n",
       "      <td>2021-05-03 13:41:25-05:00</td>\n",
       "    </tr>\n",
       "    <tr>\n",
       "      <th>6</th>\n",
       "      <td>auburn</td>\n",
       "      <td>34590</td>\n",
       "      <td>2016.0</td>\n",
       "      <td>chevrolet</td>\n",
       "      <td>silverado 1500 double</td>\n",
       "      <td>good</td>\n",
       "      <td>6 cylinders</td>\n",
       "      <td>gas</td>\n",
       "      <td>29499.0</td>\n",
       "      <td>clean</td>\n",
       "      <td>...</td>\n",
       "      <td>1GCVKREH6GZ228691</td>\n",
       "      <td>4wd</td>\n",
       "      <td>unknown</td>\n",
       "      <td>pickup</td>\n",
       "      <td>silver</td>\n",
       "      <td>Carvana is the safer way to buy a car During t...</td>\n",
       "      <td>al</td>\n",
       "      <td>32.59</td>\n",
       "      <td>-85.48</td>\n",
       "      <td>2021-05-03 12:41:33-05:00</td>\n",
       "    </tr>\n",
       "    <tr>\n",
       "      <th>7</th>\n",
       "      <td>auburn</td>\n",
       "      <td>35000</td>\n",
       "      <td>2019.0</td>\n",
       "      <td>toyota</td>\n",
       "      <td>tacoma</td>\n",
       "      <td>excellent</td>\n",
       "      <td>6 cylinders</td>\n",
       "      <td>gas</td>\n",
       "      <td>43000.0</td>\n",
       "      <td>clean</td>\n",
       "      <td>...</td>\n",
       "      <td>blank</td>\n",
       "      <td>4wd</td>\n",
       "      <td>unknown</td>\n",
       "      <td>truck</td>\n",
       "      <td>grey</td>\n",
       "      <td>Selling my 2019 Toyota Tacoma TRD Off Road Dou...</td>\n",
       "      <td>al</td>\n",
       "      <td>32.6013</td>\n",
       "      <td>-85.443974</td>\n",
       "      <td>2021-05-03 12:12:59-05:00</td>\n",
       "    </tr>\n",
       "    <tr>\n",
       "      <th>8</th>\n",
       "      <td>auburn</td>\n",
       "      <td>29990</td>\n",
       "      <td>2016.0</td>\n",
       "      <td>chevrolet</td>\n",
       "      <td>colorado extended cab</td>\n",
       "      <td>good</td>\n",
       "      <td>6 cylinders</td>\n",
       "      <td>gas</td>\n",
       "      <td>17302.0</td>\n",
       "      <td>clean</td>\n",
       "      <td>...</td>\n",
       "      <td>1GCHTCE37G1186784</td>\n",
       "      <td>4wd</td>\n",
       "      <td>unknown</td>\n",
       "      <td>pickup</td>\n",
       "      <td>red</td>\n",
       "      <td>Carvana is the safer way to buy a car During t...</td>\n",
       "      <td>al</td>\n",
       "      <td>32.59</td>\n",
       "      <td>-85.48</td>\n",
       "      <td>2021-05-03 11:31:14-05:00</td>\n",
       "    </tr>\n",
       "    <tr>\n",
       "      <th>9</th>\n",
       "      <td>auburn</td>\n",
       "      <td>38590</td>\n",
       "      <td>2011.0</td>\n",
       "      <td>chevrolet</td>\n",
       "      <td>corvette grand sport</td>\n",
       "      <td>good</td>\n",
       "      <td>8 cylinders</td>\n",
       "      <td>gas</td>\n",
       "      <td>30237.0</td>\n",
       "      <td>clean</td>\n",
       "      <td>...</td>\n",
       "      <td>1G1YR3DW3B5102190</td>\n",
       "      <td>rwd</td>\n",
       "      <td>unknown</td>\n",
       "      <td>other</td>\n",
       "      <td>red</td>\n",
       "      <td>Carvana is the safer way to buy a car During t...</td>\n",
       "      <td>al</td>\n",
       "      <td>32.59</td>\n",
       "      <td>-85.48</td>\n",
       "      <td>2021-05-03 07:50:35-05:00</td>\n",
       "    </tr>\n",
       "  </tbody>\n",
       "</table>\n",
       "<p>10 rows × 21 columns</p>\n",
       "</div>"
      ],
      "text/plain": [
       "   region  price    year manufacturer                        model  condition  \\\n",
       "0  auburn  33590  2014.0          gmc     sierra 1500 crew cab slt       good   \n",
       "1  auburn  22590  2010.0    chevrolet               silverado 1500       good   \n",
       "2  auburn  39590  2020.0    chevrolet          silverado 1500 crew       good   \n",
       "3  auburn  30990  2017.0       toyota         tundra double cab sr       good   \n",
       "4  auburn  15000  2013.0         ford                    f-150 xlt  excellent   \n",
       "5  auburn  27990  2012.0          gmc  sierra 2500 hd extended cab       good   \n",
       "6  auburn  34590  2016.0    chevrolet        silverado 1500 double       good   \n",
       "7  auburn  35000  2019.0       toyota                       tacoma  excellent   \n",
       "8  auburn  29990  2016.0    chevrolet        colorado extended cab       good   \n",
       "9  auburn  38590  2011.0    chevrolet         corvette grand sport       good   \n",
       "\n",
       "     cylinders fuel  odometer title_status  ...                VIN    drive  \\\n",
       "0  8 cylinders  gas   57923.0        clean  ...  3GTP1VEC4EG551563  unknown   \n",
       "1  8 cylinders  gas   71229.0        clean  ...  1GCSCSE06AZ123805  unknown   \n",
       "2  8 cylinders  gas   19160.0        clean  ...  3GCPWCED5LG130317  unknown   \n",
       "3  8 cylinders  gas   41124.0        clean  ...  5TFRM5F17HX120972  unknown   \n",
       "4  6 cylinders  gas  128000.0        clean  ...              blank      rwd   \n",
       "5  8 cylinders  gas   68696.0        clean  ...  1GT220CG8CZ231238      4wd   \n",
       "6  6 cylinders  gas   29499.0        clean  ...  1GCVKREH6GZ228691      4wd   \n",
       "7  6 cylinders  gas   43000.0        clean  ...              blank      4wd   \n",
       "8  6 cylinders  gas   17302.0        clean  ...  1GCHTCE37G1186784      4wd   \n",
       "9  8 cylinders  gas   30237.0        clean  ...  1G1YR3DW3B5102190      rwd   \n",
       "\n",
       "        size    type paint_color  \\\n",
       "0    unknown  pickup       white   \n",
       "1    unknown  pickup        blue   \n",
       "2    unknown  pickup         red   \n",
       "3    unknown  pickup         red   \n",
       "4  full-size   truck       black   \n",
       "5    unknown  pickup       black   \n",
       "6    unknown  pickup      silver   \n",
       "7    unknown   truck        grey   \n",
       "8    unknown  pickup         red   \n",
       "9    unknown   other         red   \n",
       "\n",
       "                                         description state      lat  \\\n",
       "0  Carvana is the safer way to buy a car During t...    al    32.59   \n",
       "1  Carvana is the safer way to buy a car During t...    al    32.59   \n",
       "2  Carvana is the safer way to buy a car During t...    al    32.59   \n",
       "3  Carvana is the safer way to buy a car During t...    al    32.59   \n",
       "4  2013 F-150 XLT V6 4 Door. Good condition. Leve...    al   32.592   \n",
       "5  Carvana is the safer way to buy a car During t...    al    32.59   \n",
       "6  Carvana is the safer way to buy a car During t...    al    32.59   \n",
       "7  Selling my 2019 Toyota Tacoma TRD Off Road Dou...    al  32.6013   \n",
       "8  Carvana is the safer way to buy a car During t...    al    32.59   \n",
       "9  Carvana is the safer way to buy a car During t...    al    32.59   \n",
       "\n",
       "         long               posting_date  \n",
       "0      -85.48  2021-05-04 12:31:18-05:00  \n",
       "1      -85.48  2021-05-04 12:31:08-05:00  \n",
       "2      -85.48  2021-05-04 12:31:25-05:00  \n",
       "3      -85.48  2021-05-04 10:41:31-05:00  \n",
       "4    -85.5189  2021-05-03 14:02:03-05:00  \n",
       "5      -85.48  2021-05-03 13:41:25-05:00  \n",
       "6      -85.48  2021-05-03 12:41:33-05:00  \n",
       "7  -85.443974  2021-05-03 12:12:59-05:00  \n",
       "8      -85.48  2021-05-03 11:31:14-05:00  \n",
       "9      -85.48  2021-05-03 07:50:35-05:00  \n",
       "\n",
       "[10 rows x 21 columns]"
      ]
     },
     "execution_count": 6,
     "metadata": {},
     "output_type": "execute_result"
    }
   ],
   "source": [
    "#Task 1.4\n",
    "UsedVehicle.head(10)"
   ]
  },
  {
   "cell_type": "code",
   "execution_count": 7,
   "id": "1bacbbd4",
   "metadata": {},
   "outputs": [
    {
     "name": "stdout",
     "output_type": "stream",
     "text": [
      "<class 'pandas.core.frame.DataFrame'>\n",
      "RangeIndex: 416149 entries, 0 to 416148\n",
      "Data columns (total 21 columns):\n",
      " #   Column        Non-Null Count   Dtype  \n",
      "---  ------        --------------   -----  \n",
      " 0   region        416149 non-null  object \n",
      " 1   price         416149 non-null  int64  \n",
      " 2   year          416149 non-null  float64\n",
      " 3   manufacturer  416149 non-null  object \n",
      " 4   model         416149 non-null  object \n",
      " 5   condition     416149 non-null  object \n",
      " 6   cylinders     416149 non-null  object \n",
      " 7   fuel          416149 non-null  object \n",
      " 8   odometer      416149 non-null  float64\n",
      " 9   title_status  416149 non-null  object \n",
      " 10  transmission  416149 non-null  object \n",
      " 11  VIN           416149 non-null  object \n",
      " 12  drive         416149 non-null  object \n",
      " 13  size          416149 non-null  object \n",
      " 14  type          416149 non-null  object \n",
      " 15  paint_color   416149 non-null  object \n",
      " 16  description   416149 non-null  object \n",
      " 17  state         416149 non-null  object \n",
      " 18  lat           416149 non-null  object \n",
      " 19  long          416149 non-null  object \n",
      " 20  posting_date  416149 non-null  object \n",
      "dtypes: float64(2), int64(1), object(18)\n",
      "memory usage: 66.7+ MB\n"
     ]
    }
   ],
   "source": [
    "#Task 1.5\n",
    "UsedVehicle.info()"
   ]
  },
  {
   "cell_type": "code",
   "execution_count": 8,
   "id": "44fcf116",
   "metadata": {},
   "outputs": [
    {
     "data": {
      "text/html": [
       "<div>\n",
       "<style scoped>\n",
       "    .dataframe tbody tr th:only-of-type {\n",
       "        vertical-align: middle;\n",
       "    }\n",
       "\n",
       "    .dataframe tbody tr th {\n",
       "        vertical-align: top;\n",
       "    }\n",
       "\n",
       "    .dataframe thead th {\n",
       "        text-align: right;\n",
       "    }\n",
       "</style>\n",
       "<table border=\"1\" class=\"dataframe\">\n",
       "  <thead>\n",
       "    <tr style=\"text-align: right;\">\n",
       "      <th></th>\n",
       "      <th>price</th>\n",
       "      <th>year</th>\n",
       "      <th>odometer</th>\n",
       "    </tr>\n",
       "  </thead>\n",
       "  <tbody>\n",
       "    <tr>\n",
       "      <th>count</th>\n",
       "      <td>4.161490e+05</td>\n",
       "      <td>416149.000000</td>\n",
       "      <td>4.161490e+05</td>\n",
       "    </tr>\n",
       "    <tr>\n",
       "      <th>mean</th>\n",
       "      <td>6.158955e+04</td>\n",
       "      <td>2011.365749</td>\n",
       "      <td>9.766435e+04</td>\n",
       "    </tr>\n",
       "    <tr>\n",
       "      <th>std</th>\n",
       "      <td>1.108080e+07</td>\n",
       "      <td>9.140825</td>\n",
       "      <td>2.046903e+05</td>\n",
       "    </tr>\n",
       "    <tr>\n",
       "      <th>min</th>\n",
       "      <td>0.000000e+00</td>\n",
       "      <td>1900.000000</td>\n",
       "      <td>0.000000e+00</td>\n",
       "    </tr>\n",
       "    <tr>\n",
       "      <th>25%</th>\n",
       "      <td>5.995000e+03</td>\n",
       "      <td>2008.000000</td>\n",
       "      <td>3.800000e+04</td>\n",
       "    </tr>\n",
       "    <tr>\n",
       "      <th>50%</th>\n",
       "      <td>1.399100e+04</td>\n",
       "      <td>2014.000000</td>\n",
       "      <td>8.568200e+04</td>\n",
       "    </tr>\n",
       "    <tr>\n",
       "      <th>75%</th>\n",
       "      <td>2.650000e+04</td>\n",
       "      <td>2017.000000</td>\n",
       "      <td>1.335030e+05</td>\n",
       "    </tr>\n",
       "    <tr>\n",
       "      <th>max</th>\n",
       "      <td>3.736929e+09</td>\n",
       "      <td>2022.000000</td>\n",
       "      <td>1.000000e+07</td>\n",
       "    </tr>\n",
       "  </tbody>\n",
       "</table>\n",
       "</div>"
      ],
      "text/plain": [
       "              price           year      odometer\n",
       "count  4.161490e+05  416149.000000  4.161490e+05\n",
       "mean   6.158955e+04    2011.365749  9.766435e+04\n",
       "std    1.108080e+07       9.140825  2.046903e+05\n",
       "min    0.000000e+00    1900.000000  0.000000e+00\n",
       "25%    5.995000e+03    2008.000000  3.800000e+04\n",
       "50%    1.399100e+04    2014.000000  8.568200e+04\n",
       "75%    2.650000e+04    2017.000000  1.335030e+05\n",
       "max    3.736929e+09    2022.000000  1.000000e+07"
      ]
     },
     "execution_count": 8,
     "metadata": {},
     "output_type": "execute_result"
    }
   ],
   "source": [
    "#Task 1.6\n",
    "UsedVehicle.describe()"
   ]
  },
  {
   "cell_type": "code",
   "execution_count": 9,
   "id": "18069b01",
   "metadata": {},
   "outputs": [
    {
     "data": {
      "text/plain": [
       "array([ 5995., 13991., 26500.])"
      ]
     },
     "execution_count": 9,
     "metadata": {},
     "output_type": "execute_result"
    }
   ],
   "source": [
    "#Task 2.0\n",
    "#take a look what is 25%, 50% and 75% of credit of loan\n",
    "# median loan 5995, 13991, 26500\n",
    "np.percentile(UsedVehicle['price'],[25,50,75])"
   ]
  },
  {
   "cell_type": "markdown",
   "id": "f2ce7a6b",
   "metadata": {},
   "source": []
  },
  {
   "cell_type": "code",
   "execution_count": 10,
   "id": "215a4319",
   "metadata": {},
   "outputs": [
    {
     "data": {
      "text/plain": [
       "array(['auburn', 'birmingham', 'dothan', 'florence / muscle shoals',\n",
       "       'gadsden-anniston', 'huntsville / decatur', 'mobile', 'montgomery',\n",
       "       'tuscaloosa', 'anchorage / mat-su', 'fairbanks', 'kenai peninsula',\n",
       "       'southeast alaska', 'flagstaff / sedona', 'mohave county',\n",
       "       'phoenix', 'prescott', 'show low', 'sierra vista', 'tucson',\n",
       "       'yuma', 'fayetteville', 'fort smith', 'jonesboro', 'little rock',\n",
       "       'texarkana', 'bakersfield', 'chico', 'fresno / madera',\n",
       "       'gold country', 'hanford-corcoran', 'humboldt county',\n",
       "       'imperial county', 'inland empire', 'los angeles',\n",
       "       'mendocino county', 'merced', 'modesto', 'monterey bay',\n",
       "       'orange county', 'palm springs', 'redding', 'reno / tahoe',\n",
       "       'sacramento', 'san diego', 'san luis obispo', 'santa barbara',\n",
       "       'santa maria', 'SF bay area', 'siskiyou county', 'stockton',\n",
       "       'susanville', 'ventura county', 'visalia-tulare', 'yuba-sutter',\n",
       "       'boulder', 'colorado springs', 'denver', 'eastern CO',\n",
       "       'fort collins / north CO', 'high rockies', 'pueblo',\n",
       "       'western slope', 'eastern CT', 'hartford', 'new haven',\n",
       "       'northwest CT', 'washington, DC', 'delaware', 'daytona beach',\n",
       "       'florida keys', 'ft myers / SW florida', 'gainesville',\n",
       "       'heartland florida', 'jacksonville', 'lakeland',\n",
       "       'north central FL', 'ocala', 'okaloosa / walton', 'orlando',\n",
       "       'panama city', 'pensacola', 'sarasota-bradenton', 'south florida',\n",
       "       'space coast', 'st augustine', 'tallahassee', 'tampa bay area',\n",
       "       'treasure coast', 'albany', 'athens', 'atlanta', 'augusta',\n",
       "       'brunswick', 'columbus', 'macon / warner robins', 'northwest GA',\n",
       "       'savannah / hinesville', 'statesboro', 'valdosta', 'hawaii',\n",
       "       'boise', 'east idaho', 'lewiston / clarkston', 'pullman / moscow',\n",
       "       \"spokane / coeur d'alene\", 'twin falls', 'bloomington-normal',\n",
       "       'champaign urbana', 'chicago', 'decatur', 'la salle co',\n",
       "       'mattoon-charleston', 'peoria', 'quad cities, IA/IL', 'rockford',\n",
       "       'southern illinois', 'springfield', 'st louis, MO', 'western IL',\n",
       "       'bloomington', 'evansville', 'fort wayne', 'indianapolis',\n",
       "       'kokomo', 'lafayette / west lafayette', 'muncie / anderson',\n",
       "       'richmond', 'south bend / michiana', 'terre haute', 'ames',\n",
       "       'cedar rapids', 'des moines', 'dubuque', 'fort dodge', 'iowa city',\n",
       "       'mason city', 'omaha / council bluffs', 'sioux city',\n",
       "       'southeast IA', 'waterloo / cedar falls', 'kansas city, MO',\n",
       "       'lawrence', 'manhattan', 'northwest KS', 'salina', 'southeast KS',\n",
       "       'southwest KS', 'topeka', 'wichita', 'bowling green',\n",
       "       'eastern kentucky', 'huntington-ashland', 'lexington',\n",
       "       'louisville', 'owensboro', 'western KY', 'baton rouge',\n",
       "       'central louisiana', 'houma', 'lafayette', 'lake charles',\n",
       "       'monroe', 'new orleans', 'shreveport', 'maine', 'annapolis',\n",
       "       'baltimore', 'cumberland valley', 'eastern shore', 'frederick',\n",
       "       'southern maryland', 'western maryland', 'boston',\n",
       "       'cape cod / islands', 'south coast', 'western massachusetts',\n",
       "       'worcester / central MA', 'ann arbor', 'battle creek',\n",
       "       'central michigan', 'detroit metro', 'flint', 'grand rapids',\n",
       "       'holland', 'jackson', 'kalamazoo', 'lansing', 'muskegon',\n",
       "       'northern michigan', 'port huron', 'saginaw-midland-baycity',\n",
       "       'southwest michigan', 'the thumb', 'upper peninsula', 'bemidji',\n",
       "       'brainerd', 'duluth / superior', 'fargo / moorhead', 'mankato',\n",
       "       'minneapolis / st paul', 'rochester', 'southwest MN', 'st cloud',\n",
       "       'gulfport / biloxi', 'hattiesburg', 'meridian',\n",
       "       'north mississippi', 'southwest MS', 'columbia / jeff city',\n",
       "       'joplin', 'kansas city', 'kirksville', 'lake of the ozarks',\n",
       "       'southeast missouri', 'st joseph', 'st louis', 'billings',\n",
       "       'bozeman', 'butte', 'eastern montana', 'great falls', 'helena',\n",
       "       'kalispell', 'missoula', 'asheville', 'boone', 'charlotte',\n",
       "       'eastern NC', 'greensboro', 'hickory / lenoir', 'outer banks',\n",
       "       'raleigh / durham / CH', 'wilmington', 'winston-salem',\n",
       "       'grand island', 'lincoln', 'north platte',\n",
       "       'scottsbluff / panhandle', 'elko', 'las vegas', 'central NJ',\n",
       "       'jersey shore', 'north jersey', 'south jersey', 'albuquerque',\n",
       "       'clovis / portales', 'farmington', 'las cruces',\n",
       "       'roswell / carlsbad', 'santa fe / taos', 'binghamton', 'buffalo',\n",
       "       'catskills', 'chautauqua', 'elmira-corning', 'finger lakes',\n",
       "       'glens falls', 'hudson valley', 'ithaca', 'long island',\n",
       "       'new york city', 'oneonta', 'plattsburgh-adirondacks',\n",
       "       'potsdam-canton-massena', 'syracuse', 'twin tiers NY/PA',\n",
       "       'utica-rome-oneida', 'watertown', 'new hampshire', 'bismarck',\n",
       "       'grand forks', 'north dakota', 'akron / canton', 'ashtabula',\n",
       "       'chillicothe', 'cincinnati', 'cleveland', 'dayton / springfield',\n",
       "       'lima / findlay', 'mansfield', 'northern panhandle',\n",
       "       'parkersburg-marietta', 'sandusky', 'toledo', 'tuscarawas co',\n",
       "       'youngstown', 'zanesville / cambridge', 'fort smith, AR', 'lawton',\n",
       "       'northwest OK', 'oklahoma city', 'stillwater', 'texoma', 'tulsa',\n",
       "       'bend', 'corvallis/albany', 'east oregon', 'eugene',\n",
       "       'klamath falls', 'medford-ashland', 'oregon coast', 'portland',\n",
       "       'roseburg', 'salem', 'altoona-johnstown', 'erie', 'harrisburg',\n",
       "       'lancaster', 'lehigh valley', 'meadville', 'philadelphia',\n",
       "       'pittsburgh', 'poconos', 'reading', 'scranton / wilkes-barre',\n",
       "       'state college', 'williamsport', 'york', 'rhode island',\n",
       "       'charleston', 'columbia', 'florence', 'greenville / upstate',\n",
       "       'hilton head', 'myrtle beach', 'northeast SD',\n",
       "       'pierre / central SD', 'rapid city / west SD',\n",
       "       'sioux falls / SE SD', 'south dakota', 'chattanooga',\n",
       "       'clarksville', 'cookeville', 'knoxville', 'memphis', 'nashville',\n",
       "       'tri-cities', 'abilene', 'amarillo', 'austin',\n",
       "       'beaumont / port arthur', 'brownsville', 'college station',\n",
       "       'corpus christi', 'dallas / fort worth', 'deep east texas',\n",
       "       'del rio / eagle pass', 'el paso', 'galveston', 'houston',\n",
       "       'killeen / temple / ft hood', 'laredo', 'lubbock',\n",
       "       'mcallen / edinburg', 'odessa / midland', 'san angelo',\n",
       "       'san antonio', 'san marcos', 'southwest TX', 'tyler / east TX',\n",
       "       'victoria', 'waco', 'wichita falls', 'logan', 'ogden-clearfield',\n",
       "       'provo / orem', 'salt lake city', 'st george', 'vermont',\n",
       "       'charlottesville', 'danville', 'fredericksburg', 'harrisonburg',\n",
       "       'lynchburg', 'new river valley', 'norfolk / hampton roads',\n",
       "       'roanoke', 'southwest VA', 'winchester', 'bellingham',\n",
       "       'kennewick-pasco-richland', 'moses lake', 'olympic peninsula',\n",
       "       'seattle-tacoma', 'skagit / island / SJI', 'wenatchee', 'yakima',\n",
       "       'eastern panhandle', 'morgantown', 'southern WV',\n",
       "       'west virginia (old)', 'appleton-oshkosh-FDL', 'eau claire',\n",
       "       'green bay', 'janesville', 'kenosha-racine', 'la crosse',\n",
       "       'madison', 'milwaukee', 'northern WI', 'sheboygan', 'wausau',\n",
       "       'wyoming'], dtype=object)"
      ]
     },
     "execution_count": 10,
     "metadata": {},
     "output_type": "execute_result"
    }
   ],
   "source": [
    "#Task 3.1.0\n",
    "UsedVehicle['region'].unique()"
   ]
  },
  {
   "cell_type": "code",
   "execution_count": 11,
   "id": "550a92d1",
   "metadata": {},
   "outputs": [
    {
     "name": "stdout",
     "output_type": "stream",
     "text": [
      "404\n"
     ]
    }
   ],
   "source": [
    "#Task 3.1.1\n",
    "\n",
    "a=len(UsedVehicle['region'].unique())\n",
    "print(a)"
   ]
  },
  {
   "cell_type": "code",
   "execution_count": 12,
   "id": "b61948b2",
   "metadata": {},
   "outputs": [
    {
     "data": {
      "text/plain": [
       "array(['gmc', 'chevrolet', 'toyota', 'ford', 'jeep', 'nissan', 'ram',\n",
       "       'mazda', 'cadillac', 'honda', 'dodge', 'lexus', 'jaguar', 'buick',\n",
       "       'chrysler', 'volvo', 'audi', 'infiniti', 'lincoln', 'alfa-romeo',\n",
       "       'subaru', 'unknown', 'acura', 'hyundai', 'mercedes-benz', 'bmw',\n",
       "       'mitsubishi', 'volkswagen', 'porsche', 'kia', 'ferrari', 'mini',\n",
       "       'pontiac', 'fiat', 'rover', 'tesla', 'saturn', 'mercury',\n",
       "       'harley-davidson', 'datsun', 'aston-martin', 'land rover'],\n",
       "      dtype=object)"
      ]
     },
     "execution_count": 12,
     "metadata": {},
     "output_type": "execute_result"
    }
   ],
   "source": [
    "#Task 3.2.0\n",
    "\n",
    "UsedVehicle['manufacturer'].unique()"
   ]
  },
  {
   "cell_type": "code",
   "execution_count": 13,
   "id": "7c745cd8",
   "metadata": {},
   "outputs": [
    {
     "name": "stdout",
     "output_type": "stream",
     "text": [
      "42\n"
     ]
    }
   ],
   "source": [
    "#Task 3.2.1\n",
    "\n",
    "\n",
    "a=len(UsedVehicle['manufacturer'].unique())\n",
    "print(a)"
   ]
  },
  {
   "cell_type": "code",
   "execution_count": 14,
   "id": "032ca292",
   "metadata": {},
   "outputs": [
    {
     "data": {
      "text/plain": [
       "array([2014., 2010., 2020., 2017., 2013., 2012., 2016., 2019., 2011.,\n",
       "       1992., 2018., 2004., 2015., 2001., 2006., 2003., 2008., 2007.,\n",
       "       2005., 1966., 2009., 1998., 2002., 1999., 2021., 1997., 1976.,\n",
       "       1969., 1995., 1978., 1954., 1979., 1970., 1974., 1996., 1987.,\n",
       "       2000., 1955., 1991., 1972., 1988., 1994., 1968., 1984., 1986.,\n",
       "       1989., 1973., 1946., 1933., 1958., 1985., 1957., 1953., 1942.,\n",
       "       1963., 1977., 1993., 1990., 1982., 1948., 1983., 1936., 1932.,\n",
       "       1951., 1980., 1967., 1971., 1981., 1947., 1926., 1962., 1975.,\n",
       "       1964., 1952., 1940., 1959., 1930., 1950., 1965., 1922., 1928.,\n",
       "       2022., 1901., 1960., 1941., 1929., 1956., 1924., 1927., 1939.,\n",
       "       1923., 1949., 1937., 1934., 1931., 1961., 1935., 1918., 1900.,\n",
       "       1938., 1913., 1916., 1943., 1925., 1921., 1915., 1945., 1902.,\n",
       "       1905., 1920., 1944., 1910., 1909.])"
      ]
     },
     "execution_count": 14,
     "metadata": {},
     "output_type": "execute_result"
    }
   ],
   "source": [
    "#Task 3.3.0\n",
    "UsedVehicle['year'].unique()"
   ]
  },
  {
   "cell_type": "code",
   "execution_count": 15,
   "id": "dd7ab93f",
   "metadata": {},
   "outputs": [
    {
     "name": "stdout",
     "output_type": "stream",
     "text": [
      "113\n"
     ]
    }
   ],
   "source": [
    "#Task 3.3.1\n",
    "a=len(UsedVehicle['year'].unique())\n",
    "print(a)"
   ]
  },
  {
   "cell_type": "code",
   "execution_count": 16,
   "id": "92a2b945",
   "metadata": {},
   "outputs": [
    {
     "data": {
      "text/plain": [
       "array(['sierra 1500 crew cab slt', 'silverado 1500',\n",
       "       'silverado 1500 crew', ..., 'gand wagoneer', '96 Suburban',\n",
       "       'Paige Glenbrook Touring'], dtype=object)"
      ]
     },
     "execution_count": 16,
     "metadata": {},
     "output_type": "execute_result"
    }
   ],
   "source": [
    "#Task 3.4.0\n",
    "UsedVehicle['model'].unique()"
   ]
  },
  {
   "cell_type": "code",
   "execution_count": 17,
   "id": "c5d3bb0c",
   "metadata": {},
   "outputs": [
    {
     "name": "stdout",
     "output_type": "stream",
     "text": [
      "29236\n"
     ]
    }
   ],
   "source": [
    "#Task 3.4.1\n",
    "a=len(UsedVehicle['model'].unique())\n",
    "print(a)"
   ]
  },
  {
   "cell_type": "code",
   "execution_count": 18,
   "id": "9f2fe357",
   "metadata": {},
   "outputs": [
    {
     "data": {
      "text/plain": [
       "array(['good', 'excellent', 'fair', 'like new', 'unknown', 'new',\n",
       "       'salvage'], dtype=object)"
      ]
     },
     "execution_count": 18,
     "metadata": {},
     "output_type": "execute_result"
    }
   ],
   "source": [
    "#Task 3.5.0\n",
    "UsedVehicle['condition'].unique()"
   ]
  },
  {
   "cell_type": "code",
   "execution_count": 19,
   "id": "840e65e4",
   "metadata": {},
   "outputs": [
    {
     "name": "stdout",
     "output_type": "stream",
     "text": [
      "7\n"
     ]
    }
   ],
   "source": [
    "#Task 3.5.1\n",
    "a=len(UsedVehicle['condition'].unique())\n",
    "print(a)"
   ]
  },
  {
   "cell_type": "code",
   "execution_count": 20,
   "id": "2d7df1b4",
   "metadata": {},
   "outputs": [
    {
     "data": {
      "text/plain": [
       "array(['gas', 'other', 'diesel', 'hybrid', 'unknown', 'electric'],\n",
       "      dtype=object)"
      ]
     },
     "execution_count": 20,
     "metadata": {},
     "output_type": "execute_result"
    }
   ],
   "source": [
    "#Task 3.6.0\n",
    "UsedVehicle['fuel'].unique()"
   ]
  },
  {
   "cell_type": "code",
   "execution_count": 21,
   "id": "22f280d8",
   "metadata": {},
   "outputs": [
    {
     "name": "stdout",
     "output_type": "stream",
     "text": [
      "6\n"
     ]
    }
   ],
   "source": [
    "#Task 3.6.1\n",
    "a=len(UsedVehicle['fuel'].unique())\n",
    "print(a)"
   ]
  },
  {
   "cell_type": "code",
   "execution_count": 22,
   "id": "49370136",
   "metadata": {},
   "outputs": [
    {
     "data": {
      "text/plain": [
       "array(['clean', 'rebuilt', 'lien', 'unknown', 'salvage', 'missing',\n",
       "       'parts only'], dtype=object)"
      ]
     },
     "execution_count": 22,
     "metadata": {},
     "output_type": "execute_result"
    }
   ],
   "source": [
    "#Task 3.7.0\n",
    "UsedVehicle['title_status'].unique()"
   ]
  },
  {
   "cell_type": "code",
   "execution_count": 23,
   "id": "c466bb0d",
   "metadata": {},
   "outputs": [
    {
     "name": "stdout",
     "output_type": "stream",
     "text": [
      "7\n"
     ]
    }
   ],
   "source": [
    "#Task 3.7.1\n",
    "a=len(UsedVehicle['title_status'].unique())\n",
    "print(a)"
   ]
  },
  {
   "cell_type": "code",
   "execution_count": 24,
   "id": "8cce9775",
   "metadata": {},
   "outputs": [
    {
     "data": {
      "text/plain": [
       "array(['other', 'automatic', 'manual', 'unknown'], dtype=object)"
      ]
     },
     "execution_count": 24,
     "metadata": {},
     "output_type": "execute_result"
    }
   ],
   "source": [
    "#Task 3.8.0\n",
    "UsedVehicle['transmission'].unique()"
   ]
  },
  {
   "cell_type": "code",
   "execution_count": 25,
   "id": "270b1507",
   "metadata": {},
   "outputs": [
    {
     "name": "stdout",
     "output_type": "stream",
     "text": [
      "4\n"
     ]
    }
   ],
   "source": [
    "#Task 3.8.1\n",
    "a=len(UsedVehicle['transmission'].unique())\n",
    "print(a)"
   ]
  },
  {
   "cell_type": "code",
   "execution_count": 32,
   "id": "159b51d6",
   "metadata": {},
   "outputs": [
    {
     "data": {
      "text/plain": [
       "array(['unknown', 'rwd', '4wd', 'fwd'], dtype=object)"
      ]
     },
     "execution_count": 32,
     "metadata": {},
     "output_type": "execute_result"
    }
   ],
   "source": [
    "#Task 3.9.0\n",
    "UsedVehicle['drive'].unique()"
   ]
  },
  {
   "cell_type": "code",
   "execution_count": 33,
   "id": "e308b5e5",
   "metadata": {},
   "outputs": [
    {
     "name": "stdout",
     "output_type": "stream",
     "text": [
      "4\n"
     ]
    }
   ],
   "source": [
    "#Task 3.9.1\n",
    "a=len(UsedVehicle['drive'].unique())\n",
    "print(a)"
   ]
  },
  {
   "cell_type": "code",
   "execution_count": 34,
   "id": "f72cbfdf",
   "metadata": {},
   "outputs": [
    {
     "data": {
      "text/plain": [
       "array(['unknown', 'full-size', 'mid-size', 'compact', 'sub-compact'],\n",
       "      dtype=object)"
      ]
     },
     "execution_count": 34,
     "metadata": {},
     "output_type": "execute_result"
    }
   ],
   "source": [
    "#Task 3.10\n",
    "UsedVehicle['size'].unique()"
   ]
  },
  {
   "cell_type": "code",
   "execution_count": 35,
   "id": "dbf41ecc",
   "metadata": {},
   "outputs": [
    {
     "name": "stdout",
     "output_type": "stream",
     "text": [
      "5\n"
     ]
    }
   ],
   "source": [
    "#Task 3.10\n",
    "a=len(UsedVehicle['size'].unique())\n",
    "print(a)"
   ]
  },
  {
   "cell_type": "code",
   "execution_count": 36,
   "id": "3427128d",
   "metadata": {},
   "outputs": [
    {
     "data": {
      "text/plain": [
       "array(['pickup', 'truck', 'other', 'unknown', 'coupe', 'SUV', 'hatchback',\n",
       "       'mini-van', 'sedan', 'offroad', 'bus', 'van', 'convertible',\n",
       "       'wagon'], dtype=object)"
      ]
     },
     "execution_count": 36,
     "metadata": {},
     "output_type": "execute_result"
    }
   ],
   "source": [
    "#Task 3.11.0\n",
    "UsedVehicle['type'].unique()"
   ]
  },
  {
   "cell_type": "code",
   "execution_count": 37,
   "id": "f608fddd",
   "metadata": {},
   "outputs": [
    {
     "name": "stdout",
     "output_type": "stream",
     "text": [
      "14\n"
     ]
    }
   ],
   "source": [
    "#Task 3.11.1\n",
    "a=len(UsedVehicle['type'].unique())\n",
    "print(a)"
   ]
  },
  {
   "cell_type": "code",
   "execution_count": 38,
   "id": "acea9c3f",
   "metadata": {},
   "outputs": [
    {
     "data": {
      "text/plain": [
       "array(['white', 'blue', 'red', 'black', 'silver', 'grey', 'unknown',\n",
       "       'brown', 'yellow', 'orange', 'green', 'custom', 'purple'],\n",
       "      dtype=object)"
      ]
     },
     "execution_count": 38,
     "metadata": {},
     "output_type": "execute_result"
    }
   ],
   "source": [
    "#Task 3.12.0\n",
    "UsedVehicle['paint_color'].unique()"
   ]
  },
  {
   "cell_type": "code",
   "execution_count": 39,
   "id": "664ff01b",
   "metadata": {},
   "outputs": [
    {
     "name": "stdout",
     "output_type": "stream",
     "text": [
      "13\n"
     ]
    }
   ],
   "source": [
    "#Task 3.12.1\n",
    "a=len(UsedVehicle['paint_color'].unique())\n",
    "print(a)"
   ]
  },
  {
   "cell_type": "code",
   "execution_count": 40,
   "id": "8744d00f",
   "metadata": {},
   "outputs": [
    {
     "data": {
      "text/plain": [
       "array([\"Carvana is the safer way to buy a car During these uncertain times, Carvana is dedicated to ensuring safety for all of our customers. In addition to our 100% online shopping and selling experience that allows all customers to buy and trade their cars without ever leaving the safety of their house, we’re providing touchless delivery that make all aspects of our process even safer. Now, you can get the car you want, and trade in your old one, while avoiding person-to-person contact with our friendly advocates. There are some things that can’t be put off. And if buying a car is one of them, know that we’re doing everything we can to keep you keep moving while continuing to put your health safety, and happiness first. Vehicle Stock# 2000909557📱 Want to instantly check this car’s availability? Call us at  334-758-9176Just text that stock number to 855-976-4304 or head to http://www.carvanaauto.com/7171237-74502 and plug it into the search bar!Get PRE-QUALIFIED for your auto loan in 2 minutes - no hit to your credit:http://finance.carvanaauto.com/7171237-74502Looking for more cars like this one? We have 63 GMC Sierra 1500 Crew Cab in stock for as low as $23990!Why buy with Carvana? We have one standard: the highest. Take a look at just some of the qualifications all of our cars must meet before we list them.150-POINT INSPECTION: We put each vehicle through a 150-point inspection so that you can be 100% confident in its quality and safety. See everything that goes into our inspections at:http://www.carvanaauto.com/7171237-74502NO REPORTED ACCIDENTS: We do not sell cars that have been in a reported accident or have a frame or structural damage.7 DAY TEST OWN MONEY BACK GUARANTEE: Every Carvana car comes with a 7-day money-back guarantee. Why? It takes more than 15-minutes to make a decision on your next car. Learn more about test owning at http://about.carvanaauto.comFLEXIBLE FINANCING, TRADE INS WELCOME: We’re all about real-time financing without the middle man. Need financing? Pick a combination of down and monthly payments that work for you. Have a trade-in? We’ll give you a value in 2 minutes. Check out everything about our financing at:http://finance.carvanaauto.com/7171237-74502COST SAVINGS: Carvana's business model has fewer expenses and no bloated fees compared to your local dealership. See how much we can save you at http://about.carvanaauto.comPREMIUM DETAIL: We go the extra mile so that your car is looking as good as new. There are a lot of specifics that we won’t list here (we wash, clean, buff, paint, polish, wax, seal), but trust us that when your car arrives, it’s going to look sweet.Vehicle Info for Stock# 2000909557Trim: SLT Pickup 4D 5 3/4 ft pickupMileage: 57k milesExterior Color: WhiteInterior Color: Lt. BrownEngine: EcoTec3 5.3L Flex Fuel V8 355hp 383ft. lbs.Drive: Two Wheel DriveTransmission: VIN: 3GTP1VEC4EG551563Dealer Disclosure: Price excludes tax, title, and registration (which we handle for you).Disclaimer: You agree that by providing your phone number, Carvana, or Carvana’s authorized representatives*, may call and/or send text messages (including by using equipment to automatically dial telephone numbers) about your interest in a purchase, for marketing/sales purposes, or for any other servicing or informational purpose related to your account. You do not have to consent to receiving calls or texts to purchase from Carvana. While every reasonable effort is made to ensure the accuracy of the information for this GMC Sierra 1500 Crew Cab, we are not responsible for any errors or omissions contained in this ad. Please verify any information in question with Carvana at 334-758-9176*Including, but not limited to, Bridgecrest Credit Company, GO Financial and SilverRock Automotive.*GMC* *Sierra* *1500* *Crew* *Cab* *Base* *GMC* *Sierra* *1500* *Crew* *Cab* *SLE* *GMC* *Sierra* *1500* *Crew* *Cab* *SLT* *GMC* *Sierra* *1500* *Crew* *Cab* *Denali* *GMC* *Sierra* *1500* *Crew* *Cab* *Work* *Truck* *4x2* *GMC* *Sierra* *1500* *Crew* *Cab* *4x4* *Crew* *Cab* *GMC* *Sierra* *1500* *Crew* *Cab* *Regular* *Cab* *Extended* *Cab* *Truck* 2022  2021  2020  2019  2018  2017  2016  2015  2014  2013  2012  2011  2010  2009  2008  2007  2006  2005  2004  2003  2002  2001  2000   22  21    19  18  17  16  15  14  13  12  11  10  09  08  07  06  05  04  03  02  01  00\",\n",
       "       \"Carvana is the safer way to buy a car During these uncertain times, Carvana is dedicated to ensuring safety for all of our customers. In addition to our 100% online shopping and selling experience that allows all customers to buy and trade their cars without ever leaving the safety of their house, we’re providing touchless delivery that make all aspects of our process even safer. Now, you can get the car you want, and trade in your old one, while avoiding person-to-person contact with our friendly advocates. There are some things that can’t be put off. And if buying a car is one of them, know that we’re doing everything we can to keep you keep moving while continuing to put your health safety, and happiness first. Vehicle Stock# 2000977114📱 Want to instantly check this car’s availability? Call us at  334-758-9176Just text that stock number to 855-976-4304 or head to http://www.carvanaauto.com/7163375-74502 and plug it into the search bar!Get PRE-QUALIFIED for your auto loan in 2 minutes - no hit to your credit:http://finance.carvanaauto.com/7163375-74502Looking for more cars like this one? We have 10 Chevrolet Silverado 1500 Extended Cab in stock for as low as $20990!Why buy with Carvana? We have one standard: the highest. Take a look at just some of the qualifications all of our cars must meet before we list them.150-POINT INSPECTION: We put each vehicle through a 150-point inspection so that you can be 100% confident in its quality and safety. See everything that goes into our inspections at:http://www.carvanaauto.com/7163375-74502NO REPORTED ACCIDENTS: We do not sell cars that have been in a reported accident or have a frame or structural damage.7 DAY TEST OWN MONEY BACK GUARANTEE: Every Carvana car comes with a 7-day money-back guarantee. Why? It takes more than 15-minutes to make a decision on your next car. Learn more about test owning at http://about.carvanaauto.comFLEXIBLE FINANCING, TRADE INS WELCOME: We’re all about real-time financing without the middle man. Need financing? Pick a combination of down and monthly payments that work for you. Have a trade-in? We’ll give you a value in 2 minutes. Check out everything about our financing at:http://finance.carvanaauto.com/7163375-74502COST SAVINGS: Carvana's business model has fewer expenses and no bloated fees compared to your local dealership. See how much we can save you at http://about.carvanaauto.comPREMIUM DETAIL: We go the extra mile so that your car is looking as good as new. There are a lot of specifics that we won’t list here (we wash, clean, buff, paint, polish, wax, seal), but trust us that when your car arrives, it’s going to look sweet.Vehicle Info for Stock# 2000977114Trim: LT Pickup 4D 6 1/2 ft pickupMileage: 71k milesExterior Color: BlueInterior Color: BlackEngine: Vortec 5.3L Flex Fuel V8 315hp 335ft. lbs.Drive: Two Wheel DriveTransmission: VIN: 1GCSCSE06AZ123805Dealer Disclosure: Price excludes tax, title, and registration (which we handle for you).Disclaimer: You agree that by providing your phone number, Carvana, or Carvana’s authorized representatives*, may call and/or send text messages (including by using equipment to automatically dial telephone numbers) about your interest in a purchase, for marketing/sales purposes, or for any other servicing or informational purpose related to your account. You do not have to consent to receiving calls or texts to purchase from Carvana. While every reasonable effort is made to ensure the accuracy of the information for this Chevrolet Silverado 1500 Extended Cab, we are not responsible for any errors or omissions contained in this ad. Please verify any information in question with Carvana at 334-758-9176*Including, but not limited to, Bridgecrest Credit Company, GO Financial and SilverRock Automotive.*Chevrolet* *Silverado* *1500* *Extended* *Cab* *Chevy* *Chevrolet* *Silverado* *1500* *Extended* *Cab* *HD* *Crew* *Cab* *LS* *Pickup* *Chevrolet* *Silverado* *1500* *Extended* *Cab* *LS* *Chevrolet* *Silverado* *1500* *Extended* *Cab* *LT* *Chevrolet* *Silverado* *1500* *Extended* *Cab* *LTZ* *Chevrolet* *Silverado* *1500* *Extended* *Cab* *LT1* *Chevrolet* *Silverado* *1500* *Extended* *Cab* *Crew* *Cab* *Chevrolet* *Silverado* *1500* *Extended* *Cab* *XtraCab* *Chevrolet* *Silverado* *1500* *Extended* *Cab* *2500HD* *Classic* *Pick* *up* 2022  2021  2020  2019  2018  2017  2016  2015  2014  2013  2012  2011  2010  2009  2008  2007  2006  2005  2004  2003  2002  2001  2000   22  21    19  18  17  16  15  14  13  12  11  10  09  08  07  06  05  04  03  02  01  00\",\n",
       "       \"Carvana is the safer way to buy a car During these uncertain times, Carvana is dedicated to ensuring safety for all of our customers. In addition to our 100% online shopping and selling experience that allows all customers to buy and trade their cars without ever leaving the safety of their house, we’re providing touchless delivery that make all aspects of our process even safer. Now, you can get the car you want, and trade in your old one, while avoiding person-to-person contact with our friendly advocates. There are some things that can’t be put off. And if buying a car is one of them, know that we’re doing everything we can to keep you keep moving while continuing to put your health safety, and happiness first. Vehicle Stock# 2000948059📱 Want to instantly check this car’s availability? Call us at  334-758-9176Just text that stock number to 855-976-4304 or head to http://www.carvanaauto.com/6965441-74502 and plug it into the search bar!Get PRE-QUALIFIED for your auto loan in 2 minutes - no hit to your credit:http://finance.carvanaauto.com/6965441-74502Looking for more cars like this one? We have 144 Chevrolet Silverado 1500 Crew Cab in stock for as low as $20990!Why buy with Carvana? We have one standard: the highest. Take a look at just some of the qualifications all of our cars must meet before we list them.150-POINT INSPECTION: We put each vehicle through a 150-point inspection so that you can be 100% confident in its quality and safety. See everything that goes into our inspections at:http://www.carvanaauto.com/6965441-74502NO REPORTED ACCIDENTS: We do not sell cars that have been in a reported accident or have a frame or structural damage.7 DAY TEST OWN MONEY BACK GUARANTEE: Every Carvana car comes with a 7-day money-back guarantee. Why? It takes more than 15-minutes to make a decision on your next car. Learn more about test owning at http://about.carvanaauto.comFLEXIBLE FINANCING, TRADE INS WELCOME: We’re all about real-time financing without the middle man. Need financing? Pick a combination of down and monthly payments that work for you. Have a trade-in? We’ll give you a value in 2 minutes. Check out everything about our financing at:http://finance.carvanaauto.com/6965441-74502COST SAVINGS: Carvana's business model has fewer expenses and no bloated fees compared to your local dealership. See how much we can save you at http://about.carvanaauto.comPREMIUM DETAIL: We go the extra mile so that your car is looking as good as new. There are a lot of specifics that we won’t list here (we wash, clean, buff, paint, polish, wax, seal), but trust us that when your car arrives, it’s going to look sweet.Vehicle Info for Stock# 2000948059Trim: LT Pickup 4D 5 3/4 ft pickupMileage: 19k milesExterior Color: RedInterior Color: BLACKEngine: EcoTec3 5.3L V8 355hp 383ft. lbs.Drive: Two Wheel DriveTransmission: VIN: 3GCPWCED5LG130317Dealer Disclosure: Price excludes tax, title, and registration (which we handle for you).Disclaimer: You agree that by providing your phone number, Carvana, or Carvana’s authorized representatives*, may call and/or send text messages (including by using equipment to automatically dial telephone numbers) about your interest in a purchase, for marketing/sales purposes, or for any other servicing or informational purpose related to your account. You do not have to consent to receiving calls or texts to purchase from Carvana. While every reasonable effort is made to ensure the accuracy of the information for this Chevrolet Silverado 1500 Crew Cab, we are not responsible for any errors or omissions contained in this ad. Please verify any information in question with Carvana at 334-758-9176*Including, but not limited to, Bridgecrest Credit Company, GO Financial and SilverRock Automotive.*Chevrolet* *Silverado* *1500* *Crew* *Cab* *Chevy* *Chevrolet* *Silverado* *1500* *Crew* *Cab* *HD* *Crew* *Cab* *LS* *Pickup* *Chevrolet* *Silverado* *1500* *Crew* *Cab* *LS* *Chevrolet* *Silverado* *1500* *Crew* *Cab* *LT* *Chevrolet* *Silverado* *1500* *Crew* *Cab* *LTZ* *Chevrolet* *Silverado* *1500* *Crew* *Cab* *LT1* *Chevrolet* *Silverado* *1500* *Crew* *Cab* *Crew* *Cab* *Chevrolet* *Silverado* *1500* *Crew* *Cab* *XtraCab* *Chevrolet* *Silverado* *1500* *Crew* *Cab* *2500HD* *Classic* *Pick* *up* 2022  2021  2020  2019  2018  2017  2016  2015  2014  2013  2012  2011  2010  2009  2008  2007  2006  2005  2004  2003  2002  2001  2000   22  21    19  18  17  16  15  14  13  12  11  10  09  08  07  06  05  04  03  02  01  00\",\n",
       "       ...,\n",
       "       \"Carvana is the safer way to buy a car During these uncertain times, Carvana is dedicated to ensuring safety for all of our customers. In addition to our 100% online shopping and selling experience that allows all customers to buy and trade their cars without ever leaving the safety of their house, we’re providing touchless delivery that make all aspects of our process even safer. Now, you can get the car you want, and trade in your old one, while avoiding person-to-person contact with our friendly advocates. There are some things that can’t be put off. And if buying a car is one of them, know that we’re doing everything we can to keep you keep moving while continuing to put your health safety, and happiness first. Vehicle Stock# 2000766175📱 Want to instantly check this car’s availability? Call us at  307-215-1645Just text that stock number to 855-976-4304 or head to http://www.carvanaauto.com/6521948-75173 and plug it into the search bar!Get PRE-QUALIFIED for your auto loan in 2 minutes - no hit to your credit:http://finance.carvanaauto.com/6521948-75173Looking for more cars like this one? We have 101 Cadillac XT4 in stock for as low as $28590!Why buy with Carvana? We have one standard: the highest. Take a look at just some of the qualifications all of our cars must meet before we list them.150-POINT INSPECTION: We put each vehicle through a 150-point inspection so that you can be 100% confident in its quality and safety. See everything that goes into our inspections at:http://www.carvanaauto.com/6521948-75173NO REPORTED ACCIDENTS: We do not sell cars that have been in a reported accident or have a frame or structural damage.7 DAY TEST OWN MONEY BACK GUARANTEE: Every Carvana car comes with a 7-day money-back guarantee. Why? It takes more than 15-minutes to make a decision on your next car. Learn more about test owning at http://about.carvanaauto.comFLEXIBLE FINANCING, TRADE INS WELCOME: We’re all about real-time financing without the middle man. Need financing? Pick a combination of down and monthly payments that work for you. Have a trade-in? We’ll give you a value in 2 minutes. Check out everything about our financing at:http://finance.carvanaauto.com/6521948-75173COST SAVINGS: Carvana's business model has fewer expenses and no bloated fees compared to your local dealership. See how much we can save you at http://about.carvanaauto.comPREMIUM DETAIL: We go the extra mile so that your car is looking as good as new. There are a lot of specifics that we won’t list here (we wash, clean, buff, paint, polish, wax, seal), but trust us that when your car arrives, it’s going to look sweet.Vehicle Info for Stock# 2000766175Trim: Sport SUV 4D hatchbackMileage: 4k milesExterior Color: WhiteInterior Color: BLACKEngine: 2.0L Turbo I4 237hp 258ft. lbs.Drive: awdTransmission: VIN: 1GYFZFR46LF088296Dealer Disclosure: Price excludes tax, title, and registration (which we handle for you).Disclaimer: You agree that by providing your phone number, Carvana, or Carvana’s authorized representatives*, may call and/or send text messages (including by using equipment to automatically dial telephone numbers) about your interest in a purchase, for marketing/sales purposes, or for any other servicing or informational purpose related to your account. You do not have to consent to receiving calls or texts to purchase from Carvana. While every reasonable effort is made to ensure the accuracy of the information for this Cadillac XT4, we are not responsible for any errors or omissions contained in this ad. Please verify any information in question with Carvana at 307-215-1645*Including, but not limited to, Bridgecrest Credit Company, GO Financial and SilverRock Automotive.*Cadillac* *XT4* 2022  2021  2020  2019  2018  2017  2016  2015  2014  2013  2012  2011  2010  2009  2008  2007  2006  2005  2004  2003  2002  2001  2000   22  21    19  18  17  16  15  14  13  12  11  10  09  08  07  06  05  04  03  02  01  00\",\n",
       "       \"Carvana is the safer way to buy a car During these uncertain times, Carvana is dedicated to ensuring safety for all of our customers. In addition to our 100% online shopping and selling experience that allows all customers to buy and trade their cars without ever leaving the safety of their house, we’re providing touchless delivery that make all aspects of our process even safer. Now, you can get the car you want, and trade in your old one, while avoiding person-to-person contact with our friendly advocates. There are some things that can’t be put off. And if buying a car is one of them, know that we’re doing everything we can to keep you keep moving while continuing to put your health safety, and happiness first. Vehicle Stock# 2000928634📱 Want to instantly check this car’s availability? Call us at  307-215-1645Just text that stock number to 855-976-4304 or head to  and plug it into the search bar!Get PRE-QUALIFIED for your auto loan in 2 minutes - no hit to your credit:http://finance.carvanaauto.com/6884804-75173Looking for more cars like this one? We have 98 Lexus ES in stock for as low as $13590!Why buy with Carvana? We have one standard: the highest. Take a look at just some of the qualifications all of our cars must meet before we list them.150-POINT INSPECTION: We put each vehicle through a 150-point inspection so that you can be 100% confident in its quality and safety. See everything that goes into our inspections at:NO REPORTED ACCIDENTS: We do not sell cars that have been in a reported accident or have a frame or structural damage.7 DAY TEST OWN MONEY BACK GUARANTEE: Every Carvana car comes with a 7-day money-back guarantee. Why? It takes more than 15-minutes to make a decision on your next car. Learn more about test owning at http://about.carvanaauto.comFLEXIBLE FINANCING, TRADE INS WELCOME: We’re all about real-time financing without the middle man. Need financing? Pick a combination of down and monthly payments that work for you. Have a trade-in? We’ll give you a value in 2 minutes. Check out everything about our financing at:http://finance.carvanaauto.com/6884804-75173COST SAVINGS: Carvana's business model has fewer expenses and no bloated fees compared to your local dealership. See how much we can save you at http://about.carvanaauto.comPREMIUM DETAIL: We go the extra mile so that your car is looking as good as new. There are a lot of specifics that we won’t list here (we wash, clean, buff, paint, polish, wax, seal), but trust us that when your car arrives, it’s going to look sweet.Vehicle Info for Stock# 2000928634Trim: ES 350 Sedan 4D sedanMileage: 30k milesExterior Color: SilverInterior Color: GrayEngine: 3.5L V6 268hp 248ft. lbs.Drive: fwdTransmission: VIN: 58ABK1GG4JU103853Dealer Disclosure: Price excludes tax, title, and registration (which we handle for you).Disclaimer: You agree that by providing your phone number, Carvana, or Carvana’s authorized representatives*, may call and/or send text messages (including by using equipment to automatically dial telephone numbers) about your interest in a purchase, for marketing/sales purposes, or for any other servicing or informational purpose related to your account. You do not have to consent to receiving calls or texts to purchase from Carvana. While every reasonable effort is made to ensure the accuracy of the information for this Lexus ES, we are not responsible for any errors or omissions contained in this ad. Please verify any information in question with Carvana at 307-215-1645*Including, but not limited to, Bridgecrest Credit Company, GO Financial and SilverRock Automotive.*Lexus* *ES* *ES* *Lexus* *ES* *Base* *Lexus* *ES* *ES* *300* *Lexus* *ES* *ES* *300H* *Lexus* *ES* *ES* *330* *Lexus* *ES* *ES* *350* *Lexus* *ES* *ES300* *Lexus* *ES* *ES300H* *Lexus* *ES* *ES330* *Lexus* *ES* *ES350* *Lexus* *ES* *ES* *300* *Lexus* *ES* *ES* *300H* *Lexus* *ES* *ES* *330* *Lexus* *ES* *ES* *350* *Lexus* *ES* *ES-300* *Lexus* *ES* *ES-300H* *Lexus* *ES* *ES-330* *Lexus* *ES* *ES-350* *Lexus* *ES* *Sedan* *Lexus* *ES* *Base* *Sedan* 2022  2021  2020  2019  2018  2017  2016  2015  2014  2013  2012  2011  2010  2009  2008  2007  2006  2005  2004  2003  2002  2001  2000   22  21    19  18  17  16  15  14  13  12  11  10  09  08  07  06  05  04  03  02  01  00\",\n",
       "       \"Carvana is the safer way to buy a car During these uncertain times, Carvana is dedicated to ensuring safety for all of our customers. In addition to our 100% online shopping and selling experience that allows all customers to buy and trade their cars without ever leaving the safety of their house, we’re providing touchless delivery that make all aspects of our process even safer. Now, you can get the car you want, and trade in your old one, while avoiding person-to-person contact with our friendly advocates. There are some things that can’t be put off. And if buying a car is one of them, know that we’re doing everything we can to keep you keep moving while continuing to put your health safety, and happiness first. Vehicle Stock# 2000909942📱 Want to instantly check this car’s availability? Call us at  307-215-1645Just text that stock number to 855-976-4304 or head to http://www.carvanaauto.com/6827369-75173 and plug it into the search bar!Get PRE-QUALIFIED for your auto loan in 2 minutes - no hit to your credit:http://finance.carvanaauto.com/6827369-75173Looking for more cars like this one? We have 115 BMW 4 Series in stock for as low as $17990!Why buy with Carvana? We have one standard: the highest. Take a look at just some of the qualifications all of our cars must meet before we list them.150-POINT INSPECTION: We put each vehicle through a 150-point inspection so that you can be 100% confident in its quality and safety. See everything that goes into our inspections at:http://www.carvanaauto.com/6827369-75173NO REPORTED ACCIDENTS: We do not sell cars that have been in a reported accident or have a frame or structural damage.7 DAY TEST OWN MONEY BACK GUARANTEE: Every Carvana car comes with a 7-day money-back guarantee. Why? It takes more than 15-minutes to make a decision on your next car. Learn more about test owning at http://about.carvanaauto.comFLEXIBLE FINANCING, TRADE INS WELCOME: We’re all about real-time financing without the middle man. Need financing? Pick a combination of down and monthly payments that work for you. Have a trade-in? We’ll give you a value in 2 minutes. Check out everything about our financing at:http://finance.carvanaauto.com/6827369-75173COST SAVINGS: Carvana's business model has fewer expenses and no bloated fees compared to your local dealership. See how much we can save you at http://about.carvanaauto.comPREMIUM DETAIL: We go the extra mile so that your car is looking as good as new. There are a lot of specifics that we won’t list here (we wash, clean, buff, paint, polish, wax, seal), but trust us that when your car arrives, it’s going to look sweet.Vehicle Info for Stock# 2000909942Trim: 430i Gran Coupe Sedan 4D coupeMileage: 22k milesExterior Color: GrayInterior Color: BLACKEngine: 2.0L Turbo I4 248hp 258ft. lbs.Drive: rwdTransmission: VIN: WBA4J1C58KBM14708Dealer Disclosure: Price excludes tax, title, and registration (which we handle for you).Disclaimer: You agree that by providing your phone number, Carvana, or Carvana’s authorized representatives*, may call and/or send text messages (including by using equipment to automatically dial telephone numbers) about your interest in a purchase, for marketing/sales purposes, or for any other servicing or informational purpose related to your account. You do not have to consent to receiving calls or texts to purchase from Carvana. While every reasonable effort is made to ensure the accuracy of the information for this BMW 4 Series, we are not responsible for any errors or omissions contained in this ad. Please verify any information in question with Carvana at 307-215-1645*Including, but not limited to, Bridgecrest Credit Company, GO Financial and SilverRock Automotive.*BMW* *4* *Series* *i* *2* *BMW* *4* *Series* *i2* *BMW* *4* *Series* *ix* *BMW* *4* *Series* *i* *x* *Rear* *Wheel* *drive* *Coupe* *BMW* *4* *Series* *All-* *Wheel* *Drive* *Convertible* 2022  2021  2020  2019  2018  2017  2016  2015  2014  2013  2012  2011  2010  2009  2008  2007  2006  2005  2004  2003  2002  2001  2000   22  21    19  18  17  16  15  14  13  12  11  10  09  08  07  06  05  04  03  02  01  00\"],\n",
       "      dtype=object)"
      ]
     },
     "execution_count": 40,
     "metadata": {},
     "output_type": "execute_result"
    }
   ],
   "source": [
    "#Task 3.13.0\n",
    "#useless as description will be different\n",
    "\n",
    "\n",
    "UsedVehicle['description'].unique()"
   ]
  },
  {
   "cell_type": "code",
   "execution_count": 41,
   "id": "1edb2d34",
   "metadata": {},
   "outputs": [],
   "source": [
    "#Task 3.13.1\n",
    "a=len(UsedVehicle['description'].unique())\n",
    "print(a)"
   ]
  },
  {
   "cell_type": "code",
   "execution_count": 42,
   "id": "2cf98424",
   "metadata": {},
   "outputs": [
    {
     "data": {
      "text/plain": [
       "array(['al', 'ak', 'az', 'ar', 'ca', 'co', 'ct', 'dc', 'de', 'fl', 'ga',\n",
       "       'hi', 'id', 'il', 'in', 'ia', 'ks', 'ky', 'la', 'me', 'md', 'ma',\n",
       "       'mi', 'mn', 'ms', 'mo', 'mt', 'nc', 'ne', 'nv', 'nj', 'nm', 'ny',\n",
       "       'nh', 'nd', 'oh', 'ok', 'or', 'pa', 'ri', 'sc', 'sd', 'tn', 'tx',\n",
       "       'ut', 'vt', 'va', 'wa', 'wv', 'wi', 'wy'], dtype=object)"
      ]
     },
     "execution_count": 42,
     "metadata": {},
     "output_type": "execute_result"
    }
   ],
   "source": [
    "#Task 3.14.0\n",
    "UsedVehicle['state'].unique()"
   ]
  },
  {
   "cell_type": "code",
   "execution_count": 43,
   "id": "dd24cb4f",
   "metadata": {},
   "outputs": [
    {
     "name": "stdout",
     "output_type": "stream",
     "text": [
      "51\n"
     ]
    }
   ],
   "source": [
    "#Task 3.14.1\n",
    "a=len(UsedVehicle['state'].unique())\n",
    "print(a)"
   ]
  },
  {
   "cell_type": "markdown",
   "id": "036f365b",
   "metadata": {},
   "source": [
    "there is 51 states and there are only 50 states.  I figured out they used DC as a state."
   ]
  },
  {
   "cell_type": "code",
   "execution_count": null,
   "id": "53434a16",
   "metadata": {},
   "outputs": [],
   "source": []
  },
  {
   "cell_type": "code",
   "execution_count": 44,
   "id": "8752d70f",
   "metadata": {},
   "outputs": [
    {
     "data": {
      "text/plain": [
       "array(['2021-05-04 12:31:18-05:00', '2021-05-04 12:31:08-05:00',\n",
       "       '2021-05-04 12:31:25-05:00', ..., '2021-04-04 03:21:17-06:00',\n",
       "       '2021-04-04 03:21:11-06:00', '2021-04-04 03:21:07-06:00'],\n",
       "      dtype=object)"
      ]
     },
     "execution_count": 44,
     "metadata": {},
     "output_type": "execute_result"
    }
   ],
   "source": [
    "#Task 3.15.0\n",
    "UsedVehicle['posting_date'].unique()"
   ]
  },
  {
   "cell_type": "code",
   "execution_count": 45,
   "id": "035a315e",
   "metadata": {},
   "outputs": [
    {
     "name": "stdout",
     "output_type": "stream",
     "text": [
      "372113\n"
     ]
    }
   ],
   "source": [
    "#Task 3.15.1\n",
    "a=len(UsedVehicle['posting_date'].unique())\n",
    "print(a)"
   ]
  },
  {
   "cell_type": "code",
   "execution_count": null,
   "id": "49bd1328",
   "metadata": {},
   "outputs": [],
   "source": []
  },
  {
   "cell_type": "code",
   "execution_count": 46,
   "id": "09f06dcc",
   "metadata": {},
   "outputs": [
    {
     "data": {
      "text/plain": [
       "<AxesSubplot:>"
      ]
     },
     "execution_count": 46,
     "metadata": {},
     "output_type": "execute_result"
    },
    {
     "data": {
      "image/png": "[encoded data removed]",
      "text/plain": [
       "<Figure size 720x720 with 2 Axes>"
      ]
     },
     "metadata": {
      "needs_background": "light"
     },
     "output_type": "display_data"
    }
   ],
   "source": [
    "#Task 4.0\n",
    "#test data to see correlation mapping\n",
    "#Heat map with columns that are floats or int.  It will not work with str.\n",
    "#adjust the scale so i can see anything that has correation greater than 0.  \n",
    "#Previous chart with -1 to 1 was difficult to distinguest correlation\n",
    "\n",
    "UsedVehicle_corr=UsedVehicle.corr()\n",
    "fig,ax  =plt.subplots(figsize = (10,10))\n",
    "sns.heatmap(UsedVehicle_corr, linewidth=.5,ax=ax, vmin=-1,vmax=1)"
   ]
  },
  {
   "cell_type": "markdown",
   "id": "b388bebd",
   "metadata": {},
   "source": [
    "Looking at price / odometer and odometer / year"
   ]
  },
  {
   "cell_type": "code",
   "execution_count": 50,
   "id": "3aba04c2",
   "metadata": {},
   "outputs": [
    {
     "data": {
      "text/html": [
       "<div>\n",
       "<style scoped>\n",
       "    .dataframe tbody tr th:only-of-type {\n",
       "        vertical-align: middle;\n",
       "    }\n",
       "\n",
       "    .dataframe tbody tr th {\n",
       "        vertical-align: top;\n",
       "    }\n",
       "\n",
       "    .dataframe thead th {\n",
       "        text-align: right;\n",
       "    }\n",
       "</style>\n",
       "<table border=\"1\" class=\"dataframe\">\n",
       "  <thead>\n",
       "    <tr style=\"text-align: right;\">\n",
       "      <th></th>\n",
       "      <th>odometer</th>\n",
       "      <th>year</th>\n",
       "      <th>price</th>\n",
       "    </tr>\n",
       "  </thead>\n",
       "  <tbody>\n",
       "    <tr>\n",
       "      <th>0</th>\n",
       "      <td>57923.0</td>\n",
       "      <td>2014.0</td>\n",
       "      <td>33590</td>\n",
       "    </tr>\n",
       "    <tr>\n",
       "      <th>1</th>\n",
       "      <td>71229.0</td>\n",
       "      <td>2010.0</td>\n",
       "      <td>22590</td>\n",
       "    </tr>\n",
       "    <tr>\n",
       "      <th>2</th>\n",
       "      <td>19160.0</td>\n",
       "      <td>2020.0</td>\n",
       "      <td>39590</td>\n",
       "    </tr>\n",
       "    <tr>\n",
       "      <th>3</th>\n",
       "      <td>41124.0</td>\n",
       "      <td>2017.0</td>\n",
       "      <td>30990</td>\n",
       "    </tr>\n",
       "    <tr>\n",
       "      <th>4</th>\n",
       "      <td>128000.0</td>\n",
       "      <td>2013.0</td>\n",
       "      <td>15000</td>\n",
       "    </tr>\n",
       "    <tr>\n",
       "      <th>...</th>\n",
       "      <td>...</td>\n",
       "      <td>...</td>\n",
       "      <td>...</td>\n",
       "    </tr>\n",
       "    <tr>\n",
       "      <th>416144</th>\n",
       "      <td>32226.0</td>\n",
       "      <td>2019.0</td>\n",
       "      <td>23590</td>\n",
       "    </tr>\n",
       "    <tr>\n",
       "      <th>416145</th>\n",
       "      <td>12029.0</td>\n",
       "      <td>2020.0</td>\n",
       "      <td>30590</td>\n",
       "    </tr>\n",
       "    <tr>\n",
       "      <th>416146</th>\n",
       "      <td>4174.0</td>\n",
       "      <td>2020.0</td>\n",
       "      <td>34990</td>\n",
       "    </tr>\n",
       "    <tr>\n",
       "      <th>416147</th>\n",
       "      <td>30112.0</td>\n",
       "      <td>2018.0</td>\n",
       "      <td>28990</td>\n",
       "    </tr>\n",
       "    <tr>\n",
       "      <th>416148</th>\n",
       "      <td>22716.0</td>\n",
       "      <td>2019.0</td>\n",
       "      <td>30590</td>\n",
       "    </tr>\n",
       "  </tbody>\n",
       "</table>\n",
       "<p>416149 rows × 3 columns</p>\n",
       "</div>"
      ],
      "text/plain": [
       "        odometer    year  price\n",
       "0        57923.0  2014.0  33590\n",
       "1        71229.0  2010.0  22590\n",
       "2        19160.0  2020.0  39590\n",
       "3        41124.0  2017.0  30990\n",
       "4       128000.0  2013.0  15000\n",
       "...          ...     ...    ...\n",
       "416144   32226.0  2019.0  23590\n",
       "416145   12029.0  2020.0  30590\n",
       "416146    4174.0  2020.0  34990\n",
       "416147   30112.0  2018.0  28990\n",
       "416148   22716.0  2019.0  30590\n",
       "\n",
       "[416149 rows x 3 columns]"
      ]
     },
     "execution_count": 50,
     "metadata": {},
     "output_type": "execute_result"
    }
   ],
   "source": [
    "UsedVehicle[['odometer','year','price']]"
   ]
  },
  {
   "cell_type": "code",
   "execution_count": null,
   "id": "8364f3f4",
   "metadata": {},
   "outputs": [],
   "source": []
  },
  {
   "cell_type": "code",
   "execution_count": null,
   "id": "2c761d88",
   "metadata": {},
   "outputs": [],
   "source": []
  },
  {
   "cell_type": "code",
   "execution_count": 53,
   "id": "36338e0b",
   "metadata": {
    "scrolled": false
   },
   "outputs": [
    {
     "data": {
      "text/plain": [
       "<seaborn.axisgrid.PairGrid at 0x6d81c4c0>"
      ]
     },
     "execution_count": 53,
     "metadata": {},
     "output_type": "execute_result"
    },
    {
     "data": {
      "image/png": "[encoded data removed]",
      "text/plain": [
       "<Figure size 421.5x360 with 6 Axes>"
      ]
     },
     "metadata": {
      "needs_background": "light"
     },
     "output_type": "display_data"
    }
   ],
   "source": [
    "#Task 5.1\n",
    "#seaborn pair plot\n",
    "df1 = UsedVehicle[['odometer','year','price']]\n",
    "sns.pairplot(df1, hue='year')\n",
    "\n"
   ]
  },
  {
   "cell_type": "code",
   "execution_count": 70,
   "id": "03756181",
   "metadata": {},
   "outputs": [
    {
     "data": {
      "text/plain": [
       "<seaborn.axisgrid.PairGrid at 0x6a0d58e0>"
      ]
     },
     "execution_count": 70,
     "metadata": {},
     "output_type": "execute_result"
    },
    {
     "data": {
      "image/png": "[encoded data removed]",
      "text/plain": [
       "<Figure size 412x360 with 6 Axes>"
      ]
     },
     "metadata": {
      "needs_background": "light"
     },
     "output_type": "display_data"
    }
   ],
   "source": [
    "#Task 5.2\n",
    "\n",
    "\n",
    "df2 = UsedVehicle[['odometer','year','price']]\n",
    "sns.pairplot(df2, hue='price')\n",
    "\n"
   ]
  },
  {
   "cell_type": "code",
   "execution_count": null,
   "id": "66fc55da",
   "metadata": {},
   "outputs": [],
   "source": []
  },
  {
   "cell_type": "code",
   "execution_count": 64,
   "id": "c121dce4",
   "metadata": {},
   "outputs": [
    {
     "data": {
      "image/png": "[encoded data removed]",
      "text/plain": [
       "<Figure size 1080x360 with 1 Axes>"
      ]
     },
     "metadata": {
      "needs_background": "light"
     },
     "output_type": "display_data"
    }
   ],
   "source": [
    "#Task 5.3.0\n",
    "#box plot\n",
    "plt.figure(figsize = (15,5))\n",
    "sns.lineplot(x=UsedVehicle['odometer'].mean() ,y=UsedVehicle['price']);\n",
    "plt.show()"
   ]
  },
  {
   "cell_type": "code",
   "execution_count": 59,
   "id": "c733b32d",
   "metadata": {},
   "outputs": [
    {
     "data": {
      "image/png": "[encoded data removed]",
      "text/plain": [
       "<Figure size 1080x360 with 1 Axes>"
      ]
     },
     "metadata": {
      "needs_background": "light"
     },
     "output_type": "display_data"
    }
   ],
   "source": [
    "#Task 5.3.1\n",
    "#box plot\n",
    "plt.figure(figsize = (15,5))\n",
    "sns.lineplot(x=UsedVehicle['year'] ,y=UsedVehicle['price'].mean());\n",
    "plt.show()"
   ]
  },
  {
   "cell_type": "code",
   "execution_count": 69,
   "id": "9bc34a71",
   "metadata": {},
   "outputs": [
    {
     "data": {
      "image/png": "[encoded data removed]",
      "text/plain": [
       "<Figure size 1440x720 with 1 Axes>"
      ]
     },
     "metadata": {
      "needs_background": "light"
     },
     "output_type": "display_data"
    }
   ],
   "source": [
    "#Task 5.3.2\n",
    "#box plot\n",
    "plt.figure(figsize = (20,10))\n",
    "sns.lineplot(y=UsedVehicle['odometer'].mean() ,x=UsedVehicle['year']);\n",
    "plt.show()"
   ]
  },
  {
   "cell_type": "code",
   "execution_count": 71,
   "id": "5f3d92fb",
   "metadata": {},
   "outputs": [
    {
     "data": {
      "image/png": "[encoded data removed]",
      "text/plain": [
       "<Figure size 1080x360 with 1 Axes>"
      ]
     },
     "metadata": {
      "needs_background": "light"
     },
     "output_type": "display_data"
    }
   ],
   "source": [
    "#Task 5.4\n",
    "#box plot\n",
    "plt.figure(figsize = (15,5))\n",
    "sns.boxplot(x=UsedVehicle['year'] ,y=UsedVehicle['price']);\n",
    "plt.show()"
   ]
  },
  {
   "cell_type": "markdown",
   "id": "7db16ca4",
   "metadata": {},
   "source": []
  },
  {
   "cell_type": "code",
   "execution_count": 73,
   "id": "f8feef1e",
   "metadata": {},
   "outputs": [
    {
     "data": {
      "image/png": "[encoded data removed]",
      "text/plain": [
       "<Figure size 1440x1440 with 1 Axes>"
      ]
     },
     "metadata": {
      "needs_background": "light"
     },
     "output_type": "display_data"
    }
   ],
   "source": [
    "#Task 5.6\n",
    "\n",
    "#Violin Plot\n",
    "\n",
    "#aasize =(20,20)\n",
    "fig,ax=plt.subplots()\n",
    "fig.set_size_inches(20,20)\n",
    "sns.violinplot(x=UsedVehicle['year'] ,y=UsedVehicle['price'], ax =ax );\n",
    "plt.show()"
   ]
  },
  {
   "cell_type": "code",
   "execution_count": null,
   "id": "b1358182",
   "metadata": {},
   "outputs": [],
   "source": []
  },
  {
   "cell_type": "code",
   "execution_count": null,
   "id": "b1ff9855",
   "metadata": {},
   "outputs": [],
   "source": []
  },
  {
   "cell_type": "code",
   "execution_count": null,
   "id": "a24b85d8",
   "metadata": {},
   "outputs": [],
   "source": []
  },
  {
   "cell_type": "code",
   "execution_count": null,
   "id": "b9795b55",
   "metadata": {},
   "outputs": [],
   "source": [
    "\n",
    "_=CCLoan.groupby('LATE_PAYMENT')['NAME_EDUCATION_TYPE'].hist(bins =5)\n",
    "_=plt.xlabel('NAME_EDUCATION_TYPE')\n",
    "_=plt.ylabel('LATE_PAYMENT')\n",
    "_=plt.title(\"Late Payment vs NAME_EDUCATION_TYPE\")"
   ]
  }
 ],
 "metadata": {
  "kernelspec": {
   "display_name": "Python 3",
   "language": "python",
   "name": "python3"
  },
  "language_info": {
   "codemirror_mode": {
    "name": "ipython",
    "version": 3
   },
   "file_extension": ".py",
   "mimetype": "text/x-python",
   "name": "python",
   "nbconvert_exporter": "python",
   "pygments_lexer": "ipython3",
   "version": "3.8.10"
  }
 },
 "nbformat": 4,
 "nbformat_minor": 5
}
