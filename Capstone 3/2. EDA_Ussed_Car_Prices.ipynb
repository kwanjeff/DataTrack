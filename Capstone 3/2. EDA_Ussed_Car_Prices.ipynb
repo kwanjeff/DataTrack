{
 "cells": [
  {
   "cell_type": "markdown",
   "id": "47be0c69",
   "metadata": {},
   "source": [
    "data visualization\n",
    "\n",
    "statistical graphing"
   ]
  },
  {
   "cell_type": "code",
   "execution_count": 1,
   "id": "72465956",
   "metadata": {},
   "outputs": [],
   "source": [
    "#Task 1.0  import libraries \n",
    "#import pandas\n",
    "import pandas as pd\n",
    "import matplotlib.pyplot as plt\n",
    "from matplotlib import rcParams\n",
    "import seaborn as sns\n",
    "import numpy as np\n",
    "import os\n",
    "import sklearn\n",
    "from sklearn.model_selection import train_test_split\n",
    "\n",
    "import warnings\n",
    "warnings.filterwarnings(\"ignore\")"
   ]
  },
  {
   "cell_type": "code",
   "execution_count": 2,
   "id": "a5f88e7a",
   "metadata": {},
   "outputs": [],
   "source": [
    "##import inforamtion from cleaned data from previous \n",
    "#Task 1.1  import csv file\n",
    "\n",
    "UsedVehicle=pd.read_csv(r'.\\Data\\UsedCarData\\clean_vehicles.csv', header=0 )"
   ]
  },
  {
   "cell_type": "code",
   "execution_count": 3,
   "id": "ccb1c353",
   "metadata": {},
   "outputs": [
    {
     "data": {
      "text/html": [
       "<div>\n",
       "<style scoped>\n",
       "    .dataframe tbody tr th:only-of-type {\n",
       "        vertical-align: middle;\n",
       "    }\n",
       "\n",
       "    .dataframe tbody tr th {\n",
       "        vertical-align: top;\n",
       "    }\n",
       "\n",
       "    .dataframe thead th {\n",
       "        text-align: right;\n",
       "    }\n",
       "</style>\n",
       "<table border=\"1\" class=\"dataframe\">\n",
       "  <thead>\n",
       "    <tr style=\"text-align: right;\">\n",
       "      <th></th>\n",
       "      <th>id</th>\n",
       "      <th>url</th>\n",
       "      <th>region</th>\n",
       "      <th>region_url</th>\n",
       "      <th>price</th>\n",
       "      <th>year</th>\n",
       "      <th>manufacturer</th>\n",
       "      <th>model</th>\n",
       "      <th>condition</th>\n",
       "      <th>cylinders</th>\n",
       "      <th>...</th>\n",
       "      <th>drive</th>\n",
       "      <th>size</th>\n",
       "      <th>type</th>\n",
       "      <th>paint_color</th>\n",
       "      <th>image_url</th>\n",
       "      <th>description</th>\n",
       "      <th>state</th>\n",
       "      <th>lat</th>\n",
       "      <th>long</th>\n",
       "      <th>posting_date</th>\n",
       "    </tr>\n",
       "  </thead>\n",
       "  <tbody>\n",
       "    <tr>\n",
       "      <th>0</th>\n",
       "      <td>7316814884</td>\n",
       "      <td>https://auburn.craigslist.org/ctd/d/auburn-uni...</td>\n",
       "      <td>auburn</td>\n",
       "      <td>https://auburn.craigslist.org</td>\n",
       "      <td>33590</td>\n",
       "      <td>2014.0</td>\n",
       "      <td>gmc</td>\n",
       "      <td>sierra 1500 crew cab slt</td>\n",
       "      <td>good</td>\n",
       "      <td>8 cylinders</td>\n",
       "      <td>...</td>\n",
       "      <td>unknown</td>\n",
       "      <td>unknown</td>\n",
       "      <td>pickup</td>\n",
       "      <td>white</td>\n",
       "      <td>https://images.craigslist.org/00R0R_lwWjXSEWNa...</td>\n",
       "      <td>Carvana is the safer way to buy a car During t...</td>\n",
       "      <td>al</td>\n",
       "      <td>32.59</td>\n",
       "      <td>-85.48</td>\n",
       "      <td>2021-05-04 12:31:18-05:00</td>\n",
       "    </tr>\n",
       "    <tr>\n",
       "      <th>1</th>\n",
       "      <td>7316814758</td>\n",
       "      <td>https://auburn.craigslist.org/ctd/d/auburn-uni...</td>\n",
       "      <td>auburn</td>\n",
       "      <td>https://auburn.craigslist.org</td>\n",
       "      <td>22590</td>\n",
       "      <td>2010.0</td>\n",
       "      <td>chevrolet</td>\n",
       "      <td>silverado 1500</td>\n",
       "      <td>good</td>\n",
       "      <td>8 cylinders</td>\n",
       "      <td>...</td>\n",
       "      <td>unknown</td>\n",
       "      <td>unknown</td>\n",
       "      <td>pickup</td>\n",
       "      <td>blue</td>\n",
       "      <td>https://images.craigslist.org/00R0R_lwWjXSEWNa...</td>\n",
       "      <td>Carvana is the safer way to buy a car During t...</td>\n",
       "      <td>al</td>\n",
       "      <td>32.59</td>\n",
       "      <td>-85.48</td>\n",
       "      <td>2021-05-04 12:31:08-05:00</td>\n",
       "    </tr>\n",
       "    <tr>\n",
       "      <th>2</th>\n",
       "      <td>7316814989</td>\n",
       "      <td>https://auburn.craigslist.org/ctd/d/auburn-uni...</td>\n",
       "      <td>auburn</td>\n",
       "      <td>https://auburn.craigslist.org</td>\n",
       "      <td>39590</td>\n",
       "      <td>2020.0</td>\n",
       "      <td>chevrolet</td>\n",
       "      <td>silverado 1500 crew</td>\n",
       "      <td>good</td>\n",
       "      <td>8 cylinders</td>\n",
       "      <td>...</td>\n",
       "      <td>unknown</td>\n",
       "      <td>unknown</td>\n",
       "      <td>pickup</td>\n",
       "      <td>red</td>\n",
       "      <td>https://images.craigslist.org/01212_jjirIWa0y0...</td>\n",
       "      <td>Carvana is the safer way to buy a car During t...</td>\n",
       "      <td>al</td>\n",
       "      <td>32.59</td>\n",
       "      <td>-85.48</td>\n",
       "      <td>2021-05-04 12:31:25-05:00</td>\n",
       "    </tr>\n",
       "    <tr>\n",
       "      <th>3</th>\n",
       "      <td>7316743432</td>\n",
       "      <td>https://auburn.craigslist.org/ctd/d/auburn-uni...</td>\n",
       "      <td>auburn</td>\n",
       "      <td>https://auburn.craigslist.org</td>\n",
       "      <td>30990</td>\n",
       "      <td>2017.0</td>\n",
       "      <td>toyota</td>\n",
       "      <td>tundra double cab sr</td>\n",
       "      <td>good</td>\n",
       "      <td>8 cylinders</td>\n",
       "      <td>...</td>\n",
       "      <td>unknown</td>\n",
       "      <td>unknown</td>\n",
       "      <td>pickup</td>\n",
       "      <td>red</td>\n",
       "      <td>https://images.craigslist.org/00x0x_1y9kIOzGCF...</td>\n",
       "      <td>Carvana is the safer way to buy a car During t...</td>\n",
       "      <td>al</td>\n",
       "      <td>32.59</td>\n",
       "      <td>-85.48</td>\n",
       "      <td>2021-05-04 10:41:31-05:00</td>\n",
       "    </tr>\n",
       "    <tr>\n",
       "      <th>4</th>\n",
       "      <td>7316356412</td>\n",
       "      <td>https://auburn.craigslist.org/cto/d/auburn-uni...</td>\n",
       "      <td>auburn</td>\n",
       "      <td>https://auburn.craigslist.org</td>\n",
       "      <td>15000</td>\n",
       "      <td>2013.0</td>\n",
       "      <td>ford</td>\n",
       "      <td>f-150 xlt</td>\n",
       "      <td>excellent</td>\n",
       "      <td>6 cylinders</td>\n",
       "      <td>...</td>\n",
       "      <td>rwd</td>\n",
       "      <td>full-size</td>\n",
       "      <td>truck</td>\n",
       "      <td>black</td>\n",
       "      <td>https://images.craigslist.org/00404_l4loxHvdQe...</td>\n",
       "      <td>2013 F-150 XLT V6 4 Door. Good condition. Leve...</td>\n",
       "      <td>al</td>\n",
       "      <td>32.592</td>\n",
       "      <td>-85.5189</td>\n",
       "      <td>2021-05-03 14:02:03-05:00</td>\n",
       "    </tr>\n",
       "    <tr>\n",
       "      <th>5</th>\n",
       "      <td>7316343444</td>\n",
       "      <td>https://auburn.craigslist.org/ctd/d/auburn-uni...</td>\n",
       "      <td>auburn</td>\n",
       "      <td>https://auburn.craigslist.org</td>\n",
       "      <td>27990</td>\n",
       "      <td>2012.0</td>\n",
       "      <td>gmc</td>\n",
       "      <td>sierra 2500 hd extended cab</td>\n",
       "      <td>good</td>\n",
       "      <td>8 cylinders</td>\n",
       "      <td>...</td>\n",
       "      <td>4wd</td>\n",
       "      <td>unknown</td>\n",
       "      <td>pickup</td>\n",
       "      <td>black</td>\n",
       "      <td>https://images.craigslist.org/00V0V_ftJbKrOgdi...</td>\n",
       "      <td>Carvana is the safer way to buy a car During t...</td>\n",
       "      <td>al</td>\n",
       "      <td>32.59</td>\n",
       "      <td>-85.48</td>\n",
       "      <td>2021-05-03 13:41:25-05:00</td>\n",
       "    </tr>\n",
       "    <tr>\n",
       "      <th>6</th>\n",
       "      <td>7316304717</td>\n",
       "      <td>https://auburn.craigslist.org/ctd/d/auburn-uni...</td>\n",
       "      <td>auburn</td>\n",
       "      <td>https://auburn.craigslist.org</td>\n",
       "      <td>34590</td>\n",
       "      <td>2016.0</td>\n",
       "      <td>chevrolet</td>\n",
       "      <td>silverado 1500 double</td>\n",
       "      <td>good</td>\n",
       "      <td>6 cylinders</td>\n",
       "      <td>...</td>\n",
       "      <td>4wd</td>\n",
       "      <td>unknown</td>\n",
       "      <td>pickup</td>\n",
       "      <td>silver</td>\n",
       "      <td>https://images.craigslist.org/00E0E_iKN07Sh7ou...</td>\n",
       "      <td>Carvana is the safer way to buy a car During t...</td>\n",
       "      <td>al</td>\n",
       "      <td>32.59</td>\n",
       "      <td>-85.48</td>\n",
       "      <td>2021-05-03 12:41:33-05:00</td>\n",
       "    </tr>\n",
       "    <tr>\n",
       "      <th>7</th>\n",
       "      <td>7316285779</td>\n",
       "      <td>https://auburn.craigslist.org/cto/d/auburn-201...</td>\n",
       "      <td>auburn</td>\n",
       "      <td>https://auburn.craigslist.org</td>\n",
       "      <td>35000</td>\n",
       "      <td>2019.0</td>\n",
       "      <td>toyota</td>\n",
       "      <td>tacoma</td>\n",
       "      <td>excellent</td>\n",
       "      <td>6 cylinders</td>\n",
       "      <td>...</td>\n",
       "      <td>4wd</td>\n",
       "      <td>unknown</td>\n",
       "      <td>truck</td>\n",
       "      <td>grey</td>\n",
       "      <td>https://images.craigslist.org/00101_dXoZTH7iVm...</td>\n",
       "      <td>Selling my 2019 Toyota Tacoma TRD Off Road Dou...</td>\n",
       "      <td>al</td>\n",
       "      <td>32.6013</td>\n",
       "      <td>-85.443974</td>\n",
       "      <td>2021-05-03 12:12:59-05:00</td>\n",
       "    </tr>\n",
       "    <tr>\n",
       "      <th>8</th>\n",
       "      <td>7316257769</td>\n",
       "      <td>https://auburn.craigslist.org/ctd/d/auburn-uni...</td>\n",
       "      <td>auburn</td>\n",
       "      <td>https://auburn.craigslist.org</td>\n",
       "      <td>29990</td>\n",
       "      <td>2016.0</td>\n",
       "      <td>chevrolet</td>\n",
       "      <td>colorado extended cab</td>\n",
       "      <td>good</td>\n",
       "      <td>6 cylinders</td>\n",
       "      <td>...</td>\n",
       "      <td>4wd</td>\n",
       "      <td>unknown</td>\n",
       "      <td>pickup</td>\n",
       "      <td>red</td>\n",
       "      <td>https://images.craigslist.org/00N0N_1xMPvfxRAI...</td>\n",
       "      <td>Carvana is the safer way to buy a car During t...</td>\n",
       "      <td>al</td>\n",
       "      <td>32.59</td>\n",
       "      <td>-85.48</td>\n",
       "      <td>2021-05-03 11:31:14-05:00</td>\n",
       "    </tr>\n",
       "    <tr>\n",
       "      <th>9</th>\n",
       "      <td>7316133914</td>\n",
       "      <td>https://auburn.craigslist.org/ctd/d/auburn-uni...</td>\n",
       "      <td>auburn</td>\n",
       "      <td>https://auburn.craigslist.org</td>\n",
       "      <td>38590</td>\n",
       "      <td>2011.0</td>\n",
       "      <td>chevrolet</td>\n",
       "      <td>corvette grand sport</td>\n",
       "      <td>good</td>\n",
       "      <td>8 cylinders</td>\n",
       "      <td>...</td>\n",
       "      <td>rwd</td>\n",
       "      <td>unknown</td>\n",
       "      <td>other</td>\n",
       "      <td>red</td>\n",
       "      <td>https://images.craigslist.org/00U0U_kKYnS1LWh8...</td>\n",
       "      <td>Carvana is the safer way to buy a car During t...</td>\n",
       "      <td>al</td>\n",
       "      <td>32.59</td>\n",
       "      <td>-85.48</td>\n",
       "      <td>2021-05-03 07:50:35-05:00</td>\n",
       "    </tr>\n",
       "  </tbody>\n",
       "</table>\n",
       "<p>10 rows × 25 columns</p>\n",
       "</div>"
      ],
      "text/plain": [
       "           id                                                url  region  \\\n",
       "0  7316814884  https://auburn.craigslist.org/ctd/d/auburn-uni...  auburn   \n",
       "1  7316814758  https://auburn.craigslist.org/ctd/d/auburn-uni...  auburn   \n",
       "2  7316814989  https://auburn.craigslist.org/ctd/d/auburn-uni...  auburn   \n",
       "3  7316743432  https://auburn.craigslist.org/ctd/d/auburn-uni...  auburn   \n",
       "4  7316356412  https://auburn.craigslist.org/cto/d/auburn-uni...  auburn   \n",
       "5  7316343444  https://auburn.craigslist.org/ctd/d/auburn-uni...  auburn   \n",
       "6  7316304717  https://auburn.craigslist.org/ctd/d/auburn-uni...  auburn   \n",
       "7  7316285779  https://auburn.craigslist.org/cto/d/auburn-201...  auburn   \n",
       "8  7316257769  https://auburn.craigslist.org/ctd/d/auburn-uni...  auburn   \n",
       "9  7316133914  https://auburn.craigslist.org/ctd/d/auburn-uni...  auburn   \n",
       "\n",
       "                      region_url  price    year manufacturer  \\\n",
       "0  https://auburn.craigslist.org  33590  2014.0          gmc   \n",
       "1  https://auburn.craigslist.org  22590  2010.0    chevrolet   \n",
       "2  https://auburn.craigslist.org  39590  2020.0    chevrolet   \n",
       "3  https://auburn.craigslist.org  30990  2017.0       toyota   \n",
       "4  https://auburn.craigslist.org  15000  2013.0         ford   \n",
       "5  https://auburn.craigslist.org  27990  2012.0          gmc   \n",
       "6  https://auburn.craigslist.org  34590  2016.0    chevrolet   \n",
       "7  https://auburn.craigslist.org  35000  2019.0       toyota   \n",
       "8  https://auburn.craigslist.org  29990  2016.0    chevrolet   \n",
       "9  https://auburn.craigslist.org  38590  2011.0    chevrolet   \n",
       "\n",
       "                         model  condition    cylinders  ...    drive  \\\n",
       "0     sierra 1500 crew cab slt       good  8 cylinders  ...  unknown   \n",
       "1               silverado 1500       good  8 cylinders  ...  unknown   \n",
       "2          silverado 1500 crew       good  8 cylinders  ...  unknown   \n",
       "3         tundra double cab sr       good  8 cylinders  ...  unknown   \n",
       "4                    f-150 xlt  excellent  6 cylinders  ...      rwd   \n",
       "5  sierra 2500 hd extended cab       good  8 cylinders  ...      4wd   \n",
       "6        silverado 1500 double       good  6 cylinders  ...      4wd   \n",
       "7                       tacoma  excellent  6 cylinders  ...      4wd   \n",
       "8        colorado extended cab       good  6 cylinders  ...      4wd   \n",
       "9         corvette grand sport       good  8 cylinders  ...      rwd   \n",
       "\n",
       "        size    type paint_color  \\\n",
       "0    unknown  pickup       white   \n",
       "1    unknown  pickup        blue   \n",
       "2    unknown  pickup         red   \n",
       "3    unknown  pickup         red   \n",
       "4  full-size   truck       black   \n",
       "5    unknown  pickup       black   \n",
       "6    unknown  pickup      silver   \n",
       "7    unknown   truck        grey   \n",
       "8    unknown  pickup         red   \n",
       "9    unknown   other         red   \n",
       "\n",
       "                                           image_url  \\\n",
       "0  https://images.craigslist.org/00R0R_lwWjXSEWNa...   \n",
       "1  https://images.craigslist.org/00R0R_lwWjXSEWNa...   \n",
       "2  https://images.craigslist.org/01212_jjirIWa0y0...   \n",
       "3  https://images.craigslist.org/00x0x_1y9kIOzGCF...   \n",
       "4  https://images.craigslist.org/00404_l4loxHvdQe...   \n",
       "5  https://images.craigslist.org/00V0V_ftJbKrOgdi...   \n",
       "6  https://images.craigslist.org/00E0E_iKN07Sh7ou...   \n",
       "7  https://images.craigslist.org/00101_dXoZTH7iVm...   \n",
       "8  https://images.craigslist.org/00N0N_1xMPvfxRAI...   \n",
       "9  https://images.craigslist.org/00U0U_kKYnS1LWh8...   \n",
       "\n",
       "                                         description state      lat  \\\n",
       "0  Carvana is the safer way to buy a car During t...    al    32.59   \n",
       "1  Carvana is the safer way to buy a car During t...    al    32.59   \n",
       "2  Carvana is the safer way to buy a car During t...    al    32.59   \n",
       "3  Carvana is the safer way to buy a car During t...    al    32.59   \n",
       "4  2013 F-150 XLT V6 4 Door. Good condition. Leve...    al   32.592   \n",
       "5  Carvana is the safer way to buy a car During t...    al    32.59   \n",
       "6  Carvana is the safer way to buy a car During t...    al    32.59   \n",
       "7  Selling my 2019 Toyota Tacoma TRD Off Road Dou...    al  32.6013   \n",
       "8  Carvana is the safer way to buy a car During t...    al    32.59   \n",
       "9  Carvana is the safer way to buy a car During t...    al    32.59   \n",
       "\n",
       "         long               posting_date  \n",
       "0      -85.48  2021-05-04 12:31:18-05:00  \n",
       "1      -85.48  2021-05-04 12:31:08-05:00  \n",
       "2      -85.48  2021-05-04 12:31:25-05:00  \n",
       "3      -85.48  2021-05-04 10:41:31-05:00  \n",
       "4    -85.5189  2021-05-03 14:02:03-05:00  \n",
       "5      -85.48  2021-05-03 13:41:25-05:00  \n",
       "6      -85.48  2021-05-03 12:41:33-05:00  \n",
       "7  -85.443974  2021-05-03 12:12:59-05:00  \n",
       "8      -85.48  2021-05-03 11:31:14-05:00  \n",
       "9      -85.48  2021-05-03 07:50:35-05:00  \n",
       "\n",
       "[10 rows x 25 columns]"
      ]
     },
     "execution_count": 3,
     "metadata": {},
     "output_type": "execute_result"
    }
   ],
   "source": [
    "UsedVehicle.head(10)"
   ]
  },
  {
   "cell_type": "code",
   "execution_count": 4,
   "id": "e00141a0",
   "metadata": {},
   "outputs": [
    {
     "name": "stdout",
     "output_type": "stream",
     "text": [
      "<class 'pandas.core.frame.DataFrame'>\n",
      "RangeIndex: 416149 entries, 0 to 416148\n",
      "Data columns (total 25 columns):\n",
      " #   Column        Non-Null Count   Dtype  \n",
      "---  ------        --------------   -----  \n",
      " 0   id            416149 non-null  int64  \n",
      " 1   url           416149 non-null  object \n",
      " 2   region        416149 non-null  object \n",
      " 3   region_url    416149 non-null  object \n",
      " 4   price         416149 non-null  int64  \n",
      " 5   year          416149 non-null  float64\n",
      " 6   manufacturer  416149 non-null  object \n",
      " 7   model         416149 non-null  object \n",
      " 8   condition     416149 non-null  object \n",
      " 9   cylinders     416149 non-null  object \n",
      " 10  fuel          416149 non-null  object \n",
      " 11  odometer      416149 non-null  float64\n",
      " 12  title_status  416149 non-null  object \n",
      " 13  transmission  416149 non-null  object \n",
      " 14  VIN           416149 non-null  object \n",
      " 15  drive         416149 non-null  object \n",
      " 16  size          416149 non-null  object \n",
      " 17  type          416149 non-null  object \n",
      " 18  paint_color   416149 non-null  object \n",
      " 19  image_url     416149 non-null  object \n",
      " 20  description   416149 non-null  object \n",
      " 21  state         416149 non-null  object \n",
      " 22  lat           416149 non-null  object \n",
      " 23  long          416149 non-null  object \n",
      " 24  posting_date  416149 non-null  object \n",
      "dtypes: float64(2), int64(2), object(21)\n",
      "memory usage: 79.4+ MB\n"
     ]
    }
   ],
   "source": [
    "#Task 1.2\n",
    "\n",
    "UsedVehicle.info()"
   ]
  },
  {
   "cell_type": "markdown",
   "id": "ccb26988",
   "metadata": {},
   "source": [
    "The 3 column that I think are useless are \n",
    "    id\n",
    "    url\n",
    "    region_url\n",
    "    image_url\n",
    "    \n",
    "    \n",
    "    "
   ]
  },
  {
   "cell_type": "code",
   "execution_count": 5,
   "id": "72c9c6b2",
   "metadata": {},
   "outputs": [],
   "source": [
    "#Task 1.3\n",
    "UsedVehicle.drop(['id','url','region_url','image_url'],axis =1,inplace =True)"
   ]
  },
  {
   "cell_type": "code",
   "execution_count": 6,
   "id": "ccc64e36",
   "metadata": {},
   "outputs": [
    {
     "data": {
      "text/html": [
       "<div>\n",
       "<style scoped>\n",
       "    .dataframe tbody tr th:only-of-type {\n",
       "        vertical-align: middle;\n",
       "    }\n",
       "\n",
       "    .dataframe tbody tr th {\n",
       "        vertical-align: top;\n",
       "    }\n",
       "\n",
       "    .dataframe thead th {\n",
       "        text-align: right;\n",
       "    }\n",
       "</style>\n",
       "<table border=\"1\" class=\"dataframe\">\n",
       "  <thead>\n",
       "    <tr style=\"text-align: right;\">\n",
       "      <th></th>\n",
       "      <th>region</th>\n",
       "      <th>price</th>\n",
       "      <th>year</th>\n",
       "      <th>manufacturer</th>\n",
       "      <th>model</th>\n",
       "      <th>condition</th>\n",
       "      <th>cylinders</th>\n",
       "      <th>fuel</th>\n",
       "      <th>odometer</th>\n",
       "      <th>title_status</th>\n",
       "      <th>...</th>\n",
       "      <th>VIN</th>\n",
       "      <th>drive</th>\n",
       "      <th>size</th>\n",
       "      <th>type</th>\n",
       "      <th>paint_color</th>\n",
       "      <th>description</th>\n",
       "      <th>state</th>\n",
       "      <th>lat</th>\n",
       "      <th>long</th>\n",
       "      <th>posting_date</th>\n",
       "    </tr>\n",
       "  </thead>\n",
       "  <tbody>\n",
       "    <tr>\n",
       "      <th>0</th>\n",
       "      <td>auburn</td>\n",
       "      <td>33590</td>\n",
       "      <td>2014.0</td>\n",
       "      <td>gmc</td>\n",
       "      <td>sierra 1500 crew cab slt</td>\n",
       "      <td>good</td>\n",
       "      <td>8 cylinders</td>\n",
       "      <td>gas</td>\n",
       "      <td>57923.0</td>\n",
       "      <td>clean</td>\n",
       "      <td>...</td>\n",
       "      <td>3GTP1VEC4EG551563</td>\n",
       "      <td>unknown</td>\n",
       "      <td>unknown</td>\n",
       "      <td>pickup</td>\n",
       "      <td>white</td>\n",
       "      <td>Carvana is the safer way to buy a car During t...</td>\n",
       "      <td>al</td>\n",
       "      <td>32.59</td>\n",
       "      <td>-85.48</td>\n",
       "      <td>2021-05-04 12:31:18-05:00</td>\n",
       "    </tr>\n",
       "    <tr>\n",
       "      <th>1</th>\n",
       "      <td>auburn</td>\n",
       "      <td>22590</td>\n",
       "      <td>2010.0</td>\n",
       "      <td>chevrolet</td>\n",
       "      <td>silverado 1500</td>\n",
       "      <td>good</td>\n",
       "      <td>8 cylinders</td>\n",
       "      <td>gas</td>\n",
       "      <td>71229.0</td>\n",
       "      <td>clean</td>\n",
       "      <td>...</td>\n",
       "      <td>1GCSCSE06AZ123805</td>\n",
       "      <td>unknown</td>\n",
       "      <td>unknown</td>\n",
       "      <td>pickup</td>\n",
       "      <td>blue</td>\n",
       "      <td>Carvana is the safer way to buy a car During t...</td>\n",
       "      <td>al</td>\n",
       "      <td>32.59</td>\n",
       "      <td>-85.48</td>\n",
       "      <td>2021-05-04 12:31:08-05:00</td>\n",
       "    </tr>\n",
       "    <tr>\n",
       "      <th>2</th>\n",
       "      <td>auburn</td>\n",
       "      <td>39590</td>\n",
       "      <td>2020.0</td>\n",
       "      <td>chevrolet</td>\n",
       "      <td>silverado 1500 crew</td>\n",
       "      <td>good</td>\n",
       "      <td>8 cylinders</td>\n",
       "      <td>gas</td>\n",
       "      <td>19160.0</td>\n",
       "      <td>clean</td>\n",
       "      <td>...</td>\n",
       "      <td>3GCPWCED5LG130317</td>\n",
       "      <td>unknown</td>\n",
       "      <td>unknown</td>\n",
       "      <td>pickup</td>\n",
       "      <td>red</td>\n",
       "      <td>Carvana is the safer way to buy a car During t...</td>\n",
       "      <td>al</td>\n",
       "      <td>32.59</td>\n",
       "      <td>-85.48</td>\n",
       "      <td>2021-05-04 12:31:25-05:00</td>\n",
       "    </tr>\n",
       "    <tr>\n",
       "      <th>3</th>\n",
       "      <td>auburn</td>\n",
       "      <td>30990</td>\n",
       "      <td>2017.0</td>\n",
       "      <td>toyota</td>\n",
       "      <td>tundra double cab sr</td>\n",
       "      <td>good</td>\n",
       "      <td>8 cylinders</td>\n",
       "      <td>gas</td>\n",
       "      <td>41124.0</td>\n",
       "      <td>clean</td>\n",
       "      <td>...</td>\n",
       "      <td>5TFRM5F17HX120972</td>\n",
       "      <td>unknown</td>\n",
       "      <td>unknown</td>\n",
       "      <td>pickup</td>\n",
       "      <td>red</td>\n",
       "      <td>Carvana is the safer way to buy a car During t...</td>\n",
       "      <td>al</td>\n",
       "      <td>32.59</td>\n",
       "      <td>-85.48</td>\n",
       "      <td>2021-05-04 10:41:31-05:00</td>\n",
       "    </tr>\n",
       "    <tr>\n",
       "      <th>4</th>\n",
       "      <td>auburn</td>\n",
       "      <td>15000</td>\n",
       "      <td>2013.0</td>\n",
       "      <td>ford</td>\n",
       "      <td>f-150 xlt</td>\n",
       "      <td>excellent</td>\n",
       "      <td>6 cylinders</td>\n",
       "      <td>gas</td>\n",
       "      <td>128000.0</td>\n",
       "      <td>clean</td>\n",
       "      <td>...</td>\n",
       "      <td>blank</td>\n",
       "      <td>rwd</td>\n",
       "      <td>full-size</td>\n",
       "      <td>truck</td>\n",
       "      <td>black</td>\n",
       "      <td>2013 F-150 XLT V6 4 Door. Good condition. Leve...</td>\n",
       "      <td>al</td>\n",
       "      <td>32.592</td>\n",
       "      <td>-85.5189</td>\n",
       "      <td>2021-05-03 14:02:03-05:00</td>\n",
       "    </tr>\n",
       "    <tr>\n",
       "      <th>5</th>\n",
       "      <td>auburn</td>\n",
       "      <td>27990</td>\n",
       "      <td>2012.0</td>\n",
       "      <td>gmc</td>\n",
       "      <td>sierra 2500 hd extended cab</td>\n",
       "      <td>good</td>\n",
       "      <td>8 cylinders</td>\n",
       "      <td>gas</td>\n",
       "      <td>68696.0</td>\n",
       "      <td>clean</td>\n",
       "      <td>...</td>\n",
       "      <td>1GT220CG8CZ231238</td>\n",
       "      <td>4wd</td>\n",
       "      <td>unknown</td>\n",
       "      <td>pickup</td>\n",
       "      <td>black</td>\n",
       "      <td>Carvana is the safer way to buy a car During t...</td>\n",
       "      <td>al</td>\n",
       "      <td>32.59</td>\n",
       "      <td>-85.48</td>\n",
       "      <td>2021-05-03 13:41:25-05:00</td>\n",
       "    </tr>\n",
       "    <tr>\n",
       "      <th>6</th>\n",
       "      <td>auburn</td>\n",
       "      <td>34590</td>\n",
       "      <td>2016.0</td>\n",
       "      <td>chevrolet</td>\n",
       "      <td>silverado 1500 double</td>\n",
       "      <td>good</td>\n",
       "      <td>6 cylinders</td>\n",
       "      <td>gas</td>\n",
       "      <td>29499.0</td>\n",
       "      <td>clean</td>\n",
       "      <td>...</td>\n",
       "      <td>1GCVKREH6GZ228691</td>\n",
       "      <td>4wd</td>\n",
       "      <td>unknown</td>\n",
       "      <td>pickup</td>\n",
       "      <td>silver</td>\n",
       "      <td>Carvana is the safer way to buy a car During t...</td>\n",
       "      <td>al</td>\n",
       "      <td>32.59</td>\n",
       "      <td>-85.48</td>\n",
       "      <td>2021-05-03 12:41:33-05:00</td>\n",
       "    </tr>\n",
       "    <tr>\n",
       "      <th>7</th>\n",
       "      <td>auburn</td>\n",
       "      <td>35000</td>\n",
       "      <td>2019.0</td>\n",
       "      <td>toyota</td>\n",
       "      <td>tacoma</td>\n",
       "      <td>excellent</td>\n",
       "      <td>6 cylinders</td>\n",
       "      <td>gas</td>\n",
       "      <td>43000.0</td>\n",
       "      <td>clean</td>\n",
       "      <td>...</td>\n",
       "      <td>blank</td>\n",
       "      <td>4wd</td>\n",
       "      <td>unknown</td>\n",
       "      <td>truck</td>\n",
       "      <td>grey</td>\n",
       "      <td>Selling my 2019 Toyota Tacoma TRD Off Road Dou...</td>\n",
       "      <td>al</td>\n",
       "      <td>32.6013</td>\n",
       "      <td>-85.443974</td>\n",
       "      <td>2021-05-03 12:12:59-05:00</td>\n",
       "    </tr>\n",
       "    <tr>\n",
       "      <th>8</th>\n",
       "      <td>auburn</td>\n",
       "      <td>29990</td>\n",
       "      <td>2016.0</td>\n",
       "      <td>chevrolet</td>\n",
       "      <td>colorado extended cab</td>\n",
       "      <td>good</td>\n",
       "      <td>6 cylinders</td>\n",
       "      <td>gas</td>\n",
       "      <td>17302.0</td>\n",
       "      <td>clean</td>\n",
       "      <td>...</td>\n",
       "      <td>1GCHTCE37G1186784</td>\n",
       "      <td>4wd</td>\n",
       "      <td>unknown</td>\n",
       "      <td>pickup</td>\n",
       "      <td>red</td>\n",
       "      <td>Carvana is the safer way to buy a car During t...</td>\n",
       "      <td>al</td>\n",
       "      <td>32.59</td>\n",
       "      <td>-85.48</td>\n",
       "      <td>2021-05-03 11:31:14-05:00</td>\n",
       "    </tr>\n",
       "    <tr>\n",
       "      <th>9</th>\n",
       "      <td>auburn</td>\n",
       "      <td>38590</td>\n",
       "      <td>2011.0</td>\n",
       "      <td>chevrolet</td>\n",
       "      <td>corvette grand sport</td>\n",
       "      <td>good</td>\n",
       "      <td>8 cylinders</td>\n",
       "      <td>gas</td>\n",
       "      <td>30237.0</td>\n",
       "      <td>clean</td>\n",
       "      <td>...</td>\n",
       "      <td>1G1YR3DW3B5102190</td>\n",
       "      <td>rwd</td>\n",
       "      <td>unknown</td>\n",
       "      <td>other</td>\n",
       "      <td>red</td>\n",
       "      <td>Carvana is the safer way to buy a car During t...</td>\n",
       "      <td>al</td>\n",
       "      <td>32.59</td>\n",
       "      <td>-85.48</td>\n",
       "      <td>2021-05-03 07:50:35-05:00</td>\n",
       "    </tr>\n",
       "  </tbody>\n",
       "</table>\n",
       "<p>10 rows × 21 columns</p>\n",
       "</div>"
      ],
      "text/plain": [
       "   region  price    year manufacturer                        model  condition  \\\n",
       "0  auburn  33590  2014.0          gmc     sierra 1500 crew cab slt       good   \n",
       "1  auburn  22590  2010.0    chevrolet               silverado 1500       good   \n",
       "2  auburn  39590  2020.0    chevrolet          silverado 1500 crew       good   \n",
       "3  auburn  30990  2017.0       toyota         tundra double cab sr       good   \n",
       "4  auburn  15000  2013.0         ford                    f-150 xlt  excellent   \n",
       "5  auburn  27990  2012.0          gmc  sierra 2500 hd extended cab       good   \n",
       "6  auburn  34590  2016.0    chevrolet        silverado 1500 double       good   \n",
       "7  auburn  35000  2019.0       toyota                       tacoma  excellent   \n",
       "8  auburn  29990  2016.0    chevrolet        colorado extended cab       good   \n",
       "9  auburn  38590  2011.0    chevrolet         corvette grand sport       good   \n",
       "\n",
       "     cylinders fuel  odometer title_status  ...                VIN    drive  \\\n",
       "0  8 cylinders  gas   57923.0        clean  ...  3GTP1VEC4EG551563  unknown   \n",
       "1  8 cylinders  gas   71229.0        clean  ...  1GCSCSE06AZ123805  unknown   \n",
       "2  8 cylinders  gas   19160.0        clean  ...  3GCPWCED5LG130317  unknown   \n",
       "3  8 cylinders  gas   41124.0        clean  ...  5TFRM5F17HX120972  unknown   \n",
       "4  6 cylinders  gas  128000.0        clean  ...              blank      rwd   \n",
       "5  8 cylinders  gas   68696.0        clean  ...  1GT220CG8CZ231238      4wd   \n",
       "6  6 cylinders  gas   29499.0        clean  ...  1GCVKREH6GZ228691      4wd   \n",
       "7  6 cylinders  gas   43000.0        clean  ...              blank      4wd   \n",
       "8  6 cylinders  gas   17302.0        clean  ...  1GCHTCE37G1186784      4wd   \n",
       "9  8 cylinders  gas   30237.0        clean  ...  1G1YR3DW3B5102190      rwd   \n",
       "\n",
       "        size    type paint_color  \\\n",
       "0    unknown  pickup       white   \n",
       "1    unknown  pickup        blue   \n",
       "2    unknown  pickup         red   \n",
       "3    unknown  pickup         red   \n",
       "4  full-size   truck       black   \n",
       "5    unknown  pickup       black   \n",
       "6    unknown  pickup      silver   \n",
       "7    unknown   truck        grey   \n",
       "8    unknown  pickup         red   \n",
       "9    unknown   other         red   \n",
       "\n",
       "                                         description state      lat  \\\n",
       "0  Carvana is the safer way to buy a car During t...    al    32.59   \n",
       "1  Carvana is the safer way to buy a car During t...    al    32.59   \n",
       "2  Carvana is the safer way to buy a car During t...    al    32.59   \n",
       "3  Carvana is the safer way to buy a car During t...    al    32.59   \n",
       "4  2013 F-150 XLT V6 4 Door. Good condition. Leve...    al   32.592   \n",
       "5  Carvana is the safer way to buy a car During t...    al    32.59   \n",
       "6  Carvana is the safer way to buy a car During t...    al    32.59   \n",
       "7  Selling my 2019 Toyota Tacoma TRD Off Road Dou...    al  32.6013   \n",
       "8  Carvana is the safer way to buy a car During t...    al    32.59   \n",
       "9  Carvana is the safer way to buy a car During t...    al    32.59   \n",
       "\n",
       "         long               posting_date  \n",
       "0      -85.48  2021-05-04 12:31:18-05:00  \n",
       "1      -85.48  2021-05-04 12:31:08-05:00  \n",
       "2      -85.48  2021-05-04 12:31:25-05:00  \n",
       "3      -85.48  2021-05-04 10:41:31-05:00  \n",
       "4    -85.5189  2021-05-03 14:02:03-05:00  \n",
       "5      -85.48  2021-05-03 13:41:25-05:00  \n",
       "6      -85.48  2021-05-03 12:41:33-05:00  \n",
       "7  -85.443974  2021-05-03 12:12:59-05:00  \n",
       "8      -85.48  2021-05-03 11:31:14-05:00  \n",
       "9      -85.48  2021-05-03 07:50:35-05:00  \n",
       "\n",
       "[10 rows x 21 columns]"
      ]
     },
     "execution_count": 6,
     "metadata": {},
     "output_type": "execute_result"
    }
   ],
   "source": [
    "#Task 1.4\n",
    "UsedVehicle.head(10)"
   ]
  },
  {
   "cell_type": "code",
   "execution_count": 7,
   "id": "1bacbbd4",
   "metadata": {},
   "outputs": [
    {
     "name": "stdout",
     "output_type": "stream",
     "text": [
      "<class 'pandas.core.frame.DataFrame'>\n",
      "RangeIndex: 416149 entries, 0 to 416148\n",
      "Data columns (total 21 columns):\n",
      " #   Column        Non-Null Count   Dtype  \n",
      "---  ------        --------------   -----  \n",
      " 0   region        416149 non-null  object \n",
      " 1   price         416149 non-null  int64  \n",
      " 2   year          416149 non-null  float64\n",
      " 3   manufacturer  416149 non-null  object \n",
      " 4   model         416149 non-null  object \n",
      " 5   condition     416149 non-null  object \n",
      " 6   cylinders     416149 non-null  object \n",
      " 7   fuel          416149 non-null  object \n",
      " 8   odometer      416149 non-null  float64\n",
      " 9   title_status  416149 non-null  object \n",
      " 10  transmission  416149 non-null  object \n",
      " 11  VIN           416149 non-null  object \n",
      " 12  drive         416149 non-null  object \n",
      " 13  size          416149 non-null  object \n",
      " 14  type          416149 non-null  object \n",
      " 15  paint_color   416149 non-null  object \n",
      " 16  description   416149 non-null  object \n",
      " 17  state         416149 non-null  object \n",
      " 18  lat           416149 non-null  object \n",
      " 19  long          416149 non-null  object \n",
      " 20  posting_date  416149 non-null  object \n",
      "dtypes: float64(2), int64(1), object(18)\n",
      "memory usage: 66.7+ MB\n"
     ]
    }
   ],
   "source": [
    "#Task 1.5\n",
    "UsedVehicle.info()"
   ]
  },
  {
   "cell_type": "code",
   "execution_count": 8,
   "id": "44fcf116",
   "metadata": {},
   "outputs": [
    {
     "data": {
      "text/html": [
       "<div>\n",
       "<style scoped>\n",
       "    .dataframe tbody tr th:only-of-type {\n",
       "        vertical-align: middle;\n",
       "    }\n",
       "\n",
       "    .dataframe tbody tr th {\n",
       "        vertical-align: top;\n",
       "    }\n",
       "\n",
       "    .dataframe thead th {\n",
       "        text-align: right;\n",
       "    }\n",
       "</style>\n",
       "<table border=\"1\" class=\"dataframe\">\n",
       "  <thead>\n",
       "    <tr style=\"text-align: right;\">\n",
       "      <th></th>\n",
       "      <th>price</th>\n",
       "      <th>year</th>\n",
       "      <th>odometer</th>\n",
       "    </tr>\n",
       "  </thead>\n",
       "  <tbody>\n",
       "    <tr>\n",
       "      <th>count</th>\n",
       "      <td>4.161490e+05</td>\n",
       "      <td>416149.000000</td>\n",
       "      <td>4.161490e+05</td>\n",
       "    </tr>\n",
       "    <tr>\n",
       "      <th>mean</th>\n",
       "      <td>6.158955e+04</td>\n",
       "      <td>2011.365749</td>\n",
       "      <td>9.766435e+04</td>\n",
       "    </tr>\n",
       "    <tr>\n",
       "      <th>std</th>\n",
       "      <td>1.108080e+07</td>\n",
       "      <td>9.140825</td>\n",
       "      <td>2.046903e+05</td>\n",
       "    </tr>\n",
       "    <tr>\n",
       "      <th>min</th>\n",
       "      <td>0.000000e+00</td>\n",
       "      <td>1900.000000</td>\n",
       "      <td>0.000000e+00</td>\n",
       "    </tr>\n",
       "    <tr>\n",
       "      <th>25%</th>\n",
       "      <td>5.995000e+03</td>\n",
       "      <td>2008.000000</td>\n",
       "      <td>3.800000e+04</td>\n",
       "    </tr>\n",
       "    <tr>\n",
       "      <th>50%</th>\n",
       "      <td>1.399100e+04</td>\n",
       "      <td>2014.000000</td>\n",
       "      <td>8.568200e+04</td>\n",
       "    </tr>\n",
       "    <tr>\n",
       "      <th>75%</th>\n",
       "      <td>2.650000e+04</td>\n",
       "      <td>2017.000000</td>\n",
       "      <td>1.335030e+05</td>\n",
       "    </tr>\n",
       "    <tr>\n",
       "      <th>max</th>\n",
       "      <td>3.736929e+09</td>\n",
       "      <td>2022.000000</td>\n",
       "      <td>1.000000e+07</td>\n",
       "    </tr>\n",
       "  </tbody>\n",
       "</table>\n",
       "</div>"
      ],
      "text/plain": [
       "              price           year      odometer\n",
       "count  4.161490e+05  416149.000000  4.161490e+05\n",
       "mean   6.158955e+04    2011.365749  9.766435e+04\n",
       "std    1.108080e+07       9.140825  2.046903e+05\n",
       "min    0.000000e+00    1900.000000  0.000000e+00\n",
       "25%    5.995000e+03    2008.000000  3.800000e+04\n",
       "50%    1.399100e+04    2014.000000  8.568200e+04\n",
       "75%    2.650000e+04    2017.000000  1.335030e+05\n",
       "max    3.736929e+09    2022.000000  1.000000e+07"
      ]
     },
     "execution_count": 8,
     "metadata": {},
     "output_type": "execute_result"
    }
   ],
   "source": [
    "#Task 1.6\n",
    "UsedVehicle.describe()"
   ]
  },
  {
   "cell_type": "code",
   "execution_count": 9,
   "id": "18069b01",
   "metadata": {},
   "outputs": [
    {
     "data": {
      "text/plain": [
       "array([ 5995., 13991., 26500.])"
      ]
     },
     "execution_count": 9,
     "metadata": {},
     "output_type": "execute_result"
    }
   ],
   "source": [
    "#Task 2.0\n",
    "#take a look what is 25%, 50% and 75% of credit of loan\n",
    "# median loan 5995, 13991, 26500\n",
    "np.percentile(UsedVehicle['price'],[25,50,75])"
   ]
  },
  {
   "cell_type": "markdown",
   "id": "fcba47db",
   "metadata": {},
   "source": []
  },
  {
   "cell_type": "code",
   "execution_count": 10,
   "id": "03f7f12d",
   "metadata": {},
   "outputs": [
    {
     "data": {
      "text/plain": [
       "array(['auburn', 'birmingham', 'dothan', 'florence / muscle shoals',\n",
       "       'gadsden-anniston', 'huntsville / decatur', 'mobile', 'montgomery',\n",
       "       'tuscaloosa', 'anchorage / mat-su', 'fairbanks', 'kenai peninsula',\n",
       "       'southeast alaska', 'flagstaff / sedona', 'mohave county',\n",
       "       'phoenix', 'prescott', 'show low', 'sierra vista', 'tucson',\n",
       "       'yuma', 'fayetteville', 'fort smith', 'jonesboro', 'little rock',\n",
       "       'texarkana', 'bakersfield', 'chico', 'fresno / madera',\n",
       "       'gold country', 'hanford-corcoran', 'humboldt county',\n",
       "       'imperial county', 'inland empire', 'los angeles',\n",
       "       'mendocino county', 'merced', 'modesto', 'monterey bay',\n",
       "       'orange county', 'palm springs', 'redding', 'reno / tahoe',\n",
       "       'sacramento', 'san diego', 'san luis obispo', 'santa barbara',\n",
       "       'santa maria', 'SF bay area', 'siskiyou county', 'stockton',\n",
       "       'susanville', 'ventura county', 'visalia-tulare', 'yuba-sutter',\n",
       "       'boulder', 'colorado springs', 'denver', 'eastern CO',\n",
       "       'fort collins / north CO', 'high rockies', 'pueblo',\n",
       "       'western slope', 'eastern CT', 'hartford', 'new haven',\n",
       "       'northwest CT', 'washington, DC', 'delaware', 'daytona beach',\n",
       "       'florida keys', 'ft myers / SW florida', 'gainesville',\n",
       "       'heartland florida', 'jacksonville', 'lakeland',\n",
       "       'north central FL', 'ocala', 'okaloosa / walton', 'orlando',\n",
       "       'panama city', 'pensacola', 'sarasota-bradenton', 'south florida',\n",
       "       'space coast', 'st augustine', 'tallahassee', 'tampa bay area',\n",
       "       'treasure coast', 'albany', 'athens', 'atlanta', 'augusta',\n",
       "       'brunswick', 'columbus', 'macon / warner robins', 'northwest GA',\n",
       "       'savannah / hinesville', 'statesboro', 'valdosta', 'hawaii',\n",
       "       'boise', 'east idaho', 'lewiston / clarkston', 'pullman / moscow',\n",
       "       \"spokane / coeur d'alene\", 'twin falls', 'bloomington-normal',\n",
       "       'champaign urbana', 'chicago', 'decatur', 'la salle co',\n",
       "       'mattoon-charleston', 'peoria', 'quad cities, IA/IL', 'rockford',\n",
       "       'southern illinois', 'springfield', 'st louis, MO', 'western IL',\n",
       "       'bloomington', 'evansville', 'fort wayne', 'indianapolis',\n",
       "       'kokomo', 'lafayette / west lafayette', 'muncie / anderson',\n",
       "       'richmond', 'south bend / michiana', 'terre haute', 'ames',\n",
       "       'cedar rapids', 'des moines', 'dubuque', 'fort dodge', 'iowa city',\n",
       "       'mason city', 'omaha / council bluffs', 'sioux city',\n",
       "       'southeast IA', 'waterloo / cedar falls', 'kansas city, MO',\n",
       "       'lawrence', 'manhattan', 'northwest KS', 'salina', 'southeast KS',\n",
       "       'southwest KS', 'topeka', 'wichita', 'bowling green',\n",
       "       'eastern kentucky', 'huntington-ashland', 'lexington',\n",
       "       'louisville', 'owensboro', 'western KY', 'baton rouge',\n",
       "       'central louisiana', 'houma', 'lafayette', 'lake charles',\n",
       "       'monroe', 'new orleans', 'shreveport', 'maine', 'annapolis',\n",
       "       'baltimore', 'cumberland valley', 'eastern shore', 'frederick',\n",
       "       'southern maryland', 'western maryland', 'boston',\n",
       "       'cape cod / islands', 'south coast', 'western massachusetts',\n",
       "       'worcester / central MA', 'ann arbor', 'battle creek',\n",
       "       'central michigan', 'detroit metro', 'flint', 'grand rapids',\n",
       "       'holland', 'jackson', 'kalamazoo', 'lansing', 'muskegon',\n",
       "       'northern michigan', 'port huron', 'saginaw-midland-baycity',\n",
       "       'southwest michigan', 'the thumb', 'upper peninsula', 'bemidji',\n",
       "       'brainerd', 'duluth / superior', 'fargo / moorhead', 'mankato',\n",
       "       'minneapolis / st paul', 'rochester', 'southwest MN', 'st cloud',\n",
       "       'gulfport / biloxi', 'hattiesburg', 'meridian',\n",
       "       'north mississippi', 'southwest MS', 'columbia / jeff city',\n",
       "       'joplin', 'kansas city', 'kirksville', 'lake of the ozarks',\n",
       "       'southeast missouri', 'st joseph', 'st louis', 'billings',\n",
       "       'bozeman', 'butte', 'eastern montana', 'great falls', 'helena',\n",
       "       'kalispell', 'missoula', 'asheville', 'boone', 'charlotte',\n",
       "       'eastern NC', 'greensboro', 'hickory / lenoir', 'outer banks',\n",
       "       'raleigh / durham / CH', 'wilmington', 'winston-salem',\n",
       "       'grand island', 'lincoln', 'north platte',\n",
       "       'scottsbluff / panhandle', 'elko', 'las vegas', 'central NJ',\n",
       "       'jersey shore', 'north jersey', 'south jersey', 'albuquerque',\n",
       "       'clovis / portales', 'farmington', 'las cruces',\n",
       "       'roswell / carlsbad', 'santa fe / taos', 'binghamton', 'buffalo',\n",
       "       'catskills', 'chautauqua', 'elmira-corning', 'finger lakes',\n",
       "       'glens falls', 'hudson valley', 'ithaca', 'long island',\n",
       "       'new york city', 'oneonta', 'plattsburgh-adirondacks',\n",
       "       'potsdam-canton-massena', 'syracuse', 'twin tiers NY/PA',\n",
       "       'utica-rome-oneida', 'watertown', 'new hampshire', 'bismarck',\n",
       "       'grand forks', 'north dakota', 'akron / canton', 'ashtabula',\n",
       "       'chillicothe', 'cincinnati', 'cleveland', 'dayton / springfield',\n",
       "       'lima / findlay', 'mansfield', 'northern panhandle',\n",
       "       'parkersburg-marietta', 'sandusky', 'toledo', 'tuscarawas co',\n",
       "       'youngstown', 'zanesville / cambridge', 'fort smith, AR', 'lawton',\n",
       "       'northwest OK', 'oklahoma city', 'stillwater', 'texoma', 'tulsa',\n",
       "       'bend', 'corvallis/albany', 'east oregon', 'eugene',\n",
       "       'klamath falls', 'medford-ashland', 'oregon coast', 'portland',\n",
       "       'roseburg', 'salem', 'altoona-johnstown', 'erie', 'harrisburg',\n",
       "       'lancaster', 'lehigh valley', 'meadville', 'philadelphia',\n",
       "       'pittsburgh', 'poconos', 'reading', 'scranton / wilkes-barre',\n",
       "       'state college', 'williamsport', 'york', 'rhode island',\n",
       "       'charleston', 'columbia', 'florence', 'greenville / upstate',\n",
       "       'hilton head', 'myrtle beach', 'northeast SD',\n",
       "       'pierre / central SD', 'rapid city / west SD',\n",
       "       'sioux falls / SE SD', 'south dakota', 'chattanooga',\n",
       "       'clarksville', 'cookeville', 'knoxville', 'memphis', 'nashville',\n",
       "       'tri-cities', 'abilene', 'amarillo', 'austin',\n",
       "       'beaumont / port arthur', 'brownsville', 'college station',\n",
       "       'corpus christi', 'dallas / fort worth', 'deep east texas',\n",
       "       'del rio / eagle pass', 'el paso', 'galveston', 'houston',\n",
       "       'killeen / temple / ft hood', 'laredo', 'lubbock',\n",
       "       'mcallen / edinburg', 'odessa / midland', 'san angelo',\n",
       "       'san antonio', 'san marcos', 'southwest TX', 'tyler / east TX',\n",
       "       'victoria', 'waco', 'wichita falls', 'logan', 'ogden-clearfield',\n",
       "       'provo / orem', 'salt lake city', 'st george', 'vermont',\n",
       "       'charlottesville', 'danville', 'fredericksburg', 'harrisonburg',\n",
       "       'lynchburg', 'new river valley', 'norfolk / hampton roads',\n",
       "       'roanoke', 'southwest VA', 'winchester', 'bellingham',\n",
       "       'kennewick-pasco-richland', 'moses lake', 'olympic peninsula',\n",
       "       'seattle-tacoma', 'skagit / island / SJI', 'wenatchee', 'yakima',\n",
       "       'eastern panhandle', 'morgantown', 'southern WV',\n",
       "       'west virginia (old)', 'appleton-oshkosh-FDL', 'eau claire',\n",
       "       'green bay', 'janesville', 'kenosha-racine', 'la crosse',\n",
       "       'madison', 'milwaukee', 'northern WI', 'sheboygan', 'wausau',\n",
       "       'wyoming'], dtype=object)"
      ]
     },
     "execution_count": 10,
     "metadata": {},
     "output_type": "execute_result"
    }
   ],
   "source": [
    "#Task 3.1.0\n",
    "UsedVehicle['region'].unique()"
   ]
  },
  {
   "cell_type": "code",
   "execution_count": 11,
   "id": "098dcec5",
   "metadata": {},
   "outputs": [
    {
     "name": "stdout",
     "output_type": "stream",
     "text": [
      "404\n"
     ]
    }
   ],
   "source": [
    "#Task 3.1.1\n",
    "\n",
    "a=len(UsedVehicle['region'].unique())\n",
    "print(a)"
   ]
  },
  {
   "cell_type": "code",
   "execution_count": 16,
   "id": "87c8dcca",
   "metadata": {},
   "outputs": [
    {
     "data": {
      "text/plain": [
       "array(['gmc', 'chevrolet', 'toyota', 'ford', 'jeep', 'nissan', 'ram',\n",
       "       'mazda', 'cadillac', 'honda', 'dodge', 'lexus', 'jaguar', 'buick',\n",
       "       'chrysler', 'volvo', 'audi', 'infiniti', 'lincoln', 'alfa-romeo',\n",
       "       'subaru', 'unknown', 'acura', 'hyundai', 'mercedes-benz', 'bmw',\n",
       "       'mitsubishi', 'volkswagen', 'porsche', 'kia', 'ferrari', 'mini',\n",
       "       'pontiac', 'fiat', 'rover', 'tesla', 'saturn', 'mercury',\n",
       "       'harley-davidson', 'datsun', 'aston-martin', 'land rover'],\n",
       "      dtype=object)"
      ]
     },
     "execution_count": 16,
     "metadata": {},
     "output_type": "execute_result"
    }
   ],
   "source": [
    "#Task 3.2.0\n",
    "\n",
    "UsedVehicle['manufacturer'].unique()"
   ]
  },
  {
   "cell_type": "code",
   "execution_count": 12,
   "id": "ce5f5bd4",
   "metadata": {},
   "outputs": [
    {
     "name": "stdout",
     "output_type": "stream",
     "text": [
      "42\n"
     ]
    }
   ],
   "source": [
    "#Task 3.2.1\n",
    "\n",
    "\n",
    "a=len(UsedVehicle['manufacturer'].unique())\n",
    "print(a)"
   ]
  },
  {
   "cell_type": "code",
   "execution_count": 13,
   "id": "72a9b595",
   "metadata": {},
   "outputs": [
    {
     "data": {
      "text/plain": [
       "array([2014., 2010., 2020., 2017., 2013., 2012., 2016., 2019., 2011.,\n",
       "       1992., 2018., 2004., 2015., 2001., 2006., 2003., 2008., 2007.,\n",
       "       2005., 1966., 2009., 1998., 2002., 1999., 2021., 1997., 1976.,\n",
       "       1969., 1995., 1978., 1954., 1979., 1970., 1974., 1996., 1987.,\n",
       "       2000., 1955., 1991., 1972., 1988., 1994., 1968., 1984., 1986.,\n",
       "       1989., 1973., 1946., 1933., 1958., 1985., 1957., 1953., 1942.,\n",
       "       1963., 1977., 1993., 1990., 1982., 1948., 1983., 1936., 1932.,\n",
       "       1951., 1980., 1967., 1971., 1981., 1947., 1926., 1962., 1975.,\n",
       "       1964., 1952., 1940., 1959., 1930., 1950., 1965., 1922., 1928.,\n",
       "       2022., 1901., 1960., 1941., 1929., 1956., 1924., 1927., 1939.,\n",
       "       1923., 1949., 1937., 1934., 1931., 1961., 1935., 1918., 1900.,\n",
       "       1938., 1913., 1916., 1943., 1925., 1921., 1915., 1945., 1902.,\n",
       "       1905., 1920., 1944., 1910., 1909.])"
      ]
     },
     "execution_count": 13,
     "metadata": {},
     "output_type": "execute_result"
    }
   ],
   "source": [
    "#Task 3.3.0\n",
    "#there is 113 years of cars.  it might be intersting to find which vehicle \n",
    "#at which year sells the most car\n",
    "UsedVehicle['year'].unique()"
   ]
  },
  {
   "cell_type": "code",
   "execution_count": 14,
   "id": "ef6c461a",
   "metadata": {},
   "outputs": [
    {
     "name": "stdout",
     "output_type": "stream",
     "text": [
      "113\n"
     ]
    }
   ],
   "source": [
    "#Task 3.3.1\n",
    "a=len(UsedVehicle['year'].unique())\n",
    "print(a)"
   ]
  },
  {
   "cell_type": "code",
   "execution_count": null,
   "id": "0dfa7daa",
   "metadata": {},
   "outputs": [],
   "source": []
  },
  {
   "cell_type": "code",
   "execution_count": 15,
   "id": "958b9fed",
   "metadata": {},
   "outputs": [
    {
     "data": {
      "text/plain": [
       "array(['sierra 1500 crew cab slt', 'silverado 1500',\n",
       "       'silverado 1500 crew', ..., 'gand wagoneer', '96 Suburban',\n",
       "       'Paige Glenbrook Touring'], dtype=object)"
      ]
     },
     "execution_count": 15,
     "metadata": {},
     "output_type": "execute_result"
    }
   ],
   "source": [
    "#Task 3.4.0\n",
    "#Looking at the different model it might be hard to find something interesting out of it\n",
    "UsedVehicle['model'].unique()"
   ]
  },
  {
   "cell_type": "code",
   "execution_count": 17,
   "id": "872b33d6",
   "metadata": {},
   "outputs": [
    {
     "name": "stdout",
     "output_type": "stream",
     "text": [
      "29236\n"
     ]
    }
   ],
   "source": [
    "#Task 3.4.1\n",
    "a=len(UsedVehicle['model'].unique())\n",
    "print(a)"
   ]
  },
  {
   "cell_type": "code",
   "execution_count": 18,
   "id": "23395ae4",
   "metadata": {},
   "outputs": [
    {
     "data": {
      "text/plain": [
       "array(['good', 'excellent', 'fair', 'like new', 'unknown', 'new',\n",
       "       'salvage'], dtype=object)"
      ]
     },
     "execution_count": 18,
     "metadata": {},
     "output_type": "execute_result"
    }
   ],
   "source": [
    "#Task 3.5.0\n",
    "#Find which type of cars are the sold\n",
    "#\n",
    "UsedVehicle['condition'].unique()"
   ]
  },
  {
   "cell_type": "code",
   "execution_count": 19,
   "id": "989c4d6c",
   "metadata": {},
   "outputs": [
    {
     "name": "stdout",
     "output_type": "stream",
     "text": [
      "7\n"
     ]
    }
   ],
   "source": [
    "#Task 3.5.1\n",
    "a=len(UsedVehicle['condition'].unique())\n",
    "print(a)"
   ]
  },
  {
   "cell_type": "code",
   "execution_count": null,
   "id": "7799de7f",
   "metadata": {},
   "outputs": [],
   "source": []
  },
  {
   "cell_type": "code",
   "execution_count": 20,
   "id": "d91d961c",
   "metadata": {},
   "outputs": [
    {
     "data": {
      "text/plain": [
       "array(['gas', 'other', 'diesel', 'hybrid', 'unknown', 'electric'],\n",
       "      dtype=object)"
      ]
     },
     "execution_count": 20,
     "metadata": {},
     "output_type": "execute_result"
    }
   ],
   "source": [
    "#Task 3.6.0\n",
    "#type of cars are being the class\n",
    "UsedVehicle['fuel'].unique()"
   ]
  },
  {
   "cell_type": "code",
   "execution_count": 21,
   "id": "96d750a6",
   "metadata": {},
   "outputs": [
    {
     "name": "stdout",
     "output_type": "stream",
     "text": [
      "6\n"
     ]
    }
   ],
   "source": [
    "#Task 3.6.1\n",
    "a=len(UsedVehicle['fuel'].unique())\n",
    "print(a)"
   ]
  },
  {
   "cell_type": "code",
   "execution_count": null,
   "id": "ad0da824",
   "metadata": {},
   "outputs": [],
   "source": []
  },
  {
   "cell_type": "code",
   "execution_count": 22,
   "id": "04cb1ac1",
   "metadata": {},
   "outputs": [
    {
     "data": {
      "text/plain": [
       "array(['clean', 'rebuilt', 'lien', 'unknown', 'salvage', 'missing',\n",
       "       'parts only'], dtype=object)"
      ]
     },
     "execution_count": 22,
     "metadata": {},
     "output_type": "execute_result"
    }
   ],
   "source": [
    "#Task 3.7.0\n",
    "#type of car sold\n",
    "UsedVehicle['title_status'].unique()"
   ]
  },
  {
   "cell_type": "code",
   "execution_count": 23,
   "id": "eaa691b6",
   "metadata": {},
   "outputs": [
    {
     "name": "stdout",
     "output_type": "stream",
     "text": [
      "7\n"
     ]
    }
   ],
   "source": [
    "#Task 3.7.1\n",
    "a=len(UsedVehicle['title_status'].unique())\n",
    "print(a)"
   ]
  },
  {
   "cell_type": "code",
   "execution_count": null,
   "id": "4913216f",
   "metadata": {},
   "outputs": [],
   "source": []
  },
  {
   "cell_type": "code",
   "execution_count": 24,
   "id": "dade507a",
   "metadata": {},
   "outputs": [
    {
     "data": {
      "text/plain": [
       "array(['other', 'automatic', 'manual', 'unknown'], dtype=object)"
      ]
     },
     "execution_count": 24,
     "metadata": {},
     "output_type": "execute_result"
    }
   ],
   "source": [
    "#Task 3.8.0\n",
    "UsedVehicle['transmission'].unique()"
   ]
  },
  {
   "cell_type": "code",
   "execution_count": 25,
   "id": "9c6ba5a8",
   "metadata": {},
   "outputs": [
    {
     "name": "stdout",
     "output_type": "stream",
     "text": [
      "4\n"
     ]
    }
   ],
   "source": [
    "#Task 3.8.1\n",
    "a=len(UsedVehicle['transmission'].unique())\n",
    "print(a)"
   ]
  },
  {
   "cell_type": "code",
   "execution_count": 26,
   "id": "b88803cd",
   "metadata": {},
   "outputs": [
    {
     "data": {
      "text/plain": [
       "array(['unknown', 'rwd', '4wd', 'fwd'], dtype=object)"
      ]
     },
     "execution_count": 26,
     "metadata": {},
     "output_type": "execute_result"
    }
   ],
   "source": [
    "#Task 3.9.0\n",
    "UsedVehicle['drive'].unique()"
   ]
  },
  {
   "cell_type": "code",
   "execution_count": 27,
   "id": "9403feb9",
   "metadata": {},
   "outputs": [
    {
     "name": "stdout",
     "output_type": "stream",
     "text": [
      "4\n"
     ]
    }
   ],
   "source": [
    "#Task 3.9.1\n",
    "a=len(UsedVehicle['drive'].unique())\n",
    "print(a)"
   ]
  },
  {
   "cell_type": "code",
   "execution_count": null,
   "id": "1fffc10d",
   "metadata": {},
   "outputs": [],
   "source": []
  },
  {
   "cell_type": "code",
   "execution_count": 28,
   "id": "50506967",
   "metadata": {},
   "outputs": [
    {
     "data": {
      "text/plain": [
       "array(['unknown', 'full-size', 'mid-size', 'compact', 'sub-compact'],\n",
       "      dtype=object)"
      ]
     },
     "execution_count": 28,
     "metadata": {},
     "output_type": "execute_result"
    }
   ],
   "source": [
    "#Task 3.10\n",
    "UsedVehicle['size'].unique()"
   ]
  },
  {
   "cell_type": "code",
   "execution_count": 29,
   "id": "e4e618a2",
   "metadata": {},
   "outputs": [
    {
     "name": "stdout",
     "output_type": "stream",
     "text": [
      "5\n"
     ]
    }
   ],
   "source": [
    "#Task 3.10\n",
    "a=len(UsedVehicle['size'].unique())\n",
    "print(a)"
   ]
  },
  {
   "cell_type": "code",
   "execution_count": 33,
   "id": "514a97df",
   "metadata": {},
   "outputs": [
    {
     "name": "stdout",
     "output_type": "stream",
     "text": [
      "size\n",
      "compact         16883.896711\n",
      "full-size       99610.141978\n",
      "mid-size       121264.816361\n",
      "sub-compact     12383.630933\n",
      "unknown         50107.260701\n",
      "Name: price, dtype: float64\n"
     ]
    }
   ],
   "source": [
    "#Task 5.2\n",
    "#_=CCLoan.groupby('LATE_PAYMENT')['NAME_EDUCATION_TYPE'].hist(bins =5)\n",
    "#_=plt.xlabel('NAME_EDUCATION_TYPE')\n",
    "#_=plt.ylabel('LATE_PAYMENT')\n",
    "#_=plt.title(\"Late Payment vs NAME_EDUCATION_TYPE\")\n",
    "\n",
    "#plt.show()\n",
    "\n",
    "\n",
    "\n",
    "\n",
    "\n",
    "#Task 5.4.1\n",
    "#CCLoan_new=CCLoan.groupby('LATE_PAYMENT')['NAME_FAMILY_STATUS'].value_counts().unstack(0)\n",
    "#CCLoan_new/CCLoan_new.sum()\n",
    "\n",
    "\n",
    "\n",
    "#Task 5.8\n",
    "UsedVehicle_new=UsedVehicle.groupby('size')['price'].mean()\n",
    "\n",
    "print(UsedVehicle_new)\n",
    "\n",
    "\n"
   ]
  },
  {
   "cell_type": "code",
   "execution_count": 34,
   "id": "7b0e7df1",
   "metadata": {},
   "outputs": [],
   "source": [
    "UsedVehicle_new=UsedVehicle.groupby(['size','year'])['price'].mean()"
   ]
  },
  {
   "cell_type": "code",
   "execution_count": 35,
   "id": "1d6cefbd",
   "metadata": {},
   "outputs": [
    {
     "name": "stdout",
     "output_type": "stream",
     "text": [
      "size     year  \n",
      "compact  1913.0    27000.000000\n",
      "         1916.0    30000.000000\n",
      "         1923.0    18335.833333\n",
      "         1926.0     6500.000000\n",
      "         1927.0    19999.166667\n",
      "                       ...     \n",
      "unknown  2018.0    27240.329895\n",
      "         2019.0    31078.404807\n",
      "         2020.0    34719.157160\n",
      "         2021.0    92839.430520\n",
      "         2022.0    30673.136752\n",
      "Name: price, Length: 463, dtype: float64\n"
     ]
    }
   ],
   "source": [
    "print(UsedVehicle_new)"
   ]
  },
  {
   "cell_type": "code",
   "execution_count": null,
   "id": "1504e0d7",
   "metadata": {},
   "outputs": [],
   "source": [
    "#Task 3.11.0\n",
    "UsedVehicle['type'].unique()"
   ]
  },
  {
   "cell_type": "code",
   "execution_count": null,
   "id": "d0710bf0",
   "metadata": {},
   "outputs": [],
   "source": [
    "#Task 3.11.1\n",
    "a=len(UsedVehicle['type'].unique())\n",
    "print(a)"
   ]
  },
  {
   "cell_type": "code",
   "execution_count": null,
   "id": "1e582595",
   "metadata": {},
   "outputs": [],
   "source": []
  },
  {
   "cell_type": "markdown",
   "id": "dc7b60ce",
   "metadata": {},
   "source": [
    "There are 14 type of cars. i want to see which is most on sale"
   ]
  },
  {
   "cell_type": "code",
   "execution_count": null,
   "id": "8a703268",
   "metadata": {},
   "outputs": [],
   "source": [
    "#Task 3.12.0\n",
    "UsedVehicle['paint_color'].unique()"
   ]
  },
  {
   "cell_type": "code",
   "execution_count": null,
   "id": "b300519b",
   "metadata": {},
   "outputs": [],
   "source": [
    "#Task 3.12.1\n",
    "a=len(UsedVehicle['paint_color'].unique())\n",
    "print(a)"
   ]
  },
  {
   "cell_type": "markdown",
   "id": "d70e6648",
   "metadata": {},
   "source": [
    "I want to know the break down of which the most popular color"
   ]
  },
  {
   "cell_type": "code",
   "execution_count": null,
   "id": "a0227fad",
   "metadata": {},
   "outputs": [],
   "source": []
  },
  {
   "cell_type": "code",
   "execution_count": null,
   "id": "1edc7980",
   "metadata": {},
   "outputs": [],
   "source": [
    "#Task 3.13.0\n",
    "#useless as description will be different\n",
    "\n",
    "\n",
    "UsedVehicle['description'].unique()"
   ]
  },
  {
   "cell_type": "code",
   "execution_count": null,
   "id": "2dc0dc6c",
   "metadata": {},
   "outputs": [],
   "source": [
    "#Task 3.13.1\n",
    "a=len(UsedVehicle['description'].unique())\n",
    "print(a)"
   ]
  },
  {
   "cell_type": "code",
   "execution_count": null,
   "id": "3e1d1934",
   "metadata": {},
   "outputs": [],
   "source": [
    "#Task 3.14.0\n",
    "UsedVehicle['state'].unique()"
   ]
  },
  {
   "cell_type": "code",
   "execution_count": null,
   "id": "c8cf35c8",
   "metadata": {},
   "outputs": [],
   "source": [
    "#Task 3.14.1\n",
    "a=len(UsedVehicle['state'].unique())\n",
    "print(a)"
   ]
  },
  {
   "cell_type": "markdown",
   "id": "8a6decb2",
   "metadata": {},
   "source": [
    "there is 51 states and there are only 50 states.  I figured out they used DC as a state."
   ]
  },
  {
   "cell_type": "code",
   "execution_count": null,
   "id": "bb50b808",
   "metadata": {},
   "outputs": [],
   "source": []
  },
  {
   "cell_type": "code",
   "execution_count": null,
   "id": "82d3dda6",
   "metadata": {},
   "outputs": [],
   "source": [
    "#Task 3.15.0\n",
    "UsedVehicle['posting_date'].unique()"
   ]
  },
  {
   "cell_type": "code",
   "execution_count": null,
   "id": "43eca7ab",
   "metadata": {},
   "outputs": [],
   "source": [
    "#Task 3.15.1\n",
    "a=len(UsedVehicle['posting_date'].unique())\n",
    "print(a)"
   ]
  },
  {
   "cell_type": "code",
   "execution_count": null,
   "id": "42c4583c",
   "metadata": {},
   "outputs": [],
   "source": []
  },
  {
   "cell_type": "code",
   "execution_count": null,
   "id": "bc534160",
   "metadata": {},
   "outputs": [],
   "source": [
    "#Task 4.0\n",
    "#test data to see correlation mapping\n",
    "#Heat map with columns that are floats or int.  It will not work with str.\n",
    "#adjust the scale so i can see anything that has correation greater than 0.  \n",
    "#Previous chart with -1 to 1 was difficult to distinguest correlation\n",
    "\n",
    "UsedVehicle_corr=UsedVehicle.corr()\n",
    "fig,ax  =plt.subplots(figsize = (10,10))\n",
    "sns.heatmap(UsedVehicle_corr, linewidth=.5,ax=ax, vmin=-1,vmax=1)"
   ]
  },
  {
   "cell_type": "markdown",
   "id": "d79bfba4",
   "metadata": {},
   "source": [
    "Looking at price / odometer and odometer / year"
   ]
  },
  {
   "cell_type": "code",
   "execution_count": null,
   "id": "0edc201b",
   "metadata": {},
   "outputs": [],
   "source": [
    "UsedVehicle[['odometer','year','price']]"
   ]
  },
  {
   "cell_type": "code",
   "execution_count": null,
   "id": "2d3677ac",
   "metadata": {},
   "outputs": [],
   "source": []
  },
  {
   "cell_type": "code",
   "execution_count": null,
   "id": "9f304b7e",
   "metadata": {},
   "outputs": [],
   "source": []
  },
  {
   "cell_type": "code",
   "execution_count": null,
   "id": "9b0d0fc9",
   "metadata": {
    "scrolled": false
   },
   "outputs": [],
   "source": [
    "#Task 5.1\n",
    "#seaborn pair plot\n",
    "df1 = UsedVehicle[['odometer','year','price']]\n",
    "sns.pairplot(df1, hue='year')\n",
    "\n"
   ]
  },
  {
   "cell_type": "code",
   "execution_count": null,
   "id": "ac413fe3",
   "metadata": {},
   "outputs": [],
   "source": [
    "#Task 5.2\n",
    "\n",
    "\n",
    "df2 = UsedVehicle[['odometer','year','price']]\n",
    "sns.pairplot(df2, hue='price')\n",
    "\n"
   ]
  },
  {
   "cell_type": "code",
   "execution_count": null,
   "id": "d9e3409d",
   "metadata": {},
   "outputs": [],
   "source": []
  },
  {
   "cell_type": "code",
   "execution_count": null,
   "id": "82fc33ab",
   "metadata": {},
   "outputs": [],
   "source": [
    "#Task 5.3.0\n",
    "#box plot\n",
    "plt.figure(figsize = (15,5))\n",
    "sns.lineplot(x=UsedVehicle['odometer'].mean() ,y=UsedVehicle['price']);\n",
    "plt.show()"
   ]
  },
  {
   "cell_type": "code",
   "execution_count": null,
   "id": "5152ce33",
   "metadata": {},
   "outputs": [],
   "source": [
    "#Task 5.3.1\n",
    "#box plot\n",
    "plt.figure(figsize = (15,5))\n",
    "sns.lineplot(x=UsedVehicle['year'] ,y=UsedVehicle['price'].mean());\n",
    "plt.show()"
   ]
  },
  {
   "cell_type": "code",
   "execution_count": null,
   "id": "54c19737",
   "metadata": {},
   "outputs": [],
   "source": [
    "#Task 5.3.2\n",
    "#box plot\n",
    "plt.figure(figsize = (20,10))\n",
    "sns.lineplot(y=UsedVehicle['odometer'].mean() ,x=UsedVehicle['year']);\n",
    "plt.show()"
   ]
  },
  {
   "cell_type": "code",
   "execution_count": null,
   "id": "2f712d46",
   "metadata": {},
   "outputs": [],
   "source": [
    "#Task 5.4\n",
    "#box plot\n",
    "plt.figure(figsize = (15,5))\n",
    "sns.boxplot(x=UsedVehicle['year'] ,y=UsedVehicle['price']);\n",
    "plt.show()"
   ]
  },
  {
   "cell_type": "markdown",
   "id": "e0d4aef4",
   "metadata": {},
   "source": []
  },
  {
   "cell_type": "code",
   "execution_count": null,
   "id": "9cf4718a",
   "metadata": {},
   "outputs": [],
   "source": [
    "#Task 5.6\n",
    "\n",
    "#Violin Plot\n",
    "\n",
    "#aasize =(20,20)\n",
    "fig,ax=plt.subplots()\n",
    "fig.set_size_inches(20,20)\n",
    "sns.violinplot(x=UsedVehicle['year'] ,y=UsedVehicle['price'], ax =ax );\n",
    "plt.show()"
   ]
  },
  {
   "cell_type": "code",
   "execution_count": null,
   "id": "01cba5fc",
   "metadata": {},
   "outputs": [],
   "source": []
  },
  {
   "cell_type": "code",
   "execution_count": null,
   "id": "89b6f85c",
   "metadata": {},
   "outputs": [],
   "source": []
  },
  {
   "cell_type": "code",
   "execution_count": null,
   "id": "e53d715b",
   "metadata": {},
   "outputs": [],
   "source": []
  },
  {
   "cell_type": "code",
   "execution_count": null,
   "id": "a01102f5",
   "metadata": {},
   "outputs": [],
   "source": [
    "\n",
    "_=CCLoan.groupby('LATE_PAYMENT')['NAME_EDUCATION_TYPE'].hist(bins =5)\n",
    "_=plt.xlabel('NAME_EDUCATION_TYPE')\n",
    "_=plt.ylabel('LATE_PAYMENT')\n",
    "_=plt.title(\"Late Payment vs NAME_EDUCATION_TYPE\")"
   ]
  },
  {
   "cell_type": "code",
   "execution_count": null,
   "id": "8e3720fe",
   "metadata": {},
   "outputs": [],
   "source": []
  },
  {
   "cell_type": "code",
   "execution_count": null,
   "id": "0d1b20df",
   "metadata": {},
   "outputs": [],
   "source": []
  },
  {
   "cell_type": "markdown",
   "id": "025fe1c0",
   "metadata": {},
   "source": [
    "Hypothesis Testing"
   ]
  },
  {
   "cell_type": "code",
   "execution_count": null,
   "id": "5f37afb2",
   "metadata": {},
   "outputs": [],
   "source": []
  }
 ],
 "metadata": {
  "kernelspec": {
   "display_name": "Python 3",
   "language": "python",
   "name": "python3"
  },
  "language_info": {
   "codemirror_mode": {
    "name": "ipython",
    "version": 3
   },
   "file_extension": ".py",
   "mimetype": "text/x-python",
   "name": "python",
   "nbconvert_exporter": "python",
   "pygments_lexer": "ipython3",
   "version": "3.8.10"
  }
 },
 "nbformat": 4,
 "nbformat_minor": 5
}
