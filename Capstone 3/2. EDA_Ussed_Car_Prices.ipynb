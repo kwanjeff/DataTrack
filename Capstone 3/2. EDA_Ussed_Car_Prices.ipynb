{
 "cells": [
  {
   "cell_type": "markdown",
   "id": "47be0c69",
   "metadata": {},
   "source": [
    "data visualization\n",
    "\n",
    "statistical graphing"
   ]
  },
  {
   "cell_type": "code",
   "execution_count": 1,
   "id": "72465956",
   "metadata": {},
   "outputs": [],
   "source": [
    "#Task 1.0  import libraries \n",
    "#import pandas\n",
    "import pandas as pd\n",
    "import matplotlib.pyplot as plt\n",
    "from matplotlib import rcParams\n",
    "import seaborn as sns\n",
    "import numpy as np\n",
    "import os\n",
    "import sklearn\n",
    "from sklearn.model_selection import train_test_split\n",
    "\n",
    "import warnings\n",
    "warnings.filterwarnings(\"ignore\")"
   ]
  },
  {
   "cell_type": "code",
   "execution_count": 2,
   "id": "a5f88e7a",
   "metadata": {},
   "outputs": [],
   "source": [
    "##import inforamtion from cleaned data from previous \n",
    "#Task 1.1  import csv file\n",
    "\n",
    "UsedVehicle=pd.read_csv(r'.\\Data\\UsedCarData\\clean_vehicles.csv', header=0 )"
   ]
  },
  {
   "cell_type": "code",
   "execution_count": 3,
   "id": "ccb1c353",
   "metadata": {},
   "outputs": [
    {
     "data": {
      "text/html": [
       "<div>\n",
       "<style scoped>\n",
       "    .dataframe tbody tr th:only-of-type {\n",
       "        vertical-align: middle;\n",
       "    }\n",
       "\n",
       "    .dataframe tbody tr th {\n",
       "        vertical-align: top;\n",
       "    }\n",
       "\n",
       "    .dataframe thead th {\n",
       "        text-align: right;\n",
       "    }\n",
       "</style>\n",
       "<table border=\"1\" class=\"dataframe\">\n",
       "  <thead>\n",
       "    <tr style=\"text-align: right;\">\n",
       "      <th></th>\n",
       "      <th>region</th>\n",
       "      <th>price</th>\n",
       "      <th>year</th>\n",
       "      <th>manufacturer</th>\n",
       "      <th>model</th>\n",
       "      <th>condition</th>\n",
       "      <th>cylinders</th>\n",
       "      <th>fuel</th>\n",
       "      <th>odometer</th>\n",
       "      <th>title_status</th>\n",
       "      <th>transmission</th>\n",
       "      <th>drive</th>\n",
       "      <th>type</th>\n",
       "      <th>paint_color</th>\n",
       "      <th>state</th>\n",
       "      <th>lat</th>\n",
       "      <th>long</th>\n",
       "      <th>posting_date</th>\n",
       "      <th>posting_date2</th>\n",
       "    </tr>\n",
       "  </thead>\n",
       "  <tbody>\n",
       "    <tr>\n",
       "      <th>0</th>\n",
       "      <td>auburn</td>\n",
       "      <td>15000</td>\n",
       "      <td>2013.0</td>\n",
       "      <td>ford</td>\n",
       "      <td>f-150 xlt</td>\n",
       "      <td>excellent</td>\n",
       "      <td>6 cylinders</td>\n",
       "      <td>gas</td>\n",
       "      <td>128000.0</td>\n",
       "      <td>clean</td>\n",
       "      <td>automatic</td>\n",
       "      <td>rwd</td>\n",
       "      <td>truck</td>\n",
       "      <td>black</td>\n",
       "      <td>al</td>\n",
       "      <td>32.5920</td>\n",
       "      <td>-85.518900</td>\n",
       "      <td>2021-05-03T14:02:03-0500</td>\n",
       "      <td>2021-05-03</td>\n",
       "    </tr>\n",
       "    <tr>\n",
       "      <th>1</th>\n",
       "      <td>auburn</td>\n",
       "      <td>27990</td>\n",
       "      <td>2012.0</td>\n",
       "      <td>gmc</td>\n",
       "      <td>sierra 2500 hd extended cab</td>\n",
       "      <td>good</td>\n",
       "      <td>8 cylinders</td>\n",
       "      <td>gas</td>\n",
       "      <td>68696.0</td>\n",
       "      <td>clean</td>\n",
       "      <td>other</td>\n",
       "      <td>4wd</td>\n",
       "      <td>pickup</td>\n",
       "      <td>black</td>\n",
       "      <td>al</td>\n",
       "      <td>32.5900</td>\n",
       "      <td>-85.480000</td>\n",
       "      <td>2021-05-03T13:41:25-0500</td>\n",
       "      <td>2021-05-03</td>\n",
       "    </tr>\n",
       "    <tr>\n",
       "      <th>2</th>\n",
       "      <td>auburn</td>\n",
       "      <td>34590</td>\n",
       "      <td>2016.0</td>\n",
       "      <td>chevrolet</td>\n",
       "      <td>silverado 1500 double</td>\n",
       "      <td>good</td>\n",
       "      <td>6 cylinders</td>\n",
       "      <td>gas</td>\n",
       "      <td>29499.0</td>\n",
       "      <td>clean</td>\n",
       "      <td>other</td>\n",
       "      <td>4wd</td>\n",
       "      <td>pickup</td>\n",
       "      <td>silver</td>\n",
       "      <td>al</td>\n",
       "      <td>32.5900</td>\n",
       "      <td>-85.480000</td>\n",
       "      <td>2021-05-03T12:41:33-0500</td>\n",
       "      <td>2021-05-03</td>\n",
       "    </tr>\n",
       "    <tr>\n",
       "      <th>3</th>\n",
       "      <td>auburn</td>\n",
       "      <td>35000</td>\n",
       "      <td>2019.0</td>\n",
       "      <td>toyota</td>\n",
       "      <td>tacoma</td>\n",
       "      <td>excellent</td>\n",
       "      <td>6 cylinders</td>\n",
       "      <td>gas</td>\n",
       "      <td>43000.0</td>\n",
       "      <td>clean</td>\n",
       "      <td>automatic</td>\n",
       "      <td>4wd</td>\n",
       "      <td>truck</td>\n",
       "      <td>grey</td>\n",
       "      <td>al</td>\n",
       "      <td>32.6013</td>\n",
       "      <td>-85.443974</td>\n",
       "      <td>2021-05-03T12:12:59-0500</td>\n",
       "      <td>2021-05-03</td>\n",
       "    </tr>\n",
       "    <tr>\n",
       "      <th>4</th>\n",
       "      <td>auburn</td>\n",
       "      <td>29990</td>\n",
       "      <td>2016.0</td>\n",
       "      <td>chevrolet</td>\n",
       "      <td>colorado extended cab</td>\n",
       "      <td>good</td>\n",
       "      <td>6 cylinders</td>\n",
       "      <td>gas</td>\n",
       "      <td>17302.0</td>\n",
       "      <td>clean</td>\n",
       "      <td>other</td>\n",
       "      <td>4wd</td>\n",
       "      <td>pickup</td>\n",
       "      <td>red</td>\n",
       "      <td>al</td>\n",
       "      <td>32.5900</td>\n",
       "      <td>-85.480000</td>\n",
       "      <td>2021-05-03T11:31:14-0500</td>\n",
       "      <td>2021-05-03</td>\n",
       "    </tr>\n",
       "    <tr>\n",
       "      <th>5</th>\n",
       "      <td>auburn</td>\n",
       "      <td>38590</td>\n",
       "      <td>2011.0</td>\n",
       "      <td>chevrolet</td>\n",
       "      <td>corvette grand sport</td>\n",
       "      <td>good</td>\n",
       "      <td>8 cylinders</td>\n",
       "      <td>gas</td>\n",
       "      <td>30237.0</td>\n",
       "      <td>clean</td>\n",
       "      <td>other</td>\n",
       "      <td>rwd</td>\n",
       "      <td>other</td>\n",
       "      <td>red</td>\n",
       "      <td>al</td>\n",
       "      <td>32.5900</td>\n",
       "      <td>-85.480000</td>\n",
       "      <td>2021-05-03T07:50:35-0500</td>\n",
       "      <td>2021-05-03</td>\n",
       "    </tr>\n",
       "    <tr>\n",
       "      <th>6</th>\n",
       "      <td>auburn</td>\n",
       "      <td>32990</td>\n",
       "      <td>2017.0</td>\n",
       "      <td>jeep</td>\n",
       "      <td>wrangler unlimited sport</td>\n",
       "      <td>good</td>\n",
       "      <td>6 cylinders</td>\n",
       "      <td>gas</td>\n",
       "      <td>30041.0</td>\n",
       "      <td>clean</td>\n",
       "      <td>other</td>\n",
       "      <td>4wd</td>\n",
       "      <td>other</td>\n",
       "      <td>silver</td>\n",
       "      <td>al</td>\n",
       "      <td>32.5900</td>\n",
       "      <td>-85.480000</td>\n",
       "      <td>2021-05-02T12:22:10-0500</td>\n",
       "      <td>2021-05-02</td>\n",
       "    </tr>\n",
       "    <tr>\n",
       "      <th>7</th>\n",
       "      <td>auburn</td>\n",
       "      <td>37990</td>\n",
       "      <td>2016.0</td>\n",
       "      <td>chevrolet</td>\n",
       "      <td>camaro ss coupe 2d</td>\n",
       "      <td>good</td>\n",
       "      <td>8 cylinders</td>\n",
       "      <td>gas</td>\n",
       "      <td>9704.0</td>\n",
       "      <td>clean</td>\n",
       "      <td>other</td>\n",
       "      <td>rwd</td>\n",
       "      <td>coupe</td>\n",
       "      <td>red</td>\n",
       "      <td>al</td>\n",
       "      <td>32.5900</td>\n",
       "      <td>-85.480000</td>\n",
       "      <td>2021-05-01T12:21:51-0500</td>\n",
       "      <td>2021-05-01</td>\n",
       "    </tr>\n",
       "    <tr>\n",
       "      <th>8</th>\n",
       "      <td>auburn</td>\n",
       "      <td>27990</td>\n",
       "      <td>2018.0</td>\n",
       "      <td>nissan</td>\n",
       "      <td>frontier crew cab pro-4x</td>\n",
       "      <td>good</td>\n",
       "      <td>6 cylinders</td>\n",
       "      <td>gas</td>\n",
       "      <td>37332.0</td>\n",
       "      <td>clean</td>\n",
       "      <td>other</td>\n",
       "      <td>4wd</td>\n",
       "      <td>pickup</td>\n",
       "      <td>silver</td>\n",
       "      <td>al</td>\n",
       "      <td>32.5900</td>\n",
       "      <td>-85.480000</td>\n",
       "      <td>2021-05-01T09:11:35-0500</td>\n",
       "      <td>2021-05-01</td>\n",
       "    </tr>\n",
       "    <tr>\n",
       "      <th>9</th>\n",
       "      <td>auburn</td>\n",
       "      <td>19900</td>\n",
       "      <td>2004.0</td>\n",
       "      <td>ford</td>\n",
       "      <td>f250 super duty</td>\n",
       "      <td>good</td>\n",
       "      <td>8 cylinders</td>\n",
       "      <td>diesel</td>\n",
       "      <td>88000.0</td>\n",
       "      <td>clean</td>\n",
       "      <td>automatic</td>\n",
       "      <td>4wd</td>\n",
       "      <td>pickup</td>\n",
       "      <td>blue</td>\n",
       "      <td>al</td>\n",
       "      <td>32.5475</td>\n",
       "      <td>-85.468200</td>\n",
       "      <td>2021-04-29T17:19:18-0500</td>\n",
       "      <td>2021-04-29</td>\n",
       "    </tr>\n",
       "  </tbody>\n",
       "</table>\n",
       "</div>"
      ],
      "text/plain": [
       "   region  price    year manufacturer                        model  condition  \\\n",
       "0  auburn  15000  2013.0         ford                    f-150 xlt  excellent   \n",
       "1  auburn  27990  2012.0          gmc  sierra 2500 hd extended cab       good   \n",
       "2  auburn  34590  2016.0    chevrolet        silverado 1500 double       good   \n",
       "3  auburn  35000  2019.0       toyota                       tacoma  excellent   \n",
       "4  auburn  29990  2016.0    chevrolet        colorado extended cab       good   \n",
       "5  auburn  38590  2011.0    chevrolet         corvette grand sport       good   \n",
       "6  auburn  32990  2017.0         jeep     wrangler unlimited sport       good   \n",
       "7  auburn  37990  2016.0    chevrolet           camaro ss coupe 2d       good   \n",
       "8  auburn  27990  2018.0       nissan     frontier crew cab pro-4x       good   \n",
       "9  auburn  19900  2004.0         ford              f250 super duty       good   \n",
       "\n",
       "     cylinders    fuel  odometer title_status transmission drive    type  \\\n",
       "0  6 cylinders     gas  128000.0        clean    automatic   rwd   truck   \n",
       "1  8 cylinders     gas   68696.0        clean        other   4wd  pickup   \n",
       "2  6 cylinders     gas   29499.0        clean        other   4wd  pickup   \n",
       "3  6 cylinders     gas   43000.0        clean    automatic   4wd   truck   \n",
       "4  6 cylinders     gas   17302.0        clean        other   4wd  pickup   \n",
       "5  8 cylinders     gas   30237.0        clean        other   rwd   other   \n",
       "6  6 cylinders     gas   30041.0        clean        other   4wd   other   \n",
       "7  8 cylinders     gas    9704.0        clean        other   rwd   coupe   \n",
       "8  6 cylinders     gas   37332.0        clean        other   4wd  pickup   \n",
       "9  8 cylinders  diesel   88000.0        clean    automatic   4wd  pickup   \n",
       "\n",
       "  paint_color state      lat       long              posting_date  \\\n",
       "0       black    al  32.5920 -85.518900  2021-05-03T14:02:03-0500   \n",
       "1       black    al  32.5900 -85.480000  2021-05-03T13:41:25-0500   \n",
       "2      silver    al  32.5900 -85.480000  2021-05-03T12:41:33-0500   \n",
       "3        grey    al  32.6013 -85.443974  2021-05-03T12:12:59-0500   \n",
       "4         red    al  32.5900 -85.480000  2021-05-03T11:31:14-0500   \n",
       "5         red    al  32.5900 -85.480000  2021-05-03T07:50:35-0500   \n",
       "6      silver    al  32.5900 -85.480000  2021-05-02T12:22:10-0500   \n",
       "7         red    al  32.5900 -85.480000  2021-05-01T12:21:51-0500   \n",
       "8      silver    al  32.5900 -85.480000  2021-05-01T09:11:35-0500   \n",
       "9        blue    al  32.5475 -85.468200  2021-04-29T17:19:18-0500   \n",
       "\n",
       "  posting_date2  \n",
       "0    2021-05-03  \n",
       "1    2021-05-03  \n",
       "2    2021-05-03  \n",
       "3    2021-05-03  \n",
       "4    2021-05-03  \n",
       "5    2021-05-03  \n",
       "6    2021-05-02  \n",
       "7    2021-05-01  \n",
       "8    2021-05-01  \n",
       "9    2021-04-29  "
      ]
     },
     "execution_count": 3,
     "metadata": {},
     "output_type": "execute_result"
    }
   ],
   "source": [
    "UsedVehicle.head(10)"
   ]
  },
  {
   "cell_type": "code",
   "execution_count": 4,
   "id": "e00141a0",
   "metadata": {},
   "outputs": [
    {
     "name": "stdout",
     "output_type": "stream",
     "text": [
      "<class 'pandas.core.frame.DataFrame'>\n",
      "RangeIndex: 129883 entries, 0 to 129882\n",
      "Data columns (total 19 columns):\n",
      " #   Column         Non-Null Count   Dtype  \n",
      "---  ------         --------------   -----  \n",
      " 0   region         129883 non-null  object \n",
      " 1   price          129883 non-null  int64  \n",
      " 2   year           129883 non-null  float64\n",
      " 3   manufacturer   129883 non-null  object \n",
      " 4   model          129883 non-null  object \n",
      " 5   condition      129883 non-null  object \n",
      " 6   cylinders      129883 non-null  object \n",
      " 7   fuel           129883 non-null  object \n",
      " 8   odometer       129883 non-null  float64\n",
      " 9   title_status   129883 non-null  object \n",
      " 10  transmission   129883 non-null  object \n",
      " 11  drive          129883 non-null  object \n",
      " 12  type           129883 non-null  object \n",
      " 13  paint_color    129883 non-null  object \n",
      " 14  state          129883 non-null  object \n",
      " 15  lat            129883 non-null  float64\n",
      " 16  long           129883 non-null  float64\n",
      " 17  posting_date   129883 non-null  object \n",
      " 18  posting_date2  129883 non-null  object \n",
      "dtypes: float64(4), int64(1), object(14)\n",
      "memory usage: 18.8+ MB\n"
     ]
    }
   ],
   "source": [
    "#Task 1.2\n",
    "\n",
    "UsedVehicle.info()"
   ]
  },
  {
   "cell_type": "markdown",
   "id": "ccb26988",
   "metadata": {},
   "source": [
    "The 3 column that I think are useless are \n",
    "    id\n",
    "    url\n",
    "    region_url\n",
    "    image_url\n",
    "    \n",
    "    \n",
    "    "
   ]
  },
  {
   "cell_type": "code",
   "execution_count": 5,
   "id": "ccc64e36",
   "metadata": {},
   "outputs": [
    {
     "data": {
      "text/html": [
       "<div>\n",
       "<style scoped>\n",
       "    .dataframe tbody tr th:only-of-type {\n",
       "        vertical-align: middle;\n",
       "    }\n",
       "\n",
       "    .dataframe tbody tr th {\n",
       "        vertical-align: top;\n",
       "    }\n",
       "\n",
       "    .dataframe thead th {\n",
       "        text-align: right;\n",
       "    }\n",
       "</style>\n",
       "<table border=\"1\" class=\"dataframe\">\n",
       "  <thead>\n",
       "    <tr style=\"text-align: right;\">\n",
       "      <th></th>\n",
       "      <th>region</th>\n",
       "      <th>price</th>\n",
       "      <th>year</th>\n",
       "      <th>manufacturer</th>\n",
       "      <th>model</th>\n",
       "      <th>condition</th>\n",
       "      <th>cylinders</th>\n",
       "      <th>fuel</th>\n",
       "      <th>odometer</th>\n",
       "      <th>title_status</th>\n",
       "      <th>transmission</th>\n",
       "      <th>drive</th>\n",
       "      <th>type</th>\n",
       "      <th>paint_color</th>\n",
       "      <th>state</th>\n",
       "      <th>lat</th>\n",
       "      <th>long</th>\n",
       "      <th>posting_date</th>\n",
       "      <th>posting_date2</th>\n",
       "    </tr>\n",
       "  </thead>\n",
       "  <tbody>\n",
       "    <tr>\n",
       "      <th>0</th>\n",
       "      <td>auburn</td>\n",
       "      <td>15000</td>\n",
       "      <td>2013.0</td>\n",
       "      <td>ford</td>\n",
       "      <td>f-150 xlt</td>\n",
       "      <td>excellent</td>\n",
       "      <td>6 cylinders</td>\n",
       "      <td>gas</td>\n",
       "      <td>128000.0</td>\n",
       "      <td>clean</td>\n",
       "      <td>automatic</td>\n",
       "      <td>rwd</td>\n",
       "      <td>truck</td>\n",
       "      <td>black</td>\n",
       "      <td>al</td>\n",
       "      <td>32.5920</td>\n",
       "      <td>-85.518900</td>\n",
       "      <td>2021-05-03T14:02:03-0500</td>\n",
       "      <td>2021-05-03</td>\n",
       "    </tr>\n",
       "    <tr>\n",
       "      <th>1</th>\n",
       "      <td>auburn</td>\n",
       "      <td>27990</td>\n",
       "      <td>2012.0</td>\n",
       "      <td>gmc</td>\n",
       "      <td>sierra 2500 hd extended cab</td>\n",
       "      <td>good</td>\n",
       "      <td>8 cylinders</td>\n",
       "      <td>gas</td>\n",
       "      <td>68696.0</td>\n",
       "      <td>clean</td>\n",
       "      <td>other</td>\n",
       "      <td>4wd</td>\n",
       "      <td>pickup</td>\n",
       "      <td>black</td>\n",
       "      <td>al</td>\n",
       "      <td>32.5900</td>\n",
       "      <td>-85.480000</td>\n",
       "      <td>2021-05-03T13:41:25-0500</td>\n",
       "      <td>2021-05-03</td>\n",
       "    </tr>\n",
       "    <tr>\n",
       "      <th>2</th>\n",
       "      <td>auburn</td>\n",
       "      <td>34590</td>\n",
       "      <td>2016.0</td>\n",
       "      <td>chevrolet</td>\n",
       "      <td>silverado 1500 double</td>\n",
       "      <td>good</td>\n",
       "      <td>6 cylinders</td>\n",
       "      <td>gas</td>\n",
       "      <td>29499.0</td>\n",
       "      <td>clean</td>\n",
       "      <td>other</td>\n",
       "      <td>4wd</td>\n",
       "      <td>pickup</td>\n",
       "      <td>silver</td>\n",
       "      <td>al</td>\n",
       "      <td>32.5900</td>\n",
       "      <td>-85.480000</td>\n",
       "      <td>2021-05-03T12:41:33-0500</td>\n",
       "      <td>2021-05-03</td>\n",
       "    </tr>\n",
       "    <tr>\n",
       "      <th>3</th>\n",
       "      <td>auburn</td>\n",
       "      <td>35000</td>\n",
       "      <td>2019.0</td>\n",
       "      <td>toyota</td>\n",
       "      <td>tacoma</td>\n",
       "      <td>excellent</td>\n",
       "      <td>6 cylinders</td>\n",
       "      <td>gas</td>\n",
       "      <td>43000.0</td>\n",
       "      <td>clean</td>\n",
       "      <td>automatic</td>\n",
       "      <td>4wd</td>\n",
       "      <td>truck</td>\n",
       "      <td>grey</td>\n",
       "      <td>al</td>\n",
       "      <td>32.6013</td>\n",
       "      <td>-85.443974</td>\n",
       "      <td>2021-05-03T12:12:59-0500</td>\n",
       "      <td>2021-05-03</td>\n",
       "    </tr>\n",
       "    <tr>\n",
       "      <th>4</th>\n",
       "      <td>auburn</td>\n",
       "      <td>29990</td>\n",
       "      <td>2016.0</td>\n",
       "      <td>chevrolet</td>\n",
       "      <td>colorado extended cab</td>\n",
       "      <td>good</td>\n",
       "      <td>6 cylinders</td>\n",
       "      <td>gas</td>\n",
       "      <td>17302.0</td>\n",
       "      <td>clean</td>\n",
       "      <td>other</td>\n",
       "      <td>4wd</td>\n",
       "      <td>pickup</td>\n",
       "      <td>red</td>\n",
       "      <td>al</td>\n",
       "      <td>32.5900</td>\n",
       "      <td>-85.480000</td>\n",
       "      <td>2021-05-03T11:31:14-0500</td>\n",
       "      <td>2021-05-03</td>\n",
       "    </tr>\n",
       "    <tr>\n",
       "      <th>5</th>\n",
       "      <td>auburn</td>\n",
       "      <td>38590</td>\n",
       "      <td>2011.0</td>\n",
       "      <td>chevrolet</td>\n",
       "      <td>corvette grand sport</td>\n",
       "      <td>good</td>\n",
       "      <td>8 cylinders</td>\n",
       "      <td>gas</td>\n",
       "      <td>30237.0</td>\n",
       "      <td>clean</td>\n",
       "      <td>other</td>\n",
       "      <td>rwd</td>\n",
       "      <td>other</td>\n",
       "      <td>red</td>\n",
       "      <td>al</td>\n",
       "      <td>32.5900</td>\n",
       "      <td>-85.480000</td>\n",
       "      <td>2021-05-03T07:50:35-0500</td>\n",
       "      <td>2021-05-03</td>\n",
       "    </tr>\n",
       "    <tr>\n",
       "      <th>6</th>\n",
       "      <td>auburn</td>\n",
       "      <td>32990</td>\n",
       "      <td>2017.0</td>\n",
       "      <td>jeep</td>\n",
       "      <td>wrangler unlimited sport</td>\n",
       "      <td>good</td>\n",
       "      <td>6 cylinders</td>\n",
       "      <td>gas</td>\n",
       "      <td>30041.0</td>\n",
       "      <td>clean</td>\n",
       "      <td>other</td>\n",
       "      <td>4wd</td>\n",
       "      <td>other</td>\n",
       "      <td>silver</td>\n",
       "      <td>al</td>\n",
       "      <td>32.5900</td>\n",
       "      <td>-85.480000</td>\n",
       "      <td>2021-05-02T12:22:10-0500</td>\n",
       "      <td>2021-05-02</td>\n",
       "    </tr>\n",
       "    <tr>\n",
       "      <th>7</th>\n",
       "      <td>auburn</td>\n",
       "      <td>37990</td>\n",
       "      <td>2016.0</td>\n",
       "      <td>chevrolet</td>\n",
       "      <td>camaro ss coupe 2d</td>\n",
       "      <td>good</td>\n",
       "      <td>8 cylinders</td>\n",
       "      <td>gas</td>\n",
       "      <td>9704.0</td>\n",
       "      <td>clean</td>\n",
       "      <td>other</td>\n",
       "      <td>rwd</td>\n",
       "      <td>coupe</td>\n",
       "      <td>red</td>\n",
       "      <td>al</td>\n",
       "      <td>32.5900</td>\n",
       "      <td>-85.480000</td>\n",
       "      <td>2021-05-01T12:21:51-0500</td>\n",
       "      <td>2021-05-01</td>\n",
       "    </tr>\n",
       "    <tr>\n",
       "      <th>8</th>\n",
       "      <td>auburn</td>\n",
       "      <td>27990</td>\n",
       "      <td>2018.0</td>\n",
       "      <td>nissan</td>\n",
       "      <td>frontier crew cab pro-4x</td>\n",
       "      <td>good</td>\n",
       "      <td>6 cylinders</td>\n",
       "      <td>gas</td>\n",
       "      <td>37332.0</td>\n",
       "      <td>clean</td>\n",
       "      <td>other</td>\n",
       "      <td>4wd</td>\n",
       "      <td>pickup</td>\n",
       "      <td>silver</td>\n",
       "      <td>al</td>\n",
       "      <td>32.5900</td>\n",
       "      <td>-85.480000</td>\n",
       "      <td>2021-05-01T09:11:35-0500</td>\n",
       "      <td>2021-05-01</td>\n",
       "    </tr>\n",
       "    <tr>\n",
       "      <th>9</th>\n",
       "      <td>auburn</td>\n",
       "      <td>19900</td>\n",
       "      <td>2004.0</td>\n",
       "      <td>ford</td>\n",
       "      <td>f250 super duty</td>\n",
       "      <td>good</td>\n",
       "      <td>8 cylinders</td>\n",
       "      <td>diesel</td>\n",
       "      <td>88000.0</td>\n",
       "      <td>clean</td>\n",
       "      <td>automatic</td>\n",
       "      <td>4wd</td>\n",
       "      <td>pickup</td>\n",
       "      <td>blue</td>\n",
       "      <td>al</td>\n",
       "      <td>32.5475</td>\n",
       "      <td>-85.468200</td>\n",
       "      <td>2021-04-29T17:19:18-0500</td>\n",
       "      <td>2021-04-29</td>\n",
       "    </tr>\n",
       "  </tbody>\n",
       "</table>\n",
       "</div>"
      ],
      "text/plain": [
       "   region  price    year manufacturer                        model  condition  \\\n",
       "0  auburn  15000  2013.0         ford                    f-150 xlt  excellent   \n",
       "1  auburn  27990  2012.0          gmc  sierra 2500 hd extended cab       good   \n",
       "2  auburn  34590  2016.0    chevrolet        silverado 1500 double       good   \n",
       "3  auburn  35000  2019.0       toyota                       tacoma  excellent   \n",
       "4  auburn  29990  2016.0    chevrolet        colorado extended cab       good   \n",
       "5  auburn  38590  2011.0    chevrolet         corvette grand sport       good   \n",
       "6  auburn  32990  2017.0         jeep     wrangler unlimited sport       good   \n",
       "7  auburn  37990  2016.0    chevrolet           camaro ss coupe 2d       good   \n",
       "8  auburn  27990  2018.0       nissan     frontier crew cab pro-4x       good   \n",
       "9  auburn  19900  2004.0         ford              f250 super duty       good   \n",
       "\n",
       "     cylinders    fuel  odometer title_status transmission drive    type  \\\n",
       "0  6 cylinders     gas  128000.0        clean    automatic   rwd   truck   \n",
       "1  8 cylinders     gas   68696.0        clean        other   4wd  pickup   \n",
       "2  6 cylinders     gas   29499.0        clean        other   4wd  pickup   \n",
       "3  6 cylinders     gas   43000.0        clean    automatic   4wd   truck   \n",
       "4  6 cylinders     gas   17302.0        clean        other   4wd  pickup   \n",
       "5  8 cylinders     gas   30237.0        clean        other   rwd   other   \n",
       "6  6 cylinders     gas   30041.0        clean        other   4wd   other   \n",
       "7  8 cylinders     gas    9704.0        clean        other   rwd   coupe   \n",
       "8  6 cylinders     gas   37332.0        clean        other   4wd  pickup   \n",
       "9  8 cylinders  diesel   88000.0        clean    automatic   4wd  pickup   \n",
       "\n",
       "  paint_color state      lat       long              posting_date  \\\n",
       "0       black    al  32.5920 -85.518900  2021-05-03T14:02:03-0500   \n",
       "1       black    al  32.5900 -85.480000  2021-05-03T13:41:25-0500   \n",
       "2      silver    al  32.5900 -85.480000  2021-05-03T12:41:33-0500   \n",
       "3        grey    al  32.6013 -85.443974  2021-05-03T12:12:59-0500   \n",
       "4         red    al  32.5900 -85.480000  2021-05-03T11:31:14-0500   \n",
       "5         red    al  32.5900 -85.480000  2021-05-03T07:50:35-0500   \n",
       "6      silver    al  32.5900 -85.480000  2021-05-02T12:22:10-0500   \n",
       "7         red    al  32.5900 -85.480000  2021-05-01T12:21:51-0500   \n",
       "8      silver    al  32.5900 -85.480000  2021-05-01T09:11:35-0500   \n",
       "9        blue    al  32.5475 -85.468200  2021-04-29T17:19:18-0500   \n",
       "\n",
       "  posting_date2  \n",
       "0    2021-05-03  \n",
       "1    2021-05-03  \n",
       "2    2021-05-03  \n",
       "3    2021-05-03  \n",
       "4    2021-05-03  \n",
       "5    2021-05-03  \n",
       "6    2021-05-02  \n",
       "7    2021-05-01  \n",
       "8    2021-05-01  \n",
       "9    2021-04-29  "
      ]
     },
     "execution_count": 5,
     "metadata": {},
     "output_type": "execute_result"
    }
   ],
   "source": [
    "#Task 1.3\n",
    "UsedVehicle.head(10)"
   ]
  },
  {
   "cell_type": "code",
   "execution_count": 6,
   "id": "44fcf116",
   "metadata": {},
   "outputs": [
    {
     "data": {
      "text/html": [
       "<div>\n",
       "<style scoped>\n",
       "    .dataframe tbody tr th:only-of-type {\n",
       "        vertical-align: middle;\n",
       "    }\n",
       "\n",
       "    .dataframe tbody tr th {\n",
       "        vertical-align: top;\n",
       "    }\n",
       "\n",
       "    .dataframe thead th {\n",
       "        text-align: right;\n",
       "    }\n",
       "</style>\n",
       "<table border=\"1\" class=\"dataframe\">\n",
       "  <thead>\n",
       "    <tr style=\"text-align: right;\">\n",
       "      <th></th>\n",
       "      <th>price</th>\n",
       "      <th>year</th>\n",
       "      <th>odometer</th>\n",
       "      <th>lat</th>\n",
       "      <th>long</th>\n",
       "    </tr>\n",
       "  </thead>\n",
       "  <tbody>\n",
       "    <tr>\n",
       "      <th>count</th>\n",
       "      <td>1.298830e+05</td>\n",
       "      <td>129883.000000</td>\n",
       "      <td>1.298830e+05</td>\n",
       "      <td>129883.000000</td>\n",
       "      <td>129883.000000</td>\n",
       "    </tr>\n",
       "    <tr>\n",
       "      <th>mean</th>\n",
       "      <td>8.460142e+04</td>\n",
       "      <td>2008.978881</td>\n",
       "      <td>1.138283e+05</td>\n",
       "      <td>38.468165</td>\n",
       "      <td>-92.228412</td>\n",
       "    </tr>\n",
       "    <tr>\n",
       "      <th>std</th>\n",
       "      <td>1.499706e+07</td>\n",
       "      <td>10.419513</td>\n",
       "      <td>2.247545e+05</td>\n",
       "      <td>5.528921</td>\n",
       "      <td>17.417677</td>\n",
       "    </tr>\n",
       "    <tr>\n",
       "      <th>min</th>\n",
       "      <td>0.000000e+00</td>\n",
       "      <td>1900.000000</td>\n",
       "      <td>0.000000e+00</td>\n",
       "      <td>-84.122245</td>\n",
       "      <td>-159.719900</td>\n",
       "    </tr>\n",
       "    <tr>\n",
       "      <th>25%</th>\n",
       "      <td>5.500000e+03</td>\n",
       "      <td>2006.000000</td>\n",
       "      <td>5.700000e+04</td>\n",
       "      <td>35.031300</td>\n",
       "      <td>-104.654790</td>\n",
       "    </tr>\n",
       "    <tr>\n",
       "      <th>50%</th>\n",
       "      <td>1.090000e+04</td>\n",
       "      <td>2011.000000</td>\n",
       "      <td>1.039730e+05</td>\n",
       "      <td>39.384750</td>\n",
       "      <td>-86.236592</td>\n",
       "    </tr>\n",
       "    <tr>\n",
       "      <th>75%</th>\n",
       "      <td>2.250000e+04</td>\n",
       "      <td>2015.000000</td>\n",
       "      <td>1.490000e+05</td>\n",
       "      <td>42.249000</td>\n",
       "      <td>-79.949997</td>\n",
       "    </tr>\n",
       "    <tr>\n",
       "      <th>max</th>\n",
       "      <td>3.736929e+09</td>\n",
       "      <td>2022.000000</td>\n",
       "      <td>1.000000e+07</td>\n",
       "      <td>82.252826</td>\n",
       "      <td>173.885502</td>\n",
       "    </tr>\n",
       "  </tbody>\n",
       "</table>\n",
       "</div>"
      ],
      "text/plain": [
       "              price           year      odometer            lat           long\n",
       "count  1.298830e+05  129883.000000  1.298830e+05  129883.000000  129883.000000\n",
       "mean   8.460142e+04    2008.978881  1.138283e+05      38.468165     -92.228412\n",
       "std    1.499706e+07      10.419513  2.247545e+05       5.528921      17.417677\n",
       "min    0.000000e+00    1900.000000  0.000000e+00     -84.122245    -159.719900\n",
       "25%    5.500000e+03    2006.000000  5.700000e+04      35.031300    -104.654790\n",
       "50%    1.090000e+04    2011.000000  1.039730e+05      39.384750     -86.236592\n",
       "75%    2.250000e+04    2015.000000  1.490000e+05      42.249000     -79.949997\n",
       "max    3.736929e+09    2022.000000  1.000000e+07      82.252826     173.885502"
      ]
     },
     "execution_count": 6,
     "metadata": {},
     "output_type": "execute_result"
    }
   ],
   "source": [
    "#Task 1.4\n",
    "UsedVehicle.describe()"
   ]
  },
  {
   "cell_type": "code",
   "execution_count": 7,
   "id": "18069b01",
   "metadata": {},
   "outputs": [
    {
     "data": {
      "text/plain": [
       "array([ 5500., 10900., 22500.])"
      ]
     },
     "execution_count": 7,
     "metadata": {},
     "output_type": "execute_result"
    }
   ],
   "source": [
    "#Task 2.0\n",
    "#take a look what is 25%, 50% and 75% of credit of loan\n",
    "# median loan 5995, 13991, 26500\n",
    "np.percentile(UsedVehicle['price'],[25,50,75])"
   ]
  },
  {
   "cell_type": "code",
   "execution_count": 8,
   "id": "03f7f12d",
   "metadata": {},
   "outputs": [
    {
     "data": {
      "text/plain": [
       "array(['auburn', 'birmingham', 'dothan', 'florence / muscle shoals',\n",
       "       'gadsden-anniston', 'huntsville / decatur', 'mobile', 'montgomery',\n",
       "       'tuscaloosa', 'anchorage / mat-su', 'fairbanks', 'kenai peninsula',\n",
       "       'southeast alaska', 'flagstaff / sedona', 'mohave county',\n",
       "       'phoenix', 'prescott', 'show low', 'sierra vista', 'tucson',\n",
       "       'yuma', 'fayetteville', 'fort smith', 'jonesboro', 'little rock',\n",
       "       'texarkana', 'bakersfield', 'chico', 'fresno / madera',\n",
       "       'gold country', 'hanford-corcoran', 'humboldt county',\n",
       "       'imperial county', 'inland empire', 'los angeles',\n",
       "       'mendocino county', 'merced', 'modesto', 'monterey bay',\n",
       "       'orange county', 'palm springs', 'redding', 'reno / tahoe',\n",
       "       'sacramento', 'san diego', 'san luis obispo', 'santa barbara',\n",
       "       'santa maria', 'SF bay area', 'siskiyou county', 'stockton',\n",
       "       'susanville', 'ventura county', 'visalia-tulare', 'yuba-sutter',\n",
       "       'boulder', 'colorado springs', 'denver', 'eastern CO',\n",
       "       'fort collins / north CO', 'high rockies', 'pueblo',\n",
       "       'western slope', 'eastern CT', 'hartford', 'new haven',\n",
       "       'northwest CT', 'washington, DC', 'delaware', 'daytona beach',\n",
       "       'florida keys', 'ft myers / SW florida', 'gainesville',\n",
       "       'heartland florida', 'jacksonville', 'lakeland',\n",
       "       'north central FL', 'ocala', 'okaloosa / walton', 'orlando',\n",
       "       'panama city', 'pensacola', 'sarasota-bradenton', 'south florida',\n",
       "       'space coast', 'st augustine', 'tallahassee', 'tampa bay area',\n",
       "       'treasure coast', 'albany', 'athens', 'atlanta', 'augusta',\n",
       "       'brunswick', 'columbus', 'macon / warner robins', 'northwest GA',\n",
       "       'savannah / hinesville', 'statesboro', 'valdosta', 'hawaii',\n",
       "       'boise', 'east idaho', 'lewiston / clarkston', 'pullman / moscow',\n",
       "       \"spokane / coeur d'alene\", 'twin falls', 'bloomington-normal',\n",
       "       'champaign urbana', 'chicago', 'decatur', 'la salle co',\n",
       "       'mattoon-charleston', 'peoria', 'quad cities, IA/IL', 'rockford',\n",
       "       'southern illinois', 'springfield', 'st louis, MO', 'western IL',\n",
       "       'bloomington', 'evansville', 'fort wayne', 'indianapolis',\n",
       "       'kokomo', 'lafayette / west lafayette', 'muncie / anderson',\n",
       "       'richmond', 'south bend / michiana', 'terre haute', 'ames',\n",
       "       'cedar rapids', 'des moines', 'dubuque', 'fort dodge', 'iowa city',\n",
       "       'mason city', 'omaha / council bluffs', 'sioux city',\n",
       "       'southeast IA', 'waterloo / cedar falls', 'kansas city, MO',\n",
       "       'lawrence', 'manhattan', 'northwest KS', 'salina', 'southeast KS',\n",
       "       'southwest KS', 'topeka', 'wichita', 'bowling green',\n",
       "       'eastern kentucky', 'huntington-ashland', 'lexington',\n",
       "       'louisville', 'owensboro', 'western KY', 'baton rouge',\n",
       "       'central louisiana', 'houma', 'lafayette', 'lake charles',\n",
       "       'monroe', 'new orleans', 'shreveport', 'maine', 'annapolis',\n",
       "       'baltimore', 'cumberland valley', 'eastern shore', 'frederick',\n",
       "       'southern maryland', 'western maryland', 'boston',\n",
       "       'cape cod / islands', 'south coast', 'western massachusetts',\n",
       "       'worcester / central MA', 'ann arbor', 'battle creek',\n",
       "       'central michigan', 'detroit metro', 'flint', 'grand rapids',\n",
       "       'holland', 'jackson', 'kalamazoo', 'lansing', 'muskegon',\n",
       "       'northern michigan', 'port huron', 'saginaw-midland-baycity',\n",
       "       'southwest michigan', 'the thumb', 'upper peninsula', 'bemidji',\n",
       "       'brainerd', 'duluth / superior', 'fargo / moorhead', 'mankato',\n",
       "       'minneapolis / st paul', 'rochester', 'southwest MN', 'st cloud',\n",
       "       'gulfport / biloxi', 'hattiesburg', 'meridian',\n",
       "       'north mississippi', 'southwest MS', 'columbia / jeff city',\n",
       "       'joplin', 'kansas city', 'kirksville', 'lake of the ozarks',\n",
       "       'southeast missouri', 'st joseph', 'st louis', 'billings',\n",
       "       'bozeman', 'butte', 'eastern montana', 'great falls', 'helena',\n",
       "       'kalispell', 'missoula', 'asheville', 'boone', 'charlotte',\n",
       "       'eastern NC', 'greensboro', 'hickory / lenoir', 'outer banks',\n",
       "       'raleigh / durham / CH', 'wilmington', 'winston-salem',\n",
       "       'grand island', 'lincoln', 'north platte',\n",
       "       'scottsbluff / panhandle', 'elko', 'las vegas', 'central NJ',\n",
       "       'jersey shore', 'north jersey', 'south jersey', 'albuquerque',\n",
       "       'clovis / portales', 'farmington', 'las cruces',\n",
       "       'roswell / carlsbad', 'santa fe / taos', 'binghamton', 'buffalo',\n",
       "       'catskills', 'chautauqua', 'elmira-corning', 'finger lakes',\n",
       "       'glens falls', 'hudson valley', 'ithaca', 'long island',\n",
       "       'new york city', 'oneonta', 'plattsburgh-adirondacks',\n",
       "       'potsdam-canton-massena', 'syracuse', 'twin tiers NY/PA',\n",
       "       'utica-rome-oneida', 'watertown', 'new hampshire', 'bismarck',\n",
       "       'grand forks', 'north dakota', 'akron / canton', 'ashtabula',\n",
       "       'chillicothe', 'cincinnati', 'cleveland', 'dayton / springfield',\n",
       "       'lima / findlay', 'mansfield', 'northern panhandle',\n",
       "       'parkersburg-marietta', 'sandusky', 'toledo', 'tuscarawas co',\n",
       "       'youngstown', 'zanesville / cambridge', 'fort smith, AR', 'lawton',\n",
       "       'northwest OK', 'oklahoma city', 'stillwater', 'texoma', 'tulsa',\n",
       "       'bend', 'corvallis/albany', 'east oregon', 'eugene',\n",
       "       'klamath falls', 'medford-ashland', 'oregon coast', 'portland',\n",
       "       'roseburg', 'salem', 'altoona-johnstown', 'erie', 'harrisburg',\n",
       "       'lancaster', 'lehigh valley', 'meadville', 'philadelphia',\n",
       "       'pittsburgh', 'poconos', 'reading', 'scranton / wilkes-barre',\n",
       "       'state college', 'williamsport', 'york', 'rhode island',\n",
       "       'charleston', 'columbia', 'florence', 'greenville / upstate',\n",
       "       'hilton head', 'myrtle beach', 'northeast SD',\n",
       "       'pierre / central SD', 'rapid city / west SD',\n",
       "       'sioux falls / SE SD', 'south dakota', 'chattanooga',\n",
       "       'clarksville', 'cookeville', 'knoxville', 'memphis', 'nashville',\n",
       "       'tri-cities', 'abilene', 'amarillo', 'austin',\n",
       "       'beaumont / port arthur', 'brownsville', 'college station',\n",
       "       'corpus christi', 'dallas / fort worth', 'deep east texas',\n",
       "       'del rio / eagle pass', 'el paso', 'galveston', 'houston',\n",
       "       'killeen / temple / ft hood', 'laredo', 'lubbock',\n",
       "       'mcallen / edinburg', 'odessa / midland', 'san angelo',\n",
       "       'san antonio', 'san marcos', 'southwest TX', 'tyler / east TX',\n",
       "       'victoria', 'waco', 'wichita falls', 'logan', 'ogden-clearfield',\n",
       "       'provo / orem', 'salt lake city', 'st george', 'vermont',\n",
       "       'charlottesville', 'danville', 'fredericksburg', 'harrisonburg',\n",
       "       'lynchburg', 'new river valley', 'norfolk / hampton roads',\n",
       "       'roanoke', 'southwest VA', 'winchester', 'bellingham',\n",
       "       'kennewick-pasco-richland', 'moses lake', 'olympic peninsula',\n",
       "       'seattle-tacoma', 'skagit / island / SJI', 'wenatchee', 'yakima',\n",
       "       'eastern panhandle', 'morgantown', 'southern WV',\n",
       "       'west virginia (old)', 'appleton-oshkosh-FDL', 'eau claire',\n",
       "       'green bay', 'janesville', 'kenosha-racine', 'la crosse',\n",
       "       'madison', 'milwaukee', 'northern WI', 'sheboygan', 'wausau',\n",
       "       'wyoming'], dtype=object)"
      ]
     },
     "execution_count": 8,
     "metadata": {},
     "output_type": "execute_result"
    }
   ],
   "source": [
    "#Task 3.1.0\n",
    "UsedVehicle['region'].unique()"
   ]
  },
  {
   "cell_type": "code",
   "execution_count": 9,
   "id": "098dcec5",
   "metadata": {},
   "outputs": [
    {
     "name": "stdout",
     "output_type": "stream",
     "text": [
      "404\n"
     ]
    }
   ],
   "source": [
    "#Task 3.1.1\n",
    "\n",
    "a=len(UsedVehicle['region'].unique())\n",
    "print(a)"
   ]
  },
  {
   "cell_type": "code",
   "execution_count": 10,
   "id": "87c8dcca",
   "metadata": {},
   "outputs": [
    {
     "data": {
      "text/plain": [
       "array(['ford', 'gmc', 'chevrolet', 'toyota', 'jeep', 'nissan', 'honda',\n",
       "       'dodge', 'chrysler', 'ram', 'mercedes-benz', 'unknown', 'infiniti',\n",
       "       'bmw', 'volkswagen', 'mazda', 'porsche', 'lexus', 'ferrari',\n",
       "       'audi', 'mitsubishi', 'kia', 'pontiac', 'hyundai', 'fiat', 'acura',\n",
       "       'cadillac', 'rover', 'lincoln', 'jaguar', 'saturn', 'volvo',\n",
       "       'alfa-romeo', 'buick', 'subaru', 'mini', 'mercury', 'tesla',\n",
       "       'harley-davidson', 'datsun', 'land rover', 'aston-martin'],\n",
       "      dtype=object)"
      ]
     },
     "execution_count": 10,
     "metadata": {},
     "output_type": "execute_result"
    }
   ],
   "source": [
    "#Task 3.2.0\n",
    "\n",
    "UsedVehicle['manufacturer'].unique()"
   ]
  },
  {
   "cell_type": "code",
   "execution_count": 11,
   "id": "ce5f5bd4",
   "metadata": {},
   "outputs": [
    {
     "name": "stdout",
     "output_type": "stream",
     "text": [
      "42\n"
     ]
    }
   ],
   "source": [
    "#Task 3.2.1\n",
    "\n",
    "\n",
    "a=len(UsedVehicle['manufacturer'].unique())\n",
    "print(a)"
   ]
  },
  {
   "cell_type": "code",
   "execution_count": 12,
   "id": "72a9b595",
   "metadata": {},
   "outputs": [
    {
     "data": {
      "text/plain": [
       "array([2013., 2012., 2016., 2019., 2011., 2017., 2018., 2004., 2001.,\n",
       "       2014., 2003., 2008., 2007., 2005., 2020., 1966., 2006., 2010.,\n",
       "       2009., 2002., 2015., 1995., 1979., 1974., 1996., 1987., 1955.,\n",
       "       1972., 2021., 1994., 1999., 1988., 2000., 1984., 1998., 1992.,\n",
       "       1958., 1978., 1976., 1991., 1953., 1963., 1968., 1997., 1993.,\n",
       "       1990., 1982., 1948., 1986., 1983., 1951., 1936., 1980., 1989.,\n",
       "       1967., 1981., 1985., 1973., 1947., 1962., 1975., 1964., 1977.,\n",
       "       1971., 1970., 1946., 1969., 1957., 1959., 1930., 1965., 1928.,\n",
       "       1954., 1933., 1952., 1929., 1932., 1956., 1950., 1924., 1960.,\n",
       "       1927., 1939., 1923., 1934., 1940., 1961., 1935., 1942., 1918.,\n",
       "       1938., 1949., 1900., 1931., 1926., 1937., 1913., 1941., 2022.,\n",
       "       1925., 1945., 1901., 1905., 1944., 1920.])"
      ]
     },
     "execution_count": 12,
     "metadata": {},
     "output_type": "execute_result"
    }
   ],
   "source": [
    "#Task 3.3.0\n",
    "#there is 113 years of cars.  it might be intersting to find which vehicle \n",
    "#at which year sells the most car\n",
    "UsedVehicle['year'].unique()"
   ]
  },
  {
   "cell_type": "code",
   "execution_count": 13,
   "id": "ef6c461a",
   "metadata": {},
   "outputs": [
    {
     "name": "stdout",
     "output_type": "stream",
     "text": [
      "105\n"
     ]
    }
   ],
   "source": [
    "#Task 3.3.1\n",
    "a=len(UsedVehicle['year'].unique())\n",
    "print(a)"
   ]
  },
  {
   "cell_type": "code",
   "execution_count": 14,
   "id": "958b9fed",
   "metadata": {},
   "outputs": [
    {
     "data": {
      "text/plain": [
       "array(['f-150 xlt', 'sierra 2500 hd extended cab',\n",
       "       'silverado 1500 double', ..., 'rx& gls sport', 'gand wagoneer',\n",
       "       'Paige Glenbrook Touring'], dtype=object)"
      ]
     },
     "execution_count": 14,
     "metadata": {},
     "output_type": "execute_result"
    }
   ],
   "source": [
    "#Task 3.4.0\n",
    "#Looking at the different model it might be hard to find something interesting out of it\n",
    "UsedVehicle['model'].unique()"
   ]
  },
  {
   "cell_type": "code",
   "execution_count": 15,
   "id": "872b33d6",
   "metadata": {},
   "outputs": [
    {
     "name": "stdout",
     "output_type": "stream",
     "text": [
      "14785\n"
     ]
    }
   ],
   "source": [
    "#Task 3.4.1\n",
    "a=len(UsedVehicle['model'].unique())\n",
    "print(a)"
   ]
  },
  {
   "cell_type": "code",
   "execution_count": 16,
   "id": "23395ae4",
   "metadata": {},
   "outputs": [
    {
     "data": {
      "text/plain": [
       "array(['excellent', 'good', 'like new', 'new', 'fair', 'salvage'],\n",
       "      dtype=object)"
      ]
     },
     "execution_count": 16,
     "metadata": {},
     "output_type": "execute_result"
    }
   ],
   "source": [
    "#Task 3.5.0\n",
    "#Find which type of cars are the sold\n",
    "#\n",
    "UsedVehicle['condition'].unique()"
   ]
  },
  {
   "cell_type": "code",
   "execution_count": 17,
   "id": "989c4d6c",
   "metadata": {},
   "outputs": [
    {
     "name": "stdout",
     "output_type": "stream",
     "text": [
      "6\n"
     ]
    }
   ],
   "source": [
    "#Task 3.5.1\n",
    "a=len(UsedVehicle['condition'].unique())\n",
    "print(a)"
   ]
  },
  {
   "cell_type": "code",
   "execution_count": 18,
   "id": "d91d961c",
   "metadata": {},
   "outputs": [
    {
     "data": {
      "text/plain": [
       "array(['gas', 'diesel', 'other', 'hybrid', 'electric'], dtype=object)"
      ]
     },
     "execution_count": 18,
     "metadata": {},
     "output_type": "execute_result"
    }
   ],
   "source": [
    "#Task 3.6.0\n",
    "#type of cars are being the class\n",
    "UsedVehicle['fuel'].unique()"
   ]
  },
  {
   "cell_type": "code",
   "execution_count": 19,
   "id": "96d750a6",
   "metadata": {},
   "outputs": [
    {
     "name": "stdout",
     "output_type": "stream",
     "text": [
      "5\n"
     ]
    }
   ],
   "source": [
    "#Task 3.6.1\n",
    "a=len(UsedVehicle['fuel'].unique())\n",
    "print(a)"
   ]
  },
  {
   "cell_type": "code",
   "execution_count": 20,
   "id": "04cb1ac1",
   "metadata": {},
   "outputs": [
    {
     "data": {
      "text/plain": [
       "array(['clean', 'rebuilt', 'salvage', 'missing', 'lien', 'parts only'],\n",
       "      dtype=object)"
      ]
     },
     "execution_count": 20,
     "metadata": {},
     "output_type": "execute_result"
    }
   ],
   "source": [
    "#Task 3.7.0\n",
    "#type of car sold\n",
    "UsedVehicle['title_status'].unique()"
   ]
  },
  {
   "cell_type": "code",
   "execution_count": 21,
   "id": "eaa691b6",
   "metadata": {},
   "outputs": [
    {
     "name": "stdout",
     "output_type": "stream",
     "text": [
      "6\n"
     ]
    }
   ],
   "source": [
    "#Task 3.7.1\n",
    "a=len(UsedVehicle['title_status'].unique())\n",
    "print(a)"
   ]
  },
  {
   "cell_type": "code",
   "execution_count": 22,
   "id": "dade507a",
   "metadata": {},
   "outputs": [
    {
     "data": {
      "text/plain": [
       "array(['automatic', 'other', 'manual', 'unknown'], dtype=object)"
      ]
     },
     "execution_count": 22,
     "metadata": {},
     "output_type": "execute_result"
    }
   ],
   "source": [
    "#Task 3.8.0\n",
    "UsedVehicle['transmission'].unique()"
   ]
  },
  {
   "cell_type": "code",
   "execution_count": 23,
   "id": "9c6ba5a8",
   "metadata": {},
   "outputs": [
    {
     "name": "stdout",
     "output_type": "stream",
     "text": [
      "4\n"
     ]
    }
   ],
   "source": [
    "#Task 3.8.1\n",
    "a=len(UsedVehicle['transmission'].unique())\n",
    "print(a)"
   ]
  },
  {
   "cell_type": "code",
   "execution_count": 24,
   "id": "b88803cd",
   "metadata": {},
   "outputs": [
    {
     "data": {
      "text/plain": [
       "array(['rwd', '4wd', 'fwd'], dtype=object)"
      ]
     },
     "execution_count": 24,
     "metadata": {},
     "output_type": "execute_result"
    }
   ],
   "source": [
    "#Task 3.9.0\n",
    "UsedVehicle['drive'].unique()"
   ]
  },
  {
   "cell_type": "code",
   "execution_count": 25,
   "id": "9403feb9",
   "metadata": {},
   "outputs": [
    {
     "name": "stdout",
     "output_type": "stream",
     "text": [
      "3\n"
     ]
    }
   ],
   "source": [
    "#Task 3.9.1\n",
    "a=len(UsedVehicle['drive'].unique())\n",
    "print(a)"
   ]
  },
  {
   "cell_type": "markdown",
   "id": "cd7729ac",
   "metadata": {},
   "source": [
    "#Task 3.10\n",
    "#verify this is correct\n",
    "sns.lineplot(x=UsedVehicle['year'],y=UsedVehicle['price'].mean(), data =UsedVehicle)\n"
   ]
  },
  {
   "cell_type": "code",
   "execution_count": 28,
   "id": "1504e0d7",
   "metadata": {},
   "outputs": [
    {
     "data": {
      "text/plain": [
       "array(['truck', 'pickup', 'other', 'coupe', 'mini-van', 'SUV', 'sedan',\n",
       "       'offroad', 'bus', 'van', 'convertible', 'unknown', 'hatchback',\n",
       "       'wagon'], dtype=object)"
      ]
     },
     "execution_count": 28,
     "metadata": {},
     "output_type": "execute_result"
    }
   ],
   "source": [
    "#Task 3.11.0\n",
    "UsedVehicle['type'].unique()"
   ]
  },
  {
   "cell_type": "code",
   "execution_count": 29,
   "id": "ef9ddba3",
   "metadata": {},
   "outputs": [
    {
     "data": {
      "text/plain": [
       "type   year  \n",
       "SUV    1900.0    38250.000000\n",
       "       1946.0     8000.000000\n",
       "       1955.0    12500.000000\n",
       "       1957.0     2500.000000\n",
       "       1959.0    17500.000000\n",
       "                     ...     \n",
       "wagon  2017.0    20310.209302\n",
       "       2018.0    11606.109489\n",
       "       2019.0    24060.772727\n",
       "       2020.0    26849.454545\n",
       "       2021.0    30995.000000\n",
       "Name: price, Length: 1029, dtype: float64"
      ]
     },
     "execution_count": 29,
     "metadata": {},
     "output_type": "execute_result"
    }
   ],
   "source": [
    "#Task 3.11.1\n",
    "UsedVehicle_new02=UsedVehicle.groupby(['type','year'])['price'].mean()\n",
    "UsedVehicle_new02"
   ]
  },
  {
   "cell_type": "code",
   "execution_count": 30,
   "id": "d0710bf0",
   "metadata": {},
   "outputs": [
    {
     "name": "stdout",
     "output_type": "stream",
     "text": [
      "14\n"
     ]
    }
   ],
   "source": [
    "#Task 3.11.2\n",
    "a=len(UsedVehicle['type'].unique())\n",
    "print(a)"
   ]
  },
  {
   "cell_type": "markdown",
   "id": "20239bae",
   "metadata": {},
   "source": [
    "There are 14 type of cars. i want to see what is average price\n",
    "From below the least expesnive is hatchback. 1/4 of data is unknown ['type'] of vehicle"
   ]
  },
  {
   "cell_type": "code",
   "execution_count": 31,
   "id": "1e582595",
   "metadata": {},
   "outputs": [
    {
     "data": {
      "text/plain": [
       "type\n",
       "SUV             13499.785301\n",
       "bus             17387.722222\n",
       "convertible     17047.322641\n",
       "coupe           20482.105021\n",
       "hatchback        8528.266509\n",
       "mini-van         8936.636169\n",
       "offroad         16385.389432\n",
       "other           27363.403788\n",
       "pickup         409530.501355\n",
       "sedan           14055.911622\n",
       "truck           29845.644015\n",
       "unknown        412947.133533\n",
       "van             16554.883754\n",
       "wagon           10125.583175\n",
       "Name: price, dtype: float64"
      ]
     },
     "execution_count": 31,
     "metadata": {},
     "output_type": "execute_result"
    }
   ],
   "source": [
    "#Task 3.11.3\n",
    "UsedVehicle_new02=UsedVehicle.groupby(['type'])['price'].mean()\n",
    "UsedVehicle_new02"
   ]
  },
  {
   "cell_type": "code",
   "execution_count": 32,
   "id": "8a703268",
   "metadata": {},
   "outputs": [
    {
     "data": {
      "text/plain": [
       "array(['black', 'silver', 'grey', 'red', 'blue', 'white', 'brown',\n",
       "       'yellow', 'green', 'custom', 'purple', 'orange'], dtype=object)"
      ]
     },
     "execution_count": 32,
     "metadata": {},
     "output_type": "execute_result"
    }
   ],
   "source": [
    "#Task 3.12.0\n",
    "UsedVehicle['paint_color'].unique()"
   ]
  },
  {
   "cell_type": "code",
   "execution_count": 33,
   "id": "b300519b",
   "metadata": {},
   "outputs": [
    {
     "name": "stdout",
     "output_type": "stream",
     "text": [
      "12\n"
     ]
    }
   ],
   "source": [
    "#Task 3.12.1\n",
    "a=len(UsedVehicle['paint_color'].unique())\n",
    "print(a)"
   ]
  },
  {
   "cell_type": "code",
   "execution_count": 36,
   "id": "3e1d1934",
   "metadata": {},
   "outputs": [
    {
     "data": {
      "text/plain": [
       "array(['al', 'ak', 'az', 'ar', 'ca', 'co', 'ct', 'dc', 'de', 'fl', 'ga',\n",
       "       'hi', 'id', 'il', 'in', 'ia', 'ks', 'ky', 'la', 'me', 'md', 'ma',\n",
       "       'mi', 'mn', 'ms', 'mo', 'mt', 'nc', 'ne', 'nv', 'nj', 'nm', 'ny',\n",
       "       'nh', 'nd', 'oh', 'ok', 'or', 'pa', 'ri', 'sc', 'sd', 'tn', 'tx',\n",
       "       'ut', 'vt', 'va', 'wa', 'wv', 'wi', 'wy'], dtype=object)"
      ]
     },
     "execution_count": 36,
     "metadata": {},
     "output_type": "execute_result"
    }
   ],
   "source": [
    "#Task 3.14.0\n",
    "UsedVehicle['state'].unique()"
   ]
  },
  {
   "cell_type": "code",
   "execution_count": 37,
   "id": "c8cf35c8",
   "metadata": {},
   "outputs": [
    {
     "name": "stdout",
     "output_type": "stream",
     "text": [
      "51\n"
     ]
    }
   ],
   "source": [
    "#Task 3.14.1\n",
    "a=len(UsedVehicle['state'].unique())\n",
    "print(a)"
   ]
  },
  {
   "cell_type": "markdown",
   "id": "8a6decb2",
   "metadata": {},
   "source": [
    "there is 51 states and there are only 50 states.  I figured out they used DC as a state.  I will also compare what stated vs type of cars sold"
   ]
  },
  {
   "cell_type": "code",
   "execution_count": null,
   "id": "bb50b808",
   "metadata": {},
   "outputs": [],
   "source": [
    "#Task 3.14.2\n"
   ]
  },
  {
   "cell_type": "code",
   "execution_count": 38,
   "id": "1be4620a",
   "metadata": {},
   "outputs": [
    {
     "data": {
      "text/html": [
       "<div>\n",
       "<style scoped>\n",
       "    .dataframe tbody tr th:only-of-type {\n",
       "        vertical-align: middle;\n",
       "    }\n",
       "\n",
       "    .dataframe tbody tr th {\n",
       "        vertical-align: top;\n",
       "    }\n",
       "\n",
       "    .dataframe thead th {\n",
       "        text-align: right;\n",
       "    }\n",
       "</style>\n",
       "<table border=\"1\" class=\"dataframe\">\n",
       "  <thead>\n",
       "    <tr style=\"text-align: right;\">\n",
       "      <th>type</th>\n",
       "      <th>SUV</th>\n",
       "      <th>bus</th>\n",
       "      <th>convertible</th>\n",
       "      <th>coupe</th>\n",
       "      <th>hatchback</th>\n",
       "      <th>mini-van</th>\n",
       "      <th>offroad</th>\n",
       "      <th>other</th>\n",
       "      <th>pickup</th>\n",
       "      <th>sedan</th>\n",
       "      <th>truck</th>\n",
       "      <th>unknown</th>\n",
       "      <th>van</th>\n",
       "      <th>wagon</th>\n",
       "    </tr>\n",
       "    <tr>\n",
       "      <th>state</th>\n",
       "      <th></th>\n",
       "      <th></th>\n",
       "      <th></th>\n",
       "      <th></th>\n",
       "      <th></th>\n",
       "      <th></th>\n",
       "      <th></th>\n",
       "      <th></th>\n",
       "      <th></th>\n",
       "      <th></th>\n",
       "      <th></th>\n",
       "      <th></th>\n",
       "      <th></th>\n",
       "      <th></th>\n",
       "    </tr>\n",
       "  </thead>\n",
       "  <tbody>\n",
       "    <tr>\n",
       "      <th>ak</th>\n",
       "      <td>282.0</td>\n",
       "      <td>NaN</td>\n",
       "      <td>10.0</td>\n",
       "      <td>35.0</td>\n",
       "      <td>43.0</td>\n",
       "      <td>34.0</td>\n",
       "      <td>13.0</td>\n",
       "      <td>5.0</td>\n",
       "      <td>67.0</td>\n",
       "      <td>237.0</td>\n",
       "      <td>176.0</td>\n",
       "      <td>53.0</td>\n",
       "      <td>17.0</td>\n",
       "      <td>24.0</td>\n",
       "    </tr>\n",
       "    <tr>\n",
       "      <th>al</th>\n",
       "      <td>297.0</td>\n",
       "      <td>6.0</td>\n",
       "      <td>53.0</td>\n",
       "      <td>89.0</td>\n",
       "      <td>34.0</td>\n",
       "      <td>24.0</td>\n",
       "      <td>5.0</td>\n",
       "      <td>72.0</td>\n",
       "      <td>172.0</td>\n",
       "      <td>279.0</td>\n",
       "      <td>278.0</td>\n",
       "      <td>80.0</td>\n",
       "      <td>70.0</td>\n",
       "      <td>12.0</td>\n",
       "    </tr>\n",
       "    <tr>\n",
       "      <th>ar</th>\n",
       "      <td>237.0</td>\n",
       "      <td>2.0</td>\n",
       "      <td>23.0</td>\n",
       "      <td>87.0</td>\n",
       "      <td>42.0</td>\n",
       "      <td>17.0</td>\n",
       "      <td>6.0</td>\n",
       "      <td>44.0</td>\n",
       "      <td>124.0</td>\n",
       "      <td>223.0</td>\n",
       "      <td>187.0</td>\n",
       "      <td>220.0</td>\n",
       "      <td>23.0</td>\n",
       "      <td>10.0</td>\n",
       "    </tr>\n",
       "    <tr>\n",
       "      <th>az</th>\n",
       "      <td>493.0</td>\n",
       "      <td>5.0</td>\n",
       "      <td>82.0</td>\n",
       "      <td>193.0</td>\n",
       "      <td>75.0</td>\n",
       "      <td>59.0</td>\n",
       "      <td>28.0</td>\n",
       "      <td>104.0</td>\n",
       "      <td>303.0</td>\n",
       "      <td>620.0</td>\n",
       "      <td>326.0</td>\n",
       "      <td>201.0</td>\n",
       "      <td>74.0</td>\n",
       "      <td>35.0</td>\n",
       "    </tr>\n",
       "    <tr>\n",
       "      <th>ca</th>\n",
       "      <td>2665.0</td>\n",
       "      <td>24.0</td>\n",
       "      <td>405.0</td>\n",
       "      <td>1124.0</td>\n",
       "      <td>627.0</td>\n",
       "      <td>253.0</td>\n",
       "      <td>100.0</td>\n",
       "      <td>480.0</td>\n",
       "      <td>1336.0</td>\n",
       "      <td>4154.0</td>\n",
       "      <td>1496.0</td>\n",
       "      <td>813.0</td>\n",
       "      <td>324.0</td>\n",
       "      <td>344.0</td>\n",
       "    </tr>\n",
       "    <tr>\n",
       "      <th>co</th>\n",
       "      <td>802.0</td>\n",
       "      <td>10.0</td>\n",
       "      <td>68.0</td>\n",
       "      <td>167.0</td>\n",
       "      <td>109.0</td>\n",
       "      <td>38.0</td>\n",
       "      <td>25.0</td>\n",
       "      <td>70.0</td>\n",
       "      <td>242.0</td>\n",
       "      <td>566.0</td>\n",
       "      <td>305.0</td>\n",
       "      <td>355.0</td>\n",
       "      <td>65.0</td>\n",
       "      <td>83.0</td>\n",
       "    </tr>\n",
       "    <tr>\n",
       "      <th>ct</th>\n",
       "      <td>266.0</td>\n",
       "      <td>1.0</td>\n",
       "      <td>61.0</td>\n",
       "      <td>108.0</td>\n",
       "      <td>110.0</td>\n",
       "      <td>30.0</td>\n",
       "      <td>6.0</td>\n",
       "      <td>85.0</td>\n",
       "      <td>215.0</td>\n",
       "      <td>469.0</td>\n",
       "      <td>150.0</td>\n",
       "      <td>133.0</td>\n",
       "      <td>27.0</td>\n",
       "      <td>62.0</td>\n",
       "    </tr>\n",
       "    <tr>\n",
       "      <th>dc</th>\n",
       "      <td>156.0</td>\n",
       "      <td>3.0</td>\n",
       "      <td>29.0</td>\n",
       "      <td>55.0</td>\n",
       "      <td>42.0</td>\n",
       "      <td>19.0</td>\n",
       "      <td>2.0</td>\n",
       "      <td>33.0</td>\n",
       "      <td>62.0</td>\n",
       "      <td>270.0</td>\n",
       "      <td>51.0</td>\n",
       "      <td>63.0</td>\n",
       "      <td>24.0</td>\n",
       "      <td>42.0</td>\n",
       "    </tr>\n",
       "    <tr>\n",
       "      <th>de</th>\n",
       "      <td>75.0</td>\n",
       "      <td>1.0</td>\n",
       "      <td>15.0</td>\n",
       "      <td>30.0</td>\n",
       "      <td>6.0</td>\n",
       "      <td>8.0</td>\n",
       "      <td>1.0</td>\n",
       "      <td>4.0</td>\n",
       "      <td>21.0</td>\n",
       "      <td>126.0</td>\n",
       "      <td>75.0</td>\n",
       "      <td>49.0</td>\n",
       "      <td>4.0</td>\n",
       "      <td>17.0</td>\n",
       "    </tr>\n",
       "    <tr>\n",
       "      <th>fl</th>\n",
       "      <td>1645.0</td>\n",
       "      <td>25.0</td>\n",
       "      <td>433.0</td>\n",
       "      <td>729.0</td>\n",
       "      <td>275.0</td>\n",
       "      <td>221.0</td>\n",
       "      <td>32.0</td>\n",
       "      <td>210.0</td>\n",
       "      <td>912.0</td>\n",
       "      <td>2469.0</td>\n",
       "      <td>1124.0</td>\n",
       "      <td>476.0</td>\n",
       "      <td>211.0</td>\n",
       "      <td>262.0</td>\n",
       "    </tr>\n",
       "    <tr>\n",
       "      <th>ga</th>\n",
       "      <td>304.0</td>\n",
       "      <td>3.0</td>\n",
       "      <td>59.0</td>\n",
       "      <td>185.0</td>\n",
       "      <td>57.0</td>\n",
       "      <td>32.0</td>\n",
       "      <td>11.0</td>\n",
       "      <td>118.0</td>\n",
       "      <td>192.0</td>\n",
       "      <td>394.0</td>\n",
       "      <td>279.0</td>\n",
       "      <td>74.0</td>\n",
       "      <td>42.0</td>\n",
       "      <td>15.0</td>\n",
       "    </tr>\n",
       "    <tr>\n",
       "      <th>hi</th>\n",
       "      <td>154.0</td>\n",
       "      <td>2.0</td>\n",
       "      <td>17.0</td>\n",
       "      <td>26.0</td>\n",
       "      <td>39.0</td>\n",
       "      <td>17.0</td>\n",
       "      <td>4.0</td>\n",
       "      <td>6.0</td>\n",
       "      <td>38.0</td>\n",
       "      <td>170.0</td>\n",
       "      <td>108.0</td>\n",
       "      <td>52.0</td>\n",
       "      <td>25.0</td>\n",
       "      <td>7.0</td>\n",
       "    </tr>\n",
       "    <tr>\n",
       "      <th>ia</th>\n",
       "      <td>737.0</td>\n",
       "      <td>4.0</td>\n",
       "      <td>109.0</td>\n",
       "      <td>163.0</td>\n",
       "      <td>95.0</td>\n",
       "      <td>77.0</td>\n",
       "      <td>5.0</td>\n",
       "      <td>26.0</td>\n",
       "      <td>225.0</td>\n",
       "      <td>866.0</td>\n",
       "      <td>570.0</td>\n",
       "      <td>202.0</td>\n",
       "      <td>81.0</td>\n",
       "      <td>78.0</td>\n",
       "    </tr>\n",
       "    <tr>\n",
       "      <th>id</th>\n",
       "      <td>452.0</td>\n",
       "      <td>1.0</td>\n",
       "      <td>36.0</td>\n",
       "      <td>78.0</td>\n",
       "      <td>106.0</td>\n",
       "      <td>54.0</td>\n",
       "      <td>18.0</td>\n",
       "      <td>11.0</td>\n",
       "      <td>225.0</td>\n",
       "      <td>489.0</td>\n",
       "      <td>293.0</td>\n",
       "      <td>199.0</td>\n",
       "      <td>30.0</td>\n",
       "      <td>72.0</td>\n",
       "    </tr>\n",
       "    <tr>\n",
       "      <th>il</th>\n",
       "      <td>618.0</td>\n",
       "      <td>8.0</td>\n",
       "      <td>109.0</td>\n",
       "      <td>260.0</td>\n",
       "      <td>89.0</td>\n",
       "      <td>100.0</td>\n",
       "      <td>6.0</td>\n",
       "      <td>100.0</td>\n",
       "      <td>344.0</td>\n",
       "      <td>698.0</td>\n",
       "      <td>302.0</td>\n",
       "      <td>256.0</td>\n",
       "      <td>68.0</td>\n",
       "      <td>33.0</td>\n",
       "    </tr>\n",
       "    <tr>\n",
       "      <th>in</th>\n",
       "      <td>515.0</td>\n",
       "      <td>7.0</td>\n",
       "      <td>60.0</td>\n",
       "      <td>166.0</td>\n",
       "      <td>63.0</td>\n",
       "      <td>84.0</td>\n",
       "      <td>5.0</td>\n",
       "      <td>72.0</td>\n",
       "      <td>281.0</td>\n",
       "      <td>595.0</td>\n",
       "      <td>273.0</td>\n",
       "      <td>120.0</td>\n",
       "      <td>44.0</td>\n",
       "      <td>38.0</td>\n",
       "    </tr>\n",
       "    <tr>\n",
       "      <th>ks</th>\n",
       "      <td>502.0</td>\n",
       "      <td>2.0</td>\n",
       "      <td>52.0</td>\n",
       "      <td>152.0</td>\n",
       "      <td>59.0</td>\n",
       "      <td>54.0</td>\n",
       "      <td>6.0</td>\n",
       "      <td>38.0</td>\n",
       "      <td>317.0</td>\n",
       "      <td>503.0</td>\n",
       "      <td>306.0</td>\n",
       "      <td>85.0</td>\n",
       "      <td>36.0</td>\n",
       "      <td>40.0</td>\n",
       "    </tr>\n",
       "    <tr>\n",
       "      <th>ky</th>\n",
       "      <td>411.0</td>\n",
       "      <td>4.0</td>\n",
       "      <td>46.0</td>\n",
       "      <td>113.0</td>\n",
       "      <td>35.0</td>\n",
       "      <td>23.0</td>\n",
       "      <td>6.0</td>\n",
       "      <td>45.0</td>\n",
       "      <td>175.0</td>\n",
       "      <td>316.0</td>\n",
       "      <td>258.0</td>\n",
       "      <td>102.0</td>\n",
       "      <td>94.0</td>\n",
       "      <td>28.0</td>\n",
       "    </tr>\n",
       "    <tr>\n",
       "      <th>la</th>\n",
       "      <td>150.0</td>\n",
       "      <td>3.0</td>\n",
       "      <td>14.0</td>\n",
       "      <td>125.0</td>\n",
       "      <td>12.0</td>\n",
       "      <td>7.0</td>\n",
       "      <td>1.0</td>\n",
       "      <td>27.0</td>\n",
       "      <td>127.0</td>\n",
       "      <td>165.0</td>\n",
       "      <td>94.0</td>\n",
       "      <td>48.0</td>\n",
       "      <td>6.0</td>\n",
       "      <td>10.0</td>\n",
       "    </tr>\n",
       "    <tr>\n",
       "      <th>ma</th>\n",
       "      <td>724.0</td>\n",
       "      <td>4.0</td>\n",
       "      <td>111.0</td>\n",
       "      <td>180.0</td>\n",
       "      <td>139.0</td>\n",
       "      <td>56.0</td>\n",
       "      <td>6.0</td>\n",
       "      <td>89.0</td>\n",
       "      <td>247.0</td>\n",
       "      <td>894.0</td>\n",
       "      <td>255.0</td>\n",
       "      <td>188.0</td>\n",
       "      <td>72.0</td>\n",
       "      <td>129.0</td>\n",
       "    </tr>\n",
       "    <tr>\n",
       "      <th>md</th>\n",
       "      <td>204.0</td>\n",
       "      <td>1.0</td>\n",
       "      <td>36.0</td>\n",
       "      <td>133.0</td>\n",
       "      <td>39.0</td>\n",
       "      <td>35.0</td>\n",
       "      <td>NaN</td>\n",
       "      <td>44.0</td>\n",
       "      <td>128.0</td>\n",
       "      <td>304.0</td>\n",
       "      <td>129.0</td>\n",
       "      <td>94.0</td>\n",
       "      <td>44.0</td>\n",
       "      <td>28.0</td>\n",
       "    </tr>\n",
       "    <tr>\n",
       "      <th>me</th>\n",
       "      <td>242.0</td>\n",
       "      <td>1.0</td>\n",
       "      <td>27.0</td>\n",
       "      <td>44.0</td>\n",
       "      <td>34.0</td>\n",
       "      <td>16.0</td>\n",
       "      <td>2.0</td>\n",
       "      <td>6.0</td>\n",
       "      <td>59.0</td>\n",
       "      <td>187.0</td>\n",
       "      <td>200.0</td>\n",
       "      <td>76.0</td>\n",
       "      <td>14.0</td>\n",
       "      <td>36.0</td>\n",
       "    </tr>\n",
       "    <tr>\n",
       "      <th>mi</th>\n",
       "      <td>1202.0</td>\n",
       "      <td>10.0</td>\n",
       "      <td>117.0</td>\n",
       "      <td>328.0</td>\n",
       "      <td>136.0</td>\n",
       "      <td>138.0</td>\n",
       "      <td>7.0</td>\n",
       "      <td>121.0</td>\n",
       "      <td>520.0</td>\n",
       "      <td>1121.0</td>\n",
       "      <td>599.0</td>\n",
       "      <td>766.0</td>\n",
       "      <td>87.0</td>\n",
       "      <td>128.0</td>\n",
       "    </tr>\n",
       "    <tr>\n",
       "      <th>mn</th>\n",
       "      <td>846.0</td>\n",
       "      <td>3.0</td>\n",
       "      <td>56.0</td>\n",
       "      <td>158.0</td>\n",
       "      <td>92.0</td>\n",
       "      <td>74.0</td>\n",
       "      <td>4.0</td>\n",
       "      <td>49.0</td>\n",
       "      <td>368.0</td>\n",
       "      <td>623.0</td>\n",
       "      <td>323.0</td>\n",
       "      <td>132.0</td>\n",
       "      <td>96.0</td>\n",
       "      <td>43.0</td>\n",
       "    </tr>\n",
       "    <tr>\n",
       "      <th>mo</th>\n",
       "      <td>328.0</td>\n",
       "      <td>2.0</td>\n",
       "      <td>29.0</td>\n",
       "      <td>94.0</td>\n",
       "      <td>65.0</td>\n",
       "      <td>19.0</td>\n",
       "      <td>4.0</td>\n",
       "      <td>47.0</td>\n",
       "      <td>167.0</td>\n",
       "      <td>272.0</td>\n",
       "      <td>242.0</td>\n",
       "      <td>63.0</td>\n",
       "      <td>25.0</td>\n",
       "      <td>13.0</td>\n",
       "    </tr>\n",
       "    <tr>\n",
       "      <th>ms</th>\n",
       "      <td>101.0</td>\n",
       "      <td>NaN</td>\n",
       "      <td>11.0</td>\n",
       "      <td>21.0</td>\n",
       "      <td>4.0</td>\n",
       "      <td>7.0</td>\n",
       "      <td>2.0</td>\n",
       "      <td>10.0</td>\n",
       "      <td>28.0</td>\n",
       "      <td>98.0</td>\n",
       "      <td>63.0</td>\n",
       "      <td>27.0</td>\n",
       "      <td>11.0</td>\n",
       "      <td>1.0</td>\n",
       "    </tr>\n",
       "    <tr>\n",
       "      <th>mt</th>\n",
       "      <td>378.0</td>\n",
       "      <td>3.0</td>\n",
       "      <td>21.0</td>\n",
       "      <td>37.0</td>\n",
       "      <td>30.0</td>\n",
       "      <td>23.0</td>\n",
       "      <td>10.0</td>\n",
       "      <td>6.0</td>\n",
       "      <td>180.0</td>\n",
       "      <td>186.0</td>\n",
       "      <td>291.0</td>\n",
       "      <td>101.0</td>\n",
       "      <td>33.0</td>\n",
       "      <td>38.0</td>\n",
       "    </tr>\n",
       "    <tr>\n",
       "      <th>nc</th>\n",
       "      <td>1029.0</td>\n",
       "      <td>7.0</td>\n",
       "      <td>145.0</td>\n",
       "      <td>324.0</td>\n",
       "      <td>173.0</td>\n",
       "      <td>84.0</td>\n",
       "      <td>20.0</td>\n",
       "      <td>123.0</td>\n",
       "      <td>440.0</td>\n",
       "      <td>1113.0</td>\n",
       "      <td>765.0</td>\n",
       "      <td>325.0</td>\n",
       "      <td>157.0</td>\n",
       "      <td>110.0</td>\n",
       "    </tr>\n",
       "    <tr>\n",
       "      <th>nd</th>\n",
       "      <td>81.0</td>\n",
       "      <td>1.0</td>\n",
       "      <td>3.0</td>\n",
       "      <td>5.0</td>\n",
       "      <td>10.0</td>\n",
       "      <td>6.0</td>\n",
       "      <td>1.0</td>\n",
       "      <td>1.0</td>\n",
       "      <td>48.0</td>\n",
       "      <td>26.0</td>\n",
       "      <td>40.0</td>\n",
       "      <td>2.0</td>\n",
       "      <td>14.0</td>\n",
       "      <td>1.0</td>\n",
       "    </tr>\n",
       "    <tr>\n",
       "      <th>ne</th>\n",
       "      <td>124.0</td>\n",
       "      <td>NaN</td>\n",
       "      <td>12.0</td>\n",
       "      <td>26.0</td>\n",
       "      <td>9.0</td>\n",
       "      <td>10.0</td>\n",
       "      <td>2.0</td>\n",
       "      <td>2.0</td>\n",
       "      <td>37.0</td>\n",
       "      <td>94.0</td>\n",
       "      <td>27.0</td>\n",
       "      <td>38.0</td>\n",
       "      <td>5.0</td>\n",
       "      <td>5.0</td>\n",
       "    </tr>\n",
       "    <tr>\n",
       "      <th>nh</th>\n",
       "      <td>226.0</td>\n",
       "      <td>2.0</td>\n",
       "      <td>32.0</td>\n",
       "      <td>38.0</td>\n",
       "      <td>51.0</td>\n",
       "      <td>16.0</td>\n",
       "      <td>3.0</td>\n",
       "      <td>13.0</td>\n",
       "      <td>93.0</td>\n",
       "      <td>224.0</td>\n",
       "      <td>107.0</td>\n",
       "      <td>65.0</td>\n",
       "      <td>12.0</td>\n",
       "      <td>29.0</td>\n",
       "    </tr>\n",
       "    <tr>\n",
       "      <th>nj</th>\n",
       "      <td>708.0</td>\n",
       "      <td>10.0</td>\n",
       "      <td>105.0</td>\n",
       "      <td>219.0</td>\n",
       "      <td>110.0</td>\n",
       "      <td>69.0</td>\n",
       "      <td>5.0</td>\n",
       "      <td>45.0</td>\n",
       "      <td>237.0</td>\n",
       "      <td>1042.0</td>\n",
       "      <td>261.0</td>\n",
       "      <td>209.0</td>\n",
       "      <td>68.0</td>\n",
       "      <td>91.0</td>\n",
       "    </tr>\n",
       "    <tr>\n",
       "      <th>nm</th>\n",
       "      <td>262.0</td>\n",
       "      <td>2.0</td>\n",
       "      <td>31.0</td>\n",
       "      <td>97.0</td>\n",
       "      <td>51.0</td>\n",
       "      <td>18.0</td>\n",
       "      <td>9.0</td>\n",
       "      <td>69.0</td>\n",
       "      <td>149.0</td>\n",
       "      <td>279.0</td>\n",
       "      <td>227.0</td>\n",
       "      <td>110.0</td>\n",
       "      <td>49.0</td>\n",
       "      <td>21.0</td>\n",
       "    </tr>\n",
       "    <tr>\n",
       "      <th>nv</th>\n",
       "      <td>148.0</td>\n",
       "      <td>1.0</td>\n",
       "      <td>44.0</td>\n",
       "      <td>59.0</td>\n",
       "      <td>38.0</td>\n",
       "      <td>13.0</td>\n",
       "      <td>6.0</td>\n",
       "      <td>21.0</td>\n",
       "      <td>77.0</td>\n",
       "      <td>246.0</td>\n",
       "      <td>90.0</td>\n",
       "      <td>75.0</td>\n",
       "      <td>37.0</td>\n",
       "      <td>6.0</td>\n",
       "    </tr>\n",
       "    <tr>\n",
       "      <th>ny</th>\n",
       "      <td>1521.0</td>\n",
       "      <td>13.0</td>\n",
       "      <td>209.0</td>\n",
       "      <td>519.0</td>\n",
       "      <td>287.0</td>\n",
       "      <td>164.0</td>\n",
       "      <td>18.0</td>\n",
       "      <td>194.0</td>\n",
       "      <td>775.0</td>\n",
       "      <td>1688.0</td>\n",
       "      <td>806.0</td>\n",
       "      <td>514.0</td>\n",
       "      <td>255.0</td>\n",
       "      <td>281.0</td>\n",
       "    </tr>\n",
       "    <tr>\n",
       "      <th>oh</th>\n",
       "      <td>1458.0</td>\n",
       "      <td>6.0</td>\n",
       "      <td>170.0</td>\n",
       "      <td>462.0</td>\n",
       "      <td>190.0</td>\n",
       "      <td>162.0</td>\n",
       "      <td>10.0</td>\n",
       "      <td>136.0</td>\n",
       "      <td>477.0</td>\n",
       "      <td>1791.0</td>\n",
       "      <td>549.0</td>\n",
       "      <td>507.0</td>\n",
       "      <td>169.0</td>\n",
       "      <td>119.0</td>\n",
       "    </tr>\n",
       "    <tr>\n",
       "      <th>ok</th>\n",
       "      <td>543.0</td>\n",
       "      <td>1.0</td>\n",
       "      <td>26.0</td>\n",
       "      <td>149.0</td>\n",
       "      <td>52.0</td>\n",
       "      <td>48.0</td>\n",
       "      <td>4.0</td>\n",
       "      <td>44.0</td>\n",
       "      <td>194.0</td>\n",
       "      <td>503.0</td>\n",
       "      <td>651.0</td>\n",
       "      <td>139.0</td>\n",
       "      <td>31.0</td>\n",
       "      <td>45.0</td>\n",
       "    </tr>\n",
       "    <tr>\n",
       "      <th>or</th>\n",
       "      <td>750.0</td>\n",
       "      <td>8.0</td>\n",
       "      <td>99.0</td>\n",
       "      <td>159.0</td>\n",
       "      <td>211.0</td>\n",
       "      <td>95.0</td>\n",
       "      <td>15.0</td>\n",
       "      <td>33.0</td>\n",
       "      <td>321.0</td>\n",
       "      <td>875.0</td>\n",
       "      <td>316.0</td>\n",
       "      <td>210.0</td>\n",
       "      <td>69.0</td>\n",
       "      <td>110.0</td>\n",
       "    </tr>\n",
       "    <tr>\n",
       "      <th>pa</th>\n",
       "      <td>912.0</td>\n",
       "      <td>8.0</td>\n",
       "      <td>135.0</td>\n",
       "      <td>396.0</td>\n",
       "      <td>185.0</td>\n",
       "      <td>99.0</td>\n",
       "      <td>4.0</td>\n",
       "      <td>106.0</td>\n",
       "      <td>399.0</td>\n",
       "      <td>1426.0</td>\n",
       "      <td>485.0</td>\n",
       "      <td>358.0</td>\n",
       "      <td>123.0</td>\n",
       "      <td>130.0</td>\n",
       "    </tr>\n",
       "    <tr>\n",
       "      <th>ri</th>\n",
       "      <td>227.0</td>\n",
       "      <td>3.0</td>\n",
       "      <td>38.0</td>\n",
       "      <td>41.0</td>\n",
       "      <td>32.0</td>\n",
       "      <td>28.0</td>\n",
       "      <td>1.0</td>\n",
       "      <td>19.0</td>\n",
       "      <td>75.0</td>\n",
       "      <td>270.0</td>\n",
       "      <td>200.0</td>\n",
       "      <td>85.0</td>\n",
       "      <td>19.0</td>\n",
       "      <td>20.0</td>\n",
       "    </tr>\n",
       "    <tr>\n",
       "      <th>sc</th>\n",
       "      <td>388.0</td>\n",
       "      <td>NaN</td>\n",
       "      <td>84.0</td>\n",
       "      <td>120.0</td>\n",
       "      <td>58.0</td>\n",
       "      <td>28.0</td>\n",
       "      <td>12.0</td>\n",
       "      <td>59.0</td>\n",
       "      <td>212.0</td>\n",
       "      <td>383.0</td>\n",
       "      <td>408.0</td>\n",
       "      <td>128.0</td>\n",
       "      <td>77.0</td>\n",
       "      <td>28.0</td>\n",
       "    </tr>\n",
       "    <tr>\n",
       "      <th>sd</th>\n",
       "      <td>100.0</td>\n",
       "      <td>1.0</td>\n",
       "      <td>6.0</td>\n",
       "      <td>12.0</td>\n",
       "      <td>8.0</td>\n",
       "      <td>4.0</td>\n",
       "      <td>2.0</td>\n",
       "      <td>3.0</td>\n",
       "      <td>67.0</td>\n",
       "      <td>85.0</td>\n",
       "      <td>116.0</td>\n",
       "      <td>81.0</td>\n",
       "      <td>15.0</td>\n",
       "      <td>2.0</td>\n",
       "    </tr>\n",
       "    <tr>\n",
       "      <th>tn</th>\n",
       "      <td>684.0</td>\n",
       "      <td>9.0</td>\n",
       "      <td>62.0</td>\n",
       "      <td>207.0</td>\n",
       "      <td>61.0</td>\n",
       "      <td>63.0</td>\n",
       "      <td>14.0</td>\n",
       "      <td>90.0</td>\n",
       "      <td>324.0</td>\n",
       "      <td>598.0</td>\n",
       "      <td>554.0</td>\n",
       "      <td>218.0</td>\n",
       "      <td>192.0</td>\n",
       "      <td>35.0</td>\n",
       "    </tr>\n",
       "    <tr>\n",
       "      <th>tx</th>\n",
       "      <td>1482.0</td>\n",
       "      <td>7.0</td>\n",
       "      <td>146.0</td>\n",
       "      <td>505.0</td>\n",
       "      <td>169.0</td>\n",
       "      <td>111.0</td>\n",
       "      <td>39.0</td>\n",
       "      <td>210.0</td>\n",
       "      <td>807.0</td>\n",
       "      <td>1437.0</td>\n",
       "      <td>806.0</td>\n",
       "      <td>464.0</td>\n",
       "      <td>159.0</td>\n",
       "      <td>70.0</td>\n",
       "    </tr>\n",
       "    <tr>\n",
       "      <th>ut</th>\n",
       "      <td>56.0</td>\n",
       "      <td>2.0</td>\n",
       "      <td>9.0</td>\n",
       "      <td>18.0</td>\n",
       "      <td>13.0</td>\n",
       "      <td>5.0</td>\n",
       "      <td>NaN</td>\n",
       "      <td>6.0</td>\n",
       "      <td>27.0</td>\n",
       "      <td>70.0</td>\n",
       "      <td>106.0</td>\n",
       "      <td>39.0</td>\n",
       "      <td>17.0</td>\n",
       "      <td>3.0</td>\n",
       "    </tr>\n",
       "    <tr>\n",
       "      <th>va</th>\n",
       "      <td>703.0</td>\n",
       "      <td>4.0</td>\n",
       "      <td>91.0</td>\n",
       "      <td>210.0</td>\n",
       "      <td>150.0</td>\n",
       "      <td>90.0</td>\n",
       "      <td>9.0</td>\n",
       "      <td>101.0</td>\n",
       "      <td>276.0</td>\n",
       "      <td>863.0</td>\n",
       "      <td>409.0</td>\n",
       "      <td>127.0</td>\n",
       "      <td>103.0</td>\n",
       "      <td>77.0</td>\n",
       "    </tr>\n",
       "    <tr>\n",
       "      <th>vt</th>\n",
       "      <td>440.0</td>\n",
       "      <td>2.0</td>\n",
       "      <td>29.0</td>\n",
       "      <td>46.0</td>\n",
       "      <td>103.0</td>\n",
       "      <td>14.0</td>\n",
       "      <td>1.0</td>\n",
       "      <td>6.0</td>\n",
       "      <td>64.0</td>\n",
       "      <td>372.0</td>\n",
       "      <td>220.0</td>\n",
       "      <td>74.0</td>\n",
       "      <td>14.0</td>\n",
       "      <td>125.0</td>\n",
       "    </tr>\n",
       "    <tr>\n",
       "      <th>wa</th>\n",
       "      <td>403.0</td>\n",
       "      <td>3.0</td>\n",
       "      <td>61.0</td>\n",
       "      <td>90.0</td>\n",
       "      <td>93.0</td>\n",
       "      <td>52.0</td>\n",
       "      <td>8.0</td>\n",
       "      <td>12.0</td>\n",
       "      <td>165.0</td>\n",
       "      <td>416.0</td>\n",
       "      <td>183.0</td>\n",
       "      <td>183.0</td>\n",
       "      <td>42.0</td>\n",
       "      <td>60.0</td>\n",
       "    </tr>\n",
       "    <tr>\n",
       "      <th>wi</th>\n",
       "      <td>919.0</td>\n",
       "      <td>7.0</td>\n",
       "      <td>103.0</td>\n",
       "      <td>271.0</td>\n",
       "      <td>144.0</td>\n",
       "      <td>97.0</td>\n",
       "      <td>11.0</td>\n",
       "      <td>83.0</td>\n",
       "      <td>500.0</td>\n",
       "      <td>764.0</td>\n",
       "      <td>636.0</td>\n",
       "      <td>314.0</td>\n",
       "      <td>195.0</td>\n",
       "      <td>148.0</td>\n",
       "    </tr>\n",
       "    <tr>\n",
       "      <th>wv</th>\n",
       "      <td>42.0</td>\n",
       "      <td>1.0</td>\n",
       "      <td>9.0</td>\n",
       "      <td>35.0</td>\n",
       "      <td>5.0</td>\n",
       "      <td>2.0</td>\n",
       "      <td>NaN</td>\n",
       "      <td>14.0</td>\n",
       "      <td>49.0</td>\n",
       "      <td>41.0</td>\n",
       "      <td>68.0</td>\n",
       "      <td>30.0</td>\n",
       "      <td>12.0</td>\n",
       "      <td>5.0</td>\n",
       "    </tr>\n",
       "    <tr>\n",
       "      <th>wy</th>\n",
       "      <td>38.0</td>\n",
       "      <td>1.0</td>\n",
       "      <td>3.0</td>\n",
       "      <td>15.0</td>\n",
       "      <td>4.0</td>\n",
       "      <td>1.0</td>\n",
       "      <td>2.0</td>\n",
       "      <td>14.0</td>\n",
       "      <td>27.0</td>\n",
       "      <td>31.0</td>\n",
       "      <td>52.0</td>\n",
       "      <td>38.0</td>\n",
       "      <td>3.0</td>\n",
       "      <td>1.0</td>\n",
       "    </tr>\n",
       "  </tbody>\n",
       "</table>\n",
       "</div>"
      ],
      "text/plain": [
       "type      SUV   bus  convertible   coupe  hatchback  mini-van  offroad  other  \\\n",
       "state                                                                           \n",
       "ak      282.0   NaN         10.0    35.0       43.0      34.0     13.0    5.0   \n",
       "al      297.0   6.0         53.0    89.0       34.0      24.0      5.0   72.0   \n",
       "ar      237.0   2.0         23.0    87.0       42.0      17.0      6.0   44.0   \n",
       "az      493.0   5.0         82.0   193.0       75.0      59.0     28.0  104.0   \n",
       "ca     2665.0  24.0        405.0  1124.0      627.0     253.0    100.0  480.0   \n",
       "co      802.0  10.0         68.0   167.0      109.0      38.0     25.0   70.0   \n",
       "ct      266.0   1.0         61.0   108.0      110.0      30.0      6.0   85.0   \n",
       "dc      156.0   3.0         29.0    55.0       42.0      19.0      2.0   33.0   \n",
       "de       75.0   1.0         15.0    30.0        6.0       8.0      1.0    4.0   \n",
       "fl     1645.0  25.0        433.0   729.0      275.0     221.0     32.0  210.0   \n",
       "ga      304.0   3.0         59.0   185.0       57.0      32.0     11.0  118.0   \n",
       "hi      154.0   2.0         17.0    26.0       39.0      17.0      4.0    6.0   \n",
       "ia      737.0   4.0        109.0   163.0       95.0      77.0      5.0   26.0   \n",
       "id      452.0   1.0         36.0    78.0      106.0      54.0     18.0   11.0   \n",
       "il      618.0   8.0        109.0   260.0       89.0     100.0      6.0  100.0   \n",
       "in      515.0   7.0         60.0   166.0       63.0      84.0      5.0   72.0   \n",
       "ks      502.0   2.0         52.0   152.0       59.0      54.0      6.0   38.0   \n",
       "ky      411.0   4.0         46.0   113.0       35.0      23.0      6.0   45.0   \n",
       "la      150.0   3.0         14.0   125.0       12.0       7.0      1.0   27.0   \n",
       "ma      724.0   4.0        111.0   180.0      139.0      56.0      6.0   89.0   \n",
       "md      204.0   1.0         36.0   133.0       39.0      35.0      NaN   44.0   \n",
       "me      242.0   1.0         27.0    44.0       34.0      16.0      2.0    6.0   \n",
       "mi     1202.0  10.0        117.0   328.0      136.0     138.0      7.0  121.0   \n",
       "mn      846.0   3.0         56.0   158.0       92.0      74.0      4.0   49.0   \n",
       "mo      328.0   2.0         29.0    94.0       65.0      19.0      4.0   47.0   \n",
       "ms      101.0   NaN         11.0    21.0        4.0       7.0      2.0   10.0   \n",
       "mt      378.0   3.0         21.0    37.0       30.0      23.0     10.0    6.0   \n",
       "nc     1029.0   7.0        145.0   324.0      173.0      84.0     20.0  123.0   \n",
       "nd       81.0   1.0          3.0     5.0       10.0       6.0      1.0    1.0   \n",
       "ne      124.0   NaN         12.0    26.0        9.0      10.0      2.0    2.0   \n",
       "nh      226.0   2.0         32.0    38.0       51.0      16.0      3.0   13.0   \n",
       "nj      708.0  10.0        105.0   219.0      110.0      69.0      5.0   45.0   \n",
       "nm      262.0   2.0         31.0    97.0       51.0      18.0      9.0   69.0   \n",
       "nv      148.0   1.0         44.0    59.0       38.0      13.0      6.0   21.0   \n",
       "ny     1521.0  13.0        209.0   519.0      287.0     164.0     18.0  194.0   \n",
       "oh     1458.0   6.0        170.0   462.0      190.0     162.0     10.0  136.0   \n",
       "ok      543.0   1.0         26.0   149.0       52.0      48.0      4.0   44.0   \n",
       "or      750.0   8.0         99.0   159.0      211.0      95.0     15.0   33.0   \n",
       "pa      912.0   8.0        135.0   396.0      185.0      99.0      4.0  106.0   \n",
       "ri      227.0   3.0         38.0    41.0       32.0      28.0      1.0   19.0   \n",
       "sc      388.0   NaN         84.0   120.0       58.0      28.0     12.0   59.0   \n",
       "sd      100.0   1.0          6.0    12.0        8.0       4.0      2.0    3.0   \n",
       "tn      684.0   9.0         62.0   207.0       61.0      63.0     14.0   90.0   \n",
       "tx     1482.0   7.0        146.0   505.0      169.0     111.0     39.0  210.0   \n",
       "ut       56.0   2.0          9.0    18.0       13.0       5.0      NaN    6.0   \n",
       "va      703.0   4.0         91.0   210.0      150.0      90.0      9.0  101.0   \n",
       "vt      440.0   2.0         29.0    46.0      103.0      14.0      1.0    6.0   \n",
       "wa      403.0   3.0         61.0    90.0       93.0      52.0      8.0   12.0   \n",
       "wi      919.0   7.0        103.0   271.0      144.0      97.0     11.0   83.0   \n",
       "wv       42.0   1.0          9.0    35.0        5.0       2.0      NaN   14.0   \n",
       "wy       38.0   1.0          3.0    15.0        4.0       1.0      2.0   14.0   \n",
       "\n",
       "type   pickup   sedan   truck  unknown    van  wagon  \n",
       "state                                                 \n",
       "ak       67.0   237.0   176.0     53.0   17.0   24.0  \n",
       "al      172.0   279.0   278.0     80.0   70.0   12.0  \n",
       "ar      124.0   223.0   187.0    220.0   23.0   10.0  \n",
       "az      303.0   620.0   326.0    201.0   74.0   35.0  \n",
       "ca     1336.0  4154.0  1496.0    813.0  324.0  344.0  \n",
       "co      242.0   566.0   305.0    355.0   65.0   83.0  \n",
       "ct      215.0   469.0   150.0    133.0   27.0   62.0  \n",
       "dc       62.0   270.0    51.0     63.0   24.0   42.0  \n",
       "de       21.0   126.0    75.0     49.0    4.0   17.0  \n",
       "fl      912.0  2469.0  1124.0    476.0  211.0  262.0  \n",
       "ga      192.0   394.0   279.0     74.0   42.0   15.0  \n",
       "hi       38.0   170.0   108.0     52.0   25.0    7.0  \n",
       "ia      225.0   866.0   570.0    202.0   81.0   78.0  \n",
       "id      225.0   489.0   293.0    199.0   30.0   72.0  \n",
       "il      344.0   698.0   302.0    256.0   68.0   33.0  \n",
       "in      281.0   595.0   273.0    120.0   44.0   38.0  \n",
       "ks      317.0   503.0   306.0     85.0   36.0   40.0  \n",
       "ky      175.0   316.0   258.0    102.0   94.0   28.0  \n",
       "la      127.0   165.0    94.0     48.0    6.0   10.0  \n",
       "ma      247.0   894.0   255.0    188.0   72.0  129.0  \n",
       "md      128.0   304.0   129.0     94.0   44.0   28.0  \n",
       "me       59.0   187.0   200.0     76.0   14.0   36.0  \n",
       "mi      520.0  1121.0   599.0    766.0   87.0  128.0  \n",
       "mn      368.0   623.0   323.0    132.0   96.0   43.0  \n",
       "mo      167.0   272.0   242.0     63.0   25.0   13.0  \n",
       "ms       28.0    98.0    63.0     27.0   11.0    1.0  \n",
       "mt      180.0   186.0   291.0    101.0   33.0   38.0  \n",
       "nc      440.0  1113.0   765.0    325.0  157.0  110.0  \n",
       "nd       48.0    26.0    40.0      2.0   14.0    1.0  \n",
       "ne       37.0    94.0    27.0     38.0    5.0    5.0  \n",
       "nh       93.0   224.0   107.0     65.0   12.0   29.0  \n",
       "nj      237.0  1042.0   261.0    209.0   68.0   91.0  \n",
       "nm      149.0   279.0   227.0    110.0   49.0   21.0  \n",
       "nv       77.0   246.0    90.0     75.0   37.0    6.0  \n",
       "ny      775.0  1688.0   806.0    514.0  255.0  281.0  \n",
       "oh      477.0  1791.0   549.0    507.0  169.0  119.0  \n",
       "ok      194.0   503.0   651.0    139.0   31.0   45.0  \n",
       "or      321.0   875.0   316.0    210.0   69.0  110.0  \n",
       "pa      399.0  1426.0   485.0    358.0  123.0  130.0  \n",
       "ri       75.0   270.0   200.0     85.0   19.0   20.0  \n",
       "sc      212.0   383.0   408.0    128.0   77.0   28.0  \n",
       "sd       67.0    85.0   116.0     81.0   15.0    2.0  \n",
       "tn      324.0   598.0   554.0    218.0  192.0   35.0  \n",
       "tx      807.0  1437.0   806.0    464.0  159.0   70.0  \n",
       "ut       27.0    70.0   106.0     39.0   17.0    3.0  \n",
       "va      276.0   863.0   409.0    127.0  103.0   77.0  \n",
       "vt       64.0   372.0   220.0     74.0   14.0  125.0  \n",
       "wa      165.0   416.0   183.0    183.0   42.0   60.0  \n",
       "wi      500.0   764.0   636.0    314.0  195.0  148.0  \n",
       "wv       49.0    41.0    68.0     30.0   12.0    5.0  \n",
       "wy       27.0    31.0    52.0     38.0    3.0    1.0  "
      ]
     },
     "execution_count": 38,
     "metadata": {},
     "output_type": "execute_result"
    }
   ],
   "source": [
    "#Task 3.14.3\n",
    "UsedVehicle.groupby(['type'])['state'].value_counts().unstack(0)"
   ]
  },
  {
   "cell_type": "code",
   "execution_count": 39,
   "id": "82d3dda6",
   "metadata": {},
   "outputs": [
    {
     "data": {
      "text/plain": [
       "array(['2021-05-03', '2021-05-02', '2021-05-01', '2021-04-29',\n",
       "       '2021-04-27', '2021-04-26', '2021-04-25', '2021-04-24',\n",
       "       '2021-04-23', '2021-04-21', '2021-04-18', '2021-04-17',\n",
       "       '2021-04-16', '2021-04-15', '2021-04-13', '2021-04-12',\n",
       "       '2021-04-11', '2021-04-10', '2021-04-09', '2021-04-08',\n",
       "       '2021-05-04', '2021-04-30', '2021-04-28', '2021-04-22',\n",
       "       '2021-04-20', '2021-04-19', '2021-04-14', '2021-04-07',\n",
       "       '2021-04-06', '2021-04-05', '2021-04-04'], dtype=object)"
      ]
     },
     "execution_count": 39,
     "metadata": {},
     "output_type": "execute_result"
    }
   ],
   "source": [
    "#Task 3.15.0\n",
    "UsedVehicle['posting_date2'].unique()"
   ]
  },
  {
   "cell_type": "code",
   "execution_count": 40,
   "id": "43eca7ab",
   "metadata": {},
   "outputs": [
    {
     "name": "stdout",
     "output_type": "stream",
     "text": [
      "31\n"
     ]
    }
   ],
   "source": [
    "#Task 3.15.1\n",
    "a=len(UsedVehicle['posting_date2'].unique())\n",
    "print(a)"
   ]
  },
  {
   "cell_type": "code",
   "execution_count": 41,
   "id": "bc534160",
   "metadata": {},
   "outputs": [
    {
     "data": {
      "text/plain": [
       "<AxesSubplot:>"
      ]
     },
     "execution_count": 41,
     "metadata": {},
     "output_type": "execute_result"
    },
    {
     "data": {
      "image/png": "[encoded data removed]",
      "text/plain": [
       "<Figure size 720x720 with 2 Axes>"
      ]
     },
     "metadata": {
      "needs_background": "light"
     },
     "output_type": "display_data"
    }
   ],
   "source": [
    "#Task 4.0\n",
    "#test data to see correlation mapping\n",
    "#Heat map with columns that are floats or int.  It will not work with str.\n",
    "#adjust the scale so i can see anything that has correation greater than 0.  \n",
    "#Previous chart with -1 to 1 was difficult to distinguest correlation\n",
    "\n",
    "UsedVehicle_corr=UsedVehicle.corr()\n",
    "fig,ax  =plt.subplots(figsize = (10,10))\n",
    "sns.heatmap(UsedVehicle_corr, linewidth=.5,ax=ax, vmin=-1,vmax=1)"
   ]
  },
  {
   "cell_type": "markdown",
   "id": "d79bfba4",
   "metadata": {},
   "source": [
    "Looking at price / odometer and odometer / year"
   ]
  },
  {
   "cell_type": "code",
   "execution_count": 42,
   "id": "0edc201b",
   "metadata": {},
   "outputs": [
    {
     "data": {
      "text/html": [
       "<div>\n",
       "<style scoped>\n",
       "    .dataframe tbody tr th:only-of-type {\n",
       "        vertical-align: middle;\n",
       "    }\n",
       "\n",
       "    .dataframe tbody tr th {\n",
       "        vertical-align: top;\n",
       "    }\n",
       "\n",
       "    .dataframe thead th {\n",
       "        text-align: right;\n",
       "    }\n",
       "</style>\n",
       "<table border=\"1\" class=\"dataframe\">\n",
       "  <thead>\n",
       "    <tr style=\"text-align: right;\">\n",
       "      <th></th>\n",
       "      <th>odometer</th>\n",
       "      <th>year</th>\n",
       "      <th>price</th>\n",
       "    </tr>\n",
       "  </thead>\n",
       "  <tbody>\n",
       "    <tr>\n",
       "      <th>count</th>\n",
       "      <td>1.298830e+05</td>\n",
       "      <td>129883.000000</td>\n",
       "      <td>1.298830e+05</td>\n",
       "    </tr>\n",
       "    <tr>\n",
       "      <th>mean</th>\n",
       "      <td>1.138283e+05</td>\n",
       "      <td>2008.978881</td>\n",
       "      <td>8.460142e+04</td>\n",
       "    </tr>\n",
       "    <tr>\n",
       "      <th>std</th>\n",
       "      <td>2.247545e+05</td>\n",
       "      <td>10.419513</td>\n",
       "      <td>1.499706e+07</td>\n",
       "    </tr>\n",
       "    <tr>\n",
       "      <th>min</th>\n",
       "      <td>0.000000e+00</td>\n",
       "      <td>1900.000000</td>\n",
       "      <td>0.000000e+00</td>\n",
       "    </tr>\n",
       "    <tr>\n",
       "      <th>25%</th>\n",
       "      <td>5.700000e+04</td>\n",
       "      <td>2006.000000</td>\n",
       "      <td>5.500000e+03</td>\n",
       "    </tr>\n",
       "    <tr>\n",
       "      <th>50%</th>\n",
       "      <td>1.039730e+05</td>\n",
       "      <td>2011.000000</td>\n",
       "      <td>1.090000e+04</td>\n",
       "    </tr>\n",
       "    <tr>\n",
       "      <th>75%</th>\n",
       "      <td>1.490000e+05</td>\n",
       "      <td>2015.000000</td>\n",
       "      <td>2.250000e+04</td>\n",
       "    </tr>\n",
       "    <tr>\n",
       "      <th>max</th>\n",
       "      <td>1.000000e+07</td>\n",
       "      <td>2022.000000</td>\n",
       "      <td>3.736929e+09</td>\n",
       "    </tr>\n",
       "  </tbody>\n",
       "</table>\n",
       "</div>"
      ],
      "text/plain": [
       "           odometer           year         price\n",
       "count  1.298830e+05  129883.000000  1.298830e+05\n",
       "mean   1.138283e+05    2008.978881  8.460142e+04\n",
       "std    2.247545e+05      10.419513  1.499706e+07\n",
       "min    0.000000e+00    1900.000000  0.000000e+00\n",
       "25%    5.700000e+04    2006.000000  5.500000e+03\n",
       "50%    1.039730e+05    2011.000000  1.090000e+04\n",
       "75%    1.490000e+05    2015.000000  2.250000e+04\n",
       "max    1.000000e+07    2022.000000  3.736929e+09"
      ]
     },
     "execution_count": 42,
     "metadata": {},
     "output_type": "execute_result"
    }
   ],
   "source": [
    "#Task 4.1\n",
    "UsedVehicle[['odometer','year','price']].describe()"
   ]
  },
  {
   "cell_type": "code",
   "execution_count": 43,
   "id": "9b0d0fc9",
   "metadata": {
    "scrolled": false
   },
   "outputs": [
    {
     "data": {
      "text/plain": [
       "<seaborn.axisgrid.PairGrid at 0xd754bb0>"
      ]
     },
     "execution_count": 43,
     "metadata": {},
     "output_type": "execute_result"
    },
    {
     "data": {
      "image/png": "[encoded data removed]",
      "text/plain": [
       "<Figure size 421.5x360 with 6 Axes>"
      ]
     },
     "metadata": {
      "needs_background": "light"
     },
     "output_type": "display_data"
    }
   ],
   "source": [
    "#Task 5.1\n",
    "#seaborn pair plot\n",
    "df1 = UsedVehicle[['odometer','year','price']]\n",
    "sns.pairplot(df1, hue='year')\n",
    "\n"
   ]
  },
  {
   "cell_type": "markdown",
   "id": "95dab3d0",
   "metadata": {},
   "source": [
    "#Task 5.2\n",
    "#not so interesting as previous chart\n",
    "\n",
    "df2 = UsedVehicle[['odometer','year','price']]\n",
    "sns.pairplot(df2, hue='price')\n",
    "\n"
   ]
  },
  {
   "cell_type": "code",
   "execution_count": 45,
   "id": "e7bcee42",
   "metadata": {},
   "outputs": [
    {
     "data": {
      "text/plain": [
       "<AxesSubplot:xlabel='odometer'>"
      ]
     },
     "execution_count": 45,
     "metadata": {},
     "output_type": "execute_result"
    },
    {
     "data": {
      "image/png": "[encoded data removed]",
      "text/plain": [
       "<Figure size 432x288 with 1 Axes>"
      ]
     },
     "metadata": {
      "needs_background": "light"
     },
     "output_type": "display_data"
    }
   ],
   "source": [
    "#Task 5.3.0\n",
    "#\n",
    "UsedVehicle.groupby('odometer')['price'].mean().plot()\n"
   ]
  },
  {
   "cell_type": "code",
   "execution_count": 48,
   "id": "5152ce33",
   "metadata": {},
   "outputs": [
    {
     "data": {
      "image/png": "[encoded data removed]",
      "text/plain": [
       "<Figure size 1080x360 with 1 Axes>"
      ]
     },
     "metadata": {
      "needs_background": "light"
     },
     "output_type": "display_data"
    }
   ],
   "source": [
    "#Task 5.3.1\n",
    "#not correct\n",
    "#box plot\n",
    "plt.figure(figsize = (15,5))\n",
    "#group by year then price.mean()\n",
    "sns.lineplot(x=UsedVehicle['year'] ,y=UsedVehicle['price'].mean());\n",
    "plt.show()"
   ]
  },
  {
   "cell_type": "code",
   "execution_count": 49,
   "id": "2f712d46",
   "metadata": {},
   "outputs": [
    {
     "data": {
      "image/png": "[encoded data removed]",
      "text/plain": [
       "<Figure size 1080x360 with 1 Axes>"
      ]
     },
     "metadata": {
      "needs_background": "light"
     },
     "output_type": "display_data"
    }
   ],
   "source": [
    "#Task 5.4\n",
    "#box plot\n",
    "#can skip because hard read, delete\n",
    "plt.figure(figsize = (15,5))\n",
    "sns.boxplot(x=UsedVehicle['year'] ,y=UsedVehicle['price']);\n",
    "plt.show()"
   ]
  },
  {
   "cell_type": "code",
   "execution_count": 50,
   "id": "9cf4718a",
   "metadata": {},
   "outputs": [
    {
     "data": {
      "image/png": "[encoded data removed]",
      "text/plain": [
       "<Figure size 1440x1440 with 1 Axes>"
      ]
     },
     "metadata": {
      "needs_background": "light"
     },
     "output_type": "display_data"
    }
   ],
   "source": [
    "#Task 5.6\n",
    "\n",
    "#Violin Plot\n",
    "\n",
    "#aasize =(20,20)\n",
    "#group by year then price.mean()\n",
    "\n",
    "fig,ax=plt.subplots()\n",
    "fig.set_size_inches(20,20)\n",
    "sns.violinplot(x=UsedVehicle['year'] ,y=UsedVehicle['price'], ax =ax );\n",
    "plt.show()"
   ]
  },
  {
   "cell_type": "code",
   "execution_count": 51,
   "id": "01cba5fc",
   "metadata": {},
   "outputs": [
    {
     "data": {
      "text/html": [
       "<div>\n",
       "<style scoped>\n",
       "    .dataframe tbody tr th:only-of-type {\n",
       "        vertical-align: middle;\n",
       "    }\n",
       "\n",
       "    .dataframe tbody tr th {\n",
       "        vertical-align: top;\n",
       "    }\n",
       "\n",
       "    .dataframe thead th {\n",
       "        text-align: right;\n",
       "    }\n",
       "</style>\n",
       "<table border=\"1\" class=\"dataframe\">\n",
       "  <thead>\n",
       "    <tr style=\"text-align: right;\">\n",
       "      <th></th>\n",
       "      <th>region</th>\n",
       "      <th>price</th>\n",
       "      <th>year</th>\n",
       "      <th>manufacturer</th>\n",
       "      <th>model</th>\n",
       "      <th>condition</th>\n",
       "      <th>cylinders</th>\n",
       "      <th>fuel</th>\n",
       "      <th>odometer</th>\n",
       "      <th>title_status</th>\n",
       "      <th>transmission</th>\n",
       "      <th>drive</th>\n",
       "      <th>type</th>\n",
       "      <th>paint_color</th>\n",
       "      <th>state</th>\n",
       "      <th>lat</th>\n",
       "      <th>long</th>\n",
       "      <th>posting_date</th>\n",
       "      <th>posting_date2</th>\n",
       "    </tr>\n",
       "  </thead>\n",
       "  <tbody>\n",
       "    <tr>\n",
       "      <th>0</th>\n",
       "      <td>auburn</td>\n",
       "      <td>15000</td>\n",
       "      <td>2013.0</td>\n",
       "      <td>ford</td>\n",
       "      <td>f-150 xlt</td>\n",
       "      <td>excellent</td>\n",
       "      <td>6 cylinders</td>\n",
       "      <td>gas</td>\n",
       "      <td>128000.0</td>\n",
       "      <td>clean</td>\n",
       "      <td>automatic</td>\n",
       "      <td>rwd</td>\n",
       "      <td>truck</td>\n",
       "      <td>black</td>\n",
       "      <td>al</td>\n",
       "      <td>32.592000</td>\n",
       "      <td>-85.518900</td>\n",
       "      <td>2021-05-03T14:02:03-0500</td>\n",
       "      <td>2021-05-03</td>\n",
       "    </tr>\n",
       "    <tr>\n",
       "      <th>1</th>\n",
       "      <td>auburn</td>\n",
       "      <td>27990</td>\n",
       "      <td>2012.0</td>\n",
       "      <td>gmc</td>\n",
       "      <td>sierra 2500 hd extended cab</td>\n",
       "      <td>good</td>\n",
       "      <td>8 cylinders</td>\n",
       "      <td>gas</td>\n",
       "      <td>68696.0</td>\n",
       "      <td>clean</td>\n",
       "      <td>other</td>\n",
       "      <td>4wd</td>\n",
       "      <td>pickup</td>\n",
       "      <td>black</td>\n",
       "      <td>al</td>\n",
       "      <td>32.590000</td>\n",
       "      <td>-85.480000</td>\n",
       "      <td>2021-05-03T13:41:25-0500</td>\n",
       "      <td>2021-05-03</td>\n",
       "    </tr>\n",
       "    <tr>\n",
       "      <th>2</th>\n",
       "      <td>auburn</td>\n",
       "      <td>34590</td>\n",
       "      <td>2016.0</td>\n",
       "      <td>chevrolet</td>\n",
       "      <td>silverado 1500 double</td>\n",
       "      <td>good</td>\n",
       "      <td>6 cylinders</td>\n",
       "      <td>gas</td>\n",
       "      <td>29499.0</td>\n",
       "      <td>clean</td>\n",
       "      <td>other</td>\n",
       "      <td>4wd</td>\n",
       "      <td>pickup</td>\n",
       "      <td>silver</td>\n",
       "      <td>al</td>\n",
       "      <td>32.590000</td>\n",
       "      <td>-85.480000</td>\n",
       "      <td>2021-05-03T12:41:33-0500</td>\n",
       "      <td>2021-05-03</td>\n",
       "    </tr>\n",
       "    <tr>\n",
       "      <th>3</th>\n",
       "      <td>auburn</td>\n",
       "      <td>35000</td>\n",
       "      <td>2019.0</td>\n",
       "      <td>toyota</td>\n",
       "      <td>tacoma</td>\n",
       "      <td>excellent</td>\n",
       "      <td>6 cylinders</td>\n",
       "      <td>gas</td>\n",
       "      <td>43000.0</td>\n",
       "      <td>clean</td>\n",
       "      <td>automatic</td>\n",
       "      <td>4wd</td>\n",
       "      <td>truck</td>\n",
       "      <td>grey</td>\n",
       "      <td>al</td>\n",
       "      <td>32.601300</td>\n",
       "      <td>-85.443974</td>\n",
       "      <td>2021-05-03T12:12:59-0500</td>\n",
       "      <td>2021-05-03</td>\n",
       "    </tr>\n",
       "    <tr>\n",
       "      <th>4</th>\n",
       "      <td>auburn</td>\n",
       "      <td>29990</td>\n",
       "      <td>2016.0</td>\n",
       "      <td>chevrolet</td>\n",
       "      <td>colorado extended cab</td>\n",
       "      <td>good</td>\n",
       "      <td>6 cylinders</td>\n",
       "      <td>gas</td>\n",
       "      <td>17302.0</td>\n",
       "      <td>clean</td>\n",
       "      <td>other</td>\n",
       "      <td>4wd</td>\n",
       "      <td>pickup</td>\n",
       "      <td>red</td>\n",
       "      <td>al</td>\n",
       "      <td>32.590000</td>\n",
       "      <td>-85.480000</td>\n",
       "      <td>2021-05-03T11:31:14-0500</td>\n",
       "      <td>2021-05-03</td>\n",
       "    </tr>\n",
       "    <tr>\n",
       "      <th>...</th>\n",
       "      <td>...</td>\n",
       "      <td>...</td>\n",
       "      <td>...</td>\n",
       "      <td>...</td>\n",
       "      <td>...</td>\n",
       "      <td>...</td>\n",
       "      <td>...</td>\n",
       "      <td>...</td>\n",
       "      <td>...</td>\n",
       "      <td>...</td>\n",
       "      <td>...</td>\n",
       "      <td>...</td>\n",
       "      <td>...</td>\n",
       "      <td>...</td>\n",
       "      <td>...</td>\n",
       "      <td>...</td>\n",
       "      <td>...</td>\n",
       "      <td>...</td>\n",
       "      <td>...</td>\n",
       "    </tr>\n",
       "    <tr>\n",
       "      <th>129878</th>\n",
       "      <td>wyoming</td>\n",
       "      <td>25590</td>\n",
       "      <td>2017.0</td>\n",
       "      <td>unknown</td>\n",
       "      <td>Genesis G80 3.8 Sedan 4D</td>\n",
       "      <td>good</td>\n",
       "      <td>6 cylinders</td>\n",
       "      <td>gas</td>\n",
       "      <td>37608.0</td>\n",
       "      <td>clean</td>\n",
       "      <td>automatic</td>\n",
       "      <td>rwd</td>\n",
       "      <td>sedan</td>\n",
       "      <td>white</td>\n",
       "      <td>wy</td>\n",
       "      <td>33.786500</td>\n",
       "      <td>-84.445400</td>\n",
       "      <td>2021-04-05T02:50:20-0600</td>\n",
       "      <td>2021-04-05</td>\n",
       "    </tr>\n",
       "    <tr>\n",
       "      <th>129879</th>\n",
       "      <td>wyoming</td>\n",
       "      <td>32990</td>\n",
       "      <td>2016.0</td>\n",
       "      <td>infiniti</td>\n",
       "      <td>qx80 sport utility 4d</td>\n",
       "      <td>good</td>\n",
       "      <td>8 cylinders</td>\n",
       "      <td>gas</td>\n",
       "      <td>55612.0</td>\n",
       "      <td>clean</td>\n",
       "      <td>automatic</td>\n",
       "      <td>rwd</td>\n",
       "      <td>other</td>\n",
       "      <td>black</td>\n",
       "      <td>wy</td>\n",
       "      <td>33.779214</td>\n",
       "      <td>-84.411811</td>\n",
       "      <td>2021-04-05T02:41:26-0600</td>\n",
       "      <td>2021-04-05</td>\n",
       "    </tr>\n",
       "    <tr>\n",
       "      <th>129880</th>\n",
       "      <td>wyoming</td>\n",
       "      <td>0</td>\n",
       "      <td>2010.0</td>\n",
       "      <td>toyota</td>\n",
       "      <td>venza</td>\n",
       "      <td>excellent</td>\n",
       "      <td>6 cylinders</td>\n",
       "      <td>gas</td>\n",
       "      <td>155000.0</td>\n",
       "      <td>clean</td>\n",
       "      <td>automatic</td>\n",
       "      <td>4wd</td>\n",
       "      <td>unknown</td>\n",
       "      <td>blue</td>\n",
       "      <td>wy</td>\n",
       "      <td>40.114685</td>\n",
       "      <td>-104.971971</td>\n",
       "      <td>2021-04-04T17:00:48-0600</td>\n",
       "      <td>2021-04-04</td>\n",
       "    </tr>\n",
       "    <tr>\n",
       "      <th>129881</th>\n",
       "      <td>wyoming</td>\n",
       "      <td>33590</td>\n",
       "      <td>2018.0</td>\n",
       "      <td>lexus</td>\n",
       "      <td>gs 350 sedan 4d</td>\n",
       "      <td>good</td>\n",
       "      <td>6 cylinders</td>\n",
       "      <td>gas</td>\n",
       "      <td>30814.0</td>\n",
       "      <td>clean</td>\n",
       "      <td>automatic</td>\n",
       "      <td>rwd</td>\n",
       "      <td>sedan</td>\n",
       "      <td>white</td>\n",
       "      <td>wy</td>\n",
       "      <td>33.779214</td>\n",
       "      <td>-84.411811</td>\n",
       "      <td>2021-04-04T03:21:34-0600</td>\n",
       "      <td>2021-04-04</td>\n",
       "    </tr>\n",
       "    <tr>\n",
       "      <th>129882</th>\n",
       "      <td>wyoming</td>\n",
       "      <td>28990</td>\n",
       "      <td>2018.0</td>\n",
       "      <td>lexus</td>\n",
       "      <td>es 350 sedan 4d</td>\n",
       "      <td>good</td>\n",
       "      <td>6 cylinders</td>\n",
       "      <td>gas</td>\n",
       "      <td>30112.0</td>\n",
       "      <td>clean</td>\n",
       "      <td>other</td>\n",
       "      <td>fwd</td>\n",
       "      <td>sedan</td>\n",
       "      <td>silver</td>\n",
       "      <td>wy</td>\n",
       "      <td>33.786500</td>\n",
       "      <td>-84.445400</td>\n",
       "      <td>2021-04-04T03:21:11-0600</td>\n",
       "      <td>2021-04-04</td>\n",
       "    </tr>\n",
       "  </tbody>\n",
       "</table>\n",
       "<p>129883 rows × 19 columns</p>\n",
       "</div>"
      ],
      "text/plain": [
       "         region  price    year manufacturer                        model  \\\n",
       "0        auburn  15000  2013.0         ford                    f-150 xlt   \n",
       "1        auburn  27990  2012.0          gmc  sierra 2500 hd extended cab   \n",
       "2        auburn  34590  2016.0    chevrolet        silverado 1500 double   \n",
       "3        auburn  35000  2019.0       toyota                       tacoma   \n",
       "4        auburn  29990  2016.0    chevrolet        colorado extended cab   \n",
       "...         ...    ...     ...          ...                          ...   \n",
       "129878  wyoming  25590  2017.0      unknown     Genesis G80 3.8 Sedan 4D   \n",
       "129879  wyoming  32990  2016.0     infiniti        qx80 sport utility 4d   \n",
       "129880  wyoming      0  2010.0       toyota                        venza   \n",
       "129881  wyoming  33590  2018.0        lexus              gs 350 sedan 4d   \n",
       "129882  wyoming  28990  2018.0        lexus              es 350 sedan 4d   \n",
       "\n",
       "        condition    cylinders fuel  odometer title_status transmission drive  \\\n",
       "0       excellent  6 cylinders  gas  128000.0        clean    automatic   rwd   \n",
       "1            good  8 cylinders  gas   68696.0        clean        other   4wd   \n",
       "2            good  6 cylinders  gas   29499.0        clean        other   4wd   \n",
       "3       excellent  6 cylinders  gas   43000.0        clean    automatic   4wd   \n",
       "4            good  6 cylinders  gas   17302.0        clean        other   4wd   \n",
       "...           ...          ...  ...       ...          ...          ...   ...   \n",
       "129878       good  6 cylinders  gas   37608.0        clean    automatic   rwd   \n",
       "129879       good  8 cylinders  gas   55612.0        clean    automatic   rwd   \n",
       "129880  excellent  6 cylinders  gas  155000.0        clean    automatic   4wd   \n",
       "129881       good  6 cylinders  gas   30814.0        clean    automatic   rwd   \n",
       "129882       good  6 cylinders  gas   30112.0        clean        other   fwd   \n",
       "\n",
       "           type paint_color state        lat        long  \\\n",
       "0         truck       black    al  32.592000  -85.518900   \n",
       "1        pickup       black    al  32.590000  -85.480000   \n",
       "2        pickup      silver    al  32.590000  -85.480000   \n",
       "3         truck        grey    al  32.601300  -85.443974   \n",
       "4        pickup         red    al  32.590000  -85.480000   \n",
       "...         ...         ...   ...        ...         ...   \n",
       "129878    sedan       white    wy  33.786500  -84.445400   \n",
       "129879    other       black    wy  33.779214  -84.411811   \n",
       "129880  unknown        blue    wy  40.114685 -104.971971   \n",
       "129881    sedan       white    wy  33.779214  -84.411811   \n",
       "129882    sedan      silver    wy  33.786500  -84.445400   \n",
       "\n",
       "                    posting_date posting_date2  \n",
       "0       2021-05-03T14:02:03-0500    2021-05-03  \n",
       "1       2021-05-03T13:41:25-0500    2021-05-03  \n",
       "2       2021-05-03T12:41:33-0500    2021-05-03  \n",
       "3       2021-05-03T12:12:59-0500    2021-05-03  \n",
       "4       2021-05-03T11:31:14-0500    2021-05-03  \n",
       "...                          ...           ...  \n",
       "129878  2021-04-05T02:50:20-0600    2021-04-05  \n",
       "129879  2021-04-05T02:41:26-0600    2021-04-05  \n",
       "129880  2021-04-04T17:00:48-0600    2021-04-04  \n",
       "129881  2021-04-04T03:21:34-0600    2021-04-04  \n",
       "129882  2021-04-04T03:21:11-0600    2021-04-04  \n",
       "\n",
       "[129883 rows x 19 columns]"
      ]
     },
     "execution_count": 51,
     "metadata": {},
     "output_type": "execute_result"
    }
   ],
   "source": [
    "#Task 6.0\n",
    "#group up category and graphy by price\n",
    "\n",
    "UsedVehicle"
   ]
  },
  {
   "cell_type": "code",
   "execution_count": 55,
   "id": "51bf2164",
   "metadata": {},
   "outputs": [
    {
     "data": {
      "text/plain": [
       "paint_color\n",
       "black     24264\n",
       "blue      14033\n",
       "brown      3643\n",
       "custom     2846\n",
       "green      4285\n",
       "grey      13579\n",
       "orange      836\n",
       "purple      413\n",
       "red       14080\n",
       "silver    18392\n",
       "white     32300\n",
       "yellow     1212\n",
       "Name: paint_color, dtype: int64"
      ]
     },
     "execution_count": 55,
     "metadata": {},
     "output_type": "execute_result"
    }
   ],
   "source": [
    "#Task 6.1.0\n",
    "#TOP 5 color \n",
    "#Move Comment down here\n",
    "# white     32300\n",
    "# black     24264     \n",
    "# silver    18392    \n",
    "# red       14080\n",
    "# blue      14033\n",
    "\n",
    "UsedVehicle.groupby('paint_color')['paint_color'].count()"
   ]
  },
  {
   "cell_type": "code",
   "execution_count": 56,
   "id": "0884b5ab",
   "metadata": {},
   "outputs": [],
   "source": [
    "#Task  6.1.1\n",
    "#UsedVehicle_new=UsedVehicle.groupby('size')['price'].mean()\n",
    "#paint_color\n",
    "\n",
    "\n",
    "white = UsedVehicle[UsedVehicle['paint_color']=='white']\n",
    "black = UsedVehicle[UsedVehicle['paint_color']=='black']\n",
    "silver = UsedVehicle[UsedVehicle['paint_color']=='silver']\n",
    "red = UsedVehicle[UsedVehicle['paint_color']=='red']\n",
    "blue = UsedVehicle[UsedVehicle['paint_color']=='blue']\n"
   ]
  },
  {
   "cell_type": "code",
   "execution_count": 57,
   "id": "6001387a",
   "metadata": {},
   "outputs": [],
   "source": [
    "white1= white.groupby('year')['price'].mean()\n",
    "black1= black.groupby('year')['price'].mean()\n",
    "silver1= silver.groupby('year')['price'].mean()\n",
    "red1= red.groupby('year')['price'].mean()\n",
    "blue1= blue.groupby('year')['price'].mean()\n",
    "\n",
    "\n"
   ]
  },
  {
   "cell_type": "code",
   "execution_count": 60,
   "id": "3c0175a6",
   "metadata": {},
   "outputs": [
    {
     "data": {
      "text/plain": [
       "year\n",
       "1905.0     3990.000000\n",
       "1927.0     8000.000000\n",
       "1931.0    22500.000000\n",
       "1934.0    32500.000000\n",
       "1937.0    27700.000000\n",
       "              ...     \n",
       "2018.0    28782.796244\n",
       "2019.0    33304.877678\n",
       "2020.0    36504.575025\n",
       "2021.0    39796.183099\n",
       "2022.0     1166.666667\n",
       "Name: price, Length: 82, dtype: float64"
      ]
     },
     "execution_count": 60,
     "metadata": {},
     "output_type": "execute_result"
    }
   ],
   "source": [
    "#Task  6.1.2\n",
    "white1\n",
    "#dataComp=white1.groupby('paint_color')['price'].mean()\n",
    "#dataComp"
   ]
  },
  {
   "cell_type": "code",
   "execution_count": null,
   "id": "9caeb2b9",
   "metadata": {},
   "outputs": [],
   "source": [
    "#Task  6.1.3\n",
    "\n"
   ]
  },
  {
   "cell_type": "code",
   "execution_count": 61,
   "id": "260180a4",
   "metadata": {},
   "outputs": [
    {
     "data": {
      "text/plain": [
       "<AxesSubplot:xlabel='year'>"
      ]
     },
     "execution_count": 61,
     "metadata": {},
     "output_type": "execute_result"
    },
    {
     "data": {
      "image/png": "[encoded data removed]",
      "text/plain": [
       "<Figure size 432x288 with 1 Axes>"
      ]
     },
     "metadata": {
      "needs_background": "light"
     },
     "output_type": "display_data"
    }
   ],
   "source": [
    "white1.plot()"
   ]
  },
  {
   "cell_type": "code",
   "execution_count": 62,
   "id": "b8d7b79c",
   "metadata": {},
   "outputs": [
    {
     "data": {
      "text/plain": [
       "<AxesSubplot:xlabel='year'>"
      ]
     },
     "execution_count": 62,
     "metadata": {},
     "output_type": "execute_result"
    },
    {
     "data": {
      "image/png": "[encoded data removed]",
      "text/plain": [
       "<Figure size 432x288 with 1 Axes>"
      ]
     },
     "metadata": {
      "needs_background": "light"
     },
     "output_type": "display_data"
    }
   ],
   "source": [
    "black1.plot()"
   ]
  },
  {
   "cell_type": "code",
   "execution_count": 63,
   "id": "0915210f",
   "metadata": {},
   "outputs": [
    {
     "data": {
      "text/plain": [
       "<AxesSubplot:xlabel='year'>"
      ]
     },
     "execution_count": 63,
     "metadata": {},
     "output_type": "execute_result"
    },
    {
     "data": {
      "image/png": "[encoded data removed]",
      "text/plain": [
       "<Figure size 432x288 with 1 Axes>"
      ]
     },
     "metadata": {
      "needs_background": "light"
     },
     "output_type": "display_data"
    }
   ],
   "source": [
    "silver1.plot()"
   ]
  },
  {
   "cell_type": "code",
   "execution_count": 64,
   "id": "42df1153",
   "metadata": {},
   "outputs": [
    {
     "data": {
      "text/plain": [
       "<AxesSubplot:xlabel='year'>"
      ]
     },
     "execution_count": 64,
     "metadata": {},
     "output_type": "execute_result"
    },
    {
     "data": {
      "image/png": "[encoded data removed]",
      "text/plain": [
       "<Figure size 432x288 with 1 Axes>"
      ]
     },
     "metadata": {
      "needs_background": "light"
     },
     "output_type": "display_data"
    }
   ],
   "source": [
    "red1.plot()"
   ]
  },
  {
   "cell_type": "code",
   "execution_count": 65,
   "id": "a7964b29",
   "metadata": {},
   "outputs": [
    {
     "data": {
      "text/plain": [
       "<AxesSubplot:xlabel='year'>"
      ]
     },
     "execution_count": 65,
     "metadata": {},
     "output_type": "execute_result"
    },
    {
     "data": {
      "image/png": "[encoded data removed]",
      "text/plain": [
       "<Figure size 432x288 with 1 Axes>"
      ]
     },
     "metadata": {
      "needs_background": "light"
     },
     "output_type": "display_data"
    }
   ],
   "source": [
    "blue1.plot()"
   ]
  },
  {
   "cell_type": "markdown",
   "id": "60b06051",
   "metadata": {},
   "source": [
    "Filter by Type to compare price\n",
    "\n",
    "There are the following type of vehicles but we will go for top 4-5 types\n",
    "'pickup', \n",
    "'truck', \n",
    "'other', \n",
    "'unknown', \n",
    "'coupe', \n",
    "'SUV', \n",
    "'hatchback',\n",
    "'mini-van',\n",
    "'sedan', \n",
    "'offroad', \n",
    "'bus', \n",
    "'van', \n",
    "'convertible',\n",
    "'wagon']\n",
    "\n",
    "I will choose trucks, SUV, mini-van,sedan and pickup.  Below is count of each type"
   ]
  },
  {
   "cell_type": "code",
   "execution_count": 66,
   "id": "d7346ed3",
   "metadata": {},
   "outputs": [
    {
     "data": {
      "text/plain": [
       "type\n",
       "SUV            28030\n",
       "bus              234\n",
       "convertible     3741\n",
       "coupe           8903\n",
       "hatchback       4664\n",
       "mini-van        2798\n",
       "offroad          511\n",
       "other           3326\n",
       "pickup         12915\n",
       "sedan          31931\n",
       "truck          16835\n",
       "unknown         9361\n",
       "van             3484\n",
       "wagon           3150\n",
       "Name: type, dtype: int64"
      ]
     },
     "execution_count": 66,
     "metadata": {},
     "output_type": "execute_result"
    }
   ],
   "source": [
    "#Task  6.2.0\n",
    "UsedVehicle.groupby('type')['type'].count()"
   ]
  },
  {
   "cell_type": "code",
   "execution_count": 67,
   "id": "d8d38e5a",
   "metadata": {},
   "outputs": [
    {
     "data": {
      "text/html": [
       "<div>\n",
       "<style scoped>\n",
       "    .dataframe tbody tr th:only-of-type {\n",
       "        vertical-align: middle;\n",
       "    }\n",
       "\n",
       "    .dataframe tbody tr th {\n",
       "        vertical-align: top;\n",
       "    }\n",
       "\n",
       "    .dataframe thead th {\n",
       "        text-align: right;\n",
       "    }\n",
       "</style>\n",
       "<table border=\"1\" class=\"dataframe\">\n",
       "  <thead>\n",
       "    <tr style=\"text-align: right;\">\n",
       "      <th></th>\n",
       "      <th>type</th>\n",
       "      <th>price</th>\n",
       "    </tr>\n",
       "  </thead>\n",
       "  <tbody>\n",
       "    <tr>\n",
       "      <th>0</th>\n",
       "      <td>truck</td>\n",
       "      <td>15000</td>\n",
       "    </tr>\n",
       "    <tr>\n",
       "      <th>1</th>\n",
       "      <td>pickup</td>\n",
       "      <td>27990</td>\n",
       "    </tr>\n",
       "    <tr>\n",
       "      <th>2</th>\n",
       "      <td>pickup</td>\n",
       "      <td>34590</td>\n",
       "    </tr>\n",
       "    <tr>\n",
       "      <th>3</th>\n",
       "      <td>truck</td>\n",
       "      <td>35000</td>\n",
       "    </tr>\n",
       "    <tr>\n",
       "      <th>4</th>\n",
       "      <td>pickup</td>\n",
       "      <td>29990</td>\n",
       "    </tr>\n",
       "    <tr>\n",
       "      <th>...</th>\n",
       "      <td>...</td>\n",
       "      <td>...</td>\n",
       "    </tr>\n",
       "    <tr>\n",
       "      <th>129878</th>\n",
       "      <td>sedan</td>\n",
       "      <td>25590</td>\n",
       "    </tr>\n",
       "    <tr>\n",
       "      <th>129879</th>\n",
       "      <td>other</td>\n",
       "      <td>32990</td>\n",
       "    </tr>\n",
       "    <tr>\n",
       "      <th>129880</th>\n",
       "      <td>unknown</td>\n",
       "      <td>0</td>\n",
       "    </tr>\n",
       "    <tr>\n",
       "      <th>129881</th>\n",
       "      <td>sedan</td>\n",
       "      <td>33590</td>\n",
       "    </tr>\n",
       "    <tr>\n",
       "      <th>129882</th>\n",
       "      <td>sedan</td>\n",
       "      <td>28990</td>\n",
       "    </tr>\n",
       "  </tbody>\n",
       "</table>\n",
       "<p>129883 rows × 2 columns</p>\n",
       "</div>"
      ],
      "text/plain": [
       "           type  price\n",
       "0         truck  15000\n",
       "1        pickup  27990\n",
       "2        pickup  34590\n",
       "3         truck  35000\n",
       "4        pickup  29990\n",
       "...         ...    ...\n",
       "129878    sedan  25590\n",
       "129879    other  32990\n",
       "129880  unknown      0\n",
       "129881    sedan  33590\n",
       "129882    sedan  28990\n",
       "\n",
       "[129883 rows x 2 columns]"
      ]
     },
     "execution_count": 67,
     "metadata": {},
     "output_type": "execute_result"
    }
   ],
   "source": [
    "#Task  6.2.1\n",
    "\n",
    "UsedVehicle[['type','price']]"
   ]
  },
  {
   "cell_type": "code",
   "execution_count": 68,
   "id": "dda4e53f",
   "metadata": {},
   "outputs": [],
   "source": [
    "#Task  6.2.2\n",
    "    \n",
    "SUV = UsedVehicle[UsedVehicle['type']=='SUV']\n",
    "MINI = UsedVehicle[UsedVehicle['type']=='mini-van']\n",
    "PICKUP = UsedVehicle[UsedVehicle['type']=='pickup']\n",
    "SEDAN = UsedVehicle[UsedVehicle['type']=='sedan']\n",
    "TRUCK = UsedVehicle[UsedVehicle['type']=='truck']\n"
   ]
  },
  {
   "cell_type": "code",
   "execution_count": 69,
   "id": "bd74813b",
   "metadata": {},
   "outputs": [
    {
     "name": "stdout",
     "output_type": "stream",
     "text": [
      "Price is zero: 1212\n",
      "Total SUV count: 28030\n",
      "0.043239386371744556\n"
     ]
    }
   ],
   "source": [
    "#Task  6.2.3\n",
    "#need to select a different type as there is \n",
    "#~ 8.4% is zero\n",
    "\n",
    "a=  len (SUV[SUV['price']==0])\n",
    "b = len(SUV['price'])\n",
    "print('Price is zero: '+ str(a))\n",
    "print ('Total SUV count: '+ str(b))\n",
    "print(a/b)"
   ]
  },
  {
   "cell_type": "code",
   "execution_count": 70,
   "id": "2fd374ba",
   "metadata": {},
   "outputs": [
    {
     "data": {
      "text/plain": [
       "year\n",
       "1900.0    38250.000000\n",
       "1946.0     8000.000000\n",
       "1955.0    12500.000000\n",
       "1957.0     2500.000000\n",
       "1959.0    17500.000000\n",
       "              ...     \n",
       "2018.0    27270.586649\n",
       "2019.0    27226.593625\n",
       "2020.0    33008.559767\n",
       "2021.0    35058.364865\n",
       "2022.0    29287.500000\n",
       "Name: price, Length: 65, dtype: float64"
      ]
     },
     "execution_count": 70,
     "metadata": {},
     "output_type": "execute_result"
    }
   ],
   "source": [
    " #Task  6.2.4\n",
    "suv1=SUV.groupby('year')['price'].mean()\n",
    "suv1"
   ]
  },
  {
   "cell_type": "code",
   "execution_count": 71,
   "id": "9a9e3747",
   "metadata": {},
   "outputs": [
    {
     "data": {
      "text/plain": [
       "<AxesSubplot:xlabel='year'>"
      ]
     },
     "execution_count": 71,
     "metadata": {},
     "output_type": "execute_result"
    },
    {
     "data": {
      "image/png": "[encoded data removed]",
      "text/plain": [
       "<Figure size 432x288 with 1 Axes>"
      ]
     },
     "metadata": {
      "needs_background": "light"
     },
     "output_type": "display_data"
    }
   ],
   "source": [
    "#Task  6.2.5\n",
    "suv1.plot()"
   ]
  },
  {
   "cell_type": "code",
   "execution_count": 72,
   "id": "de06130c",
   "metadata": {},
   "outputs": [
    {
     "name": "stdout",
     "output_type": "stream",
     "text": [
      "Price is zero: 105\n",
      "Total MINI count: 2798\n",
      "0.03752680486061472\n"
     ]
    }
   ],
   "source": [
    "#Task  6.2.5\n",
    "a=  len (MINI[MINI['price']==0])\n",
    "b = len(MINI['price'])\n",
    "print('Price is zero: '+ str(a))\n",
    "print ('Total MINI count: '+ str(b))\n",
    "print(a/b)"
   ]
  },
  {
   "cell_type": "code",
   "execution_count": 73,
   "id": "b7c8c39b",
   "metadata": {},
   "outputs": [
    {
     "data": {
      "text/plain": [
       "year\n",
       "1956.0    29000.000000\n",
       "1971.0     6500.000000\n",
       "1980.0     2250.000000\n",
       "1987.0    16062.500000\n",
       "1989.0      500.000000\n",
       "1990.0     3000.000000\n",
       "1991.0      700.000000\n",
       "1992.0    10747.000000\n",
       "1993.0     9622.500000\n",
       "1994.0     1769.000000\n",
       "1995.0    10286.272727\n",
       "1996.0     2862.666667\n",
       "1997.0     2050.000000\n",
       "1998.0     3896.904762\n",
       "1999.0     3088.961538\n",
       "2000.0     3700.000000\n",
       "2001.0     3733.186047\n",
       "2002.0     3065.887097\n",
       "2003.0     3685.346667\n",
       "2004.0     4156.169492\n",
       "2005.0     3811.552326\n",
       "2006.0     5221.031414\n",
       "2007.0     4803.395122\n",
       "2008.0     5321.158798\n",
       "2009.0     6031.031579\n",
       "2010.0     6513.510870\n",
       "2011.0     9029.190184\n",
       "2012.0     9659.161905\n",
       "2013.0     9488.367521\n",
       "2014.0    11024.485714\n",
       "2015.0    12631.985915\n",
       "2016.0    14119.525974\n",
       "2017.0    17653.301075\n",
       "2018.0    20222.430380\n",
       "2019.0    23145.433333\n",
       "2020.0    37420.814815\n",
       "2021.0     8946.250000\n",
       "Name: price, dtype: float64"
      ]
     },
     "execution_count": 73,
     "metadata": {},
     "output_type": "execute_result"
    }
   ],
   "source": [
    "#Task  6.2.6\n",
    "mini1 =MINI.groupby('year')['price'].mean()\n",
    "mini1"
   ]
  },
  {
   "cell_type": "code",
   "execution_count": 74,
   "id": "45d7c268",
   "metadata": {},
   "outputs": [
    {
     "data": {
      "text/plain": [
       "<AxesSubplot:xlabel='year'>"
      ]
     },
     "execution_count": 74,
     "metadata": {},
     "output_type": "execute_result"
    },
    {
     "data": {
      "image/png": "[encoded data removed]",
      "text/plain": [
       "<Figure size 432x288 with 1 Axes>"
      ]
     },
     "metadata": {
      "needs_background": "light"
     },
     "output_type": "display_data"
    }
   ],
   "source": [
    "#Task  6.2.7\n",
    "mini1.plot()\n"
   ]
  },
  {
   "cell_type": "code",
   "execution_count": 75,
   "id": "399cdc83",
   "metadata": {},
   "outputs": [
    {
     "name": "stdout",
     "output_type": "stream",
     "text": [
      "Price is zero: 345\n",
      "Total PICKUP count: 12915\n",
      "0.026713124274099883\n"
     ]
    }
   ],
   "source": [
    "#Task  6.2.7\n",
    "a=  len (PICKUP[PICKUP['price']==0])\n",
    "b = len(PICKUP['price'])\n",
    "print('Price is zero: '+ str(a))\n",
    "print ('Total PICKUP count: '+ str(b))\n",
    "print(a/b)"
   ]
  },
  {
   "cell_type": "code",
   "execution_count": 76,
   "id": "72df88a8",
   "metadata": {},
   "outputs": [
    {
     "data": {
      "text/plain": [
       "year\n",
       "1923.0    25000.000000\n",
       "1925.0    10000.000000\n",
       "1927.0     3700.000000\n",
       "1928.0    30833.333333\n",
       "1929.0    10300.000000\n",
       "              ...     \n",
       "2017.0    32641.279959\n",
       "2018.0    35271.441055\n",
       "2019.0    39977.879041\n",
       "2020.0    42705.655949\n",
       "2021.0    51770.105263\n",
       "Name: price, Length: 92, dtype: float64"
      ]
     },
     "execution_count": 76,
     "metadata": {},
     "output_type": "execute_result"
    }
   ],
   "source": [
    "#Task  6.2.9\n",
    "pickup1 = PICKUP.groupby('year')['price'].mean()\n",
    "pickup1\n"
   ]
  },
  {
   "cell_type": "code",
   "execution_count": 77,
   "id": "d2649b59",
   "metadata": {},
   "outputs": [
    {
     "data": {
      "text/plain": [
       "<AxesSubplot:xlabel='year'>"
      ]
     },
     "execution_count": 77,
     "metadata": {},
     "output_type": "execute_result"
    },
    {
     "data": {
      "image/png": "[encoded data removed]",
      "text/plain": [
       "<Figure size 432x288 with 1 Axes>"
      ]
     },
     "metadata": {
      "needs_background": "light"
     },
     "output_type": "display_data"
    }
   ],
   "source": [
    "#Task  6.2.10\n",
    "pickup1.plot()"
   ]
  },
  {
   "cell_type": "code",
   "execution_count": 78,
   "id": "20a7f00c",
   "metadata": {},
   "outputs": [
    {
     "name": "stdout",
     "output_type": "stream",
     "text": [
      "Price is zero: 1023\n",
      "Total SEDAN count: 31931\n",
      "0.032037831574332154\n"
     ]
    }
   ],
   "source": [
    "#Task  6.2.11\n",
    "a=  len (SEDAN[SEDAN['price']==0])\n",
    "b = len(SEDAN['price'])\n",
    "print('Price is zero: '+ str(a))\n",
    "print ('Total SEDAN count: '+ str(b))\n",
    "print(a/b)"
   ]
  },
  {
   "cell_type": "code",
   "execution_count": 79,
   "id": "433ba39a",
   "metadata": {},
   "outputs": [
    {
     "data": {
      "text/plain": [
       "year\n",
       "1924.0    22000.000000\n",
       "1927.0    10333.333333\n",
       "1928.0    31416.666667\n",
       "1929.0    21975.000000\n",
       "1930.0    18600.000000\n",
       "              ...     \n",
       "2017.0    16638.239669\n",
       "2018.0    19330.255831\n",
       "2019.0    24247.832061\n",
       "2020.0    28512.968379\n",
       "2021.0    22466.666667\n",
       "Name: price, Length: 93, dtype: float64"
      ]
     },
     "execution_count": 79,
     "metadata": {},
     "output_type": "execute_result"
    }
   ],
   "source": [
    "sedan1 = SEDAN.groupby('year')['price'].mean()\n",
    "sedan1"
   ]
  },
  {
   "cell_type": "code",
   "execution_count": 80,
   "id": "50c312ee",
   "metadata": {},
   "outputs": [
    {
     "data": {
      "text/plain": [
       "<AxesSubplot:xlabel='year'>"
      ]
     },
     "execution_count": 80,
     "metadata": {},
     "output_type": "execute_result"
    },
    {
     "data": {
      "image/png": "[encoded data removed]",
      "text/plain": [
       "<Figure size 432x288 with 1 Axes>"
      ]
     },
     "metadata": {
      "needs_background": "light"
     },
     "output_type": "display_data"
    }
   ],
   "source": [
    "#Task  6.2.10\n",
    "sedan1.plot()"
   ]
  },
  {
   "cell_type": "code",
   "execution_count": 81,
   "id": "e71efce9",
   "metadata": {},
   "outputs": [
    {
     "name": "stdout",
     "output_type": "stream",
     "text": [
      "Price is zero: 1001\n",
      "Total TRUCK count: 16835\n",
      "0.05945945945945946\n"
     ]
    }
   ],
   "source": [
    "#Task  6.2.11\n",
    "a=  len (TRUCK[TRUCK['price']==0])\n",
    "b = len(TRUCK['price'])\n",
    "print('Price is zero: '+ str(a))\n",
    "print ('Total TRUCK count: '+ str(b))\n",
    "print(a/b)"
   ]
  },
  {
   "cell_type": "code",
   "execution_count": 82,
   "id": "f5e98980",
   "metadata": {},
   "outputs": [],
   "source": [
    "truck1=  TRUCK.groupby('year')['price'].mean()"
   ]
  },
  {
   "cell_type": "code",
   "execution_count": 83,
   "id": "20cebe12",
   "metadata": {},
   "outputs": [
    {
     "data": {
      "text/plain": [
       "<AxesSubplot:xlabel='year'>"
      ]
     },
     "execution_count": 83,
     "metadata": {},
     "output_type": "execute_result"
    },
    {
     "data": {
      "image/png": "[encoded data removed]",
      "text/plain": [
       "<Figure size 432x288 with 1 Axes>"
      ]
     },
     "metadata": {
      "needs_background": "light"
     },
     "output_type": "display_data"
    }
   ],
   "source": [
    "#Task  6.2.12\n",
    "truck1.plot()"
   ]
  },
  {
   "cell_type": "markdown",
   "id": "025fe1c0",
   "metadata": {},
   "source": [
    "Hypothesis Testing"
   ]
  },
  {
   "cell_type": "code",
   "execution_count": 84,
   "id": "34a3422c",
   "metadata": {},
   "outputs": [],
   "source": [
    "#Task 7.0.0\n",
    "import scipy.stats as stats\n",
    "import statsmodels.api as sm\n",
    "from statsmodels.formula.api import ols\n"
   ]
  },
  {
   "cell_type": "code",
   "execution_count": 85,
   "id": "34944785",
   "metadata": {},
   "outputs": [],
   "source": [
    "#Task 7.1.0\n",
    "gmcvehicle=UsedVehicle[UsedVehicle['manufacturer']== 'gmc']"
   ]
  },
  {
   "cell_type": "code",
   "execution_count": 86,
   "id": "792b8bb1",
   "metadata": {},
   "outputs": [
    {
     "data": {
      "text/html": [
       "<div>\n",
       "<style scoped>\n",
       "    .dataframe tbody tr th:only-of-type {\n",
       "        vertical-align: middle;\n",
       "    }\n",
       "\n",
       "    .dataframe tbody tr th {\n",
       "        vertical-align: top;\n",
       "    }\n",
       "\n",
       "    .dataframe thead th {\n",
       "        text-align: right;\n",
       "    }\n",
       "</style>\n",
       "<table border=\"1\" class=\"dataframe\">\n",
       "  <thead>\n",
       "    <tr style=\"text-align: right;\">\n",
       "      <th></th>\n",
       "      <th>region</th>\n",
       "      <th>price</th>\n",
       "      <th>year</th>\n",
       "      <th>manufacturer</th>\n",
       "      <th>model</th>\n",
       "      <th>condition</th>\n",
       "      <th>cylinders</th>\n",
       "      <th>fuel</th>\n",
       "      <th>odometer</th>\n",
       "      <th>title_status</th>\n",
       "      <th>transmission</th>\n",
       "      <th>drive</th>\n",
       "      <th>type</th>\n",
       "      <th>paint_color</th>\n",
       "      <th>state</th>\n",
       "      <th>lat</th>\n",
       "      <th>long</th>\n",
       "      <th>posting_date</th>\n",
       "      <th>posting_date2</th>\n",
       "    </tr>\n",
       "  </thead>\n",
       "  <tbody>\n",
       "    <tr>\n",
       "      <th>1</th>\n",
       "      <td>auburn</td>\n",
       "      <td>27990</td>\n",
       "      <td>2012.0</td>\n",
       "      <td>gmc</td>\n",
       "      <td>sierra 2500 hd extended cab</td>\n",
       "      <td>good</td>\n",
       "      <td>8 cylinders</td>\n",
       "      <td>gas</td>\n",
       "      <td>68696.0</td>\n",
       "      <td>clean</td>\n",
       "      <td>other</td>\n",
       "      <td>4wd</td>\n",
       "      <td>pickup</td>\n",
       "      <td>black</td>\n",
       "      <td>al</td>\n",
       "      <td>32.5900</td>\n",
       "      <td>-85.480</td>\n",
       "      <td>2021-05-03T13:41:25-0500</td>\n",
       "      <td>2021-05-03</td>\n",
       "    </tr>\n",
       "    <tr>\n",
       "      <th>20</th>\n",
       "      <td>auburn</td>\n",
       "      <td>36590</td>\n",
       "      <td>2019.0</td>\n",
       "      <td>gmc</td>\n",
       "      <td>sierra 1500 limited double</td>\n",
       "      <td>good</td>\n",
       "      <td>8 cylinders</td>\n",
       "      <td>gas</td>\n",
       "      <td>14222.0</td>\n",
       "      <td>clean</td>\n",
       "      <td>other</td>\n",
       "      <td>4wd</td>\n",
       "      <td>pickup</td>\n",
       "      <td>blue</td>\n",
       "      <td>al</td>\n",
       "      <td>32.5900</td>\n",
       "      <td>-85.480</td>\n",
       "      <td>2021-04-18T11:21:35-0500</td>\n",
       "      <td>2021-04-18</td>\n",
       "    </tr>\n",
       "    <tr>\n",
       "      <th>26</th>\n",
       "      <td>auburn</td>\n",
       "      <td>28590</td>\n",
       "      <td>2018.0</td>\n",
       "      <td>gmc</td>\n",
       "      <td>acadia sle-2 sport utility</td>\n",
       "      <td>good</td>\n",
       "      <td>6 cylinders</td>\n",
       "      <td>gas</td>\n",
       "      <td>20736.0</td>\n",
       "      <td>clean</td>\n",
       "      <td>other</td>\n",
       "      <td>fwd</td>\n",
       "      <td>SUV</td>\n",
       "      <td>white</td>\n",
       "      <td>al</td>\n",
       "      <td>32.5900</td>\n",
       "      <td>-85.480</td>\n",
       "      <td>2021-04-15T11:00:40-0500</td>\n",
       "      <td>2021-04-15</td>\n",
       "    </tr>\n",
       "    <tr>\n",
       "      <th>63</th>\n",
       "      <td>birmingham</td>\n",
       "      <td>12500</td>\n",
       "      <td>2008.0</td>\n",
       "      <td>gmc</td>\n",
       "      <td>yukon xl</td>\n",
       "      <td>excellent</td>\n",
       "      <td>8 cylinders</td>\n",
       "      <td>gas</td>\n",
       "      <td>177326.0</td>\n",
       "      <td>clean</td>\n",
       "      <td>automatic</td>\n",
       "      <td>rwd</td>\n",
       "      <td>SUV</td>\n",
       "      <td>black</td>\n",
       "      <td>al</td>\n",
       "      <td>33.5554</td>\n",
       "      <td>-86.887</td>\n",
       "      <td>2021-05-03T15:46:48-0500</td>\n",
       "      <td>2021-05-03</td>\n",
       "    </tr>\n",
       "    <tr>\n",
       "      <th>65</th>\n",
       "      <td>birmingham</td>\n",
       "      <td>27990</td>\n",
       "      <td>2012.0</td>\n",
       "      <td>gmc</td>\n",
       "      <td>sierra 2500 hd extended cab</td>\n",
       "      <td>good</td>\n",
       "      <td>8 cylinders</td>\n",
       "      <td>gas</td>\n",
       "      <td>68696.0</td>\n",
       "      <td>clean</td>\n",
       "      <td>other</td>\n",
       "      <td>4wd</td>\n",
       "      <td>pickup</td>\n",
       "      <td>black</td>\n",
       "      <td>al</td>\n",
       "      <td>33.5200</td>\n",
       "      <td>-86.790</td>\n",
       "      <td>2021-05-03T14:21:01-0500</td>\n",
       "      <td>2021-05-03</td>\n",
       "    </tr>\n",
       "  </tbody>\n",
       "</table>\n",
       "</div>"
      ],
      "text/plain": [
       "        region  price    year manufacturer                        model  \\\n",
       "1       auburn  27990  2012.0          gmc  sierra 2500 hd extended cab   \n",
       "20      auburn  36590  2019.0          gmc   sierra 1500 limited double   \n",
       "26      auburn  28590  2018.0          gmc   acadia sle-2 sport utility   \n",
       "63  birmingham  12500  2008.0          gmc                     yukon xl   \n",
       "65  birmingham  27990  2012.0          gmc  sierra 2500 hd extended cab   \n",
       "\n",
       "    condition    cylinders fuel  odometer title_status transmission drive  \\\n",
       "1        good  8 cylinders  gas   68696.0        clean        other   4wd   \n",
       "20       good  8 cylinders  gas   14222.0        clean        other   4wd   \n",
       "26       good  6 cylinders  gas   20736.0        clean        other   fwd   \n",
       "63  excellent  8 cylinders  gas  177326.0        clean    automatic   rwd   \n",
       "65       good  8 cylinders  gas   68696.0        clean        other   4wd   \n",
       "\n",
       "      type paint_color state      lat    long              posting_date  \\\n",
       "1   pickup       black    al  32.5900 -85.480  2021-05-03T13:41:25-0500   \n",
       "20  pickup        blue    al  32.5900 -85.480  2021-04-18T11:21:35-0500   \n",
       "26     SUV       white    al  32.5900 -85.480  2021-04-15T11:00:40-0500   \n",
       "63     SUV       black    al  33.5554 -86.887  2021-05-03T15:46:48-0500   \n",
       "65  pickup       black    al  33.5200 -86.790  2021-05-03T14:21:01-0500   \n",
       "\n",
       "   posting_date2  \n",
       "1     2021-05-03  \n",
       "20    2021-04-18  \n",
       "26    2021-04-15  \n",
       "63    2021-05-03  \n",
       "65    2021-05-03  "
      ]
     },
     "execution_count": 86,
     "metadata": {},
     "output_type": "execute_result"
    }
   ],
   "source": [
    "#Task 7.1.1\n",
    "gmcvehicle.head()"
   ]
  },
  {
   "cell_type": "code",
   "execution_count": 87,
   "id": "810f0c3b",
   "metadata": {},
   "outputs": [],
   "source": [
    "#Task 7.1.2\n",
    "ANOVData=gmcvehicle[['model','price']]"
   ]
  },
  {
   "cell_type": "code",
   "execution_count": 88,
   "id": "b25934b4",
   "metadata": {},
   "outputs": [
    {
     "data": {
      "text/html": [
       "<div>\n",
       "<style scoped>\n",
       "    .dataframe tbody tr th:only-of-type {\n",
       "        vertical-align: middle;\n",
       "    }\n",
       "\n",
       "    .dataframe tbody tr th {\n",
       "        vertical-align: top;\n",
       "    }\n",
       "\n",
       "    .dataframe thead th {\n",
       "        text-align: right;\n",
       "    }\n",
       "</style>\n",
       "<table border=\"1\" class=\"dataframe\">\n",
       "  <thead>\n",
       "    <tr style=\"text-align: right;\">\n",
       "      <th></th>\n",
       "      <th>df</th>\n",
       "      <th>sum_sq</th>\n",
       "      <th>mean_sq</th>\n",
       "      <th>F</th>\n",
       "      <th>PR(&gt;F)</th>\n",
       "    </tr>\n",
       "  </thead>\n",
       "  <tbody>\n",
       "    <tr>\n",
       "      <th>C(model)</th>\n",
       "      <td>552.0</td>\n",
       "      <td>4.193105e+14</td>\n",
       "      <td>7.596205e+11</td>\n",
       "      <td>0.236418</td>\n",
       "      <td>1.0</td>\n",
       "    </tr>\n",
       "    <tr>\n",
       "      <th>Residual</th>\n",
       "      <td>4611.0</td>\n",
       "      <td>1.481531e+16</td>\n",
       "      <td>3.213036e+12</td>\n",
       "      <td>NaN</td>\n",
       "      <td>NaN</td>\n",
       "    </tr>\n",
       "  </tbody>\n",
       "</table>\n",
       "</div>"
      ],
      "text/plain": [
       "              df        sum_sq       mean_sq         F  PR(>F)\n",
       "C(model)   552.0  4.193105e+14  7.596205e+11  0.236418     1.0\n",
       "Residual  4611.0  1.481531e+16  3.213036e+12       NaN     NaN"
      ]
     },
     "execution_count": 88,
     "metadata": {},
     "output_type": "execute_result"
    }
   ],
   "source": [
    "#Task 7.1.3\n",
    "from bioinfokit.analys import stat\n",
    "res = stat()\n",
    "res.anova_stat(df=ANOVData, res_var='price', anova_model='price ~ C(model)')\n",
    "res.anova_summary"
   ]
  },
  {
   "cell_type": "code",
   "execution_count": 89,
   "id": "5a758b68",
   "metadata": {},
   "outputs": [],
   "source": [
    "#Task 7.2.1\n",
    "ford=UsedVehicle[UsedVehicle['manufacturer']== 'ford']"
   ]
  },
  {
   "cell_type": "code",
   "execution_count": 90,
   "id": "9e04f7ad",
   "metadata": {},
   "outputs": [],
   "source": [
    "#Task 7.2.2\n",
    "FordData=ford[['model','price']]"
   ]
  },
  {
   "cell_type": "code",
   "execution_count": 91,
   "id": "8bd3157e",
   "metadata": {},
   "outputs": [
    {
     "data": {
      "text/html": [
       "<div>\n",
       "<style scoped>\n",
       "    .dataframe tbody tr th:only-of-type {\n",
       "        vertical-align: middle;\n",
       "    }\n",
       "\n",
       "    .dataframe tbody tr th {\n",
       "        vertical-align: top;\n",
       "    }\n",
       "\n",
       "    .dataframe thead th {\n",
       "        text-align: right;\n",
       "    }\n",
       "</style>\n",
       "<table border=\"1\" class=\"dataframe\">\n",
       "  <thead>\n",
       "    <tr style=\"text-align: right;\">\n",
       "      <th></th>\n",
       "      <th>df</th>\n",
       "      <th>sum_sq</th>\n",
       "      <th>mean_sq</th>\n",
       "      <th>F</th>\n",
       "      <th>PR(&gt;F)</th>\n",
       "    </tr>\n",
       "  </thead>\n",
       "  <tbody>\n",
       "    <tr>\n",
       "      <th>C(model)</th>\n",
       "      <td>1925.0</td>\n",
       "      <td>5.611312e+16</td>\n",
       "      <td>2.914967e+13</td>\n",
       "      <td>0.512014</td>\n",
       "      <td>1.0</td>\n",
       "    </tr>\n",
       "    <tr>\n",
       "      <th>Residual</th>\n",
       "      <td>20698.0</td>\n",
       "      <td>1.178367e+18</td>\n",
       "      <td>5.693143e+13</td>\n",
       "      <td>NaN</td>\n",
       "      <td>NaN</td>\n",
       "    </tr>\n",
       "  </tbody>\n",
       "</table>\n",
       "</div>"
      ],
      "text/plain": [
       "               df        sum_sq       mean_sq         F  PR(>F)\n",
       "C(model)   1925.0  5.611312e+16  2.914967e+13  0.512014     1.0\n",
       "Residual  20698.0  1.178367e+18  5.693143e+13       NaN     NaN"
      ]
     },
     "execution_count": 91,
     "metadata": {},
     "output_type": "execute_result"
    }
   ],
   "source": [
    "#Task 7.2.3\n",
    "res = stat()\n",
    "res.anova_stat(df=FordData, res_var='price', anova_model='price ~ C(model)')\n",
    "res.anova_summary"
   ]
  },
  {
   "cell_type": "code",
   "execution_count": 92,
   "id": "18dba097",
   "metadata": {},
   "outputs": [],
   "source": [
    "#Task 7.3.1\n",
    "toyata=UsedVehicle[UsedVehicle['manufacturer']== 'toyota']"
   ]
  },
  {
   "cell_type": "code",
   "execution_count": 93,
   "id": "1a853c9f",
   "metadata": {},
   "outputs": [],
   "source": [
    "#Task 7.3.2\n",
    "ToyotaData=toyata[['model','price']]"
   ]
  },
  {
   "cell_type": "code",
   "execution_count": 94,
   "id": "eb382318",
   "metadata": {},
   "outputs": [
    {
     "data": {
      "text/html": [
       "<div>\n",
       "<style scoped>\n",
       "    .dataframe tbody tr th:only-of-type {\n",
       "        vertical-align: middle;\n",
       "    }\n",
       "\n",
       "    .dataframe tbody tr th {\n",
       "        vertical-align: top;\n",
       "    }\n",
       "\n",
       "    .dataframe thead th {\n",
       "        text-align: right;\n",
       "    }\n",
       "</style>\n",
       "<table border=\"1\" class=\"dataframe\">\n",
       "  <thead>\n",
       "    <tr style=\"text-align: right;\">\n",
       "      <th></th>\n",
       "      <th>df</th>\n",
       "      <th>sum_sq</th>\n",
       "      <th>mean_sq</th>\n",
       "      <th>F</th>\n",
       "      <th>PR(&gt;F)</th>\n",
       "    </tr>\n",
       "  </thead>\n",
       "  <tbody>\n",
       "    <tr>\n",
       "      <th>C(model)</th>\n",
       "      <td>828.0</td>\n",
       "      <td>6.468797e+16</td>\n",
       "      <td>7.812557e+13</td>\n",
       "      <td>0.027984</td>\n",
       "      <td>1.0</td>\n",
       "    </tr>\n",
       "    <tr>\n",
       "      <th>Residual</th>\n",
       "      <td>9979.0</td>\n",
       "      <td>2.785922e+19</td>\n",
       "      <td>2.791784e+15</td>\n",
       "      <td>NaN</td>\n",
       "      <td>NaN</td>\n",
       "    </tr>\n",
       "  </tbody>\n",
       "</table>\n",
       "</div>"
      ],
      "text/plain": [
       "              df        sum_sq       mean_sq         F  PR(>F)\n",
       "C(model)   828.0  6.468797e+16  7.812557e+13  0.027984     1.0\n",
       "Residual  9979.0  2.785922e+19  2.791784e+15       NaN     NaN"
      ]
     },
     "execution_count": 94,
     "metadata": {},
     "output_type": "execute_result"
    }
   ],
   "source": [
    "#Task 7.3.3\n",
    "res = stat()\n",
    "res.anova_stat(df=ToyotaData, res_var='price', anova_model='price ~ C(model)')\n",
    "res.anova_summary"
   ]
  },
  {
   "cell_type": "markdown",
   "id": "cd2248eb",
   "metadata": {},
   "source": [
    "All the P"
   ]
  }
 ],
 "metadata": {
  "kernelspec": {
   "display_name": "Python 3",
   "language": "python",
   "name": "python3"
  },
  "language_info": {
   "codemirror_mode": {
    "name": "ipython",
    "version": 3
   },
   "file_extension": ".py",
   "mimetype": "text/x-python",
   "name": "python",
   "nbconvert_exporter": "python",
   "pygments_lexer": "ipython3",
   "version": "3.8.10"
  }
 },
 "nbformat": 4,
 "nbformat_minor": 5
}
