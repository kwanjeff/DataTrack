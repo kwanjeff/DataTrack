{
 "cells": [
  {
   "cell_type": "markdown",
   "id": "47be0c69",
   "metadata": {},
   "source": [
    "data visualization\n",
    "\n",
    "statistical graphing"
   ]
  },
  {
   "cell_type": "code",
   "execution_count": 1,
   "id": "72465956",
   "metadata": {},
   "outputs": [],
   "source": [
    "#Task 1.0  import libraries \n",
    "#import pandas\n",
    "import pandas as pd\n",
    "import matplotlib.pyplot as plt\n",
    "from matplotlib import rcParams\n",
    "import seaborn as sns\n",
    "import numpy as np\n",
    "import os\n",
    "import sklearn\n",
    "from sklearn.model_selection import train_test_split\n",
    "\n",
    "import warnings\n",
    "warnings.filterwarnings(\"ignore\")"
   ]
  },
  {
   "cell_type": "code",
   "execution_count": 2,
   "id": "a5f88e7a",
   "metadata": {},
   "outputs": [],
   "source": [
    "##import inforamtion from cleaned data from previous \n",
    "#Task 1.1  import csv file\n",
    "\n",
    "UsedVehicle=pd.read_csv(r'.\\Data\\UsedCarData\\clean_vehicles.csv', header=0 )"
   ]
  },
  {
   "cell_type": "code",
   "execution_count": 3,
   "id": "ccb1c353",
   "metadata": {},
   "outputs": [
    {
     "data": {
      "text/html": [
       "<div>\n",
       "<style scoped>\n",
       "    .dataframe tbody tr th:only-of-type {\n",
       "        vertical-align: middle;\n",
       "    }\n",
       "\n",
       "    .dataframe tbody tr th {\n",
       "        vertical-align: top;\n",
       "    }\n",
       "\n",
       "    .dataframe thead th {\n",
       "        text-align: right;\n",
       "    }\n",
       "</style>\n",
       "<table border=\"1\" class=\"dataframe\">\n",
       "  <thead>\n",
       "    <tr style=\"text-align: right;\">\n",
       "      <th></th>\n",
       "      <th>region</th>\n",
       "      <th>price</th>\n",
       "      <th>year</th>\n",
       "      <th>manufacturer</th>\n",
       "      <th>model</th>\n",
       "      <th>condition</th>\n",
       "      <th>cylinders</th>\n",
       "      <th>fuel</th>\n",
       "      <th>odometer</th>\n",
       "      <th>title_status</th>\n",
       "      <th>...</th>\n",
       "      <th>drive</th>\n",
       "      <th>size</th>\n",
       "      <th>type</th>\n",
       "      <th>paint_color</th>\n",
       "      <th>description</th>\n",
       "      <th>state</th>\n",
       "      <th>lat</th>\n",
       "      <th>long</th>\n",
       "      <th>posting_date</th>\n",
       "      <th>posting_date2</th>\n",
       "    </tr>\n",
       "  </thead>\n",
       "  <tbody>\n",
       "    <tr>\n",
       "      <th>0</th>\n",
       "      <td>auburn</td>\n",
       "      <td>33590</td>\n",
       "      <td>2014.0</td>\n",
       "      <td>gmc</td>\n",
       "      <td>sierra 1500 crew cab slt</td>\n",
       "      <td>good</td>\n",
       "      <td>8 cylinders</td>\n",
       "      <td>gas</td>\n",
       "      <td>57923.0</td>\n",
       "      <td>clean</td>\n",
       "      <td>...</td>\n",
       "      <td>unknown</td>\n",
       "      <td>unknown</td>\n",
       "      <td>pickup</td>\n",
       "      <td>white</td>\n",
       "      <td>Carvana is the safer way to buy a car During t...</td>\n",
       "      <td>al</td>\n",
       "      <td>32.5900</td>\n",
       "      <td>-85.480000</td>\n",
       "      <td>2021-05-04T12:31:18-0500</td>\n",
       "      <td>2021-05-04</td>\n",
       "    </tr>\n",
       "    <tr>\n",
       "      <th>1</th>\n",
       "      <td>auburn</td>\n",
       "      <td>22590</td>\n",
       "      <td>2010.0</td>\n",
       "      <td>chevrolet</td>\n",
       "      <td>silverado 1500</td>\n",
       "      <td>good</td>\n",
       "      <td>8 cylinders</td>\n",
       "      <td>gas</td>\n",
       "      <td>71229.0</td>\n",
       "      <td>clean</td>\n",
       "      <td>...</td>\n",
       "      <td>unknown</td>\n",
       "      <td>unknown</td>\n",
       "      <td>pickup</td>\n",
       "      <td>blue</td>\n",
       "      <td>Carvana is the safer way to buy a car During t...</td>\n",
       "      <td>al</td>\n",
       "      <td>32.5900</td>\n",
       "      <td>-85.480000</td>\n",
       "      <td>2021-05-04T12:31:08-0500</td>\n",
       "      <td>2021-05-04</td>\n",
       "    </tr>\n",
       "    <tr>\n",
       "      <th>2</th>\n",
       "      <td>auburn</td>\n",
       "      <td>39590</td>\n",
       "      <td>2020.0</td>\n",
       "      <td>chevrolet</td>\n",
       "      <td>silverado 1500 crew</td>\n",
       "      <td>good</td>\n",
       "      <td>8 cylinders</td>\n",
       "      <td>gas</td>\n",
       "      <td>19160.0</td>\n",
       "      <td>clean</td>\n",
       "      <td>...</td>\n",
       "      <td>unknown</td>\n",
       "      <td>unknown</td>\n",
       "      <td>pickup</td>\n",
       "      <td>red</td>\n",
       "      <td>Carvana is the safer way to buy a car During t...</td>\n",
       "      <td>al</td>\n",
       "      <td>32.5900</td>\n",
       "      <td>-85.480000</td>\n",
       "      <td>2021-05-04T12:31:25-0500</td>\n",
       "      <td>2021-05-04</td>\n",
       "    </tr>\n",
       "    <tr>\n",
       "      <th>3</th>\n",
       "      <td>auburn</td>\n",
       "      <td>30990</td>\n",
       "      <td>2017.0</td>\n",
       "      <td>toyota</td>\n",
       "      <td>tundra double cab sr</td>\n",
       "      <td>good</td>\n",
       "      <td>8 cylinders</td>\n",
       "      <td>gas</td>\n",
       "      <td>41124.0</td>\n",
       "      <td>clean</td>\n",
       "      <td>...</td>\n",
       "      <td>unknown</td>\n",
       "      <td>unknown</td>\n",
       "      <td>pickup</td>\n",
       "      <td>red</td>\n",
       "      <td>Carvana is the safer way to buy a car During t...</td>\n",
       "      <td>al</td>\n",
       "      <td>32.5900</td>\n",
       "      <td>-85.480000</td>\n",
       "      <td>2021-05-04T10:41:31-0500</td>\n",
       "      <td>2021-05-04</td>\n",
       "    </tr>\n",
       "    <tr>\n",
       "      <th>4</th>\n",
       "      <td>auburn</td>\n",
       "      <td>15000</td>\n",
       "      <td>2013.0</td>\n",
       "      <td>ford</td>\n",
       "      <td>f-150 xlt</td>\n",
       "      <td>excellent</td>\n",
       "      <td>6 cylinders</td>\n",
       "      <td>gas</td>\n",
       "      <td>128000.0</td>\n",
       "      <td>clean</td>\n",
       "      <td>...</td>\n",
       "      <td>rwd</td>\n",
       "      <td>full-size</td>\n",
       "      <td>truck</td>\n",
       "      <td>black</td>\n",
       "      <td>2013 F-150 XLT V6 4 Door. Good condition. Leve...</td>\n",
       "      <td>al</td>\n",
       "      <td>32.5920</td>\n",
       "      <td>-85.518900</td>\n",
       "      <td>2021-05-03T14:02:03-0500</td>\n",
       "      <td>2021-05-03</td>\n",
       "    </tr>\n",
       "    <tr>\n",
       "      <th>5</th>\n",
       "      <td>auburn</td>\n",
       "      <td>27990</td>\n",
       "      <td>2012.0</td>\n",
       "      <td>gmc</td>\n",
       "      <td>sierra 2500 hd extended cab</td>\n",
       "      <td>good</td>\n",
       "      <td>8 cylinders</td>\n",
       "      <td>gas</td>\n",
       "      <td>68696.0</td>\n",
       "      <td>clean</td>\n",
       "      <td>...</td>\n",
       "      <td>4wd</td>\n",
       "      <td>unknown</td>\n",
       "      <td>pickup</td>\n",
       "      <td>black</td>\n",
       "      <td>Carvana is the safer way to buy a car During t...</td>\n",
       "      <td>al</td>\n",
       "      <td>32.5900</td>\n",
       "      <td>-85.480000</td>\n",
       "      <td>2021-05-03T13:41:25-0500</td>\n",
       "      <td>2021-05-03</td>\n",
       "    </tr>\n",
       "    <tr>\n",
       "      <th>6</th>\n",
       "      <td>auburn</td>\n",
       "      <td>34590</td>\n",
       "      <td>2016.0</td>\n",
       "      <td>chevrolet</td>\n",
       "      <td>silverado 1500 double</td>\n",
       "      <td>good</td>\n",
       "      <td>6 cylinders</td>\n",
       "      <td>gas</td>\n",
       "      <td>29499.0</td>\n",
       "      <td>clean</td>\n",
       "      <td>...</td>\n",
       "      <td>4wd</td>\n",
       "      <td>unknown</td>\n",
       "      <td>pickup</td>\n",
       "      <td>silver</td>\n",
       "      <td>Carvana is the safer way to buy a car During t...</td>\n",
       "      <td>al</td>\n",
       "      <td>32.5900</td>\n",
       "      <td>-85.480000</td>\n",
       "      <td>2021-05-03T12:41:33-0500</td>\n",
       "      <td>2021-05-03</td>\n",
       "    </tr>\n",
       "    <tr>\n",
       "      <th>7</th>\n",
       "      <td>auburn</td>\n",
       "      <td>35000</td>\n",
       "      <td>2019.0</td>\n",
       "      <td>toyota</td>\n",
       "      <td>tacoma</td>\n",
       "      <td>excellent</td>\n",
       "      <td>6 cylinders</td>\n",
       "      <td>gas</td>\n",
       "      <td>43000.0</td>\n",
       "      <td>clean</td>\n",
       "      <td>...</td>\n",
       "      <td>4wd</td>\n",
       "      <td>unknown</td>\n",
       "      <td>truck</td>\n",
       "      <td>grey</td>\n",
       "      <td>Selling my 2019 Toyota Tacoma TRD Off Road Dou...</td>\n",
       "      <td>al</td>\n",
       "      <td>32.6013</td>\n",
       "      <td>-85.443974</td>\n",
       "      <td>2021-05-03T12:12:59-0500</td>\n",
       "      <td>2021-05-03</td>\n",
       "    </tr>\n",
       "    <tr>\n",
       "      <th>8</th>\n",
       "      <td>auburn</td>\n",
       "      <td>29990</td>\n",
       "      <td>2016.0</td>\n",
       "      <td>chevrolet</td>\n",
       "      <td>colorado extended cab</td>\n",
       "      <td>good</td>\n",
       "      <td>6 cylinders</td>\n",
       "      <td>gas</td>\n",
       "      <td>17302.0</td>\n",
       "      <td>clean</td>\n",
       "      <td>...</td>\n",
       "      <td>4wd</td>\n",
       "      <td>unknown</td>\n",
       "      <td>pickup</td>\n",
       "      <td>red</td>\n",
       "      <td>Carvana is the safer way to buy a car During t...</td>\n",
       "      <td>al</td>\n",
       "      <td>32.5900</td>\n",
       "      <td>-85.480000</td>\n",
       "      <td>2021-05-03T11:31:14-0500</td>\n",
       "      <td>2021-05-03</td>\n",
       "    </tr>\n",
       "    <tr>\n",
       "      <th>9</th>\n",
       "      <td>auburn</td>\n",
       "      <td>38590</td>\n",
       "      <td>2011.0</td>\n",
       "      <td>chevrolet</td>\n",
       "      <td>corvette grand sport</td>\n",
       "      <td>good</td>\n",
       "      <td>8 cylinders</td>\n",
       "      <td>gas</td>\n",
       "      <td>30237.0</td>\n",
       "      <td>clean</td>\n",
       "      <td>...</td>\n",
       "      <td>rwd</td>\n",
       "      <td>unknown</td>\n",
       "      <td>other</td>\n",
       "      <td>red</td>\n",
       "      <td>Carvana is the safer way to buy a car During t...</td>\n",
       "      <td>al</td>\n",
       "      <td>32.5900</td>\n",
       "      <td>-85.480000</td>\n",
       "      <td>2021-05-03T07:50:35-0500</td>\n",
       "      <td>2021-05-03</td>\n",
       "    </tr>\n",
       "  </tbody>\n",
       "</table>\n",
       "<p>10 rows × 22 columns</p>\n",
       "</div>"
      ],
      "text/plain": [
       "   region  price    year manufacturer                        model  condition  \\\n",
       "0  auburn  33590  2014.0          gmc     sierra 1500 crew cab slt       good   \n",
       "1  auburn  22590  2010.0    chevrolet               silverado 1500       good   \n",
       "2  auburn  39590  2020.0    chevrolet          silverado 1500 crew       good   \n",
       "3  auburn  30990  2017.0       toyota         tundra double cab sr       good   \n",
       "4  auburn  15000  2013.0         ford                    f-150 xlt  excellent   \n",
       "5  auburn  27990  2012.0          gmc  sierra 2500 hd extended cab       good   \n",
       "6  auburn  34590  2016.0    chevrolet        silverado 1500 double       good   \n",
       "7  auburn  35000  2019.0       toyota                       tacoma  excellent   \n",
       "8  auburn  29990  2016.0    chevrolet        colorado extended cab       good   \n",
       "9  auburn  38590  2011.0    chevrolet         corvette grand sport       good   \n",
       "\n",
       "     cylinders fuel  odometer title_status  ...    drive       size    type  \\\n",
       "0  8 cylinders  gas   57923.0        clean  ...  unknown    unknown  pickup   \n",
       "1  8 cylinders  gas   71229.0        clean  ...  unknown    unknown  pickup   \n",
       "2  8 cylinders  gas   19160.0        clean  ...  unknown    unknown  pickup   \n",
       "3  8 cylinders  gas   41124.0        clean  ...  unknown    unknown  pickup   \n",
       "4  6 cylinders  gas  128000.0        clean  ...      rwd  full-size   truck   \n",
       "5  8 cylinders  gas   68696.0        clean  ...      4wd    unknown  pickup   \n",
       "6  6 cylinders  gas   29499.0        clean  ...      4wd    unknown  pickup   \n",
       "7  6 cylinders  gas   43000.0        clean  ...      4wd    unknown   truck   \n",
       "8  6 cylinders  gas   17302.0        clean  ...      4wd    unknown  pickup   \n",
       "9  8 cylinders  gas   30237.0        clean  ...      rwd    unknown   other   \n",
       "\n",
       "  paint_color                                        description state  \\\n",
       "0       white  Carvana is the safer way to buy a car During t...    al   \n",
       "1        blue  Carvana is the safer way to buy a car During t...    al   \n",
       "2         red  Carvana is the safer way to buy a car During t...    al   \n",
       "3         red  Carvana is the safer way to buy a car During t...    al   \n",
       "4       black  2013 F-150 XLT V6 4 Door. Good condition. Leve...    al   \n",
       "5       black  Carvana is the safer way to buy a car During t...    al   \n",
       "6      silver  Carvana is the safer way to buy a car During t...    al   \n",
       "7        grey  Selling my 2019 Toyota Tacoma TRD Off Road Dou...    al   \n",
       "8         red  Carvana is the safer way to buy a car During t...    al   \n",
       "9         red  Carvana is the safer way to buy a car During t...    al   \n",
       "\n",
       "       lat       long              posting_date  posting_date2  \n",
       "0  32.5900 -85.480000  2021-05-04T12:31:18-0500     2021-05-04  \n",
       "1  32.5900 -85.480000  2021-05-04T12:31:08-0500     2021-05-04  \n",
       "2  32.5900 -85.480000  2021-05-04T12:31:25-0500     2021-05-04  \n",
       "3  32.5900 -85.480000  2021-05-04T10:41:31-0500     2021-05-04  \n",
       "4  32.5920 -85.518900  2021-05-03T14:02:03-0500     2021-05-03  \n",
       "5  32.5900 -85.480000  2021-05-03T13:41:25-0500     2021-05-03  \n",
       "6  32.5900 -85.480000  2021-05-03T12:41:33-0500     2021-05-03  \n",
       "7  32.6013 -85.443974  2021-05-03T12:12:59-0500     2021-05-03  \n",
       "8  32.5900 -85.480000  2021-05-03T11:31:14-0500     2021-05-03  \n",
       "9  32.5900 -85.480000  2021-05-03T07:50:35-0500     2021-05-03  \n",
       "\n",
       "[10 rows x 22 columns]"
      ]
     },
     "execution_count": 3,
     "metadata": {},
     "output_type": "execute_result"
    }
   ],
   "source": [
    "UsedVehicle.head(10)"
   ]
  },
  {
   "cell_type": "code",
   "execution_count": 4,
   "id": "e00141a0",
   "metadata": {},
   "outputs": [
    {
     "name": "stdout",
     "output_type": "stream",
     "text": [
      "<class 'pandas.core.frame.DataFrame'>\n",
      "RangeIndex: 416149 entries, 0 to 416148\n",
      "Data columns (total 22 columns):\n",
      " #   Column         Non-Null Count   Dtype  \n",
      "---  ------         --------------   -----  \n",
      " 0   region         416149 non-null  object \n",
      " 1   price          416149 non-null  int64  \n",
      " 2   year           416149 non-null  float64\n",
      " 3   manufacturer   416149 non-null  object \n",
      " 4   model          416149 non-null  object \n",
      " 5   condition      416149 non-null  object \n",
      " 6   cylinders      416149 non-null  object \n",
      " 7   fuel           416149 non-null  object \n",
      " 8   odometer       416149 non-null  float64\n",
      " 9   title_status   416149 non-null  object \n",
      " 10  transmission   416149 non-null  object \n",
      " 11  VIN            416149 non-null  object \n",
      " 12  drive          416149 non-null  object \n",
      " 13  size           416149 non-null  object \n",
      " 14  type           416149 non-null  object \n",
      " 15  paint_color    416149 non-null  object \n",
      " 16  description    416149 non-null  object \n",
      " 17  state          416149 non-null  object \n",
      " 18  lat            416149 non-null  float64\n",
      " 19  long           416149 non-null  float64\n",
      " 20  posting_date   416149 non-null  object \n",
      " 21  posting_date2  416149 non-null  object \n",
      "dtypes: float64(4), int64(1), object(17)\n",
      "memory usage: 69.8+ MB\n"
     ]
    }
   ],
   "source": [
    "#Task 1.2\n",
    "\n",
    "UsedVehicle.info()"
   ]
  },
  {
   "cell_type": "markdown",
   "id": "ccb26988",
   "metadata": {},
   "source": [
    "The 3 column that I think are useless are \n",
    "    id\n",
    "    url\n",
    "    region_url\n",
    "    image_url\n",
    "    \n",
    "    \n",
    "    "
   ]
  },
  {
   "cell_type": "code",
   "execution_count": 5,
   "id": "ccc64e36",
   "metadata": {},
   "outputs": [
    {
     "data": {
      "text/html": [
       "<div>\n",
       "<style scoped>\n",
       "    .dataframe tbody tr th:only-of-type {\n",
       "        vertical-align: middle;\n",
       "    }\n",
       "\n",
       "    .dataframe tbody tr th {\n",
       "        vertical-align: top;\n",
       "    }\n",
       "\n",
       "    .dataframe thead th {\n",
       "        text-align: right;\n",
       "    }\n",
       "</style>\n",
       "<table border=\"1\" class=\"dataframe\">\n",
       "  <thead>\n",
       "    <tr style=\"text-align: right;\">\n",
       "      <th></th>\n",
       "      <th>region</th>\n",
       "      <th>price</th>\n",
       "      <th>year</th>\n",
       "      <th>manufacturer</th>\n",
       "      <th>model</th>\n",
       "      <th>condition</th>\n",
       "      <th>cylinders</th>\n",
       "      <th>fuel</th>\n",
       "      <th>odometer</th>\n",
       "      <th>title_status</th>\n",
       "      <th>...</th>\n",
       "      <th>drive</th>\n",
       "      <th>size</th>\n",
       "      <th>type</th>\n",
       "      <th>paint_color</th>\n",
       "      <th>description</th>\n",
       "      <th>state</th>\n",
       "      <th>lat</th>\n",
       "      <th>long</th>\n",
       "      <th>posting_date</th>\n",
       "      <th>posting_date2</th>\n",
       "    </tr>\n",
       "  </thead>\n",
       "  <tbody>\n",
       "    <tr>\n",
       "      <th>0</th>\n",
       "      <td>auburn</td>\n",
       "      <td>33590</td>\n",
       "      <td>2014.0</td>\n",
       "      <td>gmc</td>\n",
       "      <td>sierra 1500 crew cab slt</td>\n",
       "      <td>good</td>\n",
       "      <td>8 cylinders</td>\n",
       "      <td>gas</td>\n",
       "      <td>57923.0</td>\n",
       "      <td>clean</td>\n",
       "      <td>...</td>\n",
       "      <td>unknown</td>\n",
       "      <td>unknown</td>\n",
       "      <td>pickup</td>\n",
       "      <td>white</td>\n",
       "      <td>Carvana is the safer way to buy a car During t...</td>\n",
       "      <td>al</td>\n",
       "      <td>32.5900</td>\n",
       "      <td>-85.480000</td>\n",
       "      <td>2021-05-04T12:31:18-0500</td>\n",
       "      <td>2021-05-04</td>\n",
       "    </tr>\n",
       "    <tr>\n",
       "      <th>1</th>\n",
       "      <td>auburn</td>\n",
       "      <td>22590</td>\n",
       "      <td>2010.0</td>\n",
       "      <td>chevrolet</td>\n",
       "      <td>silverado 1500</td>\n",
       "      <td>good</td>\n",
       "      <td>8 cylinders</td>\n",
       "      <td>gas</td>\n",
       "      <td>71229.0</td>\n",
       "      <td>clean</td>\n",
       "      <td>...</td>\n",
       "      <td>unknown</td>\n",
       "      <td>unknown</td>\n",
       "      <td>pickup</td>\n",
       "      <td>blue</td>\n",
       "      <td>Carvana is the safer way to buy a car During t...</td>\n",
       "      <td>al</td>\n",
       "      <td>32.5900</td>\n",
       "      <td>-85.480000</td>\n",
       "      <td>2021-05-04T12:31:08-0500</td>\n",
       "      <td>2021-05-04</td>\n",
       "    </tr>\n",
       "    <tr>\n",
       "      <th>2</th>\n",
       "      <td>auburn</td>\n",
       "      <td>39590</td>\n",
       "      <td>2020.0</td>\n",
       "      <td>chevrolet</td>\n",
       "      <td>silverado 1500 crew</td>\n",
       "      <td>good</td>\n",
       "      <td>8 cylinders</td>\n",
       "      <td>gas</td>\n",
       "      <td>19160.0</td>\n",
       "      <td>clean</td>\n",
       "      <td>...</td>\n",
       "      <td>unknown</td>\n",
       "      <td>unknown</td>\n",
       "      <td>pickup</td>\n",
       "      <td>red</td>\n",
       "      <td>Carvana is the safer way to buy a car During t...</td>\n",
       "      <td>al</td>\n",
       "      <td>32.5900</td>\n",
       "      <td>-85.480000</td>\n",
       "      <td>2021-05-04T12:31:25-0500</td>\n",
       "      <td>2021-05-04</td>\n",
       "    </tr>\n",
       "    <tr>\n",
       "      <th>3</th>\n",
       "      <td>auburn</td>\n",
       "      <td>30990</td>\n",
       "      <td>2017.0</td>\n",
       "      <td>toyota</td>\n",
       "      <td>tundra double cab sr</td>\n",
       "      <td>good</td>\n",
       "      <td>8 cylinders</td>\n",
       "      <td>gas</td>\n",
       "      <td>41124.0</td>\n",
       "      <td>clean</td>\n",
       "      <td>...</td>\n",
       "      <td>unknown</td>\n",
       "      <td>unknown</td>\n",
       "      <td>pickup</td>\n",
       "      <td>red</td>\n",
       "      <td>Carvana is the safer way to buy a car During t...</td>\n",
       "      <td>al</td>\n",
       "      <td>32.5900</td>\n",
       "      <td>-85.480000</td>\n",
       "      <td>2021-05-04T10:41:31-0500</td>\n",
       "      <td>2021-05-04</td>\n",
       "    </tr>\n",
       "    <tr>\n",
       "      <th>4</th>\n",
       "      <td>auburn</td>\n",
       "      <td>15000</td>\n",
       "      <td>2013.0</td>\n",
       "      <td>ford</td>\n",
       "      <td>f-150 xlt</td>\n",
       "      <td>excellent</td>\n",
       "      <td>6 cylinders</td>\n",
       "      <td>gas</td>\n",
       "      <td>128000.0</td>\n",
       "      <td>clean</td>\n",
       "      <td>...</td>\n",
       "      <td>rwd</td>\n",
       "      <td>full-size</td>\n",
       "      <td>truck</td>\n",
       "      <td>black</td>\n",
       "      <td>2013 F-150 XLT V6 4 Door. Good condition. Leve...</td>\n",
       "      <td>al</td>\n",
       "      <td>32.5920</td>\n",
       "      <td>-85.518900</td>\n",
       "      <td>2021-05-03T14:02:03-0500</td>\n",
       "      <td>2021-05-03</td>\n",
       "    </tr>\n",
       "    <tr>\n",
       "      <th>5</th>\n",
       "      <td>auburn</td>\n",
       "      <td>27990</td>\n",
       "      <td>2012.0</td>\n",
       "      <td>gmc</td>\n",
       "      <td>sierra 2500 hd extended cab</td>\n",
       "      <td>good</td>\n",
       "      <td>8 cylinders</td>\n",
       "      <td>gas</td>\n",
       "      <td>68696.0</td>\n",
       "      <td>clean</td>\n",
       "      <td>...</td>\n",
       "      <td>4wd</td>\n",
       "      <td>unknown</td>\n",
       "      <td>pickup</td>\n",
       "      <td>black</td>\n",
       "      <td>Carvana is the safer way to buy a car During t...</td>\n",
       "      <td>al</td>\n",
       "      <td>32.5900</td>\n",
       "      <td>-85.480000</td>\n",
       "      <td>2021-05-03T13:41:25-0500</td>\n",
       "      <td>2021-05-03</td>\n",
       "    </tr>\n",
       "    <tr>\n",
       "      <th>6</th>\n",
       "      <td>auburn</td>\n",
       "      <td>34590</td>\n",
       "      <td>2016.0</td>\n",
       "      <td>chevrolet</td>\n",
       "      <td>silverado 1500 double</td>\n",
       "      <td>good</td>\n",
       "      <td>6 cylinders</td>\n",
       "      <td>gas</td>\n",
       "      <td>29499.0</td>\n",
       "      <td>clean</td>\n",
       "      <td>...</td>\n",
       "      <td>4wd</td>\n",
       "      <td>unknown</td>\n",
       "      <td>pickup</td>\n",
       "      <td>silver</td>\n",
       "      <td>Carvana is the safer way to buy a car During t...</td>\n",
       "      <td>al</td>\n",
       "      <td>32.5900</td>\n",
       "      <td>-85.480000</td>\n",
       "      <td>2021-05-03T12:41:33-0500</td>\n",
       "      <td>2021-05-03</td>\n",
       "    </tr>\n",
       "    <tr>\n",
       "      <th>7</th>\n",
       "      <td>auburn</td>\n",
       "      <td>35000</td>\n",
       "      <td>2019.0</td>\n",
       "      <td>toyota</td>\n",
       "      <td>tacoma</td>\n",
       "      <td>excellent</td>\n",
       "      <td>6 cylinders</td>\n",
       "      <td>gas</td>\n",
       "      <td>43000.0</td>\n",
       "      <td>clean</td>\n",
       "      <td>...</td>\n",
       "      <td>4wd</td>\n",
       "      <td>unknown</td>\n",
       "      <td>truck</td>\n",
       "      <td>grey</td>\n",
       "      <td>Selling my 2019 Toyota Tacoma TRD Off Road Dou...</td>\n",
       "      <td>al</td>\n",
       "      <td>32.6013</td>\n",
       "      <td>-85.443974</td>\n",
       "      <td>2021-05-03T12:12:59-0500</td>\n",
       "      <td>2021-05-03</td>\n",
       "    </tr>\n",
       "    <tr>\n",
       "      <th>8</th>\n",
       "      <td>auburn</td>\n",
       "      <td>29990</td>\n",
       "      <td>2016.0</td>\n",
       "      <td>chevrolet</td>\n",
       "      <td>colorado extended cab</td>\n",
       "      <td>good</td>\n",
       "      <td>6 cylinders</td>\n",
       "      <td>gas</td>\n",
       "      <td>17302.0</td>\n",
       "      <td>clean</td>\n",
       "      <td>...</td>\n",
       "      <td>4wd</td>\n",
       "      <td>unknown</td>\n",
       "      <td>pickup</td>\n",
       "      <td>red</td>\n",
       "      <td>Carvana is the safer way to buy a car During t...</td>\n",
       "      <td>al</td>\n",
       "      <td>32.5900</td>\n",
       "      <td>-85.480000</td>\n",
       "      <td>2021-05-03T11:31:14-0500</td>\n",
       "      <td>2021-05-03</td>\n",
       "    </tr>\n",
       "    <tr>\n",
       "      <th>9</th>\n",
       "      <td>auburn</td>\n",
       "      <td>38590</td>\n",
       "      <td>2011.0</td>\n",
       "      <td>chevrolet</td>\n",
       "      <td>corvette grand sport</td>\n",
       "      <td>good</td>\n",
       "      <td>8 cylinders</td>\n",
       "      <td>gas</td>\n",
       "      <td>30237.0</td>\n",
       "      <td>clean</td>\n",
       "      <td>...</td>\n",
       "      <td>rwd</td>\n",
       "      <td>unknown</td>\n",
       "      <td>other</td>\n",
       "      <td>red</td>\n",
       "      <td>Carvana is the safer way to buy a car During t...</td>\n",
       "      <td>al</td>\n",
       "      <td>32.5900</td>\n",
       "      <td>-85.480000</td>\n",
       "      <td>2021-05-03T07:50:35-0500</td>\n",
       "      <td>2021-05-03</td>\n",
       "    </tr>\n",
       "  </tbody>\n",
       "</table>\n",
       "<p>10 rows × 22 columns</p>\n",
       "</div>"
      ],
      "text/plain": [
       "   region  price    year manufacturer                        model  condition  \\\n",
       "0  auburn  33590  2014.0          gmc     sierra 1500 crew cab slt       good   \n",
       "1  auburn  22590  2010.0    chevrolet               silverado 1500       good   \n",
       "2  auburn  39590  2020.0    chevrolet          silverado 1500 crew       good   \n",
       "3  auburn  30990  2017.0       toyota         tundra double cab sr       good   \n",
       "4  auburn  15000  2013.0         ford                    f-150 xlt  excellent   \n",
       "5  auburn  27990  2012.0          gmc  sierra 2500 hd extended cab       good   \n",
       "6  auburn  34590  2016.0    chevrolet        silverado 1500 double       good   \n",
       "7  auburn  35000  2019.0       toyota                       tacoma  excellent   \n",
       "8  auburn  29990  2016.0    chevrolet        colorado extended cab       good   \n",
       "9  auburn  38590  2011.0    chevrolet         corvette grand sport       good   \n",
       "\n",
       "     cylinders fuel  odometer title_status  ...    drive       size    type  \\\n",
       "0  8 cylinders  gas   57923.0        clean  ...  unknown    unknown  pickup   \n",
       "1  8 cylinders  gas   71229.0        clean  ...  unknown    unknown  pickup   \n",
       "2  8 cylinders  gas   19160.0        clean  ...  unknown    unknown  pickup   \n",
       "3  8 cylinders  gas   41124.0        clean  ...  unknown    unknown  pickup   \n",
       "4  6 cylinders  gas  128000.0        clean  ...      rwd  full-size   truck   \n",
       "5  8 cylinders  gas   68696.0        clean  ...      4wd    unknown  pickup   \n",
       "6  6 cylinders  gas   29499.0        clean  ...      4wd    unknown  pickup   \n",
       "7  6 cylinders  gas   43000.0        clean  ...      4wd    unknown   truck   \n",
       "8  6 cylinders  gas   17302.0        clean  ...      4wd    unknown  pickup   \n",
       "9  8 cylinders  gas   30237.0        clean  ...      rwd    unknown   other   \n",
       "\n",
       "  paint_color                                        description state  \\\n",
       "0       white  Carvana is the safer way to buy a car During t...    al   \n",
       "1        blue  Carvana is the safer way to buy a car During t...    al   \n",
       "2         red  Carvana is the safer way to buy a car During t...    al   \n",
       "3         red  Carvana is the safer way to buy a car During t...    al   \n",
       "4       black  2013 F-150 XLT V6 4 Door. Good condition. Leve...    al   \n",
       "5       black  Carvana is the safer way to buy a car During t...    al   \n",
       "6      silver  Carvana is the safer way to buy a car During t...    al   \n",
       "7        grey  Selling my 2019 Toyota Tacoma TRD Off Road Dou...    al   \n",
       "8         red  Carvana is the safer way to buy a car During t...    al   \n",
       "9         red  Carvana is the safer way to buy a car During t...    al   \n",
       "\n",
       "       lat       long              posting_date  posting_date2  \n",
       "0  32.5900 -85.480000  2021-05-04T12:31:18-0500     2021-05-04  \n",
       "1  32.5900 -85.480000  2021-05-04T12:31:08-0500     2021-05-04  \n",
       "2  32.5900 -85.480000  2021-05-04T12:31:25-0500     2021-05-04  \n",
       "3  32.5900 -85.480000  2021-05-04T10:41:31-0500     2021-05-04  \n",
       "4  32.5920 -85.518900  2021-05-03T14:02:03-0500     2021-05-03  \n",
       "5  32.5900 -85.480000  2021-05-03T13:41:25-0500     2021-05-03  \n",
       "6  32.5900 -85.480000  2021-05-03T12:41:33-0500     2021-05-03  \n",
       "7  32.6013 -85.443974  2021-05-03T12:12:59-0500     2021-05-03  \n",
       "8  32.5900 -85.480000  2021-05-03T11:31:14-0500     2021-05-03  \n",
       "9  32.5900 -85.480000  2021-05-03T07:50:35-0500     2021-05-03  \n",
       "\n",
       "[10 rows x 22 columns]"
      ]
     },
     "execution_count": 5,
     "metadata": {},
     "output_type": "execute_result"
    }
   ],
   "source": [
    "#Task 1.3\n",
    "UsedVehicle.head(10)"
   ]
  },
  {
   "cell_type": "code",
   "execution_count": 6,
   "id": "44fcf116",
   "metadata": {},
   "outputs": [
    {
     "data": {
      "text/html": [
       "<div>\n",
       "<style scoped>\n",
       "    .dataframe tbody tr th:only-of-type {\n",
       "        vertical-align: middle;\n",
       "    }\n",
       "\n",
       "    .dataframe tbody tr th {\n",
       "        vertical-align: top;\n",
       "    }\n",
       "\n",
       "    .dataframe thead th {\n",
       "        text-align: right;\n",
       "    }\n",
       "</style>\n",
       "<table border=\"1\" class=\"dataframe\">\n",
       "  <thead>\n",
       "    <tr style=\"text-align: right;\">\n",
       "      <th></th>\n",
       "      <th>price</th>\n",
       "      <th>year</th>\n",
       "      <th>odometer</th>\n",
       "      <th>lat</th>\n",
       "      <th>long</th>\n",
       "    </tr>\n",
       "  </thead>\n",
       "  <tbody>\n",
       "    <tr>\n",
       "      <th>count</th>\n",
       "      <td>4.161490e+05</td>\n",
       "      <td>416149.000000</td>\n",
       "      <td>4.161490e+05</td>\n",
       "      <td>416149.000000</td>\n",
       "      <td>416149.000000</td>\n",
       "    </tr>\n",
       "    <tr>\n",
       "      <th>mean</th>\n",
       "      <td>6.158955e+04</td>\n",
       "      <td>2011.365749</td>\n",
       "      <td>9.766435e+04</td>\n",
       "      <td>38.504563</td>\n",
       "      <td>-94.620544</td>\n",
       "    </tr>\n",
       "    <tr>\n",
       "      <th>std</th>\n",
       "      <td>1.108080e+07</td>\n",
       "      <td>9.140825</td>\n",
       "      <td>2.046903e+05</td>\n",
       "      <td>5.792041</td>\n",
       "      <td>18.202327</td>\n",
       "    </tr>\n",
       "    <tr>\n",
       "      <th>min</th>\n",
       "      <td>0.000000e+00</td>\n",
       "      <td>1900.000000</td>\n",
       "      <td>0.000000e+00</td>\n",
       "      <td>-84.122245</td>\n",
       "      <td>-159.827728</td>\n",
       "    </tr>\n",
       "    <tr>\n",
       "      <th>25%</th>\n",
       "      <td>5.995000e+03</td>\n",
       "      <td>2008.000000</td>\n",
       "      <td>3.800000e+04</td>\n",
       "      <td>34.760000</td>\n",
       "      <td>-111.706944</td>\n",
       "    </tr>\n",
       "    <tr>\n",
       "      <th>50%</th>\n",
       "      <td>1.399100e+04</td>\n",
       "      <td>2014.000000</td>\n",
       "      <td>8.568200e+04</td>\n",
       "      <td>39.081944</td>\n",
       "      <td>-88.811252</td>\n",
       "    </tr>\n",
       "    <tr>\n",
       "      <th>75%</th>\n",
       "      <td>2.650000e+04</td>\n",
       "      <td>2017.000000</td>\n",
       "      <td>1.335030e+05</td>\n",
       "      <td>42.350000</td>\n",
       "      <td>-81.027303</td>\n",
       "    </tr>\n",
       "    <tr>\n",
       "      <th>max</th>\n",
       "      <td>3.736929e+09</td>\n",
       "      <td>2022.000000</td>\n",
       "      <td>1.000000e+07</td>\n",
       "      <td>82.252826</td>\n",
       "      <td>173.885502</td>\n",
       "    </tr>\n",
       "  </tbody>\n",
       "</table>\n",
       "</div>"
      ],
      "text/plain": [
       "              price           year      odometer            lat           long\n",
       "count  4.161490e+05  416149.000000  4.161490e+05  416149.000000  416149.000000\n",
       "mean   6.158955e+04    2011.365749  9.766435e+04      38.504563     -94.620544\n",
       "std    1.108080e+07       9.140825  2.046903e+05       5.792041      18.202327\n",
       "min    0.000000e+00    1900.000000  0.000000e+00     -84.122245    -159.827728\n",
       "25%    5.995000e+03    2008.000000  3.800000e+04      34.760000    -111.706944\n",
       "50%    1.399100e+04    2014.000000  8.568200e+04      39.081944     -88.811252\n",
       "75%    2.650000e+04    2017.000000  1.335030e+05      42.350000     -81.027303\n",
       "max    3.736929e+09    2022.000000  1.000000e+07      82.252826     173.885502"
      ]
     },
     "execution_count": 6,
     "metadata": {},
     "output_type": "execute_result"
    }
   ],
   "source": [
    "#Task 1.4\n",
    "UsedVehicle.describe()"
   ]
  },
  {
   "cell_type": "code",
   "execution_count": 7,
   "id": "18069b01",
   "metadata": {},
   "outputs": [
    {
     "data": {
      "text/plain": [
       "array([ 5995., 13991., 26500.])"
      ]
     },
     "execution_count": 7,
     "metadata": {},
     "output_type": "execute_result"
    }
   ],
   "source": [
    "#Task 2.0\n",
    "#take a look what is 25%, 50% and 75% of credit of loan\n",
    "# median loan 5995, 13991, 26500\n",
    "np.percentile(UsedVehicle['price'],[25,50,75])"
   ]
  },
  {
   "cell_type": "code",
   "execution_count": 8,
   "id": "03f7f12d",
   "metadata": {},
   "outputs": [
    {
     "data": {
      "text/plain": [
       "array(['auburn', 'birmingham', 'dothan', 'florence / muscle shoals',\n",
       "       'gadsden-anniston', 'huntsville / decatur', 'mobile', 'montgomery',\n",
       "       'tuscaloosa', 'anchorage / mat-su', 'fairbanks', 'kenai peninsula',\n",
       "       'southeast alaska', 'flagstaff / sedona', 'mohave county',\n",
       "       'phoenix', 'prescott', 'show low', 'sierra vista', 'tucson',\n",
       "       'yuma', 'fayetteville', 'fort smith', 'jonesboro', 'little rock',\n",
       "       'texarkana', 'bakersfield', 'chico', 'fresno / madera',\n",
       "       'gold country', 'hanford-corcoran', 'humboldt county',\n",
       "       'imperial county', 'inland empire', 'los angeles',\n",
       "       'mendocino county', 'merced', 'modesto', 'monterey bay',\n",
       "       'orange county', 'palm springs', 'redding', 'reno / tahoe',\n",
       "       'sacramento', 'san diego', 'san luis obispo', 'santa barbara',\n",
       "       'santa maria', 'SF bay area', 'siskiyou county', 'stockton',\n",
       "       'susanville', 'ventura county', 'visalia-tulare', 'yuba-sutter',\n",
       "       'boulder', 'colorado springs', 'denver', 'eastern CO',\n",
       "       'fort collins / north CO', 'high rockies', 'pueblo',\n",
       "       'western slope', 'eastern CT', 'hartford', 'new haven',\n",
       "       'northwest CT', 'washington, DC', 'delaware', 'daytona beach',\n",
       "       'florida keys', 'ft myers / SW florida', 'gainesville',\n",
       "       'heartland florida', 'jacksonville', 'lakeland',\n",
       "       'north central FL', 'ocala', 'okaloosa / walton', 'orlando',\n",
       "       'panama city', 'pensacola', 'sarasota-bradenton', 'south florida',\n",
       "       'space coast', 'st augustine', 'tallahassee', 'tampa bay area',\n",
       "       'treasure coast', 'albany', 'athens', 'atlanta', 'augusta',\n",
       "       'brunswick', 'columbus', 'macon / warner robins', 'northwest GA',\n",
       "       'savannah / hinesville', 'statesboro', 'valdosta', 'hawaii',\n",
       "       'boise', 'east idaho', 'lewiston / clarkston', 'pullman / moscow',\n",
       "       \"spokane / coeur d'alene\", 'twin falls', 'bloomington-normal',\n",
       "       'champaign urbana', 'chicago', 'decatur', 'la salle co',\n",
       "       'mattoon-charleston', 'peoria', 'quad cities, IA/IL', 'rockford',\n",
       "       'southern illinois', 'springfield', 'st louis, MO', 'western IL',\n",
       "       'bloomington', 'evansville', 'fort wayne', 'indianapolis',\n",
       "       'kokomo', 'lafayette / west lafayette', 'muncie / anderson',\n",
       "       'richmond', 'south bend / michiana', 'terre haute', 'ames',\n",
       "       'cedar rapids', 'des moines', 'dubuque', 'fort dodge', 'iowa city',\n",
       "       'mason city', 'omaha / council bluffs', 'sioux city',\n",
       "       'southeast IA', 'waterloo / cedar falls', 'kansas city, MO',\n",
       "       'lawrence', 'manhattan', 'northwest KS', 'salina', 'southeast KS',\n",
       "       'southwest KS', 'topeka', 'wichita', 'bowling green',\n",
       "       'eastern kentucky', 'huntington-ashland', 'lexington',\n",
       "       'louisville', 'owensboro', 'western KY', 'baton rouge',\n",
       "       'central louisiana', 'houma', 'lafayette', 'lake charles',\n",
       "       'monroe', 'new orleans', 'shreveport', 'maine', 'annapolis',\n",
       "       'baltimore', 'cumberland valley', 'eastern shore', 'frederick',\n",
       "       'southern maryland', 'western maryland', 'boston',\n",
       "       'cape cod / islands', 'south coast', 'western massachusetts',\n",
       "       'worcester / central MA', 'ann arbor', 'battle creek',\n",
       "       'central michigan', 'detroit metro', 'flint', 'grand rapids',\n",
       "       'holland', 'jackson', 'kalamazoo', 'lansing', 'muskegon',\n",
       "       'northern michigan', 'port huron', 'saginaw-midland-baycity',\n",
       "       'southwest michigan', 'the thumb', 'upper peninsula', 'bemidji',\n",
       "       'brainerd', 'duluth / superior', 'fargo / moorhead', 'mankato',\n",
       "       'minneapolis / st paul', 'rochester', 'southwest MN', 'st cloud',\n",
       "       'gulfport / biloxi', 'hattiesburg', 'meridian',\n",
       "       'north mississippi', 'southwest MS', 'columbia / jeff city',\n",
       "       'joplin', 'kansas city', 'kirksville', 'lake of the ozarks',\n",
       "       'southeast missouri', 'st joseph', 'st louis', 'billings',\n",
       "       'bozeman', 'butte', 'eastern montana', 'great falls', 'helena',\n",
       "       'kalispell', 'missoula', 'asheville', 'boone', 'charlotte',\n",
       "       'eastern NC', 'greensboro', 'hickory / lenoir', 'outer banks',\n",
       "       'raleigh / durham / CH', 'wilmington', 'winston-salem',\n",
       "       'grand island', 'lincoln', 'north platte',\n",
       "       'scottsbluff / panhandle', 'elko', 'las vegas', 'central NJ',\n",
       "       'jersey shore', 'north jersey', 'south jersey', 'albuquerque',\n",
       "       'clovis / portales', 'farmington', 'las cruces',\n",
       "       'roswell / carlsbad', 'santa fe / taos', 'binghamton', 'buffalo',\n",
       "       'catskills', 'chautauqua', 'elmira-corning', 'finger lakes',\n",
       "       'glens falls', 'hudson valley', 'ithaca', 'long island',\n",
       "       'new york city', 'oneonta', 'plattsburgh-adirondacks',\n",
       "       'potsdam-canton-massena', 'syracuse', 'twin tiers NY/PA',\n",
       "       'utica-rome-oneida', 'watertown', 'new hampshire', 'bismarck',\n",
       "       'grand forks', 'north dakota', 'akron / canton', 'ashtabula',\n",
       "       'chillicothe', 'cincinnati', 'cleveland', 'dayton / springfield',\n",
       "       'lima / findlay', 'mansfield', 'northern panhandle',\n",
       "       'parkersburg-marietta', 'sandusky', 'toledo', 'tuscarawas co',\n",
       "       'youngstown', 'zanesville / cambridge', 'fort smith, AR', 'lawton',\n",
       "       'northwest OK', 'oklahoma city', 'stillwater', 'texoma', 'tulsa',\n",
       "       'bend', 'corvallis/albany', 'east oregon', 'eugene',\n",
       "       'klamath falls', 'medford-ashland', 'oregon coast', 'portland',\n",
       "       'roseburg', 'salem', 'altoona-johnstown', 'erie', 'harrisburg',\n",
       "       'lancaster', 'lehigh valley', 'meadville', 'philadelphia',\n",
       "       'pittsburgh', 'poconos', 'reading', 'scranton / wilkes-barre',\n",
       "       'state college', 'williamsport', 'york', 'rhode island',\n",
       "       'charleston', 'columbia', 'florence', 'greenville / upstate',\n",
       "       'hilton head', 'myrtle beach', 'northeast SD',\n",
       "       'pierre / central SD', 'rapid city / west SD',\n",
       "       'sioux falls / SE SD', 'south dakota', 'chattanooga',\n",
       "       'clarksville', 'cookeville', 'knoxville', 'memphis', 'nashville',\n",
       "       'tri-cities', 'abilene', 'amarillo', 'austin',\n",
       "       'beaumont / port arthur', 'brownsville', 'college station',\n",
       "       'corpus christi', 'dallas / fort worth', 'deep east texas',\n",
       "       'del rio / eagle pass', 'el paso', 'galveston', 'houston',\n",
       "       'killeen / temple / ft hood', 'laredo', 'lubbock',\n",
       "       'mcallen / edinburg', 'odessa / midland', 'san angelo',\n",
       "       'san antonio', 'san marcos', 'southwest TX', 'tyler / east TX',\n",
       "       'victoria', 'waco', 'wichita falls', 'logan', 'ogden-clearfield',\n",
       "       'provo / orem', 'salt lake city', 'st george', 'vermont',\n",
       "       'charlottesville', 'danville', 'fredericksburg', 'harrisonburg',\n",
       "       'lynchburg', 'new river valley', 'norfolk / hampton roads',\n",
       "       'roanoke', 'southwest VA', 'winchester', 'bellingham',\n",
       "       'kennewick-pasco-richland', 'moses lake', 'olympic peninsula',\n",
       "       'seattle-tacoma', 'skagit / island / SJI', 'wenatchee', 'yakima',\n",
       "       'eastern panhandle', 'morgantown', 'southern WV',\n",
       "       'west virginia (old)', 'appleton-oshkosh-FDL', 'eau claire',\n",
       "       'green bay', 'janesville', 'kenosha-racine', 'la crosse',\n",
       "       'madison', 'milwaukee', 'northern WI', 'sheboygan', 'wausau',\n",
       "       'wyoming'], dtype=object)"
      ]
     },
     "execution_count": 8,
     "metadata": {},
     "output_type": "execute_result"
    }
   ],
   "source": [
    "#Task 3.1.0\n",
    "UsedVehicle['region'].unique()"
   ]
  },
  {
   "cell_type": "code",
   "execution_count": 9,
   "id": "098dcec5",
   "metadata": {},
   "outputs": [
    {
     "name": "stdout",
     "output_type": "stream",
     "text": [
      "404\n"
     ]
    }
   ],
   "source": [
    "#Task 3.1.1\n",
    "\n",
    "a=len(UsedVehicle['region'].unique())\n",
    "print(a)"
   ]
  },
  {
   "cell_type": "code",
   "execution_count": 10,
   "id": "87c8dcca",
   "metadata": {},
   "outputs": [
    {
     "data": {
      "text/plain": [
       "array(['gmc', 'chevrolet', 'toyota', 'ford', 'jeep', 'nissan', 'ram',\n",
       "       'mazda', 'cadillac', 'honda', 'dodge', 'lexus', 'jaguar', 'buick',\n",
       "       'chrysler', 'volvo', 'audi', 'infiniti', 'lincoln', 'alfa-romeo',\n",
       "       'subaru', 'unknown', 'acura', 'hyundai', 'mercedes-benz', 'bmw',\n",
       "       'mitsubishi', 'volkswagen', 'porsche', 'kia', 'ferrari', 'mini',\n",
       "       'pontiac', 'fiat', 'rover', 'tesla', 'saturn', 'mercury',\n",
       "       'harley-davidson', 'datsun', 'aston-martin', 'land rover'],\n",
       "      dtype=object)"
      ]
     },
     "execution_count": 10,
     "metadata": {},
     "output_type": "execute_result"
    }
   ],
   "source": [
    "#Task 3.2.0\n",
    "\n",
    "UsedVehicle['manufacturer'].unique()"
   ]
  },
  {
   "cell_type": "code",
   "execution_count": 11,
   "id": "ce5f5bd4",
   "metadata": {},
   "outputs": [
    {
     "name": "stdout",
     "output_type": "stream",
     "text": [
      "42\n"
     ]
    }
   ],
   "source": [
    "#Task 3.2.1\n",
    "\n",
    "\n",
    "a=len(UsedVehicle['manufacturer'].unique())\n",
    "print(a)"
   ]
  },
  {
   "cell_type": "code",
   "execution_count": 12,
   "id": "72a9b595",
   "metadata": {},
   "outputs": [
    {
     "data": {
      "text/plain": [
       "array([2014., 2010., 2020., 2017., 2013., 2012., 2016., 2019., 2011.,\n",
       "       1992., 2018., 2004., 2015., 2001., 2006., 2003., 2008., 2007.,\n",
       "       2005., 1966., 2009., 1998., 2002., 1999., 2021., 1997., 1976.,\n",
       "       1969., 1995., 1978., 1954., 1979., 1970., 1974., 1996., 1987.,\n",
       "       2000., 1955., 1991., 1972., 1988., 1994., 1968., 1984., 1986.,\n",
       "       1989., 1973., 1946., 1933., 1958., 1985., 1957., 1953., 1942.,\n",
       "       1963., 1977., 1993., 1990., 1982., 1948., 1983., 1936., 1932.,\n",
       "       1951., 1980., 1967., 1971., 1981., 1947., 1926., 1962., 1975.,\n",
       "       1964., 1952., 1940., 1959., 1930., 1950., 1965., 1922., 1928.,\n",
       "       2022., 1901., 1960., 1941., 1929., 1956., 1924., 1927., 1939.,\n",
       "       1923., 1949., 1937., 1934., 1931., 1961., 1935., 1918., 1900.,\n",
       "       1938., 1913., 1916., 1943., 1925., 1921., 1915., 1945., 1902.,\n",
       "       1905., 1920., 1944., 1910., 1909.])"
      ]
     },
     "execution_count": 12,
     "metadata": {},
     "output_type": "execute_result"
    }
   ],
   "source": [
    "#Task 3.3.0\n",
    "#there is 113 years of cars.  it might be intersting to find which vehicle \n",
    "#at which year sells the most car\n",
    "UsedVehicle['year'].unique()"
   ]
  },
  {
   "cell_type": "code",
   "execution_count": 13,
   "id": "ef6c461a",
   "metadata": {},
   "outputs": [
    {
     "name": "stdout",
     "output_type": "stream",
     "text": [
      "113\n"
     ]
    }
   ],
   "source": [
    "#Task 3.3.1\n",
    "a=len(UsedVehicle['year'].unique())\n",
    "print(a)"
   ]
  },
  {
   "cell_type": "code",
   "execution_count": 14,
   "id": "958b9fed",
   "metadata": {},
   "outputs": [
    {
     "data": {
      "text/plain": [
       "array(['sierra 1500 crew cab slt', 'silverado 1500',\n",
       "       'silverado 1500 crew', ..., 'gand wagoneer', '96 Suburban',\n",
       "       'Paige Glenbrook Touring'], dtype=object)"
      ]
     },
     "execution_count": 14,
     "metadata": {},
     "output_type": "execute_result"
    }
   ],
   "source": [
    "#Task 3.4.0\n",
    "#Looking at the different model it might be hard to find something interesting out of it\n",
    "UsedVehicle['model'].unique()"
   ]
  },
  {
   "cell_type": "code",
   "execution_count": 15,
   "id": "872b33d6",
   "metadata": {},
   "outputs": [
    {
     "name": "stdout",
     "output_type": "stream",
     "text": [
      "29236\n"
     ]
    }
   ],
   "source": [
    "#Task 3.4.1\n",
    "a=len(UsedVehicle['model'].unique())\n",
    "print(a)"
   ]
  },
  {
   "cell_type": "code",
   "execution_count": 16,
   "id": "23395ae4",
   "metadata": {},
   "outputs": [
    {
     "data": {
      "text/plain": [
       "array(['good', 'excellent', 'fair', 'like new', 'unknown', 'new',\n",
       "       'salvage'], dtype=object)"
      ]
     },
     "execution_count": 16,
     "metadata": {},
     "output_type": "execute_result"
    }
   ],
   "source": [
    "#Task 3.5.0\n",
    "#Find which type of cars are the sold\n",
    "#\n",
    "UsedVehicle['condition'].unique()"
   ]
  },
  {
   "cell_type": "code",
   "execution_count": 17,
   "id": "989c4d6c",
   "metadata": {},
   "outputs": [
    {
     "name": "stdout",
     "output_type": "stream",
     "text": [
      "7\n"
     ]
    }
   ],
   "source": [
    "#Task 3.5.1\n",
    "a=len(UsedVehicle['condition'].unique())\n",
    "print(a)"
   ]
  },
  {
   "cell_type": "code",
   "execution_count": 18,
   "id": "d91d961c",
   "metadata": {},
   "outputs": [
    {
     "data": {
      "text/plain": [
       "array(['gas', 'other', 'diesel', 'hybrid', 'unknown', 'electric'],\n",
       "      dtype=object)"
      ]
     },
     "execution_count": 18,
     "metadata": {},
     "output_type": "execute_result"
    }
   ],
   "source": [
    "#Task 3.6.0\n",
    "#type of cars are being the class\n",
    "UsedVehicle['fuel'].unique()"
   ]
  },
  {
   "cell_type": "code",
   "execution_count": 19,
   "id": "96d750a6",
   "metadata": {},
   "outputs": [
    {
     "name": "stdout",
     "output_type": "stream",
     "text": [
      "6\n"
     ]
    }
   ],
   "source": [
    "#Task 3.6.1\n",
    "a=len(UsedVehicle['fuel'].unique())\n",
    "print(a)"
   ]
  },
  {
   "cell_type": "code",
   "execution_count": 20,
   "id": "04cb1ac1",
   "metadata": {},
   "outputs": [
    {
     "data": {
      "text/plain": [
       "array(['clean', 'rebuilt', 'lien', 'unknown', 'salvage', 'missing',\n",
       "       'parts only'], dtype=object)"
      ]
     },
     "execution_count": 20,
     "metadata": {},
     "output_type": "execute_result"
    }
   ],
   "source": [
    "#Task 3.7.0\n",
    "#type of car sold\n",
    "UsedVehicle['title_status'].unique()"
   ]
  },
  {
   "cell_type": "code",
   "execution_count": 21,
   "id": "eaa691b6",
   "metadata": {},
   "outputs": [
    {
     "name": "stdout",
     "output_type": "stream",
     "text": [
      "7\n"
     ]
    }
   ],
   "source": [
    "#Task 3.7.1\n",
    "a=len(UsedVehicle['title_status'].unique())\n",
    "print(a)"
   ]
  },
  {
   "cell_type": "code",
   "execution_count": 22,
   "id": "dade507a",
   "metadata": {},
   "outputs": [
    {
     "data": {
      "text/plain": [
       "array(['other', 'automatic', 'manual', 'unknown'], dtype=object)"
      ]
     },
     "execution_count": 22,
     "metadata": {},
     "output_type": "execute_result"
    }
   ],
   "source": [
    "#Task 3.8.0\n",
    "UsedVehicle['transmission'].unique()"
   ]
  },
  {
   "cell_type": "code",
   "execution_count": 23,
   "id": "9c6ba5a8",
   "metadata": {},
   "outputs": [
    {
     "name": "stdout",
     "output_type": "stream",
     "text": [
      "4\n"
     ]
    }
   ],
   "source": [
    "#Task 3.8.1\n",
    "a=len(UsedVehicle['transmission'].unique())\n",
    "print(a)"
   ]
  },
  {
   "cell_type": "code",
   "execution_count": 24,
   "id": "b88803cd",
   "metadata": {},
   "outputs": [
    {
     "data": {
      "text/plain": [
       "array(['unknown', 'rwd', '4wd', 'fwd'], dtype=object)"
      ]
     },
     "execution_count": 24,
     "metadata": {},
     "output_type": "execute_result"
    }
   ],
   "source": [
    "#Task 3.9.0\n",
    "UsedVehicle['drive'].unique()"
   ]
  },
  {
   "cell_type": "code",
   "execution_count": 25,
   "id": "9403feb9",
   "metadata": {},
   "outputs": [
    {
     "name": "stdout",
     "output_type": "stream",
     "text": [
      "4\n"
     ]
    }
   ],
   "source": [
    "#Task 3.9.1\n",
    "a=len(UsedVehicle['drive'].unique())\n",
    "print(a)"
   ]
  },
  {
   "cell_type": "code",
   "execution_count": 26,
   "id": "50506967",
   "metadata": {},
   "outputs": [
    {
     "data": {
      "text/plain": [
       "array(['unknown', 'full-size', 'mid-size', 'compact', 'sub-compact'],\n",
       "      dtype=object)"
      ]
     },
     "execution_count": 26,
     "metadata": {},
     "output_type": "execute_result"
    }
   ],
   "source": [
    "#Task 3.10\n",
    "UsedVehicle['size'].unique()"
   ]
  },
  {
   "cell_type": "code",
   "execution_count": 27,
   "id": "e4e618a2",
   "metadata": {},
   "outputs": [
    {
     "name": "stdout",
     "output_type": "stream",
     "text": [
      "5\n"
     ]
    }
   ],
   "source": [
    "#Task 3.10\n",
    "a=len(UsedVehicle['size'].unique())\n",
    "print(a)"
   ]
  },
  {
   "cell_type": "code",
   "execution_count": 28,
   "id": "514a97df",
   "metadata": {},
   "outputs": [
    {
     "name": "stdout",
     "output_type": "stream",
     "text": [
      "size\n",
      "compact         16883.896711\n",
      "full-size       99610.141978\n",
      "mid-size       121264.816361\n",
      "sub-compact     12383.630933\n",
      "unknown         50107.260701\n",
      "Name: price, dtype: float64\n"
     ]
    }
   ],
   "source": [
    "#Task 5.2\n",
    "#_=CCLoan.groupby('LATE_PAYMENT')['NAME_EDUCATION_TYPE'].hist(bins =5)\n",
    "#_=plt.xlabel('NAME_EDUCATION_TYPE')\n",
    "#_=plt.ylabel('LATE_PAYMENT')\n",
    "#_=plt.title(\"Late Payment vs NAME_EDUCATION_TYPE\")\n",
    "\n",
    "#plt.show()\n",
    "\n",
    "\n",
    "\n",
    "\n",
    "\n",
    "#Task 5.4.1\n",
    "#CCLoan_new=CCLoan.groupby('LATE_PAYMENT')['NAME_FAMILY_STATUS'].value_counts().unstack(0)\n",
    "#CCLoan_new/CCLoan_new.sum()\n",
    "\n",
    "\n",
    "\n",
    "#Task 5.8\n",
    "UsedVehicle_new=UsedVehicle.groupby('size')['price'].mean()\n",
    "\n",
    "print(UsedVehicle_new)\n",
    "\n",
    "\n"
   ]
  },
  {
   "cell_type": "code",
   "execution_count": 29,
   "id": "7b0e7df1",
   "metadata": {},
   "outputs": [],
   "source": [
    "UsedVehicle_new01=UsedVehicle.groupby(['size','year'])['price'].mean()"
   ]
  },
  {
   "cell_type": "code",
   "execution_count": 30,
   "id": "1d6cefbd",
   "metadata": {},
   "outputs": [
    {
     "name": "stdout",
     "output_type": "stream",
     "text": [
      "size     year  \n",
      "compact  1913.0    27000.000000\n",
      "         1916.0    30000.000000\n",
      "         1923.0    18335.833333\n",
      "         1926.0     6500.000000\n",
      "         1927.0    19999.166667\n",
      "                       ...     \n",
      "unknown  2018.0    27240.329895\n",
      "         2019.0    31078.404807\n",
      "         2020.0    34719.157160\n",
      "         2021.0    92839.430520\n",
      "         2022.0    30673.136752\n",
      "Name: price, Length: 463, dtype: float64\n"
     ]
    }
   ],
   "source": [
    "print(UsedVehicle_new01)"
   ]
  },
  {
   "cell_type": "code",
   "execution_count": 31,
   "id": "a9c6e2c1",
   "metadata": {},
   "outputs": [
    {
     "data": {
      "text/plain": [
       "<AxesSubplot:xlabel='year'>"
      ]
     },
     "execution_count": 31,
     "metadata": {},
     "output_type": "execute_result"
    },
    {
     "data": {
      "image/png": "[encoded data removed]",
      "text/plain": [
       "<Figure size 432x288 with 1 Axes>"
      ]
     },
     "metadata": {
      "needs_background": "light"
     },
     "output_type": "display_data"
    }
   ],
   "source": [
    "sns.lineplot(x=UsedVehicle['year'],y=UsedVehicle['price'].mean(), data =UsedVehicle)"
   ]
  },
  {
   "cell_type": "code",
   "execution_count": 32,
   "id": "1504e0d7",
   "metadata": {},
   "outputs": [
    {
     "data": {
      "text/plain": [
       "array(['pickup', 'truck', 'other', 'unknown', 'coupe', 'SUV', 'hatchback',\n",
       "       'mini-van', 'sedan', 'offroad', 'bus', 'van', 'convertible',\n",
       "       'wagon'], dtype=object)"
      ]
     },
     "execution_count": 32,
     "metadata": {},
     "output_type": "execute_result"
    }
   ],
   "source": [
    "#Task 3.11.0\n",
    "UsedVehicle['type'].unique()"
   ]
  },
  {
   "cell_type": "code",
   "execution_count": 33,
   "id": "6ea1844d",
   "metadata": {},
   "outputs": [
    {
     "data": {
      "text/plain": [
       "type   year  \n",
       "SUV    1900.0    38250.000000\n",
       "       1946.0     8000.000000\n",
       "       1950.0    17500.000000\n",
       "       1955.0     6250.500000\n",
       "       1957.0     2500.000000\n",
       "                     ...     \n",
       "wagon  2018.0    21240.954113\n",
       "       2019.0    23586.463221\n",
       "       2020.0    22428.851266\n",
       "       2021.0    23964.868421\n",
       "       2022.0        0.000000\n",
       "Name: price, Length: 1077, dtype: float64"
      ]
     },
     "execution_count": 33,
     "metadata": {},
     "output_type": "execute_result"
    }
   ],
   "source": [
    "UsedVehicle_new02=UsedVehicle.groupby(['type','year'])['price'].mean()\n",
    "UsedVehicle_new02"
   ]
  },
  {
   "cell_type": "code",
   "execution_count": 34,
   "id": "d0710bf0",
   "metadata": {},
   "outputs": [
    {
     "name": "stdout",
     "output_type": "stream",
     "text": [
      "14\n"
     ]
    }
   ],
   "source": [
    "#Task 3.11.1\n",
    "a=len(UsedVehicle['type'].unique())\n",
    "print(a)"
   ]
  },
  {
   "cell_type": "markdown",
   "id": "20239bae",
   "metadata": {},
   "source": [
    "There are 14 type of cars. i want to see what is average price\n",
    "From below the least expesnive is mini-van. 1/4 of data is unknown ['type'] of vehicle"
   ]
  },
  {
   "cell_type": "code",
   "execution_count": 35,
   "id": "1e582595",
   "metadata": {},
   "outputs": [
    {
     "data": {
      "text/plain": [
       "type\n",
       "SUV             34787.758197\n",
       "bus             14151.493069\n",
       "convertible     20065.692399\n",
       "coupe           22003.684947\n",
       "hatchback       14454.374795\n",
       "mini-van         9298.793567\n",
       "offroad         15995.807496\n",
       "other           24741.169535\n",
       "pickup         149168.080729\n",
       "sedan           16046.391414\n",
       "truck           27490.611739\n",
       "unknown        142381.842095\n",
       "van             17286.600551\n",
       "wagon           13362.944147\n",
       "Name: price, dtype: float64"
      ]
     },
     "execution_count": 35,
     "metadata": {},
     "output_type": "execute_result"
    }
   ],
   "source": [
    "UsedVehicle_new02=UsedVehicle.groupby(['type'])['price'].mean()\n",
    "UsedVehicle_new02"
   ]
  },
  {
   "cell_type": "code",
   "execution_count": 36,
   "id": "8a703268",
   "metadata": {},
   "outputs": [
    {
     "data": {
      "text/plain": [
       "array(['white', 'blue', 'red', 'black', 'silver', 'grey', 'unknown',\n",
       "       'brown', 'yellow', 'orange', 'green', 'custom', 'purple'],\n",
       "      dtype=object)"
      ]
     },
     "execution_count": 36,
     "metadata": {},
     "output_type": "execute_result"
    }
   ],
   "source": [
    "#Task 3.12.0\n",
    "UsedVehicle['paint_color'].unique()"
   ]
  },
  {
   "cell_type": "code",
   "execution_count": 37,
   "id": "b300519b",
   "metadata": {},
   "outputs": [
    {
     "name": "stdout",
     "output_type": "stream",
     "text": [
      "13\n"
     ]
    }
   ],
   "source": [
    "#Task 3.12.1\n",
    "a=len(UsedVehicle['paint_color'].unique())\n",
    "print(a)"
   ]
  },
  {
   "cell_type": "markdown",
   "id": "d70e6648",
   "metadata": {},
   "source": [
    "I want to know the break down of which the most popular color\n",
    "\n",
    "black and white are most purchased color"
   ]
  },
  {
   "cell_type": "code",
   "execution_count": 38,
   "id": "a0227fad",
   "metadata": {},
   "outputs": [
    {
     "data": {
      "text/html": [
       "<div>\n",
       "<style scoped>\n",
       "    .dataframe tbody tr th:only-of-type {\n",
       "        vertical-align: middle;\n",
       "    }\n",
       "\n",
       "    .dataframe tbody tr th {\n",
       "        vertical-align: top;\n",
       "    }\n",
       "\n",
       "    .dataframe thead th {\n",
       "        text-align: right;\n",
       "    }\n",
       "</style>\n",
       "<table border=\"1\" class=\"dataframe\">\n",
       "  <thead>\n",
       "    <tr style=\"text-align: right;\">\n",
       "      <th>paint_color</th>\n",
       "      <th>black</th>\n",
       "      <th>blue</th>\n",
       "      <th>brown</th>\n",
       "      <th>custom</th>\n",
       "      <th>green</th>\n",
       "      <th>grey</th>\n",
       "      <th>orange</th>\n",
       "      <th>purple</th>\n",
       "      <th>red</th>\n",
       "      <th>silver</th>\n",
       "      <th>unknown</th>\n",
       "      <th>white</th>\n",
       "      <th>yellow</th>\n",
       "    </tr>\n",
       "    <tr>\n",
       "      <th>size</th>\n",
       "      <th></th>\n",
       "      <th></th>\n",
       "      <th></th>\n",
       "      <th></th>\n",
       "      <th></th>\n",
       "      <th></th>\n",
       "      <th></th>\n",
       "      <th></th>\n",
       "      <th></th>\n",
       "      <th></th>\n",
       "      <th></th>\n",
       "      <th></th>\n",
       "      <th></th>\n",
       "    </tr>\n",
       "  </thead>\n",
       "  <tbody>\n",
       "    <tr>\n",
       "      <th>compact</th>\n",
       "      <td>3326</td>\n",
       "      <td>2081</td>\n",
       "      <td>355</td>\n",
       "      <td>516</td>\n",
       "      <td>476</td>\n",
       "      <td>1999</td>\n",
       "      <td>149</td>\n",
       "      <td>57</td>\n",
       "      <td>1999</td>\n",
       "      <td>2843</td>\n",
       "      <td>1195</td>\n",
       "      <td>3236</td>\n",
       "      <td>221</td>\n",
       "    </tr>\n",
       "    <tr>\n",
       "      <th>full-size</th>\n",
       "      <td>10376</td>\n",
       "      <td>5549</td>\n",
       "      <td>1776</td>\n",
       "      <td>2204</td>\n",
       "      <td>1785</td>\n",
       "      <td>6261</td>\n",
       "      <td>272</td>\n",
       "      <td>179</td>\n",
       "      <td>5353</td>\n",
       "      <td>7403</td>\n",
       "      <td>3001</td>\n",
       "      <td>17636</td>\n",
       "      <td>468</td>\n",
       "    </tr>\n",
       "    <tr>\n",
       "      <th>mid-size</th>\n",
       "      <td>5732</td>\n",
       "      <td>3649</td>\n",
       "      <td>981</td>\n",
       "      <td>1153</td>\n",
       "      <td>1091</td>\n",
       "      <td>4322</td>\n",
       "      <td>208</td>\n",
       "      <td>98</td>\n",
       "      <td>3299</td>\n",
       "      <td>5347</td>\n",
       "      <td>1375</td>\n",
       "      <td>6579</td>\n",
       "      <td>260</td>\n",
       "    </tr>\n",
       "    <tr>\n",
       "      <th>sub-compact</th>\n",
       "      <td>567</td>\n",
       "      <td>369</td>\n",
       "      <td>60</td>\n",
       "      <td>68</td>\n",
       "      <td>101</td>\n",
       "      <td>258</td>\n",
       "      <td>36</td>\n",
       "      <td>6</td>\n",
       "      <td>371</td>\n",
       "      <td>413</td>\n",
       "      <td>275</td>\n",
       "      <td>503</td>\n",
       "      <td>70</td>\n",
       "    </tr>\n",
       "    <tr>\n",
       "      <th>unknown</th>\n",
       "      <td>41626</td>\n",
       "      <td>19047</td>\n",
       "      <td>3315</td>\n",
       "      <td>2696</td>\n",
       "      <td>3714</td>\n",
       "      <td>11102</td>\n",
       "      <td>1276</td>\n",
       "      <td>324</td>\n",
       "      <td>18893</td>\n",
       "      <td>26221</td>\n",
       "      <td>119319</td>\n",
       "      <td>49650</td>\n",
       "      <td>1059</td>\n",
       "    </tr>\n",
       "  </tbody>\n",
       "</table>\n",
       "</div>"
      ],
      "text/plain": [
       "paint_color  black   blue  brown  custom  green   grey  orange  purple    red  \\\n",
       "size                                                                            \n",
       "compact       3326   2081    355     516    476   1999     149      57   1999   \n",
       "full-size    10376   5549   1776    2204   1785   6261     272     179   5353   \n",
       "mid-size      5732   3649    981    1153   1091   4322     208      98   3299   \n",
       "sub-compact    567    369     60      68    101    258      36       6    371   \n",
       "unknown      41626  19047   3315    2696   3714  11102    1276     324  18893   \n",
       "\n",
       "paint_color  silver  unknown  white  yellow  \n",
       "size                                         \n",
       "compact        2843     1195   3236     221  \n",
       "full-size      7403     3001  17636     468  \n",
       "mid-size       5347     1375   6579     260  \n",
       "sub-compact     413      275    503      70  \n",
       "unknown       26221   119319  49650    1059  "
      ]
     },
     "execution_count": 38,
     "metadata": {},
     "output_type": "execute_result"
    }
   ],
   "source": [
    "UsedVehicle.groupby(['paint_color'])['size'].value_counts().unstack(0)"
   ]
  },
  {
   "cell_type": "code",
   "execution_count": 39,
   "id": "1edc7980",
   "metadata": {},
   "outputs": [
    {
     "data": {
      "text/plain": [
       "array([\"Carvana is the safer way to buy a car During these uncertain times, Carvana is dedicated to ensuring safety for all of our customers. In addition to our 100% online shopping and selling experience that allows all customers to buy and trade their cars without ever leaving the safety of their house, we’re providing touchless delivery that make all aspects of our process even safer. Now, you can get the car you want, and trade in your old one, while avoiding person-to-person contact with our friendly advocates. There are some things that can’t be put off. And if buying a car is one of them, know that we’re doing everything we can to keep you keep moving while continuing to put your health safety, and happiness first. Vehicle Stock# 2000909557📱 Want to instantly check this car’s availability? Call us at  334-758-9176Just text that stock number to 855-976-4304 or head to http://www.carvanaauto.com/7171237-74502 and plug it into the search bar!Get PRE-QUALIFIED for your auto loan in 2 minutes - no hit to your credit:http://finance.carvanaauto.com/7171237-74502Looking for more cars like this one? We have 63 GMC Sierra 1500 Crew Cab in stock for as low as $23990!Why buy with Carvana? We have one standard: the highest. Take a look at just some of the qualifications all of our cars must meet before we list them.150-POINT INSPECTION: We put each vehicle through a 150-point inspection so that you can be 100% confident in its quality and safety. See everything that goes into our inspections at:http://www.carvanaauto.com/7171237-74502NO REPORTED ACCIDENTS: We do not sell cars that have been in a reported accident or have a frame or structural damage.7 DAY TEST OWN MONEY BACK GUARANTEE: Every Carvana car comes with a 7-day money-back guarantee. Why? It takes more than 15-minutes to make a decision on your next car. Learn more about test owning at http://about.carvanaauto.comFLEXIBLE FINANCING, TRADE INS WELCOME: We’re all about real-time financing without the middle man. Need financing? Pick a combination of down and monthly payments that work for you. Have a trade-in? We’ll give you a value in 2 minutes. Check out everything about our financing at:http://finance.carvanaauto.com/7171237-74502COST SAVINGS: Carvana's business model has fewer expenses and no bloated fees compared to your local dealership. See how much we can save you at http://about.carvanaauto.comPREMIUM DETAIL: We go the extra mile so that your car is looking as good as new. There are a lot of specifics that we won’t list here (we wash, clean, buff, paint, polish, wax, seal), but trust us that when your car arrives, it’s going to look sweet.Vehicle Info for Stock# 2000909557Trim: SLT Pickup 4D 5 3/4 ft pickupMileage: 57k milesExterior Color: WhiteInterior Color: Lt. BrownEngine: EcoTec3 5.3L Flex Fuel V8 355hp 383ft. lbs.Drive: Two Wheel DriveTransmission: VIN: 3GTP1VEC4EG551563Dealer Disclosure: Price excludes tax, title, and registration (which we handle for you).Disclaimer: You agree that by providing your phone number, Carvana, or Carvana’s authorized representatives*, may call and/or send text messages (including by using equipment to automatically dial telephone numbers) about your interest in a purchase, for marketing/sales purposes, or for any other servicing or informational purpose related to your account. You do not have to consent to receiving calls or texts to purchase from Carvana. While every reasonable effort is made to ensure the accuracy of the information for this GMC Sierra 1500 Crew Cab, we are not responsible for any errors or omissions contained in this ad. Please verify any information in question with Carvana at 334-758-9176*Including, but not limited to, Bridgecrest Credit Company, GO Financial and SilverRock Automotive.*GMC* *Sierra* *1500* *Crew* *Cab* *Base* *GMC* *Sierra* *1500* *Crew* *Cab* *SLE* *GMC* *Sierra* *1500* *Crew* *Cab* *SLT* *GMC* *Sierra* *1500* *Crew* *Cab* *Denali* *GMC* *Sierra* *1500* *Crew* *Cab* *Work* *Truck* *4x2* *GMC* *Sierra* *1500* *Crew* *Cab* *4x4* *Crew* *Cab* *GMC* *Sierra* *1500* *Crew* *Cab* *Regular* *Cab* *Extended* *Cab* *Truck* 2022  2021  2020  2019  2018  2017  2016  2015  2014  2013  2012  2011  2010  2009  2008  2007  2006  2005  2004  2003  2002  2001  2000   22  21    19  18  17  16  15  14  13  12  11  10  09  08  07  06  05  04  03  02  01  00\",\n",
       "       \"Carvana is the safer way to buy a car During these uncertain times, Carvana is dedicated to ensuring safety for all of our customers. In addition to our 100% online shopping and selling experience that allows all customers to buy and trade their cars without ever leaving the safety of their house, we’re providing touchless delivery that make all aspects of our process even safer. Now, you can get the car you want, and trade in your old one, while avoiding person-to-person contact with our friendly advocates. There are some things that can’t be put off. And if buying a car is one of them, know that we’re doing everything we can to keep you keep moving while continuing to put your health safety, and happiness first. Vehicle Stock# 2000977114📱 Want to instantly check this car’s availability? Call us at  334-758-9176Just text that stock number to 855-976-4304 or head to http://www.carvanaauto.com/7163375-74502 and plug it into the search bar!Get PRE-QUALIFIED for your auto loan in 2 minutes - no hit to your credit:http://finance.carvanaauto.com/7163375-74502Looking for more cars like this one? We have 10 Chevrolet Silverado 1500 Extended Cab in stock for as low as $20990!Why buy with Carvana? We have one standard: the highest. Take a look at just some of the qualifications all of our cars must meet before we list them.150-POINT INSPECTION: We put each vehicle through a 150-point inspection so that you can be 100% confident in its quality and safety. See everything that goes into our inspections at:http://www.carvanaauto.com/7163375-74502NO REPORTED ACCIDENTS: We do not sell cars that have been in a reported accident or have a frame or structural damage.7 DAY TEST OWN MONEY BACK GUARANTEE: Every Carvana car comes with a 7-day money-back guarantee. Why? It takes more than 15-minutes to make a decision on your next car. Learn more about test owning at http://about.carvanaauto.comFLEXIBLE FINANCING, TRADE INS WELCOME: We’re all about real-time financing without the middle man. Need financing? Pick a combination of down and monthly payments that work for you. Have a trade-in? We’ll give you a value in 2 minutes. Check out everything about our financing at:http://finance.carvanaauto.com/7163375-74502COST SAVINGS: Carvana's business model has fewer expenses and no bloated fees compared to your local dealership. See how much we can save you at http://about.carvanaauto.comPREMIUM DETAIL: We go the extra mile so that your car is looking as good as new. There are a lot of specifics that we won’t list here (we wash, clean, buff, paint, polish, wax, seal), but trust us that when your car arrives, it’s going to look sweet.Vehicle Info for Stock# 2000977114Trim: LT Pickup 4D 6 1/2 ft pickupMileage: 71k milesExterior Color: BlueInterior Color: BlackEngine: Vortec 5.3L Flex Fuel V8 315hp 335ft. lbs.Drive: Two Wheel DriveTransmission: VIN: 1GCSCSE06AZ123805Dealer Disclosure: Price excludes tax, title, and registration (which we handle for you).Disclaimer: You agree that by providing your phone number, Carvana, or Carvana’s authorized representatives*, may call and/or send text messages (including by using equipment to automatically dial telephone numbers) about your interest in a purchase, for marketing/sales purposes, or for any other servicing or informational purpose related to your account. You do not have to consent to receiving calls or texts to purchase from Carvana. While every reasonable effort is made to ensure the accuracy of the information for this Chevrolet Silverado 1500 Extended Cab, we are not responsible for any errors or omissions contained in this ad. Please verify any information in question with Carvana at 334-758-9176*Including, but not limited to, Bridgecrest Credit Company, GO Financial and SilverRock Automotive.*Chevrolet* *Silverado* *1500* *Extended* *Cab* *Chevy* *Chevrolet* *Silverado* *1500* *Extended* *Cab* *HD* *Crew* *Cab* *LS* *Pickup* *Chevrolet* *Silverado* *1500* *Extended* *Cab* *LS* *Chevrolet* *Silverado* *1500* *Extended* *Cab* *LT* *Chevrolet* *Silverado* *1500* *Extended* *Cab* *LTZ* *Chevrolet* *Silverado* *1500* *Extended* *Cab* *LT1* *Chevrolet* *Silverado* *1500* *Extended* *Cab* *Crew* *Cab* *Chevrolet* *Silverado* *1500* *Extended* *Cab* *XtraCab* *Chevrolet* *Silverado* *1500* *Extended* *Cab* *2500HD* *Classic* *Pick* *up* 2022  2021  2020  2019  2018  2017  2016  2015  2014  2013  2012  2011  2010  2009  2008  2007  2006  2005  2004  2003  2002  2001  2000   22  21    19  18  17  16  15  14  13  12  11  10  09  08  07  06  05  04  03  02  01  00\",\n",
       "       \"Carvana is the safer way to buy a car During these uncertain times, Carvana is dedicated to ensuring safety for all of our customers. In addition to our 100% online shopping and selling experience that allows all customers to buy and trade their cars without ever leaving the safety of their house, we’re providing touchless delivery that make all aspects of our process even safer. Now, you can get the car you want, and trade in your old one, while avoiding person-to-person contact with our friendly advocates. There are some things that can’t be put off. And if buying a car is one of them, know that we’re doing everything we can to keep you keep moving while continuing to put your health safety, and happiness first. Vehicle Stock# 2000948059📱 Want to instantly check this car’s availability? Call us at  334-758-9176Just text that stock number to 855-976-4304 or head to http://www.carvanaauto.com/6965441-74502 and plug it into the search bar!Get PRE-QUALIFIED for your auto loan in 2 minutes - no hit to your credit:http://finance.carvanaauto.com/6965441-74502Looking for more cars like this one? We have 144 Chevrolet Silverado 1500 Crew Cab in stock for as low as $20990!Why buy with Carvana? We have one standard: the highest. Take a look at just some of the qualifications all of our cars must meet before we list them.150-POINT INSPECTION: We put each vehicle through a 150-point inspection so that you can be 100% confident in its quality and safety. See everything that goes into our inspections at:http://www.carvanaauto.com/6965441-74502NO REPORTED ACCIDENTS: We do not sell cars that have been in a reported accident or have a frame or structural damage.7 DAY TEST OWN MONEY BACK GUARANTEE: Every Carvana car comes with a 7-day money-back guarantee. Why? It takes more than 15-minutes to make a decision on your next car. Learn more about test owning at http://about.carvanaauto.comFLEXIBLE FINANCING, TRADE INS WELCOME: We’re all about real-time financing without the middle man. Need financing? Pick a combination of down and monthly payments that work for you. Have a trade-in? We’ll give you a value in 2 minutes. Check out everything about our financing at:http://finance.carvanaauto.com/6965441-74502COST SAVINGS: Carvana's business model has fewer expenses and no bloated fees compared to your local dealership. See how much we can save you at http://about.carvanaauto.comPREMIUM DETAIL: We go the extra mile so that your car is looking as good as new. There are a lot of specifics that we won’t list here (we wash, clean, buff, paint, polish, wax, seal), but trust us that when your car arrives, it’s going to look sweet.Vehicle Info for Stock# 2000948059Trim: LT Pickup 4D 5 3/4 ft pickupMileage: 19k milesExterior Color: RedInterior Color: BLACKEngine: EcoTec3 5.3L V8 355hp 383ft. lbs.Drive: Two Wheel DriveTransmission: VIN: 3GCPWCED5LG130317Dealer Disclosure: Price excludes tax, title, and registration (which we handle for you).Disclaimer: You agree that by providing your phone number, Carvana, or Carvana’s authorized representatives*, may call and/or send text messages (including by using equipment to automatically dial telephone numbers) about your interest in a purchase, for marketing/sales purposes, or for any other servicing or informational purpose related to your account. You do not have to consent to receiving calls or texts to purchase from Carvana. While every reasonable effort is made to ensure the accuracy of the information for this Chevrolet Silverado 1500 Crew Cab, we are not responsible for any errors or omissions contained in this ad. Please verify any information in question with Carvana at 334-758-9176*Including, but not limited to, Bridgecrest Credit Company, GO Financial and SilverRock Automotive.*Chevrolet* *Silverado* *1500* *Crew* *Cab* *Chevy* *Chevrolet* *Silverado* *1500* *Crew* *Cab* *HD* *Crew* *Cab* *LS* *Pickup* *Chevrolet* *Silverado* *1500* *Crew* *Cab* *LS* *Chevrolet* *Silverado* *1500* *Crew* *Cab* *LT* *Chevrolet* *Silverado* *1500* *Crew* *Cab* *LTZ* *Chevrolet* *Silverado* *1500* *Crew* *Cab* *LT1* *Chevrolet* *Silverado* *1500* *Crew* *Cab* *Crew* *Cab* *Chevrolet* *Silverado* *1500* *Crew* *Cab* *XtraCab* *Chevrolet* *Silverado* *1500* *Crew* *Cab* *2500HD* *Classic* *Pick* *up* 2022  2021  2020  2019  2018  2017  2016  2015  2014  2013  2012  2011  2010  2009  2008  2007  2006  2005  2004  2003  2002  2001  2000   22  21    19  18  17  16  15  14  13  12  11  10  09  08  07  06  05  04  03  02  01  00\",\n",
       "       ...,\n",
       "       \"Carvana is the safer way to buy a car During these uncertain times, Carvana is dedicated to ensuring safety for all of our customers. In addition to our 100% online shopping and selling experience that allows all customers to buy and trade their cars without ever leaving the safety of their house, we’re providing touchless delivery that make all aspects of our process even safer. Now, you can get the car you want, and trade in your old one, while avoiding person-to-person contact with our friendly advocates. There are some things that can’t be put off. And if buying a car is one of them, know that we’re doing everything we can to keep you keep moving while continuing to put your health safety, and happiness first. Vehicle Stock# 2000766175📱 Want to instantly check this car’s availability? Call us at  307-215-1645Just text that stock number to 855-976-4304 or head to http://www.carvanaauto.com/6521948-75173 and plug it into the search bar!Get PRE-QUALIFIED for your auto loan in 2 minutes - no hit to your credit:http://finance.carvanaauto.com/6521948-75173Looking for more cars like this one? We have 101 Cadillac XT4 in stock for as low as $28590!Why buy with Carvana? We have one standard: the highest. Take a look at just some of the qualifications all of our cars must meet before we list them.150-POINT INSPECTION: We put each vehicle through a 150-point inspection so that you can be 100% confident in its quality and safety. See everything that goes into our inspections at:http://www.carvanaauto.com/6521948-75173NO REPORTED ACCIDENTS: We do not sell cars that have been in a reported accident or have a frame or structural damage.7 DAY TEST OWN MONEY BACK GUARANTEE: Every Carvana car comes with a 7-day money-back guarantee. Why? It takes more than 15-minutes to make a decision on your next car. Learn more about test owning at http://about.carvanaauto.comFLEXIBLE FINANCING, TRADE INS WELCOME: We’re all about real-time financing without the middle man. Need financing? Pick a combination of down and monthly payments that work for you. Have a trade-in? We’ll give you a value in 2 minutes. Check out everything about our financing at:http://finance.carvanaauto.com/6521948-75173COST SAVINGS: Carvana's business model has fewer expenses and no bloated fees compared to your local dealership. See how much we can save you at http://about.carvanaauto.comPREMIUM DETAIL: We go the extra mile so that your car is looking as good as new. There are a lot of specifics that we won’t list here (we wash, clean, buff, paint, polish, wax, seal), but trust us that when your car arrives, it’s going to look sweet.Vehicle Info for Stock# 2000766175Trim: Sport SUV 4D hatchbackMileage: 4k milesExterior Color: WhiteInterior Color: BLACKEngine: 2.0L Turbo I4 237hp 258ft. lbs.Drive: awdTransmission: VIN: 1GYFZFR46LF088296Dealer Disclosure: Price excludes tax, title, and registration (which we handle for you).Disclaimer: You agree that by providing your phone number, Carvana, or Carvana’s authorized representatives*, may call and/or send text messages (including by using equipment to automatically dial telephone numbers) about your interest in a purchase, for marketing/sales purposes, or for any other servicing or informational purpose related to your account. You do not have to consent to receiving calls or texts to purchase from Carvana. While every reasonable effort is made to ensure the accuracy of the information for this Cadillac XT4, we are not responsible for any errors or omissions contained in this ad. Please verify any information in question with Carvana at 307-215-1645*Including, but not limited to, Bridgecrest Credit Company, GO Financial and SilverRock Automotive.*Cadillac* *XT4* 2022  2021  2020  2019  2018  2017  2016  2015  2014  2013  2012  2011  2010  2009  2008  2007  2006  2005  2004  2003  2002  2001  2000   22  21    19  18  17  16  15  14  13  12  11  10  09  08  07  06  05  04  03  02  01  00\",\n",
       "       \"Carvana is the safer way to buy a car During these uncertain times, Carvana is dedicated to ensuring safety for all of our customers. In addition to our 100% online shopping and selling experience that allows all customers to buy and trade their cars without ever leaving the safety of their house, we’re providing touchless delivery that make all aspects of our process even safer. Now, you can get the car you want, and trade in your old one, while avoiding person-to-person contact with our friendly advocates. There are some things that can’t be put off. And if buying a car is one of them, know that we’re doing everything we can to keep you keep moving while continuing to put your health safety, and happiness first. Vehicle Stock# 2000928634📱 Want to instantly check this car’s availability? Call us at  307-215-1645Just text that stock number to 855-976-4304 or head to  and plug it into the search bar!Get PRE-QUALIFIED for your auto loan in 2 minutes - no hit to your credit:http://finance.carvanaauto.com/6884804-75173Looking for more cars like this one? We have 98 Lexus ES in stock for as low as $13590!Why buy with Carvana? We have one standard: the highest. Take a look at just some of the qualifications all of our cars must meet before we list them.150-POINT INSPECTION: We put each vehicle through a 150-point inspection so that you can be 100% confident in its quality and safety. See everything that goes into our inspections at:NO REPORTED ACCIDENTS: We do not sell cars that have been in a reported accident or have a frame or structural damage.7 DAY TEST OWN MONEY BACK GUARANTEE: Every Carvana car comes with a 7-day money-back guarantee. Why? It takes more than 15-minutes to make a decision on your next car. Learn more about test owning at http://about.carvanaauto.comFLEXIBLE FINANCING, TRADE INS WELCOME: We’re all about real-time financing without the middle man. Need financing? Pick a combination of down and monthly payments that work for you. Have a trade-in? We’ll give you a value in 2 minutes. Check out everything about our financing at:http://finance.carvanaauto.com/6884804-75173COST SAVINGS: Carvana's business model has fewer expenses and no bloated fees compared to your local dealership. See how much we can save you at http://about.carvanaauto.comPREMIUM DETAIL: We go the extra mile so that your car is looking as good as new. There are a lot of specifics that we won’t list here (we wash, clean, buff, paint, polish, wax, seal), but trust us that when your car arrives, it’s going to look sweet.Vehicle Info for Stock# 2000928634Trim: ES 350 Sedan 4D sedanMileage: 30k milesExterior Color: SilverInterior Color: GrayEngine: 3.5L V6 268hp 248ft. lbs.Drive: fwdTransmission: VIN: 58ABK1GG4JU103853Dealer Disclosure: Price excludes tax, title, and registration (which we handle for you).Disclaimer: You agree that by providing your phone number, Carvana, or Carvana’s authorized representatives*, may call and/or send text messages (including by using equipment to automatically dial telephone numbers) about your interest in a purchase, for marketing/sales purposes, or for any other servicing or informational purpose related to your account. You do not have to consent to receiving calls or texts to purchase from Carvana. While every reasonable effort is made to ensure the accuracy of the information for this Lexus ES, we are not responsible for any errors or omissions contained in this ad. Please verify any information in question with Carvana at 307-215-1645*Including, but not limited to, Bridgecrest Credit Company, GO Financial and SilverRock Automotive.*Lexus* *ES* *ES* *Lexus* *ES* *Base* *Lexus* *ES* *ES* *300* *Lexus* *ES* *ES* *300H* *Lexus* *ES* *ES* *330* *Lexus* *ES* *ES* *350* *Lexus* *ES* *ES300* *Lexus* *ES* *ES300H* *Lexus* *ES* *ES330* *Lexus* *ES* *ES350* *Lexus* *ES* *ES* *300* *Lexus* *ES* *ES* *300H* *Lexus* *ES* *ES* *330* *Lexus* *ES* *ES* *350* *Lexus* *ES* *ES-300* *Lexus* *ES* *ES-300H* *Lexus* *ES* *ES-330* *Lexus* *ES* *ES-350* *Lexus* *ES* *Sedan* *Lexus* *ES* *Base* *Sedan* 2022  2021  2020  2019  2018  2017  2016  2015  2014  2013  2012  2011  2010  2009  2008  2007  2006  2005  2004  2003  2002  2001  2000   22  21    19  18  17  16  15  14  13  12  11  10  09  08  07  06  05  04  03  02  01  00\",\n",
       "       \"Carvana is the safer way to buy a car During these uncertain times, Carvana is dedicated to ensuring safety for all of our customers. In addition to our 100% online shopping and selling experience that allows all customers to buy and trade their cars without ever leaving the safety of their house, we’re providing touchless delivery that make all aspects of our process even safer. Now, you can get the car you want, and trade in your old one, while avoiding person-to-person contact with our friendly advocates. There are some things that can’t be put off. And if buying a car is one of them, know that we’re doing everything we can to keep you keep moving while continuing to put your health safety, and happiness first. Vehicle Stock# 2000909942📱 Want to instantly check this car’s availability? Call us at  307-215-1645Just text that stock number to 855-976-4304 or head to http://www.carvanaauto.com/6827369-75173 and plug it into the search bar!Get PRE-QUALIFIED for your auto loan in 2 minutes - no hit to your credit:http://finance.carvanaauto.com/6827369-75173Looking for more cars like this one? We have 115 BMW 4 Series in stock for as low as $17990!Why buy with Carvana? We have one standard: the highest. Take a look at just some of the qualifications all of our cars must meet before we list them.150-POINT INSPECTION: We put each vehicle through a 150-point inspection so that you can be 100% confident in its quality and safety. See everything that goes into our inspections at:http://www.carvanaauto.com/6827369-75173NO REPORTED ACCIDENTS: We do not sell cars that have been in a reported accident or have a frame or structural damage.7 DAY TEST OWN MONEY BACK GUARANTEE: Every Carvana car comes with a 7-day money-back guarantee. Why? It takes more than 15-minutes to make a decision on your next car. Learn more about test owning at http://about.carvanaauto.comFLEXIBLE FINANCING, TRADE INS WELCOME: We’re all about real-time financing without the middle man. Need financing? Pick a combination of down and monthly payments that work for you. Have a trade-in? We’ll give you a value in 2 minutes. Check out everything about our financing at:http://finance.carvanaauto.com/6827369-75173COST SAVINGS: Carvana's business model has fewer expenses and no bloated fees compared to your local dealership. See how much we can save you at http://about.carvanaauto.comPREMIUM DETAIL: We go the extra mile so that your car is looking as good as new. There are a lot of specifics that we won’t list here (we wash, clean, buff, paint, polish, wax, seal), but trust us that when your car arrives, it’s going to look sweet.Vehicle Info for Stock# 2000909942Trim: 430i Gran Coupe Sedan 4D coupeMileage: 22k milesExterior Color: GrayInterior Color: BLACKEngine: 2.0L Turbo I4 248hp 258ft. lbs.Drive: rwdTransmission: VIN: WBA4J1C58KBM14708Dealer Disclosure: Price excludes tax, title, and registration (which we handle for you).Disclaimer: You agree that by providing your phone number, Carvana, or Carvana’s authorized representatives*, may call and/or send text messages (including by using equipment to automatically dial telephone numbers) about your interest in a purchase, for marketing/sales purposes, or for any other servicing or informational purpose related to your account. You do not have to consent to receiving calls or texts to purchase from Carvana. While every reasonable effort is made to ensure the accuracy of the information for this BMW 4 Series, we are not responsible for any errors or omissions contained in this ad. Please verify any information in question with Carvana at 307-215-1645*Including, but not limited to, Bridgecrest Credit Company, GO Financial and SilverRock Automotive.*BMW* *4* *Series* *i* *2* *BMW* *4* *Series* *i2* *BMW* *4* *Series* *ix* *BMW* *4* *Series* *i* *x* *Rear* *Wheel* *drive* *Coupe* *BMW* *4* *Series* *All-* *Wheel* *Drive* *Convertible* 2022  2021  2020  2019  2018  2017  2016  2015  2014  2013  2012  2011  2010  2009  2008  2007  2006  2005  2004  2003  2002  2001  2000   22  21    19  18  17  16  15  14  13  12  11  10  09  08  07  06  05  04  03  02  01  00\"],\n",
       "      dtype=object)"
      ]
     },
     "execution_count": 39,
     "metadata": {},
     "output_type": "execute_result"
    }
   ],
   "source": [
    "#Task 3.13.0\n",
    "#useless as description will be different, i would  think of dropping this column as long sentences of text\n",
    "#cannot be converted into meaningful data\n",
    "\n",
    "\n",
    "UsedVehicle['description'].unique()"
   ]
  },
  {
   "cell_type": "code",
   "execution_count": 40,
   "id": "3e1d1934",
   "metadata": {},
   "outputs": [
    {
     "data": {
      "text/plain": [
       "array(['al', 'ak', 'az', 'ar', 'ca', 'co', 'ct', 'dc', 'de', 'fl', 'ga',\n",
       "       'hi', 'id', 'il', 'in', 'ia', 'ks', 'ky', 'la', 'me', 'md', 'ma',\n",
       "       'mi', 'mn', 'ms', 'mo', 'mt', 'nc', 'ne', 'nv', 'nj', 'nm', 'ny',\n",
       "       'nh', 'nd', 'oh', 'ok', 'or', 'pa', 'ri', 'sc', 'sd', 'tn', 'tx',\n",
       "       'ut', 'vt', 'va', 'wa', 'wv', 'wi', 'wy'], dtype=object)"
      ]
     },
     "execution_count": 40,
     "metadata": {},
     "output_type": "execute_result"
    }
   ],
   "source": [
    "#Task 3.14.0\n",
    "UsedVehicle['state'].unique()"
   ]
  },
  {
   "cell_type": "code",
   "execution_count": 41,
   "id": "c8cf35c8",
   "metadata": {},
   "outputs": [
    {
     "name": "stdout",
     "output_type": "stream",
     "text": [
      "51\n"
     ]
    }
   ],
   "source": [
    "#Task 3.14.1\n",
    "a=len(UsedVehicle['state'].unique())\n",
    "print(a)"
   ]
  },
  {
   "cell_type": "markdown",
   "id": "8a6decb2",
   "metadata": {},
   "source": [
    "there is 51 states and there are only 50 states.  I figured out they used DC as a state.  I will also compare what stated vs type of cars sold"
   ]
  },
  {
   "cell_type": "code",
   "execution_count": 42,
   "id": "bb50b808",
   "metadata": {},
   "outputs": [
    {
     "data": {
      "text/html": [
       "<div>\n",
       "<style scoped>\n",
       "    .dataframe tbody tr th:only-of-type {\n",
       "        vertical-align: middle;\n",
       "    }\n",
       "\n",
       "    .dataframe tbody tr th {\n",
       "        vertical-align: top;\n",
       "    }\n",
       "\n",
       "    .dataframe thead th {\n",
       "        text-align: right;\n",
       "    }\n",
       "</style>\n",
       "<table border=\"1\" class=\"dataframe\">\n",
       "  <thead>\n",
       "    <tr style=\"text-align: right;\">\n",
       "      <th>size</th>\n",
       "      <th>compact</th>\n",
       "      <th>full-size</th>\n",
       "      <th>mid-size</th>\n",
       "      <th>sub-compact</th>\n",
       "      <th>unknown</th>\n",
       "    </tr>\n",
       "    <tr>\n",
       "      <th>state</th>\n",
       "      <th></th>\n",
       "      <th></th>\n",
       "      <th></th>\n",
       "      <th></th>\n",
       "      <th></th>\n",
       "    </tr>\n",
       "  </thead>\n",
       "  <tbody>\n",
       "    <tr>\n",
       "      <th>ak</th>\n",
       "      <td>77.0</td>\n",
       "      <td>452.0</td>\n",
       "      <td>295.0</td>\n",
       "      <td>12.0</td>\n",
       "      <td>2587.0</td>\n",
       "    </tr>\n",
       "    <tr>\n",
       "      <th>al</th>\n",
       "      <td>139.0</td>\n",
       "      <td>779.0</td>\n",
       "      <td>392.0</td>\n",
       "      <td>24.0</td>\n",
       "      <td>3506.0</td>\n",
       "    </tr>\n",
       "    <tr>\n",
       "      <th>ar</th>\n",
       "      <td>98.0</td>\n",
       "      <td>478.0</td>\n",
       "      <td>258.0</td>\n",
       "      <td>7.0</td>\n",
       "      <td>3101.0</td>\n",
       "    </tr>\n",
       "    <tr>\n",
       "      <th>az</th>\n",
       "      <td>340.0</td>\n",
       "      <td>1147.0</td>\n",
       "      <td>706.0</td>\n",
       "      <td>61.0</td>\n",
       "      <td>6156.0</td>\n",
       "    </tr>\n",
       "    <tr>\n",
       "      <th>ca</th>\n",
       "      <td>2415.0</td>\n",
       "      <td>7076.0</td>\n",
       "      <td>3436.0</td>\n",
       "      <td>377.0</td>\n",
       "      <td>35429.0</td>\n",
       "    </tr>\n",
       "    <tr>\n",
       "      <th>co</th>\n",
       "      <td>563.0</td>\n",
       "      <td>1354.0</td>\n",
       "      <td>1160.0</td>\n",
       "      <td>67.0</td>\n",
       "      <td>7658.0</td>\n",
       "    </tr>\n",
       "    <tr>\n",
       "      <th>ct</th>\n",
       "      <td>275.0</td>\n",
       "      <td>746.0</td>\n",
       "      <td>455.0</td>\n",
       "      <td>76.0</td>\n",
       "      <td>3542.0</td>\n",
       "    </tr>\n",
       "    <tr>\n",
       "      <th>dc</th>\n",
       "      <td>227.0</td>\n",
       "      <td>385.0</td>\n",
       "      <td>231.0</td>\n",
       "      <td>39.0</td>\n",
       "      <td>2040.0</td>\n",
       "    </tr>\n",
       "    <tr>\n",
       "      <th>de</th>\n",
       "      <td>22.0</td>\n",
       "      <td>181.0</td>\n",
       "      <td>80.0</td>\n",
       "      <td>1.0</td>\n",
       "      <td>654.0</td>\n",
       "    </tr>\n",
       "    <tr>\n",
       "      <th>fl</th>\n",
       "      <td>2079.0</td>\n",
       "      <td>4925.0</td>\n",
       "      <td>2392.0</td>\n",
       "      <td>273.0</td>\n",
       "      <td>18096.0</td>\n",
       "    </tr>\n",
       "    <tr>\n",
       "      <th>ga</th>\n",
       "      <td>335.0</td>\n",
       "      <td>1010.0</td>\n",
       "      <td>680.0</td>\n",
       "      <td>61.0</td>\n",
       "      <td>4773.0</td>\n",
       "    </tr>\n",
       "    <tr>\n",
       "      <th>hi</th>\n",
       "      <td>164.0</td>\n",
       "      <td>421.0</td>\n",
       "      <td>154.0</td>\n",
       "      <td>21.0</td>\n",
       "      <td>2138.0</td>\n",
       "    </tr>\n",
       "    <tr>\n",
       "      <th>ia</th>\n",
       "      <td>268.0</td>\n",
       "      <td>1253.0</td>\n",
       "      <td>562.0</td>\n",
       "      <td>63.0</td>\n",
       "      <td>5925.0</td>\n",
       "    </tr>\n",
       "    <tr>\n",
       "      <th>id</th>\n",
       "      <td>432.0</td>\n",
       "      <td>1207.0</td>\n",
       "      <td>637.0</td>\n",
       "      <td>60.0</td>\n",
       "      <td>6527.0</td>\n",
       "    </tr>\n",
       "    <tr>\n",
       "      <th>il</th>\n",
       "      <td>373.0</td>\n",
       "      <td>1239.0</td>\n",
       "      <td>838.0</td>\n",
       "      <td>61.0</td>\n",
       "      <td>7695.0</td>\n",
       "    </tr>\n",
       "    <tr>\n",
       "      <th>in</th>\n",
       "      <td>156.0</td>\n",
       "      <td>875.0</td>\n",
       "      <td>493.0</td>\n",
       "      <td>38.0</td>\n",
       "      <td>4067.0</td>\n",
       "    </tr>\n",
       "    <tr>\n",
       "      <th>ks</th>\n",
       "      <td>250.0</td>\n",
       "      <td>980.0</td>\n",
       "      <td>575.0</td>\n",
       "      <td>24.0</td>\n",
       "      <td>4295.0</td>\n",
       "    </tr>\n",
       "    <tr>\n",
       "      <th>ky</th>\n",
       "      <td>122.0</td>\n",
       "      <td>969.0</td>\n",
       "      <td>297.0</td>\n",
       "      <td>12.0</td>\n",
       "      <td>2694.0</td>\n",
       "    </tr>\n",
       "    <tr>\n",
       "      <th>la</th>\n",
       "      <td>90.0</td>\n",
       "      <td>488.0</td>\n",
       "      <td>113.0</td>\n",
       "      <td>20.0</td>\n",
       "      <td>2394.0</td>\n",
       "    </tr>\n",
       "    <tr>\n",
       "      <th>ma</th>\n",
       "      <td>321.0</td>\n",
       "      <td>1305.0</td>\n",
       "      <td>704.0</td>\n",
       "      <td>42.0</td>\n",
       "      <td>5675.0</td>\n",
       "    </tr>\n",
       "    <tr>\n",
       "      <th>md</th>\n",
       "      <td>249.0</td>\n",
       "      <td>559.0</td>\n",
       "      <td>360.0</td>\n",
       "      <td>34.0</td>\n",
       "      <td>3519.0</td>\n",
       "    </tr>\n",
       "    <tr>\n",
       "      <th>me</th>\n",
       "      <td>80.0</td>\n",
       "      <td>773.0</td>\n",
       "      <td>211.0</td>\n",
       "      <td>23.0</td>\n",
       "      <td>1855.0</td>\n",
       "    </tr>\n",
       "    <tr>\n",
       "      <th>mi</th>\n",
       "      <td>410.0</td>\n",
       "      <td>2158.0</td>\n",
       "      <td>1135.0</td>\n",
       "      <td>55.0</td>\n",
       "      <td>12991.0</td>\n",
       "    </tr>\n",
       "    <tr>\n",
       "      <th>mn</th>\n",
       "      <td>206.0</td>\n",
       "      <td>1395.0</td>\n",
       "      <td>750.0</td>\n",
       "      <td>22.0</td>\n",
       "      <td>5232.0</td>\n",
       "    </tr>\n",
       "    <tr>\n",
       "      <th>mo</th>\n",
       "      <td>93.0</td>\n",
       "      <td>596.0</td>\n",
       "      <td>323.0</td>\n",
       "      <td>27.0</td>\n",
       "      <td>3178.0</td>\n",
       "    </tr>\n",
       "    <tr>\n",
       "      <th>ms</th>\n",
       "      <td>24.0</td>\n",
       "      <td>199.0</td>\n",
       "      <td>44.0</td>\n",
       "      <td>2.0</td>\n",
       "      <td>707.0</td>\n",
       "    </tr>\n",
       "    <tr>\n",
       "      <th>mt</th>\n",
       "      <td>103.0</td>\n",
       "      <td>739.0</td>\n",
       "      <td>243.0</td>\n",
       "      <td>9.0</td>\n",
       "      <td>5036.0</td>\n",
       "    </tr>\n",
       "    <tr>\n",
       "      <th>nc</th>\n",
       "      <td>736.0</td>\n",
       "      <td>2729.0</td>\n",
       "      <td>1476.0</td>\n",
       "      <td>137.0</td>\n",
       "      <td>9529.0</td>\n",
       "    </tr>\n",
       "    <tr>\n",
       "      <th>nd</th>\n",
       "      <td>9.0</td>\n",
       "      <td>197.0</td>\n",
       "      <td>49.0</td>\n",
       "      <td>NaN</td>\n",
       "      <td>149.0</td>\n",
       "    </tr>\n",
       "    <tr>\n",
       "      <th>ne</th>\n",
       "      <td>41.0</td>\n",
       "      <td>158.0</td>\n",
       "      <td>100.0</td>\n",
       "      <td>3.0</td>\n",
       "      <td>640.0</td>\n",
       "    </tr>\n",
       "    <tr>\n",
       "      <th>nh</th>\n",
       "      <td>113.0</td>\n",
       "      <td>573.0</td>\n",
       "      <td>206.0</td>\n",
       "      <td>28.0</td>\n",
       "      <td>2037.0</td>\n",
       "    </tr>\n",
       "    <tr>\n",
       "      <th>nj</th>\n",
       "      <td>414.0</td>\n",
       "      <td>1406.0</td>\n",
       "      <td>607.0</td>\n",
       "      <td>66.0</td>\n",
       "      <td>7119.0</td>\n",
       "    </tr>\n",
       "    <tr>\n",
       "      <th>nm</th>\n",
       "      <td>160.0</td>\n",
       "      <td>574.0</td>\n",
       "      <td>295.0</td>\n",
       "      <td>31.0</td>\n",
       "      <td>3228.0</td>\n",
       "    </tr>\n",
       "    <tr>\n",
       "      <th>nv</th>\n",
       "      <td>264.0</td>\n",
       "      <td>530.0</td>\n",
       "      <td>379.0</td>\n",
       "      <td>51.0</td>\n",
       "      <td>1826.0</td>\n",
       "    </tr>\n",
       "    <tr>\n",
       "      <th>ny</th>\n",
       "      <td>761.0</td>\n",
       "      <td>2957.0</td>\n",
       "      <td>1678.0</td>\n",
       "      <td>141.0</td>\n",
       "      <td>13580.0</td>\n",
       "    </tr>\n",
       "    <tr>\n",
       "      <th>oh</th>\n",
       "      <td>921.0</td>\n",
       "      <td>2404.0</td>\n",
       "      <td>2087.0</td>\n",
       "      <td>186.0</td>\n",
       "      <td>11826.0</td>\n",
       "    </tr>\n",
       "    <tr>\n",
       "      <th>ok</th>\n",
       "      <td>275.0</td>\n",
       "      <td>1122.0</td>\n",
       "      <td>640.0</td>\n",
       "      <td>69.0</td>\n",
       "      <td>4407.0</td>\n",
       "    </tr>\n",
       "    <tr>\n",
       "      <th>or</th>\n",
       "      <td>753.0</td>\n",
       "      <td>1218.0</td>\n",
       "      <td>865.0</td>\n",
       "      <td>128.0</td>\n",
       "      <td>13468.0</td>\n",
       "    </tr>\n",
       "    <tr>\n",
       "      <th>pa</th>\n",
       "      <td>597.0</td>\n",
       "      <td>1815.0</td>\n",
       "      <td>1123.0</td>\n",
       "      <td>99.0</td>\n",
       "      <td>9806.0</td>\n",
       "    </tr>\n",
       "    <tr>\n",
       "      <th>ri</th>\n",
       "      <td>96.0</td>\n",
       "      <td>525.0</td>\n",
       "      <td>225.0</td>\n",
       "      <td>13.0</td>\n",
       "      <td>1433.0</td>\n",
       "    </tr>\n",
       "    <tr>\n",
       "      <th>sc</th>\n",
       "      <td>261.0</td>\n",
       "      <td>1202.0</td>\n",
       "      <td>608.0</td>\n",
       "      <td>48.0</td>\n",
       "      <td>4006.0</td>\n",
       "    </tr>\n",
       "    <tr>\n",
       "      <th>sd</th>\n",
       "      <td>29.0</td>\n",
       "      <td>222.0</td>\n",
       "      <td>122.0</td>\n",
       "      <td>8.0</td>\n",
       "      <td>887.0</td>\n",
       "    </tr>\n",
       "    <tr>\n",
       "      <th>tn</th>\n",
       "      <td>443.0</td>\n",
       "      <td>1671.0</td>\n",
       "      <td>1019.0</td>\n",
       "      <td>79.0</td>\n",
       "      <td>7696.0</td>\n",
       "    </tr>\n",
       "    <tr>\n",
       "      <th>tx</th>\n",
       "      <td>1122.0</td>\n",
       "      <td>3776.0</td>\n",
       "      <td>1996.0</td>\n",
       "      <td>227.0</td>\n",
       "      <td>15289.0</td>\n",
       "    </tr>\n",
       "    <tr>\n",
       "      <th>ut</th>\n",
       "      <td>22.0</td>\n",
       "      <td>218.0</td>\n",
       "      <td>51.0</td>\n",
       "      <td>3.0</td>\n",
       "      <td>838.0</td>\n",
       "    </tr>\n",
       "    <tr>\n",
       "      <th>va</th>\n",
       "      <td>609.0</td>\n",
       "      <td>1974.0</td>\n",
       "      <td>1048.0</td>\n",
       "      <td>116.0</td>\n",
       "      <td>6645.0</td>\n",
       "    </tr>\n",
       "    <tr>\n",
       "      <th>vt</th>\n",
       "      <td>131.0</td>\n",
       "      <td>653.0</td>\n",
       "      <td>413.0</td>\n",
       "      <td>11.0</td>\n",
       "      <td>1295.0</td>\n",
       "    </tr>\n",
       "    <tr>\n",
       "      <th>wa</th>\n",
       "      <td>404.0</td>\n",
       "      <td>690.0</td>\n",
       "      <td>484.0</td>\n",
       "      <td>88.0</td>\n",
       "      <td>11712.0</td>\n",
       "    </tr>\n",
       "    <tr>\n",
       "      <th>wi</th>\n",
       "      <td>341.0</td>\n",
       "      <td>1663.0</td>\n",
       "      <td>1006.0</td>\n",
       "      <td>50.0</td>\n",
       "      <td>8160.0</td>\n",
       "    </tr>\n",
       "    <tr>\n",
       "      <th>wv</th>\n",
       "      <td>27.0</td>\n",
       "      <td>184.0</td>\n",
       "      <td>56.0</td>\n",
       "      <td>2.0</td>\n",
       "      <td>765.0</td>\n",
       "    </tr>\n",
       "    <tr>\n",
       "      <th>wy</th>\n",
       "      <td>13.0</td>\n",
       "      <td>113.0</td>\n",
       "      <td>37.0</td>\n",
       "      <td>2.0</td>\n",
       "      <td>431.0</td>\n",
       "    </tr>\n",
       "  </tbody>\n",
       "</table>\n",
       "</div>"
      ],
      "text/plain": [
       "size   compact  full-size  mid-size  sub-compact  unknown\n",
       "state                                                    \n",
       "ak        77.0      452.0     295.0         12.0   2587.0\n",
       "al       139.0      779.0     392.0         24.0   3506.0\n",
       "ar        98.0      478.0     258.0          7.0   3101.0\n",
       "az       340.0     1147.0     706.0         61.0   6156.0\n",
       "ca      2415.0     7076.0    3436.0        377.0  35429.0\n",
       "co       563.0     1354.0    1160.0         67.0   7658.0\n",
       "ct       275.0      746.0     455.0         76.0   3542.0\n",
       "dc       227.0      385.0     231.0         39.0   2040.0\n",
       "de        22.0      181.0      80.0          1.0    654.0\n",
       "fl      2079.0     4925.0    2392.0        273.0  18096.0\n",
       "ga       335.0     1010.0     680.0         61.0   4773.0\n",
       "hi       164.0      421.0     154.0         21.0   2138.0\n",
       "ia       268.0     1253.0     562.0         63.0   5925.0\n",
       "id       432.0     1207.0     637.0         60.0   6527.0\n",
       "il       373.0     1239.0     838.0         61.0   7695.0\n",
       "in       156.0      875.0     493.0         38.0   4067.0\n",
       "ks       250.0      980.0     575.0         24.0   4295.0\n",
       "ky       122.0      969.0     297.0         12.0   2694.0\n",
       "la        90.0      488.0     113.0         20.0   2394.0\n",
       "ma       321.0     1305.0     704.0         42.0   5675.0\n",
       "md       249.0      559.0     360.0         34.0   3519.0\n",
       "me        80.0      773.0     211.0         23.0   1855.0\n",
       "mi       410.0     2158.0    1135.0         55.0  12991.0\n",
       "mn       206.0     1395.0     750.0         22.0   5232.0\n",
       "mo        93.0      596.0     323.0         27.0   3178.0\n",
       "ms        24.0      199.0      44.0          2.0    707.0\n",
       "mt       103.0      739.0     243.0          9.0   5036.0\n",
       "nc       736.0     2729.0    1476.0        137.0   9529.0\n",
       "nd         9.0      197.0      49.0          NaN    149.0\n",
       "ne        41.0      158.0     100.0          3.0    640.0\n",
       "nh       113.0      573.0     206.0         28.0   2037.0\n",
       "nj       414.0     1406.0     607.0         66.0   7119.0\n",
       "nm       160.0      574.0     295.0         31.0   3228.0\n",
       "nv       264.0      530.0     379.0         51.0   1826.0\n",
       "ny       761.0     2957.0    1678.0        141.0  13580.0\n",
       "oh       921.0     2404.0    2087.0        186.0  11826.0\n",
       "ok       275.0     1122.0     640.0         69.0   4407.0\n",
       "or       753.0     1218.0     865.0        128.0  13468.0\n",
       "pa       597.0     1815.0    1123.0         99.0   9806.0\n",
       "ri        96.0      525.0     225.0         13.0   1433.0\n",
       "sc       261.0     1202.0     608.0         48.0   4006.0\n",
       "sd        29.0      222.0     122.0          8.0    887.0\n",
       "tn       443.0     1671.0    1019.0         79.0   7696.0\n",
       "tx      1122.0     3776.0    1996.0        227.0  15289.0\n",
       "ut        22.0      218.0      51.0          3.0    838.0\n",
       "va       609.0     1974.0    1048.0        116.0   6645.0\n",
       "vt       131.0      653.0     413.0         11.0   1295.0\n",
       "wa       404.0      690.0     484.0         88.0  11712.0\n",
       "wi       341.0     1663.0    1006.0         50.0   8160.0\n",
       "wv        27.0      184.0      56.0          2.0    765.0\n",
       "wy        13.0      113.0      37.0          2.0    431.0"
      ]
     },
     "execution_count": 42,
     "metadata": {},
     "output_type": "execute_result"
    }
   ],
   "source": [
    "UsedVehicle.groupby(['size'])['state'].value_counts().unstack(0)"
   ]
  },
  {
   "cell_type": "code",
   "execution_count": 43,
   "id": "1be4620a",
   "metadata": {},
   "outputs": [
    {
     "data": {
      "text/html": [
       "<div>\n",
       "<style scoped>\n",
       "    .dataframe tbody tr th:only-of-type {\n",
       "        vertical-align: middle;\n",
       "    }\n",
       "\n",
       "    .dataframe tbody tr th {\n",
       "        vertical-align: top;\n",
       "    }\n",
       "\n",
       "    .dataframe thead th {\n",
       "        text-align: right;\n",
       "    }\n",
       "</style>\n",
       "<table border=\"1\" class=\"dataframe\">\n",
       "  <thead>\n",
       "    <tr style=\"text-align: right;\">\n",
       "      <th>type</th>\n",
       "      <th>SUV</th>\n",
       "      <th>bus</th>\n",
       "      <th>convertible</th>\n",
       "      <th>coupe</th>\n",
       "      <th>hatchback</th>\n",
       "      <th>mini-van</th>\n",
       "      <th>offroad</th>\n",
       "      <th>other</th>\n",
       "      <th>pickup</th>\n",
       "      <th>sedan</th>\n",
       "      <th>truck</th>\n",
       "      <th>unknown</th>\n",
       "      <th>van</th>\n",
       "      <th>wagon</th>\n",
       "    </tr>\n",
       "    <tr>\n",
       "      <th>state</th>\n",
       "      <th></th>\n",
       "      <th></th>\n",
       "      <th></th>\n",
       "      <th></th>\n",
       "      <th></th>\n",
       "      <th></th>\n",
       "      <th></th>\n",
       "      <th></th>\n",
       "      <th></th>\n",
       "      <th></th>\n",
       "      <th></th>\n",
       "      <th></th>\n",
       "      <th></th>\n",
       "      <th></th>\n",
       "    </tr>\n",
       "  </thead>\n",
       "  <tbody>\n",
       "    <tr>\n",
       "      <th>ak</th>\n",
       "      <td>946.0</td>\n",
       "      <td>1.0</td>\n",
       "      <td>29.0</td>\n",
       "      <td>77.0</td>\n",
       "      <td>73.0</td>\n",
       "      <td>66.0</td>\n",
       "      <td>13.0</td>\n",
       "      <td>104.0</td>\n",
       "      <td>387.0</td>\n",
       "      <td>758.0</td>\n",
       "      <td>457.0</td>\n",
       "      <td>323.0</td>\n",
       "      <td>47.0</td>\n",
       "      <td>142.0</td>\n",
       "    </tr>\n",
       "    <tr>\n",
       "      <th>al</th>\n",
       "      <td>844.0</td>\n",
       "      <td>26.0</td>\n",
       "      <td>79.0</td>\n",
       "      <td>194.0</td>\n",
       "      <td>172.0</td>\n",
       "      <td>33.0</td>\n",
       "      <td>5.0</td>\n",
       "      <td>245.0</td>\n",
       "      <td>607.0</td>\n",
       "      <td>942.0</td>\n",
       "      <td>333.0</td>\n",
       "      <td>1177.0</td>\n",
       "      <td>104.0</td>\n",
       "      <td>79.0</td>\n",
       "    </tr>\n",
       "    <tr>\n",
       "      <th>ar</th>\n",
       "      <td>465.0</td>\n",
       "      <td>4.0</td>\n",
       "      <td>87.0</td>\n",
       "      <td>134.0</td>\n",
       "      <td>198.0</td>\n",
       "      <td>27.0</td>\n",
       "      <td>6.0</td>\n",
       "      <td>198.0</td>\n",
       "      <td>532.0</td>\n",
       "      <td>481.0</td>\n",
       "      <td>232.0</td>\n",
       "      <td>1473.0</td>\n",
       "      <td>67.0</td>\n",
       "      <td>38.0</td>\n",
       "    </tr>\n",
       "    <tr>\n",
       "      <th>az</th>\n",
       "      <td>1269.0</td>\n",
       "      <td>5.0</td>\n",
       "      <td>171.0</td>\n",
       "      <td>407.0</td>\n",
       "      <td>414.0</td>\n",
       "      <td>86.0</td>\n",
       "      <td>35.0</td>\n",
       "      <td>755.0</td>\n",
       "      <td>1219.0</td>\n",
       "      <td>1698.0</td>\n",
       "      <td>448.0</td>\n",
       "      <td>1558.0</td>\n",
       "      <td>165.0</td>\n",
       "      <td>180.0</td>\n",
       "    </tr>\n",
       "    <tr>\n",
       "      <th>ca</th>\n",
       "      <td>8118.0</td>\n",
       "      <td>32.0</td>\n",
       "      <td>1041.0</td>\n",
       "      <td>2470.0</td>\n",
       "      <td>2536.0</td>\n",
       "      <td>415.0</td>\n",
       "      <td>120.0</td>\n",
       "      <td>2612.0</td>\n",
       "      <td>4581.0</td>\n",
       "      <td>12239.0</td>\n",
       "      <td>3093.0</td>\n",
       "      <td>9154.0</td>\n",
       "      <td>1063.0</td>\n",
       "      <td>1259.0</td>\n",
       "    </tr>\n",
       "    <tr>\n",
       "      <th>co</th>\n",
       "      <td>2447.0</td>\n",
       "      <td>16.0</td>\n",
       "      <td>112.0</td>\n",
       "      <td>366.0</td>\n",
       "      <td>413.0</td>\n",
       "      <td>75.0</td>\n",
       "      <td>25.0</td>\n",
       "      <td>536.0</td>\n",
       "      <td>1298.0</td>\n",
       "      <td>2030.0</td>\n",
       "      <td>728.0</td>\n",
       "      <td>2168.0</td>\n",
       "      <td>187.0</td>\n",
       "      <td>401.0</td>\n",
       "    </tr>\n",
       "    <tr>\n",
       "      <th>ct</th>\n",
       "      <td>749.0</td>\n",
       "      <td>1.0</td>\n",
       "      <td>116.0</td>\n",
       "      <td>213.0</td>\n",
       "      <td>299.0</td>\n",
       "      <td>56.0</td>\n",
       "      <td>8.0</td>\n",
       "      <td>616.0</td>\n",
       "      <td>550.0</td>\n",
       "      <td>1079.0</td>\n",
       "      <td>168.0</td>\n",
       "      <td>971.0</td>\n",
       "      <td>86.0</td>\n",
       "      <td>182.0</td>\n",
       "    </tr>\n",
       "    <tr>\n",
       "      <th>dc</th>\n",
       "      <td>494.0</td>\n",
       "      <td>3.0</td>\n",
       "      <td>71.0</td>\n",
       "      <td>167.0</td>\n",
       "      <td>153.0</td>\n",
       "      <td>47.0</td>\n",
       "      <td>2.0</td>\n",
       "      <td>231.0</td>\n",
       "      <td>227.0</td>\n",
       "      <td>894.0</td>\n",
       "      <td>76.0</td>\n",
       "      <td>323.0</td>\n",
       "      <td>94.0</td>\n",
       "      <td>140.0</td>\n",
       "    </tr>\n",
       "    <tr>\n",
       "      <th>de</th>\n",
       "      <td>129.0</td>\n",
       "      <td>1.0</td>\n",
       "      <td>21.0</td>\n",
       "      <td>45.0</td>\n",
       "      <td>23.0</td>\n",
       "      <td>12.0</td>\n",
       "      <td>1.0</td>\n",
       "      <td>23.0</td>\n",
       "      <td>75.0</td>\n",
       "      <td>213.0</td>\n",
       "      <td>84.0</td>\n",
       "      <td>277.0</td>\n",
       "      <td>8.0</td>\n",
       "      <td>26.0</td>\n",
       "    </tr>\n",
       "    <tr>\n",
       "      <th>fl</th>\n",
       "      <td>4281.0</td>\n",
       "      <td>38.0</td>\n",
       "      <td>863.0</td>\n",
       "      <td>1544.0</td>\n",
       "      <td>968.0</td>\n",
       "      <td>351.0</td>\n",
       "      <td>34.0</td>\n",
       "      <td>1125.0</td>\n",
       "      <td>3063.0</td>\n",
       "      <td>6642.0</td>\n",
       "      <td>1915.0</td>\n",
       "      <td>5449.0</td>\n",
       "      <td>726.0</td>\n",
       "      <td>766.0</td>\n",
       "    </tr>\n",
       "    <tr>\n",
       "      <th>ga</th>\n",
       "      <td>1051.0</td>\n",
       "      <td>6.0</td>\n",
       "      <td>113.0</td>\n",
       "      <td>398.0</td>\n",
       "      <td>325.0</td>\n",
       "      <td>75.0</td>\n",
       "      <td>11.0</td>\n",
       "      <td>544.0</td>\n",
       "      <td>788.0</td>\n",
       "      <td>1535.0</td>\n",
       "      <td>463.0</td>\n",
       "      <td>1304.0</td>\n",
       "      <td>118.0</td>\n",
       "      <td>128.0</td>\n",
       "    </tr>\n",
       "    <tr>\n",
       "      <th>hi</th>\n",
       "      <td>617.0</td>\n",
       "      <td>2.0</td>\n",
       "      <td>52.0</td>\n",
       "      <td>134.0</td>\n",
       "      <td>84.0</td>\n",
       "      <td>38.0</td>\n",
       "      <td>6.0</td>\n",
       "      <td>36.0</td>\n",
       "      <td>135.0</td>\n",
       "      <td>747.0</td>\n",
       "      <td>206.0</td>\n",
       "      <td>721.0</td>\n",
       "      <td>58.0</td>\n",
       "      <td>62.0</td>\n",
       "    </tr>\n",
       "    <tr>\n",
       "      <th>ia</th>\n",
       "      <td>1565.0</td>\n",
       "      <td>12.0</td>\n",
       "      <td>149.0</td>\n",
       "      <td>232.0</td>\n",
       "      <td>232.0</td>\n",
       "      <td>136.0</td>\n",
       "      <td>6.0</td>\n",
       "      <td>229.0</td>\n",
       "      <td>637.0</td>\n",
       "      <td>1541.0</td>\n",
       "      <td>808.0</td>\n",
       "      <td>2224.0</td>\n",
       "      <td>145.0</td>\n",
       "      <td>155.0</td>\n",
       "    </tr>\n",
       "    <tr>\n",
       "      <th>id</th>\n",
       "      <td>1986.0</td>\n",
       "      <td>2.0</td>\n",
       "      <td>91.0</td>\n",
       "      <td>241.0</td>\n",
       "      <td>319.0</td>\n",
       "      <td>90.0</td>\n",
       "      <td>18.0</td>\n",
       "      <td>243.0</td>\n",
       "      <td>778.0</td>\n",
       "      <td>1639.0</td>\n",
       "      <td>1654.0</td>\n",
       "      <td>1380.0</td>\n",
       "      <td>105.0</td>\n",
       "      <td>317.0</td>\n",
       "    </tr>\n",
       "    <tr>\n",
       "      <th>il</th>\n",
       "      <td>1668.0</td>\n",
       "      <td>26.0</td>\n",
       "      <td>213.0</td>\n",
       "      <td>511.0</td>\n",
       "      <td>354.0</td>\n",
       "      <td>168.0</td>\n",
       "      <td>7.0</td>\n",
       "      <td>611.0</td>\n",
       "      <td>1000.0</td>\n",
       "      <td>1919.0</td>\n",
       "      <td>488.0</td>\n",
       "      <td>2813.0</td>\n",
       "      <td>221.0</td>\n",
       "      <td>207.0</td>\n",
       "    </tr>\n",
       "    <tr>\n",
       "      <th>in</th>\n",
       "      <td>902.0</td>\n",
       "      <td>14.0</td>\n",
       "      <td>98.0</td>\n",
       "      <td>314.0</td>\n",
       "      <td>222.0</td>\n",
       "      <td>97.0</td>\n",
       "      <td>6.0</td>\n",
       "      <td>323.0</td>\n",
       "      <td>605.0</td>\n",
       "      <td>1108.0</td>\n",
       "      <td>439.0</td>\n",
       "      <td>1271.0</td>\n",
       "      <td>109.0</td>\n",
       "      <td>121.0</td>\n",
       "    </tr>\n",
       "    <tr>\n",
       "      <th>ks</th>\n",
       "      <td>947.0</td>\n",
       "      <td>9.0</td>\n",
       "      <td>161.0</td>\n",
       "      <td>252.0</td>\n",
       "      <td>231.0</td>\n",
       "      <td>102.0</td>\n",
       "      <td>6.0</td>\n",
       "      <td>368.0</td>\n",
       "      <td>921.0</td>\n",
       "      <td>1072.0</td>\n",
       "      <td>450.0</td>\n",
       "      <td>1425.0</td>\n",
       "      <td>80.0</td>\n",
       "      <td>100.0</td>\n",
       "    </tr>\n",
       "    <tr>\n",
       "      <th>ky</th>\n",
       "      <td>866.0</td>\n",
       "      <td>4.0</td>\n",
       "      <td>78.0</td>\n",
       "      <td>228.0</td>\n",
       "      <td>134.0</td>\n",
       "      <td>36.0</td>\n",
       "      <td>7.0</td>\n",
       "      <td>181.0</td>\n",
       "      <td>447.0</td>\n",
       "      <td>762.0</td>\n",
       "      <td>465.0</td>\n",
       "      <td>676.0</td>\n",
       "      <td>133.0</td>\n",
       "      <td>77.0</td>\n",
       "    </tr>\n",
       "    <tr>\n",
       "      <th>la</th>\n",
       "      <td>387.0</td>\n",
       "      <td>4.0</td>\n",
       "      <td>45.0</td>\n",
       "      <td>253.0</td>\n",
       "      <td>68.0</td>\n",
       "      <td>15.0</td>\n",
       "      <td>2.0</td>\n",
       "      <td>169.0</td>\n",
       "      <td>381.0</td>\n",
       "      <td>529.0</td>\n",
       "      <td>166.0</td>\n",
       "      <td>992.0</td>\n",
       "      <td>50.0</td>\n",
       "      <td>44.0</td>\n",
       "    </tr>\n",
       "    <tr>\n",
       "      <th>ma</th>\n",
       "      <td>1399.0</td>\n",
       "      <td>11.0</td>\n",
       "      <td>202.0</td>\n",
       "      <td>393.0</td>\n",
       "      <td>429.0</td>\n",
       "      <td>73.0</td>\n",
       "      <td>6.0</td>\n",
       "      <td>610.0</td>\n",
       "      <td>831.0</td>\n",
       "      <td>1857.0</td>\n",
       "      <td>296.0</td>\n",
       "      <td>1478.0</td>\n",
       "      <td>161.0</td>\n",
       "      <td>301.0</td>\n",
       "    </tr>\n",
       "    <tr>\n",
       "      <th>md</th>\n",
       "      <td>827.0</td>\n",
       "      <td>4.0</td>\n",
       "      <td>84.0</td>\n",
       "      <td>347.0</td>\n",
       "      <td>217.0</td>\n",
       "      <td>66.0</td>\n",
       "      <td>1.0</td>\n",
       "      <td>256.0</td>\n",
       "      <td>464.0</td>\n",
       "      <td>1346.0</td>\n",
       "      <td>195.0</td>\n",
       "      <td>724.0</td>\n",
       "      <td>78.0</td>\n",
       "      <td>112.0</td>\n",
       "    </tr>\n",
       "    <tr>\n",
       "      <th>me</th>\n",
       "      <td>461.0</td>\n",
       "      <td>2.0</td>\n",
       "      <td>59.0</td>\n",
       "      <td>93.0</td>\n",
       "      <td>85.0</td>\n",
       "      <td>21.0</td>\n",
       "      <td>2.0</td>\n",
       "      <td>108.0</td>\n",
       "      <td>312.0</td>\n",
       "      <td>440.0</td>\n",
       "      <td>227.0</td>\n",
       "      <td>1019.0</td>\n",
       "      <td>28.0</td>\n",
       "      <td>85.0</td>\n",
       "    </tr>\n",
       "    <tr>\n",
       "      <th>mi</th>\n",
       "      <td>2979.0</td>\n",
       "      <td>16.0</td>\n",
       "      <td>203.0</td>\n",
       "      <td>583.0</td>\n",
       "      <td>529.0</td>\n",
       "      <td>207.0</td>\n",
       "      <td>7.0</td>\n",
       "      <td>683.0</td>\n",
       "      <td>1025.0</td>\n",
       "      <td>2710.0</td>\n",
       "      <td>1144.0</td>\n",
       "      <td>6066.0</td>\n",
       "      <td>270.0</td>\n",
       "      <td>327.0</td>\n",
       "    </tr>\n",
       "    <tr>\n",
       "      <th>mn</th>\n",
       "      <td>1671.0</td>\n",
       "      <td>3.0</td>\n",
       "      <td>95.0</td>\n",
       "      <td>264.0</td>\n",
       "      <td>238.0</td>\n",
       "      <td>114.0</td>\n",
       "      <td>4.0</td>\n",
       "      <td>262.0</td>\n",
       "      <td>786.0</td>\n",
       "      <td>1196.0</td>\n",
       "      <td>445.0</td>\n",
       "      <td>2253.0</td>\n",
       "      <td>181.0</td>\n",
       "      <td>93.0</td>\n",
       "    </tr>\n",
       "    <tr>\n",
       "      <th>mo</th>\n",
       "      <td>640.0</td>\n",
       "      <td>3.0</td>\n",
       "      <td>125.0</td>\n",
       "      <td>172.0</td>\n",
       "      <td>256.0</td>\n",
       "      <td>39.0</td>\n",
       "      <td>5.0</td>\n",
       "      <td>271.0</td>\n",
       "      <td>692.0</td>\n",
       "      <td>680.0</td>\n",
       "      <td>289.0</td>\n",
       "      <td>925.0</td>\n",
       "      <td>58.0</td>\n",
       "      <td>62.0</td>\n",
       "    </tr>\n",
       "    <tr>\n",
       "      <th>ms</th>\n",
       "      <td>149.0</td>\n",
       "      <td>1.0</td>\n",
       "      <td>13.0</td>\n",
       "      <td>35.0</td>\n",
       "      <td>26.0</td>\n",
       "      <td>11.0</td>\n",
       "      <td>2.0</td>\n",
       "      <td>39.0</td>\n",
       "      <td>90.0</td>\n",
       "      <td>166.0</td>\n",
       "      <td>79.0</td>\n",
       "      <td>336.0</td>\n",
       "      <td>20.0</td>\n",
       "      <td>9.0</td>\n",
       "    </tr>\n",
       "    <tr>\n",
       "      <th>mt</th>\n",
       "      <td>1441.0</td>\n",
       "      <td>4.0</td>\n",
       "      <td>44.0</td>\n",
       "      <td>169.0</td>\n",
       "      <td>85.0</td>\n",
       "      <td>28.0</td>\n",
       "      <td>10.0</td>\n",
       "      <td>50.0</td>\n",
       "      <td>321.0</td>\n",
       "      <td>918.0</td>\n",
       "      <td>1450.0</td>\n",
       "      <td>1329.0</td>\n",
       "      <td>79.0</td>\n",
       "      <td>202.0</td>\n",
       "    </tr>\n",
       "    <tr>\n",
       "      <th>nc</th>\n",
       "      <td>2742.0</td>\n",
       "      <td>11.0</td>\n",
       "      <td>263.0</td>\n",
       "      <td>637.0</td>\n",
       "      <td>573.0</td>\n",
       "      <td>138.0</td>\n",
       "      <td>21.0</td>\n",
       "      <td>739.0</td>\n",
       "      <td>1322.0</td>\n",
       "      <td>2986.0</td>\n",
       "      <td>1250.0</td>\n",
       "      <td>3258.0</td>\n",
       "      <td>398.0</td>\n",
       "      <td>269.0</td>\n",
       "    </tr>\n",
       "    <tr>\n",
       "      <th>nd</th>\n",
       "      <td>125.0</td>\n",
       "      <td>1.0</td>\n",
       "      <td>3.0</td>\n",
       "      <td>11.0</td>\n",
       "      <td>15.0</td>\n",
       "      <td>12.0</td>\n",
       "      <td>1.0</td>\n",
       "      <td>6.0</td>\n",
       "      <td>53.0</td>\n",
       "      <td>47.0</td>\n",
       "      <td>54.0</td>\n",
       "      <td>57.0</td>\n",
       "      <td>14.0</td>\n",
       "      <td>5.0</td>\n",
       "    </tr>\n",
       "    <tr>\n",
       "      <th>ne</th>\n",
       "      <td>243.0</td>\n",
       "      <td>1.0</td>\n",
       "      <td>15.0</td>\n",
       "      <td>29.0</td>\n",
       "      <td>9.0</td>\n",
       "      <td>12.0</td>\n",
       "      <td>2.0</td>\n",
       "      <td>27.0</td>\n",
       "      <td>79.0</td>\n",
       "      <td>158.0</td>\n",
       "      <td>88.0</td>\n",
       "      <td>251.0</td>\n",
       "      <td>19.0</td>\n",
       "      <td>9.0</td>\n",
       "    </tr>\n",
       "    <tr>\n",
       "      <th>nh</th>\n",
       "      <td>526.0</td>\n",
       "      <td>2.0</td>\n",
       "      <td>63.0</td>\n",
       "      <td>125.0</td>\n",
       "      <td>123.0</td>\n",
       "      <td>21.0</td>\n",
       "      <td>3.0</td>\n",
       "      <td>96.0</td>\n",
       "      <td>467.0</td>\n",
       "      <td>557.0</td>\n",
       "      <td>129.0</td>\n",
       "      <td>726.0</td>\n",
       "      <td>34.0</td>\n",
       "      <td>85.0</td>\n",
       "    </tr>\n",
       "    <tr>\n",
       "      <th>nj</th>\n",
       "      <td>1910.0</td>\n",
       "      <td>19.0</td>\n",
       "      <td>194.0</td>\n",
       "      <td>448.0</td>\n",
       "      <td>266.0</td>\n",
       "      <td>142.0</td>\n",
       "      <td>5.0</td>\n",
       "      <td>674.0</td>\n",
       "      <td>576.0</td>\n",
       "      <td>2371.0</td>\n",
       "      <td>375.0</td>\n",
       "      <td>2221.0</td>\n",
       "      <td>181.0</td>\n",
       "      <td>230.0</td>\n",
       "    </tr>\n",
       "    <tr>\n",
       "      <th>nm</th>\n",
       "      <td>559.0</td>\n",
       "      <td>7.0</td>\n",
       "      <td>65.0</td>\n",
       "      <td>178.0</td>\n",
       "      <td>234.0</td>\n",
       "      <td>31.0</td>\n",
       "      <td>10.0</td>\n",
       "      <td>349.0</td>\n",
       "      <td>462.0</td>\n",
       "      <td>818.0</td>\n",
       "      <td>292.0</td>\n",
       "      <td>1102.0</td>\n",
       "      <td>106.0</td>\n",
       "      <td>75.0</td>\n",
       "    </tr>\n",
       "    <tr>\n",
       "      <th>nv</th>\n",
       "      <td>507.0</td>\n",
       "      <td>2.0</td>\n",
       "      <td>78.0</td>\n",
       "      <td>157.0</td>\n",
       "      <td>154.0</td>\n",
       "      <td>25.0</td>\n",
       "      <td>7.0</td>\n",
       "      <td>209.0</td>\n",
       "      <td>274.0</td>\n",
       "      <td>834.0</td>\n",
       "      <td>158.0</td>\n",
       "      <td>494.0</td>\n",
       "      <td>64.0</td>\n",
       "      <td>87.0</td>\n",
       "    </tr>\n",
       "    <tr>\n",
       "      <th>ny</th>\n",
       "      <td>3504.0</td>\n",
       "      <td>35.0</td>\n",
       "      <td>373.0</td>\n",
       "      <td>1021.0</td>\n",
       "      <td>952.0</td>\n",
       "      <td>275.0</td>\n",
       "      <td>22.0</td>\n",
       "      <td>1111.0</td>\n",
       "      <td>2004.0</td>\n",
       "      <td>4040.0</td>\n",
       "      <td>997.0</td>\n",
       "      <td>3746.0</td>\n",
       "      <td>357.0</td>\n",
       "      <td>680.0</td>\n",
       "    </tr>\n",
       "    <tr>\n",
       "      <th>oh</th>\n",
       "      <td>3509.0</td>\n",
       "      <td>17.0</td>\n",
       "      <td>291.0</td>\n",
       "      <td>925.0</td>\n",
       "      <td>669.0</td>\n",
       "      <td>313.0</td>\n",
       "      <td>11.0</td>\n",
       "      <td>1065.0</td>\n",
       "      <td>1516.0</td>\n",
       "      <td>4047.0</td>\n",
       "      <td>994.0</td>\n",
       "      <td>3240.0</td>\n",
       "      <td>349.0</td>\n",
       "      <td>478.0</td>\n",
       "    </tr>\n",
       "    <tr>\n",
       "      <th>ok</th>\n",
       "      <td>1063.0</td>\n",
       "      <td>11.0</td>\n",
       "      <td>88.0</td>\n",
       "      <td>292.0</td>\n",
       "      <td>251.0</td>\n",
       "      <td>70.0</td>\n",
       "      <td>7.0</td>\n",
       "      <td>326.0</td>\n",
       "      <td>704.0</td>\n",
       "      <td>1015.0</td>\n",
       "      <td>827.0</td>\n",
       "      <td>1671.0</td>\n",
       "      <td>55.0</td>\n",
       "      <td>133.0</td>\n",
       "    </tr>\n",
       "    <tr>\n",
       "      <th>or</th>\n",
       "      <td>3543.0</td>\n",
       "      <td>10.0</td>\n",
       "      <td>207.0</td>\n",
       "      <td>486.0</td>\n",
       "      <td>520.0</td>\n",
       "      <td>145.0</td>\n",
       "      <td>19.0</td>\n",
       "      <td>292.0</td>\n",
       "      <td>1454.0</td>\n",
       "      <td>3015.0</td>\n",
       "      <td>3230.0</td>\n",
       "      <td>2720.0</td>\n",
       "      <td>228.0</td>\n",
       "      <td>563.0</td>\n",
       "    </tr>\n",
       "    <tr>\n",
       "      <th>pa</th>\n",
       "      <td>2276.0</td>\n",
       "      <td>17.0</td>\n",
       "      <td>279.0</td>\n",
       "      <td>773.0</td>\n",
       "      <td>671.0</td>\n",
       "      <td>160.0</td>\n",
       "      <td>9.0</td>\n",
       "      <td>934.0</td>\n",
       "      <td>1367.0</td>\n",
       "      <td>3414.0</td>\n",
       "      <td>675.0</td>\n",
       "      <td>2184.0</td>\n",
       "      <td>249.0</td>\n",
       "      <td>432.0</td>\n",
       "    </tr>\n",
       "    <tr>\n",
       "      <th>ri</th>\n",
       "      <td>385.0</td>\n",
       "      <td>3.0</td>\n",
       "      <td>57.0</td>\n",
       "      <td>97.0</td>\n",
       "      <td>117.0</td>\n",
       "      <td>32.0</td>\n",
       "      <td>2.0</td>\n",
       "      <td>92.0</td>\n",
       "      <td>203.0</td>\n",
       "      <td>462.0</td>\n",
       "      <td>211.0</td>\n",
       "      <td>544.0</td>\n",
       "      <td>23.0</td>\n",
       "      <td>64.0</td>\n",
       "    </tr>\n",
       "    <tr>\n",
       "      <th>sc</th>\n",
       "      <td>980.0</td>\n",
       "      <td>2.0</td>\n",
       "      <td>141.0</td>\n",
       "      <td>271.0</td>\n",
       "      <td>247.0</td>\n",
       "      <td>49.0</td>\n",
       "      <td>12.0</td>\n",
       "      <td>414.0</td>\n",
       "      <td>695.0</td>\n",
       "      <td>1101.0</td>\n",
       "      <td>594.0</td>\n",
       "      <td>1348.0</td>\n",
       "      <td>164.0</td>\n",
       "      <td>107.0</td>\n",
       "    </tr>\n",
       "    <tr>\n",
       "      <th>sd</th>\n",
       "      <td>192.0</td>\n",
       "      <td>2.0</td>\n",
       "      <td>11.0</td>\n",
       "      <td>25.0</td>\n",
       "      <td>9.0</td>\n",
       "      <td>8.0</td>\n",
       "      <td>2.0</td>\n",
       "      <td>41.0</td>\n",
       "      <td>214.0</td>\n",
       "      <td>150.0</td>\n",
       "      <td>156.0</td>\n",
       "      <td>431.0</td>\n",
       "      <td>24.0</td>\n",
       "      <td>3.0</td>\n",
       "    </tr>\n",
       "    <tr>\n",
       "      <th>tn</th>\n",
       "      <td>1923.0</td>\n",
       "      <td>13.0</td>\n",
       "      <td>151.0</td>\n",
       "      <td>475.0</td>\n",
       "      <td>372.0</td>\n",
       "      <td>123.0</td>\n",
       "      <td>16.0</td>\n",
       "      <td>609.0</td>\n",
       "      <td>1168.0</td>\n",
       "      <td>2188.0</td>\n",
       "      <td>685.0</td>\n",
       "      <td>2517.0</td>\n",
       "      <td>427.0</td>\n",
       "      <td>241.0</td>\n",
       "    </tr>\n",
       "    <tr>\n",
       "      <th>tx</th>\n",
       "      <td>3836.0</td>\n",
       "      <td>20.0</td>\n",
       "      <td>294.0</td>\n",
       "      <td>1085.0</td>\n",
       "      <td>782.0</td>\n",
       "      <td>184.0</td>\n",
       "      <td>47.0</td>\n",
       "      <td>1187.0</td>\n",
       "      <td>3184.0</td>\n",
       "      <td>3821.0</td>\n",
       "      <td>1460.0</td>\n",
       "      <td>5770.0</td>\n",
       "      <td>388.0</td>\n",
       "      <td>352.0</td>\n",
       "    </tr>\n",
       "    <tr>\n",
       "      <th>ut</th>\n",
       "      <td>230.0</td>\n",
       "      <td>2.0</td>\n",
       "      <td>14.0</td>\n",
       "      <td>36.0</td>\n",
       "      <td>19.0</td>\n",
       "      <td>5.0</td>\n",
       "      <td>NaN</td>\n",
       "      <td>53.0</td>\n",
       "      <td>77.0</td>\n",
       "      <td>165.0</td>\n",
       "      <td>284.0</td>\n",
       "      <td>170.0</td>\n",
       "      <td>57.0</td>\n",
       "      <td>20.0</td>\n",
       "    </tr>\n",
       "    <tr>\n",
       "      <th>va</th>\n",
       "      <td>2006.0</td>\n",
       "      <td>35.0</td>\n",
       "      <td>169.0</td>\n",
       "      <td>513.0</td>\n",
       "      <td>444.0</td>\n",
       "      <td>169.0</td>\n",
       "      <td>10.0</td>\n",
       "      <td>543.0</td>\n",
       "      <td>1021.0</td>\n",
       "      <td>2577.0</td>\n",
       "      <td>907.0</td>\n",
       "      <td>1413.0</td>\n",
       "      <td>261.0</td>\n",
       "      <td>324.0</td>\n",
       "    </tr>\n",
       "    <tr>\n",
       "      <th>vt</th>\n",
       "      <td>550.0</td>\n",
       "      <td>2.0</td>\n",
       "      <td>39.0</td>\n",
       "      <td>56.0</td>\n",
       "      <td>128.0</td>\n",
       "      <td>16.0</td>\n",
       "      <td>1.0</td>\n",
       "      <td>59.0</td>\n",
       "      <td>202.0</td>\n",
       "      <td>445.0</td>\n",
       "      <td>242.0</td>\n",
       "      <td>600.0</td>\n",
       "      <td>24.0</td>\n",
       "      <td>139.0</td>\n",
       "    </tr>\n",
       "    <tr>\n",
       "      <th>wa</th>\n",
       "      <td>3462.0</td>\n",
       "      <td>6.0</td>\n",
       "      <td>199.0</td>\n",
       "      <td>388.0</td>\n",
       "      <td>400.0</td>\n",
       "      <td>96.0</td>\n",
       "      <td>12.0</td>\n",
       "      <td>183.0</td>\n",
       "      <td>722.0</td>\n",
       "      <td>2039.0</td>\n",
       "      <td>3363.0</td>\n",
       "      <td>2028.0</td>\n",
       "      <td>138.0</td>\n",
       "      <td>342.0</td>\n",
       "    </tr>\n",
       "    <tr>\n",
       "      <th>wi</th>\n",
       "      <td>2052.0</td>\n",
       "      <td>34.0</td>\n",
       "      <td>156.0</td>\n",
       "      <td>466.0</td>\n",
       "      <td>392.0</td>\n",
       "      <td>243.0</td>\n",
       "      <td>11.0</td>\n",
       "      <td>430.0</td>\n",
       "      <td>1153.0</td>\n",
       "      <td>1856.0</td>\n",
       "      <td>861.0</td>\n",
       "      <td>2897.0</td>\n",
       "      <td>311.0</td>\n",
       "      <td>358.0</td>\n",
       "    </tr>\n",
       "    <tr>\n",
       "      <th>wv</th>\n",
       "      <td>131.0</td>\n",
       "      <td>2.0</td>\n",
       "      <td>21.0</td>\n",
       "      <td>97.0</td>\n",
       "      <td>31.0</td>\n",
       "      <td>3.0</td>\n",
       "      <td>NaN</td>\n",
       "      <td>67.0</td>\n",
       "      <td>203.0</td>\n",
       "      <td>139.0</td>\n",
       "      <td>165.0</td>\n",
       "      <td>138.0</td>\n",
       "      <td>25.0</td>\n",
       "      <td>12.0</td>\n",
       "    </tr>\n",
       "    <tr>\n",
       "      <th>wy</th>\n",
       "      <td>88.0</td>\n",
       "      <td>1.0</td>\n",
       "      <td>5.0</td>\n",
       "      <td>27.0</td>\n",
       "      <td>20.0</td>\n",
       "      <td>1.0</td>\n",
       "      <td>2.0</td>\n",
       "      <td>41.0</td>\n",
       "      <td>71.0</td>\n",
       "      <td>104.0</td>\n",
       "      <td>63.0</td>\n",
       "      <td>149.0</td>\n",
       "      <td>12.0</td>\n",
       "      <td>12.0</td>\n",
       "    </tr>\n",
       "  </tbody>\n",
       "</table>\n",
       "</div>"
      ],
      "text/plain": [
       "type      SUV   bus  convertible   coupe  hatchback  mini-van  offroad  \\\n",
       "state                                                                    \n",
       "ak      946.0   1.0         29.0    77.0       73.0      66.0     13.0   \n",
       "al      844.0  26.0         79.0   194.0      172.0      33.0      5.0   \n",
       "ar      465.0   4.0         87.0   134.0      198.0      27.0      6.0   \n",
       "az     1269.0   5.0        171.0   407.0      414.0      86.0     35.0   \n",
       "ca     8118.0  32.0       1041.0  2470.0     2536.0     415.0    120.0   \n",
       "co     2447.0  16.0        112.0   366.0      413.0      75.0     25.0   \n",
       "ct      749.0   1.0        116.0   213.0      299.0      56.0      8.0   \n",
       "dc      494.0   3.0         71.0   167.0      153.0      47.0      2.0   \n",
       "de      129.0   1.0         21.0    45.0       23.0      12.0      1.0   \n",
       "fl     4281.0  38.0        863.0  1544.0      968.0     351.0     34.0   \n",
       "ga     1051.0   6.0        113.0   398.0      325.0      75.0     11.0   \n",
       "hi      617.0   2.0         52.0   134.0       84.0      38.0      6.0   \n",
       "ia     1565.0  12.0        149.0   232.0      232.0     136.0      6.0   \n",
       "id     1986.0   2.0         91.0   241.0      319.0      90.0     18.0   \n",
       "il     1668.0  26.0        213.0   511.0      354.0     168.0      7.0   \n",
       "in      902.0  14.0         98.0   314.0      222.0      97.0      6.0   \n",
       "ks      947.0   9.0        161.0   252.0      231.0     102.0      6.0   \n",
       "ky      866.0   4.0         78.0   228.0      134.0      36.0      7.0   \n",
       "la      387.0   4.0         45.0   253.0       68.0      15.0      2.0   \n",
       "ma     1399.0  11.0        202.0   393.0      429.0      73.0      6.0   \n",
       "md      827.0   4.0         84.0   347.0      217.0      66.0      1.0   \n",
       "me      461.0   2.0         59.0    93.0       85.0      21.0      2.0   \n",
       "mi     2979.0  16.0        203.0   583.0      529.0     207.0      7.0   \n",
       "mn     1671.0   3.0         95.0   264.0      238.0     114.0      4.0   \n",
       "mo      640.0   3.0        125.0   172.0      256.0      39.0      5.0   \n",
       "ms      149.0   1.0         13.0    35.0       26.0      11.0      2.0   \n",
       "mt     1441.0   4.0         44.0   169.0       85.0      28.0     10.0   \n",
       "nc     2742.0  11.0        263.0   637.0      573.0     138.0     21.0   \n",
       "nd      125.0   1.0          3.0    11.0       15.0      12.0      1.0   \n",
       "ne      243.0   1.0         15.0    29.0        9.0      12.0      2.0   \n",
       "nh      526.0   2.0         63.0   125.0      123.0      21.0      3.0   \n",
       "nj     1910.0  19.0        194.0   448.0      266.0     142.0      5.0   \n",
       "nm      559.0   7.0         65.0   178.0      234.0      31.0     10.0   \n",
       "nv      507.0   2.0         78.0   157.0      154.0      25.0      7.0   \n",
       "ny     3504.0  35.0        373.0  1021.0      952.0     275.0     22.0   \n",
       "oh     3509.0  17.0        291.0   925.0      669.0     313.0     11.0   \n",
       "ok     1063.0  11.0         88.0   292.0      251.0      70.0      7.0   \n",
       "or     3543.0  10.0        207.0   486.0      520.0     145.0     19.0   \n",
       "pa     2276.0  17.0        279.0   773.0      671.0     160.0      9.0   \n",
       "ri      385.0   3.0         57.0    97.0      117.0      32.0      2.0   \n",
       "sc      980.0   2.0        141.0   271.0      247.0      49.0     12.0   \n",
       "sd      192.0   2.0         11.0    25.0        9.0       8.0      2.0   \n",
       "tn     1923.0  13.0        151.0   475.0      372.0     123.0     16.0   \n",
       "tx     3836.0  20.0        294.0  1085.0      782.0     184.0     47.0   \n",
       "ut      230.0   2.0         14.0    36.0       19.0       5.0      NaN   \n",
       "va     2006.0  35.0        169.0   513.0      444.0     169.0     10.0   \n",
       "vt      550.0   2.0         39.0    56.0      128.0      16.0      1.0   \n",
       "wa     3462.0   6.0        199.0   388.0      400.0      96.0     12.0   \n",
       "wi     2052.0  34.0        156.0   466.0      392.0     243.0     11.0   \n",
       "wv      131.0   2.0         21.0    97.0       31.0       3.0      NaN   \n",
       "wy       88.0   1.0          5.0    27.0       20.0       1.0      2.0   \n",
       "\n",
       "type    other  pickup    sedan   truck  unknown     van   wagon  \n",
       "state                                                            \n",
       "ak      104.0   387.0    758.0   457.0    323.0    47.0   142.0  \n",
       "al      245.0   607.0    942.0   333.0   1177.0   104.0    79.0  \n",
       "ar      198.0   532.0    481.0   232.0   1473.0    67.0    38.0  \n",
       "az      755.0  1219.0   1698.0   448.0   1558.0   165.0   180.0  \n",
       "ca     2612.0  4581.0  12239.0  3093.0   9154.0  1063.0  1259.0  \n",
       "co      536.0  1298.0   2030.0   728.0   2168.0   187.0   401.0  \n",
       "ct      616.0   550.0   1079.0   168.0    971.0    86.0   182.0  \n",
       "dc      231.0   227.0    894.0    76.0    323.0    94.0   140.0  \n",
       "de       23.0    75.0    213.0    84.0    277.0     8.0    26.0  \n",
       "fl     1125.0  3063.0   6642.0  1915.0   5449.0   726.0   766.0  \n",
       "ga      544.0   788.0   1535.0   463.0   1304.0   118.0   128.0  \n",
       "hi       36.0   135.0    747.0   206.0    721.0    58.0    62.0  \n",
       "ia      229.0   637.0   1541.0   808.0   2224.0   145.0   155.0  \n",
       "id      243.0   778.0   1639.0  1654.0   1380.0   105.0   317.0  \n",
       "il      611.0  1000.0   1919.0   488.0   2813.0   221.0   207.0  \n",
       "in      323.0   605.0   1108.0   439.0   1271.0   109.0   121.0  \n",
       "ks      368.0   921.0   1072.0   450.0   1425.0    80.0   100.0  \n",
       "ky      181.0   447.0    762.0   465.0    676.0   133.0    77.0  \n",
       "la      169.0   381.0    529.0   166.0    992.0    50.0    44.0  \n",
       "ma      610.0   831.0   1857.0   296.0   1478.0   161.0   301.0  \n",
       "md      256.0   464.0   1346.0   195.0    724.0    78.0   112.0  \n",
       "me      108.0   312.0    440.0   227.0   1019.0    28.0    85.0  \n",
       "mi      683.0  1025.0   2710.0  1144.0   6066.0   270.0   327.0  \n",
       "mn      262.0   786.0   1196.0   445.0   2253.0   181.0    93.0  \n",
       "mo      271.0   692.0    680.0   289.0    925.0    58.0    62.0  \n",
       "ms       39.0    90.0    166.0    79.0    336.0    20.0     9.0  \n",
       "mt       50.0   321.0    918.0  1450.0   1329.0    79.0   202.0  \n",
       "nc      739.0  1322.0   2986.0  1250.0   3258.0   398.0   269.0  \n",
       "nd        6.0    53.0     47.0    54.0     57.0    14.0     5.0  \n",
       "ne       27.0    79.0    158.0    88.0    251.0    19.0     9.0  \n",
       "nh       96.0   467.0    557.0   129.0    726.0    34.0    85.0  \n",
       "nj      674.0   576.0   2371.0   375.0   2221.0   181.0   230.0  \n",
       "nm      349.0   462.0    818.0   292.0   1102.0   106.0    75.0  \n",
       "nv      209.0   274.0    834.0   158.0    494.0    64.0    87.0  \n",
       "ny     1111.0  2004.0   4040.0   997.0   3746.0   357.0   680.0  \n",
       "oh     1065.0  1516.0   4047.0   994.0   3240.0   349.0   478.0  \n",
       "ok      326.0   704.0   1015.0   827.0   1671.0    55.0   133.0  \n",
       "or      292.0  1454.0   3015.0  3230.0   2720.0   228.0   563.0  \n",
       "pa      934.0  1367.0   3414.0   675.0   2184.0   249.0   432.0  \n",
       "ri       92.0   203.0    462.0   211.0    544.0    23.0    64.0  \n",
       "sc      414.0   695.0   1101.0   594.0   1348.0   164.0   107.0  \n",
       "sd       41.0   214.0    150.0   156.0    431.0    24.0     3.0  \n",
       "tn      609.0  1168.0   2188.0   685.0   2517.0   427.0   241.0  \n",
       "tx     1187.0  3184.0   3821.0  1460.0   5770.0   388.0   352.0  \n",
       "ut       53.0    77.0    165.0   284.0    170.0    57.0    20.0  \n",
       "va      543.0  1021.0   2577.0   907.0   1413.0   261.0   324.0  \n",
       "vt       59.0   202.0    445.0   242.0    600.0    24.0   139.0  \n",
       "wa      183.0   722.0   2039.0  3363.0   2028.0   138.0   342.0  \n",
       "wi      430.0  1153.0   1856.0   861.0   2897.0   311.0   358.0  \n",
       "wv       67.0   203.0    139.0   165.0    138.0    25.0    12.0  \n",
       "wy       41.0    71.0    104.0    63.0    149.0    12.0    12.0  "
      ]
     },
     "execution_count": 43,
     "metadata": {},
     "output_type": "execute_result"
    }
   ],
   "source": [
    "UsedVehicle.groupby(['type'])['state'].value_counts().unstack(0)"
   ]
  },
  {
   "cell_type": "code",
   "execution_count": 44,
   "id": "82d3dda6",
   "metadata": {},
   "outputs": [
    {
     "data": {
      "text/plain": [
       "array(['2021-05-04T12:31:18-0500', '2021-05-04T12:31:08-0500',\n",
       "       '2021-05-04T12:31:25-0500', ..., '2021-04-04T03:21:17-0600',\n",
       "       '2021-04-04T03:21:11-0600', '2021-04-04T03:21:07-0600'],\n",
       "      dtype=object)"
      ]
     },
     "execution_count": 44,
     "metadata": {},
     "output_type": "execute_result"
    }
   ],
   "source": [
    "#Task 3.15.0\n",
    "UsedVehicle['posting_date'].unique()"
   ]
  },
  {
   "cell_type": "code",
   "execution_count": 45,
   "id": "43eca7ab",
   "metadata": {},
   "outputs": [
    {
     "name": "stdout",
     "output_type": "stream",
     "text": [
      "372113\n"
     ]
    }
   ],
   "source": [
    "#Task 3.15.1\n",
    "a=len(UsedVehicle['posting_date'].unique())\n",
    "print(a)"
   ]
  },
  {
   "cell_type": "code",
   "execution_count": 46,
   "id": "bc534160",
   "metadata": {},
   "outputs": [
    {
     "data": {
      "text/plain": [
       "<AxesSubplot:>"
      ]
     },
     "execution_count": 46,
     "metadata": {},
     "output_type": "execute_result"
    },
    {
     "data": {
      "image/png": "[encoded data removed]",
      "text/plain": [
       "<Figure size 720x720 with 2 Axes>"
      ]
     },
     "metadata": {
      "needs_background": "light"
     },
     "output_type": "display_data"
    }
   ],
   "source": [
    "#Task 4.0\n",
    "#test data to see correlation mapping\n",
    "#Heat map with columns that are floats or int.  It will not work with str.\n",
    "#adjust the scale so i can see anything that has correation greater than 0.  \n",
    "#Previous chart with -1 to 1 was difficult to distinguest correlation\n",
    "\n",
    "UsedVehicle_corr=UsedVehicle.corr()\n",
    "fig,ax  =plt.subplots(figsize = (10,10))\n",
    "sns.heatmap(UsedVehicle_corr, linewidth=.5,ax=ax, vmin=-1,vmax=1)"
   ]
  },
  {
   "cell_type": "markdown",
   "id": "d79bfba4",
   "metadata": {},
   "source": [
    "Looking at price / odometer and odometer / year"
   ]
  },
  {
   "cell_type": "code",
   "execution_count": 47,
   "id": "0edc201b",
   "metadata": {},
   "outputs": [
    {
     "data": {
      "text/html": [
       "<div>\n",
       "<style scoped>\n",
       "    .dataframe tbody tr th:only-of-type {\n",
       "        vertical-align: middle;\n",
       "    }\n",
       "\n",
       "    .dataframe tbody tr th {\n",
       "        vertical-align: top;\n",
       "    }\n",
       "\n",
       "    .dataframe thead th {\n",
       "        text-align: right;\n",
       "    }\n",
       "</style>\n",
       "<table border=\"1\" class=\"dataframe\">\n",
       "  <thead>\n",
       "    <tr style=\"text-align: right;\">\n",
       "      <th></th>\n",
       "      <th>odometer</th>\n",
       "      <th>year</th>\n",
       "      <th>price</th>\n",
       "    </tr>\n",
       "  </thead>\n",
       "  <tbody>\n",
       "    <tr>\n",
       "      <th>count</th>\n",
       "      <td>4.161490e+05</td>\n",
       "      <td>416149.000000</td>\n",
       "      <td>4.161490e+05</td>\n",
       "    </tr>\n",
       "    <tr>\n",
       "      <th>mean</th>\n",
       "      <td>9.766435e+04</td>\n",
       "      <td>2011.365749</td>\n",
       "      <td>6.158955e+04</td>\n",
       "    </tr>\n",
       "    <tr>\n",
       "      <th>std</th>\n",
       "      <td>2.046903e+05</td>\n",
       "      <td>9.140825</td>\n",
       "      <td>1.108080e+07</td>\n",
       "    </tr>\n",
       "    <tr>\n",
       "      <th>min</th>\n",
       "      <td>0.000000e+00</td>\n",
       "      <td>1900.000000</td>\n",
       "      <td>0.000000e+00</td>\n",
       "    </tr>\n",
       "    <tr>\n",
       "      <th>25%</th>\n",
       "      <td>3.800000e+04</td>\n",
       "      <td>2008.000000</td>\n",
       "      <td>5.995000e+03</td>\n",
       "    </tr>\n",
       "    <tr>\n",
       "      <th>50%</th>\n",
       "      <td>8.568200e+04</td>\n",
       "      <td>2014.000000</td>\n",
       "      <td>1.399100e+04</td>\n",
       "    </tr>\n",
       "    <tr>\n",
       "      <th>75%</th>\n",
       "      <td>1.335030e+05</td>\n",
       "      <td>2017.000000</td>\n",
       "      <td>2.650000e+04</td>\n",
       "    </tr>\n",
       "    <tr>\n",
       "      <th>max</th>\n",
       "      <td>1.000000e+07</td>\n",
       "      <td>2022.000000</td>\n",
       "      <td>3.736929e+09</td>\n",
       "    </tr>\n",
       "  </tbody>\n",
       "</table>\n",
       "</div>"
      ],
      "text/plain": [
       "           odometer           year         price\n",
       "count  4.161490e+05  416149.000000  4.161490e+05\n",
       "mean   9.766435e+04    2011.365749  6.158955e+04\n",
       "std    2.046903e+05       9.140825  1.108080e+07\n",
       "min    0.000000e+00    1900.000000  0.000000e+00\n",
       "25%    3.800000e+04    2008.000000  5.995000e+03\n",
       "50%    8.568200e+04    2014.000000  1.399100e+04\n",
       "75%    1.335030e+05    2017.000000  2.650000e+04\n",
       "max    1.000000e+07    2022.000000  3.736929e+09"
      ]
     },
     "execution_count": 47,
     "metadata": {},
     "output_type": "execute_result"
    }
   ],
   "source": [
    "UsedVehicle[['odometer','year','price']].describe()"
   ]
  },
  {
   "cell_type": "code",
   "execution_count": 48,
   "id": "9b0d0fc9",
   "metadata": {
    "scrolled": false
   },
   "outputs": [
    {
     "data": {
      "text/plain": [
       "<seaborn.axisgrid.PairGrid at 0x14a8d040>"
      ]
     },
     "execution_count": 48,
     "metadata": {},
     "output_type": "execute_result"
    },
    {
     "data": {
      "image/png": "[encoded data removed]",
      "text/plain": [
       "<Figure size 421.5x360 with 6 Axes>"
      ]
     },
     "metadata": {
      "needs_background": "light"
     },
     "output_type": "display_data"
    }
   ],
   "source": [
    "#Task 5.1\n",
    "#seaborn pair plot\n",
    "df1 = UsedVehicle[['odometer','year','price']]\n",
    "sns.pairplot(df1, hue='year')\n",
    "\n"
   ]
  },
  {
   "cell_type": "code",
   "execution_count": 49,
   "id": "ac413fe3",
   "metadata": {},
   "outputs": [
    {
     "data": {
      "text/plain": [
       "<seaborn.axisgrid.PairGrid at 0x14c5df70>"
      ]
     },
     "execution_count": 49,
     "metadata": {},
     "output_type": "execute_result"
    },
    {
     "data": {
      "image/png": "[encoded data removed]",
      "text/plain": [
       "<Figure size 412x360 with 6 Axes>"
      ]
     },
     "metadata": {
      "needs_background": "light"
     },
     "output_type": "display_data"
    }
   ],
   "source": [
    "#Task 5.2\n",
    "\n",
    "\n",
    "df2 = UsedVehicle[['odometer','year','price']]\n",
    "sns.pairplot(df2, hue='price')\n",
    "\n"
   ]
  },
  {
   "cell_type": "code",
   "execution_count": 50,
   "id": "29e7cb00",
   "metadata": {},
   "outputs": [
    {
     "data": {
      "text/plain": [
       "<AxesSubplot:xlabel='odometer'>"
      ]
     },
     "execution_count": 50,
     "metadata": {},
     "output_type": "execute_result"
    },
    {
     "data": {
      "image/png": "[encoded data removed]",
      "text/plain": [
       "<Figure size 432x288 with 1 Axes>"
      ]
     },
     "metadata": {
      "needs_background": "light"
     },
     "output_type": "display_data"
    }
   ],
   "source": [
    "UsedVehicle.groupby('odometer')['price'].mean().plot()"
   ]
  },
  {
   "cell_type": "code",
   "execution_count": 51,
   "id": "5152ce33",
   "metadata": {},
   "outputs": [
    {
     "data": {
      "image/png": "[encoded data removed]",
      "text/plain": [
       "<Figure size 1080x360 with 1 Axes>"
      ]
     },
     "metadata": {
      "needs_background": "light"
     },
     "output_type": "display_data"
    }
   ],
   "source": [
    "#Task 5.3.1\n",
    "#box plot\n",
    "plt.figure(figsize = (15,5))\n",
    "sns.lineplot(x=UsedVehicle['year'] ,y=UsedVehicle['price'].mean());\n",
    "plt.show()"
   ]
  },
  {
   "cell_type": "code",
   "execution_count": 52,
   "id": "2f712d46",
   "metadata": {},
   "outputs": [
    {
     "data": {
      "image/png": "[encoded data removed]",
      "text/plain": [
       "<Figure size 1080x360 with 1 Axes>"
      ]
     },
     "metadata": {
      "needs_background": "light"
     },
     "output_type": "display_data"
    }
   ],
   "source": [
    "#Task 5.4\n",
    "#box plot\n",
    "plt.figure(figsize = (15,5))\n",
    "sns.boxplot(x=UsedVehicle['year'] ,y=UsedVehicle['price']);\n",
    "plt.show()"
   ]
  },
  {
   "cell_type": "code",
   "execution_count": 53,
   "id": "9cf4718a",
   "metadata": {},
   "outputs": [
    {
     "data": {
      "image/png": "[encoded data removed]",
      "text/plain": [
       "<Figure size 1440x1440 with 1 Axes>"
      ]
     },
     "metadata": {
      "needs_background": "light"
     },
     "output_type": "display_data"
    }
   ],
   "source": [
    "#Task 5.6\n",
    "\n",
    "#Violin Plot\n",
    "\n",
    "#aasize =(20,20)\n",
    "fig,ax=plt.subplots()\n",
    "fig.set_size_inches(20,20)\n",
    "sns.violinplot(x=UsedVehicle['year'] ,y=UsedVehicle['price'], ax =ax );\n",
    "plt.show()"
   ]
  },
  {
   "cell_type": "code",
   "execution_count": 54,
   "id": "01cba5fc",
   "metadata": {},
   "outputs": [
    {
     "data": {
      "text/html": [
       "<div>\n",
       "<style scoped>\n",
       "    .dataframe tbody tr th:only-of-type {\n",
       "        vertical-align: middle;\n",
       "    }\n",
       "\n",
       "    .dataframe tbody tr th {\n",
       "        vertical-align: top;\n",
       "    }\n",
       "\n",
       "    .dataframe thead th {\n",
       "        text-align: right;\n",
       "    }\n",
       "</style>\n",
       "<table border=\"1\" class=\"dataframe\">\n",
       "  <thead>\n",
       "    <tr style=\"text-align: right;\">\n",
       "      <th></th>\n",
       "      <th>region</th>\n",
       "      <th>price</th>\n",
       "      <th>year</th>\n",
       "      <th>manufacturer</th>\n",
       "      <th>model</th>\n",
       "      <th>condition</th>\n",
       "      <th>cylinders</th>\n",
       "      <th>fuel</th>\n",
       "      <th>odometer</th>\n",
       "      <th>title_status</th>\n",
       "      <th>...</th>\n",
       "      <th>drive</th>\n",
       "      <th>size</th>\n",
       "      <th>type</th>\n",
       "      <th>paint_color</th>\n",
       "      <th>description</th>\n",
       "      <th>state</th>\n",
       "      <th>lat</th>\n",
       "      <th>long</th>\n",
       "      <th>posting_date</th>\n",
       "      <th>posting_date2</th>\n",
       "    </tr>\n",
       "  </thead>\n",
       "  <tbody>\n",
       "    <tr>\n",
       "      <th>0</th>\n",
       "      <td>auburn</td>\n",
       "      <td>33590</td>\n",
       "      <td>2014.0</td>\n",
       "      <td>gmc</td>\n",
       "      <td>sierra 1500 crew cab slt</td>\n",
       "      <td>good</td>\n",
       "      <td>8 cylinders</td>\n",
       "      <td>gas</td>\n",
       "      <td>57923.0</td>\n",
       "      <td>clean</td>\n",
       "      <td>...</td>\n",
       "      <td>unknown</td>\n",
       "      <td>unknown</td>\n",
       "      <td>pickup</td>\n",
       "      <td>white</td>\n",
       "      <td>Carvana is the safer way to buy a car During t...</td>\n",
       "      <td>al</td>\n",
       "      <td>32.590000</td>\n",
       "      <td>-85.480000</td>\n",
       "      <td>2021-05-04T12:31:18-0500</td>\n",
       "      <td>2021-05-04</td>\n",
       "    </tr>\n",
       "    <tr>\n",
       "      <th>1</th>\n",
       "      <td>auburn</td>\n",
       "      <td>22590</td>\n",
       "      <td>2010.0</td>\n",
       "      <td>chevrolet</td>\n",
       "      <td>silverado 1500</td>\n",
       "      <td>good</td>\n",
       "      <td>8 cylinders</td>\n",
       "      <td>gas</td>\n",
       "      <td>71229.0</td>\n",
       "      <td>clean</td>\n",
       "      <td>...</td>\n",
       "      <td>unknown</td>\n",
       "      <td>unknown</td>\n",
       "      <td>pickup</td>\n",
       "      <td>blue</td>\n",
       "      <td>Carvana is the safer way to buy a car During t...</td>\n",
       "      <td>al</td>\n",
       "      <td>32.590000</td>\n",
       "      <td>-85.480000</td>\n",
       "      <td>2021-05-04T12:31:08-0500</td>\n",
       "      <td>2021-05-04</td>\n",
       "    </tr>\n",
       "    <tr>\n",
       "      <th>2</th>\n",
       "      <td>auburn</td>\n",
       "      <td>39590</td>\n",
       "      <td>2020.0</td>\n",
       "      <td>chevrolet</td>\n",
       "      <td>silverado 1500 crew</td>\n",
       "      <td>good</td>\n",
       "      <td>8 cylinders</td>\n",
       "      <td>gas</td>\n",
       "      <td>19160.0</td>\n",
       "      <td>clean</td>\n",
       "      <td>...</td>\n",
       "      <td>unknown</td>\n",
       "      <td>unknown</td>\n",
       "      <td>pickup</td>\n",
       "      <td>red</td>\n",
       "      <td>Carvana is the safer way to buy a car During t...</td>\n",
       "      <td>al</td>\n",
       "      <td>32.590000</td>\n",
       "      <td>-85.480000</td>\n",
       "      <td>2021-05-04T12:31:25-0500</td>\n",
       "      <td>2021-05-04</td>\n",
       "    </tr>\n",
       "    <tr>\n",
       "      <th>3</th>\n",
       "      <td>auburn</td>\n",
       "      <td>30990</td>\n",
       "      <td>2017.0</td>\n",
       "      <td>toyota</td>\n",
       "      <td>tundra double cab sr</td>\n",
       "      <td>good</td>\n",
       "      <td>8 cylinders</td>\n",
       "      <td>gas</td>\n",
       "      <td>41124.0</td>\n",
       "      <td>clean</td>\n",
       "      <td>...</td>\n",
       "      <td>unknown</td>\n",
       "      <td>unknown</td>\n",
       "      <td>pickup</td>\n",
       "      <td>red</td>\n",
       "      <td>Carvana is the safer way to buy a car During t...</td>\n",
       "      <td>al</td>\n",
       "      <td>32.590000</td>\n",
       "      <td>-85.480000</td>\n",
       "      <td>2021-05-04T10:41:31-0500</td>\n",
       "      <td>2021-05-04</td>\n",
       "    </tr>\n",
       "    <tr>\n",
       "      <th>4</th>\n",
       "      <td>auburn</td>\n",
       "      <td>15000</td>\n",
       "      <td>2013.0</td>\n",
       "      <td>ford</td>\n",
       "      <td>f-150 xlt</td>\n",
       "      <td>excellent</td>\n",
       "      <td>6 cylinders</td>\n",
       "      <td>gas</td>\n",
       "      <td>128000.0</td>\n",
       "      <td>clean</td>\n",
       "      <td>...</td>\n",
       "      <td>rwd</td>\n",
       "      <td>full-size</td>\n",
       "      <td>truck</td>\n",
       "      <td>black</td>\n",
       "      <td>2013 F-150 XLT V6 4 Door. Good condition. Leve...</td>\n",
       "      <td>al</td>\n",
       "      <td>32.592000</td>\n",
       "      <td>-85.518900</td>\n",
       "      <td>2021-05-03T14:02:03-0500</td>\n",
       "      <td>2021-05-03</td>\n",
       "    </tr>\n",
       "    <tr>\n",
       "      <th>...</th>\n",
       "      <td>...</td>\n",
       "      <td>...</td>\n",
       "      <td>...</td>\n",
       "      <td>...</td>\n",
       "      <td>...</td>\n",
       "      <td>...</td>\n",
       "      <td>...</td>\n",
       "      <td>...</td>\n",
       "      <td>...</td>\n",
       "      <td>...</td>\n",
       "      <td>...</td>\n",
       "      <td>...</td>\n",
       "      <td>...</td>\n",
       "      <td>...</td>\n",
       "      <td>...</td>\n",
       "      <td>...</td>\n",
       "      <td>...</td>\n",
       "      <td>...</td>\n",
       "      <td>...</td>\n",
       "      <td>...</td>\n",
       "      <td>...</td>\n",
       "    </tr>\n",
       "    <tr>\n",
       "      <th>416144</th>\n",
       "      <td>wyoming</td>\n",
       "      <td>23590</td>\n",
       "      <td>2019.0</td>\n",
       "      <td>nissan</td>\n",
       "      <td>maxima s sedan 4d</td>\n",
       "      <td>good</td>\n",
       "      <td>6 cylinders</td>\n",
       "      <td>gas</td>\n",
       "      <td>32226.0</td>\n",
       "      <td>clean</td>\n",
       "      <td>...</td>\n",
       "      <td>fwd</td>\n",
       "      <td>unknown</td>\n",
       "      <td>sedan</td>\n",
       "      <td>unknown</td>\n",
       "      <td>Carvana is the safer way to buy a car During t...</td>\n",
       "      <td>wy</td>\n",
       "      <td>33.786500</td>\n",
       "      <td>-84.445400</td>\n",
       "      <td>2021-04-04T03:21:31-0600</td>\n",
       "      <td>2021-04-04</td>\n",
       "    </tr>\n",
       "    <tr>\n",
       "      <th>416145</th>\n",
       "      <td>wyoming</td>\n",
       "      <td>30590</td>\n",
       "      <td>2020.0</td>\n",
       "      <td>volvo</td>\n",
       "      <td>s60 t5 momentum sedan 4d</td>\n",
       "      <td>good</td>\n",
       "      <td>unknown</td>\n",
       "      <td>gas</td>\n",
       "      <td>12029.0</td>\n",
       "      <td>clean</td>\n",
       "      <td>...</td>\n",
       "      <td>fwd</td>\n",
       "      <td>unknown</td>\n",
       "      <td>sedan</td>\n",
       "      <td>red</td>\n",
       "      <td>Carvana is the safer way to buy a car During t...</td>\n",
       "      <td>wy</td>\n",
       "      <td>33.786500</td>\n",
       "      <td>-84.445400</td>\n",
       "      <td>2021-04-04T03:21:29-0600</td>\n",
       "      <td>2021-04-04</td>\n",
       "    </tr>\n",
       "    <tr>\n",
       "      <th>416146</th>\n",
       "      <td>wyoming</td>\n",
       "      <td>34990</td>\n",
       "      <td>2020.0</td>\n",
       "      <td>cadillac</td>\n",
       "      <td>xt4 sport suv 4d</td>\n",
       "      <td>good</td>\n",
       "      <td>unknown</td>\n",
       "      <td>diesel</td>\n",
       "      <td>4174.0</td>\n",
       "      <td>clean</td>\n",
       "      <td>...</td>\n",
       "      <td>unknown</td>\n",
       "      <td>unknown</td>\n",
       "      <td>hatchback</td>\n",
       "      <td>white</td>\n",
       "      <td>Carvana is the safer way to buy a car During t...</td>\n",
       "      <td>wy</td>\n",
       "      <td>33.779214</td>\n",
       "      <td>-84.411811</td>\n",
       "      <td>2021-04-04T03:21:17-0600</td>\n",
       "      <td>2021-04-04</td>\n",
       "    </tr>\n",
       "    <tr>\n",
       "      <th>416147</th>\n",
       "      <td>wyoming</td>\n",
       "      <td>28990</td>\n",
       "      <td>2018.0</td>\n",
       "      <td>lexus</td>\n",
       "      <td>es 350 sedan 4d</td>\n",
       "      <td>good</td>\n",
       "      <td>6 cylinders</td>\n",
       "      <td>gas</td>\n",
       "      <td>30112.0</td>\n",
       "      <td>clean</td>\n",
       "      <td>...</td>\n",
       "      <td>fwd</td>\n",
       "      <td>unknown</td>\n",
       "      <td>sedan</td>\n",
       "      <td>silver</td>\n",
       "      <td>Carvana is the safer way to buy a car During t...</td>\n",
       "      <td>wy</td>\n",
       "      <td>33.786500</td>\n",
       "      <td>-84.445400</td>\n",
       "      <td>2021-04-04T03:21:11-0600</td>\n",
       "      <td>2021-04-04</td>\n",
       "    </tr>\n",
       "    <tr>\n",
       "      <th>416148</th>\n",
       "      <td>wyoming</td>\n",
       "      <td>30590</td>\n",
       "      <td>2019.0</td>\n",
       "      <td>bmw</td>\n",
       "      <td>4 series 430i gran coupe</td>\n",
       "      <td>good</td>\n",
       "      <td>unknown</td>\n",
       "      <td>gas</td>\n",
       "      <td>22716.0</td>\n",
       "      <td>clean</td>\n",
       "      <td>...</td>\n",
       "      <td>rwd</td>\n",
       "      <td>unknown</td>\n",
       "      <td>coupe</td>\n",
       "      <td>unknown</td>\n",
       "      <td>Carvana is the safer way to buy a car During t...</td>\n",
       "      <td>wy</td>\n",
       "      <td>33.779214</td>\n",
       "      <td>-84.411811</td>\n",
       "      <td>2021-04-04T03:21:07-0600</td>\n",
       "      <td>2021-04-04</td>\n",
       "    </tr>\n",
       "  </tbody>\n",
       "</table>\n",
       "<p>416149 rows × 22 columns</p>\n",
       "</div>"
      ],
      "text/plain": [
       "         region  price    year manufacturer                     model  \\\n",
       "0        auburn  33590  2014.0          gmc  sierra 1500 crew cab slt   \n",
       "1        auburn  22590  2010.0    chevrolet            silverado 1500   \n",
       "2        auburn  39590  2020.0    chevrolet       silverado 1500 crew   \n",
       "3        auburn  30990  2017.0       toyota      tundra double cab sr   \n",
       "4        auburn  15000  2013.0         ford                 f-150 xlt   \n",
       "...         ...    ...     ...          ...                       ...   \n",
       "416144  wyoming  23590  2019.0       nissan         maxima s sedan 4d   \n",
       "416145  wyoming  30590  2020.0        volvo  s60 t5 momentum sedan 4d   \n",
       "416146  wyoming  34990  2020.0     cadillac          xt4 sport suv 4d   \n",
       "416147  wyoming  28990  2018.0        lexus           es 350 sedan 4d   \n",
       "416148  wyoming  30590  2019.0          bmw  4 series 430i gran coupe   \n",
       "\n",
       "        condition    cylinders    fuel  odometer title_status  ...    drive  \\\n",
       "0            good  8 cylinders     gas   57923.0        clean  ...  unknown   \n",
       "1            good  8 cylinders     gas   71229.0        clean  ...  unknown   \n",
       "2            good  8 cylinders     gas   19160.0        clean  ...  unknown   \n",
       "3            good  8 cylinders     gas   41124.0        clean  ...  unknown   \n",
       "4       excellent  6 cylinders     gas  128000.0        clean  ...      rwd   \n",
       "...           ...          ...     ...       ...          ...  ...      ...   \n",
       "416144       good  6 cylinders     gas   32226.0        clean  ...      fwd   \n",
       "416145       good      unknown     gas   12029.0        clean  ...      fwd   \n",
       "416146       good      unknown  diesel    4174.0        clean  ...  unknown   \n",
       "416147       good  6 cylinders     gas   30112.0        clean  ...      fwd   \n",
       "416148       good      unknown     gas   22716.0        clean  ...      rwd   \n",
       "\n",
       "             size       type paint_color  \\\n",
       "0         unknown     pickup       white   \n",
       "1         unknown     pickup        blue   \n",
       "2         unknown     pickup         red   \n",
       "3         unknown     pickup         red   \n",
       "4       full-size      truck       black   \n",
       "...           ...        ...         ...   \n",
       "416144    unknown      sedan     unknown   \n",
       "416145    unknown      sedan         red   \n",
       "416146    unknown  hatchback       white   \n",
       "416147    unknown      sedan      silver   \n",
       "416148    unknown      coupe     unknown   \n",
       "\n",
       "                                              description state        lat  \\\n",
       "0       Carvana is the safer way to buy a car During t...    al  32.590000   \n",
       "1       Carvana is the safer way to buy a car During t...    al  32.590000   \n",
       "2       Carvana is the safer way to buy a car During t...    al  32.590000   \n",
       "3       Carvana is the safer way to buy a car During t...    al  32.590000   \n",
       "4       2013 F-150 XLT V6 4 Door. Good condition. Leve...    al  32.592000   \n",
       "...                                                   ...   ...        ...   \n",
       "416144  Carvana is the safer way to buy a car During t...    wy  33.786500   \n",
       "416145  Carvana is the safer way to buy a car During t...    wy  33.786500   \n",
       "416146  Carvana is the safer way to buy a car During t...    wy  33.779214   \n",
       "416147  Carvana is the safer way to buy a car During t...    wy  33.786500   \n",
       "416148  Carvana is the safer way to buy a car During t...    wy  33.779214   \n",
       "\n",
       "             long              posting_date  posting_date2  \n",
       "0      -85.480000  2021-05-04T12:31:18-0500     2021-05-04  \n",
       "1      -85.480000  2021-05-04T12:31:08-0500     2021-05-04  \n",
       "2      -85.480000  2021-05-04T12:31:25-0500     2021-05-04  \n",
       "3      -85.480000  2021-05-04T10:41:31-0500     2021-05-04  \n",
       "4      -85.518900  2021-05-03T14:02:03-0500     2021-05-03  \n",
       "...           ...                       ...            ...  \n",
       "416144 -84.445400  2021-04-04T03:21:31-0600     2021-04-04  \n",
       "416145 -84.445400  2021-04-04T03:21:29-0600     2021-04-04  \n",
       "416146 -84.411811  2021-04-04T03:21:17-0600     2021-04-04  \n",
       "416147 -84.445400  2021-04-04T03:21:11-0600     2021-04-04  \n",
       "416148 -84.411811  2021-04-04T03:21:07-0600     2021-04-04  \n",
       "\n",
       "[416149 rows x 22 columns]"
      ]
     },
     "execution_count": 54,
     "metadata": {},
     "output_type": "execute_result"
    }
   ],
   "source": [
    "#Task 6.0\n",
    "#group up category and graphy by price\n",
    "\n",
    "UsedVehicle"
   ]
  },
  {
   "cell_type": "code",
   "execution_count": 55,
   "id": "eb1cee7f",
   "metadata": {},
   "outputs": [
    {
     "data": {
      "text/plain": [
       "size\n",
       "compact         16883.896711\n",
       "full-size       99610.141978\n",
       "mid-size       121264.816361\n",
       "sub-compact     12383.630933\n",
       "unknown         50107.260701\n",
       "Name: price, dtype: float64"
      ]
     },
     "execution_count": 55,
     "metadata": {},
     "output_type": "execute_result"
    }
   ],
   "source": [
    "#Task 6.1.0\n",
    "\n",
    "UsedVehicle_new"
   ]
  },
  {
   "cell_type": "code",
   "execution_count": 56,
   "id": "89b6f85c",
   "metadata": {},
   "outputs": [],
   "source": [
    "#Task  6.1.1\n",
    "#UsedVehicle_new=UsedVehicle.groupby('size')['price'].mean()\n",
    "#size\n",
    "#compact         16883.896711\n",
    "#full-size       99610.141978\n",
    "#mid-size       121264.816361\n",
    "#sub-compact     12383.630933\n",
    "#unknown         50107.260701\n",
    "compVehicle = UsedVehicle[UsedVehicle['size']=='compact']\n",
    "fullVehicle = UsedVehicle[UsedVehicle['size']=='full-size']\n",
    "midVehicle = UsedVehicle[UsedVehicle['size']=='mid-size']\n",
    "subVehicle = UsedVehicle[UsedVehicle['size']=='sub-compact']\n",
    "unknVehicle = UsedVehicle[UsedVehicle['size']=='unknown']\n"
   ]
  },
  {
   "cell_type": "code",
   "execution_count": 57,
   "id": "e5fb9d8e",
   "metadata": {},
   "outputs": [],
   "source": [
    "comp1= compVehicle.groupby('year')['price'].mean()\n",
    "full1= fullVehicle.groupby('year')['price'].mean()\n",
    "mid1= midVehicle.groupby('year')['price'].mean()\n",
    "sub1= subVehicle.groupby('year')['price'].mean()\n",
    "unkn1= unknVehicle.groupby('year')['price'].mean()\n",
    "\n",
    "\n"
   ]
  },
  {
   "cell_type": "code",
   "execution_count": 58,
   "id": "bb5c166f",
   "metadata": {},
   "outputs": [
    {
     "data": {
      "text/plain": [
       "year\n",
       "1913.0    27000.000000\n",
       "1916.0    30000.000000\n",
       "1923.0    18335.833333\n",
       "1926.0     6500.000000\n",
       "1927.0    19999.166667\n",
       "              ...     \n",
       "2018.0    19262.085395\n",
       "2019.0    19103.241667\n",
       "2020.0    19596.813253\n",
       "2021.0    23545.220339\n",
       "2022.0        0.000000\n",
       "Name: price, Length: 90, dtype: float64"
      ]
     },
     "execution_count": 58,
     "metadata": {},
     "output_type": "execute_result"
    }
   ],
   "source": [
    "#Task  6.1.2\n",
    "dataComp=compVehicle.groupby('year')['price'].mean()\n",
    "dataComp"
   ]
  },
  {
   "cell_type": "code",
   "execution_count": 59,
   "id": "e53d715b",
   "metadata": {},
   "outputs": [
    {
     "data": {
      "image/png": "[encoded data removed]",
      "text/plain": [
       "<Figure size 1440x504 with 1 Axes>"
      ]
     },
     "metadata": {
      "needs_background": "light"
     },
     "output_type": "display_data"
    }
   ],
   "source": [
    "#Task  6.1.3\n",
    "\n",
    "plt.figure(figsize = (20,7))\n",
    "sns.lineplot(x=compVehicle['year'] ,y=compVehicle['price'].mean());#blue line\n",
    "plt.show()"
   ]
  },
  {
   "cell_type": "code",
   "execution_count": 60,
   "id": "3a6197fa",
   "metadata": {},
   "outputs": [
    {
     "data": {
      "text/plain": [
       "<AxesSubplot:xlabel='year'>"
      ]
     },
     "execution_count": 60,
     "metadata": {},
     "output_type": "execute_result"
    },
    {
     "data": {
      "image/png": "[encoded data removed]",
      "text/plain": [
       "<Figure size 432x288 with 1 Axes>"
      ]
     },
     "metadata": {
      "needs_background": "light"
     },
     "output_type": "display_data"
    }
   ],
   "source": [
    "comp1.plot()"
   ]
  },
  {
   "cell_type": "code",
   "execution_count": 61,
   "id": "999b9074",
   "metadata": {},
   "outputs": [
    {
     "data": {
      "text/plain": [
       "<AxesSubplot:>"
      ]
     },
     "execution_count": 61,
     "metadata": {},
     "output_type": "execute_result"
    },
    {
     "data": {
      "image/png": "[encoded data removed]",
      "text/plain": [
       "<Figure size 432x288 with 1 Axes>"
      ]
     },
     "metadata": {
      "needs_background": "light"
     },
     "output_type": "display_data"
    }
   ],
   "source": [
    "fullVehicle.plot()"
   ]
  },
  {
   "cell_type": "code",
   "execution_count": 62,
   "id": "f7bab1b0",
   "metadata": {},
   "outputs": [
    {
     "data": {
      "text/plain": [
       "<AxesSubplot:xlabel='year'>"
      ]
     },
     "execution_count": 62,
     "metadata": {},
     "output_type": "execute_result"
    },
    {
     "data": {
      "image/png": "[encoded data removed]",
      "text/plain": [
       "<Figure size 432x288 with 1 Axes>"
      ]
     },
     "metadata": {
      "needs_background": "light"
     },
     "output_type": "display_data"
    }
   ],
   "source": [
    "mid1.plot()"
   ]
  },
  {
   "cell_type": "code",
   "execution_count": 63,
   "id": "30bbe8df",
   "metadata": {},
   "outputs": [
    {
     "data": {
      "text/plain": [
       "<AxesSubplot:xlabel='year'>"
      ]
     },
     "execution_count": 63,
     "metadata": {},
     "output_type": "execute_result"
    },
    {
     "data": {
      "image/png": "[encoded data removed]",
      "text/plain": [
       "<Figure size 432x288 with 1 Axes>"
      ]
     },
     "metadata": {
      "needs_background": "light"
     },
     "output_type": "display_data"
    }
   ],
   "source": [
    "full1.plot()"
   ]
  },
  {
   "cell_type": "code",
   "execution_count": 64,
   "id": "cad88ecb",
   "metadata": {},
   "outputs": [
    {
     "data": {
      "text/plain": [
       "<AxesSubplot:xlabel='year'>"
      ]
     },
     "execution_count": 64,
     "metadata": {},
     "output_type": "execute_result"
    },
    {
     "data": {
      "image/png": "[encoded data removed]",
      "text/plain": [
       "<Figure size 432x288 with 1 Axes>"
      ]
     },
     "metadata": {
      "needs_background": "light"
     },
     "output_type": "display_data"
    }
   ],
   "source": [
    "sub1.plot()"
   ]
  },
  {
   "cell_type": "code",
   "execution_count": 65,
   "id": "5634ed96",
   "metadata": {},
   "outputs": [
    {
     "data": {
      "text/plain": [
       "<AxesSubplot:xlabel='year'>"
      ]
     },
     "execution_count": 65,
     "metadata": {},
     "output_type": "execute_result"
    },
    {
     "data": {
      "image/png": "[encoded data removed]",
      "text/plain": [
       "<Figure size 432x288 with 1 Axes>"
      ]
     },
     "metadata": {
      "needs_background": "light"
     },
     "output_type": "display_data"
    }
   ],
   "source": [
    "unkn1.plot()"
   ]
  },
  {
   "cell_type": "code",
   "execution_count": 66,
   "id": "e80397c7",
   "metadata": {},
   "outputs": [
    {
     "data": {
      "text/plain": [
       "year\n",
       "1900.0    5.527273e+02\n",
       "1901.0    5.495000e+02\n",
       "1902.0    1.666666e+06\n",
       "1910.0    1.500000e+04\n",
       "1915.0    5.000000e+03\n",
       "              ...     \n",
       "2018.0    2.724033e+04\n",
       "2019.0    3.107840e+04\n",
       "2020.0    3.471916e+04\n",
       "2021.0    9.283943e+04\n",
       "2022.0    3.067314e+04\n",
       "Name: price, Length: 108, dtype: float64"
      ]
     },
     "execution_count": 66,
     "metadata": {},
     "output_type": "execute_result"
    }
   ],
   "source": [
    "#Task 6.1.9\n",
    "dataUnkn= unknVehicle.groupby('year')['price'].mean()\n",
    "dataUnkn"
   ]
  },
  {
   "cell_type": "markdown",
   "id": "ab7a141c",
   "metadata": {},
   "source": [
    "Filter by Type to compare price\n",
    "\n",
    "There are the following type of vehicles but we will go for top 4-5 types\n",
    "'pickup', \n",
    "'truck', \n",
    "'other', \n",
    "'unknown', \n",
    "'coupe', \n",
    "'SUV', \n",
    "'hatchback',\n",
    "'mini-van',\n",
    "'sedan', \n",
    "'offroad', \n",
    "'bus', \n",
    "'van', \n",
    "'convertible',\n",
    "'wagon']\n",
    "\n",
    "I will choose trucks, SUV, mini-van,sedan and pickup.  Below is count of each type"
   ]
  },
  {
   "cell_type": "code",
   "execution_count": 67,
   "id": "35380c0f",
   "metadata": {},
   "outputs": [
    {
     "data": {
      "text/plain": [
       "type\n",
       "SUV            75640\n",
       "bus              505\n",
       "convertible     7591\n",
       "coupe          18854\n",
       "hatchback      16481\n",
       "mini-van        4757\n",
       "offroad          587\n",
       "other          20975\n",
       "pickup         41943\n",
       "sedan          85490\n",
       "truck          34858\n",
       "unknown        89484\n",
       "van             8349\n",
       "wagon          10635\n",
       "Name: type, dtype: int64"
      ]
     },
     "execution_count": 67,
     "metadata": {},
     "output_type": "execute_result"
    }
   ],
   "source": [
    "#Task  6.2.0\n",
    "UsedVehicle.groupby('type')['type'].count()"
   ]
  },
  {
   "cell_type": "code",
   "execution_count": 68,
   "id": "5a103bc3",
   "metadata": {},
   "outputs": [
    {
     "data": {
      "text/html": [
       "<div>\n",
       "<style scoped>\n",
       "    .dataframe tbody tr th:only-of-type {\n",
       "        vertical-align: middle;\n",
       "    }\n",
       "\n",
       "    .dataframe tbody tr th {\n",
       "        vertical-align: top;\n",
       "    }\n",
       "\n",
       "    .dataframe thead th {\n",
       "        text-align: right;\n",
       "    }\n",
       "</style>\n",
       "<table border=\"1\" class=\"dataframe\">\n",
       "  <thead>\n",
       "    <tr style=\"text-align: right;\">\n",
       "      <th></th>\n",
       "      <th>type</th>\n",
       "      <th>price</th>\n",
       "    </tr>\n",
       "  </thead>\n",
       "  <tbody>\n",
       "    <tr>\n",
       "      <th>0</th>\n",
       "      <td>pickup</td>\n",
       "      <td>33590</td>\n",
       "    </tr>\n",
       "    <tr>\n",
       "      <th>1</th>\n",
       "      <td>pickup</td>\n",
       "      <td>22590</td>\n",
       "    </tr>\n",
       "    <tr>\n",
       "      <th>2</th>\n",
       "      <td>pickup</td>\n",
       "      <td>39590</td>\n",
       "    </tr>\n",
       "    <tr>\n",
       "      <th>3</th>\n",
       "      <td>pickup</td>\n",
       "      <td>30990</td>\n",
       "    </tr>\n",
       "    <tr>\n",
       "      <th>4</th>\n",
       "      <td>truck</td>\n",
       "      <td>15000</td>\n",
       "    </tr>\n",
       "    <tr>\n",
       "      <th>...</th>\n",
       "      <td>...</td>\n",
       "      <td>...</td>\n",
       "    </tr>\n",
       "    <tr>\n",
       "      <th>416144</th>\n",
       "      <td>sedan</td>\n",
       "      <td>23590</td>\n",
       "    </tr>\n",
       "    <tr>\n",
       "      <th>416145</th>\n",
       "      <td>sedan</td>\n",
       "      <td>30590</td>\n",
       "    </tr>\n",
       "    <tr>\n",
       "      <th>416146</th>\n",
       "      <td>hatchback</td>\n",
       "      <td>34990</td>\n",
       "    </tr>\n",
       "    <tr>\n",
       "      <th>416147</th>\n",
       "      <td>sedan</td>\n",
       "      <td>28990</td>\n",
       "    </tr>\n",
       "    <tr>\n",
       "      <th>416148</th>\n",
       "      <td>coupe</td>\n",
       "      <td>30590</td>\n",
       "    </tr>\n",
       "  </tbody>\n",
       "</table>\n",
       "<p>416149 rows × 2 columns</p>\n",
       "</div>"
      ],
      "text/plain": [
       "             type  price\n",
       "0          pickup  33590\n",
       "1          pickup  22590\n",
       "2          pickup  39590\n",
       "3          pickup  30990\n",
       "4           truck  15000\n",
       "...           ...    ...\n",
       "416144      sedan  23590\n",
       "416145      sedan  30590\n",
       "416146  hatchback  34990\n",
       "416147      sedan  28990\n",
       "416148      coupe  30590\n",
       "\n",
       "[416149 rows x 2 columns]"
      ]
     },
     "execution_count": 68,
     "metadata": {},
     "output_type": "execute_result"
    }
   ],
   "source": [
    "#Task  6.2.1\n",
    "\n",
    "UsedVehicle[['type','price']]"
   ]
  },
  {
   "cell_type": "code",
   "execution_count": 69,
   "id": "dbe70711",
   "metadata": {},
   "outputs": [],
   "source": [
    "#Task  6.2.2\n",
    "    \n",
    "SUV = UsedVehicle[UsedVehicle['type']=='SUV']\n",
    "MINI = UsedVehicle[UsedVehicle['type']=='mini-van']\n",
    "PICKUP = UsedVehicle[UsedVehicle['type']=='pickup']\n",
    "SEDAN = UsedVehicle[UsedVehicle['type']=='sedan']\n",
    "TRUCK = UsedVehicle[UsedVehicle['type']=='truck']\n"
   ]
  },
  {
   "cell_type": "code",
   "execution_count": 70,
   "id": "0dfb95a5",
   "metadata": {},
   "outputs": [
    {
     "name": "stdout",
     "output_type": "stream",
     "text": [
      "Price is zero: 6336\n",
      "Total SUV count: 75640\n",
      "0.08376520359598097\n"
     ]
    }
   ],
   "source": [
    "#Task  6.2.3\n",
    "#need to select a different type as there is \n",
    "#~ 8.4% is zero\n",
    "\n",
    "a=  len (SUV[SUV['price']==0])\n",
    "b = len(SUV['price'])\n",
    "print('Price is zero: '+ str(a))\n",
    "print ('Total SUV count: '+ str(b))\n",
    "print(a/b)"
   ]
  },
  {
   "cell_type": "code",
   "execution_count": 71,
   "id": "1833bbd4",
   "metadata": {},
   "outputs": [
    {
     "data": {
      "text/plain": [
       "year\n",
       "1900.0    38250.000000\n",
       "1946.0     8000.000000\n",
       "1950.0    17500.000000\n",
       "1955.0     6250.500000\n",
       "1957.0     2500.000000\n",
       "              ...     \n",
       "2018.0    25419.546568\n",
       "2019.0    26931.771868\n",
       "2020.0    31448.396764\n",
       "2021.0    23133.972887\n",
       "2022.0     1535.411765\n",
       "Name: price, Length: 66, dtype: float64"
      ]
     },
     "execution_count": 71,
     "metadata": {},
     "output_type": "execute_result"
    }
   ],
   "source": [
    " #Task  6.2.4\n",
    "suv1=SUV.groupby('year')['price'].mean()\n",
    "suv1"
   ]
  },
  {
   "cell_type": "code",
   "execution_count": 72,
   "id": "5e85a20a",
   "metadata": {},
   "outputs": [
    {
     "data": {
      "text/plain": [
       "<AxesSubplot:xlabel='year'>"
      ]
     },
     "execution_count": 72,
     "metadata": {},
     "output_type": "execute_result"
    },
    {
     "data": {
      "image/png": "[encoded data removed]",
      "text/plain": [
       "<Figure size 432x288 with 1 Axes>"
      ]
     },
     "metadata": {
      "needs_background": "light"
     },
     "output_type": "display_data"
    }
   ],
   "source": [
    "#Task  6.2.5\n",
    "suv1.plot()"
   ]
  },
  {
   "cell_type": "code",
   "execution_count": 73,
   "id": "e4207397",
   "metadata": {},
   "outputs": [
    {
     "name": "stdout",
     "output_type": "stream",
     "text": [
      "Price is zero: 246\n",
      "Total MINI count: 4757\n",
      "0.05171326466260248\n"
     ]
    }
   ],
   "source": [
    "#Task  6.2.5\n",
    "a=  len (MINI[MINI['price']==0])\n",
    "b = len(MINI['price'])\n",
    "print('Price is zero: '+ str(a))\n",
    "print ('Total MINI count: '+ str(b))\n",
    "print(a/b)"
   ]
  },
  {
   "cell_type": "code",
   "execution_count": 74,
   "id": "ab4536ef",
   "metadata": {},
   "outputs": [
    {
     "data": {
      "text/plain": [
       "year\n",
       "1956.0    29000.000000\n",
       "1971.0     6500.000000\n",
       "1980.0     2250.000000\n",
       "1984.0     5000.000000\n",
       "1987.0    16062.500000\n",
       "1989.0      500.000000\n",
       "1990.0     3000.000000\n",
       "1991.0     5350.000000\n",
       "1992.0    10161.333333\n",
       "1993.0     9622.500000\n",
       "1994.0     1317.727273\n",
       "1995.0    10286.272727\n",
       "1996.0     3065.750000\n",
       "1997.0     2396.437500\n",
       "1998.0     4561.875000\n",
       "1999.0     3642.515152\n",
       "2000.0     3420.259259\n",
       "2001.0     3509.841270\n",
       "2002.0     3238.262136\n",
       "2003.0     3495.714286\n",
       "2004.0     4209.404762\n",
       "2005.0     3903.754789\n",
       "2006.0     4749.734940\n",
       "2007.0     5088.026144\n",
       "2008.0     5216.923077\n",
       "2009.0     5753.117647\n",
       "2010.0     6897.785942\n",
       "2011.0     9136.015209\n",
       "2012.0     9810.915493\n",
       "2013.0     9968.624535\n",
       "2014.0    11121.558480\n",
       "2015.0    12579.941406\n",
       "2016.0    14378.608696\n",
       "2017.0    16270.029536\n",
       "2018.0    21202.411392\n",
       "2019.0    22196.486111\n",
       "2020.0    35706.614286\n",
       "2021.0     8946.250000\n",
       "Name: price, dtype: float64"
      ]
     },
     "execution_count": 74,
     "metadata": {},
     "output_type": "execute_result"
    }
   ],
   "source": [
    "#Task  6.2.6\n",
    "mini1 =MINI.groupby('year')['price'].mean()\n",
    "mini1"
   ]
  },
  {
   "cell_type": "code",
   "execution_count": 75,
   "id": "bd31e7bb",
   "metadata": {},
   "outputs": [
    {
     "data": {
      "text/plain": [
       "<AxesSubplot:xlabel='year'>"
      ]
     },
     "execution_count": 75,
     "metadata": {},
     "output_type": "execute_result"
    },
    {
     "data": {
      "image/png": "[encoded data removed]",
      "text/plain": [
       "<Figure size 432x288 with 1 Axes>"
      ]
     },
     "metadata": {
      "needs_background": "light"
     },
     "output_type": "display_data"
    }
   ],
   "source": [
    "#Task  6.2.7\n",
    "mini1.plot()\n"
   ]
  },
  {
   "cell_type": "code",
   "execution_count": 76,
   "id": "1a07cf58",
   "metadata": {},
   "outputs": [
    {
     "name": "stdout",
     "output_type": "stream",
     "text": [
      "Price is zero: 1928\n",
      "Total PICKUP count: 41943\n",
      "0.04596714588846768\n"
     ]
    }
   ],
   "source": [
    "#Task  6.2.7\n",
    "a=  len (PICKUP[PICKUP['price']==0])\n",
    "b = len(PICKUP['price'])\n",
    "print('Price is zero: '+ str(a))\n",
    "print ('Total PICKUP count: '+ str(b))\n",
    "print(a/b)"
   ]
  },
  {
   "cell_type": "code",
   "execution_count": 77,
   "id": "1d0c8d6f",
   "metadata": {},
   "outputs": [
    {
     "data": {
      "text/plain": [
       "year\n",
       "1923.0    25000.000000\n",
       "1925.0    10000.000000\n",
       "1927.0     3700.000000\n",
       "1928.0    30833.333333\n",
       "1929.0    10300.000000\n",
       "              ...     \n",
       "2018.0    35601.886377\n",
       "2019.0    37525.004551\n",
       "2020.0    42787.069307\n",
       "2021.0    51341.563380\n",
       "2022.0        0.000000\n",
       "Name: price, Length: 93, dtype: float64"
      ]
     },
     "execution_count": 77,
     "metadata": {},
     "output_type": "execute_result"
    }
   ],
   "source": [
    "#Task  6.2.9\n",
    "pickup1 = PICKUP.groupby('year')['price'].mean()\n",
    "pickup1\n"
   ]
  },
  {
   "cell_type": "code",
   "execution_count": 78,
   "id": "4a44b4b9",
   "metadata": {},
   "outputs": [
    {
     "data": {
      "text/plain": [
       "<AxesSubplot:xlabel='year'>"
      ]
     },
     "execution_count": 78,
     "metadata": {},
     "output_type": "execute_result"
    },
    {
     "data": {
      "image/png": "[encoded data removed]",
      "text/plain": [
       "<Figure size 432x288 with 1 Axes>"
      ]
     },
     "metadata": {
      "needs_background": "light"
     },
     "output_type": "display_data"
    }
   ],
   "source": [
    "#Task  6.2.10\n",
    "pickup1.plot()"
   ]
  },
  {
   "cell_type": "code",
   "execution_count": 79,
   "id": "c907576b",
   "metadata": {},
   "outputs": [
    {
     "name": "stdout",
     "output_type": "stream",
     "text": [
      "Price is zero: 6183\n",
      "Total SEDAN count: 85490\n",
      "0.07232424845011112\n"
     ]
    }
   ],
   "source": [
    "#Task  6.2.11\n",
    "a=  len (SEDAN[SEDAN['price']==0])\n",
    "b = len(SEDAN['price'])\n",
    "print('Price is zero: '+ str(a))\n",
    "print ('Total SEDAN count: '+ str(b))\n",
    "print(a/b)"
   ]
  },
  {
   "cell_type": "code",
   "execution_count": 80,
   "id": "4ab8ea20",
   "metadata": {},
   "outputs": [
    {
     "data": {
      "text/plain": [
       "year\n",
       "1924.0    22000.000000\n",
       "1927.0    10333.333333\n",
       "1928.0    29271.428571\n",
       "1929.0    20816.666667\n",
       "1930.0    23230.000000\n",
       "              ...     \n",
       "2018.0    21663.144502\n",
       "2019.0    23616.775930\n",
       "2020.0    28141.756171\n",
       "2021.0    11198.186722\n",
       "2022.0      100.000000\n",
       "Name: price, Length: 94, dtype: float64"
      ]
     },
     "execution_count": 80,
     "metadata": {},
     "output_type": "execute_result"
    }
   ],
   "source": [
    "sedan1 = SEDAN.groupby('year')['price'].mean()\n",
    "sedan1"
   ]
  },
  {
   "cell_type": "code",
   "execution_count": 81,
   "id": "27335977",
   "metadata": {},
   "outputs": [
    {
     "data": {
      "text/plain": [
       "<AxesSubplot:xlabel='year'>"
      ]
     },
     "execution_count": 81,
     "metadata": {},
     "output_type": "execute_result"
    },
    {
     "data": {
      "image/png": "[encoded data removed]",
      "text/plain": [
       "<Figure size 432x288 with 1 Axes>"
      ]
     },
     "metadata": {
      "needs_background": "light"
     },
     "output_type": "display_data"
    }
   ],
   "source": [
    "#Task  6.2.10\n",
    "sedan1.plot()"
   ]
  },
  {
   "cell_type": "code",
   "execution_count": 82,
   "id": "f380cf00",
   "metadata": {},
   "outputs": [
    {
     "name": "stdout",
     "output_type": "stream",
     "text": [
      "Price is zero: 4591\n",
      "Total TRUCK count: 34858\n",
      "0.13170577772677722\n"
     ]
    }
   ],
   "source": [
    "#Task  6.2.11\n",
    "a=  len (TRUCK[TRUCK['price']==0])\n",
    "b = len(TRUCK['price'])\n",
    "print('Price is zero: '+ str(a))\n",
    "print ('Total TRUCK count: '+ str(b))\n",
    "print(a/b)"
   ]
  },
  {
   "cell_type": "code",
   "execution_count": 83,
   "id": "ee231a53",
   "metadata": {},
   "outputs": [],
   "source": [
    "truck1=  TRUCK.groupby('year')['price'].mean()"
   ]
  },
  {
   "cell_type": "code",
   "execution_count": 84,
   "id": "6bbe3fb7",
   "metadata": {},
   "outputs": [
    {
     "data": {
      "text/plain": [
       "<AxesSubplot:xlabel='year'>"
      ]
     },
     "execution_count": 84,
     "metadata": {},
     "output_type": "execute_result"
    },
    {
     "data": {
      "image/png": "[encoded data removed]",
      "text/plain": [
       "<Figure size 432x288 with 1 Axes>"
      ]
     },
     "metadata": {
      "needs_background": "light"
     },
     "output_type": "display_data"
    }
   ],
   "source": [
    "#Task  6.2.12\n",
    "truck1.plot()"
   ]
  },
  {
   "cell_type": "code",
   "execution_count": null,
   "id": "2df93727",
   "metadata": {},
   "outputs": [],
   "source": []
  },
  {
   "cell_type": "markdown",
   "id": "d5198c96",
   "metadata": {},
   "source": [
    "#Task 7.0.1\n",
    "#Hypothesis testing\n",
    "\n",
    "#How do i test, what do i test.\n",
    "\n",
    "from scipy.stats import ttest_ind\n",
    "\n",
    "\n"
   ]
  },
  {
   "cell_type": "markdown",
   "id": "851b4234",
   "metadata": {},
   "source": [
    "correlation matrix"
   ]
  },
  {
   "cell_type": "markdown",
   "id": "1dd120d5",
   "metadata": {},
   "source": []
  },
  {
   "cell_type": "markdown",
   "id": "025fe1c0",
   "metadata": {},
   "source": [
    "Hypothesis Testing(needed to show only significants)\n",
    "\n"
   ]
  },
  {
   "cell_type": "markdown",
   "id": "815038ca",
   "metadata": {},
   "source": [
    "perform hypothesis testing \n",
    "analysis variance to see weather in signification difference in price\n",
    "ANOVA analysis of variance.  \n",
    "\n",
    "or devide data into different group\n",
    "\n"
   ]
  },
  {
   "cell_type": "markdown",
   "id": "c380232c",
   "metadata": {},
   "source": [
    "https://www.reneshbedre.com/blog/anova.html\n",
    "\n",
    "\n",
    "import pandas as pd\n",
    "# load data file\n",
    "df = pd.read_csv(\"https://reneshbedre.github.io/assets/posts/anova/onewayanova.txt\", sep=\"\\t\")\n",
    "# reshape the d dataframe suitable for statsmodels package \n",
    "df_melt = pd.melt(df.reset_index(), id_vars=['index'], value_vars=['A', 'B', 'C', 'D'])\n",
    "# replace column names\n",
    "df_melt.columns = ['index', 'treatments', 'value']\n",
    "\n",
    "# generate a boxplot to see the data distribution by treatments. Using boxplot, we can \n",
    "# easily detect the differences between different treatments\n",
    "import matplotlib.pyplot as plt\n",
    "import seaborn as sns\n",
    "ax = sns.boxplot(x='treatments', y='value', data=df_melt, color='#99c2a2')\n",
    "ax = sns.swarmplot(x=\"treatments\", y=\"value\", data=df_melt, color='#7d0013')\n",
    "plt.show()\n",
    "\n",
    "\n",
    "import scipy.stats as stats\n",
    "# stats f_oneway functions takes the groups as input and returns ANOVA F and p value\n",
    "fvalue, pvalue = stats.f_oneway(df['A'], df['B'], df['C'], df['D'])\n",
    "print(fvalue, pvalue)\n",
    "# 17.492810457516338 2.639241146210922e-05\n",
    "\n",
    "# get ANOVA table as R like output\n",
    "import statsmodels.api as sm\n",
    "from statsmodels.formula.api import ols\n",
    "\n",
    "# Ordinary Least Squares (OLS) model\n",
    "model = ols('value ~ C(treatments)', data=df_melt).fit()\n",
    "anova_table = sm.stats.anova_lm(model, typ=2)\n",
    "anova_table\n",
    "# output (ANOVA F and p value)\n",
    "                sum_sq    df         F    PR(>F)\n",
    "C(treatments)  3010.95   3.0  17.49281  0.000026\n",
    "Residual        918.00  16.0       NaN       NaN\n",
    "\n",
    "# ANOVA table using bioinfokit v1.0.3 or later (it uses wrapper script for anova_lm)\n",
    "from bioinfokit.analys import stat\n",
    "res = stat()\n",
    "res.anova_stat(df=df_melt, res_var='value', anova_model='value ~ C(treatments)')\n",
    "res.anova_summary\n",
    "# output (ANOVA F and p value)\n",
    "                 df   sum_sq   mean_sq         F    PR(>F)\n",
    "C(treatments)   3.0  3010.95  1003.650  17.49281  0.000026\n",
    "Residual       16.0   918.00    57.375       NaN       NaN"
   ]
  },
  {
   "cell_type": "code",
   "execution_count": 85,
   "id": "8e1e767f",
   "metadata": {},
   "outputs": [],
   "source": [
    "import scipy.stats as stats\n",
    "import statsmodels.api as sm\n",
    "from statsmodels.formula.api import ols\n"
   ]
  },
  {
   "cell_type": "code",
   "execution_count": null,
   "id": "4fc925cb",
   "metadata": {},
   "outputs": [],
   "source": [
    "\n",
    "\n",
    "fvalue, pvalue = stats.f_oneway(df['A'], df['B'], df['C'], df['D'])\n",
    "print(fvalue, pvalue)"
   ]
  }
 ],
 "metadata": {
  "kernelspec": {
   "display_name": "Python 3",
   "language": "python",
   "name": "python3"
  },
  "language_info": {
   "codemirror_mode": {
    "name": "ipython",
    "version": 3
   },
   "file_extension": ".py",
   "mimetype": "text/x-python",
   "name": "python",
   "nbconvert_exporter": "python",
   "pygments_lexer": "ipython3",
   "version": "3.8.10"
  }
 },
 "nbformat": 4,
 "nbformat_minor": 5
}
