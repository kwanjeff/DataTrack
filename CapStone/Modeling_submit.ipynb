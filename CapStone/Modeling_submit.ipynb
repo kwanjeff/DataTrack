{
 "cells": [
  {
   "cell_type": "code",
   "execution_count": 1,
   "id": "5f5d2308",
   "metadata": {},
   "outputs": [],
   "source": [
    "#Task 1.0\n",
    "\n",
    "import pandas as pd\n",
    "import matplotlib.pyplot as plt\n",
    "import numpy as np\n",
    "import seaborn as sns\n",
    "%matplotlib inline\n",
    "pd.pandas.set_option('display.max_columns',None)\n",
    "import warnings\n",
    "from sklearn.linear_model import LogisticRegression\n",
    "from sklearn.metrics import accuracy_score\n",
    "\n",
    "\n",
    "from sklearn.linear_model import LinearRegression\n",
    "from sklearn import linear_model\n",
    "from sklearn.metrics import mean_squared_error\n",
    "from sklearn.linear_model import Lasso\n",
    "from sklearn.model_selection import  GridSearchCV\n",
    "\n",
    "warnings.filterwarnings('ignore')\n"
   ]
  },
  {
   "cell_type": "code",
   "execution_count": null,
   "id": "56d90bf8",
   "metadata": {},
   "outputs": [],
   "source": [
    "#Task 1.1\n",
    "#In prior EDA submission, I used Late_Payment column to spit the data evenly into 80/20\n",
    "CCLoan = pd.read_csv(r'.\\DataCapstoneProject2\\ccFraudDefault\\Cleaned_EDA_Output.csv',header=0)\n",
    "xTrainModel=pd.read_csv(r'.\\DataCapstoneProject2\\ccFraudDefault\\X_Train_Output.csv',header=0)\n",
    "xTestModel=pd.read_csv(r'.\\DataCapstoneProject2\\ccFraudDefault\\X_Test_Output.csv',header=0)\n",
    "yTrainModel=pd.read_csv(r'.\\DataCapstoneProject2\\ccFraudDefault\\y_Train_Output.csv',header=0)\n",
    "yTestModel=pd.read_csv(r'.\\DataCapstoneProject2\\ccFraudDefault\\y_Test_Output.csv',header=0)\n"
   ]
  },
  {
   "cell_type": "code",
   "execution_count": null,
   "id": "9d8f6212",
   "metadata": {},
   "outputs": [],
   "source": []
  },
  {
   "cell_type": "code",
   "execution_count": null,
   "id": "352f006a",
   "metadata": {},
   "outputs": [],
   "source": [
    "CCLoan.info()"
   ]
  },
  {
   "cell_type": "code",
   "execution_count": null,
   "id": "be14d6bb",
   "metadata": {},
   "outputs": [],
   "source": [
    "#Task 1.2.0\n",
    "xTrainModel.info()\n"
   ]
  },
  {
   "cell_type": "code",
   "execution_count": null,
   "id": "9fb1fab3",
   "metadata": {},
   "outputs": [],
   "source": [
    "#Task 1.2.1\n",
    "xTrainModel.head()"
   ]
  },
  {
   "cell_type": "code",
   "execution_count": null,
   "id": "3ca8ae85",
   "metadata": {},
   "outputs": [],
   "source": [
    "xTrainModel.head()"
   ]
  },
  {
   "cell_type": "code",
   "execution_count": null,
   "id": "6fb0d62b",
   "metadata": {},
   "outputs": [],
   "source": [
    "#Task 1.2.2\n",
    "yTrainModel.head()"
   ]
  },
  {
   "cell_type": "code",
   "execution_count": null,
   "id": "8e44caef",
   "metadata": {},
   "outputs": [],
   "source": [
    "#Task 1.2.3\n",
    "xTestModel.head()"
   ]
  },
  {
   "cell_type": "code",
   "execution_count": null,
   "id": "8a766fc9",
   "metadata": {},
   "outputs": [],
   "source": [
    "#Task 1.2.4\n",
    "yTestModel.head()"
   ]
  },
  {
   "cell_type": "code",
   "execution_count": null,
   "id": "b80c6670",
   "metadata": {},
   "outputs": [],
   "source": []
  },
  {
   "cell_type": "code",
   "execution_count": null,
   "id": "71275fe5",
   "metadata": {},
   "outputs": [],
   "source": [
    "#Task 1.3.1\n",
    "xTrainModel.shape"
   ]
  },
  {
   "cell_type": "code",
   "execution_count": null,
   "id": "fc5641fa",
   "metadata": {},
   "outputs": [],
   "source": [
    "#Task 1.3.2\n",
    "yTrainModel.shape"
   ]
  },
  {
   "cell_type": "code",
   "execution_count": null,
   "id": "09769360",
   "metadata": {},
   "outputs": [],
   "source": []
  },
  {
   "cell_type": "code",
   "execution_count": null,
   "id": "9ec4d5d4",
   "metadata": {},
   "outputs": [],
   "source": [
    "#Task 1.3.3\n",
    "xTestModel.shape"
   ]
  },
  {
   "cell_type": "code",
   "execution_count": null,
   "id": "3e15fe7d",
   "metadata": {},
   "outputs": [],
   "source": [
    "#Task 1.3.4\n",
    "yTestModel.shape"
   ]
  },
  {
   "cell_type": "markdown",
   "id": "fe081b2d",
   "metadata": {},
   "source": [
    "#Task 1.3.1   \n",
    "#can markdown as i dont need to drop anymore.  all data is a float or number\n",
    "#got an error doing linear regression model\n",
    "#dropping columns that are not float or numberic value \n",
    "ModelCCLoan.drop(ModelCCLoan[['NAME_CONTRACT_TYPE','NAME_TYPE_SUITE','NAME_INCOME_TYPE','NAME_EDUCATION_TYPE', \\\n",
    "                              'NAME_FAMILY_STATUS', 'NAME_HOUSING_TYPE','OCCUPATION_TYPE','WEEKDAY_APPR_PROCESS_START', \\\n",
    "                              'ORGANIZATION_TYPE', 'HOUSETYPE_MODE','WALLSMATERIAL_MODE']].columns,axis=1,inplace=True)\n",
    "\n"
   ]
  },
  {
   "cell_type": "markdown",
   "id": "70581fa7",
   "metadata": {},
   "source": [
    "#Task 1.3.1\n",
    "ModelCCLoan.shape"
   ]
  },
  {
   "cell_type": "markdown",
   "id": "0019f59b",
   "metadata": {},
   "source": [
    "#Task 1.3.2\n",
    "ModelCCLoan.head(10)"
   ]
  },
  {
   "cell_type": "markdown",
   "id": "47833946",
   "metadata": {},
   "source": [
    "#Task 1.3.3\n",
    "#need to remove columns that are not floats.  I need change all N to 0 and Y to 1\n",
    "#also F to 0, M to 1\n",
    "ModelCCLoan.replace({'FLAG_OWN_REALTY':{'Y':1},'CODE_GENDER':{'M':1},'FLAG_OWN_CAR':{'Y':1}},inplace=True)\n",
    "ModelCCLoan.replace({'FLAG_OWN_REALTY':{'N':0},'CODE_GENDER':{'F':0},'FLAG_OWN_CAR':{'N':0}},inplace=True)\n"
   ]
  },
  {
   "cell_type": "markdown",
   "id": "f344fc91",
   "metadata": {},
   "source": [
    "#Task 1.3.4\n",
    "ModelCCLoan.head(10)"
   ]
  },
  {
   "cell_type": "markdown",
   "id": "60fbc4d6",
   "metadata": {},
   "source": []
  },
  {
   "cell_type": "markdown",
   "id": "3ec7829a",
   "metadata": {},
   "source": [
    "#Task 1.4\n",
    "y=ModelCCLoan[['CODE_GENDER']]"
   ]
  },
  {
   "cell_type": "markdown",
   "id": "4bbad329",
   "metadata": {},
   "source": [
    "#Task 1.5\n",
    "X=ModelCCLoan.drop(['CODE_GENDER'],axis=1)"
   ]
  },
  {
   "cell_type": "markdown",
   "id": "6381342e",
   "metadata": {},
   "source": [
    "#Task 1.6\n",
    "from sklearn.model_selection import train_test_split\n",
    "X_train, X_test, y_train, y_test = train_test_split(X, y, random_state=42, test_size=.2)"
   ]
  },
  {
   "cell_type": "code",
   "execution_count": null,
   "id": "f7151f9e",
   "metadata": {},
   "outputs": [],
   "source": []
  },
  {
   "cell_type": "code",
   "execution_count": null,
   "id": "7829f7ea",
   "metadata": {},
   "outputs": [],
   "source": [
    "from sklearn.model_selection import KFold\n",
    "from sklearn.metrics import accuracy_score\n",
    "from sklearn.metrics import confusion_matrix\n",
    "from sklearn.datasets import make_classification\n",
    "from sklearn.linear_model import LogisticRegression"
   ]
  },
  {
   "cell_type": "markdown",
   "id": "d0f551a5",
   "metadata": {},
   "source": [
    "#notes\n",
    "\n",
    "logistical regression model.\n",
    "\n",
    "accuracy score is needed to see how data is scored and trained\n",
    "\n",
    "model.\n",
    "\n",
    "\n",
    "Confusion Matric\n",
    "SVC, forrest classifier"
   ]
  },
  {
   "cell_type": "code",
   "execution_count": null,
   "id": "7abe5d5e",
   "metadata": {},
   "outputs": [],
   "source": [
    "sns.scatterplot(x ='AMT_GOODS_PRICE',y='LATE_PAYMENT',data =CCLoan,hue ='CODE_GENDER')"
   ]
  },
  {
   "cell_type": "code",
   "execution_count": null,
   "id": "0fb3d569",
   "metadata": {},
   "outputs": [],
   "source": [
    "#first refrence logistic regressing example using to model\n",
    "\n",
    "# Task A 1\n",
    "clf = LogisticRegression()\n",
    "# Fit the model on the trainng data.\n",
    "clf.fit(xTrainModel, yTrainModel)\n",
    "# Print the accuracy from the testing data.\n",
    "print(accuracy_score(clf.predict(xTestModel), yTestModel))"
   ]
  },
  {
   "cell_type": "code",
   "execution_count": null,
   "id": "9aeb224e",
   "metadata": {},
   "outputs": [],
   "source": [
    "#Task A 2\n",
    "def cv_score(clf, xTrainModel, yTrainModel, score_func=accuracy_score):\n",
    "    result = 0\n",
    "    nfold = 5\n",
    "    for train, test in KFold(nfold).split(xTrainModel): # split data into train/test groups, 5 times\n",
    "        clf.fit(xTrainModel[train], yTrainModel[train]) # fit\n",
    "        result += score_func(clf.predict(xTestModel[test]), yTestModel[test]) # evaluate score function on held-out data\n",
    "    return result / nfold # average"
   ]
  },
  {
   "cell_type": "code",
   "execution_count": null,
   "id": "c92c35a5",
   "metadata": {},
   "outputs": [],
   "source": [
    "#Task A 3\n",
    "\n",
    "clf = LogisticRegression()\n",
    "score = cv_score(clf, xTrainModel, yTrainModel)\n",
    "print(score)"
   ]
  },
  {
   "cell_type": "code",
   "execution_count": null,
   "id": "a10091e1",
   "metadata": {},
   "outputs": [],
   "source": []
  },
  {
   "cell_type": "markdown",
   "id": "5b134fc9",
   "metadata": {},
   "source": [
    "\n",
    "Perform Logistic Regression\n",
    "2nd example of logistic regress i am using as reference "
   ]
  },
  {
   "cell_type": "code",
   "execution_count": null,
   "id": "53f21e85",
   "metadata": {},
   "outputs": [],
   "source": [
    "#Task B 1\n",
    "# Create a Logistic Regression Object, perform Logistic Regression\n",
    "log_reg = LogisticRegression()\n",
    "log_reg.fit(xTrainModel, yTrainModel)"
   ]
  },
  {
   "cell_type": "code",
   "execution_count": null,
   "id": "dbe9d9a5",
   "metadata": {},
   "outputs": [],
   "source": [
    "LogisticRegression(C=1.0, class_weight=None, dual=False, fit_intercept=True,\n",
    "          intercept_scaling=1, max_iter=100, multi_class='ovr', n_jobs=1,\n",
    "          penalty='l2', random_state=None, solver='liblinear', tol=0.0001,\n",
    "          verbose=0, warm_start=False)"
   ]
  },
  {
   "cell_type": "code",
   "execution_count": null,
   "id": "15c2e5b4",
   "metadata": {},
   "outputs": [],
   "source": [
    "# Show to Coeficient and Intercept\n",
    "print(log_reg.coef_)\n",
    "print(log_reg.intercept_)"
   ]
  },
  {
   "cell_type": "code",
   "execution_count": null,
   "id": "94fd9477",
   "metadata": {},
   "outputs": [],
   "source": [
    "#Make prediction \n",
    "# Perform prediction using the test dataset\n",
    "y_pred = log_reg.predict(xTestModel)"
   ]
  },
  {
   "cell_type": "code",
   "execution_count": null,
   "id": "c3770a8c",
   "metadata": {},
   "outputs": [],
   "source": [
    "# Show the Confusion Matrix\n",
    "# True Positive = 70669, False Positive = 3\n",
    "# True Negative = 6206, False Negative = 0\n",
    "confusion_matrix(yTestModel, y_pred)"
   ]
  },
  {
   "cell_type": "code",
   "execution_count": null,
   "id": "c49418d7",
   "metadata": {},
   "outputs": [],
   "source": []
  },
  {
   "cell_type": "code",
   "execution_count": null,
   "id": "eeb0e9fb",
   "metadata": {},
   "outputs": [],
   "source": []
  },
  {
   "cell_type": "code",
   "execution_count": null,
   "id": "9e17d0ac",
   "metadata": {},
   "outputs": [],
   "source": [
    "xTrainModel.shape"
   ]
  },
  {
   "cell_type": "code",
   "execution_count": null,
   "id": "74d8da87",
   "metadata": {},
   "outputs": [],
   "source": [
    "#matrix size does not allow me to do scatter plot  so i would need to change it to (173x230633)\n",
    "\n",
    "xTrainModelT = np.transpose(xTrainModel)"
   ]
  },
  {
   "cell_type": "code",
   "execution_count": null,
   "id": "20eb6367",
   "metadata": {},
   "outputs": [],
   "source": [
    "xTrainModelT.shape"
   ]
  },
  {
   "cell_type": "code",
   "execution_count": null,
   "id": "7979778f",
   "metadata": {},
   "outputs": [],
   "source": [
    "yTrainModel.shape"
   ]
  },
  {
   "cell_type": "code",
   "execution_count": null,
   "id": "1de92ace",
   "metadata": {},
   "outputs": [],
   "source": [
    "print(yTrainModel)"
   ]
  },
  {
   "cell_type": "code",
   "execution_count": null,
   "id": "358e76ce",
   "metadata": {},
   "outputs": [],
   "source": [
    "#part B\n",
    "# Create a scatter plot\n",
    "plt.scatter(xTrainModelT, yTrainModel, c=yTrainModel, cmap='rainbow')\n",
    "plt.title('Scatter Plot of Logistic Regression')\n",
    "plt.show()"
   ]
  },
  {
   "cell_type": "code",
   "execution_count": null,
   "id": "ee60220c",
   "metadata": {},
   "outputs": [],
   "source": []
  },
  {
   "cell_type": "code",
   "execution_count": null,
   "id": "0a44bcd9",
   "metadata": {},
   "outputs": [],
   "source": []
  },
  {
   "cell_type": "code",
   "execution_count": null,
   "id": "198117c6",
   "metadata": {},
   "outputs": [],
   "source": []
  },
  {
   "cell_type": "code",
   "execution_count": null,
   "id": "1c961547",
   "metadata": {},
   "outputs": [],
   "source": []
  },
  {
   "cell_type": "code",
   "execution_count": null,
   "id": "5348ce84",
   "metadata": {},
   "outputs": [],
   "source": []
  },
  {
   "cell_type": "code",
   "execution_count": null,
   "id": "3b866e15",
   "metadata": {},
   "outputs": [],
   "source": []
  },
  {
   "cell_type": "code",
   "execution_count": null,
   "id": "6cb64ff4",
   "metadata": {},
   "outputs": [],
   "source": []
  },
  {
   "cell_type": "code",
   "execution_count": null,
   "id": "2a63189e",
   "metadata": {},
   "outputs": [],
   "source": []
  },
  {
   "cell_type": "code",
   "execution_count": null,
   "id": "8bbfa1ab",
   "metadata": {},
   "outputs": [],
   "source": []
  },
  {
   "cell_type": "code",
   "execution_count": null,
   "id": "d03cfb1f",
   "metadata": {},
   "outputs": [],
   "source": []
  },
  {
   "cell_type": "markdown",
   "id": "5ce78c8a",
   "metadata": {},
   "source": []
  },
  {
   "cell_type": "markdown",
   "id": "d2d39764",
   "metadata": {},
   "source": []
  },
  {
   "cell_type": "markdown",
   "id": "94c62d9f",
   "metadata": {},
   "source": []
  },
  {
   "cell_type": "code",
   "execution_count": null,
   "id": "2cc106a4",
   "metadata": {},
   "outputs": [],
   "source": []
  },
  {
   "cell_type": "code",
   "execution_count": null,
   "id": "16752b4c",
   "metadata": {},
   "outputs": [],
   "source": []
  },
  {
   "cell_type": "code",
   "execution_count": null,
   "id": "325be28d",
   "metadata": {},
   "outputs": [],
   "source": []
  },
  {
   "cell_type": "code",
   "execution_count": null,
   "id": "b4dbd321",
   "metadata": {},
   "outputs": [],
   "source": []
  },
  {
   "cell_type": "code",
   "execution_count": null,
   "id": "b159e052",
   "metadata": {},
   "outputs": [],
   "source": []
  },
  {
   "cell_type": "markdown",
   "id": "072fa99d",
   "metadata": {},
   "source": [
    "Lasso GridSearchCV model"
   ]
  },
  {
   "cell_type": "code",
   "execution_count": null,
   "id": "fb04eca4",
   "metadata": {},
   "outputs": [],
   "source": [
    "#Task 4.0\n",
    "lasso = Lasso()\n",
    "params = {\"alpha\" : [ 1e-3, 1e-2, 1, 1e1, \n",
    "                     1e2, 1e3, 1e4, 1e5, 1e6, 1e7]}"
   ]
  },
  {
   "cell_type": "code",
   "execution_count": null,
   "id": "1c08d3be",
   "metadata": {},
   "outputs": [],
   "source": [
    "lasso_regressor = GridSearchCV(lasso, params, cv=5)"
   ]
  },
  {
   "cell_type": "code",
   "execution_count": null,
   "id": "a097a89a",
   "metadata": {},
   "outputs": [],
   "source": [
    "lasso_model=lasso_regressor.fit(xTrainModel, yTrainModel)\n"
   ]
  },
  {
   "cell_type": "code",
   "execution_count": null,
   "id": "c91d745e",
   "metadata": {},
   "outputs": [],
   "source": [
    "preds_lasso=lasso_model.predict(xTestModel)"
   ]
  },
  {
   "cell_type": "code",
   "execution_count": null,
   "id": "0a942ba4",
   "metadata": {},
   "outputs": [],
   "source": []
  },
  {
   "cell_type": "code",
   "execution_count": null,
   "id": "4c64551c",
   "metadata": {},
   "outputs": [],
   "source": [
    "\n",
    "print(\"R^2 is: \\n\", lasso_model.score(xTestModel, yTestModel))\n",
    "print('RMSE is: \\n', mean_squared_error(yTestModel, preds_lasso))"
   ]
  },
  {
   "cell_type": "code",
   "execution_count": null,
   "id": "30ef4a94",
   "metadata": {},
   "outputs": [],
   "source": [
    "lasso_regressor.best_estimator_\n"
   ]
  },
  {
   "cell_type": "code",
   "execution_count": null,
   "id": "03794542",
   "metadata": {},
   "outputs": [],
   "source": []
  }
 ],
 "metadata": {
  "kernelspec": {
   "display_name": "Python 3",
   "language": "python",
   "name": "python3"
  },
  "language_info": {
   "codemirror_mode": {
    "name": "ipython",
    "version": 3
   },
   "file_extension": ".py",
   "mimetype": "text/x-python",
   "name": "python",
   "nbconvert_exporter": "python",
   "pygments_lexer": "ipython3",
   "version": "3.8.10"
  }
 },
 "nbformat": 4,
 "nbformat_minor": 5
}
