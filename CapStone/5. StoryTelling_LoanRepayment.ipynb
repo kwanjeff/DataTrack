{
 "cells": [
  {
   "cell_type": "code",
   "execution_count": null,
   "id": "6cc85e11",
   "metadata": {},
   "outputs": [],
   "source": [
    "StoryTelling - Predict likelyness of Client default on Loans"
   ]
  },
  {
   "cell_type": "markdown",
   "id": "737001c5",
   "metadata": {},
   "source": [
    "copy start problem statement, where you got data \n",
    "\n",
    "data wrangling\n",
    "eda\n",
    "preprocess\n",
    "modeling"
   ]
  },
  {
   "cell_type": "markdown",
   "id": "27d3e1ed",
   "metadata": {},
   "source": [
    "issue with data cleaning"
   ]
  },
  {
   "cell_type": "markdown",
   "id": "3d42197a",
   "metadata": {},
   "source": [
    "charts"
   ]
  },
  {
   "cell_type": "markdown",
   "id": "2a2ecc7d",
   "metadata": {},
   "source": [
    "add  hypothesis test"
   ]
  },
  {
   "cell_type": "markdown",
   "id": "c889212d",
   "metadata": {},
   "source": [
    "details from model exercise"
   ]
  },
  {
   "cell_type": "markdown",
   "id": "d2d6c8bd",
   "metadata": {},
   "source": [
    "As a bank I want to rate a customer based on each client's attributes.  We want to create our own predictive analysis model that tells me the likelihood that this customer will default on one’s credit card loan or will fully repay the loan.\n",
    "\n",
    "Criteria for success: \n",
    "If we are able to identify top 10-12 categories which leads to customer defalutness.  With the categories identified, am I able to accurately predict 85% clients that are flagged as likely to default.  Next step is what number of categories that can change prediction from 85% to 95% of flagged clients will default on loan.  If a lower amount of loan was given will it decrease the rate of default.\n",
    "\n",
    "\n",
    "The dataset used for this submission is found at https://www.kaggle.com/mishra5001/credit-card"
   ]
  },
  {
   "cell_type": "code",
   "execution_count": null,
   "id": "33af5218",
   "metadata": {},
   "outputs": [],
   "source": [
    "EDA"
   ]
  },
  {
   "cell_type": "code",
   "execution_count": null,
   "id": "da37757d",
   "metadata": {},
   "outputs": [],
   "source": []
  },
  {
   "cell_type": "code",
   "execution_count": null,
   "id": "7a29d125",
   "metadata": {},
   "outputs": [],
   "source": []
  },
  {
   "cell_type": "code",
   "execution_count": null,
   "id": "5df993d7",
   "metadata": {},
   "outputs": [],
   "source": []
  },
  {
   "cell_type": "code",
   "execution_count": null,
   "id": "fa912ee5",
   "metadata": {},
   "outputs": [],
   "source": []
  },
  {
   "cell_type": "code",
   "execution_count": null,
   "id": "b47f812f",
   "metadata": {},
   "outputs": [],
   "source": []
  }
 ],
 "metadata": {
  "kernelspec": {
   "display_name": "Python 3",
   "language": "python",
   "name": "python3"
  },
  "language_info": {
   "codemirror_mode": {
    "name": "ipython",
    "version": 3
   },
   "file_extension": ".py",
   "mimetype": "text/x-python",
   "name": "python",
   "nbconvert_exporter": "python",
   "pygments_lexer": "ipython3",
   "version": "3.8.10"
  }
 },
 "nbformat": 4,
 "nbformat_minor": 5
}
