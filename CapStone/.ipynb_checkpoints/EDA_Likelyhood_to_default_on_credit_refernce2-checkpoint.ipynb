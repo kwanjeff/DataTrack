{
 "cells": [
  {
   "cell_type": "markdown",
   "id": "dd571376",
   "metadata": {},
   "source": [
    "data visualization\n",
    "statistical graphing"
   ]
  },
  {
   "cell_type": "code",
   "execution_count": 1,
   "id": "fourth-president",
   "metadata": {},
   "outputs": [],
   "source": [
    "#Task 1\n",
    "#import pandas\n",
    "import pandas as pd\n",
    "import matplotlib.pyplot as plt\n",
    "from matplotlib import rcParams\n",
    "import seaborn as sns\n",
    "import numpy as np\n",
    "import os\n",
    "import sklearn\n",
    "\n",
    "\n",
    "##import inforamtion from cleaned data from previous Capstone 2\n",
    "CCLoan = pd.read_csv(r'.\\DataCapstoneProject2\\ccFraudDefault\\Cleaned_app_data_ver3.csv',header=0)"
   ]
  },
  {
   "cell_type": "code",
   "execution_count": 2,
   "id": "documented-piece",
   "metadata": {},
   "outputs": [
    {
     "name": "stdout",
     "output_type": "stream",
     "text": [
      "<class 'pandas.core.frame.DataFrame'>\n",
      "RangeIndex: 307511 entries, 0 to 307510\n",
      "Data columns (total 50 columns):\n",
      " #   Column                       Non-Null Count   Dtype  \n",
      "---  ------                       --------------   -----  \n",
      " 0   CLIENTID                     307511 non-null  int64  \n",
      " 1   LATE_PAYMENT                 307511 non-null  int64  \n",
      " 2   NAME_CONTRACT_TYPE           307511 non-null  object \n",
      " 3   CODE_GENDER                  307511 non-null  object \n",
      " 4   FLAG_OWN_CAR                 307511 non-null  object \n",
      " 5   FLAG_OWN_REALTY              307511 non-null  object \n",
      " 6   CNT_CHILDREN                 307511 non-null  int64  \n",
      " 7   AMT_INCOME_TOTAL             307511 non-null  float64\n",
      " 8   AMT_CREDIT                   307511 non-null  float64\n",
      " 9   AMT_ANNUITY                  307511 non-null  float64\n",
      " 10  AMT_GOODS_PRICE              307511 non-null  float64\n",
      " 11  NAME_TYPE_SUITE              307511 non-null  object \n",
      " 12  NAME_INCOME_TYPE             307511 non-null  object \n",
      " 13  NAME_EDUCATION_TYPE          307511 non-null  object \n",
      " 14  NAME_FAMILY_STATUS           307511 non-null  object \n",
      " 15  NAME_HOUSING_TYPE            307511 non-null  object \n",
      " 16  REGION_POPULATION_RELATIVE   307511 non-null  float64\n",
      " 17  DAYS_BIRTH                   307511 non-null  int64  \n",
      " 18  DAYS_EMPLOYED                307511 non-null  int64  \n",
      " 19  DAYS_REGISTRATION            307511 non-null  float64\n",
      " 20  DAYS_ID_PUBLISH              307511 non-null  int64  \n",
      " 21  OWN_CAR_AGE                  307511 non-null  float64\n",
      " 22  FLAG_MOBIL                   307511 non-null  int64  \n",
      " 23  FLAG_EMP_PHONE               307511 non-null  int64  \n",
      " 24  FLAG_WORK_PHONE              307511 non-null  int64  \n",
      " 25  FLAG_CONT_MOBILE             307511 non-null  int64  \n",
      " 26  FLAG_PHONE                   307511 non-null  int64  \n",
      " 27  FLAG_EMAIL                   307511 non-null  int64  \n",
      " 28  OCCUPATION_TYPE              307511 non-null  object \n",
      " 29  CNT_FAM_MEMBERS              307511 non-null  float64\n",
      " 30  REGION_RATING_CLIENT         307511 non-null  int64  \n",
      " 31  REGION_RATING_CLIENT_W_CITY  307511 non-null  int64  \n",
      " 32  WEEKDAY_APPR_PROCESS_START   307511 non-null  object \n",
      " 33  HOUR_APPR_PROCESS_START      307511 non-null  int64  \n",
      " 34  REG_REGION_NOT_LIVE_REGION   307511 non-null  int64  \n",
      " 35  REG_REGION_NOT_WORK_REGION   307511 non-null  int64  \n",
      " 36  LIVE_REGION_NOT_WORK_REGION  307511 non-null  int64  \n",
      " 37  REG_CITY_NOT_LIVE_CITY       307511 non-null  int64  \n",
      " 38  REG_CITY_NOT_WORK_CITY       307511 non-null  int64  \n",
      " 39  LIVE_CITY_NOT_WORK_CITY      307511 non-null  int64  \n",
      " 40  ORGANIZATION_TYPE            307511 non-null  object \n",
      " 41  HOUSETYPE_MODE               307511 non-null  object \n",
      " 42  WALLSMATERIAL_MODE           307511 non-null  object \n",
      " 43  OBS_30_CNT_SOCIAL_CIRCLE     307511 non-null  float64\n",
      " 44  DEF_30_CNT_SOCIAL_CIRCLE     307511 non-null  float64\n",
      " 45  OBS_60_CNT_SOCIAL_CIRCLE     307511 non-null  float64\n",
      " 46  DEF_60_CNT_SOCIAL_CIRCLE     307511 non-null  float64\n",
      " 47  DAYS_LAST_PHONE_CHANGE       307511 non-null  float64\n",
      " 48  AMT_REQ_CREDIT_BUREAU_QRT    307511 non-null  float64\n",
      " 49  AMT_REQ_CREDIT_BUREAU_YEAR   307511 non-null  float64\n",
      "dtypes: float64(15), int64(21), object(14)\n",
      "memory usage: 117.3+ MB\n"
     ]
    }
   ],
   "source": [
    "#Task 2.0\n",
    "CCLoan.info()\n"
   ]
  },
  {
   "cell_type": "code",
   "execution_count": 3,
   "id": "553dc697",
   "metadata": {},
   "outputs": [
    {
     "data": {
      "text/plain": [
       "CLIENTID                       0\n",
       "REG_CITY_NOT_LIVE_CITY         0\n",
       "FLAG_EMAIL                     0\n",
       "OCCUPATION_TYPE                0\n",
       "CNT_FAM_MEMBERS                0\n",
       "REGION_RATING_CLIENT           0\n",
       "REGION_RATING_CLIENT_W_CITY    0\n",
       "WEEKDAY_APPR_PROCESS_START     0\n",
       "HOUR_APPR_PROCESS_START        0\n",
       "REG_REGION_NOT_LIVE_REGION     0\n",
       "REG_REGION_NOT_WORK_REGION     0\n",
       "LIVE_REGION_NOT_WORK_REGION    0\n",
       "REG_CITY_NOT_WORK_CITY         0\n",
       "LATE_PAYMENT                   0\n",
       "LIVE_CITY_NOT_WORK_CITY        0\n",
       "ORGANIZATION_TYPE              0\n",
       "HOUSETYPE_MODE                 0\n",
       "WALLSMATERIAL_MODE             0\n",
       "OBS_30_CNT_SOCIAL_CIRCLE       0\n",
       "DEF_30_CNT_SOCIAL_CIRCLE       0\n",
       "OBS_60_CNT_SOCIAL_CIRCLE       0\n",
       "DEF_60_CNT_SOCIAL_CIRCLE       0\n",
       "DAYS_LAST_PHONE_CHANGE         0\n",
       "AMT_REQ_CREDIT_BUREAU_QRT      0\n",
       "FLAG_PHONE                     0\n",
       "FLAG_CONT_MOBILE               0\n",
       "FLAG_WORK_PHONE                0\n",
       "FLAG_EMP_PHONE                 0\n",
       "NAME_CONTRACT_TYPE             0\n",
       "CODE_GENDER                    0\n",
       "FLAG_OWN_CAR                   0\n",
       "FLAG_OWN_REALTY                0\n",
       "CNT_CHILDREN                   0\n",
       "AMT_INCOME_TOTAL               0\n",
       "AMT_CREDIT                     0\n",
       "AMT_ANNUITY                    0\n",
       "AMT_GOODS_PRICE                0\n",
       "NAME_TYPE_SUITE                0\n",
       "NAME_INCOME_TYPE               0\n",
       "NAME_EDUCATION_TYPE            0\n",
       "NAME_FAMILY_STATUS             0\n",
       "NAME_HOUSING_TYPE              0\n",
       "REGION_POPULATION_RELATIVE     0\n",
       "DAYS_BIRTH                     0\n",
       "DAYS_EMPLOYED                  0\n",
       "DAYS_REGISTRATION              0\n",
       "DAYS_ID_PUBLISH                0\n",
       "OWN_CAR_AGE                    0\n",
       "FLAG_MOBIL                     0\n",
       "AMT_REQ_CREDIT_BUREAU_YEAR     0\n",
       "dtype: int64"
      ]
     },
     "execution_count": 3,
     "metadata": {},
     "output_type": "execute_result"
    }
   ],
   "source": [
    "#Task 2.0.1 \n",
    "aaa=CCLoan.isna().sum()\n",
    "aaa.sort_values(ascending = False,)"
   ]
  },
  {
   "cell_type": "markdown",
   "id": "ffe5ddc7",
   "metadata": {},
   "source": [
    "Use this to find what is exactly null\n",
    "CCLoan[CCLoan['OCCUPATION_TYPE'].isnull()]"
   ]
  },
  {
   "cell_type": "code",
   "execution_count": null,
   "id": "6d72aef4",
   "metadata": {},
   "outputs": [],
   "source": []
  },
  {
   "cell_type": "code",
   "execution_count": null,
   "id": "1db140fe",
   "metadata": {},
   "outputs": [],
   "source": []
  },
  {
   "cell_type": "code",
   "execution_count": null,
   "id": "0ae76688",
   "metadata": {},
   "outputs": [],
   "source": []
  },
  {
   "cell_type": "code",
   "execution_count": null,
   "id": "wanted-liverpool",
   "metadata": {},
   "outputs": [],
   "source": [
    "#Task 2.1\n",
    "#describe the cleaned data\n",
    "\n",
    "CCLoan.describe()\n",
    "\n",
    "\n"
   ]
  },
  {
   "cell_type": "code",
   "execution_count": null,
   "id": "congressional-trace",
   "metadata": {},
   "outputs": [],
   "source": [
    "CCLoan.head(10)"
   ]
  },
  {
   "cell_type": "code",
   "execution_count": null,
   "id": "affected-feelings",
   "metadata": {},
   "outputs": [],
   "source": [
    "CCLoan.drop('Unnamed: 0',inplace=True, axis=1)"
   ]
  },
  {
   "cell_type": "code",
   "execution_count": null,
   "id": "informative-stations",
   "metadata": {},
   "outputs": [],
   "source": [
    "CCLoan.head(10)"
   ]
  },
  {
   "cell_type": "code",
   "execution_count": null,
   "id": "pharmaceutical-replica",
   "metadata": {},
   "outputs": [],
   "source": [
    "CCLoan.info()"
   ]
  },
  {
   "cell_type": "markdown",
   "id": "infinite-perry",
   "metadata": {},
   "source": [
    "After data was clean we only have 50 columns to graph and find patterns in\n"
   ]
  },
  {
   "cell_type": "code",
   "execution_count": null,
   "id": "invalid-appraisal",
   "metadata": {},
   "outputs": [],
   "source": [
    "#Task 3.0\n",
    "#take a look what is 25%, 50% and 75% of credit of loan\n",
    "\n",
    "np.percentile(CCLoan['AMT_CREDIT'],[25,50,75])"
   ]
  },
  {
   "cell_type": "code",
   "execution_count": null,
   "id": "respected-superior",
   "metadata": {},
   "outputs": [],
   "source": [
    "#Task 3.1\n",
    "#take a look what is 25%, 50% and 75% of credit of loan\n",
    "\n",
    "#np.percentile(CCLoan['AMT_CREDIT'],[25,50,75])"
   ]
  },
  {
   "cell_type": "code",
   "execution_count": null,
   "id": "grateful-chick",
   "metadata": {},
   "outputs": [],
   "source": [
    "#Task 3.2\n",
    "#take a look what is 25%, 50% and 75% of credit of loan\n"
   ]
  },
  {
   "cell_type": "code",
   "execution_count": null,
   "id": "advised-going",
   "metadata": {},
   "outputs": [],
   "source": [
    "\n",
    "\n"
   ]
  },
  {
   "cell_type": "code",
   "execution_count": null,
   "id": "cb65aace",
   "metadata": {},
   "outputs": [],
   "source": []
  },
  {
   "cell_type": "code",
   "execution_count": null,
   "id": "expected-savage",
   "metadata": {},
   "outputs": [],
   "source": [
    "#Task 3.3\n",
    "#View data of if women have more late payment vs men.  There is 2:1 ratio of loan borrower are women\n",
    "#CCLoan_sub = CCLoan[['CLIENTID','LATE_PAYMENT','CODE_GENDER','NAME_CONTRACT_TYPE','AMT_ANNUITY','AMT_CREDIT','AMT_INCOME_TOTAL']]\n",
    "M_CCLoan = CCLoan[CCLoan['CODE_GENDER']=='M']\n",
    "F_CCLoan = CCLoan[CCLoan['CODE_GENDER']=='F']"
   ]
  },
  {
   "cell_type": "code",
   "execution_count": null,
   "id": "ca51c21f",
   "metadata": {},
   "outputs": [],
   "source": []
  },
  {
   "cell_type": "code",
   "execution_count": null,
   "id": "indian-representation",
   "metadata": {},
   "outputs": [],
   "source": [
    "#Task 3.3.2\n",
    "#M_CCLoan total male with loan is 105059\n",
    "#LatePayment of men.  the rough percentage is 10% late from men\n",
    "men=M_CCLoan[M_CCLoan['LATE_PAYMENT']==1]\n",
    "print men['LATE_PAYMENT'].count()"
   ]
  },
  {
   "cell_type": "code",
   "execution_count": null,
   "id": "nutritional-chess",
   "metadata": {},
   "outputs": [],
   "source": [
    "#Task 3.3.3\n",
    "#F_CCLoan total of femal with loan is 202452 \n",
    "#LatePayment of female 14170. the rough percentage is women only late by 7% of time\n",
    "female=F_CCLoan[F_CCLoan['LATE_PAYMENT']==1]\n",
    "female['LATE_PAYMENT'].count()\n",
    "\n"
   ]
  },
  {
   "cell_type": "code",
   "execution_count": null,
   "id": "supported-specific",
   "metadata": {},
   "outputs": [],
   "source": [
    "#Task 5.0\n",
    "#test data to see correlation mapping\n",
    "#Heat map with columns that are floats or int.  It will not work with str.\n",
    "#adjust the scale so i can see anything that has correation greater than 0.  \n",
    "#Previous chart with -1 to 1 was difficult to distinguest correlation\n",
    "\n",
    "CCLoan_corr=CCLoan.corr()\n",
    "fig,ax  =plt.subplots(figsize = (10,10))\n",
    "sns.heatmap(CCLoan_corr, linewidth=.5,ax=ax, vmin=0,vmax=1)"
   ]
  },
  {
   "cell_type": "code",
   "execution_count": null,
   "id": "arabic-equilibrium",
   "metadata": {},
   "outputs": [],
   "source": [
    "#Task 5.1\n",
    "#test data to see correlation mapping\n",
    "#Heat map with columns that are floats or int.  It will not work with str.\n",
    "#adjust the scale so i can see anything that has correation greater than 0.  \n",
    "#Previous chart with -1 to 1 was difficult to distinguest correlation\n",
    "\n",
    "CCLoan_corr=CCLoan.corr()\n",
    "fig,ax  =plt.subplots(figsize = (10,10))\n",
    "sns.heatmap(CCLoan_corr, linewidth=.5,ax=ax, vmin=-1,vmax=0)"
   ]
  },
  {
   "cell_type": "code",
   "execution_count": null,
   "id": "frank-specific",
   "metadata": {},
   "outputs": [],
   "source": [
    "#Task 5.1\n",
    "df = CCLoan[['AMT_GOODS_PRICE','AMT_CREDIT','CODE_GENDER']]\n",
    "ax.grid=True\n",
    "ax=df.plot.scatter(x='AMT_GOODS_PRICE',y='AMT_CREDIT',s =3,cmap='coolwarm')\n",
    "plt.ylabel('Yearly Payment')\n",
    "plt.xlabel('Total Credit')\n",
    "\n"
   ]
  },
  {
   "cell_type": "code",
   "execution_count": null,
   "id": "tutorial-cosmetic",
   "metadata": {},
   "outputs": [],
   "source": [
    "#Task 5.2\n",
    "_=CCLoan.groupby('LATE_PAYMENT')['NAME_EDUCATION_TYPE'].hist(bins =5)\n",
    "_=plt.xlabel('NAME_EDUCATION_TYPE')\n",
    "_=plt.ylabel('LATE_PAYMENT')\n",
    "_=plt.title(\"Late Payment vs NAME_EDUCATION_TYPE\")\n",
    "\n",
    "plt.show()"
   ]
  },
  {
   "cell_type": "code",
   "execution_count": null,
   "id": "subjective-resistance",
   "metadata": {},
   "outputs": [],
   "source": [
    "#Task 5.3\n",
    "CCLoan_new=CCLoan.groupby('LATE_PAYMENT')['NAME_EDUCATION_TYPE'].value_counts().unstack(0)\n",
    "CCLoan_new/CCLoan_new.sum()"
   ]
  },
  {
   "cell_type": "code",
   "execution_count": null,
   "id": "pharmaceutical-renewal",
   "metadata": {},
   "outputs": [],
   "source": [
    "#Task 5.4\n",
    "df3_5 = CCLoan[['AMT_CREDIT','AMT_ANNUITY','AMT_GOODS_PRICE','CODE_GENDER']]\n",
    "sns.pairplot(df3_5, hue='CODE_GENDER')\n"
   ]
  },
  {
   "cell_type": "code",
   "execution_count": null,
   "id": "broken-newark",
   "metadata": {},
   "outputs": [],
   "source": [
    "#Task 5.4.1\n",
    "CCLoan_new=CCLoan.groupby('LATE_PAYMENT')['NAME_FAMILY_STATUS'].value_counts().unstack(0)\n",
    "CCLoan_new/CCLoan_new.sum()"
   ]
  },
  {
   "cell_type": "code",
   "execution_count": null,
   "id": "prospective-thumbnail",
   "metadata": {},
   "outputs": [],
   "source": [
    "#Task 5.4.2\n",
    "#Task 5.4.1\n",
    "CCLoan_new1=CCLoan.groupby('LATE_PAYMENT')['NAME_FAMILY_STATUS'].value_counts().unstack(0)\n",
    "CCLoan_new1/CCLoan_new1.sum()\n"
   ]
  },
  {
   "cell_type": "code",
   "execution_count": null,
   "id": "liked-assistant",
   "metadata": {},
   "outputs": [],
   "source": [
    "#Task 5.4.3\n",
    "\n"
   ]
  },
  {
   "cell_type": "code",
   "execution_count": null,
   "id": "substantial-service",
   "metadata": {},
   "outputs": [],
   "source": [
    "#Task 5.4.4\n",
    "\n"
   ]
  },
  {
   "cell_type": "code",
   "execution_count": null,
   "id": "mysterious-perception",
   "metadata": {
    "scrolled": true
   },
   "outputs": [],
   "source": [
    "#Task 5.5\n",
    "df3 = CCLoan[['AMT_CREDIT','AMT_ANNUITY','AMT_GOODS_PRICE']]\n",
    "sns.pairplot(df3)\n"
   ]
  },
  {
   "cell_type": "code",
   "execution_count": null,
   "id": "ee3dbb70",
   "metadata": {},
   "outputs": [],
   "source": [
    "#Task 5.5.1\n",
    "df5=CCLoan[['AMT_CREDIT','AMT_ANNUITY','AMT_GOODS_PRICE','LATE_PAYMENT']]\n",
    "sns.pairplot(df5, hue='LATE_PAYMENT')"
   ]
  },
  {
   "cell_type": "code",
   "execution_count": null,
   "id": "important-wildlife",
   "metadata": {},
   "outputs": [],
   "source": [
    "#Task 5.6\n",
    "df4 = CCLoan[['NAME_FAMILY_STATUS','FLAG_OWN_CAR','CNT_CHILDREN','DAYS_EMPLOYED','LATE_PAYMENT']]\n",
    "sns.pairplot(df4, hue='LATE_PAYMENT')"
   ]
  },
  {
   "cell_type": "code",
   "execution_count": null,
   "id": "referenced-faith",
   "metadata": {},
   "outputs": [],
   "source": [
    "#Task 5.6.1\n",
    "CCLoan_new=CCLoan.groupby('LATE_PAYMENT')['NAME_FAMILY_STATUS'].value_counts().unstack(0)\n",
    "CCLoan_new/CCLoan_new.sum()"
   ]
  },
  {
   "cell_type": "code",
   "execution_count": null,
   "id": "unavailable-integral",
   "metadata": {},
   "outputs": [],
   "source": [
    "CCLoan_new=CCLoan.groupby('LATE_PAYMENT')['FLAG_OWN_CAR'].value_counts().unstack(0)\n",
    "CCLoan_new/CCLoan_new.sum()"
   ]
  },
  {
   "cell_type": "code",
   "execution_count": null,
   "id": "hearing-funds",
   "metadata": {},
   "outputs": [],
   "source": [
    "CCLoan_new=CCLoan.groupby('LATE_PAYMENT')['FLAG_OWN_CAR'].value_counts().unstack(0)\n",
    "CCLoan_new/CCLoan_new.sum()"
   ]
  },
  {
   "cell_type": "code",
   "execution_count": null,
   "id": "spectacular-syntax",
   "metadata": {},
   "outputs": [],
   "source": [
    "CCLoan_new=CCLoan.groupby('LATE_PAYMENT')['CNT_CHILDREN'].value_counts().unstack(0)\n",
    "CCLoan_new/CCLoan_new.sum()"
   ]
  },
  {
   "cell_type": "code",
   "execution_count": null,
   "id": "stable-utility",
   "metadata": {},
   "outputs": [],
   "source": [
    "#Task 5.7\n",
    "\n"
   ]
  },
  {
   "cell_type": "markdown",
   "id": "raising-kitty",
   "metadata": {},
   "source": [
    "matplotlib.pyplot.boxplot(data, notch=None, vert=None, patch_artist=None, widths=None)"
   ]
  },
  {
   "cell_type": "code",
   "execution_count": null,
   "id": "eleven-belle",
   "metadata": {},
   "outputs": [],
   "source": [
    "#Task 6.0\n",
    "#Boxplot \n",
    "\n",
    "np.random.seed(10)\n",
    "data = np.random.normal(100, 20, 200)\n",
    "fig = plt.figure(figsize =(10, 7))\n",
    "  \n",
    "# Creating plot\n",
    "plt.boxplot(data)\n",
    "  \n",
    "# show plot\n",
    "plt.show()\n"
   ]
  },
  {
   "cell_type": "markdown",
   "id": "41a33e5b",
   "metadata": {},
   "source": [
    "import seaborn as sns\n",
    "import matplotlib.pyplot as plt\n",
    "\n",
    "df = sns.load_dataset('iris')\n",
    "df.head()\n",
    "\n",
    "sns.boxplot( y=df[\"sepal_length\"] );\n",
    "plt.show()"
   ]
  },
  {
   "cell_type": "code",
   "execution_count": null,
   "id": "shaped-gossip",
   "metadata": {},
   "outputs": [],
   "source": [
    "#Task 6.0\n",
    "#Boxplot\n",
    "\n",
    "sns.boxplot(x=CCLoan['DAYS_EMPLOYED'],y=CCLoan['LATE_PAYMENT']);\n",
    "plt.show()\n"
   ]
  },
  {
   "cell_type": "code",
   "execution_count": null,
   "id": "e52fa61c",
   "metadata": {},
   "outputs": [],
   "source": [
    "#Task 6.0.1\n",
    "#Boxplot\n",
    "\n",
    "sns.boxplot(x=CCLoan['AMT_CREDIT'] ,y=CCLoan['LATE_PAYMENT']);\n",
    "plt.show()\n"
   ]
  },
  {
   "cell_type": "code",
   "execution_count": null,
   "id": "05515003",
   "metadata": {},
   "outputs": [],
   "source": [
    "#Task 6.0.1\n",
    "#Boxplot\n",
    "\n",
    "sns.boxplot(x=CCLoan['NAME_FAMILY_STATUS'] ,y=CCLoan['AMT_ANNUITY']);\n",
    "plt.show()\n",
    "#'AMT_CREDIT','AMT_ANNUITY','AMT_GOODS_PRICE','LATE_PAYMENT']]"
   ]
  },
  {
   "cell_type": "code",
   "execution_count": null,
   "id": "1fe66767",
   "metadata": {},
   "outputs": [],
   "source": [
    "#Task 6.0.1\n",
    "#Boxplot\n",
    "\n",
    "#aasize =(20,20)\n",
    "fig,ax=plt.subplots()\n",
    "fig.set_size_inches(20,20)\n",
    "sns.violinplot(y=CCLoan['LATE_PAYMENT'] ,x=CCLoan['NAME_INCOME_TYPE'], ax =ax );\n",
    "plt.show()"
   ]
  },
  {
   "cell_type": "code",
   "execution_count": null,
   "id": "95c516c5",
   "metadata": {},
   "outputs": [],
   "source": [
    "#Task 6.0.1\n",
    "#Boxplot\n",
    "\n",
    "#0 none latepayment, 1 latepayment\n",
    "fig,ax=plt.subplots()\n",
    "fig.set_size_inches(20,20)\n",
    "sns.violinplot(y=CCLoan['NAME_EDUCATION_TYPE'] ,x=CCLoan['LATE_PAYMENT'], ax =ax );\n",
    "plt.show()"
   ]
  },
  {
   "cell_type": "code",
   "execution_count": null,
   "id": "b5b87eb0",
   "metadata": {
    "scrolled": true
   },
   "outputs": [],
   "source": [
    "#Task 6.0.1\n",
    "#Boxplot\n",
    "\n",
    "#0 none latepayment, 1 latepayment\n",
    "fig,ax=plt.subplots()\n",
    "fig.set_size_inches(20,20)\n",
    "sns.violinplot(y=CCLoan['NAME_INCOME_TYPE'] ,x=CCLoan['LATE_PAYMENT'], ax =ax );\n",
    "plt.show()"
   ]
  },
  {
   "cell_type": "code",
   "execution_count": null,
   "id": "721826d6",
   "metadata": {},
   "outputs": [],
   "source": [
    "#Task 6.0.1\n",
    "#Boxplot\n",
    "\n",
    "#0 none latepayment, 1 latepayment\n",
    "fig,ax=plt.subplots()\n",
    "fig.set_size_inches(20,20)\n",
    "sns.violinplot(y=CCLoan['LIVE_CITY_NOT_WORK_CITY'] ,x=CCLoan['LATE_PAYMENT'], ax =ax );\n",
    "plt.show()"
   ]
  },
  {
   "cell_type": "code",
   "execution_count": null,
   "id": "eab4b5b4",
   "metadata": {},
   "outputs": [],
   "source": [
    "#Task 6.0.1\n",
    "#Boxplot\n",
    "\n",
    "#0 none latepayment, 1 latepayment\n",
    "fig,ax=plt.subplots()\n",
    "fig.set_size_inches(20,20)\n",
    "sns.violinplot(y=CCLoan['HOUSETYPE_MODE'] ,x=CCLoan['LATE_PAYMENT'], ax =ax );\n",
    "plt.show()"
   ]
  },
  {
   "cell_type": "code",
   "execution_count": null,
   "id": "62eebb18",
   "metadata": {},
   "outputs": [],
   "source": [
    "CCLoan_new=CCLoan.groupby('LATE_PAYMENT')['HOUSETYPE_MODE'].value_counts().unstack(0)\n",
    "CCLoan_new/CCLoan_new.sum() \n",
    "\n",
    "#get percentage of people who are late instead divide by row sum(total)\n",
    "\n",
    "housetype / total type of house\n",
    "\n",
    "(housetype late payment / house type  )* 100"
   ]
  },
  {
   "cell_type": "markdown",
   "id": "following-pregnancy",
   "metadata": {},
   "source": [
    "#Task 10\n",
    "it just runs and didnt graphy\n",
    "#test graph swarm plot\n",
    "sns.swarmplot(y='LATE_PAYMENT', x ='NAME_CONTRACT_TYPE', data=CCLoan)\n",
    "plt.xlabel('Type of Loan')\n",
    "plt.ylabel('Late Payment')\n",
    "plt.show()"
   ]
  },
  {
   "cell_type": "markdown",
   "id": "b9386078",
   "metadata": {},
   "source": [
    "write a comment that what the EDA information if provide.  If nothing found state that.  if something found clarify what does it mean"
   ]
  },
  {
   "cell_type": "markdown",
   "id": "aab79101",
   "metadata": {},
   "source": [
    "hypothesis test\n",
    "\n",
    "late payment (male vs female)\n",
    "flag own car\n",
    "\n",
    "\n",
    "latepayment\n",
    "flats           no flats\n",
    "\n",
    "\n",
    "group customer own flat      \n"
   ]
  }
 ],
 "metadata": {
  "kernelspec": {
   "display_name": "Python 3",
   "language": "python",
   "name": "python3"
  },
  "language_info": {
   "codemirror_mode": {
    "name": "ipython",
    "version": 3
   },
   "file_extension": ".py",
   "mimetype": "text/x-python",
   "name": "python",
   "nbconvert_exporter": "python",
   "pygments_lexer": "ipython3",
   "version": "3.8.5"
  }
 },
 "nbformat": 4,
 "nbformat_minor": 5
}
