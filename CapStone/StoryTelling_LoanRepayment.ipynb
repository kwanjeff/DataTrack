{
 "cells": [
  {
   "cell_type": "code",
   "execution_count": null,
   "id": "6cc85e11",
   "metadata": {},
   "outputs": [],
   "source": [
    "StoryTelling"
   ]
  },
  {
   "cell_type": "markdown",
   "id": "737001c5",
   "metadata": {},
   "source": [
    "copy start problem statement, where you got data \n",
    "\n",
    "data wrangling\n",
    "eda\n",
    "preprocess\n",
    "modeling"
   ]
  },
  {
   "cell_type": "markdown",
   "id": "27d3e1ed",
   "metadata": {},
   "source": [
    "issue with data cleaning"
   ]
  },
  {
   "cell_type": "markdown",
   "id": "3d42197a",
   "metadata": {},
   "source": [
    "charts"
   ]
  },
  {
   "cell_type": "markdown",
   "id": "2a2ecc7d",
   "metadata": {},
   "source": [
    "add  hypothesis test"
   ]
  },
  {
   "cell_type": "markdown",
   "id": "c889212d",
   "metadata": {},
   "source": [
    "details from model exercise"
   ]
  },
  {
   "cell_type": "code",
   "execution_count": null,
   "id": "bcdb6f9b",
   "metadata": {},
   "outputs": [],
   "source": []
  },
  {
   "cell_type": "code",
   "execution_count": null,
   "id": "33af5218",
   "metadata": {},
   "outputs": [],
   "source": []
  },
  {
   "cell_type": "code",
   "execution_count": null,
   "id": "da37757d",
   "metadata": {},
   "outputs": [],
   "source": []
  }
 ],
 "metadata": {
  "kernelspec": {
   "display_name": "Python 3",
   "language": "python",
   "name": "python3"
  },
  "language_info": {
   "codemirror_mode": {
    "name": "ipython",
    "version": 3
   },
   "file_extension": ".py",
   "mimetype": "text/x-python",
   "name": "python",
   "nbconvert_exporter": "python",
   "pygments_lexer": "ipython3",
   "version": "3.8.10"
  }
 },
 "nbformat": 4,
 "nbformat_minor": 5
}
