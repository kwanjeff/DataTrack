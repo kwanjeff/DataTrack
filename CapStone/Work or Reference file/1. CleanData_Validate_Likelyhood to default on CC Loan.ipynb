{
 "cells": [
  {
   "cell_type": "code",
   "execution_count": 1,
   "id": "respiratory-disposal",
   "metadata": {},
   "outputs": [
    {
     "ename": "KeyboardInterrupt",
     "evalue": "",
     "output_type": "error",
     "traceback": [
      "\u001b[1;31m---------------------------------------------------------------------------\u001b[0m",
      "\u001b[1;31mKeyboardInterrupt\u001b[0m                         Traceback (most recent call last)",
      "\u001b[1;32m<ipython-input-1-274dfb9374b4>\u001b[0m in \u001b[0;36m<module>\u001b[1;34m\u001b[0m\n\u001b[0;32m      1\u001b[0m \u001b[1;31m#Task 1\u001b[0m\u001b[1;33m\u001b[0m\u001b[1;33m\u001b[0m\u001b[1;33m\u001b[0m\u001b[0m\n\u001b[0;32m      2\u001b[0m \u001b[1;31m#import pandas\u001b[0m\u001b[1;33m\u001b[0m\u001b[1;33m\u001b[0m\u001b[1;33m\u001b[0m\u001b[0m\n\u001b[1;32m----> 3\u001b[1;33m \u001b[1;32mimport\u001b[0m \u001b[0mpandas\u001b[0m \u001b[1;32mas\u001b[0m \u001b[0mpd\u001b[0m\u001b[1;33m\u001b[0m\u001b[1;33m\u001b[0m\u001b[0m\n\u001b[0m\u001b[0;32m      4\u001b[0m \u001b[1;32mimport\u001b[0m \u001b[0mmatplotlib\u001b[0m\u001b[1;33m.\u001b[0m\u001b[0mpyplot\u001b[0m \u001b[1;32mas\u001b[0m \u001b[0mplt\u001b[0m\u001b[1;33m\u001b[0m\u001b[1;33m\u001b[0m\u001b[0m\n\u001b[0;32m      5\u001b[0m \u001b[1;32mfrom\u001b[0m \u001b[0mmatplotlib\u001b[0m \u001b[1;32mimport\u001b[0m \u001b[0mrcParams\u001b[0m\u001b[1;33m\u001b[0m\u001b[1;33m\u001b[0m\u001b[0m\n",
      "\u001b[1;32mD:\\ProgramData\\Anaconda3\\envs\\springboard\\lib\\site-packages\\pandas\\__init__.py\u001b[0m in \u001b[0;36m<module>\u001b[1;34m\u001b[0m\n\u001b[0;32m     49\u001b[0m \u001b[1;32mimport\u001b[0m \u001b[0mpandas\u001b[0m\u001b[1;33m.\u001b[0m\u001b[0mcore\u001b[0m\u001b[1;33m.\u001b[0m\u001b[0mconfig_init\u001b[0m\u001b[1;33m\u001b[0m\u001b[1;33m\u001b[0m\u001b[0m\n\u001b[0;32m     50\u001b[0m \u001b[1;33m\u001b[0m\u001b[0m\n\u001b[1;32m---> 51\u001b[1;33m from pandas.core.api import (\n\u001b[0m\u001b[0;32m     52\u001b[0m     \u001b[1;31m# dtype\u001b[0m\u001b[1;33m\u001b[0m\u001b[1;33m\u001b[0m\u001b[1;33m\u001b[0m\u001b[0m\n\u001b[0;32m     53\u001b[0m     \u001b[0mInt8Dtype\u001b[0m\u001b[1;33m,\u001b[0m\u001b[1;33m\u001b[0m\u001b[1;33m\u001b[0m\u001b[0m\n",
      "\u001b[1;32mD:\\ProgramData\\Anaconda3\\envs\\springboard\\lib\\site-packages\\pandas\\core\\api.py\u001b[0m in \u001b[0;36m<module>\u001b[1;34m\u001b[0m\n\u001b[0;32m     13\u001b[0m \u001b[1;33m\u001b[0m\u001b[0m\n\u001b[0;32m     14\u001b[0m \u001b[1;32mfrom\u001b[0m \u001b[0mpandas\u001b[0m\u001b[1;33m.\u001b[0m\u001b[0mcore\u001b[0m\u001b[1;33m.\u001b[0m\u001b[0malgorithms\u001b[0m \u001b[1;32mimport\u001b[0m \u001b[0mfactorize\u001b[0m\u001b[1;33m,\u001b[0m \u001b[0munique\u001b[0m\u001b[1;33m,\u001b[0m \u001b[0mvalue_counts\u001b[0m\u001b[1;33m\u001b[0m\u001b[1;33m\u001b[0m\u001b[0m\n\u001b[1;32m---> 15\u001b[1;33m \u001b[1;32mfrom\u001b[0m \u001b[0mpandas\u001b[0m\u001b[1;33m.\u001b[0m\u001b[0mcore\u001b[0m\u001b[1;33m.\u001b[0m\u001b[0marrays\u001b[0m \u001b[1;32mimport\u001b[0m \u001b[0mCategorical\u001b[0m\u001b[1;33m\u001b[0m\u001b[1;33m\u001b[0m\u001b[0m\n\u001b[0m\u001b[0;32m     16\u001b[0m \u001b[1;32mfrom\u001b[0m \u001b[0mpandas\u001b[0m\u001b[1;33m.\u001b[0m\u001b[0mcore\u001b[0m\u001b[1;33m.\u001b[0m\u001b[0marrays\u001b[0m\u001b[1;33m.\u001b[0m\u001b[0mboolean\u001b[0m \u001b[1;32mimport\u001b[0m \u001b[0mBooleanDtype\u001b[0m\u001b[1;33m\u001b[0m\u001b[1;33m\u001b[0m\u001b[0m\n\u001b[0;32m     17\u001b[0m \u001b[1;32mfrom\u001b[0m \u001b[0mpandas\u001b[0m\u001b[1;33m.\u001b[0m\u001b[0mcore\u001b[0m\u001b[1;33m.\u001b[0m\u001b[0marrays\u001b[0m\u001b[1;33m.\u001b[0m\u001b[0mfloating\u001b[0m \u001b[1;32mimport\u001b[0m \u001b[0mFloat32Dtype\u001b[0m\u001b[1;33m,\u001b[0m \u001b[0mFloat64Dtype\u001b[0m\u001b[1;33m\u001b[0m\u001b[1;33m\u001b[0m\u001b[0m\n",
      "\u001b[1;32mD:\\ProgramData\\Anaconda3\\envs\\springboard\\lib\\site-packages\\pandas\\core\\arrays\\__init__.py\u001b[0m in \u001b[0;36m<module>\u001b[1;34m\u001b[0m\n\u001b[0;32m      5\u001b[0m )\n\u001b[0;32m      6\u001b[0m \u001b[1;32mfrom\u001b[0m \u001b[0mpandas\u001b[0m\u001b[1;33m.\u001b[0m\u001b[0mcore\u001b[0m\u001b[1;33m.\u001b[0m\u001b[0marrays\u001b[0m\u001b[1;33m.\u001b[0m\u001b[0mboolean\u001b[0m \u001b[1;32mimport\u001b[0m \u001b[0mBooleanArray\u001b[0m\u001b[1;33m\u001b[0m\u001b[1;33m\u001b[0m\u001b[0m\n\u001b[1;32m----> 7\u001b[1;33m \u001b[1;32mfrom\u001b[0m \u001b[0mpandas\u001b[0m\u001b[1;33m.\u001b[0m\u001b[0mcore\u001b[0m\u001b[1;33m.\u001b[0m\u001b[0marrays\u001b[0m\u001b[1;33m.\u001b[0m\u001b[0mcategorical\u001b[0m \u001b[1;32mimport\u001b[0m \u001b[0mCategorical\u001b[0m\u001b[1;33m\u001b[0m\u001b[1;33m\u001b[0m\u001b[0m\n\u001b[0m\u001b[0;32m      8\u001b[0m \u001b[1;32mfrom\u001b[0m \u001b[0mpandas\u001b[0m\u001b[1;33m.\u001b[0m\u001b[0mcore\u001b[0m\u001b[1;33m.\u001b[0m\u001b[0marrays\u001b[0m\u001b[1;33m.\u001b[0m\u001b[0mdatetimes\u001b[0m \u001b[1;32mimport\u001b[0m \u001b[0mDatetimeArray\u001b[0m\u001b[1;33m\u001b[0m\u001b[1;33m\u001b[0m\u001b[0m\n\u001b[0;32m      9\u001b[0m \u001b[1;32mfrom\u001b[0m \u001b[0mpandas\u001b[0m\u001b[1;33m.\u001b[0m\u001b[0mcore\u001b[0m\u001b[1;33m.\u001b[0m\u001b[0marrays\u001b[0m\u001b[1;33m.\u001b[0m\u001b[0mfloating\u001b[0m \u001b[1;32mimport\u001b[0m \u001b[0mFloatingArray\u001b[0m\u001b[1;33m\u001b[0m\u001b[1;33m\u001b[0m\u001b[0m\n",
      "\u001b[1;32mD:\\ProgramData\\Anaconda3\\envs\\springboard\\lib\\site-packages\\pandas\\core\\arrays\\categorical.py\u001b[0m in \u001b[0;36m<module>\u001b[1;34m\u001b[0m\n\u001b[0;32m     46\u001b[0m \u001b[1;32mimport\u001b[0m \u001b[0mpandas\u001b[0m\u001b[1;33m.\u001b[0m\u001b[0mcore\u001b[0m\u001b[1;33m.\u001b[0m\u001b[0malgorithms\u001b[0m \u001b[1;32mas\u001b[0m \u001b[0malgorithms\u001b[0m\u001b[1;33m\u001b[0m\u001b[1;33m\u001b[0m\u001b[0m\n\u001b[0;32m     47\u001b[0m \u001b[1;32mfrom\u001b[0m \u001b[0mpandas\u001b[0m\u001b[1;33m.\u001b[0m\u001b[0mcore\u001b[0m\u001b[1;33m.\u001b[0m\u001b[0malgorithms\u001b[0m \u001b[1;32mimport\u001b[0m \u001b[0mfactorize\u001b[0m\u001b[1;33m,\u001b[0m \u001b[0mget_data_algo\u001b[0m\u001b[1;33m,\u001b[0m \u001b[0mtake_1d\u001b[0m\u001b[1;33m,\u001b[0m \u001b[0munique1d\u001b[0m\u001b[1;33m\u001b[0m\u001b[1;33m\u001b[0m\u001b[0m\n\u001b[1;32m---> 48\u001b[1;33m \u001b[1;32mfrom\u001b[0m \u001b[0mpandas\u001b[0m\u001b[1;33m.\u001b[0m\u001b[0mcore\u001b[0m\u001b[1;33m.\u001b[0m\u001b[0marrays\u001b[0m\u001b[1;33m.\u001b[0m\u001b[0m_mixins\u001b[0m \u001b[1;32mimport\u001b[0m \u001b[0mNDArrayBackedExtensionArray\u001b[0m\u001b[1;33m\u001b[0m\u001b[1;33m\u001b[0m\u001b[0m\n\u001b[0m\u001b[0;32m     49\u001b[0m \u001b[1;32mfrom\u001b[0m \u001b[0mpandas\u001b[0m\u001b[1;33m.\u001b[0m\u001b[0mcore\u001b[0m\u001b[1;33m.\u001b[0m\u001b[0mbase\u001b[0m \u001b[1;32mimport\u001b[0m \u001b[0mExtensionArray\u001b[0m\u001b[1;33m,\u001b[0m \u001b[0mNoNewAttributesMixin\u001b[0m\u001b[1;33m,\u001b[0m \u001b[0mPandasObject\u001b[0m\u001b[1;33m\u001b[0m\u001b[1;33m\u001b[0m\u001b[0m\n\u001b[0;32m     50\u001b[0m \u001b[1;32mimport\u001b[0m \u001b[0mpandas\u001b[0m\u001b[1;33m.\u001b[0m\u001b[0mcore\u001b[0m\u001b[1;33m.\u001b[0m\u001b[0mcommon\u001b[0m \u001b[1;32mas\u001b[0m \u001b[0mcom\u001b[0m\u001b[1;33m\u001b[0m\u001b[1;33m\u001b[0m\u001b[0m\n",
      "\u001b[1;32mD:\\ProgramData\\Anaconda3\\envs\\springboard\\lib\\site-packages\\pandas\\core\\arrays\\_mixins.py\u001b[0m in \u001b[0;36m<module>\u001b[1;34m\u001b[0m\n\u001b[0;32m     18\u001b[0m \u001b[1;32mfrom\u001b[0m \u001b[0mpandas\u001b[0m\u001b[1;33m.\u001b[0m\u001b[0mcore\u001b[0m \u001b[1;32mimport\u001b[0m \u001b[0mmissing\u001b[0m\u001b[1;33m\u001b[0m\u001b[1;33m\u001b[0m\u001b[0m\n\u001b[0;32m     19\u001b[0m \u001b[1;32mfrom\u001b[0m \u001b[0mpandas\u001b[0m\u001b[1;33m.\u001b[0m\u001b[0mcore\u001b[0m\u001b[1;33m.\u001b[0m\u001b[0malgorithms\u001b[0m \u001b[1;32mimport\u001b[0m \u001b[0mtake\u001b[0m\u001b[1;33m,\u001b[0m \u001b[0munique\u001b[0m\u001b[1;33m\u001b[0m\u001b[1;33m\u001b[0m\u001b[0m\n\u001b[1;32m---> 20\u001b[1;33m \u001b[1;32mfrom\u001b[0m \u001b[0mpandas\u001b[0m\u001b[1;33m.\u001b[0m\u001b[0mcore\u001b[0m\u001b[1;33m.\u001b[0m\u001b[0marray_algos\u001b[0m\u001b[1;33m.\u001b[0m\u001b[0mtransforms\u001b[0m \u001b[1;32mimport\u001b[0m \u001b[0mshift\u001b[0m\u001b[1;33m\u001b[0m\u001b[1;33m\u001b[0m\u001b[0m\n\u001b[0m\u001b[0;32m     21\u001b[0m \u001b[1;32mfrom\u001b[0m \u001b[0mpandas\u001b[0m\u001b[1;33m.\u001b[0m\u001b[0mcore\u001b[0m\u001b[1;33m.\u001b[0m\u001b[0marrays\u001b[0m\u001b[1;33m.\u001b[0m\u001b[0mbase\u001b[0m \u001b[1;32mimport\u001b[0m \u001b[0mExtensionArray\u001b[0m\u001b[1;33m\u001b[0m\u001b[1;33m\u001b[0m\u001b[0m\n\u001b[0;32m     22\u001b[0m \u001b[1;32mfrom\u001b[0m \u001b[0mpandas\u001b[0m\u001b[1;33m.\u001b[0m\u001b[0mcore\u001b[0m\u001b[1;33m.\u001b[0m\u001b[0mconstruction\u001b[0m \u001b[1;32mimport\u001b[0m \u001b[0mextract_array\u001b[0m\u001b[1;33m\u001b[0m\u001b[1;33m\u001b[0m\u001b[0m\n",
      "\u001b[1;32mD:\\ProgramData\\Anaconda3\\envs\\springboard\\lib\\importlib\\_bootstrap.py\u001b[0m in \u001b[0;36m_find_and_load\u001b[1;34m(name, import_)\u001b[0m\n",
      "\u001b[1;32mD:\\ProgramData\\Anaconda3\\envs\\springboard\\lib\\importlib\\_bootstrap.py\u001b[0m in \u001b[0;36m_find_and_load_unlocked\u001b[1;34m(name, import_)\u001b[0m\n",
      "\u001b[1;32mD:\\ProgramData\\Anaconda3\\envs\\springboard\\lib\\importlib\\_bootstrap.py\u001b[0m in \u001b[0;36m_load_unlocked\u001b[1;34m(spec)\u001b[0m\n",
      "\u001b[1;32mD:\\ProgramData\\Anaconda3\\envs\\springboard\\lib\\importlib\\_bootstrap_external.py\u001b[0m in \u001b[0;36mexec_module\u001b[1;34m(self, module)\u001b[0m\n",
      "\u001b[1;32mD:\\ProgramData\\Anaconda3\\envs\\springboard\\lib\\importlib\\_bootstrap_external.py\u001b[0m in \u001b[0;36mget_code\u001b[1;34m(self, fullname)\u001b[0m\n",
      "\u001b[1;32mD:\\ProgramData\\Anaconda3\\envs\\springboard\\lib\\importlib\\_bootstrap_external.py\u001b[0m in \u001b[0;36mget_data\u001b[1;34m(self, path)\u001b[0m\n",
      "\u001b[1;31mKeyboardInterrupt\u001b[0m: "
     ]
    }
   ],
   "source": [
    "#Task 1\n",
    "#import pandas\n",
    "import pandas as pd\n",
    "import matplotlib.pyplot as plt\n",
    "from matplotlib import rcParams\n",
    "import seaborn as sns\n",
    "import numpy as np\n",
    "import os\n",
    "import sklearn\n",
    "\n",
    "\n",
    "##import inforamtion from Kaggle \n",
    "CCLoan = pd.read_csv(r'D:\\springboard\\DataScienceGuidedCapstone\\Unit7\\DataCapstoneProject2\\ccFraudDefault\\application_data.csv',header=0)"
   ]
  },
  {
   "cell_type": "code",
   "execution_count": null,
   "id": "permanent-chart",
   "metadata": {},
   "outputs": [],
   "source": [
    "#Task 2\n",
    "#preview first 25 row to verify data was imported correctly\n",
    "\n",
    "CCLoan.head(25)"
   ]
  },
  {
   "cell_type": "code",
   "execution_count": null,
   "id": "positive-medicaid",
   "metadata": {},
   "outputs": [],
   "source": [
    "#Task 3\n",
    "#Total row of record is 307511\n",
    "CCLoan.info()\n"
   ]
  },
  {
   "cell_type": "markdown",
   "id": "comfortable-chase",
   "metadata": {},
   "source": [
    "I plan to remove columns that have more than 40% (123004) or more data missing of fill out some of the column that are avg.  "
   ]
  },
  {
   "cell_type": "code",
   "execution_count": null,
   "id": "arctic-theory",
   "metadata": {},
   "outputs": [],
   "source": [
    "#Task 3.1.0\n",
    "#see what data is null, total row is 307511 and the below is top 5 row with 214000+ rows are null\n",
    "\n",
    "aaa=CCLoan.isna().sum()\n",
    "aaa.sort_values(ascending = False).head(50)\n",
    "\n",
    "\n",
    "#COMMONAREA_MEDI             214865\n",
    "#COMMONAREA_AVG              214865\n",
    "#COMMONAREA_MODE             214865\n",
    "#NONLIVINGAPARTMENTS_MODE    213514\n",
    "#NONLIVINGAPARTMENTS_AVG     213514\n"
   ]
  },
  {
   "cell_type": "code",
   "execution_count": null,
   "id": "permanent-withdrawal",
   "metadata": {},
   "outputs": [],
   "source": [
    "#Task 3.1.1.0\n",
    "\n",
    "#drop column COMMONAREA_MEDI, COMMONAREA_AVG, COMMONAREA_MODE, NONLIVINGAPARTMENTS_MODE, NONLIVINGAPARTMENTS_AVG\n",
    "CCLoan_clean=CCLoan.drop(['COMMONAREA_MEDI','COMMONAREA_AVG','COMMONAREA_MODE','NONLIVINGAPARTMENTS_MODE','NONLIVINGAPARTMENTS_AVG'],axis=1)\n",
    "\n",
    "\n",
    "#validate columns are dropped\n",
    "#validated the columns are no longer there and now see next 5 columns\n",
    "bbb=CCLoan_clean.isna().sum()\n",
    "bbb.sort_values(ascending = False,)"
   ]
  },
  {
   "cell_type": "code",
   "execution_count": null,
   "id": "hired-baking",
   "metadata": {
    "scrolled": true
   },
   "outputs": [],
   "source": [
    "#3.1.2.0\n",
    "\n",
    "#drop column NONLIVINGAPARTMENTS_MEDI, FONDKAPREMONT_MODE, LIVINGAPARTMENTS_AVG, LIVINGAPARTMENTS_MODE, LIVINGAPARTMENTS_MEDI\n",
    "CCLoan_clean=CCLoan_clean.drop(['NONLIVINGAPARTMENTS_MEDI','FONDKAPREMONT_MODE','LIVINGAPARTMENTS_AVG','LIVINGAPARTMENTS_MODE','LIVINGAPARTMENTS_MEDI'],axis =1)\n",
    "\n",
    "#validate columns are dropped\n",
    "#validated the columns are no longer there and now see next 5 columns\n",
    "ccc=CCLoan_clean.isna().sum()\n",
    "ccc.sort_values(ascending = False,)"
   ]
  },
  {
   "cell_type": "code",
   "execution_count": null,
   "id": "considered-bangladesh",
   "metadata": {},
   "outputs": [],
   "source": [
    "#3.1.3.0\n",
    "\n",
    "#drop column FLOORSMIN_AVG, FLOORSMIN_MODE, FLOORSMIN_MEDI, YEARS_BUILD_AVG , YEARS_BUILD_MODE, \n",
    "CCLoan_clean=CCLoan_clean.drop(['FLOORSMIN_AVG','FLOORSMIN_MODE','FLOORSMIN_MEDI', 'YEARS_BUILD_AVG', 'YEARS_BUILD_MODE'],axis =1)\n",
    "\n",
    "#validate columns are dropped\n",
    "ddd=CCLoan_clean.isna().sum()\n",
    "ddd.sort_values(ascending = False,)"
   ]
  },
  {
   "cell_type": "code",
   "execution_count": null,
   "id": "nuclear-annual",
   "metadata": {},
   "outputs": [],
   "source": [
    "#3.1.4.0\n",
    "\n",
    "#drop column YEARS_BUILD_MEDI ,LANDAREA_MEDI ,LANDAREA_AVG, LANDAREA_MODE  \n",
    "# i am keeping the own car age as it could be useful to know the age of vehicle.  I notice this is NaN when they dont have a car.\n",
    "CCLoan_clean=CCLoan_clean.drop(['YEARS_BUILD_MEDI','LANDAREA_MEDI','LANDAREA_AVG','LANDAREA_MODE'],axis =1)\n",
    "\n",
    "#validate columns are dropped\n",
    "eee=CCLoan_clean.isna().sum()\n",
    "eee.sort_values(ascending = False,)"
   ]
  },
  {
   "cell_type": "code",
   "execution_count": null,
   "id": "furnished-premium",
   "metadata": {},
   "outputs": [],
   "source": [
    "#3.1.5.0\n",
    "\n",
    "#drop column BASEMENTAREA_AVG, BASEMENTAREA_MODE, BASEMENTAREA_MEDI, EXT_SOURCE_1 \n",
    "# i am keeping the own car age as it could be useful to know the age of vehicle.  I notice this is NaN when they dont have a car.\n",
    "CCLoan_clean=CCLoan_clean.drop(['BASEMENTAREA_AVG','BASEMENTAREA_MODE','BASEMENTAREA_MEDI','EXT_SOURCE_1'],axis =1)\n",
    "\n",
    "#validate columns are dropped\n",
    "aaa=CCLoan_clean.isna().sum()\n",
    "aaa.sort_values(ascending = False,)"
   ]
  },
  {
   "cell_type": "code",
   "execution_count": null,
   "id": "earned-message",
   "metadata": {},
   "outputs": [],
   "source": [
    "#3.1.6.0\n",
    "\n",
    "#drop column NONLIVINGAREA_AVG, NONLIVINGAREA_MEDI ,NONLIVINGAREA_MODE, ELEVATORS_AVG \n",
    "CCLoan_clean=CCLoan_clean.drop(['NONLIVINGAREA_AVG','NONLIVINGAREA_MEDI','NONLIVINGAREA_MODE','ELEVATORS_AVG'],axis =1)\n",
    "\n",
    "#validate columns are dropped\n",
    "aaa=CCLoan_clean.isna().sum()\n",
    "aaa.sort_values(ascending = False)"
   ]
  },
  {
   "cell_type": "code",
   "execution_count": null,
   "id": "gothic-effectiveness",
   "metadata": {},
   "outputs": [],
   "source": [
    "#3.1.7.0\n",
    "\n",
    "#drop column ELEVATORS_MEDI, ELEVATORS_MODE, WALLSMATERIAL_MODE, APARTMENTS_AVG \n",
    "CCLoan_clean=CCLoan_clean.drop(['ELEVATORS_MEDI','ELEVATORS_MODE','WALLSMATERIAL_MODE','APARTMENTS_AVG'],axis =1)\n",
    "\n",
    "#validate columns are dropped\n",
    "aaa=CCLoan_clean.isna().sum()\n",
    "aaa.sort_values(ascending = False,)"
   ]
  },
  {
   "cell_type": "code",
   "execution_count": null,
   "id": "fifteen-register",
   "metadata": {},
   "outputs": [],
   "source": [
    "#3.1.8.0\n",
    "\n",
    "#drop column APARTMENTS_MEDI, APARTMENTS_MODE, ENTRANCES_MEDI, ENTRANCES_AVG \n",
    "CCLoan_clean=CCLoan_clean.drop(['APARTMENTS_MEDI', 'APARTMENTS_MODE', 'ENTRANCES_MEDI', 'ENTRANCES_AVG'],axis =1)\n",
    "\n",
    "#validate columns are dropped\n",
    "aaa=CCLoan_clean.isna().sum()\n",
    "aaa.sort_values(ascending = False,)\n"
   ]
  },
  {
   "cell_type": "code",
   "execution_count": null,
   "id": "saved-liver",
   "metadata": {},
   "outputs": [],
   "source": [
    "#3.1.9.0\n",
    "\n",
    "#drop column ENTRANCES_MODE, LIVINGAREA_MEDI, LIVINGAREA_AVG, APARTMENTS_AVG \n",
    "CCLoan_clean=CCLoan_clean.drop(['ENTRANCES_MODE', 'LIVINGAREA_MEDI', 'LIVINGAREA_AVG', 'LIVINGAREA_MODE'],axis =1)\n",
    "\n",
    "#validate columns are dropped\n",
    "aaa=CCLoan_clean.isna().sum()\n",
    "aaa.sort_values(ascending = False,)"
   ]
  },
  {
   "cell_type": "code",
   "execution_count": null,
   "id": "competitive-progress",
   "metadata": {},
   "outputs": [],
   "source": [
    "#3.1.10.0\n",
    "\n",
    "#drop column HOUSETYPE_MODE, FLOORSMAX_AVG, FLOORSMAX_MODE, FLOORSMAX_MEDI \n",
    "CCLoan_clean=CCLoan_clean.drop(['HOUSETYPE_MODE', 'FLOORSMAX_AVG', 'FLOORSMAX_MODE', 'FLOORSMAX_MEDI'],axis =1)\n",
    "\n",
    "#validate columns are dropped\n",
    "aaa=CCLoan_clean.isna().sum()\n",
    "aaa.sort_values(ascending = False,)\n"
   ]
  },
  {
   "cell_type": "code",
   "execution_count": null,
   "id": "minor-culture",
   "metadata": {},
   "outputs": [],
   "source": [
    "#3.1.11.0\n",
    "\n",
    "#drop column YEARS_BEGINEXPLUATATION_AVG, YEARS_BEGINEXPLUATATION_MEDI, YEARS_BEGINEXPLUATATION_MODE, TOTALAREA_MODE \n",
    "CCLoan_clean=CCLoan_clean.drop(['YEARS_BEGINEXPLUATATION_AVG', 'YEARS_BEGINEXPLUATATION_MEDI', 'YEARS_BEGINEXPLUATATION_MODE', 'TOTALAREA_MODE'],axis =1)\n",
    "\n",
    "#validate columns are dropped\n",
    "aaa=CCLoan_clean.isna().sum()\n",
    "aaa.sort_values(ascending = False,)\n",
    "\n",
    "#"
   ]
  },
  {
   "cell_type": "code",
   "execution_count": null,
   "id": "communist-strap",
   "metadata": {},
   "outputs": [],
   "source": [
    "#3.1.12.0\n",
    "#dropped all columns that have atleast more than 40% data available\n",
    "#drop column YEARS_BEGINEXPLUATATION_AVG, YEARS_BEGINEXPLUATATION_MEDI, YEARS_BEGINEXPLUATATION_MODE, TOTALAREA_MODE \n",
    "#CCLoan_clean=CCLoan_clean.drop(['YEARS_BEGINEXPLUATATION_AVG', 'YEARS_BEGINEXPLUATATION_MEDI', 'YEARS_BEGINEXPLUATATION_MODE', 'TOTALAREA_MODE'],axis =1)\n",
    "\n",
    "#validate columns are dropped\n",
    "#aaa=CCLoan_clean.isna().sum()\n",
    "#aaa.sort_values(ascending = False,)"
   ]
  },
  {
   "cell_type": "code",
   "execution_count": null,
   "id": "numeric-sleeve",
   "metadata": {},
   "outputs": [],
   "source": [
    "CCLoan_clean[['EMERGENCYSTATE_MODE','OCCUPATION_TYPE','EXT_SOURCE_3','AMT_REQ_CREDIT_BUREAU_HOUR']].head(25)"
   ]
  },
  {
   "cell_type": "code",
   "execution_count": null,
   "id": "interstate-mexican",
   "metadata": {},
   "outputs": [],
   "source": []
  },
  {
   "cell_type": "code",
   "execution_count": null,
   "id": "relevant-petroleum",
   "metadata": {},
   "outputs": [],
   "source": []
  },
  {
   "cell_type": "code",
   "execution_count": null,
   "id": "distinct-microphone",
   "metadata": {},
   "outputs": [],
   "source": []
  },
  {
   "cell_type": "code",
   "execution_count": null,
   "id": "capital-russia",
   "metadata": {},
   "outputs": [],
   "source": []
  },
  {
   "cell_type": "code",
   "execution_count": null,
   "id": "jewish-leader",
   "metadata": {},
   "outputs": [],
   "source": [
    "CCLoan_clean.info()"
   ]
  },
  {
   "cell_type": "code",
   "execution_count": null,
   "id": "ideal-network",
   "metadata": {},
   "outputs": [],
   "source": []
  },
  {
   "cell_type": "code",
   "execution_count": null,
   "id": "presidential-potter",
   "metadata": {},
   "outputs": [],
   "source": []
  },
  {
   "cell_type": "code",
   "execution_count": null,
   "id": "sized-kennedy",
   "metadata": {},
   "outputs": [],
   "source": []
  },
  {
   "cell_type": "code",
   "execution_count": null,
   "id": "aging-transaction",
   "metadata": {},
   "outputs": [],
   "source": []
  },
  {
   "cell_type": "code",
   "execution_count": null,
   "id": "exempt-opposition",
   "metadata": {},
   "outputs": [],
   "source": []
  },
  {
   "cell_type": "code",
   "execution_count": null,
   "id": "premium-pursuit",
   "metadata": {},
   "outputs": [],
   "source": [
    "#Task 4\n",
    "#rename certian column to be more readable\n",
    "CCLoan.rename(columns={'SK_ID_CURR':'CLIENTID','TARGET':'LATE_PAYMENT'},inplace = True)\n"
   ]
  },
  {
   "cell_type": "code",
   "execution_count": null,
   "id": "empty-desktop",
   "metadata": {},
   "outputs": [],
   "source": [
    "#Task 5\n",
    "CCLoan.head(25)\n"
   ]
  },
  {
   "cell_type": "code",
   "execution_count": null,
   "id": "thirty-might",
   "metadata": {},
   "outputs": [],
   "source": [
    "#Task 5.1\n",
    "CCLoan.describe()\n"
   ]
  },
  {
   "cell_type": "code",
   "execution_count": null,
   "id": "substantial-republican",
   "metadata": {},
   "outputs": [],
   "source": [
    "\n"
   ]
  },
  {
   "cell_type": "code",
   "execution_count": null,
   "id": "super-orange",
   "metadata": {},
   "outputs": [],
   "source": []
  },
  {
   "cell_type": "code",
   "execution_count": null,
   "id": "coupled-associate",
   "metadata": {},
   "outputs": [],
   "source": []
  },
  {
   "cell_type": "code",
   "execution_count": null,
   "id": "duplicate-immunology",
   "metadata": {},
   "outputs": [],
   "source": []
  },
  {
   "cell_type": "code",
   "execution_count": null,
   "id": "nearby-implement",
   "metadata": {},
   "outputs": [],
   "source": []
  },
  {
   "cell_type": "code",
   "execution_count": null,
   "id": "impaired-scratch",
   "metadata": {},
   "outputs": [],
   "source": []
  },
  {
   "cell_type": "markdown",
   "id": "pending-failure",
   "metadata": {},
   "source": [
    "In this section 5.2.x i will look at each of the 122 column and see the number null value.  It will be better if most columns are not null and have NaN"
   ]
  },
  {
   "cell_type": "code",
   "execution_count": null,
   "id": "beneficial-bankruptcy",
   "metadata": {},
   "outputs": [],
   "source": [
    "#Task 5.2.1\n",
    "#Checking first 1-13 column of missing data \n",
    "\n",
    "CC_Late = CCLoan['LATE_PAYMENT'].isnull()\n",
    "print ('Late Payment Missing: '+str(CC_Late.sum()))\n",
    "\n",
    "CC_CONTRACT = CCLoan['NAME_CONTRACT_TYPE'].isnull()\n",
    "print ('Contract Type Missing: '+str(CC_CONTRACT.sum()))\n",
    "\n",
    "CC_GENDER=CCLoan['CODE_GENDER'].isnull()\n",
    "print ('Gender Missing: '+str(CC_GENDER.sum()))\n",
    "\n",
    "CC_OWNCAR=CCLoan['FLAG_OWN_CAR'].isnull()\n",
    "print ('Own Car Missing: '+str(CC_OWNCAR.sum()))\n",
    "\n",
    "CC_OWNREALITY=CCLoan['FLAG_OWN_REALTY'].isnull()\n",
    "print ('Own Reality Missing: '+str(CC_OWNREALITY.sum()))\n",
    "\n",
    "CC_CHILD =CCLoan['CNT_CHILDREN'].isnull()\n",
    "print ('Own Reality Missing: '+str(CC_OWNREALITY.sum()))\n",
    "\n",
    "CC_INCOME=CCLoan['AMT_INCOME_TOTAL'].isnull()\n",
    "print ('Own Reality Missing: '+str(CC_INCOME.sum()))\n",
    "\n",
    "CC_CREDIT=CCLoan['AMT_CREDIT'].isnull()\n",
    "print ('Own Reality Missing: '+str(CC_CREDIT.sum()))\n",
    "\n",
    "CC_ANNUITY=CCLoan['AMT_ANNUITY'].isnull()\n",
    "print ('Annuity Missing: '+str(CC_ANNUITY.sum()))\n",
    "\n",
    "CC_GOODSPRICE=CCLoan['AMT_GOODS_PRICE'].isnull()\n",
    "print ('Goods Price Missing: '+str(CC_GOODSPRICE.sum()))\n",
    "\n",
    "\n"
   ]
  },
  {
   "cell_type": "code",
   "execution_count": null,
   "id": "unique-england",
   "metadata": {},
   "outputs": [],
   "source": [
    "#Task 5.2.1.1\n",
    "#show the 12 AMT_ANNUITY is missing. \n",
    "#Looking at data says it is NaN.  So it is fine\n",
    "CC_ANNUITY1 = CCLoan.loc[CCLoan['AMT_ANNUITY'].isnull()]\n",
    "CC_ANNUITY1 [['CLIENTID','AMT_INCOME_TOTAL','AMT_CREDIT','AMT_ANNUITY','AMT_GOODS_PRICE']].head(25)"
   ]
  },
  {
   "cell_type": "code",
   "execution_count": null,
   "id": "cardiac-inflation",
   "metadata": {},
   "outputs": [],
   "source": [
    "#Task 5.2.1.2\n",
    "#It is not missing only NaN\n",
    "CC_GOODSPRICE1= CCLoan.loc[CCLoan['AMT_GOODS_PRICE'].isnull()]\n",
    "CC_GOODSPRICE1 [['CLIENTID','AMT_INCOME_TOTAL','AMT_CREDIT','AMT_ANNUITY','AMT_GOODS_PRICE']].head(25)\n",
    "#check if there is zero price(mean price) and price likely 0"
   ]
  },
  {
   "cell_type": "code",
   "execution_count": null,
   "id": "circular-hamilton",
   "metadata": {},
   "outputs": [],
   "source": [
    "#Task 5.2.2\n",
    "#Checking next 14-23 column of missing data \n",
    "\n",
    "CC_TYPESUIT = CCLoan['NAME_TYPE_SUITE'].isnull()\n",
    "print ('NAME_TYPE_SUITE: '+str(CC_TYPESUIT.sum()))\n",
    "\n",
    "CC_INCOMETYPE = CCLoan['NAME_INCOME_TYPE'].isnull()\n",
    "print ('NAME_INCOME_TYPE Missing: '+str(CC_INCOMETYPE.sum()))\n",
    "\n",
    "CC_EDUCATIONTYPE=CCLoan['NAME_EDUCATION_TYPE'].isnull()\n",
    "print ('NAME_EDUCATION_TYPE Missing: '+str(CC_EDUCATIONTYPE.sum()))\n",
    "\n",
    "CC_FAMILY=CCLoan['NAME_FAMILY_STATUS'].isnull()\n",
    "print ('NAME_FAMILY_STATUS Missing: '+str(CC_FAMILY.sum()))\n",
    "\n",
    "CC_HOUSETYPE=CCLoan['NAME_HOUSING_TYPE'].isnull()\n",
    "print ('NAME_HOUSING_TYPE Missing: '+str(CC_HOUSETYPE.sum()))\n",
    "\n",
    "CC_REGION_POPULATION =CCLoan['REGION_POPULATION_RELATIVE'].isnull()\n",
    "print ('REGION_POPULATION_RELATIVE Missing: '+str(CC_REGION_POPULATION.sum()))\n",
    "\n",
    "CC_DAYSBIRTH=CCLoan['DAYS_BIRTH'].isnull()\n",
    "print ('DAYS_BIRTH Missing: '+str(CC_DAYSBIRTH.sum()))\n",
    "\n",
    "CC_EMPLOYED=CCLoan['DAYS_EMPLOYED'].isnull()\n",
    "print ('DAYS_EMPLOYED Missing: '+str(CC_EMPLOYED.sum()))\n",
    "\n",
    "CC_ANNUITY=CCLoan['DAYS_REGISTRATION'].isnull()\n",
    "print ('ANNUITY Missing: '+str(CC_ANNUITY.sum()))\n",
    "\n",
    "CC_GOODSPRICE=CCLoan['DAYS_ID_PUBLISH'].isnull()\n",
    "print ('Goods Price Missing: '+str(CC_GOODSPRICE.sum()))"
   ]
  },
  {
   "cell_type": "code",
   "execution_count": null,
   "id": "optimum-panama",
   "metadata": {},
   "outputs": [],
   "source": [
    "#Task 5.2.2.1\n",
    "#It is not missing only NaN because maybe no one came with them to borrow loan\n",
    "CC_NAMETYPE1= CCLoan.loc[CCLoan['NAME_TYPE_SUITE'].isnull()]\n",
    "CC_NAMETYPE1 [['CLIENTID','AMT_INCOME_TOTAL','AMT_CREDIT','AMT_ANNUITY','NAME_TYPE_SUITE']].head(25)\n",
    "#rename "
   ]
  },
  {
   "cell_type": "code",
   "execution_count": null,
   "id": "little-garden",
   "metadata": {},
   "outputs": [],
   "source": [
    "#Task 5.2.3\n",
    "#Checking next 24-33 column of missing data \n",
    "\n",
    "CC_CARAGE = CCLoan['OWN_CAR_AGE'].isnull()\n",
    "print ('OWN_CAR_AGE Missing: '+str(CC_CARAGE.sum()))\n",
    "\n",
    "CC_MOBIL = CCLoan['FLAG_MOBIL'].isnull()\n",
    "print ('CC_MOBIL Missing: '+str(CC_MOBIL.sum()))\n",
    "\n",
    "CC_EMPPHONE=CCLoan['FLAG_EMP_PHONE'].isnull()\n",
    "print ('CC_EMPPHONE Missing: '+str(CC_EMPPHONE.sum()))\n",
    "\n",
    "CC_WORKPHONE=CCLoan['FLAG_WORK_PHONE'].isnull()\n",
    "print ('CC_WORKPHONE: '+str(CC_WORKPHONE.sum()))\n",
    "\n",
    "CC_CONTMOBILE=CCLoan['FLAG_CONT_MOBILE'].isnull()\n",
    "print ('CC_CONTMOBILE Missing: '+str(CC_CONTMOBILE.sum()))\n",
    "\n",
    "CC_PHONE =CCLoan['FLAG_PHONE'].isnull()\n",
    "print ('CC_PHONE Missing: '+str(CC_PHONE.sum()))\n",
    "\n",
    "CC_EMAIL=CCLoan['FLAG_EMAIL'].isnull()\n",
    "print ('CC_EMAIL Missing: '+str(CC_EMAIL.sum()))\n",
    "\n",
    "CC_OCCUPATIONTYPE=CCLoan['OCCUPATION_TYPE'].isnull()\n",
    "print ('CC_OCCUPATIONTYPE Missing: '+str(CC_OCCUPATIONTYPE.sum()))\n",
    "\n",
    "CC_FAMMEMEBER=CCLoan['CNT_FAM_MEMBERS'].isnull()\n",
    "print ('CC_FAMMEMEBER Missing: '+str(CC_FAMMEMEBER.sum()))\n",
    "\n",
    "CC_CLIENTRATING=CCLoan['REGION_RATING_CLIENT'].isnull()\n",
    "print ('CC_CLIENTRATING Missing: '+str(CC_CLIENTRATING.sum()))"
   ]
  },
  {
   "cell_type": "code",
   "execution_count": null,
   "id": "numerical-episode",
   "metadata": {},
   "outputs": [],
   "source": [
    "#Task 5.2.3.1\n",
    "#It is not missing only NaN because maybe no one came with them to borrow loan\n",
    "CC_OWN_CAR_AGE1= CCLoan.loc[CCLoan['OWN_CAR_AGE'].isnull()]\n",
    "CC_OWN_CAR_AGE1 [['CLIENTID','AMT_INCOME_TOTAL','AMT_CREDIT','AMT_ANNUITY','OWN_CAR_AGE']].head(25)"
   ]
  },
  {
   "cell_type": "code",
   "execution_count": null,
   "id": "modular-leader",
   "metadata": {},
   "outputs": [],
   "source": [
    "#Task 5.2.3.2\n",
    "#It is not missing only NaN because maybe no one came with them to borrow loan\n",
    "CC_OCCUPATION_TYPE1= CCLoan.loc[CCLoan['OCCUPATION_TYPE'].isnull()]\n",
    "CC_OCCUPATION_TYPE1 [['CLIENTID','AMT_INCOME_TOTAL','AMT_CREDIT','AMT_ANNUITY','OCCUPATION_TYPE']].head(25)\n"
   ]
  },
  {
   "cell_type": "code",
   "execution_count": null,
   "id": "twelve-tender",
   "metadata": {},
   "outputs": [],
   "source": [
    "#Task 5.2.3.3\n",
    "#It is not missing only NaN because maybe no one came with them to borrow loan\n",
    "CC_CLIENTRATING1= CCLoan.loc[CCLoan['REGION_RATING_CLIENT'].isnull()]\n",
    "CC_CLIENTRATING1 [['CLIENTID','AMT_INCOME_TOTAL','AMT_CREDIT','AMT_ANNUITY','REGION_RATING_CLIENT']].head(25)"
   ]
  },
  {
   "cell_type": "code",
   "execution_count": null,
   "id": "exact-electron",
   "metadata": {},
   "outputs": [],
   "source": [
    "\n",
    "#Task 5.2.4\n",
    "#Checking next 34-43 column of missing data \n",
    "\n",
    "CC_CLIENTCITYRATING = CCLoan['REGION_RATING_CLIENT_W_CITY'].isnull()\n",
    "print ('CC_CLIENTCITYRATING Missing: '+str(CC_CLIENTCITYRATING.sum()))\n",
    "\n",
    "CC_WEEKDAY_APPR = CCLoan['WEEKDAY_APPR_PROCESS_START'].isnull()\n",
    "print ('CC_WEEKDAY_APPR Missing: '+str(CC_WEEKDAY_APPR.sum()))\n",
    "\n",
    "CC_HOUR_APPR=CCLoan['HOUR_APPR_PROCESS_START'].isnull()\n",
    "print ('Gender Missing: '+str(CC_HOUR_APPR.sum()))\n",
    "\n",
    "CC_REGNOTLIVE=CCLoan['REG_REGION_NOT_LIVE_REGION'].isnull()\n",
    "print ('CC_HOUR_APPR Missing: '+str(CC_REGNOTLIVE.sum()))\n",
    "\n",
    "CC_REGIONNOTWORK=CCLoan['REG_REGION_NOT_WORK_REGION'].isnull()\n",
    "print ('CC_REGIONNOTWORK Missing: '+str(CC_OWNREALITY.sum()))\n",
    "\n",
    "CC_LIVEREGION =CCLoan['LIVE_REGION_NOT_WORK_REGION'].isnull()\n",
    "print ('CC_LIVEREGION Missing: '+str(CC_OWNREALITY.sum()))\n",
    "\n",
    "CC_CITYNOTLIVE=CCLoan['REG_CITY_NOT_LIVE_CITY'].isnull()\n",
    "print ('CC_CITYNOTLIVE Missing: '+str(CC_INCOME.sum()))\n",
    "\n",
    "CC_CITYNOTWORK=CCLoan['REG_CITY_NOT_WORK_CITY'].isnull()\n",
    "print ('CC_CITYNOTWORK Missing: '+str(CC_CREDIT.sum()))\n",
    "\n",
    "CC_LIVECITY=CCLoan['LIVE_CITY_NOT_WORK_CITY'].isnull()\n",
    "print ('CC_LIVECITY Missing: '+str(CC_ANNUITY.sum()))\n",
    "\n",
    "CC_GOODSPRICE=CCLoan['ORGANIZATION_TYPE'].isnull()\n",
    "print ('CC_GOODSPRICE Missing: '+str(CC_GOODSPRICE.sum()))\n"
   ]
  },
  {
   "cell_type": "code",
   "execution_count": null,
   "id": "false-aviation",
   "metadata": {},
   "outputs": [],
   "source": [
    "\n"
   ]
  },
  {
   "cell_type": "code",
   "execution_count": null,
   "id": "thick-antarctica",
   "metadata": {},
   "outputs": [],
   "source": [
    "#Task 5.2.5\n",
    "#Checking COLUMN \n",
    "\n",
    "\n",
    "CC_EXT_SOURCE_1 = CCLoan['EXT_SOURCE_1'].isnull()\n",
    "print ('EXT_SOURCE_1 Missing: '+str(CC_Late.sum()))\n",
    "\n",
    "CC_EXT_SOURCE_2 = CCLoan['EXT_SOURCE_2'].isnull()\n",
    "print ('EXT_SOURCE_2 Missing: '+str(CC_CONTRACT.sum()))\n",
    "\n",
    "EXT_SOURCE_3=CCLoan['EXT_SOURCE_3'].isnull()\n",
    "print ('EXT_SOURCE_3 Missing: '+str(CC_GENDER.sum()))\n",
    "\n",
    "CC_APARTMENTS_AVG=CCLoan['APARTMENTS_AVG'].isnull()\n",
    "print ('APARTMENTS_AVG Missing: '+str(CC_OWNCAR.sum()))\n",
    "\n",
    "CC_BASEMENTAREA_AVG=CCLoan['BASEMENTAREA_AVG'].isnull()\n",
    "print ('BASEMENTAREA_AVG Missing: '+str(CC_OWNREALITY.sum()))\n",
    "\n",
    "CC_DAYS_LAST_PHONE_CHANGE=CCLoan['DAYS_LAST_PHONE_CHANGE'].isnull()\n",
    "print ('DAYS_LAST_PHONE_CHANGE Missing: '+str(CC_DAYS_LAST_PHONE_CHANGE.sum()))\n",
    "\n",
    "#CC_CHILD =CCLoan['LIVE_REGION_NOT_WORK_REGION'].isnull()\n",
    "#print ('Own Reality Missing: '+str(CC_OWNREALITY.sum()))\n",
    "\n",
    "CC_CREDITMONTH=CCLoan['AMT_REQ_CREDIT_BUREAU_MON'].isnull()\n",
    "print ('Credit Month Missing: '+str(CC_CREDITMONTH.sum()))\n",
    "\n",
    "CC_CREDITQRT=CCLoan['AMT_REQ_CREDIT_BUREAU_QRT'].isnull()\n",
    "print ('Credit Quarter Missing: '+str(CC_CREDIT.sum()))\n",
    "\n",
    "CC_CREDITYEAR=CCLoan['AMT_REQ_CREDIT_BUREAU_YEAR'].isnull()\n",
    "print ('Credit Year Missing: '+str(CC_CREDITYEAR.sum()))\n",
    "\n",
    "\n",
    "\n"
   ]
  },
  {
   "cell_type": "code",
   "execution_count": null,
   "id": "future-cisco",
   "metadata": {},
   "outputs": [],
   "source": []
  },
  {
   "cell_type": "code",
   "execution_count": null,
   "id": "practical-houston",
   "metadata": {},
   "outputs": [],
   "source": [
    "CCLoan['FLAG_OWN_CAR'].count()"
   ]
  },
  {
   "cell_type": "code",
   "execution_count": null,
   "id": "established-accountability",
   "metadata": {},
   "outputs": [],
   "source": [
    "LatePay= CCLoan.loc[CCLoan['LATE_PAYMENT']==1]\n",
    "NoLate = CCLoan.loc[CCLoan['LATE_PAYMENT']==0]"
   ]
  },
  {
   "cell_type": "code",
   "execution_count": null,
   "id": "major-burner",
   "metadata": {},
   "outputs": [],
   "source": [
    "#percent of people who are late vs nonlate on cc payment\n",
    "print ('% of Late Payment : ' +str(len(LatePay['CLIENTID'])/len(CCLoan['CLIENTID'])*100))\n",
    "print ('% in good standing : ' +str(len(NoLate['CLIENTID'])/len(CCLoan['CLIENTID'])*100))\n",
    "\n",
    "\n",
    "#there is a 8% default on credit\n"
   ]
  },
  {
   "cell_type": "code",
   "execution_count": null,
   "id": "green-mississippi",
   "metadata": {},
   "outputs": [],
   "source": [
    "NoLate"
   ]
  },
  {
   "cell_type": "code",
   "execution_count": null,
   "id": "retained-humanitarian",
   "metadata": {},
   "outputs": [],
   "source": [
    "#Task 6.1\n",
    "#Find what is percentage who is Late Payment that owns a car\n",
    "\n",
    "owncar_LatePayment=(len(LatePay[LatePay['FLAG_OWN_CAR']=='Y']))/len(LatePay['FLAG_OWN_CAR'])*100\n",
    "print ('% whom has defaulted: '+ str(owncar_LatePayment))\n",
    "\n",
    "\n",
    "owncar_NoLate=(len(NoLate[NoLate['FLAG_OWN_CAR']=='Y']))/len(NoLate['FLAG_OWN_CAR'])*100\n",
    "print('% that has not defaulted : '+ str(owncar_NoLate))\n",
    "\n",
    "\n",
    "#there is a 4% difference where person who owns car that didnt default as to to whom has"
   ]
  },
  {
   "cell_type": "code",
   "execution_count": null,
   "id": "bulgarian-chess",
   "metadata": {},
   "outputs": [],
   "source": [
    "Reality\n",
    "No Reality"
   ]
  },
  {
   "cell_type": "code",
   "execution_count": null,
   "id": "viral-model",
   "metadata": {},
   "outputs": [],
   "source": [
    "#Task 6.2\n",
    "#Find what is percentage who is Late Payment that owns reality\n",
    "\n",
    "owncar_LatePayment=(len(LatePay[LatePay['FLAG_OWN_CAR']=='Y']))/len(LatePay['FLAG_OWN_CAR'])*100\n",
    "print ('% whom has defaulted: '+ str(owncar_LatePayment))\n",
    "\n",
    "\n",
    "owncar_NoLate=(len(NoLate[NoLate['FLAG_OWN_CAR']=='Y']))/len(NoLate['FLAG_OWN_CAR'])*100\n",
    "print('% that has not defaulted : '+ str(owncar_NoLate))\n",
    "\n"
   ]
  },
  {
   "cell_type": "markdown",
   "id": "animated-aquatic",
   "metadata": {},
   "source": [
    "\n",
    "\n"
   ]
  },
  {
   "cell_type": "code",
   "execution_count": null,
   "id": "governing-glance",
   "metadata": {},
   "outputs": [],
   "source": []
  },
  {
   "cell_type": "code",
   "execution_count": null,
   "id": "pregnant-combination",
   "metadata": {},
   "outputs": [],
   "source": []
  },
  {
   "cell_type": "code",
   "execution_count": null,
   "id": "tired-instrument",
   "metadata": {},
   "outputs": [],
   "source": []
  },
  {
   "cell_type": "code",
   "execution_count": null,
   "id": "fossil-variety",
   "metadata": {},
   "outputs": [],
   "source": []
  },
  {
   "cell_type": "code",
   "execution_count": null,
   "id": "massive-kingdom",
   "metadata": {},
   "outputs": [],
   "source": []
  },
  {
   "cell_type": "code",
   "execution_count": null,
   "id": "pretty-sampling",
   "metadata": {},
   "outputs": [],
   "source": []
  },
  {
   "cell_type": "code",
   "execution_count": null,
   "id": "fifteen-bumper",
   "metadata": {},
   "outputs": [],
   "source": [
    "#\n",
    "#should do a graph of client ID vs the amount AMT_GOOD_PRICE / AMT_CREDIT"
   ]
  },
  {
   "cell_type": "code",
   "execution_count": null,
   "id": "underlying-equipment",
   "metadata": {},
   "outputs": [],
   "source": [
    "#\n",
    "#should do a graph of client ID vs the amount AMT_CREDIT / AMT_INCOME_TOTAL"
   ]
  },
  {
   "cell_type": "code",
   "execution_count": null,
   "id": "golden-treasurer",
   "metadata": {},
   "outputs": [],
   "source": [
    "#Task x.6.5\n",
    "#total people with cars and then information if they are late or not late on payment\n",
    "car_owners = CCLoan[CCLoan['FLAG_OWN_CAR']== 'Y']\n",
    "car_owner_T = car_owners[car_owners['LATE_PAYMENT']== 1]\n",
    "car_owner_NT = car_owners[car_owners['LATE_PAYMENT']== 0]\n",
    "print('Total Count:    '+ str(car_owners['LATE_PAYMENT'].count()))  #.sum() properway\n",
    "print('LatePayment:    '+ str(car_owner_T['LATE_PAYMENT'].count()))\n",
    "print('No LatePayment: '+ str(car_owner_NT['LATE_PAYMENT'].count()))"
   ]
  },
  {
   "cell_type": "code",
   "execution_count": null,
   "id": "electronic-discipline",
   "metadata": {},
   "outputs": [],
   "source": [
    "#Task 6\n",
    "#Find the % that is late vs not late\n",
    "#8.1 % of total client is late\n",
    "VS = (Late['CLIENTID'].count() / CCLoan['CLIENTID'].count())*100\n",
    "\n",
    "print(VS)\n"
   ]
  },
  {
   "cell_type": "code",
   "execution_count": null,
   "id": "injured-consent",
   "metadata": {},
   "outputs": [],
   "source": [
    "#Task 7\n",
    "#get a list of clients who have a late installment\n",
    "Late = CCLoan.loc[CCLoan['LATE_PAYMENT']. isin([1])]"
   ]
  },
  {
   "cell_type": "code",
   "execution_count": null,
   "id": "impaired-maine",
   "metadata": {},
   "outputs": [],
   "source": [
    "#Task 8\n",
    "#count number of Target are late ---24825 is the output\n",
    "Late.count()"
   ]
  },
  {
   "cell_type": "code",
   "execution_count": null,
   "id": "simple-wallpaper",
   "metadata": {
    "scrolled": true
   },
   "outputs": [],
   "source": [
    "#Task 9\n",
    "#try to find relationship where \n",
    "Late.head(25)\n"
   ]
  },
  {
   "cell_type": "code",
   "execution_count": null,
   "id": "controlling-project",
   "metadata": {},
   "outputs": [],
   "source": [
    "#Task 10\n",
    "Late[['CLIENTID','AMT_INCOME_TOTAL','AMT_CREDIT','AMT_ANNUITY','AMT_GOODS_PRICE']].head(25)"
   ]
  },
  {
   "cell_type": "code",
   "execution_count": null,
   "id": "affecting-census",
   "metadata": {},
   "outputs": [],
   "source": [
    "#Task 11\n",
    "Late.describe()"
   ]
  },
  {
   "cell_type": "code",
   "execution_count": null,
   "id": "congressional-truth",
   "metadata": {},
   "outputs": [],
   "source": [
    "#Task 21\n",
    "#put non late payment into another DF so I can graph the latepayment vs income\n",
    "NonLate = CCLoan.loc[CCLoan['LATE_PAYMENT']. isin([0])]"
   ]
  },
  {
   "cell_type": "code",
   "execution_count": null,
   "id": "civilian-assist",
   "metadata": {},
   "outputs": [],
   "source": [
    "CCLoan[['CLIENTID','LATE_PAYMENT','AMT_INCOME_TOTAL','AMT_CREDIT','AMT_ANNUITY','AMT_GOODS_PRICE','FLAG_OWN_CAR']].head(25)"
   ]
  },
  {
   "cell_type": "markdown",
   "id": "specific-bathroom",
   "metadata": {},
   "source": [
    "#Task 22\n",
    "#graph amt_credit vs amt_annuity\n",
    "\n",
    "y = NonLate['AMT_CREDIT']\n",
    "y2 = NonLate['AMT_ANNUITY']\n",
    "\n",
    "x = NonLate ['CLIENT']\n",
    "fig = plt.figure()\n",
    "ax = plt.subplot()\n",
    "ax.plot(x, y, label='Credit Amount')\n",
    "ax.plot(x, y2, label='Loan Payment')\n",
    "plt.title('Legend inside')\n",
    "ax.legend()\n"
   ]
  },
  {
   "cell_type": "code",
   "execution_count": null,
   "id": "bright-parent",
   "metadata": {},
   "outputs": [],
   "source": [
    "#GRAPH target vs points FLAG_OWN_CAR, FLAG_OWN_REALTY\n",
    "\n",
    "\n"
   ]
  },
  {
   "cell_type": "code",
   "execution_count": null,
   "id": "flying-qatar",
   "metadata": {},
   "outputs": [],
   "source": []
  },
  {
   "cell_type": "code",
   "execution_count": null,
   "id": "basic-bathroom",
   "metadata": {},
   "outputs": [],
   "source": [
    "#Task 1000\n",
    "#testsplit  dataset\n",
    "from sklearn.model_selection import train_test_split\n",
    "\n",
    "train_test_split(x,y,test_size = .2)"
   ]
  }
 ],
 "metadata": {
  "kernelspec": {
   "display_name": "Python 3",
   "language": "python",
   "name": "python3"
  },
  "language_info": {
   "codemirror_mode": {
    "name": "ipython",
    "version": 3
   },
   "file_extension": ".py",
   "mimetype": "text/x-python",
   "name": "python",
   "nbconvert_exporter": "python",
   "pygments_lexer": "ipython3",
   "version": "3.8.10"
  }
 },
 "nbformat": 4,
 "nbformat_minor": 5
}
